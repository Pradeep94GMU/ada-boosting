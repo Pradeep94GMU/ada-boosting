{
 "cells": [
  {
   "cell_type": "code",
   "execution_count": 479,
   "metadata": {
    "collapsed": true,
    "pycharm": {
     "name": "#%%\n"
    }
   },
   "outputs": [],
   "source": [
    "import math\n",
    "import random\n",
    "import tensorflow as tf\n",
    "import pandas as pd\n",
    "import numpy as np\n",
    "import matplotlib.pyplot as plt\n",
    "import imblearn"
   ]
  },
  {
   "cell_type": "code",
   "execution_count": 480,
   "outputs": [
    {
     "name": "stdout",
     "output_type": "stream",
     "text": [
      "2.10.0\n"
     ]
    }
   ],
   "source": [
    "print(tf.__version__)"
   ],
   "metadata": {
    "collapsed": false,
    "pycharm": {
     "name": "#%%\n"
    }
   }
  },
  {
   "cell_type": "code",
   "execution_count": 481,
   "outputs": [],
   "source": [
    "table = pd.read_table('./1663769555_8559356_train.txt', names=['binding','sequence'])"
   ],
   "metadata": {
    "collapsed": false,
    "pycharm": {
     "name": "#%%\n"
    }
   }
  },
  {
   "cell_type": "code",
   "execution_count": 482,
   "outputs": [],
   "source": [
    "from sklearn.feature_extraction.text import CountVectorizer\n",
    "def return_binary_vectorized_form(data_frame):\n",
    "    count_vectorizer = CountVectorizer(binary=True)\n",
    "    fitted_and_transformed = count_vectorizer.fit_transform(data_frame).toarray()\n",
    "    return count_vectorizer,  fitted_and_transformed"
   ],
   "metadata": {
    "collapsed": false,
    "pycharm": {
     "name": "#%%\n"
    }
   }
  },
  {
   "cell_type": "code",
   "execution_count": 483,
   "outputs": [],
   "source": [
    "from sklearn.model_selection import train_test_split\n",
    "active_df = table.loc[table.binding == 1]\n",
    "not_active_df = table.loc[table.binding == 0]\n",
    "# Mainly spliting the data here for testing, that is the reason train size is set to .20\n",
    "active_train, active_test, active_binding_train, active_binding_test = train_test_split(active_df.sequence, active_df.binding, shuffle=True, train_size= .20)\n",
    "not_active_train, not_active_test, not_active_binding_train, not_active_binding_test = train_test_split(not_active_df.sequence, not_active_df.binding, shuffle=True, train_size=.90)"
   ],
   "metadata": {
    "collapsed": false,
    "pycharm": {
     "name": "#%%\n"
    }
   }
  },
  {
   "cell_type": "code",
   "execution_count": 484,
   "outputs": [],
   "source": [
    "active_test_df = pd.DataFrame(active_test)\n",
    "active_binding_test_df = pd.DataFrame(active_binding_test)\n",
    "active_test_df['binding'] = active_binding_test_df['binding']"
   ],
   "metadata": {
    "collapsed": false,
    "pycharm": {
     "name": "#%%\n"
    }
   }
  },
  {
   "cell_type": "code",
   "execution_count": 485,
   "outputs": [],
   "source": [
    "not_active_test_df = pd.DataFrame(not_active_test)\n",
    "not_active_binding_test_df = pd.DataFrame(not_active_binding_test)\n",
    "not_active_test_df['binding'] = not_active_binding_test_df['binding']"
   ],
   "metadata": {
    "collapsed": false,
    "pycharm": {
     "name": "#%%\n"
    }
   }
  },
  {
   "cell_type": "code",
   "execution_count": 486,
   "outputs": [
    {
     "name": "stdout",
     "output_type": "stream",
     "text": [
      "0    73\n",
      "1    63\n",
      "Name: binding, dtype: int64\n"
     ]
    }
   ],
   "source": [
    "test_df = pd.concat([active_test_df,not_active_test_df]).reset_index()\n",
    "test_df = test_df.drop('index',axis=1)\n",
    "print(test_df.binding.value_counts())"
   ],
   "metadata": {
    "collapsed": false,
    "pycharm": {
     "name": "#%%\n"
    }
   }
  },
  {
   "cell_type": "code",
   "execution_count": 487,
   "outputs": [],
   "source": [
    "from imblearn.over_sampling import RandomOverSampler\n",
    "sampler = RandomOverSampler()\n",
    "x_sampled, y_sampled = sampler.fit_resample(np.array(table.sequence).reshape(-1,1),table.binding)"
   ],
   "metadata": {
    "collapsed": false,
    "pycharm": {
     "name": "#%%\n"
    }
   }
  },
  {
   "cell_type": "code",
   "execution_count": 488,
   "outputs": [
    {
     "name": "stdout",
     "output_type": "stream",
     "text": [
      "0    722\n",
      "1    722\n",
      "Name: binding, dtype: int64\n",
      "0    73\n",
      "1    63\n",
      "Name: binding, dtype: int64\n"
     ]
    }
   ],
   "source": [
    "final_train_set = pd.DataFrame(x_sampled, columns  =[\"sequence\"])\n",
    "final_train_set['binding'] = y_sampled\n",
    "print(final_train_set.binding.value_counts())\n",
    "\n",
    "final_test_set = pd.DataFrame(test_df.sequence, columns  =[\"sequence\"])\n",
    "final_test_set['binding'] = test_df.binding\n",
    "print(final_test_set.binding.value_counts())"
   ],
   "metadata": {
    "collapsed": false,
    "pycharm": {
     "name": "#%%\n"
    }
   }
  },
  {
   "cell_type": "code",
   "execution_count": 489,
   "outputs": [],
   "source": [
    "vectorizer_best, training_split = return_binary_vectorized_form(final_train_set.sequence)\n",
    "test_split = vectorizer_best.transform(final_test_set.sequence).toarray()"
   ],
   "metadata": {
    "collapsed": false,
    "pycharm": {
     "name": "#%%\n"
    }
   }
  },
  {
   "cell_type": "markdown",
   "source": [],
   "metadata": {
    "collapsed": false,
    "pycharm": {
     "name": "#%% md\n"
    }
   }
  },
  {
   "cell_type": "code",
   "execution_count": 490,
   "outputs": [
    {
     "name": "stdout",
     "output_type": "stream",
     "text": [
      "(1444, 84482)\n",
      "(136, 84482)\n"
     ]
    }
   ],
   "source": [
    "print(training_split.shape)\n",
    "print(test_split.shape)"
   ],
   "metadata": {
    "collapsed": false,
    "pycharm": {
     "name": "#%%\n"
    }
   }
  },
  {
   "cell_type": "code",
   "execution_count": 491,
   "outputs": [],
   "source": [
    "train_result = np.array(final_train_set.binding)\n",
    "test_result = np.array(final_test_set.binding)"
   ],
   "metadata": {
    "collapsed": false,
    "pycharm": {
     "name": "#%%\n"
    }
   }
  },
  {
   "cell_type": "code",
   "execution_count": 492,
   "outputs": [],
   "source": [
    "initial_weight = np.ones(training_split.shape[0])*(1/training_split.shape[0])"
   ],
   "metadata": {
    "collapsed": false,
    "pycharm": {
     "name": "#%%\n"
    }
   }
  },
  {
   "cell_type": "code",
   "execution_count": 493,
   "outputs": [],
   "source": [
    "def updateWeight(missmatch, weight, alpha):\n",
    "    mi = 0\n",
    "    missmatch_size = len(missmatch)\n",
    "    wi = 0\n",
    "\n",
    "    new_weight = []\n",
    "    norm_constant = 0\n",
    "    while wi < len(weight):\n",
    "        if mi < missmatch_size and missmatch[mi] == wi:\n",
    "            k = weight[wi] * math.exp(alpha)\n",
    "            mi+=1\n",
    "        else:\n",
    "            k = weight[wi] * math.exp(-1*alpha)\n",
    "        new_weight.append( k )\n",
    "        norm_constant += k\n",
    "        wi += 1\n",
    "\n",
    "    new_weight /= norm_constant\n",
    "    sum =0\n",
    "    for i in new_weight:\n",
    "        sum+=i\n",
    "    print(sum)\n",
    "    # plt.plot(new_weight)\n",
    "    # plt.show()\n",
    "    return new_weight"
   ],
   "metadata": {
    "collapsed": false,
    "pycharm": {
     "name": "#%%\n"
    }
   }
  },
  {
   "cell_type": "code",
   "execution_count": 494,
   "outputs": [],
   "source": [
    "from sklearn.metrics import f1_score, accuracy_score\n",
    "def findMissClassificatonIndex(predicted, test_res, weight):\n",
    "    error_rate = 0\n",
    "    missmatch_indexes = []\n",
    "    incorrect= []\n",
    "    print(f1_score(test_res, predicted))\n",
    "    print(accuracy_score(test_res, predicted))\n",
    "    for i, (pred, real) in enumerate(zip(predicted, test_res)):\n",
    "        if pred != real:\n",
    "            incorrect.append((i, pred, real))\n",
    "            missmatch_indexes.append(i)\n",
    "            error_rate += weight[i]\n",
    "    error_rate /= len(predicted)\n",
    "    # print(incorrect)\n",
    "    return error_rate, missmatch_indexes"
   ],
   "metadata": {
    "collapsed": false,
    "pycharm": {
     "name": "#%%\n"
    }
   }
  },
  {
   "cell_type": "code",
   "execution_count": 495,
   "outputs": [],
   "source": [
    "def rejectionSampling(train_data, train_res, weights):\n",
    "    samplesize  = int(2 * len(train_data))\n",
    "    new_train_data = []\n",
    "    new_train_res = []\n",
    "    new_weights = []\n",
    "    adding_index =[]\n",
    "    max_w = max(weights)\n",
    "\n",
    "    for i in range(samplesize):\n",
    "        while True:\n",
    "            index = random.randrange(len(weights))\n",
    "            u = max_w * random.random()\n",
    "            if u <= weights[index]:\n",
    "                new_train_data.append(train_data[index])\n",
    "                new_train_res.append(train_res[index])\n",
    "                adding_index.append(index)\n",
    "                break\n",
    "    # print(adding_index)\n",
    "    return new_train_data, new_train_res"
   ],
   "metadata": {
    "collapsed": false,
    "pycharm": {
     "name": "#%%\n"
    }
   }
  },
  {
   "cell_type": "code",
   "execution_count": 496,
   "outputs": [],
   "source": [
    "from sklearn.tree import DecisionTreeClassifier\n",
    "\n",
    "ensemble_size = 100\n",
    "ensemble = []\n",
    "alphas = []\n",
    "def boosting(weights):\n",
    "\n",
    "    for i in range(ensemble_size):\n",
    "        train_data, train_res = rejectionSampling(training_split, train_result, weights)\n",
    "        # print(sum(train_res))\n",
    "        tree = DecisionTreeClassifier(max_depth= 2)\n",
    "        tree.fit(train_data, train_res)\n",
    "        print(sum(train_res))\n",
    "        predicted_result = tree.predict(training_split)\n",
    "\n",
    "        error_rate, error_indexes = findMissClassificatonIndex(predicted_result, train_result, weights)\n",
    "        print(\"error_rate:\", error_rate)\n",
    "\n",
    "        if error_rate > .5:\n",
    "            weights = np.ones(training_split.shape[0]) * (1/training_split.shape[0])\n",
    "            print(\"re-balancing and training because error:\", error_rate)\n",
    "            continue\n",
    "\n",
    "        amount_of_say = 0.5 * ( math.log( (1-error_rate) / error_rate ) )\n",
    "        alphas.append(amount_of_say)\n",
    "        ensemble.append(tree)\n",
    "        weights = updateWeight(error_indexes, weights, amount_of_say)\n",
    "        # Rejection Sampling0\n",
    "        # plt.plot(weights)\n",
    "        # plt.show()"
   ],
   "metadata": {
    "collapsed": false,
    "pycharm": {
     "name": "#%%\n"
    }
   }
  },
  {
   "cell_type": "code",
   "execution_count": 497,
   "outputs": [
    {
     "name": "stdout",
     "output_type": "stream",
     "text": [
      "1420\n",
      "0.7630252100840336\n",
      "0.8047091412742382\n",
      "error_rate: 0.00013524297695689788\n",
      "0.9999999999999998\n",
      "2760\n",
      "0.37828571428571434\n",
      "0.24653739612188366\n",
      "error_rate: 3.611969437809281e-07\n",
      "0.9999999999999993\n",
      "1051\n",
      "0.7277441659464131\n",
      "0.7818559556786704\n",
      "error_rate: 4.4163140708805335e-07\n",
      "1.0000000000000093\n",
      "2767\n",
      "0.3745019920318725\n",
      "0.2389196675900277\n",
      "error_rate: 4.7496157130897617e-07\n",
      "0.9999999999999564\n",
      "1001\n",
      "0.7286821705426356\n",
      "0.7818559556786704\n",
      "error_rate: 4.4024108613599336e-07\n",
      "0.9999999999999863\n",
      "2754\n",
      "0.3572679509632224\n",
      "0.23753462603878117\n",
      "error_rate: 4.750841898626267e-07\n",
      "0.9999999999999921\n",
      "1064\n",
      "0.7352185089974292\n",
      "0.78601108033241\n",
      "error_rate: 4.528690120913356e-07\n",
      "0.9999999999999926\n",
      "2745\n",
      "0.36887608069164257\n",
      "0.24168975069252077\n",
      "error_rate: 4.675780416392324e-07\n",
      "0.9999999999999849\n",
      "1058\n",
      "0.7176368375325802\n",
      "0.7749307479224377\n",
      "error_rate: 4.5561617522412904e-07\n",
      "1.0000000000000142\n",
      "2716\n",
      "0.3995433789954338\n",
      "0.27146814404432135\n",
      "error_rate: 4.5371576830397807e-07\n",
      "1.0000000000000195\n",
      "1091\n",
      "0.7176368375325802\n",
      "0.7749307479224377\n",
      "error_rate: 4.544199804739616e-07\n",
      "0.9999999999999887\n",
      "2747\n",
      "0.36489607390300227\n",
      "0.23822714681440443\n",
      "error_rate: 4.752881236048503e-07\n",
      "1.0000000000000064\n",
      "1006\n",
      "0.7165217391304348\n",
      "0.7742382271468145\n",
      "error_rate: 4.811003096673596e-07\n",
      "1.0000000000000149\n",
      "2707\n",
      "0.391891891891892\n",
      "0.2520775623268698\n",
      "error_rate: 4.606483810664718e-07\n",
      "1.000000000000033\n",
      "1000\n",
      "0.7291487532244196\n",
      "0.7818559556786704\n",
      "error_rate: 1.1598298637055229e-06\n",
      "0.9999999999999716\n",
      "1009\n",
      "0.3707995365005794\n",
      "0.24792243767313019\n",
      "error_rate: 4.687869024204072e-07\n",
      "0.9999999999999996\n",
      "1017\n",
      "0.7154046997389033\n",
      "0.7735457063711911\n",
      "error_rate: 1.6784571309069883e-07\n",
      "0.9999999999999907\n",
      "2682\n",
      "0.37828571428571434\n",
      "0.24653739612188366\n",
      "error_rate: 4.6929384133510333e-07\n",
      "1.0000000000000226\n",
      "944\n",
      "0.7209705372616985\n",
      "0.7770083102493075\n",
      "error_rate: 4.403740059445287e-07\n",
      "0.9999999999999862\n",
      "2651\n",
      "0.36613272311212813\n",
      "0.23268698060941828\n",
      "error_rate: 4.789221195252623e-07\n",
      "0.999999999999999\n",
      "1022\n",
      "0.731958762886598\n",
      "0.7839335180055401\n",
      "error_rate: 1.1645669913888714e-06\n",
      "1.0000000000000067\n",
      "901\n",
      "0.3682393555811277\n",
      "0.23961218836565096\n",
      "error_rate: 4.759654839850321e-07\n",
      "0.9999999999999835\n",
      "980\n",
      "0.7052631578947368\n",
      "0.7673130193905817\n",
      "error_rate: 1.64936660508241e-07\n",
      "1.0000000000000047\n",
      "2677\n",
      "0.3755868544600939\n",
      "0.2631578947368421\n",
      "error_rate: 4.6084551706504704e-07\n",
      "1.000000000000007\n",
      "953\n",
      "0.7384615384615384\n",
      "0.7880886426592798\n",
      "error_rate: 4.4315496445717074e-07\n",
      "1.000000000000002\n",
      "2657\n",
      "0.36613272311212813\n",
      "0.23268698060941828\n",
      "error_rate: 4.789221221965827e-07\n",
      "1.0000000000000184\n",
      "1013\n",
      "0.7313304721030044\n",
      "0.7832409972299169\n",
      "error_rate: 4.2482181758679143e-07\n",
      "0.99999999999999\n",
      "2625\n",
      "0.35651665692577444\n",
      "0.23753462603878117\n",
      "error_rate: 4.7181846475660036e-07\n",
      "0.9999999999999912\n",
      "1052\n",
      "0.7317909168808913\n",
      "0.7832409972299169\n",
      "error_rate: 1.2000215020098866e-06\n",
      "1.0000000000000435\n",
      "810\n",
      "0.35223160434258144\n",
      "0.2562326869806094\n",
      "error_rate: 4.5435483778286153e-07\n",
      "1.0000000000000149\n",
      "1165\n",
      "0.7253886010362693\n",
      "0.7797783933518005\n",
      "error_rate: 1.9734319492120697e-07\n",
      "0.9999999999999993\n",
      "2658\n",
      "0.36613272311212813\n",
      "0.23268698060941828\n",
      "error_rate: 4.7623916025157144e-07\n",
      "1.000000000000005\n",
      "1097\n",
      "0.7058823529411765\n",
      "0.768005540166205\n",
      "error_rate: 4.7470460208059185e-07\n",
      "0.9999999999999979\n",
      "2653\n",
      "0.3827859569648924\n",
      "0.2451523545706371\n",
      "error_rate: 4.729772979965398e-07\n",
      "0.9999999999999961\n",
      "1097\n",
      "0.7363013698630136\n",
      "0.7867036011080333\n",
      "error_rate: 4.3635118946179033e-07\n",
      "0.9999999999999964\n",
      "2647\n",
      "0.39076576576576577\n",
      "0.25069252077562326\n",
      "error_rate: 4.626724782888641e-07\n",
      "0.9999999999999892\n",
      "946\n",
      "0.7200000000000001\n",
      "0.7770083102493075\n",
      "error_rate: 4.183049933280937e-07\n",
      "1.000000000000003\n",
      "2619\n",
      "0.3669724770642202\n",
      "0.23545706371191136\n",
      "error_rate: 4.770494851396697e-07\n",
      "1.000000000000019\n",
      "1078\n",
      "0.7252368647717485\n",
      "0.7790858725761773\n",
      "error_rate: 3.020330752535466e-07\n",
      "1.0000000000000107\n",
      "2491\n",
      "0.36887608069164257\n",
      "0.24168975069252077\n",
      "error_rate: 4.7459151517507923e-07\n",
      "1.000000000000021\n",
      "1031\n",
      "0.7227036395147315\n",
      "0.778393351800554\n",
      "error_rate: 4.322525249093316e-07\n",
      "0.9999999999999868\n",
      "2471\n",
      "0.36901241868716733\n",
      "0.2610803324099723\n",
      "error_rate: 4.493552881486903e-07\n",
      "0.9999999999999821\n",
      "1069\n",
      "0.7140522875816994\n",
      "0.7576177285318559\n",
      "error_rate: 4.789347261741842e-07\n",
      "0.9999999999999949\n",
      "2484\n",
      "0.35921205098493625\n",
      "0.23407202216066483\n",
      "error_rate: 4.931067227810245e-07\n",
      "0.9999999999999989\n",
      "988\n",
      "0.7114210985178727\n",
      "0.7707756232686981\n",
      "error_rate: 4.800856909931048e-07\n",
      "0.9999999999999878\n",
      "2509\n",
      "0.36480938416422287\n",
      "0.25\n",
      "error_rate: 4.6467640834655326e-07\n",
      "0.9999999999999976\n",
      "1033\n",
      "0.7137870855148342\n",
      "0.7728531855955678\n",
      "error_rate: 6.224814195755741e-07\n",
      "0.9999999999999999\n",
      "2623\n",
      "0.4503171247357294\n",
      "0.6398891966759003\n",
      "error_rate: 1.3173971304985176e-07\n",
      "1.000000000000009\n",
      "2794\n",
      "0.5310097385955921\n",
      "0.36634349030470914\n",
      "error_rate: 3.115190138925592e-07\n",
      "1.0000000000000027\n",
      "2480\n",
      "0.4894259818731117\n",
      "0.6488919667590027\n",
      "error_rate: 3.916542606128402e-07\n",
      "0.999999999999994\n",
      "2667\n",
      "0.5055408970976253\n",
      "0.3511080332409972\n",
      "error_rate: 4.789824658398073e-07\n",
      "0.9999999999999941\n",
      "2466\n",
      "0.4607438016528925\n",
      "0.6385041551246537\n",
      "error_rate: 5.433745382408991e-07\n",
      "1.0000000000000062\n",
      "2755\n",
      "0.5377892030848328\n",
      "0.37742382271468145\n",
      "error_rate: 2.1276236851698706e-07\n",
      "1.0000000000000095\n",
      "1957\n",
      "0.4596273291925466\n",
      "0.6385041551246537\n",
      "error_rate: 5.256354735571254e-07\n",
      "0.9999999999999959\n",
      "2754\n",
      "0.5279503105590062\n",
      "0.3684210526315789\n",
      "error_rate: 3.2602295449239584e-07\n",
      "1.0000000000000129\n",
      "1562\n",
      "0.08718626155878467\n",
      "0.5214681440443213\n",
      "error_rate: 8.225694398769204e-07\n",
      "1.0000000000000007\n",
      "2872\n",
      "0.664179104477612\n",
      "0.5013850415512465\n",
      "error_rate: 2.2199097493029608e-07\n",
      "0.9999999999999899\n",
      "1\n",
      "0.04768211920529802\n",
      "0.5020775623268698\n",
      "error_rate: 5.424957161919243e-07\n",
      "1.0000000000000042\n",
      "2450\n",
      "0.6601031411157994\n",
      "0.4979224376731302\n",
      "error_rate: 4.788782215770376e-07\n",
      "0.9999999999999853\n",
      "1\n",
      "0.06905710491367863\n",
      "0.5145429362880887\n",
      "error_rate: 4.3302593445277355e-07\n",
      "1.0000000000000107\n",
      "2748\n",
      "0.6559849198868991\n",
      "0.49445983379501385\n",
      "error_rate: 3.207502332113287e-07\n",
      "1.000000000000014\n",
      "3\n",
      "0.3851554663991976\n",
      "0.5754847645429363\n",
      "error_rate: 8.405964622335533e-07\n",
      "1.0000000000000062\n",
      "978\n",
      "0.5653333333333334\n",
      "0.435595567867036\n",
      "error_rate: 2.393260349261374e-07\n",
      "0.9999999999999919\n",
      "1\n",
      "0.05390835579514825\n",
      "0.5138504155124654\n",
      "error_rate: 4.627085677701468e-07\n",
      "1.0000000000000013\n",
      "2885\n",
      "0.6626337831549557\n",
      "0.4979224376731302\n",
      "error_rate: 1.9434793716773587e-07\n",
      "0.9999999999999967\n",
      "2794\n",
      "0.3427922814982974\n",
      "0.5990304709141274\n",
      "error_rate: 4.200378556584291e-07\n",
      "1.0000000000000002\n",
      "1856\n",
      "0.7399678972712681\n",
      "0.775623268698061\n",
      "error_rate: 3.7086348385276498e-06\n",
      "1.0000000000000009\n",
      "2883\n",
      "0.6252983293556086\n",
      "0.45637119113573404\n",
      "error_rate: 2.8713187774664724e-07\n",
      "1.0000000000000107\n",
      "72\n",
      "0.19950738916256155\n",
      "0.5498614958448753\n",
      "error_rate: 4.4183631230275256e-07\n",
      "1.0000000000000044\n",
      "2885\n",
      "0.6424185167690127\n",
      "0.4757617728531856\n",
      "error_rate: 6.225023715836352e-07\n",
      "0.9999999999999895\n",
      "0\n",
      "0.0\n",
      "0.5\n",
      "error_rate: 5.548516480088799e-07\n",
      "1.0000000000000009\n",
      "2886\n",
      "0.6597549481621111\n",
      "0.5\n",
      "error_rate: 4.7296989408124583e-07\n",
      "1.0000000000000107\n",
      "102\n",
      "0.14357682619647355\n",
      "0.5290858725761773\n",
      "error_rate: 3.059305787938421e-07\n",
      "0.9999999999999993\n",
      "2881\n",
      "0.654160654160654\n",
      "0.5020775623268698\n",
      "error_rate: 3.3385686143413546e-07\n",
      "1.0000000000000062\n",
      "108\n",
      "0.15950920245398773\n",
      "0.525623268698061\n",
      "error_rate: 3.700562991533254e-07\n",
      "0.9999999999999979\n",
      "2881\n",
      "0.6647029945999019\n",
      "0.5270083102493075\n",
      "error_rate: 1.0949182047409383e-06\n",
      "1.0000000000000113\n",
      "78\n",
      "0.08883248730964469\n",
      "0.502770083102493\n",
      "error_rate: 4.783824607892727e-07\n",
      "1.000000000000003\n",
      "2885\n",
      "0.6654170571696346\n",
      "0.5055401662049861\n",
      "error_rate: 7.604271558101611e-07\n",
      "0.9999999999999999\n",
      "3\n",
      "0.10143042912873862\n",
      "0.5214681440443213\n",
      "error_rate: 3.8235459406662806e-07\n",
      "0.9999999999999983\n",
      "2885\n",
      "0.6515151515151516\n",
      "0.4903047091412742\n",
      "error_rate: 5.675890661064311e-07\n",
      "1.000000000000005\n",
      "2\n",
      "0.10038610038610038\n",
      "0.5159279778393352\n",
      "error_rate: 4.823059187256684e-07\n",
      "0.9999999999999987\n",
      "2885\n",
      "0.6359712230215827\n",
      "0.4743767313019391\n",
      "error_rate: 5.382936142183771e-07\n",
      "0.9999999999999979\n",
      "411\n",
      "0.17058096415327564\n",
      "0.5353185595567868\n",
      "error_rate: 5.525547394318495e-07\n",
      "0.999999999999999\n",
      "2886\n",
      "0.6641895030190432\n",
      "0.49930747922437674\n",
      "error_rate: 4.719209412153933e-07\n",
      "1.0000000000000009\n",
      "0\n",
      "0.0\n",
      "0.5\n",
      "error_rate: 5.379082936305426e-07\n",
      "0.9999999999999989\n",
      "2886\n",
      "0.6498332539304431\n",
      "0.4909972299168975\n",
      "error_rate: 4.294126204338215e-07\n",
      "0.999999999999991\n",
      "3\n",
      "0.08796895213454076\n",
      "0.5117728531855956\n",
      "error_rate: 3.5694417167240557e-07\n",
      "1.000000000000001\n",
      "2886\n",
      "0.667900092506938\n",
      "0.502770083102493\n",
      "error_rate: 6.806535604518245e-07\n",
      "0.9999999999999867\n",
      "4\n",
      "0.22690058479532166\n",
      "0.5422437673130194\n",
      "error_rate: 2.662150255275103e-07\n",
      "1.0000000000000024\n",
      "2884\n",
      "0.662716049382716\n",
      "0.5270083102493075\n",
      "error_rate: 8.878892545229633e-07\n",
      "0.9999999999999915\n",
      "532\n",
      "0.6279926335174953\n",
      "0.7202216066481995\n",
      "error_rate: 2.9579517828311104e-07\n",
      "0.999999999999998\n",
      "2564\n",
      "0.36613272311212813\n",
      "0.23268698060941828\n",
      "error_rate: 6.564050059246848e-07\n",
      "1.0000000000000018\n",
      "820\n",
      "0.724935732647815\n",
      "0.7777008310249307\n",
      "error_rate: 3.0889948153984945e-07\n",
      "1.0\n",
      "2431\n",
      "0.24918032786885247\n",
      "0.5242382271468145\n",
      "error_rate: 3.1013432362989377e-07\n",
      "0.9999999999999989\n",
      "2682\n",
      "0.6748815165876777\n",
      "0.5249307479224377\n",
      "error_rate: 1.2900045514930262e-07\n",
      "1.000000000000006\n",
      "1\n",
      "0.04663212435233161\n",
      "0.4903047091412742\n",
      "error_rate: 4.950463304653505e-07\n",
      "0.9999999999999986\n",
      "2329\n",
      "0.6631528509822712\n",
      "0.5131578947368421\n",
      "error_rate: 3.1462365640303524e-07\n",
      "1.0000000000000027\n",
      "2\n",
      "0.1348314606741573\n",
      "0.5200831024930748\n",
      "error_rate: 3.0823907844826117e-07\n",
      "0.9999999999999981\n",
      "2410\n",
      "0.6491897044804575\n",
      "0.4903047091412742\n",
      "error_rate: 2.810712533539556e-07\n",
      "1.000000000000002\n",
      "1\n",
      "0.1116883116883117\n",
      "0.5263157894736842\n",
      "error_rate: 5.051620346012816e-07\n",
      "0.9999999999999998\n"
     ]
    },
    {
     "data": {
      "text/plain": "<Figure size 640x480 with 1 Axes>",
      "image/png": "[encoded data removed]"
     },
     "metadata": {},
     "output_type": "display_data"
    }
   ],
   "source": [
    "plt.plot(initial_weight)\n",
    "boosting(initial_weight)\n"
   ],
   "metadata": {
    "collapsed": false,
    "pycharm": {
     "name": "#%%\n"
    }
   }
  },
  {
   "cell_type": "code",
   "execution_count": 499,
   "outputs": [
    {
     "data": {
      "text/plain": "[4.454151157922161,\n 7.41692105776774,\n 7.31639489087885,\n 7.280015731865144,\n 7.317971448405795,\n 7.279886665858443,\n 7.3038312284696705,\n 7.287849550291892,\n 7.300807323630747,\n 7.302897221125835,\n 7.3021217724863074,\n 7.279672082753096,\n 7.273594781737759,\n 7.295315177601897,\n 6.833618036495912,\n 7.286558534404953,\n 7.800110243060871,\n 7.286018134012776,\n 7.317820508603303,\n 7.275863681775009,\n 6.831580028340396,\n 7.278960011007524,\n 7.808852073757964,\n 7.2951012466222,\n 7.31467293900666,\n 7.27586367898612,\n 7.3357977919240245,\n 7.283335531044824,\n 6.816584941483528,\n 7.302193454402997,\n 7.7191606601865494,\n 7.278672597575937,\n 7.280286321008861,\n 7.282108986203944,\n 7.3224090005272,\n 7.293122980405499,\n 7.3435273015354,\n 7.277822565979085,\n 7.506364501414134,\n 7.280405448178632,\n 7.327127719415159,\n 7.307725762557747,\n 7.275850520460751,\n 7.261269858497608,\n 7.2746503729948415,\n 7.290962052479745,\n 7.144775717321382,\n 7.92121880007579,\n 7.490902574639598,\n 7.376442991457317,\n 7.2758006834926645,\n 7.212733227030669,\n 7.681544861015161,\n 7.229328677435404,\n 7.468148859741091,\n 7.005416054959227,\n 7.66031444368832,\n 7.213542552743763,\n 7.275909513841875,\n 7.326233891450707,\n 7.4763013928096695,\n 6.9945766412040005,\n 7.622719406221397,\n 7.293083980797551,\n 7.726807799681786,\n 7.341460288586338,\n 6.252421504235959,\n 7.531661967625472,\n 7.3161629578898,\n 7.144758888169666,\n 7.202282252482163,\n 7.282116813193503,\n 7.4999536607441675,\n 7.45627658027535,\n 7.40480515647653,\n 6.862414900716914,\n 7.2764274094146355,\n 7.04469237700464,\n 7.3884585099150435,\n 7.190933793817609,\n 7.272343377882505,\n 7.217430568011847,\n 7.204356390006277,\n 7.283226945447039,\n 7.217788605670794,\n 7.330423565832163,\n 7.422843046160734,\n 7.100105850694717,\n 7.56948061092861,\n 6.967208963608496,\n 7.516799145802674,\n 7.118243597510893,\n 7.495124803265747,\n 7.493130010574574,\n 7.931724887650666,\n 7.259306993405743,\n 7.485944169673714,\n 7.49619490905765,\n 7.542328674015166,\n 7.249193046688522]"
     },
     "execution_count": 499,
     "metadata": {},
     "output_type": "execute_result"
    }
   ],
   "source": [
    "alphas"
   ],
   "metadata": {
    "collapsed": false,
    "pycharm": {
     "name": "#%%\n"
    }
   }
  },
  {
   "cell_type": "code",
   "execution_count": 518,
   "outputs": [],
   "source": [
    "from sklearn.metrics import ConfusionMatrixDisplay\n",
    "f1=[]\n",
    "acc =[]\n",
    "for l in range(1,40):\n",
    "    data = []\n",
    "    for j in range(len(test_split)):\n",
    "        pa=0\n",
    "        na =0\n",
    "        for i in range(l):\n",
    "            k = ensemble[i].predict([test_split[j]])\n",
    "            if k[0] == 1:\n",
    "                pa += alphas[i]\n",
    "            else:\n",
    "                na+=alphas[i]\n",
    "        if pa >=na:\n",
    "            data.append(1)\n",
    "        else:\n",
    "            data.append(0)\n",
    "    f1.append(f1_score(test_result, data, average=\"macro\"))\n",
    "    acc.append(accuracy_score(test_result, data))"
   ],
   "metadata": {
    "collapsed": false,
    "pycharm": {
     "name": "#%%\n"
    }
   }
  },
  {
   "cell_type": "code",
   "execution_count": 519,
   "outputs": [
    {
     "data": {
      "text/plain": "<sklearn.metrics._plot.confusion_matrix.ConfusionMatrixDisplay at 0x2bbde7e20>"
     },
     "execution_count": 519,
     "metadata": {},
     "output_type": "execute_result"
    },
    {
     "data": {
      "text/plain": "<Figure size 640x480 with 2 Axes>",
      "image/png": "[encoded data removed]"
     },
     "metadata": {},
     "output_type": "display_data"
    }
   ],
   "source": [
    "ConfusionMatrixDisplay.from_predictions(test_result,data,cmap='Greens')\n",
    "# plt.plot(f1)\n"
   ],
   "metadata": {
    "collapsed": false,
    "pycharm": {
     "name": "#%%\n"
    }
   }
  },
  {
   "cell_type": "code",
   "execution_count": 472,
   "outputs": [
    {
     "data": {
      "text/plain": "55"
     },
     "execution_count": 472,
     "metadata": {},
     "output_type": "execute_result"
    }
   ],
   "source": [
    "sum(data)"
   ],
   "metadata": {
    "collapsed": false,
    "pycharm": {
     "name": "#%%\n"
    }
   }
  },
  {
   "cell_type": "code",
   "execution_count": null,
   "outputs": [],
   "source": [],
   "metadata": {
    "collapsed": false,
    "pycharm": {
     "name": "#%%\n"
    }
   }
  }
 ],
 "metadata": {
  "kernelspec": {
   "display_name": "Python 3",
   "language": "python",
   "name": "python3"
  },
  "language_info": {
   "codemirror_mode": {
    "name": "ipython",
    "version": 2
   },
   "file_extension": ".py",
   "mimetype": "text/x-python",
   "name": "python",
   "nbconvert_exporter": "python",
   "pygments_lexer": "ipython2",
   "version": "2.7.6"
  }
 },
 "nbformat": 4,
 "nbformat_minor": 0
}