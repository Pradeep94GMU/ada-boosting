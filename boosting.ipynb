{
 "cells": [
  {
   "cell_type": "code",
   "execution_count": 948,
   "metadata": {
    "collapsed": true,
    "pycharm": {
     "name": "#%%\n"
    }
   },
   "outputs": [],
   "source": [
    "import math\n",
    "import random\n",
    "import tensorflow as tf\n",
    "import pandas as pd\n",
    "import numpy as np\n",
    "import matplotlib.pyplot as plt\n",
    "import imblearn"
   ]
  },
  {
   "cell_type": "code",
   "execution_count": 949,
   "outputs": [
    {
     "name": "stdout",
     "output_type": "stream",
     "text": [
      "2.10.0\n"
     ]
    }
   ],
   "source": [
    "print(tf.__version__)"
   ],
   "metadata": {
    "collapsed": false,
    "pycharm": {
     "name": "#%%\n"
    }
   }
  },
  {
   "cell_type": "code",
   "execution_count": 950,
   "outputs": [],
   "source": [
    "table = pd.read_table('./1663769555_8559356_train.txt', names=['binding','sequence'])"
   ],
   "metadata": {
    "collapsed": false,
    "pycharm": {
     "name": "#%%\n"
    }
   }
  },
  {
   "cell_type": "code",
   "execution_count": 951,
   "outputs": [],
   "source": [
    "from sklearn.feature_extraction.text import CountVectorizer\n",
    "def return_binary_vectorized_form(data_frame, feat = None):\n",
    "    if feat is None:\n",
    "        count_vectorizer = CountVectorizer(binary=True)\n",
    "    else:\n",
    "        count_vectorizer = CountVectorizer(binary=True, vocabulary=feat)\n",
    "    fitted_and_transformed = count_vectorizer.fit_transform(data_frame).toarray()\n",
    "    return count_vectorizer,  fitted_and_transformed"
   ],
   "metadata": {
    "collapsed": false,
    "pycharm": {
     "name": "#%%\n"
    }
   }
  },
  {
   "cell_type": "code",
   "execution_count": 952,
   "outputs": [],
   "source": [
    "from sklearn.feature_selection import SelectKBest, chi2\n",
    "def select_k_best_features(feature_set, target_values, fraction, feature_list):\n",
    "    select_bestselect_best = SelectKBest(score_func=chi2, k = int(len(feature_list)*fraction))\n",
    "    select_bestselect_best.fit(feature_set,target_values)\n",
    "    mask = select_bestselect_best.get_support()\n",
    "    k_best_featurs = feature_list[mask]\n",
    "    return k_best_featurs"
   ],
   "metadata": {
    "collapsed": false,
    "pycharm": {
     "name": "#%%\n"
    }
   }
  },
  {
   "cell_type": "code",
   "execution_count": 953,
   "outputs": [],
   "source": [
    "from sklearn.model_selection import train_test_split\n",
    "active_df = table.loc[table.binding == 1]\n",
    "not_active_df = table.loc[table.binding == 0]\n",
    "# Mainly spliting the data here for testing, that is the reason train size is set to .20\n",
    "active_train, active_test, active_binding_train, active_binding_test = train_test_split(active_df.sequence, active_df.binding, shuffle=True, train_size= .75)\n",
    "not_active_train, not_active_test, not_active_binding_train, not_active_binding_test = train_test_split(not_active_df.sequence, not_active_df.binding, shuffle=True, train_size=.90)"
   ],
   "metadata": {
    "collapsed": false,
    "pycharm": {
     "name": "#%%\n"
    }
   }
  },
  {
   "cell_type": "code",
   "execution_count": 954,
   "outputs": [],
   "source": [
    "def createDf(data):\n",
    "    pd_df = pd.DataFrame(data)\n",
    "    return pd_df\n",
    "def addColumn(copy_to, copy_from ,cname):\n",
    "    copy_to[cname] = copy_from[cname]\n",
    "    return copy_to"
   ],
   "metadata": {
    "collapsed": false,
    "pycharm": {
     "name": "#%%\n"
    }
   }
  },
  {
   "cell_type": "code",
   "execution_count": 955,
   "outputs": [],
   "source": [
    "active_test_df = pd.DataFrame(active_test)\n",
    "active_binding_test_df = pd.DataFrame(active_binding_test)\n",
    "active_test_df['binding'] = active_binding_test_df['binding']"
   ],
   "metadata": {
    "collapsed": false,
    "pycharm": {
     "name": "#%%\n"
    }
   }
  },
  {
   "cell_type": "code",
   "execution_count": 956,
   "outputs": [],
   "source": [
    "not_active_test_df = pd.DataFrame(not_active_test)\n",
    "not_active_binding_test_df = pd.DataFrame(not_active_binding_test)\n",
    "not_active_test_df['binding'] = not_active_binding_test_df['binding']"
   ],
   "metadata": {
    "collapsed": false,
    "pycharm": {
     "name": "#%%\n"
    }
   }
  },
  {
   "cell_type": "code",
   "execution_count": 957,
   "outputs": [],
   "source": [
    "active_train_df = createDf(active_train)\n",
    "active_binding_train_df =  createDf(active_binding_train)\n",
    "active_train_df = addColumn(active_train_df, active_binding_train_df, 'binding')"
   ],
   "metadata": {
    "collapsed": false,
    "pycharm": {
     "name": "#%%\n"
    }
   }
  },
  {
   "cell_type": "code",
   "execution_count": 958,
   "outputs": [],
   "source": [
    "not_active_train_df = createDf(not_active_train)\n",
    "not_active_binding_train_df =  createDf(not_active_binding_train)\n",
    "not_active_train_df = addColumn(not_active_train_df, not_active_binding_train_df, 'binding')"
   ],
   "metadata": {
    "collapsed": false,
    "pycharm": {
     "name": "#%%\n"
    }
   }
  },
  {
   "cell_type": "code",
   "execution_count": 959,
   "outputs": [
    {
     "name": "stdout",
     "output_type": "stream",
     "text": [
      "0    649\n",
      "1     58\n",
      "Name: binding, dtype: int64\n"
     ]
    }
   ],
   "source": [
    "train_df = pd.concat([active_train_df,not_active_train_df]).reset_index()\n",
    "train_df = train_df.drop('index',axis=1)\n",
    "print(train_df.binding.value_counts())"
   ],
   "metadata": {
    "collapsed": false,
    "pycharm": {
     "name": "#%%\n"
    }
   }
  },
  {
   "cell_type": "code",
   "execution_count": 960,
   "outputs": [
    {
     "name": "stdout",
     "output_type": "stream",
     "text": [
      "0    73\n",
      "1    20\n",
      "Name: binding, dtype: int64\n"
     ]
    }
   ],
   "source": [
    "test_df = pd.concat([active_test_df,not_active_test_df]).reset_index()\n",
    "test_df = test_df.drop('index',axis=1)\n",
    "print(test_df.binding.value_counts())"
   ],
   "metadata": {
    "collapsed": false,
    "pycharm": {
     "name": "#%%\n"
    }
   }
  },
  {
   "cell_type": "code",
   "execution_count": 966,
   "outputs": [],
   "source": [
    "from imblearn.over_sampling import RandomOverSampler\n",
    "sampler = RandomOverSampler()\n",
    "x_sampled, y_sampled = sampler.fit_resample(np.array(train_df.sequence).reshape(-1,1),train_df.binding)"
   ],
   "metadata": {
    "collapsed": false,
    "pycharm": {
     "name": "#%%\n"
    }
   }
  },
  {
   "cell_type": "code",
   "execution_count": 967,
   "outputs": [
    {
     "name": "stdout",
     "output_type": "stream",
     "text": [
      "1    649\n",
      "0    649\n",
      "Name: binding, dtype: int64\n",
      "0    73\n",
      "1    20\n",
      "Name: binding, dtype: int64\n"
     ]
    }
   ],
   "source": [
    "final_train_set = pd.DataFrame(x_sampled, columns  =[\"sequence\"])\n",
    "final_train_set['binding'] = y_sampled\n",
    "print(final_train_set.binding.value_counts())\n",
    "\n",
    "final_test_set = pd.DataFrame(test_df.sequence, columns  =[\"sequence\"])\n",
    "final_test_set['binding'] = test_df.binding\n",
    "print(final_test_set.binding.value_counts())"
   ],
   "metadata": {
    "collapsed": false,
    "pycharm": {
     "name": "#%%\n"
    }
   }
  },
  {
   "cell_type": "code",
   "execution_count": 968,
   "outputs": [],
   "source": [
    "vectorizer_best, training_split = return_binary_vectorized_form(final_train_set.sequence)\n",
    "test_split = vectorizer_best.transform(final_test_set.sequence).toarray()"
   ],
   "metadata": {
    "collapsed": false,
    "pycharm": {
     "name": "#%%\n"
    }
   }
  },
  {
   "cell_type": "markdown",
   "source": [],
   "metadata": {
    "collapsed": false,
    "pycharm": {
     "name": "#%% md\n"
    }
   }
  },
  {
   "cell_type": "code",
   "execution_count": 969,
   "outputs": [
    {
     "name": "stdout",
     "output_type": "stream",
     "text": [
      "(1298, 82250)\n",
      "(93, 82250)\n"
     ]
    }
   ],
   "source": [
    "print(training_split.shape)\n",
    "print(test_split.shape)"
   ],
   "metadata": {
    "collapsed": false,
    "pycharm": {
     "name": "#%%\n"
    }
   }
  },
  {
   "cell_type": "code",
   "execution_count": 969,
   "outputs": [],
   "source": [],
   "metadata": {
    "collapsed": false,
    "pycharm": {
     "name": "#%%\n"
    }
   }
  },
  {
   "cell_type": "code",
   "execution_count": 970,
   "outputs": [
    {
     "data": {
      "text/plain": "array(['1000', '10000', '100000', ..., '99997', '99998', '99999'],\n      dtype=object)"
     },
     "execution_count": 970,
     "metadata": {},
     "output_type": "execute_result"
    }
   ],
   "source": [
    "train_result = np.array(final_train_set.binding)\n",
    "test_result = np.array(final_test_set.binding)\n",
    "features = select_k_best_features(training_split,train_result,.70,vectorizer_best.get_feature_names_out())\n",
    "features"
   ],
   "metadata": {
    "collapsed": false,
    "pycharm": {
     "name": "#%%\n"
    }
   }
  },
  {
   "cell_type": "code",
   "execution_count": 971,
   "outputs": [],
   "source": [
    "vectorizer_best, training_split = return_binary_vectorized_form(final_train_set.sequence,features)\n",
    "test_split = vectorizer_best.transform(final_test_set.sequence).toarray()"
   ],
   "metadata": {
    "collapsed": false,
    "pycharm": {
     "name": "#%%\n"
    }
   }
  },
  {
   "cell_type": "code",
   "execution_count": 972,
   "outputs": [
    {
     "data": {
      "text/plain": "(1298, 57574)"
     },
     "execution_count": 972,
     "metadata": {},
     "output_type": "execute_result"
    }
   ],
   "source": [
    "training_split.shape"
   ],
   "metadata": {
    "collapsed": false,
    "pycharm": {
     "name": "#%%\n"
    }
   }
  },
  {
   "cell_type": "code",
   "execution_count": 973,
   "outputs": [],
   "source": [
    "initial_weight = np.ones(training_split.shape[0])*(1/training_split.shape[0])"
   ],
   "metadata": {
    "collapsed": false,
    "pycharm": {
     "name": "#%%\n"
    }
   }
  },
  {
   "cell_type": "code",
   "execution_count": 974,
   "outputs": [],
   "source": [
    "def updateWeight(missmatch, weight, alpha):\n",
    "    mi = 0\n",
    "    missmatch_size = len(missmatch)\n",
    "    wi = 0\n",
    "\n",
    "    new_weight = []\n",
    "    norm_constant = 0\n",
    "    while wi < len(weight):\n",
    "        if mi < missmatch_size and missmatch[mi] == wi:\n",
    "            k = weight[wi] * math.exp(alpha)\n",
    "            mi+=1\n",
    "        else:\n",
    "            k = weight[wi] * math.exp(-1*alpha)\n",
    "        new_weight.append( k )\n",
    "        norm_constant += k\n",
    "        wi += 1\n",
    "\n",
    "    new_weight /= norm_constant\n",
    "    sum =0\n",
    "    for i in new_weight:\n",
    "        sum+=i\n",
    "    print(sum)\n",
    "    # plt.plot(new_weight)\n",
    "    # plt.show()\n",
    "    return new_weight"
   ],
   "metadata": {
    "collapsed": false,
    "pycharm": {
     "name": "#%%\n"
    }
   }
  },
  {
   "cell_type": "code",
   "execution_count": 975,
   "outputs": [],
   "source": [
    "from sklearn.metrics import f1_score, accuracy_score\n",
    "def findMissClassificatonIndex(predicted, test_res, weight):\n",
    "    error_rate = 0\n",
    "    missmatch_indexes = []\n",
    "    incorrect= []\n",
    "    print(f1_score(test_res, predicted))\n",
    "    print(accuracy_score(test_res, predicted))\n",
    "    for i, (pred, real) in enumerate(zip(predicted, test_res)):\n",
    "        if pred != real:\n",
    "            incorrect.append((i, pred, real))\n",
    "            missmatch_indexes.append(i)\n",
    "            error_rate += weight[i]\n",
    "    error_rate /= len(predicted)\n",
    "    # print(incorrect)\n",
    "    return error_rate, missmatch_indexes"
   ],
   "metadata": {
    "collapsed": false,
    "pycharm": {
     "name": "#%%\n"
    }
   }
  },
  {
   "cell_type": "code",
   "execution_count": 976,
   "outputs": [],
   "source": [
    "def rejectionSampling(train_data, train_res, weights):\n",
    "    samplesize  = int(3 * len(train_data))\n",
    "    new_train_data = []\n",
    "    new_train_res = []\n",
    "    new_weights = []\n",
    "    adding_index =[]\n",
    "    max_w = max(weights)\n",
    "\n",
    "    for i in range(samplesize):\n",
    "        while True:\n",
    "            index = random.randrange(len(weights))\n",
    "            u = max_w * random.random()\n",
    "            if u <= weights[index]:\n",
    "                new_train_data.append(train_data[index])\n",
    "                new_train_res.append(train_res[index])\n",
    "                adding_index.append(index)\n",
    "                break\n",
    "    # print(adding_index)\n",
    "    return new_train_data, new_train_res"
   ],
   "metadata": {
    "collapsed": false,
    "pycharm": {
     "name": "#%%\n"
    }
   }
  },
  {
   "cell_type": "code",
   "execution_count": 986,
   "outputs": [],
   "source": [
    "from sklearn.tree import DecisionTreeClassifier\n",
    "\n",
    "ensemble_size = 50\n",
    "ensemble = []\n",
    "alphas = []\n",
    "def boosting(weights):\n",
    "\n",
    "    for i in range(ensemble_size):\n",
    "        train_data, train_res = rejectionSampling(training_split, train_result, weights)\n",
    "        # print(sum(train_res))\n",
    "        tree = DecisionTreeClassifier(max_depth= 8)\n",
    "        tree.fit(train_data, train_res)\n",
    "        print(sum(train_res))\n",
    "        predicted_result = tree.predict(training_split)\n",
    "\n",
    "        error_rate, error_indexes = findMissClassificatonIndex(predicted_result, train_result, weights)\n",
    "        print(\"error_rate:\", error_rate)\n",
    "\n",
    "        if error_rate > .5:\n",
    "            weights = np.ones(training_split.shape[0]) * (1/training_split.shape[0])\n",
    "            print(\"re-balancing and training because error:\", error_rate)\n",
    "            continue\n",
    "\n",
    "        amount_of_say = 0.5 * ( math.log( (1-error_rate) / error_rate ) )\n",
    "        alphas.append(amount_of_say)\n",
    "        ensemble.append(tree)\n",
    "        weights = updateWeight(error_indexes, weights, amount_of_say)\n",
    "        # Rejection Sampling0\n",
    "        # plt.plot(weights)\n",
    "        # plt.show()"
   ],
   "metadata": {
    "collapsed": false,
    "pycharm": {
     "name": "#%%\n"
    }
   }
  },
  {
   "cell_type": "code",
   "execution_count": 987,
   "outputs": [
    {
     "name": "stdout",
     "output_type": "stream",
     "text": [
      "1966\n",
      "0.9820452771272444\n",
      "0.9822804314329738\n",
      "error_rate: 1.3651439573980124e-05\n",
      "1.000000000000004\n",
      "3407\n",
      "0.3154285714285714\n",
      "0.5385208012326657\n",
      "error_rate: 2.7370336380721334e-07\n",
      "1.0000000000000158\n",
      "3290\n",
      "0.5938407902382337\n",
      "0.46147919876733434\n",
      "error_rate: 5.928735508439442e-07\n",
      "0.9999999999999928\n",
      "3362\n",
      "0.6842382709541381\n",
      "0.5385208012326657\n",
      "error_rate: 3.1460160891486544e-07\n",
      "0.9999999999999807\n",
      "9\n",
      "0.10510948905109489\n",
      "0.5277349768875192\n",
      "error_rate: 4.184993954163666e-10\n",
      "1.0000000000000007\n",
      "3891\n",
      "0.6813648293963255\n",
      "0.5323574730354391\n",
      "error_rate: 5.528261796378373e-07\n",
      "1.0000000000000289\n",
      "2\n",
      "0.0967741935483871\n",
      "0.5254237288135594\n",
      "error_rate: 5.570366874201455e-07\n",
      "0.9999999999999984\n",
      "3891\n",
      "0.6749869994799792\n",
      "0.5184899845916795\n",
      "error_rate: 5.703391416998749e-07\n",
      "0.9999999999999611\n",
      "1\n",
      "0.08541973490427097\n",
      "0.5215716486902927\n",
      "error_rate: 5.593531352939741e-07\n",
      "1.000000000000003\n",
      "3891\n",
      "0.6774530271398747\n",
      "0.5238828967642527\n",
      "error_rate: 5.706044704919305e-07\n",
      "0.9999999999999892\n",
      "3\n",
      "0.13486370157819225\n",
      "0.5354391371340523\n",
      "error_rate: 5.354901364794384e-07\n",
      "1.0000000000000036\n",
      "3892\n",
      "0.6721905748316934\n",
      "0.512326656394453\n",
      "error_rate: 5.802301865320689e-07\n",
      "0.9999999999999667\n",
      "1\n",
      "0.03927492447129909\n",
      "0.5100154083204931\n",
      "error_rate: 5.84552978115486e-07\n",
      "1.000000000000017\n",
      "3890\n",
      "0.7073569482288827\n",
      "0.5862865947611711\n",
      "error_rate: 5.063662205992204e-07\n",
      "0.999999999999981\n",
      "3\n",
      "0.1457142857142857\n",
      "0.539291217257319\n",
      "error_rate: 5.436243083425756e-07\n",
      "0.999999999999993\n",
      "3890\n",
      "0.6810073452256034\n",
      "0.5315870570107858\n",
      "error_rate: 5.539608742877162e-07\n",
      "1.0000000000000309\n",
      "2\n",
      "0.06259314456035767\n",
      "0.5154083204930663\n",
      "error_rate: 5.614028500542183e-07\n",
      "0.9999999999999967\n",
      "3893\n",
      "0.6701084150748581\n",
      "0.5077041602465331\n",
      "error_rate: 5.835934222435273e-07\n",
      "0.9999999999999837\n",
      "5\n",
      "0.26238286479250333\n",
      "0.5755007704160247\n",
      "error_rate: 4.741748239645315e-07\n",
      "1.0000000000000113\n",
      "3892\n",
      "0.6701846965699209\n",
      "0.5184899845916795\n",
      "error_rate: 5.502117505355892e-07\n",
      "0.9999999999999988\n",
      "6\n",
      "0.18888888888888888\n",
      "0.5500770416024653\n",
      "error_rate: 4.954830023512448e-07\n",
      "0.9999999999999911\n",
      "3886\n",
      "0.6703116457080371\n",
      "0.5354391371340523\n",
      "error_rate: 5.2398801515603e-07\n",
      "1.0000000000000002\n",
      "1\n",
      "0.03625377643504532\n",
      "0.5084745762711864\n",
      "error_rate: 6.43104562108175e-07\n",
      "1.0000000000000018\n",
      "3886\n",
      "0.6922666666666666\n",
      "0.5554699537750385\n",
      "error_rate: 5.146324340962968e-07\n",
      "1.0000000000000124\n",
      "0\n",
      "0.0\n",
      "0.5\n",
      "error_rate: 5.926283667878431e-07\n",
      "0.9999999999999959\n",
      "3891\n",
      "0.6756897449245184\n",
      "0.5200308166409862\n",
      "error_rate: 5.574506987443925e-07\n",
      "1.0000000000000262\n",
      "2\n",
      "0.0960698689956332\n",
      "0.5215716486902927\n",
      "error_rate: 5.468493921624277e-07\n",
      "1.0000000000000073\n",
      "3890\n",
      "0.6746361746361746\n",
      "0.5177195685670262\n",
      "error_rate: 5.703231101677072e-07\n",
      "1.000000000000006\n",
      "1\n",
      "0.042232277526395176\n",
      "0.5107858243451464\n",
      "error_rate: 5.616028646980471e-07\n",
      "1.0000000000000029\n",
      "3894\n",
      "0.6666666666666666\n",
      "0.5\n",
      "error_rate: 5.926283792274997e-07\n",
      "1.0000000000000004\n",
      "5\n",
      "0.17086834733893558\n",
      "0.5439137134052389\n",
      "error_rate: 4.6652089355866337e-07\n",
      "1.000000000000004\n",
      "3893\n",
      "0.6694172253739041\n",
      "0.5061633281972265\n",
      "error_rate: 5.851186502807957e-07\n",
      "1.0000000000000016\n",
      "4\n",
      "0.17952314165497896\n",
      "0.5493066255778121\n",
      "error_rate: 4.459564368234879e-07\n",
      "0.9999999999999984\n",
      "3893\n",
      "0.6687274600721278\n",
      "0.5046224961479199\n",
      "error_rate: 5.865419061355967e-07\n",
      "0.9999999999999925\n",
      "4\n",
      "0.148876404494382\n",
      "0.5331278890600925\n",
      "error_rate: 4.0352712920417706e-07\n",
      "0.9999999999999991\n",
      "3892\n",
      "0.6523784631468897\n",
      "0.487673343605547\n",
      "error_rate: 5.942298516144244e-07\n",
      "1.0000000000000038\n",
      "3\n",
      "0.10903873744619798\n",
      "0.5215716486902927\n",
      "error_rate: 5.601429406838775e-07\n",
      "0.9999999999999984\n",
      "3890\n",
      "0.6656200941915228\n",
      "0.5077041602465331\n",
      "error_rate: 5.742997587522953e-07\n",
      "0.9999999999999984\n",
      "2\n",
      "0.07320644216691068\n",
      "0.512326656394453\n",
      "error_rate: 5.142014220069681e-07\n",
      "0.9999999999999994\n",
      "3890\n",
      "0.6511134676564158\n",
      "0.4930662557781202\n",
      "error_rate: 5.715305256675179e-07\n",
      "1.0000000000000042\n",
      "3\n",
      "0.13675213675213677\n",
      "0.5331278890600925\n",
      "error_rate: 5.756653169072336e-07\n",
      "1.0000000000000062\n",
      "3892\n",
      "0.6701084150748581\n",
      "0.5077041602465331\n",
      "error_rate: 5.736630997216214e-07\n",
      "0.9999999999999959\n",
      "6\n",
      "0.4316546762589928\n",
      "0.6348228043143297\n",
      "error_rate: 2.7465104584749026e-07\n",
      "1.0000000000000013\n",
      "3890\n",
      "0.5618649133293485\n",
      "0.4352850539291217\n",
      "error_rate: 5.315172338682314e-07\n",
      "0.9999999999999987\n",
      "14\n",
      "0.3537414965986394\n",
      "0.5608628659476117\n",
      "error_rate: 7.464807171425481e-07\n",
      "0.9999999999999983\n",
      "3892\n",
      "0.6708010335917313\n",
      "0.5092449922958397\n",
      "error_rate: 6.426642790674325e-07\n",
      "0.999999999999998\n",
      "2\n",
      "0.12409812409812411\n",
      "0.5323574730354391\n",
      "error_rate: 4.059681156678845e-07\n",
      "1.0000000000000004\n",
      "3891\n",
      "0.6804891015417331\n",
      "0.536979969183359\n",
      "error_rate: 5.341637012294696e-07\n",
      "1.0000000000000067\n",
      "4\n",
      "0.053491827637444284\n",
      "0.5092449922958397\n",
      "error_rate: 4.4731874872066307e-07\n",
      "1.0000000000000009\n",
      "3893\n",
      "0.6687274600721278\n",
      "0.5046224961479199\n",
      "error_rate: 5.900560266372082e-07\n",
      "1.0000000000000016\n"
     ]
    },
    {
     "data": {
      "text/plain": "<Figure size 640x480 with 1 Axes>",
      "image/png": "[encoded data removed]"
     },
     "metadata": {},
     "output_type": "display_data"
    }
   ],
   "source": [
    "plt.plot(initial_weight)\n",
    "boosting(initial_weight)\n"
   ],
   "metadata": {
    "collapsed": false,
    "pycharm": {
     "name": "#%%\n"
    }
   }
  },
  {
   "cell_type": "code",
   "execution_count": 989,
   "outputs": [
    {
     "data": {
      "text/plain": "[5.600825963533082,\n 7.555610328573448,\n 7.169142052081957,\n 7.48597920878662,\n 10.797172835112924,\n 7.204110827271491,\n 7.2003170880234855,\n 7.1885170486368954,\n 7.198242138535281,\n 7.188284496435923,\n 7.220041415505361,\n 7.179920179288914,\n 7.176208918619349,\n 7.248002583476407,\n 7.21250344735555,\n 7.203085611380743,\n 7.196413267468851,\n 7.177030353884601,\n 7.28084464107347,\n 7.206481040814026,\n 7.258866146157727,\n 7.23089825036921,\n 7.1284789333966,\n 7.239906198335495,\n 7.1693488709839635,\n 7.199945606408587,\n 7.209545929920742,\n 7.188531103227802,\n 7.196235160843368,\n 7.16934886048863,\n 7.288981281616928,\n 7.1757253020841585,\n 7.311522059512006,\n 7.174510566825865,\n 7.361510856631295,\n 7.167999521310951,\n 7.19753663721198,\n 7.185056887424472,\n 7.240325131221216,\n 7.187473685182896,\n 7.183869408247169,\n 7.185611486779912,\n 7.553882097292855,\n 7.223764841604482,\n 7.053947652420583,\n 7.128821361465241,\n 7.358495403649034,\n 7.221281477095878,\n 7.309996982375797,\n 7.1715238770484255]"
     },
     "execution_count": 989,
     "metadata": {},
     "output_type": "execute_result"
    }
   ],
   "source": [
    "alphas"
   ],
   "metadata": {
    "collapsed": false,
    "pycharm": {
     "name": "#%%\n"
    }
   }
  },
  {
   "cell_type": "code",
   "execution_count": 1002,
   "outputs": [],
   "source": [
    "from sklearn.metrics import ConfusionMatrixDisplay, confusion_matrix\n",
    "f1=[]\n",
    "\n",
    "def repeat(test_split, test_result, start, end):\n",
    "    mx = 0\n",
    "    size = 0\n",
    "    data = []\n",
    "    for i in range(start,end):\n",
    "        data = some_pred(test_split, i)\n",
    "    #     tn, fp, fn, tp = confusion_matrix(test_result, data).ravel()\n",
    "    #     precision = tp / (tp+ fp)\n",
    "    #     recall = tp / (tp+ fn)\n",
    "    #     score = (2 * precision * recall) / (precision + recall)\n",
    "    #     print(score)\n",
    "    #     f1.append(score)\n",
    "    #     if mx < score:\n",
    "    #         mx = score\n",
    "    #         size = i\n",
    "    #     # print(i)\n",
    "    # print(mx,size)\n",
    "    return data\n",
    "\n",
    "def some_pred(test_split, esize):\n",
    "    data = []\n",
    "    for j in range(len(test_split)):\n",
    "        pa=0\n",
    "        na =0\n",
    "        for i in range(esize):\n",
    "            k = ensemble[i].predict([test_split[j]])\n",
    "            if k[0] == 1:\n",
    "                pa += alphas[i]\n",
    "            else:\n",
    "                na+=alphas[i]\n",
    "        if pa >=na:\n",
    "            data.append(1)\n",
    "        else:\n",
    "            data.append(0)\n",
    "    # f1.append(f1_score(test_result, data, average=\"macro\"))\n",
    "    # acc.append(accuracy_score(test_result, data))\n",
    "    return data"
   ],
   "metadata": {
    "collapsed": false,
    "pycharm": {
     "name": "#%%\n"
    }
   }
  },
  {
   "cell_type": "code",
   "execution_count": 1000,
   "outputs": [
    {
     "name": "stdout",
     "output_type": "stream",
     "text": [
      "0.35398230088495575\n",
      "0.8205128205128205\n",
      "0.12903225806451613\n",
      "0.8205128205128205\n",
      "0.8205128205128205 1\n"
     ]
    },
    {
     "data": {
      "text/plain": "<sklearn.metrics._plot.confusion_matrix.ConfusionMatrixDisplay at 0x2c01c2f40>"
     },
     "execution_count": 1000,
     "metadata": {},
     "output_type": "execute_result"
    },
    {
     "data": {
      "text/plain": "<Figure size 640x480 with 2 Axes>",
      "image/png": "[encoded data removed]"
     },
     "metadata": {},
     "output_type": "display_data"
    }
   ],
   "source": [
    "ConfusionMatrixDisplay.from_predictions(test_result,repeat(test_split, test_result, 0, 4),cmap='Greens')"
   ],
   "metadata": {
    "collapsed": false,
    "pycharm": {
     "name": "#%%\n"
    }
   }
  },
  {
   "cell_type": "code",
   "execution_count": 981,
   "outputs": [
    {
     "data": {
      "text/plain": "[<matplotlib.lines.Line2D at 0x286f16400>]"
     },
     "execution_count": 981,
     "metadata": {},
     "output_type": "execute_result"
    },
    {
     "data": {
      "text/plain": "<Figure size 640x480 with 1 Axes>",
      "image/png": "[encoded data removed]"
     },
     "metadata": {},
     "output_type": "display_data"
    }
   ],
   "source": [
    "plt.plot(f1)"
   ],
   "metadata": {
    "collapsed": false,
    "pycharm": {
     "name": "#%%\n"
    }
   }
  },
  {
   "cell_type": "code",
   "execution_count": 894,
   "outputs": [
    {
     "name": "stdout",
     "output_type": "stream",
     "text": [
      "107\n"
     ]
    },
    {
     "data": {
      "text/plain": "[1,\n 0,\n 1,\n 1,\n 1,\n 1,\n 0,\n 0,\n 1,\n 0,\n 1,\n 1,\n 1,\n 1,\n 0,\n 1,\n 1,\n 0,\n 1,\n 1,\n 0,\n 0,\n 0,\n 0,\n 0,\n 0,\n 0,\n 0,\n 0,\n 0,\n 0,\n 0,\n 0,\n 0,\n 0,\n 0,\n 0,\n 0,\n 0,\n 0,\n 0,\n 0,\n 1,\n 0,\n 1,\n 0,\n 0,\n 0,\n 0,\n 0,\n 0,\n 0,\n 0,\n 0,\n 0,\n 0,\n 0,\n 0,\n 0,\n 1,\n 0,\n 0,\n 0,\n 0,\n 0,\n 0,\n 0,\n 1,\n 0,\n 0,\n 0,\n 0,\n 0,\n 0,\n 0,\n 0,\n 0,\n 0,\n 0,\n 0,\n 0,\n 0,\n 0,\n 0,\n 0,\n 0,\n 0,\n 0,\n 0,\n 0,\n 0,\n 0,\n 0]"
     },
     "execution_count": 894,
     "metadata": {},
     "output_type": "execute_result"
    }
   ],
   "source": [
    "repeat(test_split,107,108)"
   ],
   "metadata": {
    "collapsed": false,
    "pycharm": {
     "name": "#%%\n"
    }
   }
  },
  {
   "cell_type": "code",
   "execution_count": 883,
   "outputs": [
    {
     "ename": "ValueError",
     "evalue": "x and y must have same first dimension, but have shapes (180,) and (1,)",
     "output_type": "error",
     "traceback": [
      "\u001B[0;31m---------------------------------------------------------------------------\u001B[0m",
      "\u001B[0;31mValueError\u001B[0m                                Traceback (most recent call last)",
      "Cell \u001B[0;32mIn [883], line 1\u001B[0m\n\u001B[0;32m----> 1\u001B[0m plt\u001B[38;5;241m.\u001B[39mplot(\u001B[38;5;28mrange\u001B[39m(\u001B[38;5;241m20\u001B[39m,\u001B[38;5;241m200\u001B[39m),f1)\n",
      "File \u001B[0;32m~/miniforge3/envs/mlp/lib/python3.8/site-packages/matplotlib/pyplot.py:2728\u001B[0m, in \u001B[0;36mplot\u001B[0;34m(scalex, scaley, data, *args, **kwargs)\u001B[0m\n\u001B[1;32m   2726\u001B[0m \u001B[38;5;129m@_copy_docstring_and_deprecators\u001B[39m(Axes\u001B[38;5;241m.\u001B[39mplot)\n\u001B[1;32m   2727\u001B[0m \u001B[38;5;28;01mdef\u001B[39;00m \u001B[38;5;21mplot\u001B[39m(\u001B[38;5;241m*\u001B[39margs, scalex\u001B[38;5;241m=\u001B[39m\u001B[38;5;28;01mTrue\u001B[39;00m, scaley\u001B[38;5;241m=\u001B[39m\u001B[38;5;28;01mTrue\u001B[39;00m, data\u001B[38;5;241m=\u001B[39m\u001B[38;5;28;01mNone\u001B[39;00m, \u001B[38;5;241m*\u001B[39m\u001B[38;5;241m*\u001B[39mkwargs):\n\u001B[0;32m-> 2728\u001B[0m     \u001B[38;5;28;01mreturn\u001B[39;00m \u001B[43mgca\u001B[49m\u001B[43m(\u001B[49m\u001B[43m)\u001B[49m\u001B[38;5;241;43m.\u001B[39;49m\u001B[43mplot\u001B[49m\u001B[43m(\u001B[49m\n\u001B[1;32m   2729\u001B[0m \u001B[43m        \u001B[49m\u001B[38;5;241;43m*\u001B[39;49m\u001B[43margs\u001B[49m\u001B[43m,\u001B[49m\u001B[43m \u001B[49m\u001B[43mscalex\u001B[49m\u001B[38;5;241;43m=\u001B[39;49m\u001B[43mscalex\u001B[49m\u001B[43m,\u001B[49m\u001B[43m \u001B[49m\u001B[43mscaley\u001B[49m\u001B[38;5;241;43m=\u001B[39;49m\u001B[43mscaley\u001B[49m\u001B[43m,\u001B[49m\n\u001B[1;32m   2730\u001B[0m \u001B[43m        \u001B[49m\u001B[38;5;241;43m*\u001B[39;49m\u001B[38;5;241;43m*\u001B[39;49m\u001B[43m(\u001B[49m\u001B[43m{\u001B[49m\u001B[38;5;124;43m\"\u001B[39;49m\u001B[38;5;124;43mdata\u001B[39;49m\u001B[38;5;124;43m\"\u001B[39;49m\u001B[43m:\u001B[49m\u001B[43m \u001B[49m\u001B[43mdata\u001B[49m\u001B[43m}\u001B[49m\u001B[43m \u001B[49m\u001B[38;5;28;43;01mif\u001B[39;49;00m\u001B[43m \u001B[49m\u001B[43mdata\u001B[49m\u001B[43m \u001B[49m\u001B[38;5;129;43;01mis\u001B[39;49;00m\u001B[43m \u001B[49m\u001B[38;5;129;43;01mnot\u001B[39;49;00m\u001B[43m \u001B[49m\u001B[38;5;28;43;01mNone\u001B[39;49;00m\u001B[43m \u001B[49m\u001B[38;5;28;43;01melse\u001B[39;49;00m\u001B[43m \u001B[49m\u001B[43m{\u001B[49m\u001B[43m}\u001B[49m\u001B[43m)\u001B[49m\u001B[43m,\u001B[49m\u001B[43m \u001B[49m\u001B[38;5;241;43m*\u001B[39;49m\u001B[38;5;241;43m*\u001B[39;49m\u001B[43mkwargs\u001B[49m\u001B[43m)\u001B[49m\n",
      "File \u001B[0;32m~/miniforge3/envs/mlp/lib/python3.8/site-packages/matplotlib/axes/_axes.py:1662\u001B[0m, in \u001B[0;36mAxes.plot\u001B[0;34m(self, scalex, scaley, data, *args, **kwargs)\u001B[0m\n\u001B[1;32m   1419\u001B[0m \u001B[38;5;124;03m\"\"\"\u001B[39;00m\n\u001B[1;32m   1420\u001B[0m \u001B[38;5;124;03mPlot y versus x as lines and/or markers.\u001B[39;00m\n\u001B[1;32m   1421\u001B[0m \n\u001B[0;32m   (...)\u001B[0m\n\u001B[1;32m   1659\u001B[0m \u001B[38;5;124;03m(``'green'``) or hex strings (``'#008000'``).\u001B[39;00m\n\u001B[1;32m   1660\u001B[0m \u001B[38;5;124;03m\"\"\"\u001B[39;00m\n\u001B[1;32m   1661\u001B[0m kwargs \u001B[38;5;241m=\u001B[39m cbook\u001B[38;5;241m.\u001B[39mnormalize_kwargs(kwargs, mlines\u001B[38;5;241m.\u001B[39mLine2D)\n\u001B[0;32m-> 1662\u001B[0m lines \u001B[38;5;241m=\u001B[39m [\u001B[38;5;241m*\u001B[39m\u001B[38;5;28mself\u001B[39m\u001B[38;5;241m.\u001B[39m_get_lines(\u001B[38;5;241m*\u001B[39margs, data\u001B[38;5;241m=\u001B[39mdata, \u001B[38;5;241m*\u001B[39m\u001B[38;5;241m*\u001B[39mkwargs)]\n\u001B[1;32m   1663\u001B[0m \u001B[38;5;28;01mfor\u001B[39;00m line \u001B[38;5;129;01min\u001B[39;00m lines:\n\u001B[1;32m   1664\u001B[0m     \u001B[38;5;28mself\u001B[39m\u001B[38;5;241m.\u001B[39madd_line(line)\n",
      "File \u001B[0;32m~/miniforge3/envs/mlp/lib/python3.8/site-packages/matplotlib/axes/_base.py:311\u001B[0m, in \u001B[0;36m_process_plot_var_args.__call__\u001B[0;34m(self, data, *args, **kwargs)\u001B[0m\n\u001B[1;32m    309\u001B[0m     this \u001B[38;5;241m+\u001B[39m\u001B[38;5;241m=\u001B[39m args[\u001B[38;5;241m0\u001B[39m],\n\u001B[1;32m    310\u001B[0m     args \u001B[38;5;241m=\u001B[39m args[\u001B[38;5;241m1\u001B[39m:]\n\u001B[0;32m--> 311\u001B[0m \u001B[38;5;28;01myield from\u001B[39;00m \u001B[38;5;28;43mself\u001B[39;49m\u001B[38;5;241;43m.\u001B[39;49m\u001B[43m_plot_args\u001B[49m\u001B[43m(\u001B[49m\n\u001B[1;32m    312\u001B[0m \u001B[43m    \u001B[49m\u001B[43mthis\u001B[49m\u001B[43m,\u001B[49m\u001B[43m \u001B[49m\u001B[43mkwargs\u001B[49m\u001B[43m,\u001B[49m\u001B[43m \u001B[49m\u001B[43mambiguous_fmt_datakey\u001B[49m\u001B[38;5;241;43m=\u001B[39;49m\u001B[43mambiguous_fmt_datakey\u001B[49m\u001B[43m)\u001B[49m\n",
      "File \u001B[0;32m~/miniforge3/envs/mlp/lib/python3.8/site-packages/matplotlib/axes/_base.py:504\u001B[0m, in \u001B[0;36m_process_plot_var_args._plot_args\u001B[0;34m(self, tup, kwargs, return_kwargs, ambiguous_fmt_datakey)\u001B[0m\n\u001B[1;32m    501\u001B[0m     \u001B[38;5;28mself\u001B[39m\u001B[38;5;241m.\u001B[39maxes\u001B[38;5;241m.\u001B[39myaxis\u001B[38;5;241m.\u001B[39mupdate_units(y)\n\u001B[1;32m    503\u001B[0m \u001B[38;5;28;01mif\u001B[39;00m x\u001B[38;5;241m.\u001B[39mshape[\u001B[38;5;241m0\u001B[39m] \u001B[38;5;241m!=\u001B[39m y\u001B[38;5;241m.\u001B[39mshape[\u001B[38;5;241m0\u001B[39m]:\n\u001B[0;32m--> 504\u001B[0m     \u001B[38;5;28;01mraise\u001B[39;00m \u001B[38;5;167;01mValueError\u001B[39;00m(\u001B[38;5;124mf\u001B[39m\u001B[38;5;124m\"\u001B[39m\u001B[38;5;124mx and y must have same first dimension, but \u001B[39m\u001B[38;5;124m\"\u001B[39m\n\u001B[1;32m    505\u001B[0m                      \u001B[38;5;124mf\u001B[39m\u001B[38;5;124m\"\u001B[39m\u001B[38;5;124mhave shapes \u001B[39m\u001B[38;5;132;01m{\u001B[39;00mx\u001B[38;5;241m.\u001B[39mshape\u001B[38;5;132;01m}\u001B[39;00m\u001B[38;5;124m and \u001B[39m\u001B[38;5;132;01m{\u001B[39;00my\u001B[38;5;241m.\u001B[39mshape\u001B[38;5;132;01m}\u001B[39;00m\u001B[38;5;124m\"\u001B[39m)\n\u001B[1;32m    506\u001B[0m \u001B[38;5;28;01mif\u001B[39;00m x\u001B[38;5;241m.\u001B[39mndim \u001B[38;5;241m>\u001B[39m \u001B[38;5;241m2\u001B[39m \u001B[38;5;129;01mor\u001B[39;00m y\u001B[38;5;241m.\u001B[39mndim \u001B[38;5;241m>\u001B[39m \u001B[38;5;241m2\u001B[39m:\n\u001B[1;32m    507\u001B[0m     \u001B[38;5;28;01mraise\u001B[39;00m \u001B[38;5;167;01mValueError\u001B[39;00m(\u001B[38;5;124mf\u001B[39m\u001B[38;5;124m\"\u001B[39m\u001B[38;5;124mx and y can be no greater than 2D, but have \u001B[39m\u001B[38;5;124m\"\u001B[39m\n\u001B[1;32m    508\u001B[0m                      \u001B[38;5;124mf\u001B[39m\u001B[38;5;124m\"\u001B[39m\u001B[38;5;124mshapes \u001B[39m\u001B[38;5;132;01m{\u001B[39;00mx\u001B[38;5;241m.\u001B[39mshape\u001B[38;5;132;01m}\u001B[39;00m\u001B[38;5;124m and \u001B[39m\u001B[38;5;132;01m{\u001B[39;00my\u001B[38;5;241m.\u001B[39mshape\u001B[38;5;132;01m}\u001B[39;00m\u001B[38;5;124m\"\u001B[39m)\n",
      "\u001B[0;31mValueError\u001B[0m: x and y must have same first dimension, but have shapes (180,) and (1,)"
     ]
    },
    {
     "data": {
      "text/plain": "<Figure size 640x480 with 1 Axes>",
      "image/png": "[encoded data removed]"
     },
     "metadata": {},
     "output_type": "display_data"
    }
   ],
   "source": [
    "plt.plot(range(20,200),f1)"
   ],
   "metadata": {
    "collapsed": false,
    "pycharm": {
     "name": "#%%\n"
    }
   }
  },
  {
   "cell_type": "code",
   "execution_count": 1007,
   "outputs": [],
   "source": [
    "table_test = pd.read_table('./1663769555_8653905_test.txt', names=['sequence'])\n",
    "unlabeled_test = vectorizer_best.transform(table_test.sequence).toarray()\n",
    "\n",
    "predicted_data = repeat(unlabeled_test, None,0, 4)"
   ],
   "metadata": {
    "collapsed": false,
    "pycharm": {
     "name": "#%%\n"
    }
   }
  },
  {
   "cell_type": "code",
   "execution_count": 1008,
   "outputs": [
    {
     "name": "stdout",
     "output_type": "stream",
     "text": [
      "350\n",
      "(350, 57574)\n"
     ]
    }
   ],
   "source": [
    "print(len(predicted_data))\n",
    "print(unlabeled_test.shape)"
   ],
   "metadata": {
    "collapsed": false,
    "pycharm": {
     "name": "#%%\n"
    }
   }
  },
  {
   "cell_type": "code",
   "execution_count": 1009,
   "outputs": [],
   "source": [
    "\n",
    "import csv\n",
    "outfile = open('./results.csv','w')\n",
    "out = csv.writer(outfile)\n",
    "out.writerows(map(lambda x: [x], predicted_data))\n",
    "outfile.close()"
   ],
   "metadata": {
    "collapsed": false,
    "pycharm": {
     "name": "#%%\n"
    }
   }
  },
  {
   "cell_type": "code",
   "execution_count": null,
   "outputs": [],
   "source": [],
   "metadata": {
    "collapsed": false,
    "pycharm": {
     "name": "#%%\n"
    }
   }
  }
 ],
 "metadata": {
  "kernelspec": {
   "display_name": "Python 3",
   "language": "python",
   "name": "python3"
  },
  "language_info": {
   "codemirror_mode": {
    "name": "ipython",
    "version": 2
   },
   "file_extension": ".py",
   "mimetype": "text/x-python",
   "name": "python",
   "nbconvert_exporter": "python",
   "pygments_lexer": "ipython2",
   "version": "2.7.6"
  }
 },
 "nbformat": 4,
 "nbformat_minor": 0
}