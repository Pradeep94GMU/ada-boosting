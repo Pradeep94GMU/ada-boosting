{
 "cells": [
  {
   "cell_type": "code",
   "execution_count": 1,
   "metadata": {
    "collapsed": true,
    "pycharm": {
     "name": "#%%\n"
    }
   },
   "outputs": [],
   "source": [
    "import math\n",
    "import random\n",
    "import tensorflow as tf\n",
    "import pandas as pd\n",
    "import numpy as np\n",
    "import matplotlib.pyplot as plt\n",
    "import imblearn"
   ]
  },
  {
   "cell_type": "code",
   "execution_count": 2,
   "outputs": [
    {
     "name": "stdout",
     "output_type": "stream",
     "text": [
      "2.10.0\n"
     ]
    }
   ],
   "source": [
    "print(tf.__version__)"
   ],
   "metadata": {
    "collapsed": false,
    "pycharm": {
     "name": "#%%\n"
    }
   }
  },
  {
   "cell_type": "code",
   "execution_count": 3,
   "outputs": [],
   "source": [
    "table = pd.read_table('./1663769555_8559356_train.txt', names=['binding','sequence'])"
   ],
   "metadata": {
    "collapsed": false,
    "pycharm": {
     "name": "#%%\n"
    }
   }
  },
  {
   "cell_type": "code",
   "execution_count": 4,
   "outputs": [],
   "source": [
    "from sklearn.feature_extraction.text import CountVectorizer\n",
    "def return_binary_vectorized_form(data_frame, feat = None):\n",
    "    if feat is None:\n",
    "        count_vectorizer = CountVectorizer(binary=True)\n",
    "    else:\n",
    "        count_vectorizer = CountVectorizer(binary=True, vocabulary=feat)\n",
    "    fitted_and_transformed = count_vectorizer.fit_transform(data_frame).toarray()\n",
    "    return count_vectorizer,  fitted_and_transformed"
   ],
   "metadata": {
    "collapsed": false,
    "pycharm": {
     "name": "#%%\n"
    }
   }
  },
  {
   "cell_type": "code",
   "execution_count": 5,
   "outputs": [],
   "source": [
    "from sklearn.feature_selection import SelectKBest, chi2\n",
    "def select_k_best_features(feature_set, target_values, fraction, feature_list):\n",
    "    select_bestselect_best = SelectKBest(score_func=chi2, k = int(len(feature_list)*fraction))\n",
    "    select_bestselect_best.fit(feature_set,target_values)\n",
    "    mask = select_bestselect_best.get_support()\n",
    "    k_best_featurs = feature_list[mask]\n",
    "    return k_best_featurs"
   ],
   "metadata": {
    "collapsed": false,
    "pycharm": {
     "name": "#%%\n"
    }
   }
  },
  {
   "cell_type": "code",
   "execution_count": 6,
   "outputs": [],
   "source": [
    "from sklearn.model_selection import train_test_split\n",
    "active_df = table.loc[table.binding == 1]\n",
    "not_active_df = table.loc[table.binding == 0]\n",
    "# Mainly spliting the data here for testing, that is the reason train size is set to .20\n",
    "active_train, active_test, active_binding_train, active_binding_test = train_test_split(active_df.sequence, active_df.binding, shuffle=True, train_size= .75)\n",
    "not_active_train, not_active_test, not_active_binding_train, not_active_binding_test = train_test_split(not_active_df.sequence, not_active_df.binding, shuffle=True, train_size=.90)"
   ],
   "metadata": {
    "collapsed": false,
    "pycharm": {
     "name": "#%%\n"
    }
   }
  },
  {
   "cell_type": "code",
   "execution_count": 7,
   "outputs": [],
   "source": [
    "def createDf(data):\n",
    "    pd_df = pd.DataFrame(data)\n",
    "    return pd_df\n",
    "def addColumn(copy_to, copy_from ,cname):\n",
    "    copy_to[cname] = copy_from[cname]\n",
    "    return copy_to"
   ],
   "metadata": {
    "collapsed": false,
    "pycharm": {
     "name": "#%%\n"
    }
   }
  },
  {
   "cell_type": "code",
   "execution_count": 8,
   "outputs": [],
   "source": [
    "active_test_df = pd.DataFrame(active_test)\n",
    "active_binding_test_df = pd.DataFrame(active_binding_test)\n",
    "active_test_df['binding'] = active_binding_test_df['binding']"
   ],
   "metadata": {
    "collapsed": false,
    "pycharm": {
     "name": "#%%\n"
    }
   }
  },
  {
   "cell_type": "code",
   "execution_count": 9,
   "outputs": [],
   "source": [
    "not_active_test_df = pd.DataFrame(not_active_test)\n",
    "not_active_binding_test_df = pd.DataFrame(not_active_binding_test)\n",
    "not_active_test_df['binding'] = not_active_binding_test_df['binding']"
   ],
   "metadata": {
    "collapsed": false,
    "pycharm": {
     "name": "#%%\n"
    }
   }
  },
  {
   "cell_type": "code",
   "execution_count": 10,
   "outputs": [],
   "source": [
    "active_train_df = createDf(active_train)\n",
    "active_binding_train_df =  createDf(active_binding_train)\n",
    "active_train_df = addColumn(active_train_df, active_binding_train_df, 'binding')"
   ],
   "metadata": {
    "collapsed": false,
    "pycharm": {
     "name": "#%%\n"
    }
   }
  },
  {
   "cell_type": "code",
   "execution_count": 11,
   "outputs": [],
   "source": [
    "not_active_train_df = createDf(not_active_train)\n",
    "not_active_binding_train_df =  createDf(not_active_binding_train)\n",
    "not_active_train_df = addColumn(not_active_train_df, not_active_binding_train_df, 'binding')"
   ],
   "metadata": {
    "collapsed": false,
    "pycharm": {
     "name": "#%%\n"
    }
   }
  },
  {
   "cell_type": "code",
   "execution_count": 12,
   "outputs": [
    {
     "name": "stdout",
     "output_type": "stream",
     "text": [
      "0    649\n",
      "1     58\n",
      "Name: binding, dtype: int64\n"
     ]
    }
   ],
   "source": [
    "train_df = pd.concat([active_train_df,not_active_train_df]).reset_index()\n",
    "train_df = train_df.drop('index',axis=1)\n",
    "print(train_df.binding.value_counts())"
   ],
   "metadata": {
    "collapsed": false,
    "pycharm": {
     "name": "#%%\n"
    }
   }
  },
  {
   "cell_type": "code",
   "execution_count": 13,
   "outputs": [
    {
     "name": "stdout",
     "output_type": "stream",
     "text": [
      "0    73\n",
      "1    20\n",
      "Name: binding, dtype: int64\n"
     ]
    }
   ],
   "source": [
    "test_df = pd.concat([active_test_df,not_active_test_df]).reset_index()\n",
    "test_df = test_df.drop('index',axis=1)\n",
    "print(test_df.binding.value_counts())"
   ],
   "metadata": {
    "collapsed": false,
    "pycharm": {
     "name": "#%%\n"
    }
   }
  },
  {
   "cell_type": "code",
   "execution_count": 14,
   "outputs": [],
   "source": [
    "from imblearn.over_sampling import RandomOverSampler\n",
    "sampler = RandomOverSampler()\n",
    "x_sampled, y_sampled = sampler.fit_resample(np.array(train_df.sequence).reshape(-1,1),train_df.binding)"
   ],
   "metadata": {
    "collapsed": false,
    "pycharm": {
     "name": "#%%\n"
    }
   }
  },
  {
   "cell_type": "code",
   "execution_count": 94,
   "outputs": [
    {
     "name": "stdout",
     "output_type": "stream",
     "text": [
      "0    649\n",
      "1     58\n",
      "Name: binding, dtype: int64\n",
      "0    73\n",
      "1    20\n",
      "Name: binding, dtype: int64\n"
     ]
    }
   ],
   "source": [
    "final_train_set = pd.DataFrame(train_df.sequence, columns  =[\"sequence\"])\n",
    "final_train_set['binding'] = train_df.binding\n",
    "print(final_train_set.binding.value_counts())\n",
    "\n",
    "final_test_set = pd.DataFrame(test_df.sequence, columns  =[\"sequence\"])\n",
    "final_test_set['binding'] = test_df.binding\n",
    "print(final_test_set.binding.value_counts())"
   ],
   "metadata": {
    "collapsed": false,
    "pycharm": {
     "name": "#%%\n"
    }
   }
  },
  {
   "cell_type": "code",
   "execution_count": 95,
   "outputs": [],
   "source": [
    "vectorizer_best, training_split = return_binary_vectorized_form(final_train_set.sequence)\n",
    "test_split = vectorizer_best.transform(final_test_set.sequence).toarray()"
   ],
   "metadata": {
    "collapsed": false,
    "pycharm": {
     "name": "#%%\n"
    }
   }
  },
  {
   "cell_type": "markdown",
   "source": [],
   "metadata": {
    "collapsed": false,
    "pycharm": {
     "name": "#%% md\n"
    }
   }
  },
  {
   "cell_type": "code",
   "execution_count": 96,
   "outputs": [
    {
     "name": "stdout",
     "output_type": "stream",
     "text": [
      "(707, 81475)\n",
      "(93, 81475)\n"
     ]
    }
   ],
   "source": [
    "print(training_split.shape)\n",
    "print(test_split.shape)"
   ],
   "metadata": {
    "collapsed": false,
    "pycharm": {
     "name": "#%%\n"
    }
   }
  },
  {
   "cell_type": "code",
   "execution_count": 96,
   "outputs": [],
   "source": [],
   "metadata": {
    "collapsed": false,
    "pycharm": {
     "name": "#%%\n"
    }
   }
  },
  {
   "cell_type": "code",
   "execution_count": 97,
   "outputs": [
    {
     "data": {
      "text/plain": "array(['10000', '10001', '10008', ..., '9998', '99988', '99989'],\n      dtype=object)"
     },
     "execution_count": 97,
     "metadata": {},
     "output_type": "execute_result"
    }
   ],
   "source": [
    "train_result = np.array(final_train_set.binding)\n",
    "test_result = np.array(final_test_set.binding)\n",
    "features = select_k_best_features(training_split,train_result,.30,vectorizer_best.get_feature_names_out())\n",
    "features"
   ],
   "metadata": {
    "collapsed": false,
    "pycharm": {
     "name": "#%%\n"
    }
   }
  },
  {
   "cell_type": "code",
   "execution_count": 98,
   "outputs": [],
   "source": [
    "vectorizer_best, training_split = return_binary_vectorized_form(final_train_set.sequence,features)\n",
    "test_split = vectorizer_best.transform(final_test_set.sequence).toarray()"
   ],
   "metadata": {
    "collapsed": false,
    "pycharm": {
     "name": "#%%\n"
    }
   }
  },
  {
   "cell_type": "code",
   "execution_count": 99,
   "outputs": [
    {
     "data": {
      "text/plain": "(707, 24442)"
     },
     "execution_count": 99,
     "metadata": {},
     "output_type": "execute_result"
    }
   ],
   "source": [
    "training_split.shape"
   ],
   "metadata": {
    "collapsed": false,
    "pycharm": {
     "name": "#%%\n"
    }
   }
  },
  {
   "cell_type": "code",
   "execution_count": 100,
   "outputs": [],
   "source": [
    "initial_weight = np.ones(training_split.shape[0])*(1/training_split.shape[0])"
   ],
   "metadata": {
    "collapsed": false,
    "pycharm": {
     "name": "#%%\n"
    }
   }
  },
  {
   "cell_type": "code",
   "execution_count": 101,
   "outputs": [],
   "source": [
    "def updateWeight(missmatch, weight, alpha):\n",
    "    mi = 0\n",
    "    missmatch_size = len(missmatch)\n",
    "    wi = 0\n",
    "\n",
    "    new_weight = []\n",
    "    norm_constant = 0\n",
    "    while wi < len(weight):\n",
    "        if mi < missmatch_size and missmatch[mi] == wi:\n",
    "            k = weight[wi] * math.exp(alpha)\n",
    "            mi+=1\n",
    "        else:\n",
    "            k = weight[wi] * math.exp(-1*alpha)\n",
    "        new_weight.append( k )\n",
    "        norm_constant += k\n",
    "        wi += 1\n",
    "\n",
    "    new_weight /= norm_constant\n",
    "    sum =0\n",
    "    for i in new_weight:\n",
    "        sum+=i\n",
    "    print(sum)\n",
    "    # plt.plot(new_weight)\n",
    "    # plt.show()\n",
    "    return new_weight"
   ],
   "metadata": {
    "collapsed": false,
    "pycharm": {
     "name": "#%%\n"
    }
   }
  },
  {
   "cell_type": "code",
   "execution_count": 102,
   "outputs": [],
   "source": [
    "from sklearn.metrics import f1_score, accuracy_score\n",
    "def findMissClassificatonIndex(predicted, test_res, weight):\n",
    "    error_rate = 0\n",
    "    missmatch_indexes = []\n",
    "    incorrect= []\n",
    "    # print(f1_score(test_res, predicted))\n",
    "    print(accuracy_score(test_res, predicted))\n",
    "    for i, (pred, real) in enumerate(zip(predicted, test_res)):\n",
    "        if pred != real:\n",
    "            incorrect.append((i, pred, real))\n",
    "            missmatch_indexes.append(i)\n",
    "            error_rate += weight[i]\n",
    "    error_rate /= len(predicted)\n",
    "    # print(incorrect)\n",
    "    return error_rate, missmatch_indexes"
   ],
   "metadata": {
    "collapsed": false,
    "pycharm": {
     "name": "#%%\n"
    }
   }
  },
  {
   "cell_type": "code",
   "execution_count": 103,
   "outputs": [],
   "source": [
    "def rejectionSampling(train_data, train_res, weights):\n",
    "    samplesize  = int(3 * len(train_data))\n",
    "    new_train_data = []\n",
    "    new_train_res = []\n",
    "    new_weights = []\n",
    "    adding_index =[]\n",
    "    max_w = max(weights)\n",
    "\n",
    "    for i in range(samplesize):\n",
    "        while True:\n",
    "            index = random.randrange(len(weights))\n",
    "            u = max_w * random.random()\n",
    "            if u <= weights[index]:\n",
    "                new_train_data.append(train_data[index])\n",
    "                new_train_res.append(train_res[index])\n",
    "                adding_index.append(index)\n",
    "                break\n",
    "    # print(adding_index)\n",
    "    return new_train_data, new_train_res"
   ],
   "metadata": {
    "collapsed": false,
    "pycharm": {
     "name": "#%%\n"
    }
   }
  },
  {
   "cell_type": "code",
   "execution_count": 104,
   "outputs": [],
   "source": [
    "def resample(train_data, train_res, weights):\n",
    "    size = len(train_data)\n",
    "    indexes = np.random.choice(int(size), int( 5 * size), replace=True, p=weights)\n",
    "    new_train_data = []\n",
    "    new_train_res = []\n",
    "    for index in indexes:\n",
    "         new_train_data.append(train_data[index])\n",
    "         new_train_res.append(train_res[index])\n",
    "    return np.array(new_train_data), np.array(new_train_res)"
   ],
   "metadata": {
    "collapsed": false,
    "pycharm": {
     "name": "#%%\n"
    }
   }
  },
  {
   "cell_type": "code",
   "execution_count": 192,
   "outputs": [],
   "source": [
    "from sklearn.tree import DecisionTreeClassifier\n",
    "\n",
    "ensemble_size = 25\n",
    "ensemble = []\n",
    "alphas = []\n",
    "def boosting(weights):\n",
    "\n",
    "    for i in range(ensemble_size):\n",
    "        print(\"========== iteration ========>\",i)\n",
    "        train_data, train_res = resample(training_split, train_result, weights)\n",
    "        # print(sum(train_res))\n",
    "        tree = DecisionTreeClassifier(max_depth= random.randint(1,3))\n",
    "        tree.fit(train_data, train_res)\n",
    "        print(\"percentage of ones:\",sum(train_res)/len(train_res))\n",
    "        predicted_result = tree.predict(training_split)\n",
    "\n",
    "        error_rate, error_indexes = findMissClassificatonIndex(predicted_result, train_result, weights)\n",
    "        print(\"error_rate:\", error_rate)\n",
    "\n",
    "        if error_rate > .5:\n",
    "            weights = np.ones(training_split.shape[0]) * (1/training_split.shape[0])\n",
    "            print(\"re-balancing and training because error:\", error_rate)\n",
    "            continue\n",
    "\n",
    "        amount_of_say = 0.2 * ( math.log( (1-error_rate) / error_rate ) )\n",
    "        alphas.append(amount_of_say)\n",
    "        ensemble.append(tree)\n",
    "        weights = updateWeight(error_indexes, weights, amount_of_say)\n",
    "        # Rejection Sampling0\n",
    "        # plt.plot(weights)\n",
    "        # plt.show()"
   ],
   "metadata": {
    "collapsed": false,
    "pycharm": {
     "name": "#%%\n"
    }
   }
  },
  {
   "cell_type": "code",
   "execution_count": 193,
   "outputs": [
    {
     "name": "stdout",
     "output_type": "stream",
     "text": [
      "========== iteration ========> 0\n",
      "percentage of ones: 0.07807637906647807\n",
      "0.9575671852899575\n",
      "error_rate: 6.001812547389312e-05\n",
      "1.0000000000000144\n",
      "========== iteration ========> 1\n",
      "percentage of ones: 0.47694483734087695\n",
      "0.3069306930693069\n",
      "error_rate: 0.0003235820319338473\n",
      "0.9999999999999841\n",
      "========== iteration ========> 2\n",
      "percentage of ones: 0.0958981612446959\n",
      "0.9603960396039604\n",
      "error_rate: 7.125215785026898e-05\n",
      "1.0000000000000269\n",
      "========== iteration ========> 3\n",
      "percentage of ones: 0.7196605374823196\n",
      "0.2446958981612447\n",
      "error_rate: 0.000331470049109494\n",
      "1.0000000000000069\n",
      "========== iteration ========> 4\n",
      "percentage of ones: 0.10551626591230552\n",
      "0.9292786421499293\n",
      "error_rate: 7.046276726077876e-05\n",
      "1.000000000000017\n",
      "========== iteration ========> 5\n",
      "percentage of ones: 0.7343705799151343\n",
      "0.7397454031117398\n",
      "error_rate: 0.00010811056181632281\n",
      "1.0000000000000304\n",
      "========== iteration ========> 6\n",
      "percentage of ones: 0.8028288543140029\n",
      "0.1272984441301273\n",
      "error_rate: 0.00022565177235310739\n",
      "0.9999999999999929\n",
      "========== iteration ========> 7\n",
      "percentage of ones: 0.14314002828854314\n",
      "0.9363507779349364\n",
      "error_rate: 0.000170011888079982\n",
      "0.9999999999999959\n",
      "========== iteration ========> 8\n",
      "percentage of ones: 0.7046676096181047\n",
      "0.10466760961810467\n",
      "error_rate: 0.00016632275346527108\n",
      "1.0000000000000122\n",
      "========== iteration ========> 9\n",
      "percentage of ones: 0.32673267326732675\n",
      "0.9490806223479491\n",
      "error_rate: 0.00020414049063585422\n",
      "0.9999999999999795\n",
      "========== iteration ========> 10\n",
      "percentage of ones: 0.7742574257425743\n",
      "0.22913719943422914\n",
      "error_rate: 0.00015352384023020944\n",
      "0.9999999999999953\n",
      "========== iteration ========> 11\n",
      "percentage of ones: 0.1915134370579915\n",
      "0.9292786421499293\n",
      "error_rate: 0.0001611529345890611\n",
      "1.0000000000000024\n",
      "========== iteration ========> 12\n",
      "percentage of ones: 0.8314002828854314\n",
      "0.31683168316831684\n",
      "error_rate: 0.0001747266032211312\n",
      "1.0000000000000049\n",
      "========== iteration ========> 13\n",
      "percentage of ones: 0.17171145685997172\n",
      "0.884016973125884\n",
      "error_rate: 0.00015953585070656756\n",
      "1.0000000000000067\n",
      "========== iteration ========> 14\n",
      "percentage of ones: 0.5490806223479491\n",
      "0.9292786421499293\n",
      "error_rate: 7.863566165740415e-05\n",
      "1.0000000000000167\n",
      "========== iteration ========> 15\n",
      "percentage of ones: 0.7207920792079208\n",
      "0.12164073550212164\n",
      "error_rate: 0.0002827638936320735\n",
      "0.9999999999999936\n",
      "========== iteration ========> 16\n",
      "percentage of ones: 0.1340876944837341\n",
      "0.9024045261669024\n",
      "error_rate: 0.00011874436116816566\n",
      "0.9999999999999806\n",
      "========== iteration ========> 17\n",
      "percentage of ones: 0.7256011315417256\n",
      "0.1471004243281471\n",
      "error_rate: 0.0002981902160510561\n",
      "0.999999999999995\n",
      "========== iteration ========> 18\n",
      "percentage of ones: 0.12164073550212164\n",
      "0.9094766619519095\n",
      "error_rate: 0.0001113008565731924\n",
      "1.000000000000002\n",
      "========== iteration ========> 19\n",
      "percentage of ones: 0.7544554455445545\n",
      "0.3012729844413013\n",
      "error_rate: 0.00012915488885899154\n",
      "1.0000000000000056\n",
      "========== iteration ========> 20\n",
      "percentage of ones: 0.1903818953323904\n",
      "0.8868458274398868\n",
      "error_rate: 0.00012476834984499508\n",
      "0.9999999999999972\n",
      "========== iteration ========> 21\n",
      "percentage of ones: 0.6588401697312588\n",
      "0.9207920792079208\n",
      "error_rate: 0.0001813153654424222\n",
      "1.0000000000000038\n",
      "========== iteration ========> 22\n",
      "percentage of ones: 0.9261669024045261\n",
      "0.14427157001414428\n",
      "error_rate: 8.403685932338795e-05\n",
      "1.0000000000000007\n",
      "========== iteration ========> 23\n",
      "percentage of ones: 0.2678925035360679\n",
      "0.9476661951909476\n",
      "error_rate: 0.0002697724287823704\n",
      "0.9999999999999987\n",
      "========== iteration ========> 24\n",
      "percentage of ones: 0.8053748231966054\n",
      "0.16265912305516267\n",
      "error_rate: 0.00015071169703832356\n",
      "0.9999999999999953\n"
     ]
    }
   ],
   "source": [
    "\n",
    "boosting(initial_weight)\n"
   ],
   "metadata": {
    "collapsed": false,
    "pycharm": {
     "name": "#%%\n"
    }
   }
  },
  {
   "cell_type": "code",
   "execution_count": 194,
   "outputs": [
    {
     "data": {
      "text/plain": "[1.9441607860408714,\n 1.607146853093999,\n 1.9098428397919798,\n 1.6023283154033932,\n 1.9120711292726675,\n 1.8264496035113738,\n 1.6792583800104464,\n 1.7358944334270014,\n 1.7402828045476857,\n 1.6992995920466727,\n 1.7563002312848615,\n 1.7465991147304756,\n 1.7304226662181899,\n 1.7486164686196277,\n 1.8901213224034141,\n 1.6341231005564816,\n 1.8076837699329573,\n 1.623496146302318,\n 1.8206324593172027,\n 1.7908738043587,\n 1.7977853930139673,\n 1.723018272102917,\n 1.8768342027013298,\n 1.6435324003813443,\n 1.7599982228501565]"
     },
     "execution_count": 194,
     "metadata": {},
     "output_type": "execute_result"
    }
   ],
   "source": [
    "alphas"
   ],
   "metadata": {
    "collapsed": false,
    "pycharm": {
     "name": "#%%\n"
    }
   }
  },
  {
   "cell_type": "code",
   "execution_count": 195,
   "outputs": [],
   "source": [
    "from sklearn.metrics import ConfusionMatrixDisplay, confusion_matrix\n",
    "f1=[]\n",
    "\n",
    "def repeat(test_split, test_result, start, end):\n",
    "    mx = 0\n",
    "    size = 0\n",
    "    data = []\n",
    "    for i in range(start,end):\n",
    "        data = some_pred(test_split, i)\n",
    "    #     tn, fp, fn, tp = confusion_matrix(test_result, data).ravel()\n",
    "    #     precision = tp / (tp+ fp)\n",
    "    #     recall = tp / (tp+ fn)\n",
    "    #     score = (2 * precision * recall) / (precision + recall)\n",
    "    #     print(score)\n",
    "    #     f1.append(score)\n",
    "    #     if mx < score:\n",
    "    #         mx = score\n",
    "    #         size = i\n",
    "    #     # print(i)\n",
    "    # print(mx,size)\n",
    "    return data\n",
    "\n",
    "def some_pred(test_split, esize):\n",
    "    data = []\n",
    "    for j in range(len(test_split)):\n",
    "        pa=0\n",
    "        na =0\n",
    "        for i in range(esize):\n",
    "            k = ensemble[i].predict([test_split[j]])\n",
    "            if k[0] == 1:\n",
    "                pa += alphas[i]\n",
    "            else:\n",
    "                na+=alphas[i]\n",
    "        if pa >=na:\n",
    "            data.append(1)\n",
    "        else:\n",
    "            data.append(0)\n",
    "    # f1.append(f1_score(test_result, data, average=\"macro\"))\n",
    "    # acc.append(accuracy_score(test_result, data))\n",
    "    return data"
   ],
   "metadata": {
    "collapsed": false,
    "pycharm": {
     "name": "#%%\n"
    }
   }
  },
  {
   "cell_type": "code",
   "execution_count": 196,
   "outputs": [],
   "source": [
    "def getf1(true, predicted):\n",
    "    tn, fp, fn, tp = confusion_matrix(true, predicted).ravel()\n",
    "    precision = tp / (tp+ fp)\n",
    "    recall = tp / (tp+ fn)\n",
    "    score = (2 * precision * recall) / (precision + recall)\n",
    "    return score"
   ],
   "metadata": {
    "collapsed": false,
    "pycharm": {
     "name": "#%%\n"
    }
   }
  },
  {
   "cell_type": "code",
   "execution_count": 196,
   "outputs": [],
   "source": [],
   "metadata": {
    "collapsed": false,
    "pycharm": {
     "name": "#%%\n"
    }
   }
  },
  {
   "cell_type": "code",
   "execution_count": 197,
   "outputs": [],
   "source": [
    "f1_test = []\n",
    "acc_test = []\n",
    "for i in range(1,ensemble_size+1):\n",
    "    data = some_pred(test_split, i)\n",
    "    f1_test.append(getf1(test_result, data))\n",
    "    acc_test.append(accuracy_score(test_result, data))"
   ],
   "metadata": {
    "collapsed": false,
    "pycharm": {
     "name": "#%%\n"
    }
   }
  },
  {
   "cell_type": "code",
   "execution_count": 198,
   "outputs": [],
   "source": [
    "f1_train = []\n",
    "acc_train = []\n",
    "for i in range(1,ensemble_size+1):\n",
    "    data = some_pred(training_split, i)\n",
    "    f1_train.append(getf1(train_result, data))\n",
    "    acc_train.append(accuracy_score(train_result, data))"
   ],
   "metadata": {
    "collapsed": false,
    "pycharm": {
     "name": "#%%\n"
    }
   }
  },
  {
   "cell_type": "code",
   "execution_count": 199,
   "outputs": [
    {
     "data": {
      "text/plain": "[<matplotlib.lines.Line2D at 0x2da3b7040>]"
     },
     "execution_count": 199,
     "metadata": {},
     "output_type": "execute_result"
    },
    {
     "data": {
      "text/plain": "<Figure size 640x480 with 1 Axes>",
      "image/png": "[encoded data removed]"
     },
     "metadata": {},
     "output_type": "display_data"
    }
   ],
   "source": [
    "plt.plot(f1_train)\n",
    "plt.plot(f1_test, '--')"
   ],
   "metadata": {
    "collapsed": false,
    "pycharm": {
     "name": "#%%\n"
    }
   }
  },
  {
   "cell_type": "code",
   "execution_count": 188,
   "outputs": [
    {
     "ename": "IndexError",
     "evalue": "list index out of range",
     "output_type": "error",
     "traceback": [
      "\u001B[0;31m---------------------------------------------------------------------------\u001B[0m",
      "\u001B[0;31mIndexError\u001B[0m                                Traceback (most recent call last)",
      "Cell \u001B[0;32mIn [188], line 1\u001B[0m\n\u001B[0;32m----> 1\u001B[0m f1_train[\u001B[38;5;241m35\u001B[39m]\n",
      "\u001B[0;31mIndexError\u001B[0m: list index out of range"
     ]
    }
   ],
   "source": [
    "f1_train[35]\n",
    "# f1_test[35]"
   ],
   "metadata": {
    "collapsed": false,
    "pycharm": {
     "name": "#%%\n"
    }
   }
  },
  {
   "cell_type": "code",
   "execution_count": 189,
   "outputs": [
    {
     "ename": "IndexError",
     "evalue": "list index out of range",
     "output_type": "error",
     "traceback": [
      "\u001B[0;31m---------------------------------------------------------------------------\u001B[0m",
      "\u001B[0;31mIndexError\u001B[0m                                Traceback (most recent call last)",
      "Cell \u001B[0;32mIn [189], line 1\u001B[0m\n\u001B[0;32m----> 1\u001B[0m acc_train[\u001B[38;5;241m32\u001B[39m]\n",
      "\u001B[0;31mIndexError\u001B[0m: list index out of range"
     ]
    }
   ],
   "source": [
    "acc_train[32]\n",
    "# acc_test[32]"
   ],
   "metadata": {
    "collapsed": false,
    "pycharm": {
     "name": "#%%\n"
    }
   }
  },
  {
   "cell_type": "code",
   "execution_count": 200,
   "outputs": [
    {
     "data": {
      "text/plain": "[<matplotlib.lines.Line2D at 0x2da4312b0>]"
     },
     "execution_count": 200,
     "metadata": {},
     "output_type": "execute_result"
    },
    {
     "data": {
      "text/plain": "<Figure size 640x480 with 1 Axes>",
      "image/png": "[encoded data removed]"
     },
     "metadata": {},
     "output_type": "display_data"
    }
   ],
   "source": [
    "plt.plot(acc_train)\n",
    "plt.plot(acc_test, '--')"
   ],
   "metadata": {
    "collapsed": false,
    "pycharm": {
     "name": "#%%\n"
    }
   }
  },
  {
   "cell_type": "code",
   "execution_count": 203,
   "outputs": [
    {
     "data": {
      "text/plain": "<sklearn.metrics._plot.confusion_matrix.ConfusionMatrixDisplay at 0x2c4cf3820>"
     },
     "execution_count": 203,
     "metadata": {},
     "output_type": "execute_result"
    },
    {
     "data": {
      "text/plain": "<Figure size 640x480 with 2 Axes>",
      "image/png": "[encoded data removed]"
     },
     "metadata": {},
     "output_type": "display_data"
    },
    {
     "data": {
      "text/plain": "<Figure size 640x480 with 2 Axes>",
      "image/png": "[encoded data removed]"
     },
     "metadata": {},
     "output_type": "display_data"
    }
   ],
   "source": [
    "ConfusionMatrixDisplay.from_predictions(test_result,some_pred(test_split, 5),cmap='Greens')\n",
    "ConfusionMatrixDisplay.from_predictions(train_result,some_pred(training_split, 5),cmap='Greens')"
   ],
   "metadata": {
    "collapsed": false,
    "pycharm": {
     "name": "#%%\n"
    }
   }
  },
  {
   "cell_type": "code",
   "execution_count": 204,
   "outputs": [],
   "source": [
    "table_test = pd.read_table('./1663769555_8653905_test.txt', names=['sequence'])\n",
    "unlabeled_test = vectorizer_best.transform(table_test.sequence).toarray()\n",
    "\n",
    "predicted_data = some_pred(unlabeled_test, 5)"
   ],
   "metadata": {
    "collapsed": false,
    "pycharm": {
     "name": "#%%\n"
    }
   }
  },
  {
   "cell_type": "code",
   "execution_count": 205,
   "outputs": [
    {
     "name": "stdout",
     "output_type": "stream",
     "text": [
      "350\n",
      "(350, 24442)\n"
     ]
    }
   ],
   "source": [
    "print(len(predicted_data))\n",
    "print(unlabeled_test.shape)"
   ],
   "metadata": {
    "collapsed": false,
    "pycharm": {
     "name": "#%%\n"
    }
   }
  },
  {
   "cell_type": "code",
   "execution_count": null,
   "outputs": [],
   "source": [],
   "metadata": {
    "collapsed": false,
    "pycharm": {
     "name": "#%%\n"
    }
   }
  }
 ],
 "metadata": {
  "kernelspec": {
   "display_name": "Python 3",
   "language": "python",
   "name": "python3"
  },
  "language_info": {
   "codemirror_mode": {
    "name": "ipython",
    "version": 2
   },
   "file_extension": ".py",
   "mimetype": "text/x-python",
   "name": "python",
   "nbconvert_exporter": "python",
   "pygments_lexer": "ipython2",
   "version": "2.7.6"
  }
 },
 "nbformat": 4,
 "nbformat_minor": 0
}