{
 "cells": [
  {
   "cell_type": "code",
   "execution_count": 1,
   "metadata": {
    "collapsed": true,
    "pycharm": {
     "name": "#%%\n"
    }
   },
   "outputs": [],
   "source": [
    "import math\n",
    "import random\n",
    "import tensorflow as tf\n",
    "import pandas as pd\n",
    "import numpy as np\n",
    "import matplotlib.pyplot as plt\n",
    "import imblearn"
   ]
  },
  {
   "cell_type": "code",
   "execution_count": 2,
   "outputs": [
    {
     "name": "stdout",
     "output_type": "stream",
     "text": [
      "2.10.0\n"
     ]
    }
   ],
   "source": [
    "print(tf.__version__)"
   ],
   "metadata": {
    "collapsed": false,
    "pycharm": {
     "name": "#%%\n"
    }
   }
  },
  {
   "cell_type": "code",
   "execution_count": 3,
   "outputs": [],
   "source": [
    "table = pd.read_table('./1663769555_8559356_train.txt', names=['binding','sequence'])"
   ],
   "metadata": {
    "collapsed": false,
    "pycharm": {
     "name": "#%%\n"
    }
   }
  },
  {
   "cell_type": "code",
   "execution_count": 4,
   "outputs": [],
   "source": [
    "from sklearn.feature_extraction.text import CountVectorizer\n",
    "def return_binary_vectorized_form(data_frame, feat = None):\n",
    "    if feat is None:\n",
    "        count_vectorizer = CountVectorizer(binary=True)\n",
    "    else:\n",
    "        count_vectorizer = CountVectorizer(binary=True, vocabulary=feat)\n",
    "    fitted_and_transformed = count_vectorizer.fit_transform(data_frame).toarray()\n",
    "    return count_vectorizer,  fitted_and_transformed"
   ],
   "metadata": {
    "collapsed": false,
    "pycharm": {
     "name": "#%%\n"
    }
   }
  },
  {
   "cell_type": "code",
   "execution_count": 5,
   "outputs": [],
   "source": [
    "from sklearn.feature_selection import SelectKBest, chi2\n",
    "def select_k_best_features(feature_set, target_values, fraction, feature_list):\n",
    "    select_bestselect_best = SelectKBest(score_func=chi2, k = int(len(feature_list)*fraction))\n",
    "    select_bestselect_best.fit(feature_set,target_values)\n",
    "    mask = select_bestselect_best.get_support()\n",
    "    k_best_featurs = feature_list[mask]\n",
    "    return k_best_featurs"
   ],
   "metadata": {
    "collapsed": false,
    "pycharm": {
     "name": "#%%\n"
    }
   }
  },
  {
   "cell_type": "code",
   "execution_count": 6,
   "outputs": [],
   "source": [
    "from sklearn.model_selection import train_test_split\n",
    "active_df = table.loc[table.binding == 1]\n",
    "not_active_df = table.loc[table.binding == 0]\n",
    "# Mainly spliting the data here for testing, that is the reason train size is set to .20\n",
    "active_train, active_test, active_binding_train, active_binding_test = train_test_split(active_df.sequence, active_df.binding, shuffle=True, train_size= .82)\n",
    "not_active_train, not_active_test, not_active_binding_train, not_active_binding_test = train_test_split(not_active_df.sequence, not_active_df.binding, shuffle=True, train_size=.90)"
   ],
   "metadata": {
    "collapsed": false,
    "pycharm": {
     "name": "#%%\n"
    }
   }
  },
  {
   "cell_type": "code",
   "execution_count": 7,
   "outputs": [],
   "source": [
    "def createDf(data):\n",
    "    pd_df = pd.DataFrame(data)\n",
    "    return pd_df\n",
    "def addColumn(copy_to, copy_from ,cname):\n",
    "    copy_to[cname] = copy_from[cname]\n",
    "    return copy_to"
   ],
   "metadata": {
    "collapsed": false,
    "pycharm": {
     "name": "#%%\n"
    }
   }
  },
  {
   "cell_type": "code",
   "execution_count": 8,
   "outputs": [
    {
     "name": "stdout",
     "output_type": "stream",
     "text": [
      "0    649\n",
      "1     63\n",
      "Name: binding, dtype: int64\n",
      "0    73\n",
      "1    15\n",
      "Name: binding, dtype: int64\n"
     ]
    }
   ],
   "source": [
    "active_test_df = pd.DataFrame(active_test)\n",
    "active_binding_test_df = pd.DataFrame(active_binding_test)\n",
    "active_test_df['binding'] = active_binding_test_df['binding']\n",
    "not_active_test_df = pd.DataFrame(not_active_test)\n",
    "not_active_binding_test_df = pd.DataFrame(not_active_binding_test)\n",
    "not_active_test_df['binding'] = not_active_binding_test_df['binding']\n",
    "active_train_df = createDf(active_train)\n",
    "active_binding_train_df = createDf(active_binding_train)\n",
    "active_train_df = addColumn(active_train_df, active_binding_train_df, 'binding')\n",
    "not_active_train_df = createDf(not_active_train)\n",
    "not_active_binding_train_df = createDf(not_active_binding_train)\n",
    "not_active_train_df = addColumn(not_active_train_df, not_active_binding_train_df, 'binding')\n",
    "train_df = pd.concat([active_train_df, not_active_train_df]).reset_index()\n",
    "train_df = train_df.drop('index', axis=1)\n",
    "print(train_df.binding.value_counts())\n",
    "test_df = pd.concat([active_test_df, not_active_test_df]).reset_index()\n",
    "test_df = test_df.drop('index', axis=1)\n",
    "print(test_df.binding.value_counts())\n",
    "from imblearn.over_sampling import RandomOverSampler, SMOTE\n",
    "\n",
    "\n"
   ],
   "metadata": {
    "collapsed": false,
    "pycharm": {
     "name": "#%%\n"
    }
   }
  },
  {
   "cell_type": "code",
   "execution_count": 9,
   "outputs": [
    {
     "name": "stdout",
     "output_type": "stream",
     "text": [
      "0    649\n",
      "1     97\n",
      "Name: binding, dtype: int64\n",
      "0    73\n",
      "1    15\n",
      "Name: binding, dtype: int64\n"
     ]
    }
   ],
   "source": [
    "sampler = RandomOverSampler(sampling_strategy=.15)\n",
    "x_sampled, y_sampled = sampler.fit_resample(np.array(train_df.sequence).reshape(-1, 1), train_df.binding)\n",
    "\n",
    "final_train_set = pd.DataFrame(x_sampled, columns  =[\"sequence\"])\n",
    "final_train_set['binding'] = y_sampled\n",
    "print(final_train_set.binding.value_counts())\n",
    "\n",
    "final_test_set = pd.DataFrame(test_df.sequence, columns  =[\"sequence\"])\n",
    "final_test_set['binding'] = test_df.binding\n",
    "print(final_test_set.binding.value_counts())"
   ],
   "metadata": {
    "collapsed": false,
    "pycharm": {
     "name": "#%%\n"
    }
   }
  },
  {
   "cell_type": "code",
   "execution_count": 10,
   "outputs": [],
   "source": [
    "train_result = np.array(final_train_set.binding)\n",
    "test_result = np.array(final_test_set.binding)"
   ],
   "metadata": {
    "collapsed": false,
    "pycharm": {
     "name": "#%%\n"
    }
   }
  },
  {
   "cell_type": "code",
   "execution_count": 11,
   "outputs": [],
   "source": [
    "vectorizer_best, training_split = return_binary_vectorized_form(final_train_set.sequence)\n",
    "features = select_k_best_features(training_split,train_result,.30,vectorizer_best.get_feature_names_out())"
   ],
   "metadata": {
    "collapsed": false,
    "pycharm": {
     "name": "#%%\n"
    }
   }
  },
  {
   "cell_type": "code",
   "execution_count": 12,
   "outputs": [],
   "source": [
    "vectorizer_best, training_split = return_binary_vectorized_form(final_train_set.sequence,features)\n",
    "test_split = vectorizer_best.transform(final_test_set.sequence).toarray()"
   ],
   "metadata": {
    "collapsed": false,
    "pycharm": {
     "name": "#%%\n"
    }
   }
  },
  {
   "cell_type": "code",
   "execution_count": 13,
   "outputs": [
    {
     "name": "stdout",
     "output_type": "stream",
     "text": [
      "(1298, 24921)\n",
      "(88, 24921)\n"
     ]
    }
   ],
   "source": [
    "smote = SMOTE(random_state=42)\n",
    "x, y = smote.fit_resample(training_split, train_result)\n",
    "training_split = x\n",
    "train_result = y\n",
    "print(training_split.shape)\n",
    "print(test_split.shape)"
   ],
   "metadata": {
    "collapsed": false,
    "pycharm": {
     "name": "#%%\n"
    }
   }
  },
  {
   "cell_type": "code",
   "execution_count": 14,
   "outputs": [],
   "source": [
    "initial_weight = np.ones(training_split.shape[0])*(1/training_split.shape[0])"
   ],
   "metadata": {
    "collapsed": false,
    "pycharm": {
     "name": "#%%\n"
    }
   }
  },
  {
   "cell_type": "code",
   "execution_count": 15,
   "outputs": [],
   "source": [
    "def updateWeight(missmatch, weight, alpha):\n",
    "    mi = 0\n",
    "    missmatch_size = len(missmatch)\n",
    "    wi = 0\n",
    "\n",
    "    new_weight = []\n",
    "    norm_constant = 0\n",
    "    while wi < len(weight):\n",
    "        if mi < missmatch_size and missmatch[mi] == wi:\n",
    "            k = weight[wi] * math.exp(alpha)\n",
    "            mi+=1\n",
    "        else:\n",
    "            k = weight[wi] * math.exp(-1*alpha)\n",
    "        new_weight.append( k )\n",
    "        norm_constant += k\n",
    "        wi += 1\n",
    "\n",
    "    new_weight /= norm_constant\n",
    "    sum =0\n",
    "    for i in new_weight:\n",
    "        sum+=i\n",
    "    print(sum)\n",
    "    # plt.plot(new_weight)\n",
    "    # plt.show()\n",
    "    return new_weight"
   ],
   "metadata": {
    "collapsed": false,
    "pycharm": {
     "name": "#%%\n"
    }
   }
  },
  {
   "cell_type": "code",
   "execution_count": 16,
   "outputs": [],
   "source": [
    "from sklearn.metrics import f1_score, accuracy_score, confusion_matrix\n",
    "def findMissClassificatonIndex(predicted, test_res, weight):\n",
    "    error_rate = 0\n",
    "    missmatch_indexes = []\n",
    "    incorrect= []\n",
    "    tn, fp, fn, tp = confusion_matrix(test_res, predicted).ravel()\n",
    "    precision = tp / (tp+ fp)\n",
    "    recall = tp / (tp+ fn)\n",
    "    score = (2 * precision * recall) / (precision + recall)\n",
    "    print(score)\n",
    "    print(accuracy_score(test_res, predicted))\n",
    "    for i, (pred, real) in enumerate(zip(predicted, test_res)):\n",
    "        if pred != real:\n",
    "            incorrect.append((i, pred, real))\n",
    "            missmatch_indexes.append(i)\n",
    "            error_rate += weight[i]\n",
    "    error_rate /= len(predicted)\n",
    "    # print(incorrect)\n",
    "    return error_rate, missmatch_indexes"
   ],
   "metadata": {
    "collapsed": false,
    "pycharm": {
     "name": "#%%\n"
    }
   }
  },
  {
   "cell_type": "code",
   "execution_count": 17,
   "outputs": [],
   "source": [
    "def rejectionSampling(train_data, train_res, weights):\n",
    "    samplesize  = int(4 * len(train_data))\n",
    "    new_train_data = []\n",
    "    new_train_res = []\n",
    "    new_weights = []\n",
    "    adding_index =[]\n",
    "    max_w = max(weights)\n",
    "\n",
    "    for i in range(samplesize):\n",
    "        while True:\n",
    "            index = random.randrange(len(weights))\n",
    "            u = max_w * random.random()\n",
    "            if u <= weights[index]:\n",
    "                new_train_data.append(train_data[index])\n",
    "                new_train_res.append(train_res[index])\n",
    "                adding_index.append(index)\n",
    "                break\n",
    "    # print(adding_index)\n",
    "    return np.array(new_train_data), np.array(new_train_res)"
   ],
   "metadata": {
    "collapsed": false,
    "pycharm": {
     "name": "#%%\n"
    }
   }
  },
  {
   "cell_type": "code",
   "execution_count": 18,
   "outputs": [],
   "source": [
    "def resample(train_data, train_res, weights):\n",
    "    size = len(train_data)\n",
    "    indexes = np.random.choice(int(size), int( 5 * size), replace=True, p=weights)\n",
    "    new_train_data = []\n",
    "    new_train_res = []\n",
    "    for index in indexes:\n",
    "         new_train_data.append(train_data[index])\n",
    "         new_train_res.append(train_res[index])\n",
    "    return np.array(new_train_data), np.array(new_train_res)"
   ],
   "metadata": {
    "collapsed": false,
    "pycharm": {
     "name": "#%%\n"
    }
   }
  },
  {
   "cell_type": "code",
   "execution_count": 82,
   "outputs": [],
   "source": [
    "class EarlyStoppingMonitor(tf.keras.callbacks.Callback):\n",
    "    def __init__(self):\n",
    "        super(EarlyStoppingMonitor, self).__init__()\n",
    "        self.f1_train = None\n",
    "        self.f1_test = None\n",
    "        self.prevous = None\n",
    "        self.count =0\n",
    "\n",
    "    def on_epoch_end(self, epoch, logs=None):\n",
    "        current_train_precision = logs.get('precision')\n",
    "        current_train_recall= logs.get('recall')\n",
    "\n",
    "        if current_train_precision==0 or current_train_recall==0:\n",
    "            print(\"**** Waring: precision recall zero avoid exception ****\")\n",
    "            return\n",
    "        self.f1_train = (2*current_train_precision*current_train_recall) / (current_train_precision+current_train_recall)\n",
    "        if self.prevous == None:\n",
    "            self.prevous = self.f1_train\n",
    "        if self.prevous == self.f1_train:\n",
    "            self.count += 1\n",
    "        else:\n",
    "            self.prevous = self.f1_train\n",
    "            self.count = 0\n",
    "        if self.count == 5:\n",
    "            self.model.stop_training = True\n",
    "            print('\\n\\n******* No improvements *******')\n",
    "        if current_train_recall > .45:\n",
    "            # self.count += 1\n",
    "            # if self.count >4:\n",
    "            self.model.stop_training = True\n",
    "            print('\\n\\n******* Stoping on Defined Thresold *******')\n",
    "            print('F1 TRAINING: ', self.f1_train)\n",
    "            print('Recall TRAINING: ', current_train_recall)\n",
    "\n",
    "    def on_train_end(self, logs=None):\n",
    "        if self.model.stop_training:\n",
    "            print(\"\\n\\n\\n****** Early Stopping *******\")"
   ],
   "metadata": {
    "collapsed": false,
    "pycharm": {
     "name": "#%%\n"
    }
   }
  },
  {
   "cell_type": "code",
   "execution_count": 83,
   "outputs": [],
   "source": [
    "def createBaseModel():\n",
    "    model = tf.keras.Sequential([\n",
    "        tf.keras.Input(shape=(training_split.shape[-1],)),\n",
    "        tf.keras.layers.Dense(2, activation='relu',kernel_regularizer=tf.keras.regularizers.L1(.025)),\n",
    "        tf.keras.layers.Dense(1, activation='sigmoid')\n",
    "    ])\n",
    "\n",
    "    METRICS = [\n",
    "      tf.keras.metrics.TruePositives(name='tp'),\n",
    "      tf.keras.metrics.FalsePositives(name='fp'),\n",
    "      tf.keras.metrics.TrueNegatives(name='tn'),\n",
    "      tf.keras.metrics.FalseNegatives(name='fn'),\n",
    "      tf.keras.metrics.Precision(name='precision'),\n",
    "      tf.keras.metrics.Recall(name='recall')\n",
    "    ]\n",
    "\n",
    "    model.compile(loss=tf.keras.losses.BinaryFocalCrossentropy(), metrics=METRICS, optimizer='adam')\n",
    "\n",
    "    return model"
   ],
   "metadata": {
    "collapsed": false,
    "pycharm": {
     "name": "#%%\n"
    }
   }
  },
  {
   "cell_type": "code",
   "execution_count": 102,
   "outputs": [],
   "source": [
    "ensemble_size = 12\n",
    "ensemble = []\n",
    "alphas = []\n",
    "def boosting(weights):\n",
    "\n",
    "    for i in range(ensemble_size):\n",
    "        print(\" =========== iteration ===========>:\", i )\n",
    "        train_data, train_res = resample(training_split, train_result, weights)\n",
    "        model = createBaseModel()\n",
    "        num_epochs = 60\n",
    "        print( \"bfore traning: \", ((sum(train_res)/len(train_res)))*100)\n",
    "        history = model.fit(train_data, train_res,\n",
    "                    epochs= num_epochs,\n",
    "                    batch_size=70,\n",
    "                    callbacks=[EarlyStoppingMonitor()])\n",
    "        predicted_result = model.predict(training_split)\n",
    "        predicted_result = [1 if i>=.5 else 0 for i in predicted_result ]\n",
    "        error_rate, error_indexes = findMissClassificatonIndex(predicted_result, train_result, weights)\n",
    "        print(\"error_rate:\", error_rate)\n",
    "\n",
    "        if error_rate > .5:\n",
    "            weights = np.ones(training_split.shape[0]) * (1/training_split.shape[0])\n",
    "            print(\"re-balancing and training because error:\", error_rate)\n",
    "            continue\n",
    "\n",
    "        amount_of_say = 0.0075 * ( math.log( (1-error_rate) / error_rate ) )\n",
    "        alphas.append(amount_of_say)\n",
    "        ensemble.append(model)\n",
    "        weights = updateWeight(error_indexes, weights, amount_of_say)\n"
   ],
   "metadata": {
    "collapsed": false,
    "pycharm": {
     "name": "#%%\n"
    }
   }
  },
  {
   "cell_type": "code",
   "execution_count": 103,
   "outputs": [
    {
     "name": "stdout",
     "output_type": "stream",
     "text": [
      " =========== iteration ===========>: 0\n",
      "bfore traning:  49.9075500770416\n",
      "Epoch 1/60\n"
     ]
    },
    {
     "name": "stderr",
     "output_type": "stream",
     "text": [
      "2022-11-12 19:13:43.839227: I tensorflow/core/grappler/optimizers/custom_graph_optimizer_registry.cc:114] Plugin optimizer for device_type GPU is enabled.\n"
     ]
    },
    {
     "name": "stdout",
     "output_type": "stream",
     "text": [
      "93/93 [==============================] - ETA: 0s - loss: 1.1658 - tp: 1854.0000 - fp: 164.0000 - tn: 3087.0000 - fn: 1385.0000 - precision: 0.9187 - recall: 0.5724\n",
      "\n",
      "******* Stoping on Defined Thresold *******\n",
      "F1 TRAINING:  0.705345273350108\n",
      "Recall TRAINING:  0.5723989009857178\n",
      "93/93 [==============================] - 3s 19ms/step - loss: 1.1658 - tp: 1854.0000 - fp: 164.0000 - tn: 3087.0000 - fn: 1385.0000 - precision: 0.9187 - recall: 0.5724\n",
      "\n",
      "\n",
      "\n",
      "****** Early Stopping *******\n",
      "41/41 [==============================] - 0s 3ms/step\n"
     ]
    },
    {
     "name": "stderr",
     "output_type": "stream",
     "text": [
      "2022-11-12 19:13:46.406131: I tensorflow/core/grappler/optimizers/custom_graph_optimizer_registry.cc:114] Plugin optimizer for device_type GPU is enabled.\n"
     ]
    },
    {
     "name": "stdout",
     "output_type": "stream",
     "text": [
      "0.6935166994106091\n",
      "0.7596302003081664\n",
      "error_rate: 0.00018518474552529462\n",
      "0.999999999999962\n",
      " =========== iteration ===========>: 1\n",
      "bfore traning:  52.003081664098616\n",
      "Epoch 1/60\n"
     ]
    },
    {
     "name": "stderr",
     "output_type": "stream",
     "text": [
      "2022-11-12 19:13:47.740959: I tensorflow/core/grappler/optimizers/custom_graph_optimizer_registry.cc:114] Plugin optimizer for device_type GPU is enabled.\n"
     ]
    },
    {
     "name": "stdout",
     "output_type": "stream",
     "text": [
      "93/93 [==============================] - ETA: 0s - loss: 1.1581 - tp: 3099.0000 - fp: 1659.0000 - tn: 1456.0000 - fn: 276.0000 - precision: 0.6513 - recall: 0.9182\n",
      "\n",
      "******* Stoping on Defined Thresold *******\n",
      "F1 TRAINING:  0.762080406868686\n",
      "Recall TRAINING:  0.918222188949585\n",
      "93/93 [==============================] - 3s 19ms/step - loss: 1.1581 - tp: 3099.0000 - fp: 1659.0000 - tn: 1456.0000 - fn: 276.0000 - precision: 0.6513 - recall: 0.9182\n",
      "\n",
      "\n",
      "\n",
      "****** Early Stopping *******\n",
      "41/41 [==============================] - 0s 4ms/step\n"
     ]
    },
    {
     "name": "stderr",
     "output_type": "stream",
     "text": [
      "2022-11-12 19:13:50.244439: I tensorflow/core/grappler/optimizers/custom_graph_optimizer_registry.cc:114] Plugin optimizer for device_type GPU is enabled.\n"
     ]
    },
    {
     "name": "stdout",
     "output_type": "stream",
     "text": [
      "0.7410491257285596\n",
      "0.7604006163328197\n",
      "error_rate: 0.00019607272646584773\n",
      "0.9999999999999901\n",
      " =========== iteration ===========>: 2\n",
      "bfore traning:  51.15562403697997\n",
      "Epoch 1/60\n"
     ]
    },
    {
     "name": "stderr",
     "output_type": "stream",
     "text": [
      "2022-11-12 19:13:51.714547: I tensorflow/core/grappler/optimizers/custom_graph_optimizer_registry.cc:114] Plugin optimizer for device_type GPU is enabled.\n"
     ]
    },
    {
     "name": "stdout",
     "output_type": "stream",
     "text": [
      "93/93 [==============================] - ETA: 0s - loss: 1.1545 - tp: 2379.0000 - fp: 1814.0000 - tn: 1356.0000 - fn: 941.0000 - precision: 0.5674 - recall: 0.7166\n",
      "\n",
      "******* Stoping on Defined Thresold *******\n",
      "F1 TRAINING:  0.633302260150512\n",
      "Recall TRAINING:  0.716566264629364\n",
      "93/93 [==============================] - 3s 19ms/step - loss: 1.1545 - tp: 2379.0000 - fp: 1814.0000 - tn: 1356.0000 - fn: 941.0000 - precision: 0.5674 - recall: 0.7166\n",
      "\n",
      "\n",
      "\n",
      "****** Early Stopping *******\n",
      "41/41 [==============================] - 0s 4ms/step\n"
     ]
    },
    {
     "name": "stderr",
     "output_type": "stream",
     "text": [
      "2022-11-12 19:13:54.216675: I tensorflow/core/grappler/optimizers/custom_graph_optimizer_registry.cc:114] Plugin optimizer for device_type GPU is enabled.\n"
     ]
    },
    {
     "name": "stdout",
     "output_type": "stream",
     "text": [
      "0.6992930940728657\n",
      "0.573959938366718\n",
      "error_rate: 0.00031647792619005896\n",
      "1.00000000000001\n",
      " =========== iteration ===========>: 3\n",
      "bfore traning:  49.93836671802773\n",
      "Epoch 1/60\n"
     ]
    },
    {
     "name": "stderr",
     "output_type": "stream",
     "text": [
      "2022-11-12 19:13:55.535047: I tensorflow/core/grappler/optimizers/custom_graph_optimizer_registry.cc:114] Plugin optimizer for device_type GPU is enabled.\n"
     ]
    },
    {
     "name": "stdout",
     "output_type": "stream",
     "text": [
      "93/93 [==============================] - ETA: 0s - loss: 1.1646 - tp: 1511.0000 - fp: 168.0000 - tn: 3081.0000 - fn: 1730.0000 - precision: 0.8999 - recall: 0.4662\n",
      "\n",
      "******* Stoping on Defined Thresold *******\n",
      "F1 TRAINING:  0.6142276563078346\n",
      "Recall TRAINING:  0.4662141501903534\n",
      "93/93 [==============================] - 3s 19ms/step - loss: 1.1646 - tp: 1511.0000 - fp: 168.0000 - tn: 3081.0000 - fn: 1730.0000 - precision: 0.8999 - recall: 0.4662\n",
      "\n",
      "\n",
      "\n",
      "****** Early Stopping *******\n",
      "29/41 [====================>.........] - ETA: 0s"
     ]
    },
    {
     "name": "stderr",
     "output_type": "stream",
     "text": [
      "2022-11-12 19:13:57.967319: I tensorflow/core/grappler/optimizers/custom_graph_optimizer_registry.cc:114] Plugin optimizer for device_type GPU is enabled.\n"
     ]
    },
    {
     "name": "stdout",
     "output_type": "stream",
     "text": [
      "41/41 [==============================] - 0s 4ms/step\n",
      "0.6128016789087094\n",
      "0.7157164869029276\n",
      "error_rate: 0.000232606397724113\n",
      "0.9999999999999923\n",
      " =========== iteration ===========>: 4\n",
      "bfore traning:  50.955315870570104\n",
      "Epoch 1/60\n"
     ]
    },
    {
     "name": "stderr",
     "output_type": "stream",
     "text": [
      "2022-11-12 19:13:59.298537: I tensorflow/core/grappler/optimizers/custom_graph_optimizer_registry.cc:114] Plugin optimizer for device_type GPU is enabled.\n"
     ]
    },
    {
     "name": "stdout",
     "output_type": "stream",
     "text": [
      "93/93 [==============================] - ETA: 0s - loss: 1.1567 - tp: 2820.0000 - fp: 2585.0000 - tn: 598.0000 - fn: 487.0000 - precision: 0.5217 - recall: 0.8527\n",
      "\n",
      "******* Stoping on Defined Thresold *******\n",
      "F1 TRAINING:  0.6473829255163273\n",
      "Recall TRAINING:  0.8527366518974304\n",
      "93/93 [==============================] - 3s 20ms/step - loss: 1.1567 - tp: 2820.0000 - fp: 2585.0000 - tn: 598.0000 - fn: 487.0000 - precision: 0.5217 - recall: 0.8527\n",
      "\n",
      "\n",
      "\n",
      "****** Early Stopping *******\n",
      "41/41 [==============================] - 0s 4ms/step\n"
     ]
    },
    {
     "name": "stderr",
     "output_type": "stream",
     "text": [
      "2022-11-12 19:14:01.848087: I tensorflow/core/grappler/optimizers/custom_graph_optimizer_registry.cc:114] Plugin optimizer for device_type GPU is enabled.\n"
     ]
    },
    {
     "name": "stdout",
     "output_type": "stream",
     "text": [
      "0.6697626418988648\n",
      "0.5069337442218799\n",
      "error_rate: 0.00037084026098841\n",
      "0.9999999999999998\n",
      " =========== iteration ===========>: 5\n",
      "bfore traning:  48.166409861325114\n",
      "Epoch 1/60\n"
     ]
    },
    {
     "name": "stderr",
     "output_type": "stream",
     "text": [
      "2022-11-12 19:14:03.154079: I tensorflow/core/grappler/optimizers/custom_graph_optimizer_registry.cc:114] Plugin optimizer for device_type GPU is enabled.\n"
     ]
    },
    {
     "name": "stdout",
     "output_type": "stream",
     "text": [
      "93/93 [==============================] - ETA: 0s - loss: 1.1619 - tp: 1711.0000 - fp: 491.0000 - tn: 2873.0000 - fn: 1415.0000 - precision: 0.7770 - recall: 0.5473\n",
      "\n",
      "******* Stoping on Defined Thresold *******\n",
      "F1 TRAINING:  0.642267290800453\n",
      "Recall TRAINING:  0.5473448634147644\n",
      "93/93 [==============================] - 3s 19ms/step - loss: 1.1619 - tp: 1711.0000 - fp: 491.0000 - tn: 2873.0000 - fn: 1415.0000 - precision: 0.7770 - recall: 0.5473\n",
      "\n",
      "\n",
      "\n",
      "****** Early Stopping *******\n",
      "41/41 [==============================] - 0s 4ms/step\n"
     ]
    },
    {
     "name": "stderr",
     "output_type": "stream",
     "text": [
      "2022-11-12 19:14:05.591788: I tensorflow/core/grappler/optimizers/custom_graph_optimizer_registry.cc:114] Plugin optimizer for device_type GPU is enabled.\n"
     ]
    },
    {
     "name": "stdout",
     "output_type": "stream",
     "text": [
      "0.7392120075046903\n",
      "0.785824345146379\n",
      "error_rate: 0.00019187827015280378\n",
      "0.9999999999999857\n",
      " =========== iteration ===========>: 6\n",
      "bfore traning:  50.693374422187986\n",
      "Epoch 1/60\n"
     ]
    },
    {
     "name": "stderr",
     "output_type": "stream",
     "text": [
      "2022-11-12 19:14:06.934699: I tensorflow/core/grappler/optimizers/custom_graph_optimizer_registry.cc:114] Plugin optimizer for device_type GPU is enabled.\n"
     ]
    },
    {
     "name": "stdout",
     "output_type": "stream",
     "text": [
      "93/93 [==============================] - ETA: 0s - loss: 1.1547 - tp: 2329.0000 - fp: 501.0000 - tn: 2699.0000 - fn: 961.0000 - precision: 0.8230 - recall: 0.7079\n",
      "\n",
      "******* Stoping on Defined Thresold *******\n",
      "F1 TRAINING:  0.7611111620245894\n",
      "Recall TRAINING:  0.7079027891159058\n",
      "93/93 [==============================] - 3s 21ms/step - loss: 1.1547 - tp: 2329.0000 - fp: 501.0000 - tn: 2699.0000 - fn: 961.0000 - precision: 0.8230 - recall: 0.7079\n",
      "\n",
      "\n",
      "\n",
      "****** Early Stopping *******\n",
      "28/41 [===================>..........] - ETA: 0s"
     ]
    },
    {
     "name": "stderr",
     "output_type": "stream",
     "text": [
      "2022-11-12 19:14:09.538487: I tensorflow/core/grappler/optimizers/custom_graph_optimizer_registry.cc:114] Plugin optimizer for device_type GPU is enabled.\n"
     ]
    },
    {
     "name": "stdout",
     "output_type": "stream",
     "text": [
      "41/41 [==============================] - 0s 4ms/step\n",
      "0.911062906724512\n",
      "0.9052388289676425\n",
      "error_rate: 8.029932993985344e-05\n",
      "0.9999999999999766\n",
      " =========== iteration ===========>: 7\n",
      "bfore traning:  49.815100154083204\n",
      "Epoch 1/60\n"
     ]
    },
    {
     "name": "stderr",
     "output_type": "stream",
     "text": [
      "2022-11-12 19:14:10.873189: I tensorflow/core/grappler/optimizers/custom_graph_optimizer_registry.cc:114] Plugin optimizer for device_type GPU is enabled.\n"
     ]
    },
    {
     "name": "stdout",
     "output_type": "stream",
     "text": [
      "93/93 [==============================] - ETA: 0s - loss: 1.1584 - tp: 2215.0000 - fp: 426.0000 - tn: 2831.0000 - fn: 1018.0000 - precision: 0.8387 - recall: 0.6851\n",
      "\n",
      "******* Stoping on Defined Thresold *******\n",
      "F1 TRAINING:  0.7541709435380768\n",
      "Recall TRAINING:  0.6851221919059753\n",
      "93/93 [==============================] - 3s 20ms/step - loss: 1.1584 - tp: 2215.0000 - fp: 426.0000 - tn: 2831.0000 - fn: 1018.0000 - precision: 0.8387 - recall: 0.6851\n",
      "\n",
      "\n",
      "\n",
      "****** Early Stopping *******\n",
      "41/41 [==============================] - 0s 4ms/step\n"
     ]
    },
    {
     "name": "stderr",
     "output_type": "stream",
     "text": [
      "2022-11-12 19:14:13.466024: I tensorflow/core/grappler/optimizers/custom_graph_optimizer_registry.cc:114] Plugin optimizer for device_type GPU is enabled.\n"
     ]
    },
    {
     "name": "stdout",
     "output_type": "stream",
     "text": [
      "0.6531027466937944\n",
      "0.7372881355932204\n",
      "error_rate: 0.00023858636119133275\n",
      "0.9999999999999784\n",
      " =========== iteration ===========>: 8\n",
      "bfore traning:  50.38520801232666\n",
      "Epoch 1/60\n"
     ]
    },
    {
     "name": "stderr",
     "output_type": "stream",
     "text": [
      "2022-11-12 19:14:14.800790: I tensorflow/core/grappler/optimizers/custom_graph_optimizer_registry.cc:114] Plugin optimizer for device_type GPU is enabled.\n"
     ]
    },
    {
     "name": "stdout",
     "output_type": "stream",
     "text": [
      "93/93 [==============================] - 3s 20ms/step - loss: 1.1617 - tp: 1234.0000 - fp: 123.0000 - tn: 3097.0000 - fn: 2036.0000 - precision: 0.9094 - recall: 0.3774\n",
      "Epoch 2/60\n",
      "93/93 [==============================] - 1s 13ms/step - loss: 0.3324 - tp: 1396.0000 - fp: 135.0000 - tn: 3085.0000 - fn: 1874.0000 - precision: 0.9118 - recall: 0.4269\n",
      "Epoch 3/60\n",
      "93/93 [==============================] - 1s 14ms/step - loss: 0.3330 - tp: 1272.0000 - fp: 144.0000 - tn: 3076.0000 - fn: 1998.0000 - precision: 0.8983 - recall: 0.3890\n",
      "Epoch 4/60\n",
      "93/93 [==============================] - 1s 14ms/step - loss: 0.3333 - tp: 1295.0000 - fp: 146.0000 - tn: 3074.0000 - fn: 1975.0000 - precision: 0.8987 - recall: 0.3960\n",
      "Epoch 5/60\n",
      "93/93 [==============================] - 1s 13ms/step - loss: 0.3334 - tp: 1319.0000 - fp: 150.0000 - tn: 3070.0000 - fn: 1951.0000 - precision: 0.8979 - recall: 0.4034\n",
      "Epoch 6/60\n",
      "93/93 [==============================] - 1s 14ms/step - loss: 0.3348 - tp: 1442.0000 - fp: 158.0000 - tn: 3062.0000 - fn: 1828.0000 - precision: 0.9013 - recall: 0.4410\n",
      "Epoch 7/60\n",
      "93/93 [==============================] - ETA: 0s - loss: 0.3350 - tp: 1572.0000 - fp: 157.0000 - tn: 3063.0000 - fn: 1698.0000 - precision: 0.9092 - recall: 0.4807\n",
      "\n",
      "******* Stoping on Defined Thresold *******\n",
      "F1 TRAINING:  0.6289257760667436\n",
      "Recall TRAINING:  0.4807339310646057\n",
      "93/93 [==============================] - 1s 13ms/step - loss: 0.3350 - tp: 1572.0000 - fp: 157.0000 - tn: 3063.0000 - fn: 1698.0000 - precision: 0.9092 - recall: 0.4807\n",
      "\n",
      "\n",
      "\n",
      "****** Early Stopping *******\n",
      "41/41 [==============================] - 0s 4ms/step\n"
     ]
    },
    {
     "name": "stderr",
     "output_type": "stream",
     "text": [
      "2022-11-12 19:14:24.921797: I tensorflow/core/grappler/optimizers/custom_graph_optimizer_registry.cc:114] Plugin optimizer for device_type GPU is enabled.\n"
     ]
    },
    {
     "name": "stdout",
     "output_type": "stream",
     "text": [
      "0.725883476599809\n",
      "0.7788906009244992\n",
      "error_rate: 0.0002286688989907301\n",
      "1.0000000000000007\n",
      " =========== iteration ===========>: 9\n",
      "bfore traning:  53.035439137134055\n",
      "Epoch 1/60\n"
     ]
    },
    {
     "name": "stderr",
     "output_type": "stream",
     "text": [
      "2022-11-12 19:14:26.290843: I tensorflow/core/grappler/optimizers/custom_graph_optimizer_registry.cc:114] Plugin optimizer for device_type GPU is enabled.\n"
     ]
    },
    {
     "name": "stdout",
     "output_type": "stream",
     "text": [
      "93/93 [==============================] - ETA: 0s - loss: 1.1562 - tp: 3307.0000 - fp: 2902.0000 - tn: 146.0000 - fn: 135.0000 - precision: 0.5326 - recall: 0.9608\n",
      "\n",
      "******* Stoping on Defined Thresold *******\n",
      "F1 TRAINING:  0.6853176152153034\n",
      "Recall TRAINING:  0.9607785940170288\n",
      "93/93 [==============================] - 3s 22ms/step - loss: 1.1562 - tp: 3307.0000 - fp: 2902.0000 - tn: 146.0000 - fn: 135.0000 - precision: 0.5326 - recall: 0.9608\n",
      "\n",
      "\n",
      "\n",
      "****** Early Stopping *******\n",
      "32/41 [======================>.......] - ETA: 0s"
     ]
    },
    {
     "name": "stderr",
     "output_type": "stream",
     "text": [
      "2022-11-12 19:14:29.005989: I tensorflow/core/grappler/optimizers/custom_graph_optimizer_registry.cc:114] Plugin optimizer for device_type GPU is enabled.\n"
     ]
    },
    {
     "name": "stdout",
     "output_type": "stream",
     "text": [
      "41/41 [==============================] - 0s 4ms/step\n",
      "0.6666666666666666\n",
      "0.5\n",
      "error_rate: 0.0003660344181886835\n",
      "1.0000000000000087\n",
      " =========== iteration ===========>: 10\n",
      "bfore traning:  48.87519260400616\n",
      "Epoch 1/60\n"
     ]
    },
    {
     "name": "stderr",
     "output_type": "stream",
     "text": [
      "2022-11-12 19:14:30.325191: I tensorflow/core/grappler/optimizers/custom_graph_optimizer_registry.cc:114] Plugin optimizer for device_type GPU is enabled.\n"
     ]
    },
    {
     "name": "stdout",
     "output_type": "stream",
     "text": [
      "93/93 [==============================] - ETA: 0s - loss: 1.1574 - tp: 1923.0000 - fp: 569.0000 - tn: 2749.0000 - fn: 1249.0000 - precision: 0.7717 - recall: 0.6062\n",
      "\n",
      "******* Stoping on Defined Thresold *******\n",
      "F1 TRAINING:  0.6790254195164732\n",
      "Recall TRAINING:  0.6062421202659607\n",
      "93/93 [==============================] - 3s 22ms/step - loss: 1.1574 - tp: 1923.0000 - fp: 569.0000 - tn: 2749.0000 - fn: 1249.0000 - precision: 0.7717 - recall: 0.6062\n",
      "\n",
      "\n",
      "\n",
      "****** Early Stopping *******\n",
      "31/41 [=====================>........] - ETA: 0s"
     ]
    },
    {
     "name": "stderr",
     "output_type": "stream",
     "text": [
      "2022-11-12 19:14:33.192996: I tensorflow/core/grappler/optimizers/custom_graph_optimizer_registry.cc:114] Plugin optimizer for device_type GPU is enabled.\n"
     ]
    },
    {
     "name": "stdout",
     "output_type": "stream",
     "text": [
      "41/41 [==============================] - 0s 4ms/step\n",
      "0.7100478468899522\n",
      "0.7665639445300462\n",
      "error_rate: 0.0002464076277095449\n",
      "0.999999999999996\n",
      " =========== iteration ===========>: 11\n",
      "bfore traning:  51.20184899845916\n",
      "Epoch 1/60\n"
     ]
    },
    {
     "name": "stderr",
     "output_type": "stream",
     "text": [
      "2022-11-12 19:14:34.512981: I tensorflow/core/grappler/optimizers/custom_graph_optimizer_registry.cc:114] Plugin optimizer for device_type GPU is enabled.\n"
     ]
    },
    {
     "name": "stdout",
     "output_type": "stream",
     "text": [
      "93/93 [==============================] - ETA: 0s - loss: 1.1585 - tp: 1798.0000 - fp: 179.0000 - tn: 2988.0000 - fn: 1525.0000 - precision: 0.9095 - recall: 0.5411\n",
      "\n",
      "******* Stoping on Defined Thresold *******\n",
      "F1 TRAINING:  0.6784905886530482\n",
      "Recall TRAINING:  0.5410773754119873\n",
      "93/93 [==============================] - 3s 24ms/step - loss: 1.1585 - tp: 1798.0000 - fp: 179.0000 - tn: 2988.0000 - fn: 1525.0000 - precision: 0.9095 - recall: 0.5411\n",
      "\n",
      "\n",
      "\n",
      "****** Early Stopping *******\n",
      "31/41 [=====================>........] - ETA: 0s"
     ]
    },
    {
     "name": "stderr",
     "output_type": "stream",
     "text": [
      "2022-11-12 19:14:37.574985: I tensorflow/core/grappler/optimizers/custom_graph_optimizer_registry.cc:114] Plugin optimizer for device_type GPU is enabled.\n"
     ]
    },
    {
     "name": "stdout",
     "output_type": "stream",
     "text": [
      "41/41 [==============================] - 0s 4ms/step\n",
      "0.9076175040518639\n",
      "0.9121725731895224\n",
      "error_rate: 7.112799905792916e-05\n",
      "0.9999999999999871\n"
     ]
    }
   ],
   "source": [
    "# plt.plot(initial_weight)\n",
    "boosting(initial_weight)"
   ],
   "metadata": {
    "collapsed": false,
    "pycharm": {
     "name": "#%%\n"
    }
   }
  },
  {
   "cell_type": "code",
   "execution_count": 104,
   "outputs": [
    {
     "data": {
      "text/plain": "[0.06445478553618192,\n 0.06402621616656469,\n 0.06043455400703746,\n 0.06274447634655335,\n 0.05924526181807634,\n 0.0641884312495894,\n 0.07072251734214283,\n 0.06255405447690128,\n 0.0628725507116723,\n 0.05934312816594182,\n 0.062312076991346894,\n 0.0716321877739604]"
     },
     "execution_count": 104,
     "metadata": {},
     "output_type": "execute_result"
    }
   ],
   "source": [
    "alphas"
   ],
   "metadata": {
    "collapsed": false,
    "pycharm": {
     "name": "#%%\n"
    }
   }
  },
  {
   "cell_type": "code",
   "execution_count": 105,
   "outputs": [],
   "source": [
    "from sklearn.metrics import ConfusionMatrixDisplay, confusion_matrix\n",
    "\n",
    "\n",
    "def repeat(test_split, test_result, start, end):\n",
    "    mx = 0\n",
    "    size = 0\n",
    "    data = []\n",
    "    f1=[]\n",
    "    for i in range(start,end):\n",
    "        data = some_pred(test_split, i)\n",
    "        tn, fp, fn, tp = confusion_matrix(test_result, data).ravel()\n",
    "        precision = tp / (tp+ fp)\n",
    "        recall = tp / (tp+ fn)\n",
    "        score = (2 * precision * recall) / (precision + recall)\n",
    "        print(score)\n",
    "        f1.append(score)\n",
    "        if mx < score:\n",
    "            mx = score\n",
    "            size = i\n",
    "        print(i)\n",
    "    print(mx,size)\n",
    "    return data, f1\n",
    "\n",
    "# a = ensemble[0].predict(test_split)\n",
    "\n",
    "def some_pred(test_split, esize):\n",
    "#     data = []\n",
    "    k = []\n",
    "#     for j in range(len(test_split)):\n",
    "#         pa=0\n",
    "#         na =0\n",
    "    for i in range(esize):\n",
    "        print('*********:', i)\n",
    "        k.append(ensemble[i].predict([test_split]))\n",
    "        # if pa >=na:\n",
    "        #     data.append(1)\n",
    "        # else:\n",
    "        #     data.append(0)\n",
    "    # f1.append(f1_score(test_result, data, average=\"macro\"))\n",
    "    # acc.append(accuracy_score(test_result, data))\n",
    "    return k"
   ],
   "metadata": {
    "collapsed": false,
    "pycharm": {
     "name": "#%%\n"
    }
   }
  },
  {
   "cell_type": "code",
   "execution_count": 105,
   "outputs": [],
   "source": [],
   "metadata": {
    "collapsed": false,
    "pycharm": {
     "name": "#%%\n"
    }
   }
  },
  {
   "cell_type": "code",
   "execution_count": 106,
   "outputs": [],
   "source": [
    "\n",
    "def majority(data):\n",
    "    ans =[]\n",
    "    for i in range(len(data[0])):\n",
    "        ap = 0\n",
    "        an = 0\n",
    "        for e in range(len(data)):\n",
    "            if data[e][i] >= .5:\n",
    "                ap += alphas[e]\n",
    "            else:\n",
    "                an += alphas[e]\n",
    "        if ap >= an:\n",
    "            ans.append(1)\n",
    "        else:\n",
    "            ans.append(0)\n",
    "    return ans\n"
   ],
   "metadata": {
    "collapsed": false,
    "pycharm": {
     "name": "#%%\n"
    }
   }
  },
  {
   "cell_type": "code",
   "execution_count": 107,
   "outputs": [],
   "source": [
    "def getf1(true, predicted):\n",
    "    tn, fp, fn, tp = confusion_matrix(true, predicted).ravel()\n",
    "    precision = tp / (tp+ fp)\n",
    "    recall = tp / (tp+ fn)\n",
    "    score = (2 * precision * recall) / (precision + recall)\n",
    "    return score"
   ],
   "metadata": {
    "collapsed": false,
    "pycharm": {
     "name": "#%%\n"
    }
   }
  },
  {
   "cell_type": "code",
   "execution_count": 108,
   "outputs": [
    {
     "name": "stdout",
     "output_type": "stream",
     "text": [
      "*********: 0\n",
      "3/3 [==============================] - 0s 33ms/step\n",
      "*********: 0\n",
      "3/3 [==============================] - 0s 11ms/step\n"
     ]
    },
    {
     "name": "stderr",
     "output_type": "stream",
     "text": [
      "2022-11-12 19:14:46.614773: I tensorflow/core/grappler/optimizers/custom_graph_optimizer_registry.cc:114] Plugin optimizer for device_type GPU is enabled.\n"
     ]
    },
    {
     "name": "stdout",
     "output_type": "stream",
     "text": [
      "*********: 1\n",
      "3/3 [==============================] - 0s 18ms/step\n",
      "*********: 0\n",
      "3/3 [==============================] - 0s 4ms/step\n",
      "*********: 1\n",
      "3/3 [==============================] - 0s 7ms/step\n"
     ]
    },
    {
     "name": "stderr",
     "output_type": "stream",
     "text": [
      "2022-11-12 19:14:46.823797: I tensorflow/core/grappler/optimizers/custom_graph_optimizer_registry.cc:114] Plugin optimizer for device_type GPU is enabled.\n"
     ]
    },
    {
     "name": "stdout",
     "output_type": "stream",
     "text": [
      "*********: 2\n",
      "3/3 [==============================] - 0s 19ms/step\n",
      "*********: 0\n",
      "3/3 [==============================] - 0s 4ms/step\n",
      "*********: 1\n",
      "3/3 [==============================] - 0s 8ms/step\n"
     ]
    },
    {
     "name": "stderr",
     "output_type": "stream",
     "text": [
      "2022-11-12 19:14:47.055078: I tensorflow/core/grappler/optimizers/custom_graph_optimizer_registry.cc:114] Plugin optimizer for device_type GPU is enabled.\n"
     ]
    },
    {
     "name": "stdout",
     "output_type": "stream",
     "text": [
      "*********: 2\n",
      "3/3 [==============================] - 0s 11ms/step\n",
      "*********: 3\n",
      "3/3 [==============================] - 0s 27ms/step\n",
      "*********: 0\n",
      "3/3 [==============================] - 0s 6ms/step\n",
      "*********: 1\n",
      "3/3 [==============================] - 0s 4ms/step\n"
     ]
    },
    {
     "name": "stderr",
     "output_type": "stream",
     "text": [
      "2022-11-12 19:14:47.355239: I tensorflow/core/grappler/optimizers/custom_graph_optimizer_registry.cc:114] Plugin optimizer for device_type GPU is enabled.\n"
     ]
    },
    {
     "name": "stdout",
     "output_type": "stream",
     "text": [
      "*********: 2\n",
      "3/3 [==============================] - 0s 4ms/step\n",
      "*********: 3\n",
      "3/3 [==============================] - 0s 4ms/step\n",
      "*********: 4\n",
      "3/3 [==============================] - 0s 23ms/step\n",
      "*********: 0\n",
      "3/3 [==============================] - 0s 4ms/step\n",
      "*********: 1\n",
      "3/3 [==============================] - 0s 6ms/step\n"
     ]
    },
    {
     "name": "stderr",
     "output_type": "stream",
     "text": [
      "2022-11-12 19:14:47.683225: I tensorflow/core/grappler/optimizers/custom_graph_optimizer_registry.cc:114] Plugin optimizer for device_type GPU is enabled.\n"
     ]
    },
    {
     "name": "stdout",
     "output_type": "stream",
     "text": [
      "*********: 2\n",
      "3/3 [==============================] - 0s 5ms/step\n",
      "*********: 3\n",
      "3/3 [==============================] - 0s 9ms/step\n",
      "*********: 4\n",
      "3/3 [==============================] - 0s 8ms/step\n",
      "*********: 5\n",
      "3/3 [==============================] - 0s 20ms/step\n",
      "*********: 0\n",
      "3/3 [==============================] - 0s 4ms/step\n",
      "*********: 1\n",
      "3/3 [==============================] - 0s 4ms/step\n"
     ]
    },
    {
     "name": "stderr",
     "output_type": "stream",
     "text": [
      "2022-11-12 19:14:48.060118: I tensorflow/core/grappler/optimizers/custom_graph_optimizer_registry.cc:114] Plugin optimizer for device_type GPU is enabled.\n"
     ]
    },
    {
     "name": "stdout",
     "output_type": "stream",
     "text": [
      "*********: 2\n",
      "3/3 [==============================] - 0s 5ms/step\n",
      "*********: 3\n",
      "3/3 [==============================] - 0s 5ms/step\n",
      "*********: 4\n",
      "3/3 [==============================] - 0s 9ms/step\n",
      "*********: 5\n",
      "3/3 [==============================] - 0s 7ms/step\n",
      "*********: 6\n",
      "3/3 [==============================] - 0s 18ms/step\n",
      "*********: 0\n",
      "3/3 [==============================] - 0s 4ms/step\n",
      "*********: 1\n",
      "3/3 [==============================] - 0s 3ms/step\n",
      "*********: 2\n",
      "1/3 [=========>....................] - ETA: 0s"
     ]
    },
    {
     "name": "stderr",
     "output_type": "stream",
     "text": [
      "2022-11-12 19:14:48.494210: I tensorflow/core/grappler/optimizers/custom_graph_optimizer_registry.cc:114] Plugin optimizer for device_type GPU is enabled.\n"
     ]
    },
    {
     "name": "stdout",
     "output_type": "stream",
     "text": [
      "3/3 [==============================] - 0s 4ms/step\n",
      "*********: 3\n",
      "3/3 [==============================] - 0s 6ms/step\n",
      "*********: 4\n",
      "3/3 [==============================] - 0s 3ms/step\n",
      "*********: 5\n",
      "3/3 [==============================] - 0s 3ms/step\n",
      "*********: 6\n",
      "3/3 [==============================] - 0s 6ms/step\n",
      "*********: 7\n",
      "3/3 [==============================] - 0s 25ms/step\n",
      "*********: 0\n",
      "3/3 [==============================] - 0s 3ms/step\n"
     ]
    },
    {
     "name": "stderr",
     "output_type": "stream",
     "text": [
      "2022-11-12 19:14:50.376492: I tensorflow/core/grappler/optimizers/custom_graph_optimizer_registry.cc:114] Plugin optimizer for device_type GPU is enabled.\n"
     ]
    },
    {
     "name": "stdout",
     "output_type": "stream",
     "text": [
      "*********: 1\n",
      "3/3 [==============================] - 0s 3ms/step\n",
      "*********: 2\n",
      "3/3 [==============================] - 0s 3ms/step\n",
      "*********: 3\n",
      "3/3 [==============================] - 0s 3ms/step\n",
      "*********: 4\n",
      "3/3 [==============================] - 0s 3ms/step\n",
      "*********: 5\n",
      "3/3 [==============================] - 0s 3ms/step\n",
      "*********: 6\n",
      "3/3 [==============================] - 0s 4ms/step\n",
      "*********: 7\n",
      "3/3 [==============================] - 0s 3ms/step\n",
      "*********: 8\n",
      "3/3 [==============================] - 0s 23ms/step\n",
      "*********: 0\n",
      "3/3 [==============================] - 0s 8ms/step\n",
      "*********: 1\n",
      "3/3 [==============================] - 0s 3ms/step\n"
     ]
    },
    {
     "name": "stderr",
     "output_type": "stream",
     "text": [
      "2022-11-12 19:14:50.910742: I tensorflow/core/grappler/optimizers/custom_graph_optimizer_registry.cc:114] Plugin optimizer for device_type GPU is enabled.\n"
     ]
    },
    {
     "name": "stdout",
     "output_type": "stream",
     "text": [
      "*********: 2\n",
      "3/3 [==============================] - 0s 3ms/step\n",
      "*********: 3\n",
      "3/3 [==============================] - 0s 4ms/step\n",
      "*********: 4\n",
      "3/3 [==============================] - 0s 4ms/step\n",
      "*********: 5\n",
      "3/3 [==============================] - 0s 7ms/step\n",
      "*********: 6\n",
      "3/3 [==============================] - 0s 3ms/step\n",
      "*********: 7\n",
      "3/3 [==============================] - 0s 6ms/step\n",
      "*********: 8\n",
      "3/3 [==============================] - 0s 12ms/step\n",
      "*********: 9\n",
      "3/3 [==============================] - 0s 26ms/step\n",
      "*********: 0\n",
      "3/3 [==============================] - 0s 3ms/step\n",
      "*********: 1\n",
      "3/3 [==============================] - 0s 3ms/step\n"
     ]
    },
    {
     "name": "stderr",
     "output_type": "stream",
     "text": [
      "2022-11-12 19:14:51.452367: I tensorflow/core/grappler/optimizers/custom_graph_optimizer_registry.cc:114] Plugin optimizer for device_type GPU is enabled.\n"
     ]
    },
    {
     "name": "stdout",
     "output_type": "stream",
     "text": [
      "*********: 2\n",
      "3/3 [==============================] - 0s 8ms/step\n",
      "*********: 3\n",
      "3/3 [==============================] - 0s 4ms/step\n",
      "*********: 4\n",
      "3/3 [==============================] - 0s 3ms/step\n",
      "*********: 5\n",
      "3/3 [==============================] - 0s 3ms/step\n",
      "*********: 6\n",
      "3/3 [==============================] - 0s 8ms/step\n",
      "*********: 7\n",
      "3/3 [==============================] - 0s 3ms/step\n",
      "*********: 8\n",
      "3/3 [==============================] - 0s 4ms/step\n",
      "*********: 9\n",
      "3/3 [==============================] - 0s 7ms/step\n",
      "*********: 10\n",
      "3/3 [==============================] - 0s 30ms/step\n",
      "*********: 0\n",
      "3/3 [==============================] - 0s 3ms/step\n",
      "*********: 1\n",
      "3/3 [==============================] - 0s 4ms/step\n"
     ]
    },
    {
     "name": "stderr",
     "output_type": "stream",
     "text": [
      "2022-11-12 19:14:52.022296: I tensorflow/core/grappler/optimizers/custom_graph_optimizer_registry.cc:114] Plugin optimizer for device_type GPU is enabled.\n"
     ]
    },
    {
     "name": "stdout",
     "output_type": "stream",
     "text": [
      "*********: 2\n",
      "3/3 [==============================] - 0s 4ms/step\n",
      "*********: 3\n",
      "3/3 [==============================] - 0s 15ms/step\n",
      "*********: 4\n",
      "3/3 [==============================] - 0s 8ms/step\n",
      "*********: 5\n",
      "3/3 [==============================] - 0s 9ms/step\n",
      "*********: 6\n",
      "3/3 [==============================] - 0s 3ms/step\n",
      "*********: 7\n",
      "3/3 [==============================] - 0s 8ms/step\n",
      "*********: 8\n",
      "3/3 [==============================] - 0s 4ms/step\n",
      "*********: 9\n",
      "3/3 [==============================] - 0s 6ms/step\n",
      "*********: 10\n",
      "3/3 [==============================] - 0s 6ms/step\n",
      "*********: 11\n",
      "3/3 [==============================] - 0s 20ms/step\n"
     ]
    },
    {
     "name": "stderr",
     "output_type": "stream",
     "text": [
      "2022-11-12 19:14:52.746695: I tensorflow/core/grappler/optimizers/custom_graph_optimizer_registry.cc:114] Plugin optimizer for device_type GPU is enabled.\n"
     ]
    }
   ],
   "source": [
    "f1_test = []\n",
    "for i in range(1,13):\n",
    "    data = some_pred(test_split, i)\n",
    "    ans = majority(data)\n",
    "    f1_test.append(getf1(test_result, ans))\n",
    "    # ConfusionMatrixDisplay.from_predictions(test_result,ans,cmap='Greens')"
   ],
   "metadata": {
    "collapsed": false,
    "pycharm": {
     "name": "#%%\n"
    }
   }
  },
  {
   "cell_type": "code",
   "execution_count": 109,
   "outputs": [
    {
     "data": {
      "text/plain": "[<matplotlib.lines.Line2D at 0x2bd9c6910>]"
     },
     "execution_count": 109,
     "metadata": {},
     "output_type": "execute_result"
    },
    {
     "data": {
      "text/plain": "<Figure size 640x480 with 1 Axes>",
      "image/png": "[encoded data removed]"
     },
     "metadata": {},
     "output_type": "display_data"
    }
   ],
   "source": [
    "plt.plot(f1_test)"
   ],
   "metadata": {
    "collapsed": false,
    "pycharm": {
     "name": "#%%\n"
    }
   }
  },
  {
   "cell_type": "code",
   "execution_count": 114,
   "outputs": [
    {
     "name": "stdout",
     "output_type": "stream",
     "text": [
      "*********: 0\n",
      "3/3 [==============================] - 0s 6ms/step\n",
      "*********: 1\n",
      "3/3 [==============================] - 0s 3ms/step\n",
      "*********: 2\n",
      "3/3 [==============================] - 0s 3ms/step\n",
      "*********: 3\n",
      "3/3 [==============================] - 0s 3ms/step\n",
      "*********: 4\n",
      "3/3 [==============================] - 0s 3ms/step\n",
      "*********: 5\n",
      "3/3 [==============================] - 0s 3ms/step\n",
      "*********: 6\n",
      "3/3 [==============================] - 0s 3ms/step\n"
     ]
    },
    {
     "data": {
      "text/plain": "<sklearn.metrics._plot.confusion_matrix.ConfusionMatrixDisplay at 0x2b1320820>"
     },
     "execution_count": 114,
     "metadata": {},
     "output_type": "execute_result"
    },
    {
     "data": {
      "text/plain": "<Figure size 640x480 with 2 Axes>",
      "image/png": "[encoded data removed]"
     },
     "metadata": {},
     "output_type": "display_data"
    }
   ],
   "source": [
    "data = some_pred(test_split, 7)\n",
    "ans = majority(data)\n",
    "ConfusionMatrixDisplay.from_predictions(test_result,ans,cmap='Greens')\n",
    "# plt.plot(f1_test)"
   ],
   "metadata": {
    "collapsed": false,
    "pycharm": {
     "name": "#%%\n"
    }
   }
  },
  {
   "cell_type": "code",
   "execution_count": 110,
   "outputs": [
    {
     "name": "stdout",
     "output_type": "stream",
     "text": [
      "*********: 0\n",
      "41/41 [==============================] - 0s 4ms/step\n",
      "*********: 0\n",
      "41/41 [==============================] - 0s 3ms/step\n",
      "*********: 1\n",
      "41/41 [==============================] - 0s 4ms/step\n",
      "*********: 0\n",
      "41/41 [==============================] - 0s 3ms/step\n",
      "*********: 1\n",
      "41/41 [==============================] - 0s 4ms/step\n",
      "*********: 2\n",
      "41/41 [==============================] - 0s 4ms/step\n",
      "*********: 0\n",
      "41/41 [==============================] - 0s 3ms/step\n",
      "*********: 1\n",
      "41/41 [==============================] - 0s 3ms/step\n",
      "*********: 2\n",
      "41/41 [==============================] - 0s 3ms/step\n",
      "*********: 3\n",
      "41/41 [==============================] - 0s 3ms/step\n",
      "*********: 0\n",
      "41/41 [==============================] - 0s 3ms/step\n",
      "*********: 1\n",
      "41/41 [==============================] - 0s 3ms/step\n",
      "*********: 2\n",
      "41/41 [==============================] - 0s 3ms/step\n",
      "*********: 3\n",
      "41/41 [==============================] - 0s 3ms/step\n",
      "*********: 4\n",
      "41/41 [==============================] - 0s 4ms/step\n",
      "*********: 0\n",
      "41/41 [==============================] - 0s 3ms/step\n",
      "*********: 1\n",
      "41/41 [==============================] - 0s 3ms/step\n",
      "*********: 2\n",
      "41/41 [==============================] - 0s 3ms/step\n",
      "*********: 3\n",
      "41/41 [==============================] - 0s 3ms/step\n",
      "*********: 4\n",
      "41/41 [==============================] - 0s 3ms/step\n",
      "*********: 5\n",
      "41/41 [==============================] - 0s 3ms/step\n",
      "*********: 0\n",
      "41/41 [==============================] - 0s 3ms/step\n",
      "*********: 1\n",
      "41/41 [==============================] - 0s 3ms/step\n",
      "*********: 2\n",
      "41/41 [==============================] - 0s 3ms/step\n",
      "*********: 3\n",
      "41/41 [==============================] - 0s 2ms/step\n",
      "*********: 4\n",
      "41/41 [==============================] - 0s 3ms/step\n",
      "*********: 5\n",
      "41/41 [==============================] - 0s 3ms/step\n",
      "*********: 6\n",
      "41/41 [==============================] - 0s 4ms/step\n",
      "*********: 0\n",
      "41/41 [==============================] - 0s 3ms/step\n",
      "*********: 1\n",
      "41/41 [==============================] - 0s 3ms/step\n",
      "*********: 2\n",
      "41/41 [==============================] - 0s 3ms/step\n",
      "*********: 3\n",
      "41/41 [==============================] - 0s 3ms/step\n",
      "*********: 4\n",
      "41/41 [==============================] - 0s 3ms/step\n",
      "*********: 5\n",
      "41/41 [==============================] - 0s 3ms/step\n",
      "*********: 6\n",
      "41/41 [==============================] - 0s 2ms/step\n",
      "*********: 7\n",
      "41/41 [==============================] - 0s 3ms/step\n",
      "*********: 0\n",
      "41/41 [==============================] - 0s 2ms/step\n",
      "*********: 1\n",
      "41/41 [==============================] - 0s 3ms/step\n",
      "*********: 2\n",
      "41/41 [==============================] - 0s 2ms/step\n",
      "*********: 3\n",
      "41/41 [==============================] - 0s 2ms/step\n",
      "*********: 4\n",
      "41/41 [==============================] - 0s 2ms/step\n",
      "*********: 5\n",
      "41/41 [==============================] - 0s 3ms/step\n",
      "*********: 6\n",
      "41/41 [==============================] - 0s 3ms/step\n",
      "*********: 7\n",
      "41/41 [==============================] - 0s 3ms/step\n",
      "*********: 8\n",
      "41/41 [==============================] - 0s 3ms/step\n",
      "*********: 0\n",
      "41/41 [==============================] - 0s 2ms/step\n",
      "*********: 1\n",
      "41/41 [==============================] - 0s 2ms/step\n",
      "*********: 2\n",
      "41/41 [==============================] - 0s 3ms/step\n",
      "*********: 3\n",
      "41/41 [==============================] - 0s 3ms/step\n",
      "*********: 4\n",
      "41/41 [==============================] - 0s 3ms/step\n",
      "*********: 5\n",
      "41/41 [==============================] - 0s 3ms/step\n",
      "*********: 6\n",
      "41/41 [==============================] - 0s 3ms/step\n",
      "*********: 7\n",
      "41/41 [==============================] - 0s 3ms/step\n",
      "*********: 8\n",
      "41/41 [==============================] - 0s 3ms/step\n",
      "*********: 9\n",
      "41/41 [==============================] - 0s 3ms/step\n",
      "*********: 0\n",
      "41/41 [==============================] - 0s 2ms/step\n",
      "*********: 1\n",
      "41/41 [==============================] - 0s 3ms/step\n",
      "*********: 2\n",
      "41/41 [==============================] - 0s 2ms/step\n",
      "*********: 3\n",
      "41/41 [==============================] - 0s 2ms/step\n",
      "*********: 4\n",
      "41/41 [==============================] - 0s 3ms/step\n",
      "*********: 5\n",
      "41/41 [==============================] - 0s 3ms/step\n",
      "*********: 6\n",
      "41/41 [==============================] - 0s 3ms/step\n",
      "*********: 7\n",
      "41/41 [==============================] - 0s 3ms/step\n",
      "*********: 8\n",
      "41/41 [==============================] - 0s 3ms/step\n",
      "*********: 9\n",
      "41/41 [==============================] - 0s 2ms/step\n",
      "*********: 10\n",
      "41/41 [==============================] - 0s 3ms/step\n",
      "*********: 0\n",
      "41/41 [==============================] - 0s 3ms/step\n",
      "*********: 1\n",
      "41/41 [==============================] - 0s 3ms/step\n",
      "*********: 2\n",
      "41/41 [==============================] - 0s 2ms/step\n",
      "*********: 3\n",
      "41/41 [==============================] - 0s 3ms/step\n",
      "*********: 4\n",
      "41/41 [==============================] - 0s 2ms/step\n",
      "*********: 5\n",
      "41/41 [==============================] - 0s 3ms/step\n",
      "*********: 6\n",
      "41/41 [==============================] - 0s 3ms/step\n",
      "*********: 7\n",
      "41/41 [==============================] - 0s 3ms/step\n",
      "*********: 8\n",
      "41/41 [==============================] - 0s 3ms/step\n",
      "*********: 9\n",
      "41/41 [==============================] - 0s 2ms/step\n",
      "*********: 10\n",
      "41/41 [==============================] - 0s 3ms/step\n",
      "*********: 11\n",
      "41/41 [==============================] - 0s 4ms/step\n"
     ]
    }
   ],
   "source": [
    "f1_train = []\n",
    "for i in range(1,13):\n",
    "    data = some_pred(training_split, i)\n",
    "    ans = majority(data)\n",
    "    f1_train.append(getf1(train_result, ans))\n",
    "    # ConfusionMatrixDisplay.from_predictions(test_result,ans,cmap='Greens')"
   ],
   "metadata": {
    "collapsed": false,
    "pycharm": {
     "name": "#%%\n"
    }
   }
  },
  {
   "cell_type": "code",
   "execution_count": 111,
   "outputs": [
    {
     "data": {
      "text/plain": "[<matplotlib.lines.Line2D at 0x2b3d03370>]"
     },
     "execution_count": 111,
     "metadata": {},
     "output_type": "execute_result"
    },
    {
     "data": {
      "text/plain": "<Figure size 640x480 with 1 Axes>",
      "image/png": "[encoded data removed]"
     },
     "metadata": {},
     "output_type": "display_data"
    }
   ],
   "source": [
    "plt.plot(f1_train)\n",
    "plt.plot(f1_test)"
   ],
   "metadata": {
    "collapsed": false,
    "pycharm": {
     "name": "#%%\n"
    }
   }
  },
  {
   "cell_type": "code",
   "execution_count": 113,
   "outputs": [
    {
     "name": "stdout",
     "output_type": "stream",
     "text": [
      "*********: 0\n",
      "41/41 [==============================] - 0s 3ms/step\n",
      "*********: 1\n",
      "41/41 [==============================] - 0s 3ms/step\n",
      "*********: 2\n",
      "41/41 [==============================] - 0s 3ms/step\n",
      "*********: 3\n",
      "41/41 [==============================] - 0s 3ms/step\n",
      "*********: 4\n",
      "41/41 [==============================] - 0s 3ms/step\n",
      "*********: 5\n",
      "41/41 [==============================] - 0s 3ms/step\n",
      "*********: 6\n",
      "41/41 [==============================] - 0s 3ms/step\n"
     ]
    },
    {
     "data": {
      "text/plain": "<sklearn.metrics._plot.confusion_matrix.ConfusionMatrixDisplay at 0x2f04aad90>"
     },
     "execution_count": 113,
     "metadata": {},
     "output_type": "execute_result"
    },
    {
     "data": {
      "text/plain": "<Figure size 640x480 with 2 Axes>",
      "image/png": "[encoded data removed]"
     },
     "metadata": {},
     "output_type": "display_data"
    }
   ],
   "source": [
    "data = some_pred(training_split, 7)\n",
    "ans = majority(data)\n",
    "ConfusionMatrixDisplay.from_predictions(train_result,ans,cmap='Greens')"
   ],
   "metadata": {
    "collapsed": false,
    "pycharm": {
     "name": "#%%\n"
    }
   }
  },
  {
   "cell_type": "code",
   "execution_count": 115,
   "outputs": [
    {
     "name": "stdout",
     "output_type": "stream",
     "text": [
      "*********: 0\n",
      "11/11 [==============================] - 0s 9ms/step\n",
      "*********: 1\n",
      "11/11 [==============================] - 0s 7ms/step\n",
      "*********: 2\n",
      "11/11 [==============================] - 0s 6ms/step\n",
      "*********: 3\n",
      "11/11 [==============================] - 0s 5ms/step\n",
      "*********: 4\n",
      "11/11 [==============================] - 0s 6ms/step\n",
      "*********: 5\n",
      "11/11 [==============================] - 0s 7ms/step\n",
      "*********: 6\n",
      "11/11 [==============================] - 0s 6ms/step\n"
     ]
    }
   ],
   "source": [
    "table_test = pd.read_table('./1663769555_8653905_test.txt', names=['sequence'])\n",
    "unlabeled_test = vectorizer_best.transform(table_test.sequence).toarray()\n",
    "predicted_data = majority(some_pred(unlabeled_test, 7))"
   ],
   "metadata": {
    "collapsed": false,
    "pycharm": {
     "name": "#%%\n"
    }
   }
  },
  {
   "cell_type": "code",
   "execution_count": 117,
   "outputs": [
    {
     "data": {
      "text/plain": "350"
     },
     "execution_count": 117,
     "metadata": {},
     "output_type": "execute_result"
    }
   ],
   "source": [
    "len(predicted_data)\n"
   ],
   "metadata": {
    "collapsed": false,
    "pycharm": {
     "name": "#%%\n"
    }
   }
  },
  {
   "cell_type": "code",
   "execution_count": 118,
   "outputs": [],
   "source": [
    "import csv\n",
    "outfile = open('./results.csv','w')\n",
    "out = csv.writer(outfile)\n",
    "out.writerows(map(lambda x: [x], predicted_data))\n",
    "outfile.close()"
   ],
   "metadata": {
    "collapsed": false,
    "pycharm": {
     "name": "#%%\n"
    }
   }
  },
  {
   "cell_type": "code",
   "execution_count": null,
   "outputs": [],
   "source": [],
   "metadata": {
    "collapsed": false,
    "pycharm": {
     "name": "#%%\n"
    }
   }
  }
 ],
 "metadata": {
  "kernelspec": {
   "display_name": "Python 3",
   "language": "python",
   "name": "python3"
  },
  "language_info": {
   "codemirror_mode": {
    "name": "ipython",
    "version": 2
   },
   "file_extension": ".py",
   "mimetype": "text/x-python",
   "name": "python",
   "nbconvert_exporter": "python",
   "pygments_lexer": "ipython2",
   "version": "2.7.6"
  }
 },
 "nbformat": 4,
 "nbformat_minor": 0
}