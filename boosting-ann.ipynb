{
 "cells": [
  {
   "cell_type": "code",
   "execution_count": 4,
   "metadata": {
    "collapsed": true,
    "pycharm": {
     "name": "#%%\n"
    }
   },
   "outputs": [],
   "source": [
    "import math\n",
    "import random\n",
    "import tensorflow as tf\n",
    "import pandas as pd\n",
    "import numpy as np\n",
    "import matplotlib.pyplot as plt\n",
    "import imblearn"
   ]
  },
  {
   "cell_type": "code",
   "execution_count": 5,
   "outputs": [
    {
     "name": "stdout",
     "output_type": "stream",
     "text": [
      "2.10.0\n"
     ]
    }
   ],
   "source": [
    "print(tf.__version__)"
   ],
   "metadata": {
    "collapsed": false,
    "pycharm": {
     "name": "#%%\n"
    }
   }
  },
  {
   "cell_type": "code",
   "execution_count": 6,
   "outputs": [],
   "source": [
    "table = pd.read_table('./1663769555_8559356_train.txt', names=['binding','sequence'])"
   ],
   "metadata": {
    "collapsed": false,
    "pycharm": {
     "name": "#%%\n"
    }
   }
  },
  {
   "cell_type": "code",
   "execution_count": 7,
   "outputs": [],
   "source": [
    "from sklearn.feature_extraction.text import CountVectorizer\n",
    "def return_binary_vectorized_form(data_frame, feat = None):\n",
    "    if feat is None:\n",
    "        count_vectorizer = CountVectorizer(binary=True)\n",
    "    else:\n",
    "        count_vectorizer = CountVectorizer(binary=True, vocabulary=feat)\n",
    "    fitted_and_transformed = count_vectorizer.fit_transform(data_frame).toarray()\n",
    "    return count_vectorizer,  fitted_and_transformed"
   ],
   "metadata": {
    "collapsed": false,
    "pycharm": {
     "name": "#%%\n"
    }
   }
  },
  {
   "cell_type": "code",
   "execution_count": 8,
   "outputs": [],
   "source": [
    "from sklearn.feature_selection import SelectKBest, chi2\n",
    "def select_k_best_features(feature_set, target_values, fraction, feature_list):\n",
    "    select_bestselect_best = SelectKBest(score_func=chi2, k = int(len(feature_list)*fraction))\n",
    "    select_bestselect_best.fit(feature_set,target_values)\n",
    "    mask = select_bestselect_best.get_support()\n",
    "    k_best_featurs = feature_list[mask]\n",
    "    return k_best_featurs"
   ],
   "metadata": {
    "collapsed": false,
    "pycharm": {
     "name": "#%%\n"
    }
   }
  },
  {
   "cell_type": "code",
   "execution_count": 9,
   "outputs": [],
   "source": [
    "from sklearn.model_selection import train_test_split\n",
    "active_df = table.loc[table.binding == 1]\n",
    "not_active_df = table.loc[table.binding == 0]\n",
    "# Mainly spliting the data here for testing, that is the reason train size is set to .20\n",
    "active_train, active_test, active_binding_train, active_binding_test = train_test_split(active_df.sequence, active_df.binding, shuffle=True, train_size= .82)\n",
    "not_active_train, not_active_test, not_active_binding_train, not_active_binding_test = train_test_split(not_active_df.sequence, not_active_df.binding, shuffle=True, train_size=.90)"
   ],
   "metadata": {
    "collapsed": false,
    "pycharm": {
     "name": "#%%\n"
    }
   }
  },
  {
   "cell_type": "code",
   "execution_count": 10,
   "outputs": [],
   "source": [
    "def createDf(data):\n",
    "    pd_df = pd.DataFrame(data)\n",
    "    return pd_df\n",
    "def addColumn(copy_to, copy_from ,cname):\n",
    "    copy_to[cname] = copy_from[cname]\n",
    "    return copy_to"
   ],
   "metadata": {
    "collapsed": false,
    "pycharm": {
     "name": "#%%\n"
    }
   }
  },
  {
   "cell_type": "code",
   "execution_count": 11,
   "outputs": [
    {
     "name": "stdout",
     "output_type": "stream",
     "text": [
      "0    649\n",
      "1     63\n",
      "Name: binding, dtype: int64\n",
      "0    73\n",
      "1    15\n",
      "Name: binding, dtype: int64\n"
     ]
    }
   ],
   "source": [
    "active_test_df = pd.DataFrame(active_test)\n",
    "active_binding_test_df = pd.DataFrame(active_binding_test)\n",
    "active_test_df['binding'] = active_binding_test_df['binding']\n",
    "not_active_test_df = pd.DataFrame(not_active_test)\n",
    "not_active_binding_test_df = pd.DataFrame(not_active_binding_test)\n",
    "not_active_test_df['binding'] = not_active_binding_test_df['binding']\n",
    "active_train_df = createDf(active_train)\n",
    "active_binding_train_df = createDf(active_binding_train)\n",
    "active_train_df = addColumn(active_train_df, active_binding_train_df, 'binding')\n",
    "not_active_train_df = createDf(not_active_train)\n",
    "not_active_binding_train_df = createDf(not_active_binding_train)\n",
    "not_active_train_df = addColumn(not_active_train_df, not_active_binding_train_df, 'binding')\n",
    "train_df = pd.concat([active_train_df, not_active_train_df]).reset_index()\n",
    "train_df = train_df.drop('index', axis=1)\n",
    "print(train_df.binding.value_counts())\n",
    "test_df = pd.concat([active_test_df, not_active_test_df]).reset_index()\n",
    "test_df = test_df.drop('index', axis=1)\n",
    "print(test_df.binding.value_counts())\n",
    "from imblearn.over_sampling import RandomOverSampler, SMOTE\n",
    "\n",
    "\n"
   ],
   "metadata": {
    "collapsed": false,
    "pycharm": {
     "name": "#%%\n"
    }
   }
  },
  {
   "cell_type": "code",
   "execution_count": 61,
   "outputs": [
    {
     "name": "stdout",
     "output_type": "stream",
     "text": [
      "1    649\n",
      "0    649\n",
      "Name: binding, dtype: int64\n",
      "0    73\n",
      "1    15\n",
      "Name: binding, dtype: int64\n"
     ]
    }
   ],
   "source": [
    "sampler = RandomOverSampler()\n",
    "x_sampled, y_sampled = sampler.fit_resample(np.array(train_df.sequence).reshape(-1, 1), train_df.binding)\n",
    "\n",
    "final_train_set = pd.DataFrame(x_sampled, columns  =[\"sequence\"])\n",
    "final_train_set['binding'] = y_sampled\n",
    "print(final_train_set.binding.value_counts())\n",
    "\n",
    "final_test_set = pd.DataFrame(test_df.sequence, columns  =[\"sequence\"])\n",
    "final_test_set['binding'] = test_df.binding\n",
    "print(final_test_set.binding.value_counts())"
   ],
   "metadata": {
    "collapsed": false,
    "pycharm": {
     "name": "#%%\n"
    }
   }
  },
  {
   "cell_type": "code",
   "execution_count": 62,
   "outputs": [],
   "source": [
    "train_result = np.array(final_train_set.binding)\n",
    "test_result = np.array(final_test_set.binding)"
   ],
   "metadata": {
    "collapsed": false,
    "pycharm": {
     "name": "#%%\n"
    }
   }
  },
  {
   "cell_type": "code",
   "execution_count": 63,
   "outputs": [],
   "source": [
    "vectorizer_best, training_split = return_binary_vectorized_form(final_train_set.sequence)\n",
    "features = select_k_best_features(training_split,train_result,.30,vectorizer_best.get_feature_names_out())"
   ],
   "metadata": {
    "collapsed": false,
    "pycharm": {
     "name": "#%%\n"
    }
   }
  },
  {
   "cell_type": "code",
   "execution_count": 64,
   "outputs": [],
   "source": [
    "vectorizer_best, training_split = return_binary_vectorized_form(final_train_set.sequence,features)\n",
    "test_split = vectorizer_best.transform(final_test_set.sequence).toarray()"
   ],
   "metadata": {
    "collapsed": false,
    "pycharm": {
     "name": "#%%\n"
    }
   }
  },
  {
   "cell_type": "code",
   "execution_count": 67,
   "outputs": [],
   "source": [
    "# smote = SMOTE(random_state=42)\n",
    "# x, y = smote.fit_resample(training_split, train_result)\n",
    "# training_split = x\n",
    "# train_result = y\n",
    "# print(training_split.shape)\n",
    "# print(test_split.shape)"
   ],
   "metadata": {
    "collapsed": false,
    "pycharm": {
     "name": "#%%\n"
    }
   }
  },
  {
   "cell_type": "code",
   "execution_count": 68,
   "outputs": [],
   "source": [
    "initial_weight = np.ones(training_split.shape[0])*(1/training_split.shape[0])"
   ],
   "metadata": {
    "collapsed": false,
    "pycharm": {
     "name": "#%%\n"
    }
   }
  },
  {
   "cell_type": "code",
   "execution_count": 69,
   "outputs": [],
   "source": [
    "def updateWeight(missmatch, weight, alpha):\n",
    "    mi = 0\n",
    "    missmatch_size = len(missmatch)\n",
    "    wi = 0\n",
    "\n",
    "    new_weight = []\n",
    "    norm_constant = 0\n",
    "    while wi < len(weight):\n",
    "        if mi < missmatch_size and missmatch[mi] == wi:\n",
    "            k = weight[wi] * math.exp(alpha)\n",
    "            mi+=1\n",
    "        else:\n",
    "            k = weight[wi] * math.exp(-1*alpha)\n",
    "        new_weight.append( k )\n",
    "        norm_constant += k\n",
    "        wi += 1\n",
    "\n",
    "    new_weight /= norm_constant\n",
    "    sum =0\n",
    "    for i in new_weight:\n",
    "        sum+=i\n",
    "    print(sum)\n",
    "    # plt.plot(new_weight)\n",
    "    # plt.show()\n",
    "    return new_weight"
   ],
   "metadata": {
    "collapsed": false,
    "pycharm": {
     "name": "#%%\n"
    }
   }
  },
  {
   "cell_type": "code",
   "execution_count": 70,
   "outputs": [],
   "source": [
    "from sklearn.metrics import f1_score, accuracy_score, confusion_matrix\n",
    "def findMissClassificatonIndex(predicted, test_res, weight):\n",
    "    error_rate = 0\n",
    "    missmatch_indexes = []\n",
    "    incorrect= []\n",
    "    tn, fp, fn, tp = confusion_matrix(test_res, predicted).ravel()\n",
    "    precision = tp / (tp+ fp)\n",
    "    recall = tp / (tp+ fn)\n",
    "    score = (2 * precision * recall) / (precision + recall)\n",
    "    print(score)\n",
    "    print(accuracy_score(test_res, predicted))\n",
    "    for i, (pred, real) in enumerate(zip(predicted, test_res)):\n",
    "        if pred != real:\n",
    "            incorrect.append((i, pred, real))\n",
    "            missmatch_indexes.append(i)\n",
    "            error_rate += weight[i]\n",
    "    error_rate /= len(predicted)\n",
    "    # print(incorrect)\n",
    "    return error_rate, missmatch_indexes"
   ],
   "metadata": {
    "collapsed": false,
    "pycharm": {
     "name": "#%%\n"
    }
   }
  },
  {
   "cell_type": "code",
   "execution_count": 71,
   "outputs": [],
   "source": [
    "def rejectionSampling(train_data, train_res, weights):\n",
    "    samplesize  = int(4 * len(train_data))\n",
    "    new_train_data = []\n",
    "    new_train_res = []\n",
    "    new_weights = []\n",
    "    adding_index =[]\n",
    "    max_w = max(weights)\n",
    "\n",
    "    for i in range(samplesize):\n",
    "        while True:\n",
    "            index = random.randrange(len(weights))\n",
    "            u = max_w * random.random()\n",
    "            if u <= weights[index]:\n",
    "                new_train_data.append(train_data[index])\n",
    "                new_train_res.append(train_res[index])\n",
    "                adding_index.append(index)\n",
    "                break\n",
    "    # print(adding_index)\n",
    "    return np.array(new_train_data), np.array(new_train_res)"
   ],
   "metadata": {
    "collapsed": false,
    "pycharm": {
     "name": "#%%\n"
    }
   }
  },
  {
   "cell_type": "code",
   "execution_count": 72,
   "outputs": [],
   "source": [
    "def resample(train_data, train_res, weights):\n",
    "    size = len(train_data)\n",
    "    indexes = np.random.choice(int(size), int( 5 * size), replace=True, p=weights)\n",
    "    new_train_data = []\n",
    "    new_train_res = []\n",
    "    for index in indexes:\n",
    "         new_train_data.append(train_data[index])\n",
    "         new_train_res.append(train_res[index])\n",
    "    return np.array(new_train_data), np.array(new_train_res)"
   ],
   "metadata": {
    "collapsed": false,
    "pycharm": {
     "name": "#%%\n"
    }
   }
  },
  {
   "cell_type": "code",
   "execution_count": 73,
   "outputs": [],
   "source": [
    "class EarlyStoppingMonitor(tf.keras.callbacks.Callback):\n",
    "    def __init__(self):\n",
    "        super(EarlyStoppingMonitor, self).__init__()\n",
    "        self.f1_train = None\n",
    "        self.f1_test = None\n",
    "        self.prevous = None\n",
    "        self.count =0\n",
    "\n",
    "    def on_epoch_end(self, epoch, logs=None):\n",
    "        current_train_precision = logs.get('precision')\n",
    "        current_train_recall= logs.get('recall')\n",
    "\n",
    "        if current_train_precision==0 or current_train_recall==0:\n",
    "            print(\"**** Waring: precision recall zero avoid exception ****\")\n",
    "            return\n",
    "        self.f1_train = (2*current_train_precision*current_train_recall) / (current_train_precision+current_train_recall)\n",
    "        if self.prevous == None:\n",
    "            self.prevous = self.f1_train\n",
    "        if self.prevous == self.f1_train:\n",
    "            self.count += 1\n",
    "        else:\n",
    "            self.prevous = self.f1_train\n",
    "            self.count = 0\n",
    "        if self.count == 5:\n",
    "            self.model.stop_training = True\n",
    "            print('\\n\\n******* No improvements *******')\n",
    "        if current_train_recall > .45:\n",
    "            # self.count += 1\n",
    "            # if self.count >4:\n",
    "            self.model.stop_training = True\n",
    "            print('\\n\\n******* Stoping on Defined Thresold *******')\n",
    "            print('F1 TRAINING: ', self.f1_train)\n",
    "            print('Recall TRAINING: ', current_train_recall)\n",
    "\n",
    "    def on_train_end(self, logs=None):\n",
    "        if self.model.stop_training:\n",
    "            print(\"\\n\\n\\n****** Early Stopping *******\")"
   ],
   "metadata": {
    "collapsed": false,
    "pycharm": {
     "name": "#%%\n"
    }
   }
  },
  {
   "cell_type": "code",
   "execution_count": 74,
   "outputs": [],
   "source": [
    "def createBaseModel():\n",
    "    model = tf.keras.Sequential([\n",
    "        tf.keras.Input(shape=(training_split.shape[-1],)),\n",
    "        tf.keras.layers.Dense(2, activation='relu',kernel_regularizer=tf.keras.regularizers.L1(.025)),\n",
    "        tf.keras.layers.Dense(1, activation='sigmoid')\n",
    "    ])\n",
    "\n",
    "    METRICS = [\n",
    "      tf.keras.metrics.TruePositives(name='tp'),\n",
    "      tf.keras.metrics.FalsePositives(name='fp'),\n",
    "      tf.keras.metrics.TrueNegatives(name='tn'),\n",
    "      tf.keras.metrics.FalseNegatives(name='fn'),\n",
    "      tf.keras.metrics.Precision(name='precision'),\n",
    "      tf.keras.metrics.Recall(name='recall')\n",
    "    ]\n",
    "\n",
    "    model.compile(loss=tf.keras.losses.BinaryFocalCrossentropy(), metrics=METRICS, optimizer='adam')\n",
    "\n",
    "    return model"
   ],
   "metadata": {
    "collapsed": false,
    "pycharm": {
     "name": "#%%\n"
    }
   }
  },
  {
   "cell_type": "code",
   "execution_count": 75,
   "outputs": [],
   "source": [
    "ensemble_size = 12\n",
    "ensemble = []\n",
    "alphas = []\n",
    "def boosting(weights):\n",
    "\n",
    "    for i in range(ensemble_size):\n",
    "        print(\" =========== iteration ===========>:\", i )\n",
    "        train_data, train_res = resample(training_split, train_result, weights)\n",
    "        model = createBaseModel()\n",
    "        num_epochs = 60\n",
    "        print( \"bfore traning: \", ((sum(train_res)/len(train_res)))*100)\n",
    "        history = model.fit(train_data, train_res,\n",
    "                    epochs= num_epochs,\n",
    "                    batch_size=70,\n",
    "                    callbacks=[EarlyStoppingMonitor()])\n",
    "        predicted_result = model.predict(training_split)\n",
    "        predicted_result = [1 if i>=.5 else 0 for i in predicted_result ]\n",
    "        error_rate, error_indexes = findMissClassificatonIndex(predicted_result, train_result, weights)\n",
    "        print(\"error_rate:\", error_rate)\n",
    "\n",
    "        if error_rate > .5:\n",
    "            weights = np.ones(training_split.shape[0]) * (1/training_split.shape[0])\n",
    "            print(\"re-balancing and training because error:\", error_rate)\n",
    "            continue\n",
    "\n",
    "        amount_of_say = 0.025 * ( math.log( (1-error_rate) / error_rate ) )\n",
    "        alphas.append(amount_of_say)\n",
    "        ensemble.append(model)\n",
    "        weights = updateWeight(error_indexes, weights, amount_of_say)\n"
   ],
   "metadata": {
    "collapsed": false,
    "pycharm": {
     "name": "#%%\n"
    }
   }
  },
  {
   "cell_type": "code",
   "execution_count": 76,
   "outputs": [
    {
     "name": "stdout",
     "output_type": "stream",
     "text": [
      " =========== iteration ===========>: 0\n",
      "bfore traning:  50.40061633281972\n",
      "Epoch 1/60\n"
     ]
    },
    {
     "name": "stderr",
     "output_type": "stream",
     "text": [
      "2022-11-13 00:15:32.928791: I tensorflow/core/grappler/optimizers/custom_graph_optimizer_registry.cc:114] Plugin optimizer for device_type GPU is enabled.\n"
     ]
    },
    {
     "name": "stdout",
     "output_type": "stream",
     "text": [
      "93/93 [==============================] - ETA: 0s - loss: 1.1616 - tp: 2314.0000 - fp: 196.0000 - tn: 3023.0000 - fn: 957.0000 - precision: 0.9219 - recall: 0.7074\n",
      "\n",
      "******* Stoping on Defined Thresold *******\n",
      "F1 TRAINING:  0.8005535528424954\n",
      "Recall TRAINING:  0.7074289321899414\n",
      "93/93 [==============================] - 3s 19ms/step - loss: 1.1616 - tp: 2314.0000 - fp: 196.0000 - tn: 3023.0000 - fn: 957.0000 - precision: 0.9219 - recall: 0.7074\n",
      "\n",
      "\n",
      "\n",
      "****** Early Stopping *******\n",
      "41/41 [==============================] - 0s 4ms/step\n"
     ]
    },
    {
     "name": "stderr",
     "output_type": "stream",
     "text": [
      "2022-11-13 00:15:35.444232: I tensorflow/core/grappler/optimizers/custom_graph_optimizer_registry.cc:114] Plugin optimizer for device_type GPU is enabled.\n"
     ]
    },
    {
     "name": "stdout",
     "output_type": "stream",
     "text": [
      "0.6800401203610832\n",
      "0.7542372881355932\n",
      "error_rate: 0.00018933953148259286\n",
      "0.9999999999999774\n",
      " =========== iteration ===========>: 1\n",
      "bfore traning:  54.60708782742682\n",
      "Epoch 1/60\n"
     ]
    },
    {
     "name": "stderr",
     "output_type": "stream",
     "text": [
      "2022-11-13 00:15:36.678427: I tensorflow/core/grappler/optimizers/custom_graph_optimizer_registry.cc:114] Plugin optimizer for device_type GPU is enabled.\n"
     ]
    },
    {
     "name": "stdout",
     "output_type": "stream",
     "text": [
      "93/93 [==============================] - ETA: 0s - loss: 1.1600 - tp: 3385.0000 - fp: 1144.0000 - tn: 1802.0000 - fn: 159.0000 - precision: 0.7474 - recall: 0.9551\n",
      "\n",
      "******* Stoping on Defined Thresold *******\n",
      "F1 TRAINING:  0.8385977921732173\n",
      "Recall TRAINING:  0.9551354646682739\n",
      "93/93 [==============================] - 3s 20ms/step - loss: 1.1600 - tp: 3385.0000 - fp: 1144.0000 - tn: 1802.0000 - fn: 159.0000 - precision: 0.7474 - recall: 0.9551\n",
      "\n",
      "\n",
      "\n",
      "****** Early Stopping *******\n",
      "41/41 [==============================] - 0s 4ms/step\n"
     ]
    },
    {
     "name": "stderr",
     "output_type": "stream",
     "text": [
      "2022-11-13 00:15:39.180045: I tensorflow/core/grappler/optimizers/custom_graph_optimizer_registry.cc:114] Plugin optimizer for device_type GPU is enabled.\n"
     ]
    },
    {
     "name": "stdout",
     "output_type": "stream",
     "text": [
      "0.9420062695924765\n",
      "0.9429892141756548\n",
      "error_rate: 5.481644836889323e-05\n",
      "0.9999999999999732\n",
      " =========== iteration ===========>: 2\n",
      "bfore traning:  56.009244992295834\n",
      "Epoch 1/60\n"
     ]
    },
    {
     "name": "stderr",
     "output_type": "stream",
     "text": [
      "2022-11-13 00:15:40.338029: I tensorflow/core/grappler/optimizers/custom_graph_optimizer_registry.cc:114] Plugin optimizer for device_type GPU is enabled.\n"
     ]
    },
    {
     "name": "stdout",
     "output_type": "stream",
     "text": [
      "93/93 [==============================] - ETA: 0s - loss: 1.1613 - tp: 3104.0000 - fp: 193.0000 - tn: 2662.0000 - fn: 531.0000 - precision: 0.9415 - recall: 0.8539\n",
      "\n",
      "******* Stoping on Defined Thresold *******\n",
      "F1 TRAINING:  0.8955568320444797\n",
      "Recall TRAINING:  0.8539202213287354\n",
      "93/93 [==============================] - 3s 21ms/step - loss: 1.1613 - tp: 3104.0000 - fp: 193.0000 - tn: 2662.0000 - fn: 531.0000 - precision: 0.9415 - recall: 0.8539\n",
      "\n",
      "\n",
      "\n",
      "****** Early Stopping *******\n",
      "41/41 [==============================] - 0s 4ms/step\n"
     ]
    },
    {
     "name": "stderr",
     "output_type": "stream",
     "text": [
      "2022-11-13 00:15:42.966155: I tensorflow/core/grappler/optimizers/custom_graph_optimizer_registry.cc:114] Plugin optimizer for device_type GPU is enabled.\n"
     ]
    },
    {
     "name": "stdout",
     "output_type": "stream",
     "text": [
      "0.9056603773584906\n",
      "0.911402157164869\n",
      "error_rate: 9.15654149184749e-05\n",
      "1.0000000000000098\n",
      " =========== iteration ===========>: 3\n",
      "bfore traning:  56.85670261941448\n",
      "Epoch 1/60\n"
     ]
    },
    {
     "name": "stderr",
     "output_type": "stream",
     "text": [
      "2022-11-13 00:15:44.190143: I tensorflow/core/grappler/optimizers/custom_graph_optimizer_registry.cc:114] Plugin optimizer for device_type GPU is enabled.\n"
     ]
    },
    {
     "name": "stdout",
     "output_type": "stream",
     "text": [
      "93/93 [==============================] - ETA: 0s - loss: 1.1500 - tp: 3628.0000 - fp: 2415.0000 - tn: 385.0000 - fn: 62.0000 - precision: 0.6004 - recall: 0.9832\n",
      "\n",
      "******* Stoping on Defined Thresold *******\n",
      "F1 TRAINING:  0.7455050004586017\n",
      "Recall TRAINING:  0.983197808265686\n",
      "93/93 [==============================] - 3s 21ms/step - loss: 1.1500 - tp: 3628.0000 - fp: 2415.0000 - tn: 385.0000 - fn: 62.0000 - precision: 0.6004 - recall: 0.9832\n",
      "\n",
      "\n",
      "\n",
      "****** Early Stopping *******\n",
      "27/41 [==================>...........] - ETA: 0s"
     ]
    },
    {
     "name": "stderr",
     "output_type": "stream",
     "text": [
      "2022-11-13 00:15:46.753462: I tensorflow/core/grappler/optimizers/custom_graph_optimizer_registry.cc:114] Plugin optimizer for device_type GPU is enabled.\n"
     ]
    },
    {
     "name": "stdout",
     "output_type": "stream",
     "text": [
      "41/41 [==============================] - 0s 4ms/step\n",
      "0.8047117172969622\n",
      "0.7573189522342064\n",
      "error_rate: 0.00016917619820730923\n",
      "0.9999999999999776\n",
      " =========== iteration ===========>: 4\n",
      "bfore traning:  51.84899845916795\n",
      "Epoch 1/60\n"
     ]
    },
    {
     "name": "stderr",
     "output_type": "stream",
     "text": [
      "2022-11-13 00:15:48.065444: I tensorflow/core/grappler/optimizers/custom_graph_optimizer_registry.cc:114] Plugin optimizer for device_type GPU is enabled.\n"
     ]
    },
    {
     "name": "stdout",
     "output_type": "stream",
     "text": [
      "93/93 [==============================] - ETA: 0s - loss: 1.1574 - tp: 3065.0000 - fp: 608.0000 - tn: 2517.0000 - fn: 300.0000 - precision: 0.8345 - recall: 0.9108\n",
      "\n",
      "******* Stoping on Defined Thresold *******\n",
      "F1 TRAINING:  0.8709860901144987\n",
      "Recall TRAINING:  0.9108469486236572\n",
      "93/93 [==============================] - 3s 21ms/step - loss: 1.1574 - tp: 3065.0000 - fp: 608.0000 - tn: 2517.0000 - fn: 300.0000 - precision: 0.8345 - recall: 0.9108\n",
      "\n",
      "\n",
      "\n",
      "****** Early Stopping *******\n",
      "41/41 [==============================] - 0s 4ms/step\n"
     ]
    },
    {
     "name": "stderr",
     "output_type": "stream",
     "text": [
      "2022-11-13 00:15:50.647514: I tensorflow/core/grappler/optimizers/custom_graph_optimizer_registry.cc:114] Plugin optimizer for device_type GPU is enabled.\n"
     ]
    },
    {
     "name": "stdout",
     "output_type": "stream",
     "text": [
      "0.9552941176470587\n",
      "0.9560862865947611\n",
      "error_rate: 6.998918072044037e-05\n",
      "0.9999999999999946\n",
      " =========== iteration ===========>: 5\n",
      "bfore traning:  51.34052388289676\n",
      "Epoch 1/60\n"
     ]
    },
    {
     "name": "stderr",
     "output_type": "stream",
     "text": [
      "2022-11-13 00:15:51.941122: I tensorflow/core/grappler/optimizers/custom_graph_optimizer_registry.cc:114] Plugin optimizer for device_type GPU is enabled.\n"
     ]
    },
    {
     "name": "stdout",
     "output_type": "stream",
     "text": [
      "93/93 [==============================] - ETA: 0s - loss: 1.1566 - tp: 3069.0000 - fp: 1237.0000 - tn: 1921.0000 - fn: 263.0000 - precision: 0.7127 - recall: 0.9211\n",
      "\n",
      "******* Stoping on Defined Thresold *******\n",
      "F1 TRAINING:  0.8036135261349862\n",
      "Recall TRAINING:  0.9210684895515442\n",
      "93/93 [==============================] - 3s 20ms/step - loss: 1.1566 - tp: 3069.0000 - fp: 1237.0000 - tn: 1921.0000 - fn: 263.0000 - precision: 0.7127 - recall: 0.9211\n",
      "\n",
      "\n",
      "\n",
      "****** Early Stopping *******\n",
      "41/41 [==============================] - 0s 4ms/step\n"
     ]
    },
    {
     "name": "stderr",
     "output_type": "stream",
     "text": [
      "2022-11-13 00:15:54.447788: I tensorflow/core/grappler/optimizers/custom_graph_optimizer_registry.cc:114] Plugin optimizer for device_type GPU is enabled.\n"
     ]
    },
    {
     "name": "stdout",
     "output_type": "stream",
     "text": [
      "0.924846625766871\n",
      "0.9244992295839753\n",
      "error_rate: 0.00010053130531242611\n",
      "0.9999999999999805\n",
      " =========== iteration ===========>: 6\n",
      "bfore traning:  50.44684129429891\n",
      "Epoch 1/60\n"
     ]
    },
    {
     "name": "stderr",
     "output_type": "stream",
     "text": [
      "2022-11-13 00:15:55.747263: I tensorflow/core/grappler/optimizers/custom_graph_optimizer_registry.cc:114] Plugin optimizer for device_type GPU is enabled.\n"
     ]
    },
    {
     "name": "stdout",
     "output_type": "stream",
     "text": [
      "93/93 [==============================] - ETA: 0s - loss: 1.1584 - tp: 2590.0000 - fp: 228.0000 - tn: 2988.0000 - fn: 684.0000 - precision: 0.9191 - recall: 0.7911\n",
      "\n",
      "******* Stoping on Defined Thresold *******\n",
      "F1 TRAINING:  0.8502954834928278\n",
      "Recall TRAINING:  0.7910812497138977\n",
      "93/93 [==============================] - 3s 20ms/step - loss: 1.1584 - tp: 2590.0000 - fp: 228.0000 - tn: 2988.0000 - fn: 684.0000 - precision: 0.9191 - recall: 0.7911\n",
      "\n",
      "\n",
      "\n",
      "****** Early Stopping *******\n",
      "25/41 [=================>............] - ETA: 0s"
     ]
    },
    {
     "name": "stderr",
     "output_type": "stream",
     "text": [
      "2022-11-13 00:15:58.215309: I tensorflow/core/grappler/optimizers/custom_graph_optimizer_registry.cc:114] Plugin optimizer for device_type GPU is enabled.\n"
     ]
    },
    {
     "name": "stdout",
     "output_type": "stream",
     "text": [
      "41/41 [==============================] - 0s 4ms/step\n",
      "0.6954773869346733\n",
      "0.7665639445300462\n",
      "error_rate: 0.00017976832348149717\n",
      "0.9999999999999867\n",
      " =========== iteration ===========>: 7\n",
      "bfore traning:  56.88751926040062\n",
      "Epoch 1/60\n"
     ]
    },
    {
     "name": "stderr",
     "output_type": "stream",
     "text": [
      "2022-11-13 00:15:59.540373: I tensorflow/core/grappler/optimizers/custom_graph_optimizer_registry.cc:114] Plugin optimizer for device_type GPU is enabled.\n"
     ]
    },
    {
     "name": "stdout",
     "output_type": "stream",
     "text": [
      "93/93 [==============================] - ETA: 0s - loss: 1.1504 - tp: 3440.0000 - fp: 1788.0000 - tn: 1010.0000 - fn: 252.0000 - precision: 0.6580 - recall: 0.9317\n",
      "\n",
      "******* Stoping on Defined Thresold *******\n",
      "F1 TRAINING:  0.771300452535014\n",
      "Recall TRAINING:  0.9317443370819092\n",
      "93/93 [==============================] - 3s 20ms/step - loss: 1.1504 - tp: 3440.0000 - fp: 1788.0000 - tn: 1010.0000 - fn: 252.0000 - precision: 0.6580 - recall: 0.9317\n",
      "\n",
      "\n",
      "\n",
      "****** Early Stopping *******\n",
      "27/41 [==================>...........] - ETA: 0s"
     ]
    },
    {
     "name": "stderr",
     "output_type": "stream",
     "text": [
      "2022-11-13 00:16:02.091893: I tensorflow/core/grappler/optimizers/custom_graph_optimizer_registry.cc:114] Plugin optimizer for device_type GPU is enabled.\n"
     ]
    },
    {
     "name": "stdout",
     "output_type": "stream",
     "text": [
      "41/41 [==============================] - 0s 4ms/step\n",
      "0.6666666666666666\n",
      "0.5\n",
      "error_rate: 0.00033627453214757445\n",
      "0.9999999999999919\n",
      " =========== iteration ===========>: 8\n",
      "bfore traning:  46.08628659476117\n",
      "Epoch 1/60\n"
     ]
    },
    {
     "name": "stderr",
     "output_type": "stream",
     "text": [
      "2022-11-13 00:16:03.435133: I tensorflow/core/grappler/optimizers/custom_graph_optimizer_registry.cc:114] Plugin optimizer for device_type GPU is enabled.\n"
     ]
    },
    {
     "name": "stdout",
     "output_type": "stream",
     "text": [
      "93/93 [==============================] - 3s 20ms/step - loss: 1.1733 - tp: 1013.0000 - fp: 70.0000 - tn: 3429.0000 - fn: 1978.0000 - precision: 0.9354 - recall: 0.3387\n",
      "Epoch 2/60\n",
      "93/93 [==============================] - 1s 14ms/step - loss: 0.3415 - tp: 849.0000 - fp: 2.0000 - tn: 3497.0000 - fn: 2142.0000 - precision: 0.9976 - recall: 0.2839\n",
      "Epoch 3/60\n",
      "93/93 [==============================] - 1s 14ms/step - loss: 0.3413 - tp: 1226.0000 - fp: 3.0000 - tn: 3496.0000 - fn: 1765.0000 - precision: 0.9976 - recall: 0.4099\n",
      "Epoch 4/60\n",
      "93/93 [==============================] - ETA: 0s - loss: 0.3419 - tp: 1539.0000 - fp: 20.0000 - tn: 3479.0000 - fn: 1452.0000 - precision: 0.9872 - recall: 0.5145\n",
      "\n",
      "******* Stoping on Defined Thresold *******\n",
      "F1 TRAINING:  0.6764834904068678\n",
      "Recall TRAINING:  0.5145435929298401\n",
      "93/93 [==============================] - 1s 13ms/step - loss: 0.3419 - tp: 1539.0000 - fp: 20.0000 - tn: 3479.0000 - fn: 1452.0000 - precision: 0.9872 - recall: 0.5145\n",
      "\n",
      "\n",
      "\n",
      "****** Early Stopping *******\n",
      "41/41 [==============================] - 0s 4ms/step\n"
     ]
    },
    {
     "name": "stderr",
     "output_type": "stream",
     "text": [
      "2022-11-13 00:16:09.729369: I tensorflow/core/grappler/optimizers/custom_graph_optimizer_registry.cc:114] Plugin optimizer for device_type GPU is enabled.\n"
     ]
    },
    {
     "name": "stdout",
     "output_type": "stream",
     "text": [
      "0.8361683079677708\n",
      "0.8590138674884438\n",
      "error_rate: 0.00013665384583313753\n",
      "1.000000000000018\n",
      " =========== iteration ===========>: 9\n",
      "bfore traning:  50.708782742681045\n",
      "Epoch 1/60\n"
     ]
    },
    {
     "name": "stderr",
     "output_type": "stream",
     "text": [
      "2022-11-13 00:16:11.018975: I tensorflow/core/grappler/optimizers/custom_graph_optimizer_registry.cc:114] Plugin optimizer for device_type GPU is enabled.\n"
     ]
    },
    {
     "name": "stdout",
     "output_type": "stream",
     "text": [
      "93/93 [==============================] - ETA: 0s - loss: 1.1532 - tp: 3071.0000 - fp: 693.0000 - tn: 2506.0000 - fn: 220.0000 - precision: 0.8159 - recall: 0.9332\n",
      "\n",
      "******* Stoping on Defined Thresold *******\n",
      "F1 TRAINING:  0.8705882179304345\n",
      "Recall TRAINING:  0.9331510066986084\n",
      "93/93 [==============================] - 3s 21ms/step - loss: 1.1532 - tp: 3071.0000 - fp: 693.0000 - tn: 2506.0000 - fn: 220.0000 - precision: 0.8159 - recall: 0.9332\n",
      "\n",
      "\n",
      "\n",
      "****** Early Stopping *******\n",
      "41/41 [==============================] - ETA: 0s"
     ]
    },
    {
     "name": "stderr",
     "output_type": "stream",
     "text": [
      "2022-11-13 00:16:13.558818: I tensorflow/core/grappler/optimizers/custom_graph_optimizer_registry.cc:114] Plugin optimizer for device_type GPU is enabled.\n"
     ]
    },
    {
     "name": "stdout",
     "output_type": "stream",
     "text": [
      "41/41 [==============================] - 0s 4ms/step\n",
      "0.81686595342983\n",
      "0.775808936825886\n",
      "error_rate: 0.0001934314117433021\n",
      "0.9999999999999829\n",
      " =========== iteration ===========>: 10\n",
      "bfore traning:  45.932203389830505\n",
      "Epoch 1/60\n"
     ]
    },
    {
     "name": "stderr",
     "output_type": "stream",
     "text": [
      "2022-11-13 00:16:16.028859: I tensorflow/core/grappler/optimizers/custom_graph_optimizer_registry.cc:114] Plugin optimizer for device_type GPU is enabled.\n"
     ]
    },
    {
     "name": "stdout",
     "output_type": "stream",
     "text": [
      "93/93 [==============================] - 4s 19ms/step - loss: 1.1609 - tp: 1274.0000 - fp: 101.0000 - tn: 3408.0000 - fn: 1707.0000 - precision: 0.9265 - recall: 0.4274\n",
      "Epoch 2/60\n",
      "93/93 [==============================] - 1s 13ms/step - loss: 0.3394 - tp: 517.0000 - fp: 0.0000e+00 - tn: 3509.0000 - fn: 2464.0000 - precision: 1.0000 - recall: 0.1734\n",
      "Epoch 3/60\n",
      "93/93 [==============================] - 1s 12ms/step - loss: 0.3403 - tp: 839.0000 - fp: 1.0000 - tn: 3508.0000 - fn: 2142.0000 - precision: 0.9988 - recall: 0.2814\n",
      "Epoch 4/60\n",
      "92/93 [============================>.] - ETA: 0s - loss: 0.3400 - tp: 1336.0000 - fp: 4.0000 - tn: 3474.0000 - fn: 1626.0000 - precision: 0.9970 - recall: 0.4510\n",
      "\n",
      "******* Stoping on Defined Thresold *******\n",
      "F1 TRAINING:  0.621247127187088\n",
      "Recall TRAINING:  0.45119088888168335\n",
      "93/93 [==============================] - 1s 12ms/step - loss: 0.3399 - tp: 1345.0000 - fp: 4.0000 - tn: 3505.0000 - fn: 1636.0000 - precision: 0.9970 - recall: 0.4512\n",
      "\n",
      "\n",
      "\n",
      "****** Early Stopping *******\n",
      "41/41 [==============================] - 0s 3ms/step\n"
     ]
    },
    {
     "name": "stderr",
     "output_type": "stream",
     "text": [
      "2022-11-13 00:16:21.918957: I tensorflow/core/grappler/optimizers/custom_graph_optimizer_registry.cc:114] Plugin optimizer for device_type GPU is enabled.\n"
     ]
    },
    {
     "name": "stdout",
     "output_type": "stream",
     "text": [
      "0.4959443800695249\n",
      "0.6648690292758089\n",
      "error_rate: 0.0002336081259188377\n",
      "0.9999999999999982\n",
      " =========== iteration ===========>: 11\n",
      "bfore traning:  51.69491525423729\n",
      "Epoch 1/60\n"
     ]
    },
    {
     "name": "stderr",
     "output_type": "stream",
     "text": [
      "2022-11-13 00:16:23.086820: I tensorflow/core/grappler/optimizers/custom_graph_optimizer_registry.cc:114] Plugin optimizer for device_type GPU is enabled.\n"
     ]
    },
    {
     "name": "stdout",
     "output_type": "stream",
     "text": [
      "93/93 [==============================] - ETA: 0s - loss: 1.1544 - tp: 2949.0000 - fp: 860.0000 - tn: 2275.0000 - fn: 406.0000 - precision: 0.7742 - recall: 0.8790\n",
      "\n",
      "******* Stoping on Defined Thresold *******\n",
      "F1 TRAINING:  0.8232830985040639\n",
      "Recall TRAINING:  0.8789865970611572\n",
      "93/93 [==============================] - 3s 20ms/step - loss: 1.1544 - tp: 2949.0000 - fp: 860.0000 - tn: 2275.0000 - fn: 406.0000 - precision: 0.7742 - recall: 0.8790\n",
      "\n",
      "\n",
      "\n",
      "****** Early Stopping *******\n",
      "41/41 [==============================] - 0s 4ms/step\n",
      "0.6896918172157279\n",
      "0.5500770416024653\n",
      "error_rate: 0.0003211193038836449\n",
      "1.0000000000000084\n"
     ]
    },
    {
     "name": "stderr",
     "output_type": "stream",
     "text": [
      "2022-11-13 00:16:25.619619: I tensorflow/core/grappler/optimizers/custom_graph_optimizer_registry.cc:114] Plugin optimizer for device_type GPU is enabled.\n"
     ]
    }
   ],
   "source": [
    "# plt.plot(initial_weight)\n",
    "boosting(initial_weight)"
   ],
   "metadata": {
    "collapsed": false,
    "pycharm": {
     "name": "#%%\n"
    }
   }
  },
  {
   "cell_type": "code",
   "execution_count": 77,
   "outputs": [
    {
     "data": {
      "text/plain": "[0.2142944833571189,\n 0.2452866359594811,\n 0.23245913385913086,\n 0.21711001506777447,\n 0.23917749743418018,\n 0.23012352117412216,\n 0.21559154608434536,\n 0.1999311585141182,\n 0.2224480709781944,\n 0.21375985298708994,\n 0.20904079716467994,\n 0.2010844167455315]"
     },
     "execution_count": 77,
     "metadata": {},
     "output_type": "execute_result"
    }
   ],
   "source": [
    "alphas"
   ],
   "metadata": {
    "collapsed": false,
    "pycharm": {
     "name": "#%%\n"
    }
   }
  },
  {
   "cell_type": "code",
   "execution_count": 78,
   "outputs": [],
   "source": [
    "from sklearn.metrics import ConfusionMatrixDisplay, confusion_matrix\n",
    "\n",
    "\n",
    "def repeat(test_split, test_result, start, end):\n",
    "    mx = 0\n",
    "    size = 0\n",
    "    data = []\n",
    "    f1=[]\n",
    "    for i in range(start,end):\n",
    "        data = some_pred(test_split, i)\n",
    "        tn, fp, fn, tp = confusion_matrix(test_result, data).ravel()\n",
    "        precision = tp / (tp+ fp)\n",
    "        recall = tp / (tp+ fn)\n",
    "        score = (2 * precision * recall) / (precision + recall)\n",
    "        print(score)\n",
    "        f1.append(score)\n",
    "        if mx < score:\n",
    "            mx = score\n",
    "            size = i\n",
    "        print(i)\n",
    "    print(mx,size)\n",
    "    return data, f1\n",
    "\n",
    "# a = ensemble[0].predict(test_split)\n",
    "\n",
    "def some_pred(test_split, esize):\n",
    "#     data = []\n",
    "    k = []\n",
    "#     for j in range(len(test_split)):\n",
    "#         pa=0\n",
    "#         na =0\n",
    "    for i in range(esize):\n",
    "        print('*********:', i)\n",
    "        k.append(ensemble[i].predict([test_split]))\n",
    "        # if pa >=na:\n",
    "        #     data.append(1)\n",
    "        # else:\n",
    "        #     data.append(0)\n",
    "    # f1.append(f1_score(test_result, data, average=\"macro\"))\n",
    "    # acc.append(accuracy_score(test_result, data))\n",
    "    return k"
   ],
   "metadata": {
    "collapsed": false,
    "pycharm": {
     "name": "#%%\n"
    }
   }
  },
  {
   "cell_type": "code",
   "execution_count": 78,
   "outputs": [],
   "source": [],
   "metadata": {
    "collapsed": false,
    "pycharm": {
     "name": "#%%\n"
    }
   }
  },
  {
   "cell_type": "code",
   "execution_count": 79,
   "outputs": [],
   "source": [
    "\n",
    "def majority(data):\n",
    "    ans =[]\n",
    "    for i in range(len(data[0])):\n",
    "        ap = 0\n",
    "        an = 0\n",
    "        for e in range(len(data)):\n",
    "            if data[e][i] >= .5:\n",
    "                ap += alphas[e]\n",
    "            else:\n",
    "                an += alphas[e]\n",
    "        if ap >= an:\n",
    "            ans.append(1)\n",
    "        else:\n",
    "            ans.append(0)\n",
    "    return ans\n"
   ],
   "metadata": {
    "collapsed": false,
    "pycharm": {
     "name": "#%%\n"
    }
   }
  },
  {
   "cell_type": "code",
   "execution_count": 80,
   "outputs": [],
   "source": [
    "def getf1(true, predicted):\n",
    "    tn, fp, fn, tp = confusion_matrix(true, predicted).ravel()\n",
    "    precision = tp / (tp+ fp)\n",
    "    recall = tp / (tp+ fn)\n",
    "    score = (2 * precision * recall) / (precision + recall)\n",
    "    return score"
   ],
   "metadata": {
    "collapsed": false,
    "pycharm": {
     "name": "#%%\n"
    }
   }
  },
  {
   "cell_type": "code",
   "execution_count": 81,
   "outputs": [
    {
     "name": "stdout",
     "output_type": "stream",
     "text": [
      "*********: 0\n",
      "3/3 [==============================] - 0s 27ms/step\n",
      "*********: 0\n",
      "3/3 [==============================] - 0s 6ms/step\n",
      "*********: 1\n"
     ]
    },
    {
     "name": "stderr",
     "output_type": "stream",
     "text": [
      "2022-11-13 00:25:27.416415: I tensorflow/core/grappler/optimizers/custom_graph_optimizer_registry.cc:114] Plugin optimizer for device_type GPU is enabled.\n",
      "2022-11-13 00:25:27.599368: I tensorflow/core/grappler/optimizers/custom_graph_optimizer_registry.cc:114] Plugin optimizer for device_type GPU is enabled.\n"
     ]
    },
    {
     "name": "stdout",
     "output_type": "stream",
     "text": [
      "3/3 [==============================] - 0s 18ms/step\n",
      "*********: 0\n",
      "3/3 [==============================] - 0s 6ms/step\n",
      "*********: 1\n",
      "3/3 [==============================] - 0s 3ms/step\n",
      "*********: 2\n",
      "3/3 [==============================] - 0s 13ms/step\n",
      "*********: 0\n",
      "3/3 [==============================] - 0s 9ms/step\n",
      "*********: 1\n",
      "3/3 [==============================] - 0s 7ms/step\n"
     ]
    },
    {
     "name": "stderr",
     "output_type": "stream",
     "text": [
      "2022-11-13 00:25:27.810874: I tensorflow/core/grappler/optimizers/custom_graph_optimizer_registry.cc:114] Plugin optimizer for device_type GPU is enabled.\n"
     ]
    },
    {
     "name": "stdout",
     "output_type": "stream",
     "text": [
      "*********: 2\n",
      "3/3 [==============================] - 0s 3ms/step\n",
      "*********: 3\n",
      "3/3 [==============================] - 0s 20ms/step\n",
      "*********: 0\n",
      "3/3 [==============================] - 0s 6ms/step\n",
      "*********: 1\n",
      "3/3 [==============================] - 0s 5ms/step\n"
     ]
    },
    {
     "name": "stderr",
     "output_type": "stream",
     "text": [
      "2022-11-13 00:25:28.059754: I tensorflow/core/grappler/optimizers/custom_graph_optimizer_registry.cc:114] Plugin optimizer for device_type GPU is enabled.\n"
     ]
    },
    {
     "name": "stdout",
     "output_type": "stream",
     "text": [
      "*********: 2\n",
      "3/3 [==============================] - 0s 7ms/step\n",
      "*********: 3\n",
      "3/3 [==============================] - 0s 7ms/step\n",
      "*********: 4\n",
      "3/3 [==============================] - 0s 16ms/step\n",
      "*********: 0\n",
      "3/3 [==============================] - 0s 3ms/step\n",
      "*********: 1\n",
      "3/3 [==============================] - 0s 6ms/step\n",
      "*********: 2\n",
      "3/3 [==============================] - 0s 7ms/step\n"
     ]
    },
    {
     "name": "stderr",
     "output_type": "stream",
     "text": [
      "2022-11-13 00:25:28.376611: I tensorflow/core/grappler/optimizers/custom_graph_optimizer_registry.cc:114] Plugin optimizer for device_type GPU is enabled.\n"
     ]
    },
    {
     "name": "stdout",
     "output_type": "stream",
     "text": [
      "*********: 3\n",
      "3/3 [==============================] - 0s 4ms/step\n",
      "*********: 4\n",
      "3/3 [==============================] - 0s 6ms/step\n",
      "*********: 5\n",
      "3/3 [==============================] - 0s 16ms/step\n",
      "*********: 0\n",
      "3/3 [==============================] - 0s 3ms/step\n",
      "*********: 1\n",
      "3/3 [==============================] - 0s 4ms/step\n",
      "*********: 2\n",
      "1/3 [=========>....................] - ETA: 0s"
     ]
    },
    {
     "name": "stderr",
     "output_type": "stream",
     "text": [
      "2022-11-13 00:25:28.711027: I tensorflow/core/grappler/optimizers/custom_graph_optimizer_registry.cc:114] Plugin optimizer for device_type GPU is enabled.\n"
     ]
    },
    {
     "name": "stdout",
     "output_type": "stream",
     "text": [
      "3/3 [==============================] - 0s 7ms/step\n",
      "*********: 3\n",
      "3/3 [==============================] - 0s 8ms/step\n",
      "*********: 4\n",
      "3/3 [==============================] - 0s 4ms/step\n",
      "*********: 5\n",
      "3/3 [==============================] - 0s 9ms/step\n",
      "*********: 6\n",
      "3/3 [==============================] - 0s 13ms/step\n",
      "*********: 0\n",
      "3/3 [==============================] - 0s 4ms/step\n",
      "*********: 1\n",
      "3/3 [==============================] - 0s 3ms/step\n",
      "*********: 2\n",
      "3/3 [==============================] - 0s 3ms/step\n"
     ]
    },
    {
     "name": "stderr",
     "output_type": "stream",
     "text": [
      "2022-11-13 00:25:29.118507: I tensorflow/core/grappler/optimizers/custom_graph_optimizer_registry.cc:114] Plugin optimizer for device_type GPU is enabled.\n"
     ]
    },
    {
     "name": "stdout",
     "output_type": "stream",
     "text": [
      "*********: 3\n",
      "3/3 [==============================] - 0s 3ms/step\n",
      "*********: 4\n",
      "3/3 [==============================] - 0s 3ms/step\n",
      "*********: 5\n",
      "3/3 [==============================] - 0s 8ms/step\n",
      "*********: 6\n",
      "3/3 [==============================] - 0s 7ms/step\n",
      "*********: 7\n",
      "3/3 [==============================] - 0s 19ms/step\n",
      "*********: 0\n",
      "3/3 [==============================] - 0s 3ms/step\n",
      "*********: 1\n",
      "3/3 [==============================] - 0s 6ms/step\n",
      "*********: 2\n",
      "3/3 [==============================] - 0s 3ms/step\n"
     ]
    },
    {
     "name": "stderr",
     "output_type": "stream",
     "text": [
      "2022-11-13 00:25:29.526670: I tensorflow/core/grappler/optimizers/custom_graph_optimizer_registry.cc:114] Plugin optimizer for device_type GPU is enabled.\n"
     ]
    },
    {
     "name": "stdout",
     "output_type": "stream",
     "text": [
      "*********: 3\n",
      "3/3 [==============================] - 0s 3ms/step\n",
      "*********: 4\n",
      "3/3 [==============================] - 0s 4ms/step\n",
      "*********: 5\n",
      "3/3 [==============================] - 0s 3ms/step\n",
      "*********: 6\n",
      "3/3 [==============================] - 0s 3ms/step\n",
      "*********: 7\n",
      "3/3 [==============================] - 0s 4ms/step\n",
      "*********: 8\n",
      "3/3 [==============================] - 0s 16ms/step\n",
      "*********: 0\n",
      "3/3 [==============================] - 0s 3ms/step\n",
      "*********: 1\n",
      "3/3 [==============================] - 0s 3ms/step\n",
      "*********: 2\n",
      "3/3 [==============================] - 0s 3ms/step\n"
     ]
    },
    {
     "name": "stderr",
     "output_type": "stream",
     "text": [
      "2022-11-13 00:25:29.987020: I tensorflow/core/grappler/optimizers/custom_graph_optimizer_registry.cc:114] Plugin optimizer for device_type GPU is enabled.\n"
     ]
    },
    {
     "name": "stdout",
     "output_type": "stream",
     "text": [
      "*********: 3\n",
      "3/3 [==============================] - 0s 3ms/step\n",
      "*********: 4\n",
      "3/3 [==============================] - 0s 5ms/step\n",
      "*********: 5\n",
      "3/3 [==============================] - 0s 4ms/step\n",
      "*********: 6\n",
      "3/3 [==============================] - 0s 6ms/step\n",
      "*********: 7\n",
      "3/3 [==============================] - 0s 7ms/step\n",
      "*********: 8\n",
      "3/3 [==============================] - 0s 7ms/step\n",
      "*********: 9\n",
      "3/3 [==============================] - 0s 13ms/step\n",
      "*********: 0\n",
      "3/3 [==============================] - 0s 3ms/step\n",
      "*********: 1\n",
      "3/3 [==============================] - 0s 3ms/step\n",
      "*********: 2\n",
      "3/3 [==============================] - 0s 3ms/step\n"
     ]
    },
    {
     "name": "stderr",
     "output_type": "stream",
     "text": [
      "2022-11-13 00:25:30.477729: I tensorflow/core/grappler/optimizers/custom_graph_optimizer_registry.cc:114] Plugin optimizer for device_type GPU is enabled.\n"
     ]
    },
    {
     "name": "stdout",
     "output_type": "stream",
     "text": [
      "*********: 3\n",
      "3/3 [==============================] - 0s 3ms/step\n",
      "*********: 4\n",
      "3/3 [==============================] - 0s 4ms/step\n",
      "*********: 5\n",
      "3/3 [==============================] - 0s 4ms/step\n",
      "*********: 6\n",
      "3/3 [==============================] - 0s 6ms/step\n",
      "*********: 7\n",
      "3/3 [==============================] - 0s 7ms/step\n",
      "*********: 8\n",
      "3/3 [==============================] - 0s 9ms/step\n",
      "*********: 9\n",
      "3/3 [==============================] - 0s 3ms/step\n",
      "*********: 10\n",
      "3/3 [==============================] - 0s 12ms/step\n",
      "*********: 0\n",
      "3/3 [==============================] - 0s 3ms/step\n",
      "*********: 1\n",
      "3/3 [==============================] - 0s 3ms/step\n",
      "*********: 2\n",
      "3/3 [==============================] - 0s 3ms/step\n"
     ]
    },
    {
     "name": "stderr",
     "output_type": "stream",
     "text": [
      "2022-11-13 00:25:31.019166: I tensorflow/core/grappler/optimizers/custom_graph_optimizer_registry.cc:114] Plugin optimizer for device_type GPU is enabled.\n"
     ]
    },
    {
     "name": "stdout",
     "output_type": "stream",
     "text": [
      "*********: 3\n",
      "3/3 [==============================] - 0s 6ms/step\n",
      "*********: 4\n",
      "3/3 [==============================] - 0s 5ms/step\n",
      "*********: 5\n",
      "3/3 [==============================] - 0s 3ms/step\n",
      "*********: 6\n",
      "3/3 [==============================] - 0s 4ms/step\n",
      "*********: 7\n",
      "3/3 [==============================] - 0s 3ms/step\n",
      "*********: 8\n",
      "3/3 [==============================] - 0s 4ms/step\n",
      "*********: 9\n",
      "3/3 [==============================] - 0s 9ms/step\n",
      "*********: 10\n",
      "3/3 [==============================] - 0s 7ms/step\n",
      "*********: 11\n",
      "3/3 [==============================] - 0s 20ms/step\n"
     ]
    },
    {
     "name": "stderr",
     "output_type": "stream",
     "text": [
      "2022-11-13 00:25:31.598019: I tensorflow/core/grappler/optimizers/custom_graph_optimizer_registry.cc:114] Plugin optimizer for device_type GPU is enabled.\n"
     ]
    }
   ],
   "source": [
    "f1_test = []\n",
    "for i in range(1,13):\n",
    "    data = some_pred(test_split, i)\n",
    "    ans = majority(data)\n",
    "    f1_test.append(getf1(test_result, ans))\n",
    "    # ConfusionMatrixDisplay.from_predictions(test_result,ans,cmap='Greens')"
   ],
   "metadata": {
    "collapsed": false,
    "pycharm": {
     "name": "#%%\n"
    }
   }
  },
  {
   "cell_type": "code",
   "execution_count": 82,
   "outputs": [
    {
     "data": {
      "text/plain": "[<matplotlib.lines.Line2D at 0x2c6ba4970>]"
     },
     "execution_count": 82,
     "metadata": {},
     "output_type": "execute_result"
    },
    {
     "data": {
      "text/plain": "<Figure size 640x480 with 1 Axes>",
      "image/png": "[encoded data removed]"
     },
     "metadata": {},
     "output_type": "display_data"
    }
   ],
   "source": [
    "plt.plot(f1_test)"
   ],
   "metadata": {
    "collapsed": false,
    "pycharm": {
     "name": "#%%\n"
    }
   }
  },
  {
   "cell_type": "code",
   "execution_count": 86,
   "outputs": [
    {
     "name": "stdout",
     "output_type": "stream",
     "text": [
      "*********: 0\n",
      "3/3 [==============================] - 0s 6ms/step\n",
      "*********: 1\n",
      "3/3 [==============================] - 0s 4ms/step\n",
      "*********: 2\n",
      "3/3 [==============================] - 0s 5ms/step\n",
      "*********: 3\n",
      "3/3 [==============================] - 0s 3ms/step\n"
     ]
    },
    {
     "data": {
      "text/plain": "<sklearn.metrics._plot.confusion_matrix.ConfusionMatrixDisplay at 0x29a990220>"
     },
     "execution_count": 86,
     "metadata": {},
     "output_type": "execute_result"
    },
    {
     "data": {
      "text/plain": "<Figure size 640x480 with 2 Axes>",
      "image/png": "[encoded data removed]"
     },
     "metadata": {},
     "output_type": "display_data"
    }
   ],
   "source": [
    "data = some_pred(test_split, 4)\n",
    "ans = majority(data)\n",
    "ConfusionMatrixDisplay.from_predictions(test_result,ans,cmap='Greens')\n",
    "# plt.plot(f1_test)"
   ],
   "metadata": {
    "collapsed": false,
    "pycharm": {
     "name": "#%%\n"
    }
   }
  },
  {
   "cell_type": "code",
   "execution_count": 83,
   "outputs": [
    {
     "name": "stdout",
     "output_type": "stream",
     "text": [
      "*********: 0\n",
      "41/41 [==============================] - 0s 3ms/step\n",
      "*********: 0\n",
      "41/41 [==============================] - 0s 3ms/step\n",
      "*********: 1\n",
      "41/41 [==============================] - 0s 3ms/step\n",
      "*********: 0\n",
      "41/41 [==============================] - 0s 3ms/step\n",
      "*********: 1\n",
      "41/41 [==============================] - 0s 3ms/step\n",
      "*********: 2\n",
      "41/41 [==============================] - 0s 4ms/step\n",
      "*********: 0\n",
      "41/41 [==============================] - 0s 3ms/step\n",
      "*********: 1\n",
      "41/41 [==============================] - 0s 3ms/step\n",
      "*********: 2\n",
      "41/41 [==============================] - 0s 3ms/step\n",
      "*********: 3\n",
      "41/41 [==============================] - 0s 3ms/step\n",
      "*********: 0\n",
      "41/41 [==============================] - 0s 3ms/step\n",
      "*********: 1\n",
      "41/41 [==============================] - 0s 2ms/step\n",
      "*********: 2\n",
      "41/41 [==============================] - 0s 3ms/step\n",
      "*********: 3\n",
      "41/41 [==============================] - 0s 3ms/step\n",
      "*********: 4\n",
      "41/41 [==============================] - 0s 3ms/step\n",
      "*********: 0\n",
      "41/41 [==============================] - 0s 3ms/step\n",
      "*********: 1\n",
      "41/41 [==============================] - 0s 3ms/step\n",
      "*********: 2\n",
      "41/41 [==============================] - 0s 3ms/step\n",
      "*********: 3\n",
      "41/41 [==============================] - 0s 3ms/step\n",
      "*********: 4\n",
      "41/41 [==============================] - 0s 3ms/step\n",
      "*********: 5\n",
      "41/41 [==============================] - 0s 4ms/step\n",
      "*********: 0\n",
      "41/41 [==============================] - 0s 3ms/step\n",
      "*********: 1\n",
      "41/41 [==============================] - 0s 3ms/step\n",
      "*********: 2\n",
      "41/41 [==============================] - 0s 3ms/step\n",
      "*********: 3\n",
      "41/41 [==============================] - 0s 3ms/step\n",
      "*********: 4\n",
      "41/41 [==============================] - 0s 3ms/step\n",
      "*********: 5\n",
      "41/41 [==============================] - 0s 3ms/step\n",
      "*********: 6\n",
      "41/41 [==============================] - 0s 3ms/step\n",
      "*********: 0\n",
      "41/41 [==============================] - 0s 3ms/step\n",
      "*********: 1\n",
      "41/41 [==============================] - 0s 3ms/step\n",
      "*********: 2\n",
      "41/41 [==============================] - 0s 3ms/step\n",
      "*********: 3\n",
      "41/41 [==============================] - 0s 3ms/step\n",
      "*********: 4\n",
      "41/41 [==============================] - 0s 3ms/step\n",
      "*********: 5\n",
      "41/41 [==============================] - 0s 3ms/step\n",
      "*********: 6\n",
      "41/41 [==============================] - 0s 3ms/step\n",
      "*********: 7\n",
      "41/41 [==============================] - 0s 3ms/step\n",
      "*********: 0\n",
      "41/41 [==============================] - 0s 2ms/step\n",
      "*********: 1\n",
      "41/41 [==============================] - 0s 2ms/step\n",
      "*********: 2\n",
      "41/41 [==============================] - 0s 3ms/step\n",
      "*********: 3\n",
      "41/41 [==============================] - 0s 3ms/step\n",
      "*********: 4\n",
      "41/41 [==============================] - 0s 3ms/step\n",
      "*********: 5\n",
      "41/41 [==============================] - 0s 3ms/step\n",
      "*********: 6\n",
      "41/41 [==============================] - 0s 3ms/step\n",
      "*********: 7\n",
      "41/41 [==============================] - 0s 3ms/step\n",
      "*********: 8\n",
      "41/41 [==============================] - 0s 3ms/step\n",
      "*********: 0\n",
      "41/41 [==============================] - 0s 3ms/step\n",
      "*********: 1\n",
      "41/41 [==============================] - 0s 2ms/step\n",
      "*********: 2\n",
      "41/41 [==============================] - 0s 2ms/step\n",
      "*********: 3\n",
      "41/41 [==============================] - 0s 3ms/step\n",
      "*********: 4\n",
      "41/41 [==============================] - 0s 3ms/step\n",
      "*********: 5\n",
      "41/41 [==============================] - 0s 3ms/step\n",
      "*********: 6\n",
      "41/41 [==============================] - 0s 3ms/step\n",
      "*********: 7\n",
      "41/41 [==============================] - 0s 3ms/step\n",
      "*********: 8\n",
      "41/41 [==============================] - 0s 3ms/step\n",
      "*********: 9\n",
      "41/41 [==============================] - 0s 4ms/step\n",
      "*********: 0\n",
      "41/41 [==============================] - 0s 2ms/step\n",
      "*********: 1\n",
      "41/41 [==============================] - 0s 2ms/step\n",
      "*********: 2\n",
      "41/41 [==============================] - 0s 3ms/step\n",
      "*********: 3\n",
      "41/41 [==============================] - 0s 3ms/step\n",
      "*********: 4\n",
      "41/41 [==============================] - 0s 3ms/step\n",
      "*********: 5\n",
      "41/41 [==============================] - 0s 3ms/step\n",
      "*********: 6\n",
      "41/41 [==============================] - 0s 3ms/step\n",
      "*********: 7\n",
      "41/41 [==============================] - 0s 3ms/step\n",
      "*********: 8\n",
      "41/41 [==============================] - 0s 3ms/step\n",
      "*********: 9\n",
      "41/41 [==============================] - 0s 3ms/step\n",
      "*********: 10\n",
      "41/41 [==============================] - 0s 3ms/step\n",
      "*********: 0\n",
      "41/41 [==============================] - 0s 3ms/step\n",
      "*********: 1\n",
      "41/41 [==============================] - 0s 3ms/step\n",
      "*********: 2\n",
      "41/41 [==============================] - 0s 3ms/step\n",
      "*********: 3\n",
      "41/41 [==============================] - 0s 3ms/step\n",
      "*********: 4\n",
      "41/41 [==============================] - 0s 3ms/step\n",
      "*********: 5\n",
      "41/41 [==============================] - 0s 4ms/step\n",
      "*********: 6\n",
      "41/41 [==============================] - 0s 3ms/step\n",
      "*********: 7\n",
      "41/41 [==============================] - 0s 3ms/step\n",
      "*********: 8\n",
      "41/41 [==============================] - 0s 3ms/step\n",
      "*********: 9\n",
      "41/41 [==============================] - 0s 3ms/step\n",
      "*********: 10\n",
      "41/41 [==============================] - 0s 3ms/step\n",
      "*********: 11\n",
      "41/41 [==============================] - 0s 4ms/step\n"
     ]
    }
   ],
   "source": [
    "f1_train = []\n",
    "for i in range(1,13):\n",
    "    data = some_pred(training_split, i)\n",
    "    ans = majority(data)\n",
    "    f1_train.append(getf1(train_result, ans))\n",
    "    # ConfusionMatrixDisplay.from_predictions(test_result,ans,cmap='Greens')"
   ],
   "metadata": {
    "collapsed": false,
    "pycharm": {
     "name": "#%%\n"
    }
   }
  },
  {
   "cell_type": "code",
   "execution_count": 84,
   "outputs": [
    {
     "data": {
      "text/plain": "[<matplotlib.lines.Line2D at 0x2984176d0>]"
     },
     "execution_count": 84,
     "metadata": {},
     "output_type": "execute_result"
    },
    {
     "data": {
      "text/plain": "<Figure size 640x480 with 1 Axes>",
      "image/png": "[encoded data removed]"
     },
     "metadata": {},
     "output_type": "display_data"
    }
   ],
   "source": [
    "plt.plot(f1_train)\n",
    "plt.plot(f1_test)"
   ],
   "metadata": {
    "collapsed": false,
    "pycharm": {
     "name": "#%%\n"
    }
   }
  },
  {
   "cell_type": "code",
   "execution_count": 85,
   "outputs": [
    {
     "name": "stdout",
     "output_type": "stream",
     "text": [
      "*********: 0\n",
      "41/41 [==============================] - 0s 3ms/step\n",
      "*********: 1\n",
      "41/41 [==============================] - 0s 3ms/step\n",
      "*********: 2\n",
      "41/41 [==============================] - 0s 3ms/step\n",
      "*********: 3\n",
      "41/41 [==============================] - 0s 3ms/step\n"
     ]
    },
    {
     "data": {
      "text/plain": "<sklearn.metrics._plot.confusion_matrix.ConfusionMatrixDisplay at 0x2be292340>"
     },
     "execution_count": 85,
     "metadata": {},
     "output_type": "execute_result"
    },
    {
     "data": {
      "text/plain": "<Figure size 640x480 with 2 Axes>",
      "image/png": "[encoded data removed]"
     },
     "metadata": {},
     "output_type": "display_data"
    }
   ],
   "source": [
    "data = some_pred(training_split, 4)\n",
    "ans = majority(data)\n",
    "ConfusionMatrixDisplay.from_predictions(train_result,ans,cmap='Greens')"
   ],
   "metadata": {
    "collapsed": false,
    "pycharm": {
     "name": "#%%\n"
    }
   }
  },
  {
   "cell_type": "code",
   "execution_count": 87,
   "outputs": [
    {
     "name": "stdout",
     "output_type": "stream",
     "text": [
      "*********: 0\n",
      "11/11 [==============================] - 0s 8ms/step\n",
      "*********: 1\n",
      "11/11 [==============================] - 0s 5ms/step\n",
      "*********: 2\n",
      "11/11 [==============================] - 0s 5ms/step\n",
      "*********: 3\n",
      "11/11 [==============================] - 0s 5ms/step\n"
     ]
    }
   ],
   "source": [
    "table_test = pd.read_table('./1663769555_8653905_test.txt', names=['sequence'])\n",
    "unlabeled_test = vectorizer_best.transform(table_test.sequence).toarray()\n",
    "predicted_data = majority(some_pred(unlabeled_test, 4))"
   ],
   "metadata": {
    "collapsed": false,
    "pycharm": {
     "name": "#%%\n"
    }
   }
  },
  {
   "cell_type": "code",
   "execution_count": 88,
   "outputs": [
    {
     "data": {
      "text/plain": "350"
     },
     "execution_count": 88,
     "metadata": {},
     "output_type": "execute_result"
    }
   ],
   "source": [
    "import csv\n",
    "outfile = open('./results.csv','w')\n",
    "out = csv.writer(outfile)\n",
    "out.writerows(map(lambda x: [x], predicted_data))\n",
    "outfile.close()"
   ],
   "metadata": {
    "collapsed": false,
    "pycharm": {
     "name": "#%%\n"
    }
   }
  },
  {
   "cell_type": "code",
   "execution_count": 89,
   "outputs": [],
   "source": [],
   "metadata": {
    "collapsed": false,
    "pycharm": {
     "name": "#%%\n"
    }
   }
  }
 ],
 "metadata": {
  "kernelspec": {
   "display_name": "Python 3",
   "language": "python",
   "name": "python3"
  },
  "language_info": {
   "codemirror_mode": {
    "name": "ipython",
    "version": 2
   },
   "file_extension": ".py",
   "mimetype": "text/x-python",
   "name": "python",
   "nbconvert_exporter": "python",
   "pygments_lexer": "ipython2",
   "version": "2.7.6"
  }
 },
 "nbformat": 4,
 "nbformat_minor": 0
}