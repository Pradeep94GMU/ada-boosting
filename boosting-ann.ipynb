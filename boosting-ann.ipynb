{
 "cells": [
  {
   "cell_type": "code",
   "execution_count": 521,
   "metadata": {
    "collapsed": true,
    "pycharm": {
     "name": "#%%\n"
    }
   },
   "outputs": [],
   "source": [
    "import math\n",
    "import random\n",
    "import tensorflow as tf\n",
    "import pandas as pd\n",
    "import numpy as np\n",
    "import matplotlib.pyplot as plt\n",
    "import imblearn"
   ]
  },
  {
   "cell_type": "code",
   "execution_count": 522,
   "outputs": [
    {
     "name": "stdout",
     "output_type": "stream",
     "text": [
      "2.10.0\n"
     ]
    }
   ],
   "source": [
    "print(tf.__version__)"
   ],
   "metadata": {
    "collapsed": false,
    "pycharm": {
     "name": "#%%\n"
    }
   }
  },
  {
   "cell_type": "code",
   "execution_count": 523,
   "outputs": [],
   "source": [
    "table = pd.read_table('./1663769555_8559356_train.txt', names=['binding','sequence'])"
   ],
   "metadata": {
    "collapsed": false,
    "pycharm": {
     "name": "#%%\n"
    }
   }
  },
  {
   "cell_type": "code",
   "execution_count": 524,
   "outputs": [],
   "source": [
    "from sklearn.feature_extraction.text import CountVectorizer\n",
    "def return_binary_vectorized_form(data_frame, feat = None):\n",
    "    if feat is None:\n",
    "        count_vectorizer = CountVectorizer(binary=True)\n",
    "    else:\n",
    "        count_vectorizer = CountVectorizer(binary=True, vocabulary=feat)\n",
    "    fitted_and_transformed = count_vectorizer.fit_transform(data_frame).toarray()\n",
    "    return count_vectorizer,  fitted_and_transformed"
   ],
   "metadata": {
    "collapsed": false,
    "pycharm": {
     "name": "#%%\n"
    }
   }
  },
  {
   "cell_type": "code",
   "execution_count": 525,
   "outputs": [],
   "source": [
    "from sklearn.feature_selection import SelectKBest, chi2\n",
    "def select_k_best_features(feature_set, target_values, fraction, feature_list):\n",
    "    select_bestselect_best = SelectKBest(score_func=chi2, k = int(len(feature_list)*fraction))\n",
    "    select_bestselect_best.fit(feature_set,target_values)\n",
    "    mask = select_bestselect_best.get_support()\n",
    "    k_best_featurs = feature_list[mask]\n",
    "    return k_best_featurs"
   ],
   "metadata": {
    "collapsed": false,
    "pycharm": {
     "name": "#%%\n"
    }
   }
  },
  {
   "cell_type": "code",
   "execution_count": 526,
   "outputs": [],
   "source": [
    "from sklearn.model_selection import train_test_split\n",
    "active_df = table.loc[table.binding == 1]\n",
    "not_active_df = table.loc[table.binding == 0]\n",
    "# Mainly spliting the data here for testing, that is the reason train size is set to .20\n",
    "active_train, active_test, active_binding_train, active_binding_test = train_test_split(active_df.sequence, active_df.binding, shuffle=True, train_size= .50)\n",
    "not_active_train, not_active_test, not_active_binding_train, not_active_binding_test = train_test_split(not_active_df.sequence, not_active_df.binding, shuffle=True, train_size=.90)"
   ],
   "metadata": {
    "collapsed": false,
    "pycharm": {
     "name": "#%%\n"
    }
   }
  },
  {
   "cell_type": "code",
   "execution_count": 527,
   "outputs": [],
   "source": [
    "def createDf(data):\n",
    "    pd_df = pd.DataFrame(data)\n",
    "    return pd_df\n",
    "def addColumn(copy_to, copy_from ,cname):\n",
    "    copy_to[cname] = copy_from[cname]\n",
    "    return copy_to"
   ],
   "metadata": {
    "collapsed": false,
    "pycharm": {
     "name": "#%%\n"
    }
   }
  },
  {
   "cell_type": "code",
   "execution_count": 528,
   "outputs": [
    {
     "name": "stdout",
     "output_type": "stream",
     "text": [
      "0    649\n",
      "1     39\n",
      "Name: binding, dtype: int64\n",
      "0    73\n",
      "1    39\n",
      "Name: binding, dtype: int64\n"
     ]
    }
   ],
   "source": [
    "active_test_df = pd.DataFrame(active_test)\n",
    "active_binding_test_df = pd.DataFrame(active_binding_test)\n",
    "active_test_df['binding'] = active_binding_test_df['binding']\n",
    "not_active_test_df = pd.DataFrame(not_active_test)\n",
    "not_active_binding_test_df = pd.DataFrame(not_active_binding_test)\n",
    "not_active_test_df['binding'] = not_active_binding_test_df['binding']\n",
    "active_train_df = createDf(active_train)\n",
    "active_binding_train_df = createDf(active_binding_train)\n",
    "active_train_df = addColumn(active_train_df, active_binding_train_df, 'binding')\n",
    "not_active_train_df = createDf(not_active_train)\n",
    "not_active_binding_train_df = createDf(not_active_binding_train)\n",
    "not_active_train_df = addColumn(not_active_train_df, not_active_binding_train_df, 'binding')\n",
    "train_df = pd.concat([active_train_df, not_active_train_df]).reset_index()\n",
    "train_df = train_df.drop('index', axis=1)\n",
    "print(train_df.binding.value_counts())\n",
    "test_df = pd.concat([active_test_df, not_active_test_df]).reset_index()\n",
    "test_df = test_df.drop('index', axis=1)\n",
    "print(test_df.binding.value_counts())\n",
    "from imblearn.over_sampling import RandomOverSampler, SMOTE\n",
    "\n",
    "\n"
   ],
   "metadata": {
    "collapsed": false,
    "pycharm": {
     "name": "#%%\n"
    }
   }
  },
  {
   "cell_type": "code",
   "execution_count": 529,
   "outputs": [
    {
     "name": "stdout",
     "output_type": "stream",
     "text": [
      "1    649\n",
      "0    649\n",
      "Name: binding, dtype: int64\n",
      "0    73\n",
      "1    39\n",
      "Name: binding, dtype: int64\n"
     ]
    }
   ],
   "source": [
    "sampler = RandomOverSampler(sampling_strategy=1)\n",
    "x_sampled, y_sampled = sampler.fit_resample(np.array(train_df.sequence).reshape(-1, 1), train_df.binding)\n",
    "\n",
    "final_train_set = pd.DataFrame(x_sampled, columns  =[\"sequence\"])\n",
    "final_train_set['binding'] = y_sampled\n",
    "print(final_train_set.binding.value_counts())\n",
    "\n",
    "final_test_set = pd.DataFrame(test_df.sequence, columns  =[\"sequence\"])\n",
    "final_test_set['binding'] = test_df.binding\n",
    "print(final_test_set.binding.value_counts())"
   ],
   "metadata": {
    "collapsed": false,
    "pycharm": {
     "name": "#%%\n"
    }
   }
  },
  {
   "cell_type": "code",
   "execution_count": 530,
   "outputs": [],
   "source": [
    "train_result = np.array(final_train_set.binding)\n",
    "test_result = np.array(final_test_set.binding)"
   ],
   "metadata": {
    "collapsed": false,
    "pycharm": {
     "name": "#%%\n"
    }
   }
  },
  {
   "cell_type": "code",
   "execution_count": 531,
   "outputs": [],
   "source": [
    "vectorizer_best, training_split = return_binary_vectorized_form(final_train_set.sequence)\n",
    "features = select_k_best_features(training_split,train_result,.30,vectorizer_best.get_feature_names_out())"
   ],
   "metadata": {
    "collapsed": false,
    "pycharm": {
     "name": "#%%\n"
    }
   }
  },
  {
   "cell_type": "code",
   "execution_count": 532,
   "outputs": [],
   "source": [
    "vectorizer_best, training_split = return_binary_vectorized_form(final_train_set.sequence,features)\n",
    "test_split = vectorizer_best.transform(final_test_set.sequence).toarray()"
   ],
   "metadata": {
    "collapsed": false,
    "pycharm": {
     "name": "#%%\n"
    }
   }
  },
  {
   "cell_type": "code",
   "execution_count": 533,
   "outputs": [],
   "source": [
    "# smote = SMOTE(random_state=42)\n",
    "# x, y = smote.fit_resample(training_split, train_result)\n",
    "# training_split = x\n",
    "# train_result = y\n",
    "# print(training_split.shape)\n",
    "# print(test_split.shape)"
   ],
   "metadata": {
    "collapsed": false,
    "pycharm": {
     "name": "#%%\n"
    }
   }
  },
  {
   "cell_type": "code",
   "execution_count": 534,
   "outputs": [],
   "source": [
    "initial_weight = np.ones(training_split.shape[0])*(1/training_split.shape[0])"
   ],
   "metadata": {
    "collapsed": false,
    "pycharm": {
     "name": "#%%\n"
    }
   }
  },
  {
   "cell_type": "code",
   "execution_count": 535,
   "outputs": [],
   "source": [
    "def updateWeight(missmatch, weight, alpha):\n",
    "    mi = 0\n",
    "    missmatch_size = len(missmatch)\n",
    "    wi = 0\n",
    "\n",
    "    new_weight = []\n",
    "    norm_constant = 0\n",
    "    while wi < len(weight):\n",
    "        if mi < missmatch_size and missmatch[mi] == wi:\n",
    "            k = weight[wi] * math.exp(alpha)\n",
    "            mi+=1\n",
    "        else:\n",
    "            k = weight[wi] * math.exp(-1*alpha)\n",
    "        new_weight.append( k )\n",
    "        norm_constant += k\n",
    "        wi += 1\n",
    "\n",
    "    new_weight /= norm_constant\n",
    "    sum =0\n",
    "    for i in new_weight:\n",
    "        sum+=i\n",
    "    print(sum)\n",
    "    # plt.plot(new_weight)\n",
    "    # plt.show()\n",
    "    return new_weight"
   ],
   "metadata": {
    "collapsed": false,
    "pycharm": {
     "name": "#%%\n"
    }
   }
  },
  {
   "cell_type": "code",
   "execution_count": 536,
   "outputs": [],
   "source": [
    "from sklearn.metrics import f1_score, accuracy_score, confusion_matrix\n",
    "def findMissClassificatonIndex(predicted, test_res, weight):\n",
    "    error_rate = 0\n",
    "    missmatch_indexes = []\n",
    "    incorrect= []\n",
    "    tn, fp, fn, tp = confusion_matrix(test_res, predicted).ravel()\n",
    "    precision = tp / (tp+ fp)\n",
    "    recall = tp / (tp+ fn)\n",
    "    score = (2 * precision * recall) / (precision + recall)\n",
    "    print(score)\n",
    "    print(accuracy_score(test_res, predicted))\n",
    "    for i, (pred, real) in enumerate(zip(predicted, test_res)):\n",
    "        if pred != real:\n",
    "            incorrect.append((i, pred, real))\n",
    "            missmatch_indexes.append(i)\n",
    "            error_rate += weight[i]\n",
    "    error_rate /= len(predicted)\n",
    "    # print(incorrect)\n",
    "    return error_rate, missmatch_indexes"
   ],
   "metadata": {
    "collapsed": false,
    "pycharm": {
     "name": "#%%\n"
    }
   }
  },
  {
   "cell_type": "code",
   "execution_count": 537,
   "outputs": [],
   "source": [
    "def rejectionSampling(train_data, train_res, weights):\n",
    "    samplesize  = int(4 * len(train_data))\n",
    "    new_train_data = []\n",
    "    new_train_res = []\n",
    "    new_weights = []\n",
    "    adding_index =[]\n",
    "    max_w = max(weights)\n",
    "\n",
    "    for i in range(samplesize):\n",
    "        while True:\n",
    "            index = random.randrange(len(weights))\n",
    "            u = max_w * random.random()\n",
    "            if u <= weights[index]:\n",
    "                new_train_data.append(train_data[index])\n",
    "                new_train_res.append(train_res[index])\n",
    "                adding_index.append(index)\n",
    "                break\n",
    "    # print(adding_index)\n",
    "    return np.array(new_train_data), np.array(new_train_res)"
   ],
   "metadata": {
    "collapsed": false,
    "pycharm": {
     "name": "#%%\n"
    }
   }
  },
  {
   "cell_type": "code",
   "execution_count": 637,
   "outputs": [],
   "source": [
    "def resample(train_data, train_res, weights):\n",
    "    size = len(train_data)\n",
    "    indexes = np.random.choice(int(size), int( .42 * size), replace=True, p=weights)\n",
    "    new_train_data = []\n",
    "    new_train_res = []\n",
    "    for index in indexes:\n",
    "         new_train_data.append(train_data[index])\n",
    "         new_train_res.append(train_res[index])\n",
    "    return np.array(new_train_data), np.array(new_train_res)"
   ],
   "metadata": {
    "collapsed": false,
    "pycharm": {
     "name": "#%%\n"
    }
   }
  },
  {
   "cell_type": "code",
   "execution_count": 638,
   "outputs": [],
   "source": [
    "class EarlyStoppingMonitor(tf.keras.callbacks.Callback):\n",
    "    def __init__(self):\n",
    "        super(EarlyStoppingMonitor, self).__init__()\n",
    "        self.f1_train = None\n",
    "        self.f1_test = None\n",
    "        self.prevous = None\n",
    "        self.count =0\n",
    "\n",
    "    def on_epoch_end(self, epoch, logs=None):\n",
    "        current_train_precision = logs.get('precision')\n",
    "        current_train_recall= logs.get('recall')\n",
    "\n",
    "        if current_train_precision==0 or current_train_recall==0:\n",
    "            print(\"**** Waring: precision recall zero avoid exception ****\")\n",
    "            return\n",
    "        self.f1_train = (2*current_train_precision*current_train_recall) / (current_train_precision+current_train_recall)\n",
    "        if self.prevous == None:\n",
    "            self.prevous = self.f1_train\n",
    "        if self.prevous == self.f1_train:\n",
    "            self.count += 1\n",
    "        else:\n",
    "            self.prevous = self.f1_train\n",
    "            self.count = 0\n",
    "        if self.count == 5:\n",
    "            self.model.stop_training = True\n",
    "            print('\\n\\n******* No improvements *******')\n",
    "        if current_train_recall > .55:\n",
    "            # self.count += 1\n",
    "            # if self.count >4:\n",
    "            self.model.stop_training = True\n",
    "            print('\\n\\n******* Stoping on Defined Thresold *******')\n",
    "            print('F1 TRAINING: ', self.f1_train)\n",
    "            print('Recall TRAINING: ', current_train_recall)\n",
    "\n",
    "    def on_train_end(self, logs=None):\n",
    "        if self.model.stop_training:\n",
    "            print(\"\\n\\n\\n****** Early Stopping *******\")"
   ],
   "metadata": {
    "collapsed": false,
    "pycharm": {
     "name": "#%%\n"
    }
   }
  },
  {
   "cell_type": "code",
   "execution_count": 639,
   "outputs": [],
   "source": [
    "def createBaseModel():\n",
    "    model = tf.keras.Sequential([\n",
    "        tf.keras.Input(shape=(training_split.shape[-1],)),\n",
    "        tf.keras.layers.Dense(2, activation='relu',kernel_regularizer=tf.keras.regularizers.L1(.025)),\n",
    "        tf.keras.layers.Dense(1, activation='sigmoid')\n",
    "    ])\n",
    "\n",
    "    METRICS = [\n",
    "      tf.keras.metrics.TruePositives(name='tp'),\n",
    "      tf.keras.metrics.FalsePositives(name='fp'),\n",
    "      tf.keras.metrics.TrueNegatives(name='tn'),\n",
    "      tf.keras.metrics.FalseNegatives(name='fn'),\n",
    "      tf.keras.metrics.Precision(name='precision'),\n",
    "      tf.keras.metrics.Recall(name='recall')\n",
    "    ]\n",
    "\n",
    "    model.compile(loss=tf.keras.losses.BinaryFocalCrossentropy(), metrics=METRICS, optimizer='adam')\n",
    "\n",
    "    return model"
   ],
   "metadata": {
    "collapsed": false,
    "pycharm": {
     "name": "#%%\n"
    }
   }
  },
  {
   "cell_type": "code",
   "execution_count": 640,
   "outputs": [],
   "source": [
    "ensemble_size = 12\n",
    "ensemble = []\n",
    "alphas = []\n",
    "def boosting(weights):\n",
    "\n",
    "    for i in range(ensemble_size):\n",
    "        print(\" =========== iteration ===========>:\", i )\n",
    "        train_data, train_res = resample(training_split, train_result, weights)\n",
    "        model = createBaseModel()\n",
    "        num_epochs = 60\n",
    "        print( \"bfore traning: \", ((sum(train_res)/len(train_res)))*100)\n",
    "        history = model.fit(train_data, train_res,\n",
    "                    epochs= num_epochs,\n",
    "                    batch_size=70,\n",
    "                    callbacks=[EarlyStoppingMonitor()])\n",
    "        predicted_result = model.predict(training_split)\n",
    "        predicted_result = [1 if i>=.5 else 0 for i in predicted_result ]\n",
    "        error_rate, error_indexes = findMissClassificatonIndex(predicted_result, train_result, weights)\n",
    "        print(\"error_rate:\", error_rate)\n",
    "\n",
    "        if error_rate > .5:\n",
    "            weights = np.ones(training_split.shape[0]) * (1/training_split.shape[0])\n",
    "            print(\"re-balancing and training because error:\", error_rate)\n",
    "            continue\n",
    "\n",
    "        amount_of_say = .0001 * ( math.log( (1-error_rate) / error_rate ) )\n",
    "        alphas.append(amount_of_say)\n",
    "        ensemble.append(model)\n",
    "        weights = updateWeight(error_indexes, weights, amount_of_say)\n"
   ],
   "metadata": {
    "collapsed": false,
    "pycharm": {
     "name": "#%%\n"
    }
   }
  },
  {
   "cell_type": "code",
   "execution_count": 641,
   "outputs": [
    {
     "name": "stdout",
     "output_type": "stream",
     "text": [
      " =========== iteration ===========>: 0\n",
      "bfore traning:  48.9908256880734\n",
      "Epoch 1/60\n"
     ]
    },
    {
     "name": "stderr",
     "output_type": "stream",
     "text": [
      "2022-11-13 17:16:35.186217: I tensorflow/core/grappler/optimizers/custom_graph_optimizer_registry.cc:114] Plugin optimizer for device_type GPU is enabled.\n"
     ]
    },
    {
     "name": "stdout",
     "output_type": "stream",
     "text": [
      "8/8 [==============================] - ETA: 0s - loss: 6.3610 - tp: 154.0000 - fp: 116.0000 - tn: 162.0000 - fn: 113.0000 - precision: 0.5704 - recall: 0.5768\n",
      "\n",
      "******* Stoping on Defined Thresold *******\n",
      "F1 TRAINING:  0.573556790871699\n",
      "Recall TRAINING:  0.5767790079116821\n",
      "8/8 [==============================] - 8s 667ms/step - loss: 6.3610 - tp: 154.0000 - fp: 116.0000 - tn: 162.0000 - fn: 113.0000 - precision: 0.5704 - recall: 0.5768\n",
      "\n",
      "\n",
      "\n",
      "****** Early Stopping *******\n",
      " 1/41 [..............................] - ETA: 6s"
     ]
    },
    {
     "name": "stderr",
     "output_type": "stream",
     "text": [
      "2022-11-13 17:16:42.675550: I tensorflow/core/grappler/optimizers/custom_graph_optimizer_registry.cc:114] Plugin optimizer for device_type GPU is enabled.\n"
     ]
    },
    {
     "name": "stdout",
     "output_type": "stream",
     "text": [
      "41/41 [==============================] - 0s 7ms/step\n",
      "0.8118131868131868\n",
      "0.7889060092449923\n",
      "error_rate: 0.00016263019318567558\n",
      "0.999999999999993\n",
      " =========== iteration ===========>: 1\n",
      "bfore traning:  50.45871559633027\n",
      "Epoch 1/60\n"
     ]
    },
    {
     "name": "stderr",
     "output_type": "stream",
     "text": [
      "2022-11-13 17:16:43.459860: I tensorflow/core/grappler/optimizers/custom_graph_optimizer_registry.cc:114] Plugin optimizer for device_type GPU is enabled.\n"
     ]
    },
    {
     "name": "stdout",
     "output_type": "stream",
     "text": [
      "8/8 [==============================] - ETA: 0s - loss: 6.4063 - tp: 203.0000 - fp: 132.0000 - tn: 138.0000 - fn: 72.0000 - precision: 0.6060 - recall: 0.7382\n",
      "\n",
      "******* Stoping on Defined Thresold *******\n",
      "F1 TRAINING:  0.6655737720680185\n",
      "Recall TRAINING:  0.7381818294525146\n",
      "8/8 [==============================] - 7s 561ms/step - loss: 6.4063 - tp: 203.0000 - fp: 132.0000 - tn: 138.0000 - fn: 72.0000 - precision: 0.6060 - recall: 0.7382\n",
      "\n",
      "\n",
      "\n",
      "****** Early Stopping *******\n",
      " 5/41 [==>...........................] - ETA: 0s"
     ]
    },
    {
     "name": "stderr",
     "output_type": "stream",
     "text": [
      "2022-11-13 17:16:49.928140: I tensorflow/core/grappler/optimizers/custom_graph_optimizer_registry.cc:114] Plugin optimizer for device_type GPU is enabled.\n"
     ]
    },
    {
     "name": "stdout",
     "output_type": "stream",
     "text": [
      "41/41 [==============================] - 0s 7ms/step\n",
      "0.8269105160026127\n",
      "0.7958397534668721\n",
      "error_rate: 0.0001573277602179652\n",
      "1.000000000000007\n",
      " =========== iteration ===========>: 2\n",
      "bfore traning:  51.559633027522935\n",
      "Epoch 1/60\n"
     ]
    },
    {
     "name": "stderr",
     "output_type": "stream",
     "text": [
      "2022-11-13 17:16:50.709174: I tensorflow/core/grappler/optimizers/custom_graph_optimizer_registry.cc:114] Plugin optimizer for device_type GPU is enabled.\n"
     ]
    },
    {
     "name": "stdout",
     "output_type": "stream",
     "text": [
      "8/8 [==============================] - ETA: 0s - loss: 6.4471 - tp: 202.0000 - fp: 192.0000 - tn: 72.0000 - fn: 79.0000 - precision: 0.5127 - recall: 0.7189\n",
      "\n",
      "******* Stoping on Defined Thresold *******\n",
      "F1 TRAINING:  0.5985185295863734\n",
      "Recall TRAINING:  0.7188612222671509\n",
      "8/8 [==============================] - 7s 579ms/step - loss: 6.4471 - tp: 202.0000 - fp: 192.0000 - tn: 72.0000 - fn: 79.0000 - precision: 0.5127 - recall: 0.7189\n",
      "\n",
      "\n",
      "\n",
      "****** Early Stopping *******\n",
      " 1/41 [..............................] - ETA: 6s"
     ]
    },
    {
     "name": "stderr",
     "output_type": "stream",
     "text": [
      "2022-11-13 17:16:58.061324: I tensorflow/core/grappler/optimizers/custom_graph_optimizer_registry.cc:114] Plugin optimizer for device_type GPU is enabled.\n"
     ]
    },
    {
     "name": "stdout",
     "output_type": "stream",
     "text": [
      "41/41 [==============================] - 0s 8ms/step\n",
      "0.6820217530390275\n",
      "0.6171032357473035\n",
      "error_rate: 0.00029509737183581244\n",
      "0.9999999999999744\n",
      " =========== iteration ===========>: 3\n",
      "bfore traning:  48.80733944954129\n",
      "Epoch 1/60\n"
     ]
    },
    {
     "name": "stderr",
     "output_type": "stream",
     "text": [
      "2022-11-13 17:16:58.880724: I tensorflow/core/grappler/optimizers/custom_graph_optimizer_registry.cc:114] Plugin optimizer for device_type GPU is enabled.\n"
     ]
    },
    {
     "name": "stdout",
     "output_type": "stream",
     "text": [
      "8/8 [==============================] - 7s 517ms/step - loss: 6.3569 - tp: 57.0000 - fp: 55.0000 - tn: 224.0000 - fn: 209.0000 - precision: 0.5089 - recall: 0.2143\n",
      "Epoch 2/60\n",
      "8/8 [==============================] - ETA: 0s - loss: 1.9077 - tp: 226.0000 - fp: 75.0000 - tn: 204.0000 - fn: 40.0000 - precision: 0.7508 - recall: 0.8496\n",
      "\n",
      "******* Stoping on Defined Thresold *******\n",
      "F1 TRAINING:  0.7971781279106456\n",
      "Recall TRAINING:  0.8496240973472595\n",
      "8/8 [==============================] - 1s 135ms/step - loss: 1.9077 - tp: 226.0000 - fp: 75.0000 - tn: 204.0000 - fn: 40.0000 - precision: 0.7508 - recall: 0.8496\n",
      "\n",
      "\n",
      "\n",
      "****** Early Stopping *******\n",
      " 8/41 [====>.........................] - ETA: 0s"
     ]
    },
    {
     "name": "stderr",
     "output_type": "stream",
     "text": [
      "2022-11-13 17:17:06.892231: I tensorflow/core/grappler/optimizers/custom_graph_optimizer_registry.cc:114] Plugin optimizer for device_type GPU is enabled.\n"
     ]
    },
    {
     "name": "stdout",
     "output_type": "stream",
     "text": [
      "41/41 [==============================] - 0s 6ms/step\n",
      "0.9392185238784371\n",
      "0.9352850539291218\n",
      "error_rate: 4.994141382650299e-05\n",
      "0.9999999999999815\n",
      " =========== iteration ===========>: 4\n",
      "bfore traning:  48.62385321100918\n",
      "Epoch 1/60\n"
     ]
    },
    {
     "name": "stderr",
     "output_type": "stream",
     "text": [
      "2022-11-13 17:17:07.642580: I tensorflow/core/grappler/optimizers/custom_graph_optimizer_registry.cc:114] Plugin optimizer for device_type GPU is enabled.\n"
     ]
    },
    {
     "name": "stdout",
     "output_type": "stream",
     "text": [
      "8/8 [==============================] - 7s 581ms/step - loss: 6.4167 - tp: 76.0000 - fp: 88.0000 - tn: 192.0000 - fn: 189.0000 - precision: 0.4634 - recall: 0.2868\n",
      "Epoch 2/60\n",
      "8/8 [==============================] - 1s 112ms/step - loss: 1.9166 - tp: 134.0000 - fp: 44.0000 - tn: 236.0000 - fn: 131.0000 - precision: 0.7528 - recall: 0.5057\n",
      "Epoch 3/60\n",
      "8/8 [==============================] - 1s 78ms/step - loss: 1.3568 - tp: 98.0000 - fp: 7.0000 - tn: 273.0000 - fn: 167.0000 - precision: 0.9333 - recall: 0.3698\n",
      "Epoch 4/60\n",
      "8/8 [==============================] - 1s 73ms/step - loss: 0.7798 - tp: 58.0000 - fp: 0.0000e+00 - tn: 280.0000 - fn: 207.0000 - precision: 1.0000 - recall: 0.2189\n",
      "Epoch 5/60\n",
      "8/8 [==============================] - ETA: 0s - loss: 0.5747 - tp: 0.0000e+00 - fp: 0.0000e+00 - tn: 280.0000 - fn: 265.0000 - precision: 0.0000e+00 - recall: 0.0000e+00**** Waring: precision recall zero avoid exception ****\n",
      "8/8 [==============================] - 1s 77ms/step - loss: 0.5747 - tp: 0.0000e+00 - fp: 0.0000e+00 - tn: 280.0000 - fn: 265.0000 - precision: 0.0000e+00 - recall: 0.0000e+00\n",
      "Epoch 6/60\n",
      "5/8 [=================>............] - ETA: 0s - loss: 0.4652 - tp: 0.0000e+00 - fp: 0.0000e+00 - tn: 181.0000 - fn: 169.0000 - precision: 0.0000e+00 - recall: 0.0000e+00**** Waring: precision recall zero avoid exception ****\n",
      "8/8 [==============================] - 0s 13ms/step - loss: 0.4483 - tp: 0.0000e+00 - fp: 0.0000e+00 - tn: 280.0000 - fn: 265.0000 - precision: 0.0000e+00 - recall: 0.0000e+00\n",
      "Epoch 7/60\n",
      "5/8 [=================>............] - ETA: 0s - loss: 0.3920 - tp: 0.0000e+00 - fp: 0.0000e+00 - tn: 179.0000 - fn: 171.0000 - precision: 0.0000e+00 - recall: 0.0000e+00**** Waring: precision recall zero avoid exception ****\n",
      "8/8 [==============================] - 0s 13ms/step - loss: 0.3847 - tp: 0.0000e+00 - fp: 0.0000e+00 - tn: 280.0000 - fn: 265.0000 - precision: 0.0000e+00 - recall: 0.0000e+00\n",
      "Epoch 8/60\n",
      "8/8 [==============================] - ETA: 0s - loss: 0.3527 - tp: 0.0000e+00 - fp: 0.0000e+00 - tn: 280.0000 - fn: 265.0000 - precision: 0.0000e+00 - recall: 0.0000e+00**** Waring: precision recall zero avoid exception ****\n",
      "8/8 [==============================] - 0s 35ms/step - loss: 0.3527 - tp: 0.0000e+00 - fp: 0.0000e+00 - tn: 280.0000 - fn: 265.0000 - precision: 0.0000e+00 - recall: 0.0000e+00\n",
      "Epoch 9/60\n",
      "8/8 [==============================] - ETA: 0s - loss: 0.3383 - tp: 0.0000e+00 - fp: 0.0000e+00 - tn: 280.0000 - fn: 265.0000 - precision: 0.0000e+00 - recall: 0.0000e+00**** Waring: precision recall zero avoid exception ****\n",
      "8/8 [==============================] - 0s 33ms/step - loss: 0.3383 - tp: 0.0000e+00 - fp: 0.0000e+00 - tn: 280.0000 - fn: 265.0000 - precision: 0.0000e+00 - recall: 0.0000e+00\n",
      "Epoch 10/60\n",
      "6/8 [=====================>........] - ETA: 0s - loss: 0.3332 - tp: 0.0000e+00 - fp: 0.0000e+00 - tn: 217.0000 - fn: 203.0000 - precision: 0.0000e+00 - recall: 0.0000e+00**** Waring: precision recall zero avoid exception ****\n",
      "8/8 [==============================] - 0s 12ms/step - loss: 0.3328 - tp: 0.0000e+00 - fp: 0.0000e+00 - tn: 280.0000 - fn: 265.0000 - precision: 0.0000e+00 - recall: 0.0000e+00\n",
      "Epoch 11/60\n",
      "6/8 [=====================>........] - ETA: 0s - loss: 0.3298 - tp: 0.0000e+00 - fp: 0.0000e+00 - tn: 215.0000 - fn: 205.0000 - precision: 0.0000e+00 - recall: 0.0000e+00**** Waring: precision recall zero avoid exception ****\n",
      "8/8 [==============================] - 0s 12ms/step - loss: 0.3296 - tp: 0.0000e+00 - fp: 0.0000e+00 - tn: 280.0000 - fn: 265.0000 - precision: 0.0000e+00 - recall: 0.0000e+00\n",
      "Epoch 12/60\n",
      "6/8 [=====================>........] - ETA: 0s - loss: 0.3287 - tp: 0.0000e+00 - fp: 0.0000e+00 - tn: 214.0000 - fn: 206.0000 - precision: 0.0000e+00 - recall: 0.0000e+00**** Waring: precision recall zero avoid exception ****\n",
      "8/8 [==============================] - 0s 15ms/step - loss: 0.3286 - tp: 0.0000e+00 - fp: 0.0000e+00 - tn: 280.0000 - fn: 265.0000 - precision: 0.0000e+00 - recall: 0.0000e+00\n",
      "Epoch 13/60\n",
      "8/8 [==============================] - ETA: 0s - loss: 0.3279 - tp: 0.0000e+00 - fp: 0.0000e+00 - tn: 280.0000 - fn: 265.0000 - precision: 0.0000e+00 - recall: 0.0000e+00**** Waring: precision recall zero avoid exception ****\n",
      "8/8 [==============================] - 0s 25ms/step - loss: 0.3279 - tp: 0.0000e+00 - fp: 0.0000e+00 - tn: 280.0000 - fn: 265.0000 - precision: 0.0000e+00 - recall: 0.0000e+00\n",
      "Epoch 14/60\n",
      "6/8 [=====================>........] - ETA: 0s - loss: 0.3276 - tp: 0.0000e+00 - fp: 0.0000e+00 - tn: 223.0000 - fn: 197.0000 - precision: 0.0000e+00 - recall: 0.0000e+00**** Waring: precision recall zero avoid exception ****\n",
      "8/8 [==============================] - 0s 12ms/step - loss: 0.3279 - tp: 0.0000e+00 - fp: 0.0000e+00 - tn: 280.0000 - fn: 265.0000 - precision: 0.0000e+00 - recall: 0.0000e+00\n",
      "Epoch 15/60\n",
      "6/8 [=====================>........] - ETA: 0s - loss: 0.3282 - tp: 0.0000e+00 - fp: 0.0000e+00 - tn: 218.0000 - fn: 202.0000 - precision: 0.0000e+00 - recall: 0.0000e+00**** Waring: precision recall zero avoid exception ****\n",
      "8/8 [==============================] - 0s 12ms/step - loss: 0.3283 - tp: 0.0000e+00 - fp: 0.0000e+00 - tn: 280.0000 - fn: 265.0000 - precision: 0.0000e+00 - recall: 0.0000e+00\n",
      "Epoch 16/60\n",
      "6/8 [=====================>........] - ETA: 0s - loss: 0.3291 - tp: 0.0000e+00 - fp: 0.0000e+00 - tn: 215.0000 - fn: 205.0000 - precision: 0.0000e+00 - recall: 0.0000e+00**** Waring: precision recall zero avoid exception ****\n",
      "8/8 [==============================] - 0s 12ms/step - loss: 0.3289 - tp: 0.0000e+00 - fp: 0.0000e+00 - tn: 280.0000 - fn: 265.0000 - precision: 0.0000e+00 - recall: 0.0000e+00\n",
      "Epoch 17/60\n",
      "6/8 [=====================>........] - ETA: 0s - loss: 0.3285 - tp: 0.0000e+00 - fp: 0.0000e+00 - tn: 212.0000 - fn: 208.0000 - precision: 0.0000e+00 - recall: 0.0000e+00**** Waring: precision recall zero avoid exception ****\n",
      "8/8 [==============================] - 0s 12ms/step - loss: 0.3284 - tp: 0.0000e+00 - fp: 0.0000e+00 - tn: 280.0000 - fn: 265.0000 - precision: 0.0000e+00 - recall: 0.0000e+00\n",
      "Epoch 18/60\n",
      "6/8 [=====================>........] - ETA: 0s - loss: 0.3285 - tp: 0.0000e+00 - fp: 0.0000e+00 - tn: 216.0000 - fn: 204.0000 - precision: 0.0000e+00 - recall: 0.0000e+00**** Waring: precision recall zero avoid exception ****\n",
      "8/8 [==============================] - 0s 12ms/step - loss: 0.3285 - tp: 0.0000e+00 - fp: 0.0000e+00 - tn: 280.0000 - fn: 265.0000 - precision: 0.0000e+00 - recall: 0.0000e+00\n",
      "Epoch 19/60\n",
      "6/8 [=====================>........] - ETA: 0s - loss: 0.3280 - tp: 0.0000e+00 - fp: 0.0000e+00 - tn: 220.0000 - fn: 200.0000 - precision: 0.0000e+00 - recall: 0.0000e+00**** Waring: precision recall zero avoid exception ****\n",
      "8/8 [==============================] - 0s 12ms/step - loss: 0.3284 - tp: 0.0000e+00 - fp: 0.0000e+00 - tn: 280.0000 - fn: 265.0000 - precision: 0.0000e+00 - recall: 0.0000e+00\n",
      "Epoch 20/60\n",
      "8/8 [==============================] - 0s 12ms/step - loss: 0.3289 - tp: 1.0000 - fp: 0.0000e+00 - tn: 280.0000 - fn: 264.0000 - precision: 1.0000 - recall: 0.0038\n",
      "Epoch 21/60\n",
      "6/8 [=====================>........] - ETA: 0s - loss: 0.3298 - tp: 0.0000e+00 - fp: 0.0000e+00 - tn: 212.0000 - fn: 208.0000 - precision: 0.0000e+00 - recall: 0.0000e+00**** Waring: precision recall zero avoid exception ****\n",
      "8/8 [==============================] - 0s 12ms/step - loss: 0.3297 - tp: 0.0000e+00 - fp: 0.0000e+00 - tn: 280.0000 - fn: 265.0000 - precision: 0.0000e+00 - recall: 0.0000e+00\n",
      "Epoch 22/60\n",
      "6/8 [=====================>........] - ETA: 0s - loss: 0.3295 - tp: 0.0000e+00 - fp: 0.0000e+00 - tn: 218.0000 - fn: 202.0000 - precision: 0.0000e+00 - recall: 0.0000e+00**** Waring: precision recall zero avoid exception ****\n",
      "8/8 [==============================] - 0s 12ms/step - loss: 0.3297 - tp: 0.0000e+00 - fp: 0.0000e+00 - tn: 280.0000 - fn: 265.0000 - precision: 0.0000e+00 - recall: 0.0000e+00\n",
      "Epoch 23/60\n",
      "6/8 [=====================>........] - ETA: 0s - loss: 0.3303 - tp: 0.0000e+00 - fp: 0.0000e+00 - tn: 212.0000 - fn: 208.0000 - precision: 0.0000e+00 - recall: 0.0000e+00**** Waring: precision recall zero avoid exception ****\n",
      "8/8 [==============================] - 0s 12ms/step - loss: 0.3301 - tp: 0.0000e+00 - fp: 0.0000e+00 - tn: 280.0000 - fn: 265.0000 - precision: 0.0000e+00 - recall: 0.0000e+00\n",
      "Epoch 24/60\n",
      "6/8 [=====================>........] - ETA: 0s - loss: 0.3295 - tp: 0.0000e+00 - fp: 0.0000e+00 - tn: 210.0000 - fn: 210.0000 - precision: 0.0000e+00 - recall: 0.0000e+00**** Waring: precision recall zero avoid exception ****\n",
      "8/8 [==============================] - 0s 12ms/step - loss: 0.3292 - tp: 0.0000e+00 - fp: 0.0000e+00 - tn: 280.0000 - fn: 265.0000 - precision: 0.0000e+00 - recall: 0.0000e+00\n",
      "Epoch 25/60\n",
      "8/8 [==============================] - 0s 12ms/step - loss: 0.3289 - tp: 2.0000 - fp: 0.0000e+00 - tn: 280.0000 - fn: 263.0000 - precision: 1.0000 - recall: 0.0075\n",
      "Epoch 26/60\n",
      "8/8 [==============================] - 0s 12ms/step - loss: 0.3290 - tp: 9.0000 - fp: 0.0000e+00 - tn: 280.0000 - fn: 256.0000 - precision: 1.0000 - recall: 0.0340\n",
      "Epoch 27/60\n",
      "8/8 [==============================] - 0s 12ms/step - loss: 0.3283 - tp: 3.0000 - fp: 0.0000e+00 - tn: 280.0000 - fn: 262.0000 - precision: 1.0000 - recall: 0.0113       \n",
      "Epoch 28/60\n",
      "8/8 [==============================] - 0s 12ms/step - loss: 0.3290 - tp: 1.0000 - fp: 0.0000e+00 - tn: 280.0000 - fn: 264.0000 - precision: 1.0000 - recall: 0.0038       \n",
      "Epoch 29/60\n",
      "8/8 [==============================] - 0s 12ms/step - loss: 0.3295 - tp: 3.0000 - fp: 0.0000e+00 - tn: 280.0000 - fn: 262.0000 - precision: 1.0000 - recall: 0.0113\n",
      "Epoch 30/60\n",
      "8/8 [==============================] - 0s 12ms/step - loss: 0.3286 - tp: 51.0000 - fp: 1.0000 - tn: 279.0000 - fn: 214.0000 - precision: 0.9808 - recall: 0.1925\n",
      "Epoch 31/60\n",
      "8/8 [==============================] - 0s 37ms/step - loss: 0.3275 - tp: 95.0000 - fp: 0.0000e+00 - tn: 280.0000 - fn: 170.0000 - precision: 1.0000 - recall: 0.3585\n",
      "Epoch 32/60\n",
      "8/8 [==============================] - 0s 12ms/step - loss: 0.3264 - tp: 120.0000 - fp: 0.0000e+00 - tn: 280.0000 - fn: 145.0000 - precision: 1.0000 - recall: 0.4528\n",
      "Epoch 33/60\n",
      "8/8 [==============================] - 0s 12ms/step - loss: 0.3264 - tp: 128.0000 - fp: 1.0000 - tn: 279.0000 - fn: 137.0000 - precision: 0.9922 - recall: 0.4830\n",
      "Epoch 34/60\n",
      "8/8 [==============================] - 0s 12ms/step - loss: 0.3271 - tp: 132.0000 - fp: 0.0000e+00 - tn: 280.0000 - fn: 133.0000 - precision: 1.0000 - recall: 0.4981\n",
      "Epoch 35/60\n",
      "8/8 [==============================] - 0s 12ms/step - loss: 0.3270 - tp: 134.0000 - fp: 1.0000 - tn: 279.0000 - fn: 131.0000 - precision: 0.9926 - recall: 0.5057\n",
      "Epoch 36/60\n",
      "8/8 [==============================] - 0s 13ms/step - loss: 0.3266 - tp: 136.0000 - fp: 1.0000 - tn: 279.0000 - fn: 129.0000 - precision: 0.9927 - recall: 0.5132\n",
      "Epoch 37/60\n",
      "6/8 [=====================>........] - ETA: 0s - loss: 0.3257 - tp: 115.0000 - fp: 0.0000e+00 - tn: 221.0000 - fn: 84.0000 - precision: 1.0000 - recall: 0.5779\n",
      "\n",
      "******* Stoping on Defined Thresold *******\n",
      "F1 TRAINING:  0.708737841978752\n",
      "Recall TRAINING:  0.5509433746337891\n",
      "8/8 [==============================] - 0s 12ms/step - loss: 0.3260 - tp: 146.0000 - fp: 1.0000 - tn: 279.0000 - fn: 119.0000 - precision: 0.9932 - recall: 0.5509\n",
      "\n",
      "\n",
      "\n",
      "****** Early Stopping *******\n"
     ]
    },
    {
     "name": "stderr",
     "output_type": "stream",
     "text": [
      "2022-11-13 17:17:20.461211: I tensorflow/core/grappler/optimizers/custom_graph_optimizer_registry.cc:114] Plugin optimizer for device_type GPU is enabled.\n"
     ]
    },
    {
     "name": "stdout",
     "output_type": "stream",
     "text": [
      "41/41 [==============================] - 0s 6ms/step\n",
      "0.742857142857143\n",
      "0.7919876733436055\n",
      "error_rate: 0.00016014679036514592\n",
      "0.9999999999999735\n",
      " =========== iteration ===========>: 5\n",
      "bfore traning:  49.357798165137616\n",
      "Epoch 1/60\n"
     ]
    },
    {
     "name": "stderr",
     "output_type": "stream",
     "text": [
      "2022-11-13 17:17:21.329791: I tensorflow/core/grappler/optimizers/custom_graph_optimizer_registry.cc:114] Plugin optimizer for device_type GPU is enabled.\n"
     ]
    },
    {
     "name": "stdout",
     "output_type": "stream",
     "text": [
      "8/8 [==============================] - 7s 520ms/step - loss: 6.3950 - tp: 137.0000 - fp: 79.0000 - tn: 197.0000 - fn: 132.0000 - precision: 0.6343 - recall: 0.5093\n",
      "Epoch 2/60\n",
      "8/8 [==============================] - ETA: 0s - loss: 1.9166 - tp: 254.0000 - fp: 57.0000 - tn: 219.0000 - fn: 15.0000 - precision: 0.8167 - recall: 0.9442\n",
      "\n",
      "******* Stoping on Defined Thresold *******\n",
      "F1 TRAINING:  0.8758620501751706\n",
      "Recall TRAINING:  0.9442378878593445\n",
      "8/8 [==============================] - 1s 165ms/step - loss: 1.9166 - tp: 254.0000 - fp: 57.0000 - tn: 219.0000 - fn: 15.0000 - precision: 0.8167 - recall: 0.9442\n",
      "\n",
      "\n",
      "\n",
      "****** Early Stopping *******\n",
      " 8/41 [====>.........................] - ETA: 0s"
     ]
    },
    {
     "name": "stderr",
     "output_type": "stream",
     "text": [
      "2022-11-13 17:17:29.732179: I tensorflow/core/grappler/optimizers/custom_graph_optimizer_registry.cc:114] Plugin optimizer for device_type GPU is enabled.\n"
     ]
    },
    {
     "name": "stdout",
     "output_type": "stream",
     "text": [
      "41/41 [==============================] - 0s 6ms/step\n",
      "0.9446870451237264\n",
      "0.9414483821263482\n",
      "error_rate: 4.520141433558646e-05\n",
      "0.9999999999999992\n",
      " =========== iteration ===========>: 6\n",
      "bfore traning:  48.07339449541285\n",
      "Epoch 1/60\n"
     ]
    },
    {
     "name": "stderr",
     "output_type": "stream",
     "text": [
      "2022-11-13 17:17:30.456071: I tensorflow/core/grappler/optimizers/custom_graph_optimizer_registry.cc:114] Plugin optimizer for device_type GPU is enabled.\n"
     ]
    },
    {
     "name": "stdout",
     "output_type": "stream",
     "text": [
      "8/8 [==============================] - ETA: 0s - loss: 6.3706 - tp: 189.0000 - fp: 210.0000 - tn: 73.0000 - fn: 73.0000 - precision: 0.4737 - recall: 0.7214\n",
      "\n",
      "******* Stoping on Defined Thresold *******\n",
      "F1 TRAINING:  0.5718608215142214\n",
      "Recall TRAINING:  0.7213740348815918\n",
      "8/8 [==============================] - 7s 594ms/step - loss: 6.3706 - tp: 189.0000 - fp: 210.0000 - tn: 73.0000 - fn: 73.0000 - precision: 0.4737 - recall: 0.7214\n",
      "\n",
      "\n",
      "\n",
      "****** Early Stopping *******\n"
     ]
    },
    {
     "name": "stderr",
     "output_type": "stream",
     "text": [
      "2022-11-13 17:17:37.119768: I tensorflow/core/grappler/optimizers/custom_graph_optimizer_registry.cc:114] Plugin optimizer for device_type GPU is enabled.\n"
     ]
    },
    {
     "name": "stdout",
     "output_type": "stream",
     "text": [
      "41/41 [==============================] - 1s 7ms/step\n",
      "0.6458616010854817\n",
      "0.5978428351309707\n",
      "error_rate: 0.0003099564757538337\n",
      "0.9999999999999916\n",
      " =========== iteration ===========>: 7\n",
      "bfore traning:  49.54128440366973\n",
      "Epoch 1/60\n"
     ]
    },
    {
     "name": "stderr",
     "output_type": "stream",
     "text": [
      "2022-11-13 17:17:38.014867: I tensorflow/core/grappler/optimizers/custom_graph_optimizer_registry.cc:114] Plugin optimizer for device_type GPU is enabled.\n"
     ]
    },
    {
     "name": "stdout",
     "output_type": "stream",
     "text": [
      "8/8 [==============================] - ETA: 0s - loss: 6.4427 - tp: 216.0000 - fp: 177.0000 - tn: 98.0000 - fn: 54.0000 - precision: 0.5496 - recall: 0.8000\n",
      "\n",
      "******* Stoping on Defined Thresold *******\n",
      "F1 TRAINING:  0.6515837025308984\n",
      "Recall TRAINING:  0.800000011920929\n",
      "8/8 [==============================] - 7s 586ms/step - loss: 6.4427 - tp: 216.0000 - fp: 177.0000 - tn: 98.0000 - fn: 54.0000 - precision: 0.5496 - recall: 0.8000\n",
      "\n",
      "\n",
      "\n",
      "****** Early Stopping *******\n"
     ]
    },
    {
     "name": "stderr",
     "output_type": "stream",
     "text": [
      "2022-11-13 17:17:44.510595: I tensorflow/core/grappler/optimizers/custom_graph_optimizer_registry.cc:114] Plugin optimizer for device_type GPU is enabled.\n"
     ]
    },
    {
     "name": "stdout",
     "output_type": "stream",
     "text": [
      "41/41 [==============================] - 0s 6ms/step\n",
      "0.7816901408450705\n",
      "0.7611710323574731\n",
      "error_rate: 0.00018416980220640507\n",
      "1.000000000000012\n",
      " =========== iteration ===========>: 8\n",
      "bfore traning:  52.84403669724771\n",
      "Epoch 1/60\n"
     ]
    },
    {
     "name": "stderr",
     "output_type": "stream",
     "text": [
      "2022-11-13 17:17:45.349879: I tensorflow/core/grappler/optimizers/custom_graph_optimizer_registry.cc:114] Plugin optimizer for device_type GPU is enabled.\n"
     ]
    },
    {
     "name": "stdout",
     "output_type": "stream",
     "text": [
      "8/8 [==============================] - 7s 622ms/step - loss: 6.3980 - tp: 112.0000 - fp: 60.0000 - tn: 197.0000 - fn: 176.0000 - precision: 0.6512 - recall: 0.3889\n",
      "Epoch 2/60\n",
      "8/8 [==============================] - ETA: 0s - loss: 1.9247 - tp: 229.0000 - fp: 36.0000 - tn: 221.0000 - fn: 59.0000 - precision: 0.8642 - recall: 0.7951\n",
      "\n",
      "******* Stoping on Defined Thresold *******\n",
      "F1 TRAINING:  0.8282097675814598\n",
      "Recall TRAINING:  0.7951388955116272\n",
      "8/8 [==============================] - 0s 64ms/step - loss: 1.9247 - tp: 229.0000 - fp: 36.0000 - tn: 221.0000 - fn: 59.0000 - precision: 0.8642 - recall: 0.7951\n",
      "\n",
      "\n",
      "\n",
      "****** Early Stopping *******\n",
      " 1/41 [..............................] - ETA: 7s"
     ]
    },
    {
     "name": "stderr",
     "output_type": "stream",
     "text": [
      "2022-11-13 17:17:53.090867: I tensorflow/core/grappler/optimizers/custom_graph_optimizer_registry.cc:114] Plugin optimizer for device_type GPU is enabled.\n"
     ]
    },
    {
     "name": "stdout",
     "output_type": "stream",
     "text": [
      "41/41 [==============================] - 0s 6ms/step\n",
      "0.874675885911841\n",
      "0.8882896764252697\n",
      "error_rate: 8.593410324945112e-05\n",
      "1.0\n",
      " =========== iteration ===========>: 9\n",
      "bfore traning:  46.42201834862386\n",
      "Epoch 1/60\n"
     ]
    },
    {
     "name": "stderr",
     "output_type": "stream",
     "text": [
      "2022-11-13 17:17:53.884590: I tensorflow/core/grappler/optimizers/custom_graph_optimizer_registry.cc:114] Plugin optimizer for device_type GPU is enabled.\n"
     ]
    },
    {
     "name": "stdout",
     "output_type": "stream",
     "text": [
      "8/8 [==============================] - 8s 581ms/step - loss: 6.3863 - tp: 107.0000 - fp: 107.0000 - tn: 185.0000 - fn: 146.0000 - precision: 0.5000 - recall: 0.4229\n",
      "Epoch 2/60\n",
      "8/8 [==============================] - ETA: 0s - loss: 1.9125 - tp: 240.0000 - fp: 32.0000 - tn: 260.0000 - fn: 13.0000 - precision: 0.8824 - recall: 0.9486\n",
      "\n",
      "******* Stoping on Defined Thresold *******\n",
      "F1 TRAINING:  0.9142857287737788\n",
      "Recall TRAINING:  0.948616623878479\n",
      "8/8 [==============================] - 1s 119ms/step - loss: 1.9125 - tp: 240.0000 - fp: 32.0000 - tn: 260.0000 - fn: 13.0000 - precision: 0.8824 - recall: 0.9486\n",
      "\n",
      "\n",
      "\n",
      "****** Early Stopping *******\n",
      " 5/41 [==>...........................] - ETA: 0s"
     ]
    },
    {
     "name": "stderr",
     "output_type": "stream",
     "text": [
      "2022-11-13 17:18:02.299789: I tensorflow/core/grappler/optimizers/custom_graph_optimizer_registry.cc:114] Plugin optimizer for device_type GPU is enabled.\n"
     ]
    },
    {
     "name": "stdout",
     "output_type": "stream",
     "text": [
      "41/41 [==============================] - 0s 7ms/step\n",
      "0.9878234398782344\n",
      "0.987673343605547\n",
      "error_rate: 9.573378116233056e-06\n",
      "1.0000000000000115\n",
      " =========== iteration ===========>: 10\n",
      "bfore traning:  48.80733944954129\n",
      "Epoch 1/60\n"
     ]
    },
    {
     "name": "stderr",
     "output_type": "stream",
     "text": [
      "2022-11-13 17:18:03.086589: I tensorflow/core/grappler/optimizers/custom_graph_optimizer_registry.cc:114] Plugin optimizer for device_type GPU is enabled.\n"
     ]
    },
    {
     "name": "stdout",
     "output_type": "stream",
     "text": [
      "8/8 [==============================] - 7s 525ms/step - loss: 6.4016 - tp: 109.0000 - fp: 53.0000 - tn: 226.0000 - fn: 157.0000 - precision: 0.6728 - recall: 0.4098\n",
      "Epoch 2/60\n",
      "8/8 [==============================] - ETA: 0s - loss: 1.9305 - tp: 221.0000 - fp: 20.0000 - tn: 259.0000 - fn: 45.0000 - precision: 0.9170 - recall: 0.8308\n",
      "\n",
      "******* Stoping on Defined Thresold *******\n",
      "F1 TRAINING:  0.8717949281051907\n",
      "Recall TRAINING:  0.8308271169662476\n",
      "8/8 [==============================] - 0s 57ms/step - loss: 1.9305 - tp: 221.0000 - fp: 20.0000 - tn: 259.0000 - fn: 45.0000 - precision: 0.9170 - recall: 0.8308\n",
      "\n",
      "\n",
      "\n",
      "****** Early Stopping *******\n",
      " 8/41 [====>.........................] - ETA: 0s"
     ]
    },
    {
     "name": "stderr",
     "output_type": "stream",
     "text": [
      "2022-11-13 17:18:10.016459: I tensorflow/core/grappler/optimizers/custom_graph_optimizer_registry.cc:114] Plugin optimizer for device_type GPU is enabled.\n"
     ]
    },
    {
     "name": "stdout",
     "output_type": "stream",
     "text": [
      "41/41 [==============================] - 0s 6ms/step\n",
      "0.8377896613190731\n",
      "0.8597842835130971\n",
      "error_rate: 0.00010794474778253309\n",
      "1.0000000000000075\n",
      " =========== iteration ===========>: 11\n",
      "bfore traning:  46.055045871559635\n",
      "Epoch 1/60\n"
     ]
    },
    {
     "name": "stderr",
     "output_type": "stream",
     "text": [
      "2022-11-13 17:18:10.762970: I tensorflow/core/grappler/optimizers/custom_graph_optimizer_registry.cc:114] Plugin optimizer for device_type GPU is enabled.\n"
     ]
    },
    {
     "name": "stdout",
     "output_type": "stream",
     "text": [
      "8/8 [==============================] - 6s 560ms/step - loss: 6.4125 - tp: 113.0000 - fp: 97.0000 - tn: 197.0000 - fn: 138.0000 - precision: 0.5381 - recall: 0.4502\n",
      "Epoch 2/60\n",
      "8/8 [==============================] - ETA: 0s - loss: 1.9176 - tp: 237.0000 - fp: 15.0000 - tn: 279.0000 - fn: 14.0000 - precision: 0.9405 - recall: 0.9442\n",
      "\n",
      "******* Stoping on Defined Thresold *******\n",
      "F1 TRAINING:  0.9423459775310953\n",
      "Recall TRAINING:  0.944223165512085\n",
      "8/8 [==============================] - 1s 139ms/step - loss: 1.9176 - tp: 237.0000 - fp: 15.0000 - tn: 279.0000 - fn: 14.0000 - precision: 0.9405 - recall: 0.9442\n",
      "\n",
      "\n",
      "\n",
      "****** Early Stopping *******\n"
     ]
    },
    {
     "name": "stderr",
     "output_type": "stream",
     "text": [
      "2022-11-13 17:18:18.156301: I tensorflow/core/grappler/optimizers/custom_graph_optimizer_registry.cc:114] Plugin optimizer for device_type GPU is enabled.\n"
     ]
    },
    {
     "name": "stdout",
     "output_type": "stream",
     "text": [
      "41/41 [==============================] - 1s 7ms/step\n",
      "0.9870722433460076\n",
      "0.9869029275808937\n",
      "error_rate: 1.0190445440396881e-05\n",
      "0.9999999999999987\n"
     ]
    }
   ],
   "source": [
    "# plt.plot(initial_weight)\n",
    "boosting(initial_weight)"
   ],
   "metadata": {
    "collapsed": false,
    "pycharm": {
     "name": "#%%\n"
    }
   }
  },
  {
   "cell_type": "code",
   "execution_count": 642,
   "outputs": [
    {
     "data": {
      "text/plain": "[0.0008723869044721096,\n 0.0008757021943880129,\n 0.0008127910041145563,\n 0.0009904610020349779,\n 0.0008739259563923707,\n 0.0010004336978569359,\n 0.0008078768666614091,\n 0.0008599468201066722,\n 0.0009361843858913323,\n 0.0011556514851159864,\n 0.0009133783105781165,\n 0.0011494049807704184]"
     },
     "execution_count": 642,
     "metadata": {},
     "output_type": "execute_result"
    }
   ],
   "source": [
    "alphas"
   ],
   "metadata": {
    "collapsed": false,
    "pycharm": {
     "name": "#%%\n"
    }
   }
  },
  {
   "cell_type": "code",
   "execution_count": 643,
   "outputs": [],
   "source": [
    "from sklearn.metrics import ConfusionMatrixDisplay, confusion_matrix\n",
    "\n",
    "\n",
    "def repeat(test_split, test_result, start, end):\n",
    "    mx = 0\n",
    "    size = 0\n",
    "    data = []\n",
    "    f1=[]\n",
    "    for i in range(start,end):\n",
    "        data = some_pred(test_split, i)\n",
    "        tn, fp, fn, tp = confusion_matrix(test_result, data).ravel()\n",
    "        precision = tp / (tp+ fp)\n",
    "        recall = tp / (tp+ fn)\n",
    "        score = (2 * precision * recall) / (precision + recall)\n",
    "        print(score)\n",
    "        f1.append(score)\n",
    "        if mx < score:\n",
    "            mx = score\n",
    "            size = i\n",
    "        print(i)\n",
    "    print(mx,size)\n",
    "    return data, f1\n",
    "\n",
    "# a = ensemble[0].predict(test_split)\n",
    "\n",
    "def some_pred(test_split, esize):\n",
    "#     data = []\n",
    "    k = []\n",
    "#     for j in range(len(test_split)):\n",
    "#         pa=0\n",
    "#         na =0\n",
    "    for i in range(esize):\n",
    "        print('*********:', i)\n",
    "        k.append(ensemble[i].predict([test_split]))\n",
    "        # if pa >=na:\n",
    "        #     data.append(1)\n",
    "        # else:\n",
    "        #     data.append(0)\n",
    "    # f1.append(f1_score(test_result, data, average=\"macro\"))\n",
    "    # acc.append(accuracy_score(test_result, data))\n",
    "    return k"
   ],
   "metadata": {
    "collapsed": false,
    "pycharm": {
     "name": "#%%\n"
    }
   }
  },
  {
   "cell_type": "code",
   "execution_count": 643,
   "outputs": [],
   "source": [],
   "metadata": {
    "collapsed": false,
    "pycharm": {
     "name": "#%%\n"
    }
   }
  },
  {
   "cell_type": "code",
   "execution_count": 644,
   "outputs": [],
   "source": [
    "\n",
    "def majority(data):\n",
    "    ans =[]\n",
    "    for i in range(len(data[0])):\n",
    "        ap = 0\n",
    "        an = 0\n",
    "        for e in range(len(data)):\n",
    "            if data[e][i] >= .5:\n",
    "                ap += alphas[e]\n",
    "            else:\n",
    "                an += alphas[e]\n",
    "        if ap >= an:\n",
    "            ans.append(1)\n",
    "        else:\n",
    "            ans.append(0)\n",
    "    return ans\n"
   ],
   "metadata": {
    "collapsed": false,
    "pycharm": {
     "name": "#%%\n"
    }
   }
  },
  {
   "cell_type": "code",
   "execution_count": 645,
   "outputs": [],
   "source": [
    "def getf1(true, predicted):\n",
    "    tn, fp, fn, tp = confusion_matrix(true, predicted).ravel()\n",
    "    precision = tp / (tp+ fp)\n",
    "    recall = tp / (tp+ fn)\n",
    "    score = ( precision , recall, (2*precision*recall)/(precision+recall))\n",
    "    return score"
   ],
   "metadata": {
    "collapsed": false,
    "pycharm": {
     "name": "#%%\n"
    }
   }
  },
  {
   "cell_type": "code",
   "execution_count": 646,
   "outputs": [
    {
     "name": "stdout",
     "output_type": "stream",
     "text": [
      "*********: 0\n"
     ]
    },
    {
     "name": "stderr",
     "output_type": "stream",
     "text": [
      "2022-11-13 17:18:23.736161: I tensorflow/core/grappler/optimizers/custom_graph_optimizer_registry.cc:114] Plugin optimizer for device_type GPU is enabled.\n"
     ]
    },
    {
     "name": "stdout",
     "output_type": "stream",
     "text": [
      "4/4 [==============================] - 0s 51ms/step\n",
      "*********: 0\n",
      "4/4 [==============================] - 0s 19ms/step\n",
      "*********: 1\n",
      "1/4 [======>.......................] - ETA: 0s"
     ]
    },
    {
     "name": "stderr",
     "output_type": "stream",
     "text": [
      "2022-11-13 17:18:24.285364: I tensorflow/core/grappler/optimizers/custom_graph_optimizer_registry.cc:114] Plugin optimizer for device_type GPU is enabled.\n"
     ]
    },
    {
     "name": "stdout",
     "output_type": "stream",
     "text": [
      "4/4 [==============================] - 0s 57ms/step\n",
      "*********: 0\n",
      "4/4 [==============================] - 0s 15ms/step\n",
      "*********: 1\n",
      "4/4 [==============================] - 0s 15ms/step\n",
      "*********: 2\n",
      "1/4 [======>.......................] - ETA: 0s"
     ]
    },
    {
     "name": "stderr",
     "output_type": "stream",
     "text": [
      "2022-11-13 17:18:24.856708: I tensorflow/core/grappler/optimizers/custom_graph_optimizer_registry.cc:114] Plugin optimizer for device_type GPU is enabled.\n"
     ]
    },
    {
     "name": "stdout",
     "output_type": "stream",
     "text": [
      "4/4 [==============================] - 0s 97ms/step\n",
      "*********: 0\n",
      "4/4 [==============================] - 0s 28ms/step\n",
      "*********: 1\n",
      "4/4 [==============================] - 0s 2ms/step\n",
      "*********: 2\n",
      "4/4 [==============================] - 0s 16ms/step\n",
      "*********: 3\n",
      "1/4 [======>.......................] - ETA: 0s"
     ]
    },
    {
     "name": "stderr",
     "output_type": "stream",
     "text": [
      "2022-11-13 17:18:25.574489: I tensorflow/core/grappler/optimizers/custom_graph_optimizer_registry.cc:114] Plugin optimizer for device_type GPU is enabled.\n"
     ]
    },
    {
     "name": "stdout",
     "output_type": "stream",
     "text": [
      "4/4 [==============================] - 0s 58ms/step\n",
      "*********: 0\n",
      "4/4 [==============================] - 0s 3ms/step\n",
      "*********: 1\n",
      "4/4 [==============================] - 0s 16ms/step\n",
      "*********: 2\n",
      "4/4 [==============================] - 0s 16ms/step\n",
      "*********: 3\n",
      "4/4 [==============================] - 0s 16ms/step\n",
      "*********: 4\n",
      "1/4 [======>.......................] - ETA: 0s"
     ]
    },
    {
     "name": "stderr",
     "output_type": "stream",
     "text": [
      "2022-11-13 17:18:26.269158: I tensorflow/core/grappler/optimizers/custom_graph_optimizer_registry.cc:114] Plugin optimizer for device_type GPU is enabled.\n"
     ]
    },
    {
     "name": "stdout",
     "output_type": "stream",
     "text": [
      "4/4 [==============================] - 0s 44ms/step\n",
      "*********: 0\n",
      "4/4 [==============================] - 0s 3ms/step\n",
      "*********: 1\n",
      "4/4 [==============================] - 0s 3ms/step\n",
      "*********: 2\n",
      "4/4 [==============================] - 0s 14ms/step\n",
      "*********: 3\n",
      "4/4 [==============================] - 0s 2ms/step\n",
      "*********: 4\n",
      "4/4 [==============================] - 0s 15ms/step\n",
      "*********: 5\n"
     ]
    },
    {
     "name": "stderr",
     "output_type": "stream",
     "text": [
      "2022-11-13 17:18:26.920147: I tensorflow/core/grappler/optimizers/custom_graph_optimizer_registry.cc:114] Plugin optimizer for device_type GPU is enabled.\n"
     ]
    },
    {
     "name": "stdout",
     "output_type": "stream",
     "text": [
      "4/4 [==============================] - 0s 60ms/step\n",
      "*********: 0\n",
      "4/4 [==============================] - 0s 3ms/step\n",
      "*********: 1\n",
      "4/4 [==============================] - 0s 24ms/step\n",
      "*********: 2\n",
      "4/4 [==============================] - 0s 15ms/step\n",
      "*********: 3\n",
      "4/4 [==============================] - 0s 37ms/step\n",
      "*********: 4\n",
      "4/4 [==============================] - 0s 22ms/step\n",
      "*********: 5\n",
      "4/4 [==============================] - 0s 15ms/step\n",
      "*********: 6\n"
     ]
    },
    {
     "name": "stderr",
     "output_type": "stream",
     "text": [
      "2022-11-13 17:18:28.111275: I tensorflow/core/grappler/optimizers/custom_graph_optimizer_registry.cc:114] Plugin optimizer for device_type GPU is enabled.\n"
     ]
    },
    {
     "name": "stdout",
     "output_type": "stream",
     "text": [
      "4/4 [==============================] - 0s 51ms/step\n",
      "*********: 0\n",
      "4/4 [==============================] - 0s 3ms/step\n",
      "*********: 1\n",
      "4/4 [==============================] - 0s 3ms/step\n",
      "*********: 2\n",
      "4/4 [==============================] - 0s 15ms/step\n",
      "*********: 3\n",
      "4/4 [==============================] - 0s 2ms/step\n",
      "*********: 4\n",
      "4/4 [==============================] - 0s 15ms/step\n",
      "*********: 5\n",
      "4/4 [==============================] - 0s 3ms/step\n",
      "*********: 6\n",
      "4/4 [==============================] - 0s 25ms/step\n",
      "*********: 7\n",
      "1/4 [======>.......................] - ETA: 0s"
     ]
    },
    {
     "name": "stderr",
     "output_type": "stream",
     "text": [
      "2022-11-13 17:18:28.986130: I tensorflow/core/grappler/optimizers/custom_graph_optimizer_registry.cc:114] Plugin optimizer for device_type GPU is enabled.\n"
     ]
    },
    {
     "name": "stdout",
     "output_type": "stream",
     "text": [
      "4/4 [==============================] - 0s 43ms/step\n",
      "*********: 0\n",
      "4/4 [==============================] - 0s 3ms/step\n",
      "*********: 1\n",
      "4/4 [==============================] - 0s 3ms/step\n",
      "*********: 2\n",
      "4/4 [==============================] - 0s 3ms/step\n",
      "*********: 3\n",
      "4/4 [==============================] - 0s 23ms/step\n",
      "*********: 4\n",
      "4/4 [==============================] - 0s 3ms/step\n",
      "*********: 5\n",
      "4/4 [==============================] - 0s 25ms/step\n",
      "*********: 6\n",
      "4/4 [==============================] - 0s 2ms/step\n",
      "*********: 7\n",
      "4/4 [==============================] - 0s 14ms/step\n",
      "*********: 8\n",
      "1/4 [======>.......................] - ETA: 0s"
     ]
    },
    {
     "name": "stderr",
     "output_type": "stream",
     "text": [
      "2022-11-13 17:18:29.816839: I tensorflow/core/grappler/optimizers/custom_graph_optimizer_registry.cc:114] Plugin optimizer for device_type GPU is enabled.\n"
     ]
    },
    {
     "name": "stdout",
     "output_type": "stream",
     "text": [
      "4/4 [==============================] - 0s 33ms/step\n",
      "*********: 0\n",
      "4/4 [==============================] - 0s 3ms/step\n",
      "*********: 1\n",
      "4/4 [==============================] - 0s 4ms/step\n",
      "*********: 2\n",
      "4/4 [==============================] - 0s 3ms/step\n",
      "*********: 3\n",
      "4/4 [==============================] - 0s 3ms/step\n",
      "*********: 4\n",
      "4/4 [==============================] - 0s 4ms/step\n",
      "*********: 5\n",
      "4/4 [==============================] - 0s 14ms/step\n",
      "*********: 6\n",
      "4/4 [==============================] - 0s 28ms/step\n",
      "*********: 7\n",
      "4/4 [==============================] - 0s 17ms/step\n",
      "*********: 8\n",
      "4/4 [==============================] - 0s 14ms/step\n",
      "*********: 9\n",
      "1/4 [======>.......................] - ETA: 0s"
     ]
    },
    {
     "name": "stderr",
     "output_type": "stream",
     "text": [
      "2022-11-13 17:18:30.766716: I tensorflow/core/grappler/optimizers/custom_graph_optimizer_registry.cc:114] Plugin optimizer for device_type GPU is enabled.\n"
     ]
    },
    {
     "name": "stdout",
     "output_type": "stream",
     "text": [
      "4/4 [==============================] - 0s 48ms/step\n",
      "*********: 0\n",
      "4/4 [==============================] - 0s 3ms/step\n",
      "*********: 1\n",
      "4/4 [==============================] - 0s 4ms/step\n",
      "*********: 2\n",
      "4/4 [==============================] - 0s 3ms/step\n",
      "*********: 3\n",
      "4/4 [==============================] - 0s 3ms/step\n",
      "*********: 4\n",
      "4/4 [==============================] - 0s 2ms/step\n",
      "*********: 5\n",
      "4/4 [==============================] - 0s 3ms/step\n",
      "*********: 6\n",
      "4/4 [==============================] - 0s 17ms/step\n",
      "*********: 7\n",
      "4/4 [==============================] - 0s 3ms/step\n",
      "*********: 8\n",
      "4/4 [==============================] - 0s 27ms/step\n",
      "*********: 9\n",
      "4/4 [==============================] - 0s 21ms/step\n",
      "*********: 10\n"
     ]
    },
    {
     "name": "stderr",
     "output_type": "stream",
     "text": [
      "2022-11-13 17:18:31.818807: I tensorflow/core/grappler/optimizers/custom_graph_optimizer_registry.cc:114] Plugin optimizer for device_type GPU is enabled.\n"
     ]
    },
    {
     "name": "stdout",
     "output_type": "stream",
     "text": [
      "4/4 [==============================] - 0s 60ms/step\n",
      "*********: 0\n",
      "4/4 [==============================] - 0s 3ms/step\n",
      "*********: 1\n",
      "4/4 [==============================] - 0s 2ms/step\n",
      "*********: 2\n",
      "4/4 [==============================] - 0s 3ms/step\n",
      "*********: 3\n",
      "4/4 [==============================] - 0s 3ms/step\n",
      "*********: 4\n",
      "4/4 [==============================] - 0s 2ms/step\n",
      "*********: 5\n",
      "4/4 [==============================] - 0s 4ms/step\n",
      "*********: 6\n",
      "4/4 [==============================] - 0s 2ms/step\n",
      "*********: 7\n",
      "4/4 [==============================] - 0s 3ms/step\n",
      "*********: 8\n",
      "4/4 [==============================] - 0s 2ms/step\n",
      "*********: 9\n",
      "4/4 [==============================] - 0s 15ms/step\n",
      "*********: 10\n",
      "4/4 [==============================] - 0s 23ms/step\n",
      "*********: 11\n"
     ]
    },
    {
     "name": "stderr",
     "output_type": "stream",
     "text": [
      "2022-11-13 17:18:32.849590: I tensorflow/core/grappler/optimizers/custom_graph_optimizer_registry.cc:114] Plugin optimizer for device_type GPU is enabled.\n"
     ]
    },
    {
     "name": "stdout",
     "output_type": "stream",
     "text": [
      "4/4 [==============================] - 0s 62ms/step\n"
     ]
    }
   ],
   "source": [
    "f1_test = []\n",
    "acc_test = []\n",
    "for i in range(1,13):\n",
    "    data = some_pred(test_split, i)\n",
    "    ans = majority(data)\n",
    "    f1_test.append(getf1(test_result, ans))\n",
    "    acc_test.append(accuracy_score(test_result, ans))"
   ],
   "metadata": {
    "collapsed": false,
    "pycharm": {
     "name": "#%%\n"
    }
   }
  },
  {
   "cell_type": "code",
   "execution_count": 647,
   "outputs": [
    {
     "name": "stdout",
     "output_type": "stream",
     "text": [
      "*********: 0\n",
      "41/41 [==============================] - 0s 6ms/step\n",
      "*********: 0\n",
      "41/41 [==============================] - 0s 5ms/step\n",
      "*********: 1\n",
      "41/41 [==============================] - 0s 6ms/step\n",
      "*********: 0\n",
      "41/41 [==============================] - 0s 4ms/step\n",
      "*********: 1\n",
      "41/41 [==============================] - 0s 4ms/step\n",
      "*********: 2\n",
      "41/41 [==============================] - 0s 7ms/step\n",
      "*********: 0\n",
      "41/41 [==============================] - 0s 3ms/step\n",
      "*********: 1\n",
      "41/41 [==============================] - 0s 3ms/step\n",
      "*********: 2\n",
      "41/41 [==============================] - 0s 5ms/step\n",
      "*********: 3\n",
      "41/41 [==============================] - 0s 6ms/step\n",
      "*********: 0\n",
      "41/41 [==============================] - 0s 4ms/step\n",
      "*********: 1\n",
      "41/41 [==============================] - 0s 4ms/step\n",
      "*********: 2\n",
      "41/41 [==============================] - 0s 4ms/step\n",
      "*********: 3\n",
      "41/41 [==============================] - 0s 4ms/step\n",
      "*********: 4\n",
      "41/41 [==============================] - 0s 8ms/step\n",
      "*********: 0\n",
      "41/41 [==============================] - 0s 3ms/step\n",
      "*********: 1\n",
      "41/41 [==============================] - 0s 3ms/step\n",
      "*********: 2\n",
      "41/41 [==============================] - 0s 3ms/step\n",
      "*********: 3\n",
      "41/41 [==============================] - 0s 4ms/step\n",
      "*********: 4\n",
      "41/41 [==============================] - 0s 3ms/step\n",
      "*********: 5\n",
      "41/41 [==============================] - 0s 6ms/step\n",
      "*********: 0\n",
      "41/41 [==============================] - 0s 3ms/step\n",
      "*********: 1\n",
      "41/41 [==============================] - 0s 3ms/step\n",
      "*********: 2\n",
      "41/41 [==============================] - 0s 4ms/step\n",
      "*********: 3\n",
      "41/41 [==============================] - 0s 3ms/step\n",
      "*********: 4\n",
      "41/41 [==============================] - 0s 4ms/step\n",
      "*********: 5\n",
      "41/41 [==============================] - 0s 4ms/step\n",
      "*********: 6\n",
      "41/41 [==============================] - 0s 7ms/step\n",
      "*********: 0\n",
      "41/41 [==============================] - 0s 3ms/step\n",
      "*********: 1\n",
      "41/41 [==============================] - 0s 3ms/step\n",
      "*********: 2\n",
      "41/41 [==============================] - 0s 3ms/step\n",
      "*********: 3\n",
      "41/41 [==============================] - 0s 5ms/step\n",
      "*********: 4\n",
      "41/41 [==============================] - 0s 4ms/step\n",
      "*********: 5\n",
      "41/41 [==============================] - 0s 3ms/step\n",
      "*********: 6\n",
      "41/41 [==============================] - 0s 5ms/step\n",
      "*********: 7\n",
      "41/41 [==============================] - 0s 7ms/step\n",
      "*********: 0\n",
      "41/41 [==============================] - 0s 3ms/step\n",
      "*********: 1\n",
      "41/41 [==============================] - 0s 3ms/step\n",
      "*********: 2\n",
      "41/41 [==============================] - 0s 3ms/step\n",
      "*********: 3\n",
      "41/41 [==============================] - 0s 3ms/step\n",
      "*********: 4\n",
      "41/41 [==============================] - 0s 3ms/step\n",
      "*********: 5\n",
      "41/41 [==============================] - 0s 5ms/step\n",
      "*********: 6\n",
      "41/41 [==============================] - 0s 4ms/step\n",
      "*********: 7\n",
      "41/41 [==============================] - 0s 4ms/step\n",
      "*********: 8\n",
      "41/41 [==============================] - 0s 7ms/step\n",
      "*********: 0\n",
      "41/41 [==============================] - 0s 3ms/step\n",
      "*********: 1\n",
      "41/41 [==============================] - 0s 3ms/step\n",
      "*********: 2\n",
      "41/41 [==============================] - 0s 3ms/step\n",
      "*********: 3\n",
      "41/41 [==============================] - 0s 3ms/step\n",
      "*********: 4\n",
      "41/41 [==============================] - 0s 3ms/step\n",
      "*********: 5\n",
      "41/41 [==============================] - 0s 4ms/step\n",
      "*********: 6\n",
      "41/41 [==============================] - 0s 3ms/step\n",
      "*********: 7\n",
      "41/41 [==============================] - 0s 3ms/step\n",
      "*********: 8\n",
      "41/41 [==============================] - 0s 5ms/step\n",
      "*********: 9\n",
      "41/41 [==============================] - 0s 8ms/step\n",
      "*********: 0\n",
      "41/41 [==============================] - 0s 3ms/step\n",
      "*********: 1\n",
      "41/41 [==============================] - 0s 4ms/step\n",
      "*********: 2\n",
      "41/41 [==============================] - 0s 3ms/step\n",
      "*********: 3\n",
      "41/41 [==============================] - 0s 3ms/step\n",
      "*********: 4\n",
      "41/41 [==============================] - 0s 3ms/step\n",
      "*********: 5\n",
      "41/41 [==============================] - 0s 3ms/step\n",
      "*********: 6\n",
      "41/41 [==============================] - 0s 3ms/step\n",
      "*********: 7\n",
      "41/41 [==============================] - 0s 3ms/step\n",
      "*********: 8\n",
      "41/41 [==============================] - 0s 3ms/step\n",
      "*********: 9\n",
      "41/41 [==============================] - 0s 3ms/step\n",
      "*********: 10\n",
      "41/41 [==============================] - 0s 7ms/step\n",
      "*********: 0\n",
      "41/41 [==============================] - 0s 3ms/step\n",
      "*********: 1\n",
      "41/41 [==============================] - 0s 3ms/step\n",
      "*********: 2\n",
      "41/41 [==============================] - 0s 3ms/step\n",
      "*********: 3\n",
      "41/41 [==============================] - 0s 3ms/step\n",
      "*********: 4\n",
      "41/41 [==============================] - 0s 3ms/step\n",
      "*********: 5\n",
      "41/41 [==============================] - 0s 3ms/step\n",
      "*********: 6\n",
      "41/41 [==============================] - 0s 4ms/step\n",
      "*********: 7\n",
      "41/41 [==============================] - 0s 4ms/step\n",
      "*********: 8\n",
      "41/41 [==============================] - 0s 4ms/step\n",
      "*********: 9\n",
      "41/41 [==============================] - 0s 4ms/step\n",
      "*********: 10\n",
      "41/41 [==============================] - 0s 4ms/step\n",
      "*********: 11\n",
      "41/41 [==============================] - 0s 7ms/step\n"
     ]
    }
   ],
   "source": [
    "f1_train = []\n",
    "acc_train = []\n",
    "for i in range(1,13):\n",
    "    data = some_pred(training_split, i)\n",
    "    ans = majority(data)\n",
    "    f1_train.append(getf1(train_result, ans))\n",
    "    acc_train.append(accuracy_score(train_result, ans))\n",
    "    # ConfusionMatrixDisplay.from_predictions(test_result,ans,cmap='Greens')"
   ],
   "metadata": {
    "collapsed": false,
    "pycharm": {
     "name": "#%%\n"
    }
   }
  },
  {
   "cell_type": "code",
   "execution_count": 648,
   "outputs": [
    {
     "data": {
      "text/plain": "[<matplotlib.lines.Line2D at 0x60c29f760>]"
     },
     "execution_count": 648,
     "metadata": {},
     "output_type": "execute_result"
    },
    {
     "data": {
      "text/plain": "<Figure size 640x480 with 1 Axes>",
      "image/png": "[encoded data removed]"
     },
     "metadata": {},
     "output_type": "display_data"
    }
   ],
   "source": [
    "\n",
    "plt.plot([i[0] for i in f1_train])\n",
    "plt.plot([i[0] for i in f1_test])\n",
    "# plt.plot()"
   ],
   "metadata": {
    "collapsed": false,
    "pycharm": {
     "name": "#%%\n"
    }
   }
  },
  {
   "cell_type": "code",
   "execution_count": 649,
   "outputs": [
    {
     "data": {
      "text/plain": "[<matplotlib.lines.Line2D at 0x331c21100>]"
     },
     "execution_count": 649,
     "metadata": {},
     "output_type": "execute_result"
    },
    {
     "data": {
      "text/plain": "<Figure size 640x480 with 1 Axes>",
      "image/png": "[encoded data removed]"
     },
     "metadata": {},
     "output_type": "display_data"
    }
   ],
   "source": [
    "plt.plot([i[1] for i in f1_train])\n",
    "plt.plot([i[1] for i in f1_test])"
   ],
   "metadata": {
    "collapsed": false,
    "pycharm": {
     "name": "#%%\n"
    }
   }
  },
  {
   "cell_type": "code",
   "execution_count": 650,
   "outputs": [
    {
     "data": {
      "text/plain": "[<matplotlib.lines.Line2D at 0x30eb232e0>]"
     },
     "execution_count": 650,
     "metadata": {},
     "output_type": "execute_result"
    },
    {
     "data": {
      "text/plain": "<Figure size 640x480 with 1 Axes>",
      "image/png": "[encoded data removed]"
     },
     "metadata": {},
     "output_type": "display_data"
    }
   ],
   "source": [
    "plt.plot([i[2] for i in f1_train])\n",
    "plt.plot([i[2] for i in f1_test])"
   ],
   "metadata": {
    "collapsed": false,
    "pycharm": {
     "name": "#%%\n"
    }
   }
  },
  {
   "cell_type": "code",
   "execution_count": 652,
   "outputs": [
    {
     "name": "stdout",
     "output_type": "stream",
     "text": [
      "*********: 0\n",
      "41/41 [==============================] - 0s 3ms/step\n",
      "*********: 1\n",
      "41/41 [==============================] - 0s 3ms/step\n",
      "*********: 2\n",
      "41/41 [==============================] - 0s 3ms/step\n",
      "*********: 3\n",
      "41/41 [==============================] - 0s 3ms/step\n",
      "*********: 4\n",
      "41/41 [==============================] - 0s 3ms/step\n",
      "*********: 5\n",
      "41/41 [==============================] - 0s 3ms/step\n",
      "*********: 6\n",
      "41/41 [==============================] - 0s 3ms/step\n",
      "*********: 7\n",
      "41/41 [==============================] - 0s 6ms/step\n",
      "*********: 0\n",
      "4/4 [==============================] - 0s 3ms/step\n",
      "*********: 1\n",
      "4/4 [==============================] - 0s 3ms/step\n",
      "*********: 2\n",
      "4/4 [==============================] - 0s 3ms/step\n",
      "*********: 3\n",
      "4/4 [==============================] - 0s 3ms/step\n",
      "*********: 4\n",
      "4/4 [==============================] - 0s 3ms/step\n",
      "*********: 5\n",
      "4/4 [==============================] - 0s 4ms/step\n",
      "*********: 6\n",
      "4/4 [==============================] - 0s 3ms/step\n",
      "*********: 7\n",
      "4/4 [==============================] - 0s 3ms/step\n"
     ]
    },
    {
     "data": {
      "text/plain": "<sklearn.metrics._plot.confusion_matrix.ConfusionMatrixDisplay at 0x28e7ee4c0>"
     },
     "execution_count": 652,
     "metadata": {},
     "output_type": "execute_result"
    },
    {
     "data": {
      "text/plain": "<Figure size 640x480 with 2 Axes>",
      "image/png": "[encoded data removed]"
     },
     "metadata": {},
     "output_type": "display_data"
    },
    {
     "data": {
      "text/plain": "<Figure size 640x480 with 2 Axes>",
      "image/png": "[encoded data removed]"
     },
     "metadata": {},
     "output_type": "display_data"
    }
   ],
   "source": [
    "value = 8\n",
    "data = some_pred(training_split, value)\n",
    "ans = majority(data)\n",
    "data = some_pred(test_split, value )\n",
    "ans1 = majority(data)\n",
    "ConfusionMatrixDisplay.from_predictions(test_result,ans1,cmap='Greens')\n",
    "# plt.plot(f1_test)\n",
    "ConfusionMatrixDisplay.from_predictions(train_result,ans,cmap='Greens')"
   ],
   "metadata": {
    "collapsed": false,
    "pycharm": {
     "name": "#%%\n"
    }
   }
  },
  {
   "cell_type": "code",
   "execution_count": 300,
   "outputs": [
    {
     "name": "stdout",
     "output_type": "stream",
     "text": [
      "*********: 0\n",
      "11/11 [==============================] - 0s 15ms/step\n",
      "*********: 1\n",
      "11/11 [==============================] - 0s 7ms/step\n",
      "*********: 2\n",
      "11/11 [==============================] - 0s 9ms/step\n",
      "*********: 3\n",
      "11/11 [==============================] - 0s 8ms/step\n"
     ]
    }
   ],
   "source": [
    "table_test = pd.read_table('./1663769555_8653905_test.txt', names=['sequence'])\n",
    "unlabeled_test = vectorizer_best.transform(table_test.sequence).toarray()\n",
    "predicted_data = majority(some_pred(unlabeled_test, 4))"
   ],
   "metadata": {
    "collapsed": false,
    "pycharm": {
     "name": "#%%\n"
    }
   }
  },
  {
   "cell_type": "code",
   "execution_count": 304,
   "outputs": [
    {
     "data": {
      "text/plain": "[1,\n 0,\n 1,\n 0,\n 0,\n 1,\n 0,\n 1,\n 0,\n 1,\n 0,\n 0,\n 0,\n 1,\n 0,\n 1,\n 0,\n 1,\n 0,\n 0,\n 0,\n 0,\n 0,\n 0,\n 1,\n 1,\n 0,\n 0,\n 0,\n 0,\n 0,\n 0,\n 0,\n 0,\n 0,\n 0,\n 0,\n 0,\n 1,\n 0,\n 0,\n 0,\n 0,\n 0,\n 0,\n 0,\n 0,\n 0,\n 0,\n 0,\n 1,\n 0,\n 0,\n 1,\n 0,\n 1,\n 0,\n 0,\n 0,\n 0,\n 0,\n 1,\n 0,\n 0,\n 1,\n 0,\n 1,\n 0,\n 0,\n 0,\n 0,\n 0,\n 0,\n 0,\n 0,\n 0,\n 0,\n 0,\n 0,\n 0,\n 1,\n 0,\n 1,\n 1,\n 0,\n 1,\n 0,\n 0,\n 0,\n 0,\n 0,\n 0,\n 0,\n 0,\n 0,\n 0,\n 1,\n 0,\n 1,\n 1,\n 1,\n 0,\n 0,\n 0,\n 0,\n 0,\n 0,\n 0,\n 1,\n 1,\n 0,\n 0,\n 0,\n 0,\n 1,\n 0,\n 0,\n 0,\n 1,\n 0,\n 1,\n 0,\n 0,\n 0,\n 0,\n 0,\n 0,\n 0,\n 0,\n 0,\n 0,\n 1,\n 0,\n 0,\n 0,\n 0,\n 0,\n 0,\n 0,\n 1,\n 0,\n 0,\n 0,\n 0,\n 0,\n 0,\n 1,\n 0,\n 1,\n 0,\n 0,\n 0,\n 0,\n 1,\n 0,\n 0,\n 0,\n 0,\n 0,\n 0,\n 1,\n 0,\n 1,\n 1,\n 0,\n 0,\n 0,\n 0,\n 0,\n 0,\n 0,\n 0,\n 0,\n 0,\n 0,\n 0,\n 0,\n 0,\n 0,\n 0,\n 0,\n 0,\n 0,\n 0,\n 0,\n 0,\n 0,\n 0,\n 0,\n 0,\n 0,\n 0,\n 0,\n 0,\n 0,\n 0,\n 0,\n 0,\n 0,\n 1,\n 0,\n 0,\n 0,\n 0,\n 0,\n 0,\n 0,\n 0,\n 0,\n 0,\n 0,\n 0,\n 0,\n 1,\n 0,\n 0,\n 0,\n 0,\n 0,\n 0,\n 0,\n 1,\n 1,\n 0,\n 0,\n 1,\n 0,\n 0,\n 1,\n 0,\n 1,\n 0,\n 0,\n 0,\n 0,\n 0,\n 0,\n 0,\n 0,\n 1,\n 0,\n 0,\n 0,\n 0,\n 0,\n 0,\n 0,\n 1,\n 0,\n 0,\n 0,\n 1,\n 0,\n 0,\n 1,\n 1,\n 0,\n 0,\n 1,\n 0,\n 0,\n 0,\n 0,\n 0,\n 0,\n 1,\n 0,\n 0,\n 0,\n 0,\n 0,\n 0,\n 0,\n 0,\n 0,\n 0,\n 0,\n 0,\n 0,\n 0,\n 0,\n 1,\n 0,\n 0,\n 0,\n 0,\n 0,\n 0,\n 0,\n 0,\n 0,\n 0,\n 1,\n 0,\n 0,\n 0,\n 0,\n 0,\n 1,\n 0,\n 0,\n 1,\n 0,\n 0,\n 0,\n 0,\n 0,\n 0,\n 0,\n 0,\n 0,\n 0,\n 0,\n 0,\n 0,\n 1,\n 0,\n 0,\n 0,\n 0,\n 0,\n 1,\n 1,\n 0,\n 0,\n 1,\n 0,\n 0,\n 0,\n 1,\n 1,\n 0,\n 0,\n 0,\n 0,\n 0,\n 0,\n 0,\n 0,\n 0,\n 0,\n 0,\n 0,\n 1,\n 0,\n 0,\n 0,\n 0,\n 1,\n 0]"
     },
     "execution_count": 304,
     "metadata": {},
     "output_type": "execute_result"
    }
   ],
   "source": [
    "predicted_data\n",
    "# len(predicted_data)\n"
   ],
   "metadata": {
    "collapsed": false,
    "pycharm": {
     "name": "#%%\n"
    }
   }
  },
  {
   "cell_type": "code",
   "execution_count": 89,
   "outputs": [],
   "source": [],
   "metadata": {
    "collapsed": false,
    "pycharm": {
     "name": "#%%\n"
    }
   }
  }
 ],
 "metadata": {
  "kernelspec": {
   "display_name": "Python 3",
   "language": "python",
   "name": "python3"
  },
  "language_info": {
   "codemirror_mode": {
    "name": "ipython",
    "version": 2
   },
   "file_extension": ".py",
   "mimetype": "text/x-python",
   "name": "python",
   "nbconvert_exporter": "python",
   "pygments_lexer": "ipython2",
   "version": "2.7.6"
  }
 },
 "nbformat": 4,
 "nbformat_minor": 0
}