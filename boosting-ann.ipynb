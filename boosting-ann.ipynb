{
 "cells": [
  {
   "cell_type": "code",
   "execution_count": 5,
   "metadata": {
    "collapsed": true,
    "pycharm": {
     "name": "#%%\n"
    }
   },
   "outputs": [],
   "source": [
    "import math\n",
    "import random\n",
    "import tensorflow as tf\n",
    "import pandas as pd\n",
    "import numpy as np\n",
    "import matplotlib.pyplot as plt\n",
    "import imblearn"
   ]
  },
  {
   "cell_type": "code",
   "execution_count": 6,
   "outputs": [
    {
     "name": "stdout",
     "output_type": "stream",
     "text": [
      "2.10.0\n"
     ]
    }
   ],
   "source": [
    "print(tf.__version__)"
   ],
   "metadata": {
    "collapsed": false,
    "pycharm": {
     "name": "#%%\n"
    }
   }
  },
  {
   "cell_type": "code",
   "execution_count": 7,
   "outputs": [],
   "source": [
    "table = pd.read_table('./1663769555_8559356_train.txt', names=['binding','sequence'])"
   ],
   "metadata": {
    "collapsed": false,
    "pycharm": {
     "name": "#%%\n"
    }
   }
  },
  {
   "cell_type": "code",
   "execution_count": 8,
   "outputs": [],
   "source": [
    "from sklearn.feature_extraction.text import CountVectorizer\n",
    "def return_binary_vectorized_form(data_frame, feat = None):\n",
    "    if feat is None:\n",
    "        count_vectorizer = CountVectorizer(binary=True)\n",
    "    else:\n",
    "        count_vectorizer = CountVectorizer(binary=True, vocabulary=feat)\n",
    "    fitted_and_transformed = count_vectorizer.fit_transform(data_frame).toarray()\n",
    "    return count_vectorizer,  fitted_and_transformed"
   ],
   "metadata": {
    "collapsed": false,
    "pycharm": {
     "name": "#%%\n"
    }
   }
  },
  {
   "cell_type": "code",
   "execution_count": 9,
   "outputs": [],
   "source": [
    "from sklearn.feature_selection import SelectKBest, chi2\n",
    "def select_k_best_features(feature_set, target_values, fraction, feature_list):\n",
    "    select_bestselect_best = SelectKBest(score_func=chi2, k = int(len(feature_list)*fraction))\n",
    "    select_bestselect_best.fit(feature_set,target_values)\n",
    "    mask = select_bestselect_best.get_support()\n",
    "    k_best_featurs = feature_list[mask]\n",
    "    return k_best_featurs"
   ],
   "metadata": {
    "collapsed": false,
    "pycharm": {
     "name": "#%%\n"
    }
   }
  },
  {
   "cell_type": "code",
   "execution_count": 10,
   "outputs": [],
   "source": [
    "from sklearn.model_selection import train_test_split\n",
    "active_df = table.loc[table.binding == 1]\n",
    "not_active_df = table.loc[table.binding == 0]\n",
    "# Mainly spliting the data here for testing, that is the reason train size is set to .20\n",
    "active_train, active_test, active_binding_train, active_binding_test = train_test_split(active_df.sequence, active_df.binding, shuffle=True, train_size= .80)\n",
    "not_active_train, not_active_test, not_active_binding_train, not_active_binding_test = train_test_split(not_active_df.sequence, not_active_df.binding, shuffle=True, train_size=.90)"
   ],
   "metadata": {
    "collapsed": false,
    "pycharm": {
     "name": "#%%\n"
    }
   }
  },
  {
   "cell_type": "code",
   "execution_count": 11,
   "outputs": [],
   "source": [
    "def createDf(data):\n",
    "    pd_df = pd.DataFrame(data)\n",
    "    return pd_df\n",
    "def addColumn(copy_to, copy_from ,cname):\n",
    "    copy_to[cname] = copy_from[cname]\n",
    "    return copy_to"
   ],
   "metadata": {
    "collapsed": false,
    "pycharm": {
     "name": "#%%\n"
    }
   }
  },
  {
   "cell_type": "code",
   "execution_count": 12,
   "outputs": [
    {
     "name": "stdout",
     "output_type": "stream",
     "text": [
      "0    649\n",
      "1     62\n",
      "Name: binding, dtype: int64\n",
      "0    73\n",
      "1    16\n",
      "Name: binding, dtype: int64\n"
     ]
    }
   ],
   "source": [
    "active_test_df = pd.DataFrame(active_test)\n",
    "active_binding_test_df = pd.DataFrame(active_binding_test)\n",
    "active_test_df['binding'] = active_binding_test_df['binding']\n",
    "not_active_test_df = pd.DataFrame(not_active_test)\n",
    "not_active_binding_test_df = pd.DataFrame(not_active_binding_test)\n",
    "not_active_test_df['binding'] = not_active_binding_test_df['binding']\n",
    "active_train_df = createDf(active_train)\n",
    "active_binding_train_df = createDf(active_binding_train)\n",
    "active_train_df = addColumn(active_train_df, active_binding_train_df, 'binding')\n",
    "not_active_train_df = createDf(not_active_train)\n",
    "not_active_binding_train_df = createDf(not_active_binding_train)\n",
    "not_active_train_df = addColumn(not_active_train_df, not_active_binding_train_df, 'binding')\n",
    "train_df = pd.concat([active_train_df, not_active_train_df]).reset_index()\n",
    "train_df = train_df.drop('index', axis=1)\n",
    "print(train_df.binding.value_counts())\n",
    "test_df = pd.concat([active_test_df, not_active_test_df]).reset_index()\n",
    "test_df = test_df.drop('index', axis=1)\n",
    "print(test_df.binding.value_counts())\n",
    "from imblearn.over_sampling import RandomOverSampler\n",
    "\n",
    "sampler = RandomOverSampler(sampling_strategy=.90)\n",
    "x_sampled, y_sampled = sampler.fit_resample(np.array(train_df.sequence).reshape(-1, 1), train_df.binding)"
   ],
   "metadata": {
    "collapsed": false,
    "pycharm": {
     "name": "#%%\n"
    }
   }
  },
  {
   "cell_type": "code",
   "execution_count": 13,
   "outputs": [
    {
     "name": "stdout",
     "output_type": "stream",
     "text": [
      "0    649\n",
      "1    584\n",
      "Name: binding, dtype: int64\n",
      "0    73\n",
      "1    16\n",
      "Name: binding, dtype: int64\n"
     ]
    }
   ],
   "source": [
    "final_train_set = pd.DataFrame(x_sampled, columns  =[\"sequence\"])\n",
    "final_train_set['binding'] = y_sampled\n",
    "print(final_train_set.binding.value_counts())\n",
    "\n",
    "final_test_set = pd.DataFrame(test_df.sequence, columns  =[\"sequence\"])\n",
    "final_test_set['binding'] = test_df.binding\n",
    "print(final_test_set.binding.value_counts())"
   ],
   "metadata": {
    "collapsed": false,
    "pycharm": {
     "name": "#%%\n"
    }
   }
  },
  {
   "cell_type": "code",
   "execution_count": 14,
   "outputs": [],
   "source": [
    "train_result = np.array(final_train_set.binding)\n",
    "test_result = np.array(final_test_set.binding)"
   ],
   "metadata": {
    "collapsed": false,
    "pycharm": {
     "name": "#%%\n"
    }
   }
  },
  {
   "cell_type": "code",
   "execution_count": 15,
   "outputs": [],
   "source": [
    "vectorizer_best, training_split = return_binary_vectorized_form(final_train_set.sequence)\n",
    "test_split = vectorizer_best.transform(final_test_set.sequence).toarray()"
   ],
   "metadata": {
    "collapsed": false,
    "pycharm": {
     "name": "#%%\n"
    }
   }
  },
  {
   "cell_type": "code",
   "execution_count": 16,
   "outputs": [
    {
     "name": "stdout",
     "output_type": "stream",
     "text": [
      "(1233, 81953)\n",
      "(89, 81953)\n"
     ]
    }
   ],
   "source": [
    "print(training_split.shape)\n",
    "print(test_split.shape)"
   ],
   "metadata": {
    "collapsed": false,
    "pycharm": {
     "name": "#%%\n"
    }
   }
  },
  {
   "cell_type": "code",
   "execution_count": 17,
   "outputs": [],
   "source": [
    "initial_weight = np.ones(training_split.shape[0])*(1/training_split.shape[0])"
   ],
   "metadata": {
    "collapsed": false,
    "pycharm": {
     "name": "#%%\n"
    }
   }
  },
  {
   "cell_type": "code",
   "execution_count": 18,
   "outputs": [],
   "source": [
    "def updateWeight(missmatch, weight, alpha):\n",
    "    mi = 0\n",
    "    missmatch_size = len(missmatch)\n",
    "    wi = 0\n",
    "\n",
    "    new_weight = []\n",
    "    norm_constant = 0\n",
    "    while wi < len(weight):\n",
    "        if mi < missmatch_size and missmatch[mi] == wi:\n",
    "            k = weight[wi] * math.exp(alpha)\n",
    "            mi+=1\n",
    "        else:\n",
    "            k = weight[wi] * math.exp(-1*alpha)\n",
    "        new_weight.append( k )\n",
    "        norm_constant += k\n",
    "        wi += 1\n",
    "\n",
    "    new_weight /= norm_constant\n",
    "    sum =0\n",
    "    for i in new_weight:\n",
    "        sum+=i\n",
    "    print(sum)\n",
    "    # plt.plot(new_weight)\n",
    "    # plt.show()\n",
    "    return new_weight"
   ],
   "metadata": {
    "collapsed": false,
    "pycharm": {
     "name": "#%%\n"
    }
   }
  },
  {
   "cell_type": "code",
   "execution_count": 19,
   "outputs": [],
   "source": [
    "from sklearn.metrics import f1_score, accuracy_score, confusion_matrix\n",
    "def findMissClassificatonIndex(predicted, test_res, weight):\n",
    "    error_rate = 0\n",
    "    missmatch_indexes = []\n",
    "    incorrect= []\n",
    "    tn, fp, fn, tp = confusion_matrix(test_res, predicted).ravel()\n",
    "    precision = tp / (tp+ fp)\n",
    "    recall = tp / (tp+ fn)\n",
    "    score = (2 * precision * recall) / (precision + recall)\n",
    "    print(score)\n",
    "    print(accuracy_score(test_res, predicted))\n",
    "    for i, (pred, real) in enumerate(zip(predicted, test_res)):\n",
    "        if pred != real:\n",
    "            incorrect.append((i, pred, real))\n",
    "            missmatch_indexes.append(i)\n",
    "            error_rate += weight[i]\n",
    "    error_rate /= len(predicted)\n",
    "    # print(incorrect)\n",
    "    return error_rate, missmatch_indexes"
   ],
   "metadata": {
    "collapsed": false,
    "pycharm": {
     "name": "#%%\n"
    }
   }
  },
  {
   "cell_type": "code",
   "execution_count": 20,
   "outputs": [],
   "source": [
    "def rejectionSampling(train_data, train_res, weights):\n",
    "    samplesize  = int(4 * len(train_data))\n",
    "    new_train_data = []\n",
    "    new_train_res = []\n",
    "    new_weights = []\n",
    "    adding_index =[]\n",
    "    max_w = max(weights)\n",
    "\n",
    "    for i in range(samplesize):\n",
    "        while True:\n",
    "            index = random.randrange(len(weights))\n",
    "            u = max_w * random.random()\n",
    "            if u <= weights[index]:\n",
    "                new_train_data.append(train_data[index])\n",
    "                new_train_res.append(train_res[index])\n",
    "                adding_index.append(index)\n",
    "                break\n",
    "    # print(adding_index)\n",
    "    return np.array(new_train_data), np.array(new_train_res)"
   ],
   "metadata": {
    "collapsed": false,
    "pycharm": {
     "name": "#%%\n"
    }
   }
  },
  {
   "cell_type": "code",
   "execution_count": 21,
   "outputs": [],
   "source": [
    "def resample(train_data, train_res, weights):\n",
    "    size = len(train_data)\n",
    "    indexes = np.random.choice(int(size), int( 5 * size), replace=True, p=weights)\n",
    "    new_train_data = []\n",
    "    new_train_res = []\n",
    "    for index in indexes:\n",
    "         new_train_data.append(train_data[index])\n",
    "         new_train_res.append(train_res[index])\n",
    "    return np.array(new_train_data), np.array(new_train_res)"
   ],
   "metadata": {
    "collapsed": false,
    "pycharm": {
     "name": "#%%\n"
    }
   }
  },
  {
   "cell_type": "code",
   "execution_count": 22,
   "outputs": [],
   "source": [
    "class EarlyStoppingMonitor(tf.keras.callbacks.Callback):\n",
    "    def __init__(self):\n",
    "        super(EarlyStoppingMonitor, self).__init__()\n",
    "        self.f1_train = None\n",
    "        self.f1_test = None\n",
    "        self.prevous = None\n",
    "        self.count =0\n",
    "\n",
    "    def on_epoch_end(self, epoch, logs=None):\n",
    "        current_train_precision = logs.get('precision')\n",
    "        current_train_recall= logs.get('recall')\n",
    "        if current_train_precision==0 or current_train_recall==0:\n",
    "            print(\"**** Waring: precision recall zero avoid exception ****\")\n",
    "            return\n",
    "        self.f1_train = (2*current_train_precision*current_train_recall) / (current_train_precision+current_train_recall)\n",
    "        if self.prevous == None:\n",
    "            self.prevous = self.f1_train\n",
    "        if self.prevous == self.f1_train:\n",
    "            self.count += 1\n",
    "        else:\n",
    "            self.prevous = self.f1_train\n",
    "            self.count = 0\n",
    "        if self.count == 5:\n",
    "            self.model.stop_training = True\n",
    "            print('\\n\\n******* No improvements *******')\n",
    "        if abs(self.f1_train) > .85:\n",
    "            # self.count += 1\n",
    "            # if self.count >4:\n",
    "            self.model.stop_training = True\n",
    "            print('\\n\\n******* Stoping on Defined Thresold *******')\n",
    "            print('F1 TRAINING: ', self.f1_train)\n",
    "\n",
    "    def on_train_end(self, logs=None):\n",
    "        if self.model.stop_training:\n",
    "            print(\"\\n\\n\\n****** Early Stopping *******\")"
   ],
   "metadata": {
    "collapsed": false,
    "pycharm": {
     "name": "#%%\n"
    }
   }
  },
  {
   "cell_type": "code",
   "execution_count": 23,
   "outputs": [],
   "source": [
    "def createBaseModel():\n",
    "    model = tf.keras.Sequential([\n",
    "        tf.keras.Input(shape=(training_split.shape[-1],)),\n",
    "        tf.keras.layers.Dense(2,activation='relu',kernel_regularizer=tf.keras.regularizers.L1(.015)),\n",
    "        tf.keras.layers.Dense(1, activation='sigmoid')\n",
    "    ])\n",
    "\n",
    "    METRICS = [\n",
    "      tf.keras.metrics.TruePositives(name='tp'),\n",
    "      tf.keras.metrics.FalsePositives(name='fp'),\n",
    "      tf.keras.metrics.TrueNegatives(name='tn'),\n",
    "      tf.keras.metrics.FalseNegatives(name='fn'),\n",
    "      tf.keras.metrics.Precision(name='precision'),\n",
    "      tf.keras.metrics.Recall(name='recall')\n",
    "    ]\n",
    "\n",
    "    model.compile(loss=tf.keras.losses.BinaryFocalCrossentropy(), metrics=METRICS, optimizer='adam')\n",
    "\n",
    "    return model"
   ],
   "metadata": {
    "collapsed": false,
    "pycharm": {
     "name": "#%%\n"
    }
   }
  },
  {
   "cell_type": "code",
   "execution_count": 24,
   "outputs": [],
   "source": [
    "ensemble_size = 12\n",
    "ensemble = []\n",
    "alphas = []\n",
    "def boosting(weights):\n",
    "\n",
    "    for i in range(ensemble_size):\n",
    "        train_data, train_res = resample(training_split, train_result, weights)\n",
    "        model = createBaseModel()\n",
    "        num_epochs = 50\n",
    "        print( \"bfore traning: \", ((sum(train_res)/len(train_res)))*100)\n",
    "        history = model.fit(train_data, train_res,\n",
    "                    epochs= num_epochs,\n",
    "                    batch_size=70,\n",
    "                    callbacks=[EarlyStoppingMonitor()])\n",
    "        predicted_result = model.predict(training_split)\n",
    "        predicted_result = [1 if i>=.5 else 0 for i in predicted_result ]\n",
    "        error_rate, error_indexes = findMissClassificatonIndex(predicted_result, train_result, weights)\n",
    "        print(\"error_rate:\", error_rate)\n",
    "\n",
    "        if error_rate > .5:\n",
    "            weights = np.ones(training_split.shape[0]) * (1/training_split.shape[0])\n",
    "            print(\"re-balancing and training because error:\", error_rate)\n",
    "            continue\n",
    "\n",
    "        amount_of_say = 0.2 * ( math.log( (1-error_rate) / error_rate ) )\n",
    "        alphas.append(amount_of_say)\n",
    "        ensemble.append(model)\n",
    "        weights = updateWeight(error_indexes, weights, amount_of_say)\n"
   ],
   "metadata": {
    "collapsed": false,
    "pycharm": {
     "name": "#%%\n"
    }
   }
  },
  {
   "cell_type": "code",
   "execution_count": 25,
   "outputs": [
    {
     "name": "stderr",
     "output_type": "stream",
     "text": [
      "2022-11-10 03:08:20.481138: I tensorflow/core/common_runtime/pluggable_device/pluggable_device_factory.cc:306] Could not identify NUMA node of platform GPU ID 0, defaulting to 0. Your kernel may not have been built with NUMA support.\n",
      "2022-11-10 03:08:20.486400: I tensorflow/core/common_runtime/pluggable_device/pluggable_device_factory.cc:272] Created TensorFlow device (/job:localhost/replica:0/task:0/device:GPU:0 with 0 MB memory) -> physical PluggableDevice (device: 0, name: METAL, pci bus id: <undefined>)\n"
     ]
    },
    {
     "name": "stdout",
     "output_type": "stream",
     "text": [
      "Metal device set to: Apple M1\n",
      "bfore traning:  47.99675587996756\n",
      "Epoch 1/50\n"
     ]
    },
    {
     "name": "stderr",
     "output_type": "stream",
     "text": [
      "2022-11-10 03:08:21.768672: W tensorflow/core/platform/profile_utils/cpu_utils.cc:128] Failed to get CPU frequency: 0 Hz\n",
      "2022-11-10 03:08:22.032063: I tensorflow/core/grappler/optimizers/custom_graph_optimizer_registry.cc:114] Plugin optimizer for device_type GPU is enabled.\n"
     ]
    },
    {
     "name": "stdout",
     "output_type": "stream",
     "text": [
      "89/89 [==============================] - 2s 18ms/step - loss: 1.2113 - tp: 2276.0000 - fp: 139.0000 - tn: 3067.0000 - fn: 683.0000 - precision: 0.9424 - recall: 0.7692\n",
      "Epoch 2/50\n",
      "89/89 [==============================] - 1s 17ms/step - loss: 0.4914 - tp: 2083.0000 - fp: 78.0000 - tn: 3128.0000 - fn: 876.0000 - precision: 0.9639 - recall: 0.7040\n",
      "Epoch 3/50\n",
      "89/89 [==============================] - 1s 16ms/step - loss: 0.4864 - tp: 2129.0000 - fp: 73.0000 - tn: 3133.0000 - fn: 830.0000 - precision: 0.9668 - recall: 0.7195\n",
      "Epoch 4/50\n",
      "89/89 [==============================] - 1s 17ms/step - loss: 0.4891 - tp: 2126.0000 - fp: 75.0000 - tn: 3131.0000 - fn: 833.0000 - precision: 0.9659 - recall: 0.7185\n",
      "Epoch 5/50\n",
      "89/89 [==============================] - 1s 16ms/step - loss: 0.4900 - tp: 2186.0000 - fp: 74.0000 - tn: 3132.0000 - fn: 773.0000 - precision: 0.9673 - recall: 0.7388\n",
      "Epoch 6/50\n",
      "89/89 [==============================] - ETA: 0s - loss: 0.4845 - tp: 2278.0000 - fp: 73.0000 - tn: 3133.0000 - fn: 681.0000 - precision: 0.9689 - recall: 0.7699\n",
      "\n",
      "******* Stoping on Defined Thresold *******\n",
      "F1 TRAINING:  0.8580037914266827\n",
      "89/89 [==============================] - 1s 17ms/step - loss: 0.4845 - tp: 2278.0000 - fp: 73.0000 - tn: 3133.0000 - fn: 681.0000 - precision: 0.9689 - recall: 0.7699\n",
      "\n",
      "\n",
      "\n",
      "****** Early Stopping *******\n",
      "23/39 [================>.............] - ETA: 0s"
     ]
    },
    {
     "name": "stderr",
     "output_type": "stream",
     "text": [
      "2022-11-10 03:08:31.744675: I tensorflow/core/grappler/optimizers/custom_graph_optimizer_registry.cc:114] Plugin optimizer for device_type GPU is enabled.\n"
     ]
    },
    {
     "name": "stdout",
     "output_type": "stream",
     "text": [
      "39/39 [==============================] - 0s 5ms/step\n",
      "0.7257203842049093\n",
      "0.7915652879156528\n",
      "error_rate: 0.0001690468062322365\n",
      "0.9999999999999812\n",
      "bfore traning:  88.71046228710462\n",
      "Epoch 1/50\n"
     ]
    },
    {
     "name": "stderr",
     "output_type": "stream",
     "text": [
      "2022-11-10 03:08:34.877307: I tensorflow/core/grappler/optimizers/custom_graph_optimizer_registry.cc:114] Plugin optimizer for device_type GPU is enabled.\n"
     ]
    },
    {
     "name": "stdout",
     "output_type": "stream",
     "text": [
      "89/89 [==============================] - ETA: 0s - loss: 1.2153 - tp: 5251.0000 - fp: 658.0000 - tn: 38.0000 - fn: 218.0000 - precision: 0.8886 - recall: 0.9601\n",
      "\n",
      "******* Stoping on Defined Thresold *******\n",
      "F1 TRAINING:  0.9230093302649133\n",
      "89/89 [==============================] - 2s 23ms/step - loss: 1.2153 - tp: 5251.0000 - fp: 658.0000 - tn: 38.0000 - fn: 218.0000 - precision: 0.8886 - recall: 0.9601\n",
      "\n",
      "\n",
      "\n",
      "****** Early Stopping *******\n",
      "16/39 [===========>..................] - ETA: 0s"
     ]
    },
    {
     "name": "stderr",
     "output_type": "stream",
     "text": [
      "2022-11-10 03:08:37.506076: I tensorflow/core/grappler/optimizers/custom_graph_optimizer_registry.cc:114] Plugin optimizer for device_type GPU is enabled.\n"
     ]
    },
    {
     "name": "stdout",
     "output_type": "stream",
     "text": [
      "39/39 [==============================] - 0s 7ms/step\n",
      "0.6231155778894473\n",
      "0.45255474452554745\n",
      "error_rate: 0.000165765606204202\n",
      "1.0000000000000129\n",
      "bfore traning:  50.08921330089213\n",
      "Epoch 1/50\n"
     ]
    },
    {
     "name": "stderr",
     "output_type": "stream",
     "text": [
      "2022-11-10 03:08:40.850444: I tensorflow/core/grappler/optimizers/custom_graph_optimizer_registry.cc:114] Plugin optimizer for device_type GPU is enabled.\n"
     ]
    },
    {
     "name": "stdout",
     "output_type": "stream",
     "text": [
      "89/89 [==============================] - 2s 22ms/step - loss: 1.1688 - tp: 2490.0000 - fp: 281.0000 - tn: 2796.0000 - fn: 598.0000 - precision: 0.8986 - recall: 0.8063\n",
      "Epoch 2/50\n",
      "87/89 [============================>.] - ETA: 0s - loss: 0.4148 - tp: 2443.0000 - fp: 31.0000 - tn: 3010.0000 - fn: 606.0000 - precision: 0.9875 - recall: 0.8012\n",
      "\n",
      "******* Stoping on Defined Thresold *******\n",
      "F1 TRAINING:  0.8850759458743261\n",
      "89/89 [==============================] - 2s 20ms/step - loss: 0.4147 - tp: 2476.0000 - fp: 31.0000 - tn: 3046.0000 - fn: 612.0000 - precision: 0.9876 - recall: 0.8018\n",
      "\n",
      "\n",
      "\n",
      "****** Early Stopping *******\n",
      "17/39 [============>.................] - ETA: 0s"
     ]
    },
    {
     "name": "stderr",
     "output_type": "stream",
     "text": [
      "2022-11-10 03:08:45.266640: I tensorflow/core/grappler/optimizers/custom_graph_optimizer_registry.cc:114] Plugin optimizer for device_type GPU is enabled.\n"
     ]
    },
    {
     "name": "stdout",
     "output_type": "stream",
     "text": [
      "39/39 [==============================] - 0s 7ms/step\n",
      "0.20121951219512194\n",
      "0.5750202757502028\n",
      "error_rate: 7.381740503782987e-05\n",
      "0.9999999999999887\n",
      "bfore traning:  88.24006488240065\n",
      "Epoch 1/50\n"
     ]
    },
    {
     "name": "stderr",
     "output_type": "stream",
     "text": [
      "2022-11-10 03:08:48.397664: I tensorflow/core/grappler/optimizers/custom_graph_optimizer_registry.cc:114] Plugin optimizer for device_type GPU is enabled.\n"
     ]
    },
    {
     "name": "stdout",
     "output_type": "stream",
     "text": [
      "89/89 [==============================] - ETA: 0s - loss: 1.1595 - tp: 5399.0000 - fp: 708.0000 - tn: 17.0000 - fn: 41.0000 - precision: 0.8841 - recall: 0.9925\n",
      "\n",
      "******* Stoping on Defined Thresold *******\n",
      "F1 TRAINING:  0.9351346719868904\n",
      "89/89 [==============================] - 2s 22ms/step - loss: 1.1595 - tp: 5399.0000 - fp: 708.0000 - tn: 17.0000 - fn: 41.0000 - precision: 0.8841 - recall: 0.9925\n",
      "\n",
      "\n",
      "\n",
      "****** Early Stopping *******\n",
      "24/39 [=================>............] - ETA: 0s"
     ]
    },
    {
     "name": "stderr",
     "output_type": "stream",
     "text": [
      "2022-11-10 03:08:51.040208: I tensorflow/core/grappler/optimizers/custom_graph_optimizer_registry.cc:114] Plugin optimizer for device_type GPU is enabled.\n"
     ]
    },
    {
     "name": "stdout",
     "output_type": "stream",
     "text": [
      "39/39 [==============================] - 0s 7ms/step\n",
      "0.6428178315905339\n",
      "0.47364152473641524\n",
      "error_rate: 0.0001008737517982596\n",
      "1.0000000000000042\n",
      "bfore traning:  15.085158150851582\n",
      "Epoch 1/50\n"
     ]
    },
    {
     "name": "stderr",
     "output_type": "stream",
     "text": [
      "2022-11-10 03:08:54.218184: I tensorflow/core/grappler/optimizers/custom_graph_optimizer_registry.cc:114] Plugin optimizer for device_type GPU is enabled.\n"
     ]
    },
    {
     "name": "stdout",
     "output_type": "stream",
     "text": [
      "89/89 [==============================] - 2s 22ms/step - loss: 1.2128 - tp: 166.0000 - fp: 215.0000 - tn: 5020.0000 - fn: 764.0000 - precision: 0.4357 - recall: 0.1785\n",
      "Epoch 2/50\n",
      "89/89 [==============================] - 2s 20ms/step - loss: 0.4620 - tp: 42.0000 - fp: 2.0000 - tn: 5233.0000 - fn: 888.0000 - precision: 0.9545 - recall: 0.0452\n",
      "Epoch 3/50\n",
      "89/89 [==============================] - 2s 20ms/step - loss: 0.4533 - tp: 8.0000 - fp: 17.0000 - tn: 5218.0000 - fn: 922.0000 - precision: 0.3200 - recall: 0.0086\n",
      "Epoch 4/50\n",
      "89/89 [==============================] - 2s 20ms/step - loss: 0.4386 - tp: 9.0000 - fp: 0.0000e+00 - tn: 5235.0000 - fn: 921.0000 - precision: 1.0000 - recall: 0.0097\n",
      "Epoch 5/50\n",
      "89/89 [==============================] - 2s 20ms/step - loss: 0.4336 - tp: 20.0000 - fp: 0.0000e+00 - tn: 5235.0000 - fn: 910.0000 - precision: 1.0000 - recall: 0.0215\n",
      "Epoch 6/50\n",
      "89/89 [==============================] - 2s 20ms/step - loss: 0.4311 - tp: 19.0000 - fp: 0.0000e+00 - tn: 5235.0000 - fn: 911.0000 - precision: 1.0000 - recall: 0.0204\n",
      "Epoch 7/50\n",
      "89/89 [==============================] - 2s 20ms/step - loss: 0.4236 - tp: 13.0000 - fp: 0.0000e+00 - tn: 5235.0000 - fn: 917.0000 - precision: 1.0000 - recall: 0.0140\n",
      "Epoch 8/50\n",
      "88/89 [============================>.] - ETA: 0s - loss: 0.4205 - tp: 0.0000e+00 - fp: 0.0000e+00 - tn: 5230.0000 - fn: 930.0000 - precision: 0.0000e+00 - recall: 0.0000e+00**** Waring: precision recall zero avoid exception ****\n",
      "89/89 [==============================] - 2s 20ms/step - loss: 0.4205 - tp: 0.0000e+00 - fp: 0.0000e+00 - tn: 5235.0000 - fn: 930.0000 - precision: 0.0000e+00 - recall: 0.0000e+00\n",
      "Epoch 9/50\n",
      "89/89 [==============================] - 2s 20ms/step - loss: 0.4244 - tp: 18.0000 - fp: 0.0000e+00 - tn: 5235.0000 - fn: 912.0000 - precision: 1.0000 - recall: 0.0194\n",
      "Epoch 10/50\n",
      "89/89 [==============================] - 2s 20ms/step - loss: 0.4210 - tp: 11.0000 - fp: 0.0000e+00 - tn: 5235.0000 - fn: 919.0000 - precision: 1.0000 - recall: 0.0118\n",
      "Epoch 11/50\n",
      "89/89 [==============================] - 2s 20ms/step - loss: 0.4195 - tp: 10.0000 - fp: 0.0000e+00 - tn: 5235.0000 - fn: 920.0000 - precision: 1.0000 - recall: 0.0108\n",
      "Epoch 12/50\n",
      "89/89 [==============================] - 2s 20ms/step - loss: 0.4250 - tp: 14.0000 - fp: 0.0000e+00 - tn: 5235.0000 - fn: 916.0000 - precision: 1.0000 - recall: 0.0151\n",
      "Epoch 13/50\n",
      "89/89 [==============================] - 2s 20ms/step - loss: 0.4187 - tp: 2.0000 - fp: 0.0000e+00 - tn: 5235.0000 - fn: 928.0000 - precision: 1.0000 - recall: 0.0022\n",
      "Epoch 14/50\n",
      "89/89 [==============================] - 2s 20ms/step - loss: 0.4163 - tp: 6.0000 - fp: 0.0000e+00 - tn: 5235.0000 - fn: 924.0000 - precision: 1.0000 - recall: 0.0065\n",
      "Epoch 15/50\n",
      "89/89 [==============================] - 2s 20ms/step - loss: 0.4181 - tp: 18.0000 - fp: 0.0000e+00 - tn: 5235.0000 - fn: 912.0000 - precision: 1.0000 - recall: 0.0194\n",
      "Epoch 16/50\n",
      "89/89 [==============================] - 2s 20ms/step - loss: 0.4213 - tp: 19.0000 - fp: 0.0000e+00 - tn: 5235.0000 - fn: 911.0000 - precision: 1.0000 - recall: 0.0204\n",
      "Epoch 17/50\n",
      "89/89 [==============================] - 2s 20ms/step - loss: 0.4176 - tp: 13.0000 - fp: 0.0000e+00 - tn: 5235.0000 - fn: 917.0000 - precision: 1.0000 - recall: 0.0140\n",
      "Epoch 18/50\n",
      "89/89 [==============================] - 2s 20ms/step - loss: 0.4203 - tp: 21.0000 - fp: 0.0000e+00 - tn: 5235.0000 - fn: 909.0000 - precision: 1.0000 - recall: 0.0226\n",
      "Epoch 19/50\n",
      "89/89 [==============================] - 2s 20ms/step - loss: 0.4174 - tp: 22.0000 - fp: 0.0000e+00 - tn: 5235.0000 - fn: 908.0000 - precision: 1.0000 - recall: 0.0237\n",
      "Epoch 20/50\n",
      "89/89 [==============================] - 2s 20ms/step - loss: 0.4190 - tp: 27.0000 - fp: 0.0000e+00 - tn: 5235.0000 - fn: 903.0000 - precision: 1.0000 - recall: 0.0290\n",
      "Epoch 21/50\n",
      "89/89 [==============================] - 2s 20ms/step - loss: 0.4183 - tp: 30.0000 - fp: 0.0000e+00 - tn: 5235.0000 - fn: 900.0000 - precision: 1.0000 - recall: 0.0323\n",
      "Epoch 22/50\n",
      "89/89 [==============================] - 2s 20ms/step - loss: 0.4173 - tp: 15.0000 - fp: 0.0000e+00 - tn: 5235.0000 - fn: 915.0000 - precision: 1.0000 - recall: 0.0161\n",
      "Epoch 23/50\n",
      "89/89 [==============================] - 2s 20ms/step - loss: 0.4194 - tp: 24.0000 - fp: 0.0000e+00 - tn: 5235.0000 - fn: 906.0000 - precision: 1.0000 - recall: 0.0258\n",
      "Epoch 24/50\n",
      "89/89 [==============================] - 2s 20ms/step - loss: 0.4165 - tp: 8.0000 - fp: 0.0000e+00 - tn: 5235.0000 - fn: 922.0000 - precision: 1.0000 - recall: 0.0086\n",
      "Epoch 25/50\n",
      "89/89 [==============================] - 2s 20ms/step - loss: 0.4135 - tp: 4.0000 - fp: 0.0000e+00 - tn: 5235.0000 - fn: 926.0000 - precision: 1.0000 - recall: 0.0043\n",
      "Epoch 26/50\n",
      "89/89 [==============================] - 2s 20ms/step - loss: 0.4134 - tp: 5.0000 - fp: 0.0000e+00 - tn: 5235.0000 - fn: 925.0000 - precision: 1.0000 - recall: 0.0054\n",
      "Epoch 27/50\n",
      "89/89 [==============================] - 2s 20ms/step - loss: 0.4134 - tp: 9.0000 - fp: 0.0000e+00 - tn: 5235.0000 - fn: 921.0000 - precision: 1.0000 - recall: 0.0097\n",
      "Epoch 28/50\n",
      "89/89 [==============================] - 2s 20ms/step - loss: 0.4155 - tp: 11.0000 - fp: 0.0000e+00 - tn: 5235.0000 - fn: 919.0000 - precision: 1.0000 - recall: 0.0118\n",
      "Epoch 29/50\n",
      "89/89 [==============================] - 2s 20ms/step - loss: 0.4142 - tp: 9.0000 - fp: 0.0000e+00 - tn: 5235.0000 - fn: 921.0000 - precision: 1.0000 - recall: 0.0097\n",
      "Epoch 30/50\n",
      "89/89 [==============================] - 2s 20ms/step - loss: 0.4148 - tp: 8.0000 - fp: 0.0000e+00 - tn: 5235.0000 - fn: 922.0000 - precision: 1.0000 - recall: 0.0086\n",
      "Epoch 31/50\n",
      "89/89 [==============================] - 2s 20ms/step - loss: 0.4141 - tp: 16.0000 - fp: 0.0000e+00 - tn: 5235.0000 - fn: 914.0000 - precision: 1.0000 - recall: 0.0172\n",
      "Epoch 32/50\n",
      "89/89 [==============================] - 2s 20ms/step - loss: 0.4142 - tp: 10.0000 - fp: 0.0000e+00 - tn: 5235.0000 - fn: 920.0000 - precision: 1.0000 - recall: 0.0108\n",
      "Epoch 33/50\n",
      "89/89 [==============================] - 2s 20ms/step - loss: 0.4156 - tp: 8.0000 - fp: 0.0000e+00 - tn: 5235.0000 - fn: 922.0000 - precision: 1.0000 - recall: 0.0086\n",
      "Epoch 34/50\n",
      "89/89 [==============================] - 2s 20ms/step - loss: 0.4158 - tp: 18.0000 - fp: 0.0000e+00 - tn: 5235.0000 - fn: 912.0000 - precision: 1.0000 - recall: 0.0194\n",
      "Epoch 35/50\n",
      "89/89 [==============================] - 2s 20ms/step - loss: 0.4136 - tp: 13.0000 - fp: 0.0000e+00 - tn: 5235.0000 - fn: 917.0000 - precision: 1.0000 - recall: 0.0140\n",
      "Epoch 36/50\n",
      "89/89 [==============================] - 2s 20ms/step - loss: 0.4142 - tp: 13.0000 - fp: 0.0000e+00 - tn: 5235.0000 - fn: 917.0000 - precision: 1.0000 - recall: 0.0140\n",
      "Epoch 37/50\n",
      "89/89 [==============================] - 2s 20ms/step - loss: 0.4706 - tp: 60.0000 - fp: 22.0000 - tn: 5213.0000 - fn: 870.0000 - precision: 0.7317 - recall: 0.0645\n",
      "Epoch 38/50\n",
      "89/89 [==============================] - 2s 20ms/step - loss: 0.4348 - tp: 124.0000 - fp: 0.0000e+00 - tn: 5235.0000 - fn: 806.0000 - precision: 1.0000 - recall: 0.1333\n",
      "Epoch 39/50\n",
      "89/89 [==============================] - 2s 20ms/step - loss: 0.4322 - tp: 256.0000 - fp: 0.0000e+00 - tn: 5235.0000 - fn: 674.0000 - precision: 1.0000 - recall: 0.2753\n",
      "Epoch 40/50\n",
      "89/89 [==============================] - 2s 20ms/step - loss: 0.4380 - tp: 387.0000 - fp: 0.0000e+00 - tn: 5235.0000 - fn: 543.0000 - precision: 1.0000 - recall: 0.4161\n",
      "Epoch 41/50\n",
      "89/89 [==============================] - 2s 20ms/step - loss: 0.4351 - tp: 449.0000 - fp: 0.0000e+00 - tn: 5235.0000 - fn: 481.0000 - precision: 1.0000 - recall: 0.4828\n",
      "Epoch 42/50\n",
      "89/89 [==============================] - 2s 20ms/step - loss: 0.4358 - tp: 520.0000 - fp: 1.0000 - tn: 5234.0000 - fn: 410.0000 - precision: 0.9981 - recall: 0.5591\n",
      "Epoch 43/50\n",
      "89/89 [==============================] - 2s 20ms/step - loss: 0.4481 - tp: 558.0000 - fp: 1.0000 - tn: 5234.0000 - fn: 372.0000 - precision: 0.9982 - recall: 0.6000\n",
      "Epoch 44/50\n",
      "89/89 [==============================] - 2s 20ms/step - loss: 0.4268 - tp: 562.0000 - fp: 1.0000 - tn: 5234.0000 - fn: 368.0000 - precision: 0.9982 - recall: 0.6043\n",
      "Epoch 45/50\n",
      "89/89 [==============================] - 2s 20ms/step - loss: 0.4350 - tp: 614.0000 - fp: 2.0000 - tn: 5233.0000 - fn: 316.0000 - precision: 0.9968 - recall: 0.6602\n",
      "Epoch 46/50\n",
      "89/89 [==============================] - 2s 20ms/step - loss: 0.4232 - tp: 631.0000 - fp: 2.0000 - tn: 5233.0000 - fn: 299.0000 - precision: 0.9968 - recall: 0.6785\n",
      "Epoch 47/50\n",
      "89/89 [==============================] - 2s 20ms/step - loss: 0.4255 - tp: 661.0000 - fp: 2.0000 - tn: 5233.0000 - fn: 269.0000 - precision: 0.9970 - recall: 0.7108\n",
      "Epoch 48/50\n",
      "89/89 [==============================] - 2s 20ms/step - loss: 0.4276 - tp: 646.0000 - fp: 2.0000 - tn: 5233.0000 - fn: 284.0000 - precision: 0.9969 - recall: 0.6946\n",
      "Epoch 49/50\n",
      "89/89 [==============================] - 2s 20ms/step - loss: 0.4367 - tp: 687.0000 - fp: 3.0000 - tn: 5232.0000 - fn: 243.0000 - precision: 0.9957 - recall: 0.7387\n",
      "Epoch 50/50\n",
      "88/89 [============================>.] - ETA: 0s - loss: 0.4399 - tp: 698.0000 - fp: 1.0000 - tn: 5230.0000 - fn: 231.0000 - precision: 0.9986 - recall: 0.7513\n",
      "\n",
      "******* Stoping on Defined Thresold *******\n",
      "F1 TRAINING:  0.8569674806024222\n",
      "89/89 [==============================] - 2s 20ms/step - loss: 0.4400 - tp: 698.0000 - fp: 1.0000 - tn: 5234.0000 - fn: 232.0000 - precision: 0.9986 - recall: 0.7505\n",
      "\n",
      "\n",
      "\n",
      "****** Early Stopping *******\n",
      "17/39 [============>.................] - ETA: 0s"
     ]
    },
    {
     "name": "stderr",
     "output_type": "stream",
     "text": [
      "2022-11-10 03:10:24.667285: I tensorflow/core/grappler/optimizers/custom_graph_optimizer_registry.cc:114] Plugin optimizer for device_type GPU is enabled.\n"
     ]
    },
    {
     "name": "stdout",
     "output_type": "stream",
     "text": [
      "39/39 [==============================] - 0s 7ms/step\n",
      "0.4038199181446112\n",
      "0.6455798864557989\n",
      "error_rate: 3.5881666976810835e-05\n",
      "1.0000000000000082\n",
      "bfore traning:  75.47445255474453\n",
      "Epoch 1/50\n"
     ]
    },
    {
     "name": "stderr",
     "output_type": "stream",
     "text": [
      "2022-11-10 03:10:28.101589: I tensorflow/core/grappler/optimizers/custom_graph_optimizer_registry.cc:114] Plugin optimizer for device_type GPU is enabled.\n"
     ]
    },
    {
     "name": "stdout",
     "output_type": "stream",
     "text": [
      "89/89 [==============================] - ETA: 0s - loss: 1.1680 - tp: 4589.0000 - fp: 1498.0000 - tn: 14.0000 - fn: 64.0000 - precision: 0.7539 - recall: 0.9862\n",
      "\n",
      "******* Stoping on Defined Thresold *******\n",
      "F1 TRAINING:  0.8545624052441517\n",
      "89/89 [==============================] - 2s 19ms/step - loss: 1.1680 - tp: 4589.0000 - fp: 1498.0000 - tn: 14.0000 - fn: 64.0000 - precision: 0.7539 - recall: 0.9862\n",
      "\n",
      "\n",
      "\n",
      "****** Early Stopping *******\n",
      "22/39 [===============>..............] - ETA: 0s"
     ]
    },
    {
     "name": "stderr",
     "output_type": "stream",
     "text": [
      "2022-11-10 03:10:30.415336: I tensorflow/core/grappler/optimizers/custom_graph_optimizer_registry.cc:114] Plugin optimizer for device_type GPU is enabled.\n"
     ]
    },
    {
     "name": "stdout",
     "output_type": "stream",
     "text": [
      "39/39 [==============================] - 0s 5ms/step\n",
      "0.6428178315905339\n",
      "0.47364152473641524\n",
      "error_rate: 0.00019935376978167003\n",
      "1.0000000000000109\n",
      "bfore traning:  9.115977291159773\n",
      "Epoch 1/50\n"
     ]
    },
    {
     "name": "stderr",
     "output_type": "stream",
     "text": [
      "2022-11-10 03:10:33.525870: I tensorflow/core/grappler/optimizers/custom_graph_optimizer_registry.cc:114] Plugin optimizer for device_type GPU is enabled.\n"
     ]
    },
    {
     "name": "stdout",
     "output_type": "stream",
     "text": [
      "89/89 [==============================] - 3s 23ms/step - loss: 1.2188 - tp: 104.0000 - fp: 66.0000 - tn: 5537.0000 - fn: 458.0000 - precision: 0.6118 - recall: 0.1851\n",
      "Epoch 2/50\n",
      "89/89 [==============================] - 2s 20ms/step - loss: 0.4516 - tp: 103.0000 - fp: 0.0000e+00 - tn: 5603.0000 - fn: 459.0000 - precision: 1.0000 - recall: 0.1833\n",
      "Epoch 3/50\n",
      "89/89 [==============================] - 2s 20ms/step - loss: 0.4313 - tp: 111.0000 - fp: 0.0000e+00 - tn: 5603.0000 - fn: 451.0000 - precision: 1.0000 - recall: 0.1975\n",
      "Epoch 4/50\n",
      "89/89 [==============================] - 2s 20ms/step - loss: 0.4321 - tp: 128.0000 - fp: 17.0000 - tn: 5586.0000 - fn: 434.0000 - precision: 0.8828 - recall: 0.2278\n",
      "Epoch 5/50\n",
      "89/89 [==============================] - 2s 20ms/step - loss: 0.4048 - tp: 113.0000 - fp: 0.0000e+00 - tn: 5603.0000 - fn: 449.0000 - precision: 1.0000 - recall: 0.2011\n",
      "Epoch 6/50\n",
      "89/89 [==============================] - 2s 20ms/step - loss: 0.4001 - tp: 127.0000 - fp: 0.0000e+00 - tn: 5603.0000 - fn: 435.0000 - precision: 1.0000 - recall: 0.2260\n",
      "Epoch 7/50\n",
      "89/89 [==============================] - 2s 20ms/step - loss: 0.4083 - tp: 151.0000 - fp: 0.0000e+00 - tn: 5603.0000 - fn: 411.0000 - precision: 1.0000 - recall: 0.2687\n",
      "Epoch 8/50\n",
      "89/89 [==============================] - 2s 20ms/step - loss: 0.4043 - tp: 206.0000 - fp: 0.0000e+00 - tn: 5603.0000 - fn: 356.0000 - precision: 1.0000 - recall: 0.3665\n",
      "Epoch 9/50\n",
      "89/89 [==============================] - 2s 20ms/step - loss: 0.4030 - tp: 210.0000 - fp: 0.0000e+00 - tn: 5603.0000 - fn: 352.0000 - precision: 1.0000 - recall: 0.3737\n",
      "Epoch 10/50\n",
      "89/89 [==============================] - 2s 20ms/step - loss: 0.4013 - tp: 249.0000 - fp: 0.0000e+00 - tn: 5603.0000 - fn: 313.0000 - precision: 1.0000 - recall: 0.4431\n",
      "Epoch 11/50\n",
      "89/89 [==============================] - 2s 20ms/step - loss: 0.4145 - tp: 273.0000 - fp: 0.0000e+00 - tn: 5603.0000 - fn: 289.0000 - precision: 1.0000 - recall: 0.4858\n",
      "Epoch 12/50\n",
      "89/89 [==============================] - 2s 20ms/step - loss: 0.4103 - tp: 295.0000 - fp: 0.0000e+00 - tn: 5603.0000 - fn: 267.0000 - precision: 1.0000 - recall: 0.5249\n",
      "Epoch 13/50\n",
      "89/89 [==============================] - 2s 20ms/step - loss: 0.4117 - tp: 306.0000 - fp: 0.0000e+00 - tn: 5603.0000 - fn: 256.0000 - precision: 1.0000 - recall: 0.5445\n",
      "Epoch 14/50\n",
      "89/89 [==============================] - 2s 20ms/step - loss: 0.4056 - tp: 326.0000 - fp: 0.0000e+00 - tn: 5603.0000 - fn: 236.0000 - precision: 1.0000 - recall: 0.5801\n",
      "Epoch 15/50\n",
      "89/89 [==============================] - 2s 20ms/step - loss: 0.4161 - tp: 314.0000 - fp: 0.0000e+00 - tn: 5603.0000 - fn: 248.0000 - precision: 1.0000 - recall: 0.5587\n",
      "Epoch 16/50\n",
      "89/89 [==============================] - 2s 20ms/step - loss: 0.4106 - tp: 300.0000 - fp: 0.0000e+00 - tn: 5603.0000 - fn: 262.0000 - precision: 1.0000 - recall: 0.5338\n",
      "Epoch 17/50\n",
      "89/89 [==============================] - 2s 20ms/step - loss: 0.4106 - tp: 352.0000 - fp: 0.0000e+00 - tn: 5603.0000 - fn: 210.0000 - precision: 1.0000 - recall: 0.6263\n",
      "Epoch 18/50\n",
      "89/89 [==============================] - 2s 20ms/step - loss: 0.4393 - tp: 342.0000 - fp: 0.0000e+00 - tn: 5603.0000 - fn: 220.0000 - precision: 1.0000 - recall: 0.6085\n",
      "Epoch 19/50\n",
      "89/89 [==============================] - 2s 20ms/step - loss: 0.4104 - tp: 350.0000 - fp: 0.0000e+00 - tn: 5603.0000 - fn: 212.0000 - precision: 1.0000 - recall: 0.6228\n",
      "Epoch 20/50\n",
      "89/89 [==============================] - 2s 20ms/step - loss: 0.4335 - tp: 343.0000 - fp: 0.0000e+00 - tn: 5603.0000 - fn: 219.0000 - precision: 1.0000 - recall: 0.6103\n",
      "Epoch 21/50\n",
      "89/89 [==============================] - 2s 20ms/step - loss: 0.4233 - tp: 359.0000 - fp: 0.0000e+00 - tn: 5603.0000 - fn: 203.0000 - precision: 1.0000 - recall: 0.6388\n",
      "Epoch 22/50\n",
      "89/89 [==============================] - 2s 20ms/step - loss: 0.4294 - tp: 364.0000 - fp: 4.0000 - tn: 5599.0000 - fn: 198.0000 - precision: 0.9891 - recall: 0.6477\n",
      "Epoch 23/50\n",
      "89/89 [==============================] - 2s 20ms/step - loss: 0.4288 - tp: 355.0000 - fp: 5.0000 - tn: 5598.0000 - fn: 207.0000 - precision: 0.9861 - recall: 0.6317\n",
      "Epoch 24/50\n",
      "89/89 [==============================] - 2s 20ms/step - loss: 0.4218 - tp: 385.0000 - fp: 0.0000e+00 - tn: 5603.0000 - fn: 177.0000 - precision: 1.0000 - recall: 0.6851\n",
      "Epoch 25/50\n",
      "89/89 [==============================] - 2s 20ms/step - loss: 0.4369 - tp: 392.0000 - fp: 3.0000 - tn: 5600.0000 - fn: 170.0000 - precision: 0.9924 - recall: 0.6975\n",
      "Epoch 26/50\n",
      "89/89 [==============================] - 2s 20ms/step - loss: 0.4705 - tp: 391.0000 - fp: 7.0000 - tn: 5596.0000 - fn: 171.0000 - precision: 0.9824 - recall: 0.6957\n",
      "Epoch 27/50\n",
      "89/89 [==============================] - 2s 20ms/step - loss: 0.4176 - tp: 379.0000 - fp: 0.0000e+00 - tn: 5603.0000 - fn: 183.0000 - precision: 1.0000 - recall: 0.6744\n",
      "Epoch 28/50\n",
      "89/89 [==============================] - 2s 20ms/step - loss: 0.4294 - tp: 388.0000 - fp: 0.0000e+00 - tn: 5603.0000 - fn: 174.0000 - precision: 1.0000 - recall: 0.6904\n",
      "Epoch 29/50\n",
      "89/89 [==============================] - 2s 20ms/step - loss: 0.4216 - tp: 372.0000 - fp: 0.0000e+00 - tn: 5603.0000 - fn: 190.0000 - precision: 1.0000 - recall: 0.6619\n",
      "Epoch 30/50\n",
      "89/89 [==============================] - 2s 20ms/step - loss: 0.4275 - tp: 383.0000 - fp: 0.0000e+00 - tn: 5603.0000 - fn: 179.0000 - precision: 1.0000 - recall: 0.6815\n",
      "Epoch 31/50\n",
      "89/89 [==============================] - 2s 20ms/step - loss: 0.4584 - tp: 404.0000 - fp: 19.0000 - tn: 5584.0000 - fn: 158.0000 - precision: 0.9551 - recall: 0.7189\n",
      "Epoch 32/50\n",
      "89/89 [==============================] - 2s 20ms/step - loss: 0.4155 - tp: 396.0000 - fp: 0.0000e+00 - tn: 5603.0000 - fn: 166.0000 - precision: 1.0000 - recall: 0.7046\n",
      "Epoch 33/50\n",
      "89/89 [==============================] - 2s 20ms/step - loss: 0.4537 - tp: 390.0000 - fp: 1.0000 - tn: 5602.0000 - fn: 172.0000 - precision: 0.9974 - recall: 0.6940\n",
      "Epoch 34/50\n",
      "89/89 [==============================] - 2s 20ms/step - loss: 0.4279 - tp: 396.0000 - fp: 0.0000e+00 - tn: 5603.0000 - fn: 166.0000 - precision: 1.0000 - recall: 0.7046\n",
      "Epoch 35/50\n",
      "89/89 [==============================] - 2s 20ms/step - loss: 0.4317 - tp: 388.0000 - fp: 0.0000e+00 - tn: 5603.0000 - fn: 174.0000 - precision: 1.0000 - recall: 0.6904\n",
      "Epoch 36/50\n",
      "89/89 [==============================] - 2s 20ms/step - loss: 0.4796 - tp: 395.0000 - fp: 15.0000 - tn: 5588.0000 - fn: 167.0000 - precision: 0.9634 - recall: 0.7028\n",
      "Epoch 37/50\n",
      "89/89 [==============================] - 2s 20ms/step - loss: 0.4427 - tp: 388.0000 - fp: 0.0000e+00 - tn: 5603.0000 - fn: 174.0000 - precision: 1.0000 - recall: 0.6904\n",
      "Epoch 38/50\n",
      "89/89 [==============================] - 2s 20ms/step - loss: 0.4607 - tp: 403.0000 - fp: 7.0000 - tn: 5596.0000 - fn: 159.0000 - precision: 0.9829 - recall: 0.7171\n",
      "Epoch 39/50\n",
      "89/89 [==============================] - 2s 20ms/step - loss: 0.4850 - tp: 384.0000 - fp: 15.0000 - tn: 5588.0000 - fn: 178.0000 - precision: 0.9624 - recall: 0.6833\n",
      "Epoch 40/50\n",
      "89/89 [==============================] - 2s 20ms/step - loss: 0.4692 - tp: 404.0000 - fp: 6.0000 - tn: 5597.0000 - fn: 158.0000 - precision: 0.9854 - recall: 0.7189\n",
      "Epoch 41/50\n",
      "89/89 [==============================] - 2s 20ms/step - loss: 0.4379 - tp: 409.0000 - fp: 0.0000e+00 - tn: 5603.0000 - fn: 153.0000 - precision: 1.0000 - recall: 0.7278\n",
      "Epoch 42/50\n",
      "89/89 [==============================] - 2s 20ms/step - loss: 0.4292 - tp: 408.0000 - fp: 0.0000e+00 - tn: 5603.0000 - fn: 154.0000 - precision: 1.0000 - recall: 0.7260\n",
      "Epoch 43/50\n",
      "89/89 [==============================] - 2s 20ms/step - loss: 0.4758 - tp: 380.0000 - fp: 13.0000 - tn: 5590.0000 - fn: 182.0000 - precision: 0.9669 - recall: 0.6762\n",
      "Epoch 44/50\n",
      "89/89 [==============================] - 2s 20ms/step - loss: 0.4251 - tp: 408.0000 - fp: 0.0000e+00 - tn: 5603.0000 - fn: 154.0000 - precision: 1.0000 - recall: 0.7260\n",
      "Epoch 45/50\n",
      "89/89 [==============================] - 2s 20ms/step - loss: 0.4404 - tp: 393.0000 - fp: 0.0000e+00 - tn: 5603.0000 - fn: 169.0000 - precision: 1.0000 - recall: 0.6993\n",
      "Epoch 46/50\n",
      "89/89 [==============================] - 2s 20ms/step - loss: 0.4624 - tp: 405.0000 - fp: 7.0000 - tn: 5596.0000 - fn: 157.0000 - precision: 0.9830 - recall: 0.7206\n",
      "Epoch 47/50\n",
      "89/89 [==============================] - 2s 20ms/step - loss: 0.4504 - tp: 416.0000 - fp: 6.0000 - tn: 5597.0000 - fn: 146.0000 - precision: 0.9858 - recall: 0.7402\n",
      "Epoch 48/50\n",
      "89/89 [==============================] - 2s 20ms/step - loss: 0.6064 - tp: 401.0000 - fp: 32.0000 - tn: 5571.0000 - fn: 161.0000 - precision: 0.9261 - recall: 0.7135\n",
      "Epoch 49/50\n",
      "89/89 [==============================] - 2s 20ms/step - loss: 0.4393 - tp: 395.0000 - fp: 0.0000e+00 - tn: 5603.0000 - fn: 167.0000 - precision: 1.0000 - recall: 0.7028\n",
      "Epoch 50/50\n",
      "88/89 [============================>.] - ETA: 0s - loss: 0.4203 - tp: 422.0000 - fp: 0.0000e+00 - tn: 5598.0000 - fn: 140.0000 - precision: 1.0000 - recall: 0.7509\n",
      "\n",
      "******* Stoping on Defined Thresold *******\n",
      "F1 TRAINING:  0.8577235636741297\n",
      "89/89 [==============================] - 2s 20ms/step - loss: 0.4203 - tp: 422.0000 - fp: 0.0000e+00 - tn: 5603.0000 - fn: 140.0000 - precision: 1.0000 - recall: 0.7509\n",
      "\n",
      "\n",
      "\n",
      "****** Early Stopping *******\n",
      "17/39 [============>.................] - ETA: 0s"
     ]
    },
    {
     "name": "stderr",
     "output_type": "stream",
     "text": [
      "2022-11-10 03:12:04.024259: I tensorflow/core/grappler/optimizers/custom_graph_optimizer_registry.cc:114] Plugin optimizer for device_type GPU is enabled.\n"
     ]
    },
    {
     "name": "stdout",
     "output_type": "stream",
     "text": [
      "39/39 [==============================] - 0s 7ms/step\n",
      "0.3072463768115942\n",
      "0.6123276561232766\n",
      "error_rate: 1.4722178119818436e-05\n",
      "1.000000000000003\n",
      "bfore traning:  62.87104622871046\n",
      "Epoch 1/50\n"
     ]
    },
    {
     "name": "stderr",
     "output_type": "stream",
     "text": [
      "2022-11-10 03:12:07.248466: I tensorflow/core/grappler/optimizers/custom_graph_optimizer_registry.cc:114] Plugin optimizer for device_type GPU is enabled.\n"
     ]
    },
    {
     "name": "stdout",
     "output_type": "stream",
     "text": [
      "89/89 [==============================] - 3s 23ms/step - loss: 1.2009 - tp: 3700.0000 - fp: 2094.0000 - tn: 195.0000 - fn: 176.0000 - precision: 0.6386 - recall: 0.9546\n",
      "Epoch 2/50\n",
      "89/89 [==============================] - 2s 20ms/step - loss: 0.4767 - tp: 3876.0000 - fp: 2289.0000 - tn: 0.0000e+00 - fn: 0.0000e+00 - precision: 0.6287 - recall: 1.0000\n",
      "Epoch 3/50\n",
      "89/89 [==============================] - 2s 20ms/step - loss: 0.4728 - tp: 3876.0000 - fp: 2288.0000 - tn: 1.0000 - fn: 0.0000e+00 - precision: 0.6288 - recall: 1.0000\n",
      "Epoch 4/50\n",
      "89/89 [==============================] - 2s 20ms/step - loss: 0.4715 - tp: 3876.0000 - fp: 2278.0000 - tn: 11.0000 - fn: 0.0000e+00 - precision: 0.6298 - recall: 1.0000\n",
      "Epoch 5/50\n",
      "89/89 [==============================] - 2s 20ms/step - loss: 0.4663 - tp: 3872.0000 - fp: 2182.0000 - tn: 107.0000 - fn: 4.0000 - precision: 0.6396 - recall: 0.9990\n",
      "Epoch 6/50\n",
      "89/89 [==============================] - 2s 20ms/step - loss: 0.4664 - tp: 3863.0000 - fp: 1905.0000 - tn: 384.0000 - fn: 13.0000 - precision: 0.6697 - recall: 0.9966\n",
      "Epoch 7/50\n",
      "89/89 [==============================] - 2s 20ms/step - loss: 0.4673 - tp: 3841.0000 - fp: 1556.0000 - tn: 733.0000 - fn: 35.0000 - precision: 0.7117 - recall: 0.9910\n",
      "Epoch 8/50\n",
      "88/89 [============================>.] - ETA: 0s - loss: 0.4712 - tp: 3830.0000 - fp: 1161.0000 - tn: 1127.0000 - fn: 42.0000 - precision: 0.7674 - recall: 0.9892\n",
      "\n",
      "******* Stoping on Defined Thresold *******\n",
      "F1 TRAINING:  0.8642921547758121\n",
      "89/89 [==============================] - 2s 20ms/step - loss: 0.4712 - tp: 3834.0000 - fp: 1162.0000 - tn: 1127.0000 - fn: 42.0000 - precision: 0.7674 - recall: 0.9892\n",
      "\n",
      "\n",
      "\n",
      "****** Early Stopping *******\n",
      "18/39 [============>.................] - ETA: 0s"
     ]
    },
    {
     "name": "stderr",
     "output_type": "stream",
     "text": [
      "2022-11-10 03:12:22.663496: I tensorflow/core/grappler/optimizers/custom_graph_optimizer_registry.cc:114] Plugin optimizer for device_type GPU is enabled.\n"
     ]
    },
    {
     "name": "stdout",
     "output_type": "stream",
     "text": [
      "39/39 [==============================] - 0s 7ms/step\n",
      "0.6920289855072463\n",
      "0.5863746958637469\n",
      "error_rate: 0.00016951108509847816\n",
      "0.9999999999999953\n",
      "bfore traning:  10.738037307380372\n",
      "Epoch 1/50\n"
     ]
    },
    {
     "name": "stderr",
     "output_type": "stream",
     "text": [
      "2022-11-10 03:12:25.808108: I tensorflow/core/grappler/optimizers/custom_graph_optimizer_registry.cc:114] Plugin optimizer for device_type GPU is enabled.\n"
     ]
    },
    {
     "name": "stdout",
     "output_type": "stream",
     "text": [
      "89/89 [==============================] - 3s 23ms/step - loss: 1.1955 - tp: 99.0000 - fp: 89.0000 - tn: 5414.0000 - fn: 563.0000 - precision: 0.5266 - recall: 0.1495\n",
      "Epoch 2/50\n",
      "89/89 [==============================] - 2s 20ms/step - loss: 0.4453 - tp: 36.0000 - fp: 0.0000e+00 - tn: 5503.0000 - fn: 626.0000 - precision: 1.0000 - recall: 0.0544\n",
      "Epoch 3/50\n",
      "89/89 [==============================] - 2s 20ms/step - loss: 0.4227 - tp: 10.0000 - fp: 0.0000e+00 - tn: 5503.0000 - fn: 652.0000 - precision: 1.0000 - recall: 0.0151\n",
      "Epoch 4/50\n",
      "89/89 [==============================] - 2s 20ms/step - loss: 0.4131 - tp: 7.0000 - fp: 0.0000e+00 - tn: 5503.0000 - fn: 655.0000 - precision: 1.0000 - recall: 0.0106\n",
      "Epoch 5/50\n",
      "89/89 [==============================] - 2s 20ms/step - loss: 0.4206 - tp: 41.0000 - fp: 0.0000e+00 - tn: 5503.0000 - fn: 621.0000 - precision: 1.0000 - recall: 0.0619\n",
      "Epoch 6/50\n",
      "89/89 [==============================] - 2s 20ms/step - loss: 0.4104 - tp: 61.0000 - fp: 0.0000e+00 - tn: 5503.0000 - fn: 601.0000 - precision: 1.0000 - recall: 0.0921\n",
      "Epoch 7/50\n",
      "89/89 [==============================] - 2s 20ms/step - loss: 0.4142 - tp: 96.0000 - fp: 0.0000e+00 - tn: 5503.0000 - fn: 566.0000 - precision: 1.0000 - recall: 0.1450\n",
      "Epoch 8/50\n",
      "89/89 [==============================] - 2s 20ms/step - loss: 0.4078 - tp: 118.0000 - fp: 0.0000e+00 - tn: 5503.0000 - fn: 544.0000 - precision: 1.0000 - recall: 0.1782\n",
      "Epoch 9/50\n",
      "89/89 [==============================] - 2s 20ms/step - loss: 0.4100 - tp: 179.0000 - fp: 0.0000e+00 - tn: 5503.0000 - fn: 483.0000 - precision: 1.0000 - recall: 0.2704\n",
      "Epoch 10/50\n",
      "89/89 [==============================] - 2s 20ms/step - loss: 0.4086 - tp: 245.0000 - fp: 1.0000 - tn: 5502.0000 - fn: 417.0000 - precision: 0.9959 - recall: 0.3701\n",
      "Epoch 11/50\n",
      "89/89 [==============================] - 2s 20ms/step - loss: 0.4085 - tp: 270.0000 - fp: 0.0000e+00 - tn: 5503.0000 - fn: 392.0000 - precision: 1.0000 - recall: 0.4079\n",
      "Epoch 12/50\n",
      "89/89 [==============================] - 2s 20ms/step - loss: 0.4124 - tp: 281.0000 - fp: 1.0000 - tn: 5502.0000 - fn: 381.0000 - precision: 0.9965 - recall: 0.4245\n",
      "Epoch 13/50\n",
      "89/89 [==============================] - 2s 20ms/step - loss: 0.4091 - tp: 297.0000 - fp: 6.0000 - tn: 5497.0000 - fn: 365.0000 - precision: 0.9802 - recall: 0.4486\n",
      "Epoch 14/50\n",
      "89/89 [==============================] - 2s 20ms/step - loss: 0.4135 - tp: 295.0000 - fp: 4.0000 - tn: 5499.0000 - fn: 367.0000 - precision: 0.9866 - recall: 0.4456\n",
      "Epoch 15/50\n",
      "89/89 [==============================] - 2s 20ms/step - loss: 0.4160 - tp: 316.0000 - fp: 3.0000 - tn: 5500.0000 - fn: 346.0000 - precision: 0.9906 - recall: 0.4773\n",
      "Epoch 16/50\n",
      "89/89 [==============================] - 2s 20ms/step - loss: 0.4139 - tp: 322.0000 - fp: 5.0000 - tn: 5498.0000 - fn: 340.0000 - precision: 0.9847 - recall: 0.4864\n",
      "Epoch 17/50\n",
      "89/89 [==============================] - 2s 20ms/step - loss: 0.4143 - tp: 325.0000 - fp: 3.0000 - tn: 5500.0000 - fn: 337.0000 - precision: 0.9909 - recall: 0.4909\n",
      "Epoch 18/50\n",
      "89/89 [==============================] - 2s 20ms/step - loss: 0.4091 - tp: 322.0000 - fp: 1.0000 - tn: 5502.0000 - fn: 340.0000 - precision: 0.9969 - recall: 0.4864\n",
      "Epoch 19/50\n",
      "89/89 [==============================] - 2s 20ms/step - loss: 0.4154 - tp: 336.0000 - fp: 3.0000 - tn: 5500.0000 - fn: 326.0000 - precision: 0.9912 - recall: 0.5076\n",
      "Epoch 20/50\n",
      "89/89 [==============================] - 2s 20ms/step - loss: 0.4279 - tp: 354.0000 - fp: 4.0000 - tn: 5499.0000 - fn: 308.0000 - precision: 0.9888 - recall: 0.5347\n",
      "Epoch 21/50\n",
      "89/89 [==============================] - 2s 20ms/step - loss: 0.4147 - tp: 350.0000 - fp: 3.0000 - tn: 5500.0000 - fn: 312.0000 - precision: 0.9915 - recall: 0.5287\n",
      "Epoch 22/50\n",
      "89/89 [==============================] - 2s 20ms/step - loss: 0.4230 - tp: 364.0000 - fp: 3.0000 - tn: 5500.0000 - fn: 298.0000 - precision: 0.9918 - recall: 0.5498\n",
      "Epoch 23/50\n",
      "89/89 [==============================] - 2s 20ms/step - loss: 0.4397 - tp: 381.0000 - fp: 4.0000 - tn: 5499.0000 - fn: 281.0000 - precision: 0.9896 - recall: 0.5755\n",
      "Epoch 24/50\n",
      "89/89 [==============================] - 2s 20ms/step - loss: 0.4359 - tp: 387.0000 - fp: 3.0000 - tn: 5500.0000 - fn: 275.0000 - precision: 0.9923 - recall: 0.5846\n",
      "Epoch 25/50\n",
      "89/89 [==============================] - 2s 20ms/step - loss: 0.4233 - tp: 381.0000 - fp: 4.0000 - tn: 5499.0000 - fn: 281.0000 - precision: 0.9896 - recall: 0.5755\n",
      "Epoch 26/50\n",
      "89/89 [==============================] - 2s 20ms/step - loss: 0.4184 - tp: 381.0000 - fp: 4.0000 - tn: 5499.0000 - fn: 281.0000 - precision: 0.9896 - recall: 0.5755\n",
      "Epoch 27/50\n",
      "89/89 [==============================] - 2s 20ms/step - loss: 0.4231 - tp: 387.0000 - fp: 2.0000 - tn: 5501.0000 - fn: 275.0000 - precision: 0.9949 - recall: 0.5846\n",
      "Epoch 28/50\n",
      "89/89 [==============================] - 2s 20ms/step - loss: 0.4247 - tp: 404.0000 - fp: 3.0000 - tn: 5500.0000 - fn: 258.0000 - precision: 0.9926 - recall: 0.6103\n",
      "Epoch 29/50\n",
      "89/89 [==============================] - 2s 20ms/step - loss: 0.4261 - tp: 396.0000 - fp: 3.0000 - tn: 5500.0000 - fn: 266.0000 - precision: 0.9925 - recall: 0.5982\n",
      "Epoch 30/50\n",
      "89/89 [==============================] - 2s 20ms/step - loss: 0.4258 - tp: 411.0000 - fp: 5.0000 - tn: 5498.0000 - fn: 251.0000 - precision: 0.9880 - recall: 0.6208\n",
      "Epoch 31/50\n",
      "89/89 [==============================] - 2s 20ms/step - loss: 0.4741 - tp: 428.0000 - fp: 7.0000 - tn: 5496.0000 - fn: 234.0000 - precision: 0.9839 - recall: 0.6465\n",
      "Epoch 32/50\n",
      "89/89 [==============================] - 2s 20ms/step - loss: 0.4255 - tp: 414.0000 - fp: 4.0000 - tn: 5499.0000 - fn: 248.0000 - precision: 0.9904 - recall: 0.6254\n",
      "Epoch 33/50\n",
      "89/89 [==============================] - 2s 20ms/step - loss: 0.4241 - tp: 428.0000 - fp: 5.0000 - tn: 5498.0000 - fn: 234.0000 - precision: 0.9885 - recall: 0.6465\n",
      "Epoch 34/50\n",
      "89/89 [==============================] - 2s 20ms/step - loss: 0.4192 - tp: 430.0000 - fp: 4.0000 - tn: 5499.0000 - fn: 232.0000 - precision: 0.9908 - recall: 0.6495\n",
      "Epoch 35/50\n",
      "89/89 [==============================] - 2s 20ms/step - loss: 0.4616 - tp: 450.0000 - fp: 5.0000 - tn: 5498.0000 - fn: 212.0000 - precision: 0.9890 - recall: 0.6798\n",
      "Epoch 36/50\n",
      "89/89 [==============================] - 2s 20ms/step - loss: 0.4335 - tp: 443.0000 - fp: 6.0000 - tn: 5497.0000 - fn: 219.0000 - precision: 0.9866 - recall: 0.6692\n",
      "Epoch 37/50\n",
      "89/89 [==============================] - 2s 20ms/step - loss: 0.4326 - tp: 447.0000 - fp: 6.0000 - tn: 5497.0000 - fn: 215.0000 - precision: 0.9868 - recall: 0.6752\n",
      "Epoch 38/50\n",
      "89/89 [==============================] - 2s 20ms/step - loss: 0.4297 - tp: 448.0000 - fp: 6.0000 - tn: 5497.0000 - fn: 214.0000 - precision: 0.9868 - recall: 0.6767\n",
      "Epoch 39/50\n",
      "89/89 [==============================] - 2s 20ms/step - loss: 0.4402 - tp: 458.0000 - fp: 3.0000 - tn: 5500.0000 - fn: 204.0000 - precision: 0.9935 - recall: 0.6918\n",
      "Epoch 40/50\n",
      "89/89 [==============================] - 2s 20ms/step - loss: 0.4326 - tp: 465.0000 - fp: 5.0000 - tn: 5498.0000 - fn: 197.0000 - precision: 0.9894 - recall: 0.7024\n",
      "Epoch 41/50\n",
      "89/89 [==============================] - 2s 20ms/step - loss: 0.4321 - tp: 475.0000 - fp: 7.0000 - tn: 5496.0000 - fn: 187.0000 - precision: 0.9855 - recall: 0.7175\n",
      "Epoch 42/50\n",
      "89/89 [==============================] - 2s 20ms/step - loss: 0.4368 - tp: 454.0000 - fp: 3.0000 - tn: 5500.0000 - fn: 208.0000 - precision: 0.9934 - recall: 0.6858\n",
      "Epoch 43/50\n",
      "89/89 [==============================] - 2s 20ms/step - loss: 0.4304 - tp: 466.0000 - fp: 3.0000 - tn: 5500.0000 - fn: 196.0000 - precision: 0.9936 - recall: 0.7039\n",
      "Epoch 44/50\n",
      "89/89 [==============================] - 2s 20ms/step - loss: 0.4354 - tp: 461.0000 - fp: 7.0000 - tn: 5496.0000 - fn: 201.0000 - precision: 0.9850 - recall: 0.6964\n",
      "Epoch 45/50\n",
      "89/89 [==============================] - 2s 20ms/step - loss: 0.4575 - tp: 482.0000 - fp: 5.0000 - tn: 5498.0000 - fn: 180.0000 - precision: 0.9897 - recall: 0.7281\n",
      "Epoch 46/50\n",
      "89/89 [==============================] - 2s 20ms/step - loss: 0.4284 - tp: 463.0000 - fp: 3.0000 - tn: 5500.0000 - fn: 199.0000 - precision: 0.9936 - recall: 0.6994\n",
      "Epoch 47/50\n",
      "89/89 [==============================] - 2s 20ms/step - loss: 0.4473 - tp: 480.0000 - fp: 8.0000 - tn: 5495.0000 - fn: 182.0000 - precision: 0.9836 - recall: 0.7251\n",
      "Epoch 48/50\n",
      "89/89 [==============================] - 2s 20ms/step - loss: 0.4442 - tp: 476.0000 - fp: 6.0000 - tn: 5497.0000 - fn: 186.0000 - precision: 0.9876 - recall: 0.7190\n",
      "Epoch 49/50\n",
      "89/89 [==============================] - 2s 20ms/step - loss: 0.4572 - tp: 484.0000 - fp: 6.0000 - tn: 5497.0000 - fn: 178.0000 - precision: 0.9878 - recall: 0.7311\n",
      "Epoch 50/50\n",
      "89/89 [==============================] - 2s 20ms/step - loss: 0.4451 - tp: 476.0000 - fp: 7.0000 - tn: 5496.0000 - fn: 186.0000 - precision: 0.9855 - recall: 0.7190\n",
      "25/39 [==================>...........] - ETA: 0s"
     ]
    },
    {
     "name": "stderr",
     "output_type": "stream",
     "text": [
      "2022-11-10 03:13:56.376918: I tensorflow/core/grappler/optimizers/custom_graph_optimizer_registry.cc:114] Plugin optimizer for device_type GPU is enabled.\n"
     ]
    },
    {
     "name": "stdout",
     "output_type": "stream",
     "text": [
      "39/39 [==============================] - 0s 7ms/step\n",
      "0.6309662398137369\n",
      "0.7429034874290349\n",
      "error_rate: 3.3254188082517683e-05\n",
      "0.9999999999999901\n",
      "bfore traning:  68.54825628548257\n",
      "Epoch 1/50\n"
     ]
    },
    {
     "name": "stderr",
     "output_type": "stream",
     "text": [
      "2022-11-10 03:13:59.619877: I tensorflow/core/grappler/optimizers/custom_graph_optimizer_registry.cc:114] Plugin optimizer for device_type GPU is enabled.\n"
     ]
    },
    {
     "name": "stdout",
     "output_type": "stream",
     "text": [
      "89/89 [==============================] - ETA: 0s - loss: 1.2133 - tp: 4180.0000 - fp: 852.0000 - tn: 1087.0000 - fn: 46.0000 - precision: 0.8307 - recall: 0.9891\n",
      "\n",
      "******* Stoping on Defined Thresold *******\n",
      "F1 TRAINING:  0.9030028213538056\n",
      "89/89 [==============================] - 3s 23ms/step - loss: 1.2133 - tp: 4180.0000 - fp: 852.0000 - tn: 1087.0000 - fn: 46.0000 - precision: 0.8307 - recall: 0.9891\n",
      "\n",
      "\n",
      "\n",
      "****** Early Stopping *******\n",
      "17/39 [============>.................] - ETA: 0s"
     ]
    },
    {
     "name": "stderr",
     "output_type": "stream",
     "text": [
      "2022-11-10 03:14:02.414085: I tensorflow/core/grappler/optimizers/custom_graph_optimizer_registry.cc:114] Plugin optimizer for device_type GPU is enabled.\n"
     ]
    },
    {
     "name": "stdout",
     "output_type": "stream",
     "text": [
      "39/39 [==============================] - 0s 7ms/step\n",
      "0.6751754945756223\n",
      "0.5871857258718572\n",
      "error_rate: 0.00010629620040763783\n",
      "1.0000000000000038\n",
      "bfore traning:  13.122465531224655\n",
      "Epoch 1/50\n"
     ]
    },
    {
     "name": "stderr",
     "output_type": "stream",
     "text": [
      "2022-11-10 03:14:05.558239: I tensorflow/core/grappler/optimizers/custom_graph_optimizer_registry.cc:114] Plugin optimizer for device_type GPU is enabled.\n"
     ]
    },
    {
     "name": "stdout",
     "output_type": "stream",
     "text": [
      "89/89 [==============================] - 3s 24ms/step - loss: 1.1930 - tp: 123.0000 - fp: 57.0000 - tn: 5299.0000 - fn: 686.0000 - precision: 0.6833 - recall: 0.1520\n",
      "Epoch 2/50\n",
      "88/89 [============================>.] - ETA: 0s - loss: 0.4487 - tp: 0.0000e+00 - fp: 0.0000e+00 - tn: 5352.0000 - fn: 808.0000 - precision: 0.0000e+00 - recall: 0.0000e+00**** Waring: precision recall zero avoid exception ****\n",
      "89/89 [==============================] - 2s 20ms/step - loss: 0.4487 - tp: 0.0000e+00 - fp: 0.0000e+00 - tn: 5356.0000 - fn: 809.0000 - precision: 0.0000e+00 - recall: 0.0000e+00\n",
      "Epoch 3/50\n",
      "88/89 [============================>.] - ETA: 0s - loss: 0.4351 - tp: 0.0000e+00 - fp: 0.0000e+00 - tn: 5353.0000 - fn: 807.0000 - precision: 0.0000e+00 - recall: 0.0000e+00**** Waring: precision recall zero avoid exception ****\n",
      "89/89 [==============================] - 2s 20ms/step - loss: 0.4352 - tp: 0.0000e+00 - fp: 0.0000e+00 - tn: 5356.0000 - fn: 809.0000 - precision: 0.0000e+00 - recall: 0.0000e+00\n",
      "Epoch 4/50\n",
      "89/89 [==============================] - 2s 21ms/step - loss: 0.4376 - tp: 8.0000 - fp: 0.0000e+00 - tn: 5356.0000 - fn: 801.0000 - precision: 1.0000 - recall: 0.0099\n",
      "Epoch 5/50\n",
      "89/89 [==============================] - 2s 21ms/step - loss: 0.4506 - tp: 18.0000 - fp: 0.0000e+00 - tn: 5356.0000 - fn: 791.0000 - precision: 1.0000 - recall: 0.0222\n",
      "Epoch 6/50\n",
      "89/89 [==============================] - 2s 20ms/step - loss: 0.4632 - tp: 47.0000 - fp: 0.0000e+00 - tn: 5356.0000 - fn: 762.0000 - precision: 1.0000 - recall: 0.0581\n",
      "Epoch 7/50\n",
      "89/89 [==============================] - 2s 20ms/step - loss: 0.4433 - tp: 37.0000 - fp: 0.0000e+00 - tn: 5356.0000 - fn: 772.0000 - precision: 1.0000 - recall: 0.0457\n",
      "Epoch 8/50\n",
      "89/89 [==============================] - 2s 20ms/step - loss: 0.4468 - tp: 78.0000 - fp: 0.0000e+00 - tn: 5356.0000 - fn: 731.0000 - precision: 1.0000 - recall: 0.0964\n",
      "Epoch 9/50\n",
      "89/89 [==============================] - 2s 20ms/step - loss: 0.4552 - tp: 169.0000 - fp: 0.0000e+00 - tn: 5356.0000 - fn: 640.0000 - precision: 1.0000 - recall: 0.2089\n",
      "Epoch 10/50\n",
      "89/89 [==============================] - 2s 20ms/step - loss: 0.4639 - tp: 180.0000 - fp: 0.0000e+00 - tn: 5356.0000 - fn: 629.0000 - precision: 1.0000 - recall: 0.2225\n",
      "Epoch 11/50\n",
      "89/89 [==============================] - 2s 20ms/step - loss: 0.4574 - tp: 262.0000 - fp: 0.0000e+00 - tn: 5356.0000 - fn: 547.0000 - precision: 1.0000 - recall: 0.3239\n",
      "Epoch 12/50\n",
      "89/89 [==============================] - 2s 20ms/step - loss: 0.4579 - tp: 277.0000 - fp: 2.0000 - tn: 5354.0000 - fn: 532.0000 - precision: 0.9928 - recall: 0.3424\n",
      "Epoch 13/50\n",
      "89/89 [==============================] - 2s 20ms/step - loss: 0.4525 - tp: 286.0000 - fp: 8.0000 - tn: 5348.0000 - fn: 523.0000 - precision: 0.9728 - recall: 0.3535\n",
      "Epoch 14/50\n",
      "89/89 [==============================] - 2s 20ms/step - loss: 0.4657 - tp: 352.0000 - fp: 11.0000 - tn: 5345.0000 - fn: 457.0000 - precision: 0.9697 - recall: 0.4351\n",
      "Epoch 15/50\n",
      "89/89 [==============================] - 2s 20ms/step - loss: 0.4507 - tp: 372.0000 - fp: 12.0000 - tn: 5344.0000 - fn: 437.0000 - precision: 0.9688 - recall: 0.4598\n",
      "Epoch 16/50\n",
      "89/89 [==============================] - 2s 20ms/step - loss: 0.4513 - tp: 380.0000 - fp: 17.0000 - tn: 5339.0000 - fn: 429.0000 - precision: 0.9572 - recall: 0.4697\n",
      "Epoch 17/50\n",
      "89/89 [==============================] - 2s 20ms/step - loss: 0.4546 - tp: 395.0000 - fp: 15.0000 - tn: 5341.0000 - fn: 414.0000 - precision: 0.9634 - recall: 0.4883\n",
      "Epoch 18/50\n",
      "89/89 [==============================] - 2s 20ms/step - loss: 0.4591 - tp: 414.0000 - fp: 13.0000 - tn: 5343.0000 - fn: 395.0000 - precision: 0.9696 - recall: 0.5117\n",
      "Epoch 19/50\n",
      "89/89 [==============================] - 2s 20ms/step - loss: 0.6807 - tp: 449.0000 - fp: 54.0000 - tn: 5302.0000 - fn: 360.0000 - precision: 0.8926 - recall: 0.5550\n",
      "Epoch 20/50\n",
      "89/89 [==============================] - 2s 20ms/step - loss: 0.4482 - tp: 448.0000 - fp: 16.0000 - tn: 5340.0000 - fn: 361.0000 - precision: 0.9655 - recall: 0.5538\n",
      "Epoch 21/50\n",
      "89/89 [==============================] - 2s 20ms/step - loss: 0.4494 - tp: 462.0000 - fp: 14.0000 - tn: 5342.0000 - fn: 347.0000 - precision: 0.9706 - recall: 0.5711\n",
      "Epoch 22/50\n",
      "89/89 [==============================] - 2s 20ms/step - loss: 0.4542 - tp: 470.0000 - fp: 17.0000 - tn: 5339.0000 - fn: 339.0000 - precision: 0.9651 - recall: 0.5810\n",
      "Epoch 23/50\n",
      "89/89 [==============================] - 2s 20ms/step - loss: 0.4571 - tp: 480.0000 - fp: 17.0000 - tn: 5339.0000 - fn: 329.0000 - precision: 0.9658 - recall: 0.5933\n",
      "Epoch 24/50\n",
      "89/89 [==============================] - 2s 20ms/step - loss: 0.4564 - tp: 499.0000 - fp: 16.0000 - tn: 5340.0000 - fn: 310.0000 - precision: 0.9689 - recall: 0.6168\n",
      "Epoch 25/50\n",
      "89/89 [==============================] - 2s 20ms/step - loss: 0.4556 - tp: 465.0000 - fp: 19.0000 - tn: 5337.0000 - fn: 344.0000 - precision: 0.9607 - recall: 0.5748\n",
      "Epoch 26/50\n",
      "89/89 [==============================] - 2s 20ms/step - loss: 0.4986 - tp: 528.0000 - fp: 22.0000 - tn: 5334.0000 - fn: 281.0000 - precision: 0.9600 - recall: 0.6527\n",
      "Epoch 27/50\n",
      "89/89 [==============================] - 2s 20ms/step - loss: 0.4581 - tp: 514.0000 - fp: 15.0000 - tn: 5341.0000 - fn: 295.0000 - precision: 0.9716 - recall: 0.6354\n",
      "Epoch 28/50\n",
      "89/89 [==============================] - 2s 20ms/step - loss: 0.5102 - tp: 540.0000 - fp: 14.0000 - tn: 5342.0000 - fn: 269.0000 - precision: 0.9747 - recall: 0.6675\n",
      "Epoch 29/50\n",
      "89/89 [==============================] - 2s 20ms/step - loss: 0.4516 - tp: 509.0000 - fp: 11.0000 - tn: 5345.0000 - fn: 300.0000 - precision: 0.9788 - recall: 0.6292\n",
      "Epoch 30/50\n",
      "89/89 [==============================] - 2s 20ms/step - loss: 0.4512 - tp: 536.0000 - fp: 14.0000 - tn: 5342.0000 - fn: 273.0000 - precision: 0.9745 - recall: 0.6625\n",
      "Epoch 31/50\n",
      "89/89 [==============================] - 2s 20ms/step - loss: 0.4562 - tp: 556.0000 - fp: 18.0000 - tn: 5338.0000 - fn: 253.0000 - precision: 0.9686 - recall: 0.6873\n",
      "Epoch 32/50\n",
      "89/89 [==============================] - 2s 20ms/step - loss: 0.4603 - tp: 547.0000 - fp: 16.0000 - tn: 5340.0000 - fn: 262.0000 - precision: 0.9716 - recall: 0.6761\n",
      "Epoch 33/50\n",
      "89/89 [==============================] - 2s 20ms/step - loss: 0.4594 - tp: 560.0000 - fp: 14.0000 - tn: 5342.0000 - fn: 249.0000 - precision: 0.9756 - recall: 0.6922\n",
      "Epoch 34/50\n",
      "89/89 [==============================] - 2s 20ms/step - loss: 0.4553 - tp: 560.0000 - fp: 16.0000 - tn: 5340.0000 - fn: 249.0000 - precision: 0.9722 - recall: 0.6922\n",
      "Epoch 35/50\n",
      "89/89 [==============================] - 2s 20ms/step - loss: 0.5009 - tp: 555.0000 - fp: 22.0000 - tn: 5334.0000 - fn: 254.0000 - precision: 0.9619 - recall: 0.6860\n",
      "Epoch 36/50\n",
      "89/89 [==============================] - 2s 20ms/step - loss: 0.5227 - tp: 595.0000 - fp: 25.0000 - tn: 5331.0000 - fn: 214.0000 - precision: 0.9597 - recall: 0.7355\n",
      "Epoch 37/50\n",
      "89/89 [==============================] - 2s 20ms/step - loss: 0.4711 - tp: 572.0000 - fp: 18.0000 - tn: 5338.0000 - fn: 237.0000 - precision: 0.9695 - recall: 0.7070\n",
      "Epoch 38/50\n",
      "89/89 [==============================] - 2s 20ms/step - loss: 0.4690 - tp: 563.0000 - fp: 26.0000 - tn: 5330.0000 - fn: 246.0000 - precision: 0.9559 - recall: 0.6959\n",
      "Epoch 39/50\n",
      "89/89 [==============================] - 2s 20ms/step - loss: 0.4518 - tp: 576.0000 - fp: 12.0000 - tn: 5344.0000 - fn: 233.0000 - precision: 0.9796 - recall: 0.7120\n",
      "Epoch 40/50\n",
      "89/89 [==============================] - 2s 20ms/step - loss: 0.4501 - tp: 584.0000 - fp: 17.0000 - tn: 5339.0000 - fn: 225.0000 - precision: 0.9717 - recall: 0.7219\n",
      "Epoch 41/50\n",
      "89/89 [==============================] - 2s 20ms/step - loss: 0.4649 - tp: 577.0000 - fp: 28.0000 - tn: 5328.0000 - fn: 232.0000 - precision: 0.9537 - recall: 0.7132\n",
      "Epoch 42/50\n",
      "89/89 [==============================] - 2s 20ms/step - loss: 0.4673 - tp: 584.0000 - fp: 14.0000 - tn: 5342.0000 - fn: 225.0000 - precision: 0.9766 - recall: 0.7219\n",
      "Epoch 43/50\n",
      "89/89 [==============================] - 2s 20ms/step - loss: 0.4792 - tp: 585.0000 - fp: 22.0000 - tn: 5334.0000 - fn: 224.0000 - precision: 0.9638 - recall: 0.7231\n",
      "Epoch 44/50\n",
      "89/89 [==============================] - 2s 20ms/step - loss: 0.5023 - tp: 586.0000 - fp: 17.0000 - tn: 5339.0000 - fn: 223.0000 - precision: 0.9718 - recall: 0.7244\n",
      "Epoch 45/50\n",
      "89/89 [==============================] - 2s 20ms/step - loss: 0.4852 - tp: 604.0000 - fp: 17.0000 - tn: 5339.0000 - fn: 205.0000 - precision: 0.9726 - recall: 0.7466\n",
      "Epoch 46/50\n",
      "89/89 [==============================] - 2s 20ms/step - loss: 0.4637 - tp: 596.0000 - fp: 17.0000 - tn: 5339.0000 - fn: 213.0000 - precision: 0.9723 - recall: 0.7367\n",
      "Epoch 47/50\n",
      "89/89 [==============================] - 2s 20ms/step - loss: 0.4881 - tp: 610.0000 - fp: 21.0000 - tn: 5335.0000 - fn: 199.0000 - precision: 0.9667 - recall: 0.7540\n",
      "Epoch 48/50\n",
      "89/89 [==============================] - 2s 20ms/step - loss: 0.4772 - tp: 594.0000 - fp: 11.0000 - tn: 5345.0000 - fn: 215.0000 - precision: 0.9818 - recall: 0.7342\n",
      "Epoch 49/50\n",
      "89/89 [==============================] - 2s 20ms/step - loss: 0.5073 - tp: 585.0000 - fp: 26.0000 - tn: 5330.0000 - fn: 224.0000 - precision: 0.9574 - recall: 0.7231\n",
      "Epoch 50/50\n",
      "89/89 [==============================] - 2s 20ms/step - loss: 0.4812 - tp: 606.0000 - fp: 12.0000 - tn: 5344.0000 - fn: 203.0000 - precision: 0.9806 - recall: 0.7491\n",
      "16/39 [===========>..................] - ETA: 0s"
     ]
    },
    {
     "name": "stderr",
     "output_type": "stream",
     "text": [
      "2022-11-10 03:15:36.499650: I tensorflow/core/grappler/optimizers/custom_graph_optimizer_registry.cc:114] Plugin optimizer for device_type GPU is enabled.\n"
     ]
    },
    {
     "name": "stdout",
     "output_type": "stream",
     "text": [
      "39/39 [==============================] - 0s 7ms/step\n",
      "0.7192982456140351\n",
      "0.7923763179237632\n",
      "error_rate: 3.120469635312614e-05\n",
      "0.9999999999999929\n",
      "bfore traning:  74.8580697485807\n",
      "Epoch 1/50\n"
     ]
    },
    {
     "name": "stderr",
     "output_type": "stream",
     "text": [
      "2022-11-10 03:15:40.024831: I tensorflow/core/grappler/optimizers/custom_graph_optimizer_registry.cc:114] Plugin optimizer for device_type GPU is enabled.\n"
     ]
    },
    {
     "name": "stdout",
     "output_type": "stream",
     "text": [
      "89/89 [==============================] - ETA: 0s - loss: 1.1720 - tp: 4610.0000 - fp: 1546.0000 - tn: 4.0000 - fn: 5.0000 - precision: 0.7489 - recall: 0.9989\n",
      "\n",
      "******* Stoping on Defined Thresold *******\n",
      "F1 TRAINING:  0.856002240344062\n",
      "89/89 [==============================] - 3s 24ms/step - loss: 1.1720 - tp: 4610.0000 - fp: 1546.0000 - tn: 4.0000 - fn: 5.0000 - precision: 0.7489 - recall: 0.9989\n",
      "\n",
      "\n",
      "\n",
      "****** Early Stopping *******\n",
      "16/39 [===========>..................] - ETA: 0s"
     ]
    },
    {
     "name": "stderr",
     "output_type": "stream",
     "text": [
      "2022-11-10 03:15:42.985220: I tensorflow/core/grappler/optimizers/custom_graph_optimizer_registry.cc:114] Plugin optimizer for device_type GPU is enabled.\n"
     ]
    },
    {
     "name": "stdout",
     "output_type": "stream",
     "text": [
      "39/39 [==============================] - 0s 7ms/step\n",
      "0.6428178315905339\n",
      "0.47364152473641524\n",
      "error_rate: 0.0002062139459413871\n",
      "0.9999999999999848\n"
     ]
    }
   ],
   "source": [
    "# plt.plot(initial_weight)\n",
    "boosting(initial_weight)"
   ],
   "metadata": {
    "collapsed": false,
    "pycharm": {
     "name": "#%%\n"
    }
   }
  },
  {
   "cell_type": "code",
   "execution_count": 26,
   "outputs": [
    {
     "data": {
      "text/plain": "[1.7370331720674426,\n 1.7409539997811263,\n 1.9027684386826396,\n 1.8403079852715873,\n 2.0470496359529653,\n 1.704046040061056,\n 2.225228152645437,\n 1.7364845418034744,\n 2.0622593173368813,\n 1.829834943090704,\n 2.074982149030914,\n 1.6972780240752112]"
     },
     "execution_count": 26,
     "metadata": {},
     "output_type": "execute_result"
    }
   ],
   "source": [
    "alphas"
   ],
   "metadata": {
    "collapsed": false,
    "pycharm": {
     "name": "#%%\n"
    }
   }
  },
  {
   "cell_type": "code",
   "execution_count": 27,
   "outputs": [],
   "source": [
    "from sklearn.metrics import ConfusionMatrixDisplay, confusion_matrix\n",
    "\n",
    "\n",
    "def repeat(test_split, test_result, start, end):\n",
    "    mx = 0\n",
    "    size = 0\n",
    "    data = []\n",
    "    f1=[]\n",
    "    for i in range(start,end):\n",
    "        data = some_pred(test_split, i)\n",
    "        tn, fp, fn, tp = confusion_matrix(test_result, data).ravel()\n",
    "        precision = tp / (tp+ fp)\n",
    "        recall = tp / (tp+ fn)\n",
    "        score = (2 * precision * recall) / (precision + recall)\n",
    "        print(score)\n",
    "        f1.append(score)\n",
    "        if mx < score:\n",
    "            mx = score\n",
    "            size = i\n",
    "        print(i)\n",
    "    print(mx,size)\n",
    "    return data, f1\n",
    "\n",
    "# a = ensemble[0].predict(test_split)\n",
    "\n",
    "def some_pred(test_split, esize):\n",
    "#     data = []\n",
    "    k = []\n",
    "#     for j in range(len(test_split)):\n",
    "#         pa=0\n",
    "#         na =0\n",
    "    for i in range(esize):\n",
    "        print('*********:', i)\n",
    "        k.append(ensemble[i].predict([test_split]))\n",
    "        # if pa >=na:\n",
    "        #     data.append(1)\n",
    "        # else:\n",
    "        #     data.append(0)\n",
    "    # f1.append(f1_score(test_result, data, average=\"macro\"))\n",
    "    # acc.append(accuracy_score(test_result, data))\n",
    "    return k"
   ],
   "metadata": {
    "collapsed": false,
    "pycharm": {
     "name": "#%%\n"
    }
   }
  },
  {
   "cell_type": "code",
   "execution_count": 27,
   "outputs": [],
   "source": [],
   "metadata": {
    "collapsed": false,
    "pycharm": {
     "name": "#%%\n"
    }
   }
  },
  {
   "cell_type": "code",
   "execution_count": 28,
   "outputs": [],
   "source": [
    "\n",
    "def majority(data):\n",
    "    ans =[]\n",
    "    for i in range(len(data[0])):\n",
    "        ap = 0\n",
    "        an = 0\n",
    "        for e in range(len(data)):\n",
    "            if data[e][i] >= .5:\n",
    "                ap += alphas[e]\n",
    "            else:\n",
    "                an += alphas[e]\n",
    "        if ap >= an:\n",
    "            ans.append(1)\n",
    "        else:\n",
    "            ans.append(0)\n",
    "    return ans\n"
   ],
   "metadata": {
    "collapsed": false,
    "pycharm": {
     "name": "#%%\n"
    }
   }
  },
  {
   "cell_type": "code",
   "execution_count": 32,
   "outputs": [
    {
     "name": "stdout",
     "output_type": "stream",
     "text": [
      "*********: 0\n",
      "3/3 [==============================] - 0s 12ms/step\n",
      "*********: 1\n",
      "3/3 [==============================] - 0s 6ms/step\n",
      "*********: 2\n",
      "3/3 [==============================] - 0s 8ms/step\n",
      "*********: 3\n",
      "3/3 [==============================] - 0s 6ms/step\n",
      "*********: 4\n",
      "3/3 [==============================] - 0s 9ms/step\n",
      "*********: 5\n",
      "3/3 [==============================] - 0s 9ms/step\n",
      "*********: 6\n",
      "3/3 [==============================] - 0s 15ms/step\n",
      "*********: 7\n",
      "3/3 [==============================] - 0s 16ms/step\n"
     ]
    },
    {
     "name": "stderr",
     "output_type": "stream",
     "text": [
      "2022-11-10 03:18:37.736399: I tensorflow/core/grappler/optimizers/custom_graph_optimizer_registry.cc:114] Plugin optimizer for device_type GPU is enabled.\n",
      "2022-11-10 03:18:37.836187: I tensorflow/core/grappler/optimizers/custom_graph_optimizer_registry.cc:114] Plugin optimizer for device_type GPU is enabled.\n"
     ]
    },
    {
     "name": "stdout",
     "output_type": "stream",
     "text": [
      "*********: 8\n",
      "3/3 [==============================] - 0s 17ms/step\n",
      "*********: 9\n",
      "3/3 [==============================] - 0s 12ms/step\n",
      "*********: 10\n"
     ]
    },
    {
     "name": "stderr",
     "output_type": "stream",
     "text": [
      "2022-11-10 03:18:37.943936: I tensorflow/core/grappler/optimizers/custom_graph_optimizer_registry.cc:114] Plugin optimizer for device_type GPU is enabled.\n",
      "2022-11-10 03:18:38.046079: I tensorflow/core/grappler/optimizers/custom_graph_optimizer_registry.cc:114] Plugin optimizer for device_type GPU is enabled.\n"
     ]
    },
    {
     "name": "stdout",
     "output_type": "stream",
     "text": [
      "3/3 [==============================] - 0s 16ms/step\n",
      "*********: 11\n",
      "3/3 [==============================] - 0s 13ms/step\n"
     ]
    },
    {
     "name": "stderr",
     "output_type": "stream",
     "text": [
      "2022-11-10 03:18:38.154549: I tensorflow/core/grappler/optimizers/custom_graph_optimizer_registry.cc:114] Plugin optimizer for device_type GPU is enabled.\n",
      "2022-11-10 03:18:38.260254: I tensorflow/core/grappler/optimizers/custom_graph_optimizer_registry.cc:114] Plugin optimizer for device_type GPU is enabled.\n"
     ]
    },
    {
     "data": {
      "text/plain": "<sklearn.metrics._plot.confusion_matrix.ConfusionMatrixDisplay at 0x304537280>"
     },
     "execution_count": 32,
     "metadata": {},
     "output_type": "execute_result"
    },
    {
     "data": {
      "text/plain": "<Figure size 640x480 with 2 Axes>",
      "image/png": "[encoded data removed]"
     },
     "metadata": {},
     "output_type": "display_data"
    }
   ],
   "source": [
    "data = some_pred(test_split, 12)\n",
    "ans = majority(data)\n",
    "ConfusionMatrixDisplay.from_predictions(test_result,ans,cmap='Greens')\n"
   ],
   "metadata": {
    "collapsed": false,
    "pycharm": {
     "name": "#%%\n"
    }
   }
  },
  {
   "cell_type": "code",
   "execution_count": 33,
   "outputs": [
    {
     "data": {
      "text/plain": "[0,\n 1,\n 1,\n 1,\n 1,\n 0,\n 1,\n 0,\n 1,\n 1,\n 1,\n 1,\n 1,\n 1,\n 1,\n 1,\n 0,\n 0,\n 0,\n 0,\n 1,\n 0,\n 0,\n 0,\n 0,\n 0,\n 0,\n 0,\n 0,\n 0,\n 0,\n 0,\n 0,\n 0,\n 0,\n 0,\n 0,\n 0,\n 1,\n 0,\n 1,\n 0,\n 0,\n 0,\n 0,\n 0,\n 0,\n 0,\n 0,\n 0,\n 0,\n 0,\n 0,\n 0,\n 0,\n 0,\n 0,\n 0,\n 0,\n 0,\n 0,\n 0,\n 0,\n 0,\n 0,\n 0,\n 0,\n 0,\n 0,\n 0,\n 0,\n 0,\n 0,\n 0,\n 0,\n 0,\n 0,\n 0,\n 0,\n 0,\n 0,\n 0,\n 0,\n 0,\n 0,\n 0,\n 0,\n 0,\n 0]"
     },
     "execution_count": 33,
     "metadata": {},
     "output_type": "execute_result"
    }
   ],
   "source": [
    "ans"
   ],
   "metadata": {
    "collapsed": false,
    "pycharm": {
     "name": "#%%\n"
    }
   }
  },
  {
   "cell_type": "code",
   "execution_count": 34,
   "outputs": [
    {
     "name": "stdout",
     "output_type": "stream",
     "text": [
      "*********: 0\n",
      "39/39 [==============================] - 0s 5ms/step\n",
      "*********: 1\n",
      "39/39 [==============================] - 0s 5ms/step\n",
      "*********: 2\n",
      "39/39 [==============================] - 0s 5ms/step\n",
      "*********: 3\n",
      "39/39 [==============================] - 0s 6ms/step\n",
      "*********: 4\n",
      "39/39 [==============================] - 0s 6ms/step\n",
      "*********: 5\n",
      "39/39 [==============================] - 0s 5ms/step\n",
      "*********: 6\n",
      "39/39 [==============================] - 0s 5ms/step\n",
      "*********: 7\n",
      "39/39 [==============================] - 0s 5ms/step\n",
      "*********: 8\n",
      "39/39 [==============================] - 0s 5ms/step\n",
      "*********: 9\n",
      "39/39 [==============================] - 0s 5ms/step\n",
      "*********: 10\n",
      "39/39 [==============================] - 0s 7ms/step\n",
      "*********: 11\n",
      "39/39 [==============================] - 0s 7ms/step\n"
     ]
    },
    {
     "data": {
      "text/plain": "<sklearn.metrics._plot.confusion_matrix.ConfusionMatrixDisplay at 0x17b61f700>"
     },
     "execution_count": 34,
     "metadata": {},
     "output_type": "execute_result"
    },
    {
     "data": {
      "text/plain": "<Figure size 640x480 with 2 Axes>",
      "image/png": "[encoded data removed]"
     },
     "metadata": {},
     "output_type": "display_data"
    }
   ],
   "source": [
    "data = some_pred(training_split, 12)\n",
    "ans = majority(data)\n",
    "ConfusionMatrixDisplay.from_predictions(train_result,ans,cmap='Greens')"
   ],
   "metadata": {
    "collapsed": false,
    "pycharm": {
     "name": "#%%\n"
    }
   }
  },
  {
   "cell_type": "code",
   "execution_count": 35,
   "outputs": [
    {
     "name": "stdout",
     "output_type": "stream",
     "text": [
      "*********: 0\n",
      "11/11 [==============================] - 0s 8ms/step\n",
      "*********: 1\n",
      "11/11 [==============================] - 0s 7ms/step\n",
      "*********: 2\n",
      "11/11 [==============================] - 0s 6ms/step\n",
      "*********: 3\n",
      "11/11 [==============================] - 0s 6ms/step\n",
      "*********: 4\n",
      "11/11 [==============================] - 0s 6ms/step\n",
      "*********: 5\n",
      "11/11 [==============================] - 0s 6ms/step\n",
      "*********: 6\n",
      "11/11 [==============================] - 0s 6ms/step\n",
      "*********: 7\n",
      "11/11 [==============================] - 0s 6ms/step\n",
      "*********: 8\n",
      "11/11 [==============================] - 0s 7ms/step\n",
      "*********: 9\n",
      "11/11 [==============================] - 0s 7ms/step\n",
      "*********: 10\n",
      "11/11 [==============================] - 0s 6ms/step\n",
      "*********: 11\n",
      "11/11 [==============================] - 0s 8ms/step\n"
     ]
    }
   ],
   "source": [
    "table_test = pd.read_table('./1663769555_8653905_test.txt', names=['sequence'])\n",
    "unlabeled_test = vectorizer_best.transform(table_test.sequence).toarray()\n",
    "predicted_data = majority(some_pred(unlabeled_test, 12))"
   ],
   "metadata": {
    "collapsed": false,
    "pycharm": {
     "name": "#%%\n"
    }
   }
  },
  {
   "cell_type": "code",
   "execution_count": 37,
   "outputs": [
    {
     "data": {
      "text/plain": "[0,\n 0,\n 0,\n 0,\n 0,\n 0,\n 0,\n 0,\n 0,\n 1,\n 0,\n 0,\n 0,\n 0,\n 0,\n 0,\n 0,\n 0,\n 0,\n 0,\n 0,\n 0,\n 0,\n 0,\n 0,\n 1,\n 0,\n 0,\n 0,\n 0,\n 0,\n 0,\n 0,\n 0,\n 0,\n 0,\n 0,\n 0,\n 0,\n 0,\n 0,\n 0,\n 0,\n 0,\n 0,\n 0,\n 0,\n 0,\n 0,\n 0,\n 0,\n 0,\n 0,\n 0,\n 0,\n 1,\n 0,\n 0,\n 0,\n 0,\n 0,\n 1,\n 0,\n 0,\n 0,\n 0,\n 1,\n 0,\n 0,\n 0,\n 0,\n 0,\n 0,\n 0,\n 0,\n 0,\n 0,\n 0,\n 0,\n 0,\n 1,\n 0,\n 1,\n 1,\n 0,\n 0,\n 0,\n 0,\n 0,\n 0,\n 0,\n 0,\n 0,\n 0,\n 0,\n 0,\n 0,\n 0,\n 1,\n 1,\n 0,\n 0,\n 0,\n 0,\n 0,\n 0,\n 0,\n 0,\n 0,\n 0,\n 0,\n 0,\n 0,\n 0,\n 1,\n 0,\n 0,\n 0,\n 1,\n 0,\n 0,\n 0,\n 0,\n 0,\n 0,\n 0,\n 0,\n 0,\n 0,\n 0,\n 0,\n 1,\n 0,\n 0,\n 0,\n 0,\n 0,\n 0,\n 0,\n 0,\n 0,\n 0,\n 0,\n 0,\n 0,\n 0,\n 1,\n 0,\n 1,\n 0,\n 0,\n 0,\n 0,\n 0,\n 0,\n 0,\n 0,\n 0,\n 0,\n 0,\n 0,\n 0,\n 1,\n 0,\n 0,\n 0,\n 0,\n 0,\n 0,\n 0,\n 0,\n 0,\n 0,\n 0,\n 0,\n 0,\n 0,\n 0,\n 0,\n 0,\n 0,\n 0,\n 0,\n 0,\n 0,\n 0,\n 0,\n 0,\n 0,\n 0,\n 0,\n 0,\n 0,\n 0,\n 0,\n 0,\n 0,\n 0,\n 0,\n 0,\n 0,\n 0,\n 0,\n 0,\n 0,\n 0,\n 0,\n 0,\n 0,\n 0,\n 0,\n 0,\n 0,\n 0,\n 0,\n 0,\n 0,\n 0,\n 0,\n 0,\n 0,\n 0,\n 0,\n 0,\n 0,\n 1,\n 0,\n 0,\n 0,\n 0,\n 0,\n 0,\n 0,\n 0,\n 0,\n 0,\n 0,\n 0,\n 0,\n 0,\n 0,\n 0,\n 0,\n 0,\n 0,\n 0,\n 0,\n 1,\n 0,\n 0,\n 0,\n 0,\n 0,\n 0,\n 1,\n 0,\n 0,\n 0,\n 0,\n 0,\n 0,\n 0,\n 0,\n 0,\n 0,\n 0,\n 0,\n 0,\n 0,\n 0,\n 0,\n 0,\n 0,\n 0,\n 0,\n 0,\n 0,\n 0,\n 0,\n 0,\n 0,\n 1,\n 0,\n 0,\n 0,\n 0,\n 0,\n 0,\n 0,\n 0,\n 0,\n 0,\n 1,\n 0,\n 0,\n 0,\n 0,\n 0,\n 1,\n 0,\n 0,\n 0,\n 0,\n 0,\n 0,\n 0,\n 0,\n 0,\n 0,\n 0,\n 0,\n 0,\n 0,\n 0,\n 0,\n 1,\n 0,\n 0,\n 0,\n 0,\n 0,\n 0,\n 1,\n 0,\n 0,\n 0,\n 0,\n 0,\n 0,\n 0,\n 1,\n 0,\n 0,\n 0,\n 0,\n 0,\n 0,\n 0,\n 0,\n 0,\n 0,\n 0,\n 0,\n 0,\n 0,\n 0,\n 0,\n 0,\n 0,\n 0]"
     },
     "execution_count": 37,
     "metadata": {},
     "output_type": "execute_result"
    }
   ],
   "source": [
    "len(predicted_data)\n",
    "predicted_data"
   ],
   "metadata": {
    "collapsed": false,
    "pycharm": {
     "name": "#%%\n"
    }
   }
  },
  {
   "cell_type": "code",
   "execution_count": 38,
   "outputs": [],
   "source": [
    "import csv\n",
    "outfile = open('./results.csv','w')\n",
    "out = csv.writer(outfile)\n",
    "out.writerows(map(lambda x: [x], predicted_data))\n",
    "outfile.close()"
   ],
   "metadata": {
    "collapsed": false,
    "pycharm": {
     "name": "#%%\n"
    }
   }
  },
  {
   "cell_type": "code",
   "execution_count": null,
   "outputs": [],
   "source": [],
   "metadata": {
    "collapsed": false,
    "pycharm": {
     "name": "#%%\n"
    }
   }
  }
 ],
 "metadata": {
  "kernelspec": {
   "display_name": "Python 3",
   "language": "python",
   "name": "python3"
  },
  "language_info": {
   "codemirror_mode": {
    "name": "ipython",
    "version": 2
   },
   "file_extension": ".py",
   "mimetype": "text/x-python",
   "name": "python",
   "nbconvert_exporter": "python",
   "pygments_lexer": "ipython2",
   "version": "2.7.6"
  }
 },
 "nbformat": 4,
 "nbformat_minor": 0
}