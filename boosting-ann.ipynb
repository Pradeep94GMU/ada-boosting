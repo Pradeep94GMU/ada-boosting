{
 "cells": [
  {
   "cell_type": "code",
   "execution_count": 4,
   "metadata": {
    "collapsed": true,
    "pycharm": {
     "name": "#%%\n"
    }
   },
   "outputs": [],
   "source": [
    "import math\n",
    "import random\n",
    "import tensorflow as tf\n",
    "import pandas as pd\n",
    "import numpy as np\n",
    "import matplotlib.pyplot as plt\n",
    "import imblearn"
   ]
  },
  {
   "cell_type": "code",
   "execution_count": 5,
   "outputs": [
    {
     "name": "stdout",
     "output_type": "stream",
     "text": [
      "2.10.0\n"
     ]
    }
   ],
   "source": [
    "print(tf.__version__)"
   ],
   "metadata": {
    "collapsed": false,
    "pycharm": {
     "name": "#%%\n"
    }
   }
  },
  {
   "cell_type": "code",
   "execution_count": 6,
   "outputs": [],
   "source": [
    "table = pd.read_table('./1663769555_8559356_train.txt', names=['binding','sequence'])"
   ],
   "metadata": {
    "collapsed": false,
    "pycharm": {
     "name": "#%%\n"
    }
   }
  },
  {
   "cell_type": "code",
   "execution_count": 7,
   "outputs": [],
   "source": [
    "from sklearn.feature_extraction.text import CountVectorizer\n",
    "def return_binary_vectorized_form(data_frame, feat = None):\n",
    "    if feat is None:\n",
    "        count_vectorizer = CountVectorizer(binary=True)\n",
    "    else:\n",
    "        count_vectorizer = CountVectorizer(binary=True, vocabulary=feat)\n",
    "    fitted_and_transformed = count_vectorizer.fit_transform(data_frame).toarray()\n",
    "    return count_vectorizer,  fitted_and_transformed"
   ],
   "metadata": {
    "collapsed": false,
    "pycharm": {
     "name": "#%%\n"
    }
   }
  },
  {
   "cell_type": "code",
   "execution_count": 8,
   "outputs": [],
   "source": [
    "from sklearn.feature_selection import SelectKBest, chi2\n",
    "def select_k_best_features(feature_set, target_values, fraction, feature_list):\n",
    "    select_bestselect_best = SelectKBest(score_func=chi2, k = int(len(feature_list)*fraction))\n",
    "    select_bestselect_best.fit(feature_set,target_values)\n",
    "    mask = select_bestselect_best.get_support()\n",
    "    k_best_featurs = feature_list[mask]\n",
    "    return k_best_featurs"
   ],
   "metadata": {
    "collapsed": false,
    "pycharm": {
     "name": "#%%\n"
    }
   }
  },
  {
   "cell_type": "code",
   "execution_count": 216,
   "outputs": [],
   "source": [
    "from sklearn.model_selection import train_test_split\n",
    "active_df = table.loc[table.binding == 1]\n",
    "not_active_df = table.loc[table.binding == 0]\n",
    "# Mainly spliting the data here for testing, that is the reason train size is set to .20\n",
    "active_train, active_test, active_binding_train, active_binding_test = train_test_split(active_df.sequence, active_df.binding, shuffle=True, train_size= .50)\n",
    "not_active_train, not_active_test, not_active_binding_train, not_active_binding_test = train_test_split(not_active_df.sequence, not_active_df.binding, shuffle=True, train_size=.90)"
   ],
   "metadata": {
    "collapsed": false,
    "pycharm": {
     "name": "#%%\n"
    }
   }
  },
  {
   "cell_type": "code",
   "execution_count": 217,
   "outputs": [],
   "source": [
    "def createDf(data):\n",
    "    pd_df = pd.DataFrame(data)\n",
    "    return pd_df\n",
    "def addColumn(copy_to, copy_from ,cname):\n",
    "    copy_to[cname] = copy_from[cname]\n",
    "    return copy_to"
   ],
   "metadata": {
    "collapsed": false,
    "pycharm": {
     "name": "#%%\n"
    }
   }
  },
  {
   "cell_type": "code",
   "execution_count": 218,
   "outputs": [
    {
     "name": "stdout",
     "output_type": "stream",
     "text": [
      "0    649\n",
      "1     39\n",
      "Name: binding, dtype: int64\n",
      "0    73\n",
      "1    39\n",
      "Name: binding, dtype: int64\n"
     ]
    }
   ],
   "source": [
    "active_test_df = pd.DataFrame(active_test)\n",
    "active_binding_test_df = pd.DataFrame(active_binding_test)\n",
    "active_test_df['binding'] = active_binding_test_df['binding']\n",
    "not_active_test_df = pd.DataFrame(not_active_test)\n",
    "not_active_binding_test_df = pd.DataFrame(not_active_binding_test)\n",
    "not_active_test_df['binding'] = not_active_binding_test_df['binding']\n",
    "active_train_df = createDf(active_train)\n",
    "active_binding_train_df = createDf(active_binding_train)\n",
    "active_train_df = addColumn(active_train_df, active_binding_train_df, 'binding')\n",
    "not_active_train_df = createDf(not_active_train)\n",
    "not_active_binding_train_df = createDf(not_active_binding_train)\n",
    "not_active_train_df = addColumn(not_active_train_df, not_active_binding_train_df, 'binding')\n",
    "train_df = pd.concat([active_train_df, not_active_train_df]).reset_index()\n",
    "train_df = train_df.drop('index', axis=1)\n",
    "print(train_df.binding.value_counts())\n",
    "test_df = pd.concat([active_test_df, not_active_test_df]).reset_index()\n",
    "test_df = test_df.drop('index', axis=1)\n",
    "print(test_df.binding.value_counts())\n",
    "from imblearn.over_sampling import RandomOverSampler, SMOTE\n",
    "\n",
    "\n"
   ],
   "metadata": {
    "collapsed": false,
    "pycharm": {
     "name": "#%%\n"
    }
   }
  },
  {
   "cell_type": "code",
   "execution_count": 219,
   "outputs": [
    {
     "name": "stdout",
     "output_type": "stream",
     "text": [
      "1    649\n",
      "0    649\n",
      "Name: binding, dtype: int64\n",
      "0    73\n",
      "1    39\n",
      "Name: binding, dtype: int64\n"
     ]
    }
   ],
   "source": [
    "sampler = RandomOverSampler()\n",
    "x_sampled, y_sampled = sampler.fit_resample(np.array(train_df.sequence).reshape(-1, 1), train_df.binding)\n",
    "\n",
    "final_train_set = pd.DataFrame(x_sampled, columns  =[\"sequence\"])\n",
    "final_train_set['binding'] = y_sampled\n",
    "print(final_train_set.binding.value_counts())\n",
    "\n",
    "final_test_set = pd.DataFrame(test_df.sequence, columns  =[\"sequence\"])\n",
    "final_test_set['binding'] = test_df.binding\n",
    "print(final_test_set.binding.value_counts())"
   ],
   "metadata": {
    "collapsed": false,
    "pycharm": {
     "name": "#%%\n"
    }
   }
  },
  {
   "cell_type": "code",
   "execution_count": 220,
   "outputs": [],
   "source": [
    "train_result = np.array(final_train_set.binding)\n",
    "test_result = np.array(final_test_set.binding)"
   ],
   "metadata": {
    "collapsed": false,
    "pycharm": {
     "name": "#%%\n"
    }
   }
  },
  {
   "cell_type": "code",
   "execution_count": 221,
   "outputs": [],
   "source": [
    "vectorizer_best, training_split = return_binary_vectorized_form(final_train_set.sequence)\n",
    "features = select_k_best_features(training_split,train_result,.30,vectorizer_best.get_feature_names_out())"
   ],
   "metadata": {
    "collapsed": false,
    "pycharm": {
     "name": "#%%\n"
    }
   }
  },
  {
   "cell_type": "code",
   "execution_count": 222,
   "outputs": [],
   "source": [
    "vectorizer_best, training_split = return_binary_vectorized_form(final_train_set.sequence,features)\n",
    "test_split = vectorizer_best.transform(final_test_set.sequence).toarray()"
   ],
   "metadata": {
    "collapsed": false,
    "pycharm": {
     "name": "#%%\n"
    }
   }
  },
  {
   "cell_type": "code",
   "execution_count": 223,
   "outputs": [],
   "source": [
    "# smote = SMOTE(random_state=42)\n",
    "# x, y = smote.fit_resample(training_split, train_result)\n",
    "# training_split = x\n",
    "# train_result = y\n",
    "# print(training_split.shape)\n",
    "# print(test_split.shape)"
   ],
   "metadata": {
    "collapsed": false,
    "pycharm": {
     "name": "#%%\n"
    }
   }
  },
  {
   "cell_type": "code",
   "execution_count": 224,
   "outputs": [],
   "source": [
    "initial_weight = np.ones(training_split.shape[0])*(1/training_split.shape[0])"
   ],
   "metadata": {
    "collapsed": false,
    "pycharm": {
     "name": "#%%\n"
    }
   }
  },
  {
   "cell_type": "code",
   "execution_count": 225,
   "outputs": [],
   "source": [
    "def updateWeight(missmatch, weight, alpha):\n",
    "    mi = 0\n",
    "    missmatch_size = len(missmatch)\n",
    "    wi = 0\n",
    "\n",
    "    new_weight = []\n",
    "    norm_constant = 0\n",
    "    while wi < len(weight):\n",
    "        if mi < missmatch_size and missmatch[mi] == wi:\n",
    "            k = weight[wi] * math.exp(alpha)\n",
    "            mi+=1\n",
    "        else:\n",
    "            k = weight[wi] * math.exp(-1*alpha)\n",
    "        new_weight.append( k )\n",
    "        norm_constant += k\n",
    "        wi += 1\n",
    "\n",
    "    new_weight /= norm_constant\n",
    "    sum =0\n",
    "    for i in new_weight:\n",
    "        sum+=i\n",
    "    print(sum)\n",
    "    # plt.plot(new_weight)\n",
    "    # plt.show()\n",
    "    return new_weight"
   ],
   "metadata": {
    "collapsed": false,
    "pycharm": {
     "name": "#%%\n"
    }
   }
  },
  {
   "cell_type": "code",
   "execution_count": 226,
   "outputs": [],
   "source": [
    "from sklearn.metrics import f1_score, accuracy_score, confusion_matrix\n",
    "def findMissClassificatonIndex(predicted, test_res, weight):\n",
    "    error_rate = 0\n",
    "    missmatch_indexes = []\n",
    "    incorrect= []\n",
    "    tn, fp, fn, tp = confusion_matrix(test_res, predicted).ravel()\n",
    "    precision = tp / (tp+ fp)\n",
    "    recall = tp / (tp+ fn)\n",
    "    score = (2 * precision * recall) / (precision + recall)\n",
    "    print(score)\n",
    "    print(accuracy_score(test_res, predicted))\n",
    "    for i, (pred, real) in enumerate(zip(predicted, test_res)):\n",
    "        if pred != real:\n",
    "            incorrect.append((i, pred, real))\n",
    "            missmatch_indexes.append(i)\n",
    "            error_rate += weight[i]\n",
    "    error_rate /= len(predicted)\n",
    "    # print(incorrect)\n",
    "    return error_rate, missmatch_indexes"
   ],
   "metadata": {
    "collapsed": false,
    "pycharm": {
     "name": "#%%\n"
    }
   }
  },
  {
   "cell_type": "code",
   "execution_count": 227,
   "outputs": [],
   "source": [
    "def rejectionSampling(train_data, train_res, weights):\n",
    "    samplesize  = int(4 * len(train_data))\n",
    "    new_train_data = []\n",
    "    new_train_res = []\n",
    "    new_weights = []\n",
    "    adding_index =[]\n",
    "    max_w = max(weights)\n",
    "\n",
    "    for i in range(samplesize):\n",
    "        while True:\n",
    "            index = random.randrange(len(weights))\n",
    "            u = max_w * random.random()\n",
    "            if u <= weights[index]:\n",
    "                new_train_data.append(train_data[index])\n",
    "                new_train_res.append(train_res[index])\n",
    "                adding_index.append(index)\n",
    "                break\n",
    "    # print(adding_index)\n",
    "    return np.array(new_train_data), np.array(new_train_res)"
   ],
   "metadata": {
    "collapsed": false,
    "pycharm": {
     "name": "#%%\n"
    }
   }
  },
  {
   "cell_type": "code",
   "execution_count": 228,
   "outputs": [],
   "source": [
    "def resample(train_data, train_res, weights):\n",
    "    size = len(train_data)\n",
    "    indexes = np.random.choice(int(size), int( .5 * size), replace=True, p=weights)\n",
    "    new_train_data = []\n",
    "    new_train_res = []\n",
    "    for index in indexes:\n",
    "         new_train_data.append(train_data[index])\n",
    "         new_train_res.append(train_res[index])\n",
    "    return np.array(new_train_data), np.array(new_train_res)"
   ],
   "metadata": {
    "collapsed": false,
    "pycharm": {
     "name": "#%%\n"
    }
   }
  },
  {
   "cell_type": "code",
   "execution_count": 229,
   "outputs": [],
   "source": [
    "class EarlyStoppingMonitor(tf.keras.callbacks.Callback):\n",
    "    def __init__(self):\n",
    "        super(EarlyStoppingMonitor, self).__init__()\n",
    "        self.f1_train = None\n",
    "        self.f1_test = None\n",
    "        self.prevous = None\n",
    "        self.count =0\n",
    "\n",
    "    def on_epoch_end(self, epoch, logs=None):\n",
    "        current_train_precision = logs.get('precision')\n",
    "        current_train_recall= logs.get('recall')\n",
    "\n",
    "        if current_train_precision==0 or current_train_recall==0:\n",
    "            print(\"**** Waring: precision recall zero avoid exception ****\")\n",
    "            return\n",
    "        self.f1_train = (2*current_train_precision*current_train_recall) / (current_train_precision+current_train_recall)\n",
    "        if self.prevous == None:\n",
    "            self.prevous = self.f1_train\n",
    "        if self.prevous == self.f1_train:\n",
    "            self.count += 1\n",
    "        else:\n",
    "            self.prevous = self.f1_train\n",
    "            self.count = 0\n",
    "        if self.count == 5:\n",
    "            self.model.stop_training = True\n",
    "            print('\\n\\n******* No improvements *******')\n",
    "        if current_train_recall > .45:\n",
    "            # self.count += 1\n",
    "            # if self.count >4:\n",
    "            self.model.stop_training = True\n",
    "            print('\\n\\n******* Stoping on Defined Thresold *******')\n",
    "            print('F1 TRAINING: ', self.f1_train)\n",
    "            print('Recall TRAINING: ', current_train_recall)\n",
    "\n",
    "    def on_train_end(self, logs=None):\n",
    "        if self.model.stop_training:\n",
    "            print(\"\\n\\n\\n****** Early Stopping *******\")"
   ],
   "metadata": {
    "collapsed": false,
    "pycharm": {
     "name": "#%%\n"
    }
   }
  },
  {
   "cell_type": "code",
   "execution_count": 230,
   "outputs": [],
   "source": [
    "def createBaseModel():\n",
    "    model = tf.keras.Sequential([\n",
    "        tf.keras.Input(shape=(training_split.shape[-1],)),\n",
    "        tf.keras.layers.Dense(2, activation='relu',kernel_regularizer=tf.keras.regularizers.L1(.025)),\n",
    "        tf.keras.layers.Dense(1, activation='sigmoid')\n",
    "    ])\n",
    "\n",
    "    METRICS = [\n",
    "      tf.keras.metrics.TruePositives(name='tp'),\n",
    "      tf.keras.metrics.FalsePositives(name='fp'),\n",
    "      tf.keras.metrics.TrueNegatives(name='tn'),\n",
    "      tf.keras.metrics.FalseNegatives(name='fn'),\n",
    "      tf.keras.metrics.Precision(name='precision'),\n",
    "      tf.keras.metrics.Recall(name='recall')\n",
    "    ]\n",
    "\n",
    "    model.compile(loss=tf.keras.losses.BinaryFocalCrossentropy(), metrics=METRICS, optimizer='adam')\n",
    "\n",
    "    return model"
   ],
   "metadata": {
    "collapsed": false,
    "pycharm": {
     "name": "#%%\n"
    }
   }
  },
  {
   "cell_type": "code",
   "execution_count": 289,
   "outputs": [],
   "source": [
    "ensemble_size = 12\n",
    "ensemble = []\n",
    "alphas = []\n",
    "def boosting(weights):\n",
    "\n",
    "    for i in range(ensemble_size):\n",
    "        print(\" =========== iteration ===========>:\", i )\n",
    "        train_data, train_res = resample(training_split, train_result, weights)\n",
    "        model = createBaseModel()\n",
    "        num_epochs = 60\n",
    "        print( \"bfore traning: \", ((sum(train_res)/len(train_res)))*100)\n",
    "        history = model.fit(train_data, train_res,\n",
    "                    epochs= num_epochs,\n",
    "                    batch_size=70,\n",
    "                    callbacks=[EarlyStoppingMonitor()])\n",
    "        predicted_result = model.predict(training_split)\n",
    "        predicted_result = [1 if i>=.5 else 0 for i in predicted_result ]\n",
    "        error_rate, error_indexes = findMissClassificatonIndex(predicted_result, train_result, weights)\n",
    "        print(\"error_rate:\", error_rate)\n",
    "\n",
    "        if error_rate > .5:\n",
    "            weights = np.ones(training_split.shape[0]) * (1/training_split.shape[0])\n",
    "            print(\"re-balancing and training because error:\", error_rate)\n",
    "            continue\n",
    "\n",
    "        amount_of_say = .00001 * ( math.log( (1-error_rate) / error_rate ) )\n",
    "        alphas.append(amount_of_say)\n",
    "        ensemble.append(model)\n",
    "        weights = updateWeight(error_indexes, weights, amount_of_say)\n"
   ],
   "metadata": {
    "collapsed": false,
    "pycharm": {
     "name": "#%%\n"
    }
   }
  },
  {
   "cell_type": "code",
   "execution_count": 290,
   "outputs": [
    {
     "name": "stdout",
     "output_type": "stream",
     "text": [
      " =========== iteration ===========>: 0\n",
      "bfore traning:  50.693374422187986\n",
      "Epoch 1/60\n"
     ]
    },
    {
     "name": "stderr",
     "output_type": "stream",
     "text": [
      "2022-11-13 15:30:52.784389: I tensorflow/core/grappler/optimizers/custom_graph_optimizer_registry.cc:114] Plugin optimizer for device_type GPU is enabled.\n"
     ]
    },
    {
     "name": "stdout",
     "output_type": "stream",
     "text": [
      "10/10 [==============================] - ETA: 0s - loss: 5.8247 - tp: 175.0000 - fp: 85.0000 - tn: 235.0000 - fn: 154.0000 - precision: 0.6731 - recall: 0.5319\n",
      "\n",
      "******* Stoping on Defined Thresold *******\n",
      "F1 TRAINING:  0.5942275036572341\n",
      "Recall TRAINING:  0.5319148898124695\n",
      "10/10 [==============================] - 4s 197ms/step - loss: 5.8247 - tp: 175.0000 - fp: 85.0000 - tn: 235.0000 - fn: 154.0000 - precision: 0.6731 - recall: 0.5319\n",
      "\n",
      "\n",
      "\n",
      "****** Early Stopping *******\n",
      "17/41 [===========>..................] - ETA: 0s"
     ]
    },
    {
     "name": "stderr",
     "output_type": "stream",
     "text": [
      "2022-11-13 15:30:56.359417: I tensorflow/core/grappler/optimizers/custom_graph_optimizer_registry.cc:114] Plugin optimizer for device_type GPU is enabled.\n"
     ]
    },
    {
     "name": "stdout",
     "output_type": "stream",
     "text": [
      "41/41 [==============================] - 0s 4ms/step\n",
      "0.878213802435724\n",
      "0.8613251155624037\n",
      "error_rate: 0.00010683735318767058\n",
      "0.9999999999999849\n",
      " =========== iteration ===========>: 1\n",
      "bfore traning:  44.99229583975347\n",
      "Epoch 1/60\n"
     ]
    },
    {
     "name": "stderr",
     "output_type": "stream",
     "text": [
      "2022-11-13 15:30:58.654213: I tensorflow/core/grappler/optimizers/custom_graph_optimizer_registry.cc:114] Plugin optimizer for device_type GPU is enabled.\n"
     ]
    },
    {
     "name": "stdout",
     "output_type": "stream",
     "text": [
      "10/10 [==============================] - 5s 176ms/step - loss: 5.8458 - tp: 125.0000 - fp: 156.0000 - tn: 201.0000 - fn: 167.0000 - precision: 0.4448 - recall: 0.4281\n",
      "Epoch 2/60\n",
      "10/10 [==============================] - ETA: 0s - loss: 1.5598 - tp: 282.0000 - fp: 64.0000 - tn: 293.0000 - fn: 10.0000 - precision: 0.8150 - recall: 0.9658\n",
      "\n",
      "******* Stoping on Defined Thresold *******\n",
      "F1 TRAINING:  0.8840125464058535\n",
      "Recall TRAINING:  0.965753436088562\n",
      "10/10 [==============================] - 0s 22ms/step - loss: 1.5598 - tp: 282.0000 - fp: 64.0000 - tn: 293.0000 - fn: 10.0000 - precision: 0.8150 - recall: 0.9658\n",
      "\n",
      "\n",
      "\n",
      "****** Early Stopping *******\n",
      "27/41 [==================>...........] - ETA: 0s"
     ]
    },
    {
     "name": "stderr",
     "output_type": "stream",
     "text": [
      "2022-11-13 15:31:02.110227: I tensorflow/core/grappler/optimizers/custom_graph_optimizer_registry.cc:114] Plugin optimizer for device_type GPU is enabled.\n"
     ]
    },
    {
     "name": "stdout",
     "output_type": "stream",
     "text": [
      "41/41 [==============================] - 0s 5ms/step\n",
      "0.9530102790014684\n",
      "0.9506933744221879\n",
      "error_rate: 3.79894504468831e-05\n",
      "1.0000000000000002\n",
      " =========== iteration ===========>: 2\n",
      "bfore traning:  47.76579352850539\n",
      "Epoch 1/60\n"
     ]
    },
    {
     "name": "stderr",
     "output_type": "stream",
     "text": [
      "2022-11-13 15:31:02.785747: I tensorflow/core/grappler/optimizers/custom_graph_optimizer_registry.cc:114] Plugin optimizer for device_type GPU is enabled.\n"
     ]
    },
    {
     "name": "stdout",
     "output_type": "stream",
     "text": [
      "10/10 [==============================] - ETA: 0s - loss: 5.8417 - tp: 176.0000 - fp: 158.0000 - tn: 181.0000 - fn: 134.0000 - precision: 0.5269 - recall: 0.5677\n",
      "\n",
      "******* Stoping on Defined Thresold *******\n",
      "F1 TRAINING:  0.5465838591752882\n",
      "Recall TRAINING:  0.5677419304847717\n",
      "10/10 [==============================] - 3s 204ms/step - loss: 5.8417 - tp: 176.0000 - fp: 158.0000 - tn: 181.0000 - fn: 134.0000 - precision: 0.5269 - recall: 0.5677\n",
      "\n",
      "\n",
      "\n",
      "****** Early Stopping *******\n",
      "26/41 [==================>...........] - ETA: 0s"
     ]
    },
    {
     "name": "stderr",
     "output_type": "stream",
     "text": [
      "2022-11-13 15:31:05.834563: I tensorflow/core/grappler/optimizers/custom_graph_optimizer_registry.cc:114] Plugin optimizer for device_type GPU is enabled.\n"
     ]
    },
    {
     "name": "stdout",
     "output_type": "stream",
     "text": [
      "41/41 [==============================] - 0s 4ms/step\n",
      "0.7953615279672579\n",
      "0.7688751926040062\n",
      "error_rate: 0.00017806810570464236\n",
      "1.0000000000000164\n",
      " =========== iteration ===========>: 3\n",
      "bfore traning:  50.53929121725732\n",
      "Epoch 1/60\n"
     ]
    },
    {
     "name": "stderr",
     "output_type": "stream",
     "text": [
      "2022-11-13 15:31:06.447010: I tensorflow/core/grappler/optimizers/custom_graph_optimizer_registry.cc:114] Plugin optimizer for device_type GPU is enabled.\n"
     ]
    },
    {
     "name": "stdout",
     "output_type": "stream",
     "text": [
      "10/10 [==============================] - 3s 204ms/step - loss: 5.8788 - tp: 81.0000 - fp: 31.0000 - tn: 290.0000 - fn: 247.0000 - precision: 0.7232 - recall: 0.2470\n",
      "Epoch 2/60\n",
      "10/10 [==============================] - ETA: 0s - loss: 1.5828 - tp: 276.0000 - fp: 22.0000 - tn: 299.0000 - fn: 52.0000 - precision: 0.9262 - recall: 0.8415\n",
      "\n",
      "******* Stoping on Defined Thresold *******\n",
      "F1 TRAINING:  0.8817891661819951\n",
      "Recall TRAINING:  0.8414634466171265\n",
      "10/10 [==============================] - 0s 48ms/step - loss: 1.5828 - tp: 276.0000 - fp: 22.0000 - tn: 299.0000 - fn: 52.0000 - precision: 0.9262 - recall: 0.8415\n",
      "\n",
      "\n",
      "\n",
      "****** Early Stopping *******\n",
      "25/41 [=================>............] - ETA: 0s"
     ]
    },
    {
     "name": "stderr",
     "output_type": "stream",
     "text": [
      "2022-11-13 15:31:10.159477: I tensorflow/core/grappler/optimizers/custom_graph_optimizer_registry.cc:114] Plugin optimizer for device_type GPU is enabled.\n"
     ]
    },
    {
     "name": "stdout",
     "output_type": "stream",
     "text": [
      "41/41 [==============================] - 0s 6ms/step\n",
      "0.8791018998272885\n",
      "0.8921417565485362\n",
      "error_rate: 8.309089600072132e-05\n",
      "1.0000000000000342\n",
      " =========== iteration ===========>: 4\n",
      "bfore traning:  47.303543913713405\n",
      "Epoch 1/60\n"
     ]
    },
    {
     "name": "stderr",
     "output_type": "stream",
     "text": [
      "2022-11-13 15:31:10.835566: I tensorflow/core/grappler/optimizers/custom_graph_optimizer_registry.cc:114] Plugin optimizer for device_type GPU is enabled.\n"
     ]
    },
    {
     "name": "stdout",
     "output_type": "stream",
     "text": [
      "10/10 [==============================] - 3s 207ms/step - loss: 5.8424 - tp: 92.0000 - fp: 57.0000 - tn: 285.0000 - fn: 215.0000 - precision: 0.6174 - recall: 0.2997\n",
      "Epoch 2/60\n",
      "10/10 [==============================] - ETA: 0s - loss: 1.5703 - tp: 259.0000 - fp: 4.0000 - tn: 338.0000 - fn: 48.0000 - precision: 0.9848 - recall: 0.8436\n",
      "\n",
      "******* Stoping on Defined Thresold *******\n",
      "F1 TRAINING:  0.9087719512455414\n",
      "Recall TRAINING:  0.8436482548713684\n",
      "10/10 [==============================] - 0s 23ms/step - loss: 1.5703 - tp: 259.0000 - fp: 4.0000 - tn: 338.0000 - fn: 48.0000 - precision: 0.9848 - recall: 0.8436\n",
      "\n",
      "\n",
      "\n",
      "****** Early Stopping *******\n",
      "16/41 [==========>...................] - ETA: 0s"
     ]
    },
    {
     "name": "stderr",
     "output_type": "stream",
     "text": [
      "2022-11-13 15:31:14.160794: I tensorflow/core/grappler/optimizers/custom_graph_optimizer_registry.cc:114] Plugin optimizer for device_type GPU is enabled.\n"
     ]
    },
    {
     "name": "stdout",
     "output_type": "stream",
     "text": [
      "41/41 [==============================] - 0s 4ms/step\n",
      "0.9860681114551084\n",
      "0.9861325115562404\n",
      "error_rate: 1.0685603563664963e-05\n",
      "1.0000000000000047\n",
      " =========== iteration ===========>: 5\n",
      "bfore traning:  50.38520801232666\n",
      "Epoch 1/60\n"
     ]
    },
    {
     "name": "stderr",
     "output_type": "stream",
     "text": [
      "2022-11-13 15:31:14.804322: I tensorflow/core/grappler/optimizers/custom_graph_optimizer_registry.cc:114] Plugin optimizer for device_type GPU is enabled.\n"
     ]
    },
    {
     "name": "stdout",
     "output_type": "stream",
     "text": [
      "10/10 [==============================] - 3s 202ms/step - loss: 5.8467 - tp: 137.0000 - fp: 124.0000 - tn: 198.0000 - fn: 190.0000 - precision: 0.5249 - recall: 0.4190\n",
      "Epoch 2/60\n",
      "10/10 [==============================] - ETA: 0s - loss: 1.5588 - tp: 316.0000 - fp: 104.0000 - tn: 218.0000 - fn: 11.0000 - precision: 0.7524 - recall: 0.9664\n",
      "\n",
      "******* Stoping on Defined Thresold *******\n",
      "F1 TRAINING:  0.8460508836003838\n",
      "Recall TRAINING:  0.966360867023468\n",
      "10/10 [==============================] - 0s 34ms/step - loss: 1.5588 - tp: 316.0000 - fp: 104.0000 - tn: 218.0000 - fn: 11.0000 - precision: 0.7524 - recall: 0.9664\n",
      "\n",
      "\n",
      "\n",
      "****** Early Stopping *******\n",
      "16/41 [==========>...................] - ETA: 0s"
     ]
    },
    {
     "name": "stderr",
     "output_type": "stream",
     "text": [
      "2022-11-13 15:31:18.404096: I tensorflow/core/grappler/optimizers/custom_graph_optimizer_registry.cc:114] Plugin optimizer for device_type GPU is enabled.\n"
     ]
    },
    {
     "name": "stdout",
     "output_type": "stream",
     "text": [
      "41/41 [==============================] - 0s 5ms/step\n",
      "0.8578982154659617\n",
      "0.8343605546995377\n",
      "error_rate: 0.00012762269593400775\n",
      "0.999999999999986\n",
      " =========== iteration ===========>: 6\n",
      "bfore traning:  49.61479198767334\n",
      "Epoch 1/60\n"
     ]
    },
    {
     "name": "stderr",
     "output_type": "stream",
     "text": [
      "2022-11-13 15:31:19.042409: I tensorflow/core/grappler/optimizers/custom_graph_optimizer_registry.cc:114] Plugin optimizer for device_type GPU is enabled.\n"
     ]
    },
    {
     "name": "stdout",
     "output_type": "stream",
     "text": [
      "10/10 [==============================] - ETA: 0s - loss: 5.8331 - tp: 231.0000 - fp: 219.0000 - tn: 108.0000 - fn: 91.0000 - precision: 0.5133 - recall: 0.7174\n",
      "\n",
      "******* Stoping on Defined Thresold *******\n",
      "F1 TRAINING:  0.5984455899191002\n",
      "Recall TRAINING:  0.717391312122345\n",
      "10/10 [==============================] - 3s 184ms/step - loss: 5.8331 - tp: 231.0000 - fp: 219.0000 - tn: 108.0000 - fn: 91.0000 - precision: 0.5133 - recall: 0.7174\n",
      "\n",
      "\n",
      "\n",
      "****** Early Stopping *******\n",
      "28/41 [===================>..........] - ETA: 0s"
     ]
    },
    {
     "name": "stderr",
     "output_type": "stream",
     "text": [
      "2022-11-13 15:31:22.397442: I tensorflow/core/grappler/optimizers/custom_graph_optimizer_registry.cc:114] Plugin optimizer for device_type GPU is enabled.\n"
     ]
    },
    {
     "name": "stdout",
     "output_type": "stream",
     "text": [
      "41/41 [==============================] - 0s 4ms/step\n",
      "0.7701612903225807\n",
      "0.736517719568567\n",
      "error_rate: 0.00020300205451058735\n",
      "1.000000000000035\n",
      " =========== iteration ===========>: 7\n",
      "bfore traning:  51.463790446841294\n",
      "Epoch 1/60\n"
     ]
    },
    {
     "name": "stderr",
     "output_type": "stream",
     "text": [
      "2022-11-13 15:31:22.996300: I tensorflow/core/grappler/optimizers/custom_graph_optimizer_registry.cc:114] Plugin optimizer for device_type GPU is enabled.\n"
     ]
    },
    {
     "name": "stdout",
     "output_type": "stream",
     "text": [
      "10/10 [==============================] - ETA: 0s - loss: 5.8626 - tp: 288.0000 - fp: 192.0000 - tn: 123.0000 - fn: 46.0000 - precision: 0.6000 - recall: 0.8623\n",
      "\n",
      "******* Stoping on Defined Thresold *******\n",
      "F1 TRAINING:  0.7076167350137801\n",
      "Recall TRAINING:  0.8622754812240601\n",
      "10/10 [==============================] - 3s 162ms/step - loss: 5.8626 - tp: 288.0000 - fp: 192.0000 - tn: 123.0000 - fn: 46.0000 - precision: 0.6000 - recall: 0.8623\n",
      "\n",
      "\n",
      "\n",
      "****** Early Stopping *******\n",
      "36/41 [=========================>....] - ETA: 0s"
     ]
    },
    {
     "name": "stderr",
     "output_type": "stream",
     "text": [
      "2022-11-13 15:31:26.053156: I tensorflow/core/grappler/optimizers/custom_graph_optimizer_registry.cc:114] Plugin optimizer for device_type GPU is enabled.\n"
     ]
    },
    {
     "name": "stdout",
     "output_type": "stream",
     "text": [
      "41/41 [==============================] - 0s 4ms/step\n",
      "0.8358016741790084\n",
      "0.8035439137134053\n",
      "error_rate: 0.00015137543624668668\n",
      "0.9999999999999862\n",
      " =========== iteration ===========>: 8\n",
      "bfore traning:  53.46687211093991\n",
      "Epoch 1/60\n"
     ]
    },
    {
     "name": "stderr",
     "output_type": "stream",
     "text": [
      "2022-11-13 15:31:26.640229: I tensorflow/core/grappler/optimizers/custom_graph_optimizer_registry.cc:114] Plugin optimizer for device_type GPU is enabled.\n"
     ]
    },
    {
     "name": "stdout",
     "output_type": "stream",
     "text": [
      "10/10 [==============================] - ETA: 0s - loss: 5.8219 - tp: 305.0000 - fp: 186.0000 - tn: 116.0000 - fn: 42.0000 - precision: 0.6212 - recall: 0.8790\n",
      "\n",
      "******* Stoping on Defined Thresold *******\n",
      "F1 TRAINING:  0.7279236734505186\n",
      "Recall TRAINING:  0.8789625763893127\n",
      "10/10 [==============================] - 3s 178ms/step - loss: 5.8219 - tp: 305.0000 - fp: 186.0000 - tn: 116.0000 - fn: 42.0000 - precision: 0.6212 - recall: 0.8790\n",
      "\n",
      "\n",
      "\n",
      "****** Early Stopping *******\n",
      "31/41 [=====================>........] - ETA: 0s"
     ]
    },
    {
     "name": "stderr",
     "output_type": "stream",
     "text": [
      "2022-11-13 15:31:29.406676: I tensorflow/core/grappler/optimizers/custom_graph_optimizer_registry.cc:114] Plugin optimizer for device_type GPU is enabled.\n"
     ]
    },
    {
     "name": "stdout",
     "output_type": "stream",
     "text": [
      "41/41 [==============================] - 0s 4ms/step\n",
      "0.7772455089820359\n",
      "0.7134052388289677\n",
      "error_rate: 0.00022083434607444706\n",
      "0.9999999999999736\n",
      " =========== iteration ===========>: 9\n",
      "bfore traning:  51.00154083204931\n",
      "Epoch 1/60\n"
     ]
    },
    {
     "name": "stderr",
     "output_type": "stream",
     "text": [
      "2022-11-13 15:31:30.001531: I tensorflow/core/grappler/optimizers/custom_graph_optimizer_registry.cc:114] Plugin optimizer for device_type GPU is enabled.\n"
     ]
    },
    {
     "name": "stdout",
     "output_type": "stream",
     "text": [
      "10/10 [==============================] - ETA: 0s - loss: 5.8840 - tp: 193.0000 - fp: 105.0000 - tn: 213.0000 - fn: 138.0000 - precision: 0.6477 - recall: 0.5831\n",
      "\n",
      "******* Stoping on Defined Thresold *******\n",
      "F1 TRAINING:  0.6136724852558307\n",
      "Recall TRAINING:  0.5830815434455872\n",
      "10/10 [==============================] - 3s 179ms/step - loss: 5.8840 - tp: 193.0000 - fp: 105.0000 - tn: 213.0000 - fn: 138.0000 - precision: 0.6477 - recall: 0.5831\n",
      "\n",
      "\n",
      "\n",
      "****** Early Stopping *******\n",
      "30/41 [====================>.........] - ETA: 0s"
     ]
    },
    {
     "name": "stderr",
     "output_type": "stream",
     "text": [
      "2022-11-13 15:31:32.920907: I tensorflow/core/grappler/optimizers/custom_graph_optimizer_registry.cc:114] Plugin optimizer for device_type GPU is enabled.\n"
     ]
    },
    {
     "name": "stdout",
     "output_type": "stream",
     "text": [
      "41/41 [==============================] - 0s 5ms/step\n",
      "0.8071570576540755\n",
      "0.775808936825886\n",
      "error_rate: 0.00017274616483780946\n",
      "0.999999999999997\n",
      " =========== iteration ===========>: 10\n",
      "bfore traning:  51.30970724191063\n",
      "Epoch 1/60\n"
     ]
    },
    {
     "name": "stderr",
     "output_type": "stream",
     "text": [
      "2022-11-13 15:31:33.532080: I tensorflow/core/grappler/optimizers/custom_graph_optimizer_registry.cc:114] Plugin optimizer for device_type GPU is enabled.\n"
     ]
    },
    {
     "name": "stdout",
     "output_type": "stream",
     "text": [
      "10/10 [==============================] - ETA: 0s - loss: 5.8424 - tp: 285.0000 - fp: 249.0000 - tn: 67.0000 - fn: 48.0000 - precision: 0.5337 - recall: 0.8559\n",
      "\n",
      "******* Stoping on Defined Thresold *******\n",
      "F1 TRAINING:  0.6574394480324375\n",
      "Recall TRAINING:  0.8558558821678162\n",
      "10/10 [==============================] - 3s 190ms/step - loss: 5.8424 - tp: 285.0000 - fp: 249.0000 - tn: 67.0000 - fn: 48.0000 - precision: 0.5337 - recall: 0.8559\n",
      "\n",
      "\n",
      "\n",
      "****** Early Stopping *******\n",
      "28/41 [===================>..........] - ETA: 0s"
     ]
    },
    {
     "name": "stderr",
     "output_type": "stream",
     "text": [
      "2022-11-13 15:31:36.728054: I tensorflow/core/grappler/optimizers/custom_graph_optimizer_registry.cc:114] Plugin optimizer for device_type GPU is enabled.\n"
     ]
    },
    {
     "name": "stdout",
     "output_type": "stream",
     "text": [
      "41/41 [==============================] - 0s 6ms/step\n",
      "0.7612031921424187\n",
      "0.7003081664098614\n",
      "error_rate: 0.0002309358959171673\n",
      "1.000000000000029\n",
      " =========== iteration ===========>: 11\n",
      "bfore traning:  51.61787365177196\n",
      "Epoch 1/60\n"
     ]
    },
    {
     "name": "stderr",
     "output_type": "stream",
     "text": [
      "2022-11-13 15:31:37.386290: I tensorflow/core/grappler/optimizers/custom_graph_optimizer_registry.cc:114] Plugin optimizer for device_type GPU is enabled.\n"
     ]
    },
    {
     "name": "stdout",
     "output_type": "stream",
     "text": [
      "10/10 [==============================] - ETA: 0s - loss: 5.8466 - tp: 230.0000 - fp: 222.0000 - tn: 92.0000 - fn: 105.0000 - precision: 0.5088 - recall: 0.6866\n",
      "\n",
      "******* Stoping on Defined Thresold *******\n",
      "F1 TRAINING:  0.584498104845863\n",
      "Recall TRAINING:  0.6865671873092651\n",
      "10/10 [==============================] - 3s 176ms/step - loss: 5.8466 - tp: 230.0000 - fp: 222.0000 - tn: 92.0000 - fn: 105.0000 - precision: 0.5088 - recall: 0.6866\n",
      "\n",
      "\n",
      "\n",
      "****** Early Stopping *******\n",
      "33/41 [=======================>......] - ETA: 0s"
     ]
    },
    {
     "name": "stderr",
     "output_type": "stream",
     "text": [
      "2022-11-13 15:31:40.431704: I tensorflow/core/grappler/optimizers/custom_graph_optimizer_registry.cc:114] Plugin optimizer for device_type GPU is enabled.\n"
     ]
    },
    {
     "name": "stdout",
     "output_type": "stream",
     "text": [
      "41/41 [==============================] - 0s 4ms/step\n",
      "0.6703221384509939\n",
      "0.6294298921417566\n",
      "error_rate: 0.00028551501770373043\n",
      "1.0000000000000056\n"
     ]
    }
   ],
   "source": [
    "# plt.plot(initial_weight)\n",
    "boosting(initial_weight)"
   ],
   "metadata": {
    "collapsed": false,
    "pycharm": {
     "name": "#%%\n"
    }
   }
  },
  {
   "cell_type": "code",
   "execution_count": 291,
   "outputs": [
    {
     "data": {
      "text/plain": "[9.144096100577156e-05,\n 0.00010178164066428206,\n 8.633166380571219e-05,\n 9.39549232250082e-05,\n 0.00011446602498121291,\n 8.966304704208411e-05,\n 8.502091435569676e-05,\n 8.795596087306623e-05,\n 8.417876844051458e-05,\n 8.663514535125198e-05,\n 8.373139430241005e-05,\n 8.160930373052623e-05]"
     },
     "execution_count": 291,
     "metadata": {},
     "output_type": "execute_result"
    }
   ],
   "source": [
    "alphas"
   ],
   "metadata": {
    "collapsed": false,
    "pycharm": {
     "name": "#%%\n"
    }
   }
  },
  {
   "cell_type": "code",
   "execution_count": 292,
   "outputs": [],
   "source": [
    "from sklearn.metrics import ConfusionMatrixDisplay, confusion_matrix\n",
    "\n",
    "\n",
    "def repeat(test_split, test_result, start, end):\n",
    "    mx = 0\n",
    "    size = 0\n",
    "    data = []\n",
    "    f1=[]\n",
    "    for i in range(start,end):\n",
    "        data = some_pred(test_split, i)\n",
    "        tn, fp, fn, tp = confusion_matrix(test_result, data).ravel()\n",
    "        precision = tp / (tp+ fp)\n",
    "        recall = tp / (tp+ fn)\n",
    "        score = (2 * precision * recall) / (precision + recall)\n",
    "        print(score)\n",
    "        f1.append(score)\n",
    "        if mx < score:\n",
    "            mx = score\n",
    "            size = i\n",
    "        print(i)\n",
    "    print(mx,size)\n",
    "    return data, f1\n",
    "\n",
    "# a = ensemble[0].predict(test_split)\n",
    "\n",
    "def some_pred(test_split, esize):\n",
    "#     data = []\n",
    "    k = []\n",
    "#     for j in range(len(test_split)):\n",
    "#         pa=0\n",
    "#         na =0\n",
    "    for i in range(esize):\n",
    "        print('*********:', i)\n",
    "        k.append(ensemble[i].predict([test_split]))\n",
    "        # if pa >=na:\n",
    "        #     data.append(1)\n",
    "        # else:\n",
    "        #     data.append(0)\n",
    "    # f1.append(f1_score(test_result, data, average=\"macro\"))\n",
    "    # acc.append(accuracy_score(test_result, data))\n",
    "    return k"
   ],
   "metadata": {
    "collapsed": false,
    "pycharm": {
     "name": "#%%\n"
    }
   }
  },
  {
   "cell_type": "code",
   "execution_count": 292,
   "outputs": [],
   "source": [],
   "metadata": {
    "collapsed": false,
    "pycharm": {
     "name": "#%%\n"
    }
   }
  },
  {
   "cell_type": "code",
   "execution_count": 293,
   "outputs": [],
   "source": [
    "\n",
    "def majority(data):\n",
    "    ans =[]\n",
    "    for i in range(len(data[0])):\n",
    "        ap = 0\n",
    "        an = 0\n",
    "        for e in range(len(data)):\n",
    "            if data[e][i] >= .5:\n",
    "                ap += alphas[e]\n",
    "            else:\n",
    "                an += alphas[e]\n",
    "        if ap >= an:\n",
    "            ans.append(1)\n",
    "        else:\n",
    "            ans.append(0)\n",
    "    return ans\n"
   ],
   "metadata": {
    "collapsed": false,
    "pycharm": {
     "name": "#%%\n"
    }
   }
  },
  {
   "cell_type": "code",
   "execution_count": 294,
   "outputs": [],
   "source": [
    "def getf1(true, predicted):\n",
    "    tn, fp, fn, tp = confusion_matrix(true, predicted).ravel()\n",
    "    precision = tp / (tp+ fp)\n",
    "    recall = tp / (tp+ fn)\n",
    "    score = (2 * precision * recall) / (precision + recall)\n",
    "    return score"
   ],
   "metadata": {
    "collapsed": false,
    "pycharm": {
     "name": "#%%\n"
    }
   }
  },
  {
   "cell_type": "code",
   "execution_count": 295,
   "outputs": [
    {
     "name": "stdout",
     "output_type": "stream",
     "text": [
      "*********: 0\n",
      "4/4 [==============================] - 0s 29ms/step\n",
      "*********: 0\n",
      "1/4 [======>.......................] - ETA: 0s"
     ]
    },
    {
     "name": "stderr",
     "output_type": "stream",
     "text": [
      "2022-11-13 15:31:46.654655: I tensorflow/core/grappler/optimizers/custom_graph_optimizer_registry.cc:114] Plugin optimizer for device_type GPU is enabled.\n"
     ]
    },
    {
     "name": "stdout",
     "output_type": "stream",
     "text": [
      "4/4 [==============================] - 0s 7ms/step\n",
      "*********: 1\n",
      "4/4 [==============================] - 0s 20ms/step\n",
      "*********: 0\n",
      "4/4 [==============================] - 0s 6ms/step\n"
     ]
    },
    {
     "name": "stderr",
     "output_type": "stream",
     "text": [
      "2022-11-13 15:31:46.895671: I tensorflow/core/grappler/optimizers/custom_graph_optimizer_registry.cc:114] Plugin optimizer for device_type GPU is enabled.\n"
     ]
    },
    {
     "name": "stdout",
     "output_type": "stream",
     "text": [
      "*********: 1\n",
      "4/4 [==============================] - 0s 9ms/step\n",
      "*********: 2\n",
      "4/4 [==============================] - 0s 22ms/step\n",
      "*********: 0\n",
      "4/4 [==============================] - 0s 4ms/step\n"
     ]
    },
    {
     "name": "stderr",
     "output_type": "stream",
     "text": [
      "2022-11-13 15:31:47.180777: I tensorflow/core/grappler/optimizers/custom_graph_optimizer_registry.cc:114] Plugin optimizer for device_type GPU is enabled.\n"
     ]
    },
    {
     "name": "stdout",
     "output_type": "stream",
     "text": [
      "*********: 1\n",
      "4/4 [==============================] - 0s 9ms/step\n",
      "*********: 2\n",
      "4/4 [==============================] - 0s 6ms/step\n",
      "*********: 3\n",
      "4/4 [==============================] - 0s 19ms/step\n",
      "*********: 0\n",
      "4/4 [==============================] - 0s 3ms/step\n",
      "*********: 1\n",
      "1/4 [======>.......................] - ETA: 0s"
     ]
    },
    {
     "name": "stderr",
     "output_type": "stream",
     "text": [
      "2022-11-13 15:31:47.552462: I tensorflow/core/grappler/optimizers/custom_graph_optimizer_registry.cc:114] Plugin optimizer for device_type GPU is enabled.\n"
     ]
    },
    {
     "name": "stdout",
     "output_type": "stream",
     "text": [
      "4/4 [==============================] - 0s 12ms/step\n",
      "*********: 2\n",
      "4/4 [==============================] - 0s 8ms/step\n",
      "*********: 3\n",
      "4/4 [==============================] - 0s 8ms/step\n",
      "*********: 4\n",
      "4/4 [==============================] - 0s 19ms/step\n",
      "*********: 0\n",
      "4/4 [==============================] - 0s 10ms/step\n"
     ]
    },
    {
     "name": "stderr",
     "output_type": "stream",
     "text": [
      "2022-11-13 15:31:47.948459: I tensorflow/core/grappler/optimizers/custom_graph_optimizer_registry.cc:114] Plugin optimizer for device_type GPU is enabled.\n"
     ]
    },
    {
     "name": "stdout",
     "output_type": "stream",
     "text": [
      "*********: 1\n",
      "4/4 [==============================] - 0s 3ms/step\n",
      "*********: 2\n",
      "4/4 [==============================] - 0s 7ms/step\n",
      "*********: 3\n",
      "4/4 [==============================] - 0s 7ms/step\n",
      "*********: 4\n",
      "4/4 [==============================] - 0s 4ms/step\n",
      "*********: 5\n",
      "4/4 [==============================] - 0s 21ms/step\n",
      "*********: 0\n",
      "4/4 [==============================] - 0s 3ms/step\n",
      "*********: 1\n",
      "1/4 [======>.......................] - ETA: 0s"
     ]
    },
    {
     "name": "stderr",
     "output_type": "stream",
     "text": [
      "2022-11-13 15:31:48.396346: I tensorflow/core/grappler/optimizers/custom_graph_optimizer_registry.cc:114] Plugin optimizer for device_type GPU is enabled.\n"
     ]
    },
    {
     "name": "stdout",
     "output_type": "stream",
     "text": [
      "4/4 [==============================] - 0s 4ms/step\n",
      "*********: 2\n",
      "4/4 [==============================] - 0s 4ms/step\n",
      "*********: 3\n",
      "4/4 [==============================] - 0s 3ms/step\n",
      "*********: 4\n",
      "4/4 [==============================] - 0s 3ms/step\n",
      "*********: 5\n",
      "4/4 [==============================] - 0s 4ms/step\n",
      "*********: 6\n",
      "4/4 [==============================] - 0s 20ms/step\n",
      "*********: 0\n",
      "4/4 [==============================] - 0s 3ms/step\n",
      "*********: 1\n",
      "1/4 [======>.......................] - ETA: 0s"
     ]
    },
    {
     "name": "stderr",
     "output_type": "stream",
     "text": [
      "2022-11-13 15:31:48.836456: I tensorflow/core/grappler/optimizers/custom_graph_optimizer_registry.cc:114] Plugin optimizer for device_type GPU is enabled.\n"
     ]
    },
    {
     "name": "stdout",
     "output_type": "stream",
     "text": [
      "4/4 [==============================] - 0s 4ms/step\n",
      "*********: 2\n",
      "4/4 [==============================] - 0s 3ms/step\n",
      "*********: 3\n",
      "4/4 [==============================] - 0s 7ms/step\n",
      "*********: 4\n",
      "4/4 [==============================] - 0s 7ms/step\n",
      "*********: 5\n",
      "4/4 [==============================] - 0s 3ms/step\n",
      "*********: 6\n",
      "4/4 [==============================] - 0s 3ms/step\n",
      "*********: 7\n",
      "4/4 [==============================] - 0s 15ms/step\n",
      "*********: 0\n",
      "4/4 [==============================] - 0s 3ms/step\n",
      "*********: 1\n",
      "4/4 [==============================] - 0s 3ms/step\n"
     ]
    },
    {
     "name": "stderr",
     "output_type": "stream",
     "text": [
      "2022-11-13 15:31:49.359805: I tensorflow/core/grappler/optimizers/custom_graph_optimizer_registry.cc:114] Plugin optimizer for device_type GPU is enabled.\n"
     ]
    },
    {
     "name": "stdout",
     "output_type": "stream",
     "text": [
      "*********: 2\n",
      "4/4 [==============================] - 0s 3ms/step\n",
      "*********: 3\n",
      "4/4 [==============================] - 0s 7ms/step\n",
      "*********: 4\n",
      "4/4 [==============================] - 0s 14ms/step\n",
      "*********: 5\n",
      "4/4 [==============================] - 0s 4ms/step\n",
      "*********: 6\n",
      "4/4 [==============================] - 0s 8ms/step\n",
      "*********: 7\n",
      "4/4 [==============================] - 0s 13ms/step\n",
      "*********: 8\n",
      "4/4 [==============================] - 0s 28ms/step\n",
      "*********: 0\n",
      "4/4 [==============================] - 0s 3ms/step\n"
     ]
    },
    {
     "name": "stderr",
     "output_type": "stream",
     "text": [
      "2022-11-13 15:31:50.017540: I tensorflow/core/grappler/optimizers/custom_graph_optimizer_registry.cc:114] Plugin optimizer for device_type GPU is enabled.\n"
     ]
    },
    {
     "name": "stdout",
     "output_type": "stream",
     "text": [
      "*********: 1\n",
      "4/4 [==============================] - 0s 3ms/step\n",
      "*********: 2\n",
      "4/4 [==============================] - 0s 3ms/step\n",
      "*********: 3\n",
      "4/4 [==============================] - 0s 3ms/step\n",
      "*********: 4\n",
      "4/4 [==============================] - 0s 6ms/step\n",
      "*********: 5\n",
      "4/4 [==============================] - 0s 7ms/step\n",
      "*********: 6\n",
      "4/4 [==============================] - 0s 3ms/step\n",
      "*********: 7\n",
      "4/4 [==============================] - 0s 6ms/step\n",
      "*********: 8\n",
      "4/4 [==============================] - 0s 7ms/step\n",
      "*********: 9\n",
      "4/4 [==============================] - 0s 18ms/step\n",
      "*********: 0\n",
      "4/4 [==============================] - 0s 3ms/step\n",
      "*********: 1\n",
      "4/4 [==============================] - 0s 3ms/step\n"
     ]
    },
    {
     "name": "stderr",
     "output_type": "stream",
     "text": [
      "2022-11-13 15:31:50.676148: I tensorflow/core/grappler/optimizers/custom_graph_optimizer_registry.cc:114] Plugin optimizer for device_type GPU is enabled.\n"
     ]
    },
    {
     "name": "stdout",
     "output_type": "stream",
     "text": [
      "*********: 2\n",
      "4/4 [==============================] - 0s 3ms/step\n",
      "*********: 3\n",
      "4/4 [==============================] - 0s 3ms/step\n",
      "*********: 4\n",
      "4/4 [==============================] - 0s 4ms/step\n",
      "*********: 5\n",
      "4/4 [==============================] - 0s 3ms/step\n",
      "*********: 6\n",
      "4/4 [==============================] - 0s 4ms/step\n",
      "*********: 7\n",
      "4/4 [==============================] - 0s 8ms/step\n",
      "*********: 8\n",
      "4/4 [==============================] - 0s 12ms/step\n",
      "*********: 9\n",
      "4/4 [==============================] - 0s 10ms/step\n",
      "*********: 10\n",
      "4/4 [==============================] - 0s 20ms/step\n",
      "*********: 0\n",
      "4/4 [==============================] - 0s 3ms/step\n"
     ]
    },
    {
     "name": "stderr",
     "output_type": "stream",
     "text": [
      "2022-11-13 15:31:51.338585: I tensorflow/core/grappler/optimizers/custom_graph_optimizer_registry.cc:114] Plugin optimizer for device_type GPU is enabled.\n"
     ]
    },
    {
     "name": "stdout",
     "output_type": "stream",
     "text": [
      "*********: 1\n",
      "4/4 [==============================] - 0s 3ms/step\n",
      "*********: 2\n",
      "4/4 [==============================] - 0s 4ms/step\n",
      "*********: 3\n",
      "4/4 [==============================] - 0s 3ms/step\n",
      "*********: 4\n",
      "4/4 [==============================] - 0s 3ms/step\n",
      "*********: 5\n",
      "4/4 [==============================] - 0s 2ms/step\n",
      "*********: 6\n",
      "4/4 [==============================] - 0s 7ms/step\n",
      "*********: 7\n",
      "4/4 [==============================] - 0s 3ms/step\n",
      "*********: 8\n",
      "4/4 [==============================] - 0s 9ms/step\n",
      "*********: 9\n",
      "4/4 [==============================] - 0s 3ms/step\n",
      "*********: 10\n",
      "4/4 [==============================] - 0s 8ms/step\n",
      "*********: 11\n",
      "4/4 [==============================] - 0s 21ms/step\n"
     ]
    },
    {
     "name": "stderr",
     "output_type": "stream",
     "text": [
      "2022-11-13 15:31:52.016497: I tensorflow/core/grappler/optimizers/custom_graph_optimizer_registry.cc:114] Plugin optimizer for device_type GPU is enabled.\n"
     ]
    }
   ],
   "source": [
    "f1_test = []\n",
    "acc_test = []\n",
    "for i in range(1,13):\n",
    "    data = some_pred(test_split, i)\n",
    "    ans = majority(data)\n",
    "    f1_test.append(getf1(test_result, ans))\n",
    "    acc_test.append(accuracy_score(test_result, ans))"
   ],
   "metadata": {
    "collapsed": false,
    "pycharm": {
     "name": "#%%\n"
    }
   }
  },
  {
   "cell_type": "code",
   "execution_count": 296,
   "outputs": [
    {
     "name": "stdout",
     "output_type": "stream",
     "text": [
      "*********: 0\n",
      "41/41 [==============================] - 0s 4ms/step\n",
      "*********: 0\n",
      "41/41 [==============================] - 0s 3ms/step\n",
      "*********: 1\n",
      "41/41 [==============================] - 0s 5ms/step\n",
      "*********: 0\n",
      "41/41 [==============================] - 0s 3ms/step\n",
      "*********: 1\n",
      "41/41 [==============================] - 0s 4ms/step\n",
      "*********: 2\n",
      "41/41 [==============================] - 0s 4ms/step\n",
      "*********: 0\n",
      "41/41 [==============================] - 0s 3ms/step\n",
      "*********: 1\n",
      "41/41 [==============================] - 0s 4ms/step\n",
      "*********: 2\n",
      "41/41 [==============================] - 0s 3ms/step\n",
      "*********: 3\n",
      "41/41 [==============================] - 0s 3ms/step\n",
      "*********: 0\n",
      "41/41 [==============================] - 0s 3ms/step\n",
      "*********: 1\n",
      "41/41 [==============================] - 0s 3ms/step\n",
      "*********: 2\n",
      "41/41 [==============================] - 0s 3ms/step\n",
      "*********: 3\n",
      "41/41 [==============================] - 0s 3ms/step\n",
      "*********: 4\n",
      "41/41 [==============================] - 0s 4ms/step\n",
      "*********: 0\n",
      "41/41 [==============================] - 0s 3ms/step\n",
      "*********: 1\n",
      "41/41 [==============================] - 0s 3ms/step\n",
      "*********: 2\n",
      "41/41 [==============================] - 0s 3ms/step\n",
      "*********: 3\n",
      "41/41 [==============================] - 0s 3ms/step\n",
      "*********: 4\n",
      "41/41 [==============================] - 0s 3ms/step\n",
      "*********: 5\n",
      "41/41 [==============================] - 0s 3ms/step\n",
      "*********: 0\n",
      "41/41 [==============================] - 0s 2ms/step\n",
      "*********: 1\n",
      "41/41 [==============================] - 0s 3ms/step\n",
      "*********: 2\n",
      "41/41 [==============================] - 0s 3ms/step\n",
      "*********: 3\n",
      "41/41 [==============================] - 0s 3ms/step\n",
      "*********: 4\n",
      "41/41 [==============================] - 0s 3ms/step\n",
      "*********: 5\n",
      "41/41 [==============================] - 0s 3ms/step\n",
      "*********: 6\n",
      "41/41 [==============================] - 0s 3ms/step\n",
      "*********: 0\n",
      "41/41 [==============================] - 0s 3ms/step\n",
      "*********: 1\n",
      "41/41 [==============================] - 0s 2ms/step\n",
      "*********: 2\n",
      "41/41 [==============================] - 0s 2ms/step\n",
      "*********: 3\n",
      "41/41 [==============================] - 0s 3ms/step\n",
      "*********: 4\n",
      "41/41 [==============================] - 0s 2ms/step\n",
      "*********: 5\n",
      "41/41 [==============================] - 0s 3ms/step\n",
      "*********: 6\n",
      "41/41 [==============================] - 0s 3ms/step\n",
      "*********: 7\n",
      "41/41 [==============================] - 0s 4ms/step\n",
      "*********: 0\n",
      "41/41 [==============================] - 0s 2ms/step\n",
      "*********: 1\n",
      "41/41 [==============================] - 0s 2ms/step\n",
      "*********: 2\n",
      "41/41 [==============================] - 0s 3ms/step\n",
      "*********: 3\n",
      "41/41 [==============================] - 0s 2ms/step\n",
      "*********: 4\n",
      "41/41 [==============================] - 0s 3ms/step\n",
      "*********: 5\n",
      "41/41 [==============================] - 0s 3ms/step\n",
      "*********: 6\n",
      "41/41 [==============================] - 0s 3ms/step\n",
      "*********: 7\n",
      "41/41 [==============================] - 0s 3ms/step\n",
      "*********: 8\n",
      "41/41 [==============================] - 0s 4ms/step\n",
      "*********: 0\n",
      "41/41 [==============================] - 0s 3ms/step\n",
      "*********: 1\n",
      "41/41 [==============================] - 0s 3ms/step\n",
      "*********: 2\n",
      "41/41 [==============================] - 0s 2ms/step\n",
      "*********: 3\n",
      "41/41 [==============================] - 0s 2ms/step\n",
      "*********: 4\n",
      "41/41 [==============================] - 0s 2ms/step\n",
      "*********: 5\n",
      "41/41 [==============================] - 0s 3ms/step\n",
      "*********: 6\n",
      "41/41 [==============================] - 0s 3ms/step\n",
      "*********: 7\n",
      "41/41 [==============================] - 0s 3ms/step\n",
      "*********: 8\n",
      "41/41 [==============================] - 0s 4ms/step\n",
      "*********: 9\n",
      "41/41 [==============================] - 0s 4ms/step\n",
      "*********: 0\n",
      "41/41 [==============================] - 0s 3ms/step\n",
      "*********: 1\n",
      "41/41 [==============================] - 0s 3ms/step\n",
      "*********: 2\n",
      "41/41 [==============================] - 0s 3ms/step\n",
      "*********: 3\n",
      "41/41 [==============================] - 0s 3ms/step\n",
      "*********: 4\n",
      "41/41 [==============================] - 0s 3ms/step\n",
      "*********: 5\n",
      "41/41 [==============================] - 0s 3ms/step\n",
      "*********: 6\n",
      "41/41 [==============================] - 0s 3ms/step\n",
      "*********: 7\n",
      "41/41 [==============================] - 0s 3ms/step\n",
      "*********: 8\n",
      "41/41 [==============================] - 0s 3ms/step\n",
      "*********: 9\n",
      "41/41 [==============================] - 0s 3ms/step\n",
      "*********: 10\n",
      "41/41 [==============================] - 0s 3ms/step\n",
      "*********: 0\n",
      "41/41 [==============================] - 0s 3ms/step\n",
      "*********: 1\n",
      "41/41 [==============================] - 0s 3ms/step\n",
      "*********: 2\n",
      "41/41 [==============================] - 0s 3ms/step\n",
      "*********: 3\n",
      "41/41 [==============================] - 0s 3ms/step\n",
      "*********: 4\n",
      "41/41 [==============================] - 0s 3ms/step\n",
      "*********: 5\n",
      "41/41 [==============================] - 0s 3ms/step\n",
      "*********: 6\n",
      "41/41 [==============================] - 0s 2ms/step\n",
      "*********: 7\n",
      "41/41 [==============================] - 0s 2ms/step\n",
      "*********: 8\n",
      "41/41 [==============================] - 0s 2ms/step\n",
      "*********: 9\n",
      "41/41 [==============================] - 0s 3ms/step\n",
      "*********: 10\n",
      "41/41 [==============================] - 0s 2ms/step\n",
      "*********: 11\n",
      "41/41 [==============================] - 0s 4ms/step\n"
     ]
    }
   ],
   "source": [
    "f1_train = []\n",
    "acc_train = []\n",
    "for i in range(1,13):\n",
    "    data = some_pred(training_split, i)\n",
    "    ans = majority(data)\n",
    "    f1_train.append(getf1(train_result, ans))\n",
    "    acc_train.append(accuracy_score(train_result, ans))\n",
    "    # ConfusionMatrixDisplay.from_predictions(test_result,ans,cmap='Greens')"
   ],
   "metadata": {
    "collapsed": false,
    "pycharm": {
     "name": "#%%\n"
    }
   }
  },
  {
   "cell_type": "code",
   "execution_count": 297,
   "outputs": [
    {
     "data": {
      "text/plain": "[<matplotlib.lines.Line2D at 0x331861250>]"
     },
     "execution_count": 297,
     "metadata": {},
     "output_type": "execute_result"
    },
    {
     "data": {
      "text/plain": "<Figure size 640x480 with 1 Axes>",
      "image/png": "[encoded data removed]"
     },
     "metadata": {},
     "output_type": "display_data"
    }
   ],
   "source": [
    "plt.plot(f1_train)\n",
    "plt.plot(f1_test)"
   ],
   "metadata": {
    "collapsed": false,
    "pycharm": {
     "name": "#%%\n"
    }
   }
  },
  {
   "cell_type": "code",
   "execution_count": 298,
   "outputs": [
    {
     "data": {
      "text/plain": "[<matplotlib.lines.Line2D at 0x2c3da4490>]"
     },
     "execution_count": 298,
     "metadata": {},
     "output_type": "execute_result"
    },
    {
     "data": {
      "text/plain": "<Figure size 640x480 with 1 Axes>",
      "image/png": "[encoded data removed]"
     },
     "metadata": {},
     "output_type": "display_data"
    }
   ],
   "source": [
    "plt.plot(acc_train)\n",
    "plt.plot(acc_test)"
   ],
   "metadata": {
    "collapsed": false,
    "pycharm": {
     "name": "#%%\n"
    }
   }
  },
  {
   "cell_type": "code",
   "execution_count": 299,
   "outputs": [
    {
     "name": "stdout",
     "output_type": "stream",
     "text": [
      "*********: 0\n",
      "41/41 [==============================] - 0s 6ms/step\n",
      "*********: 1\n",
      "41/41 [==============================] - 0s 4ms/step\n",
      "*********: 2\n",
      "41/41 [==============================] - 0s 3ms/step\n",
      "*********: 3\n",
      "41/41 [==============================] - 0s 4ms/step\n",
      "*********: 0\n",
      "4/4 [==============================] - 0s 3ms/step\n",
      "*********: 1\n",
      "4/4 [==============================] - 0s 3ms/step\n",
      "*********: 2\n",
      "4/4 [==============================] - 0s 7ms/step\n",
      "*********: 3\n",
      "4/4 [==============================] - 0s 3ms/step\n"
     ]
    },
    {
     "data": {
      "text/plain": "<sklearn.metrics._plot.confusion_matrix.ConfusionMatrixDisplay at 0x2c40a03d0>"
     },
     "execution_count": 299,
     "metadata": {},
     "output_type": "execute_result"
    },
    {
     "data": {
      "text/plain": "<Figure size 640x480 with 2 Axes>",
      "image/png": "[encoded data removed]"
     },
     "metadata": {},
     "output_type": "display_data"
    },
    {
     "data": {
      "text/plain": "<Figure size 640x480 with 2 Axes>",
      "image/png": "[encoded data removed]"
     },
     "metadata": {},
     "output_type": "display_data"
    }
   ],
   "source": [
    "value = 4\n",
    "data = some_pred(training_split, value)\n",
    "ans = majority(data)\n",
    "data = some_pred(test_split, value )\n",
    "ans1 = majority(data)\n",
    "ConfusionMatrixDisplay.from_predictions(test_result,ans1,cmap='Greens')\n",
    "# plt.plot(f1_test)\n",
    "ConfusionMatrixDisplay.from_predictions(train_result,ans,cmap='Greens')"
   ],
   "metadata": {
    "collapsed": false,
    "pycharm": {
     "name": "#%%\n"
    }
   }
  },
  {
   "cell_type": "code",
   "execution_count": 300,
   "outputs": [
    {
     "name": "stdout",
     "output_type": "stream",
     "text": [
      "*********: 0\n",
      "11/11 [==============================] - 0s 15ms/step\n",
      "*********: 1\n",
      "11/11 [==============================] - 0s 7ms/step\n",
      "*********: 2\n",
      "11/11 [==============================] - 0s 9ms/step\n",
      "*********: 3\n",
      "11/11 [==============================] - 0s 8ms/step\n"
     ]
    }
   ],
   "source": [
    "table_test = pd.read_table('./1663769555_8653905_test.txt', names=['sequence'])\n",
    "unlabeled_test = vectorizer_best.transform(table_test.sequence).toarray()\n",
    "predicted_data = majority(some_pred(unlabeled_test, 4))"
   ],
   "metadata": {
    "collapsed": false,
    "pycharm": {
     "name": "#%%\n"
    }
   }
  },
  {
   "cell_type": "code",
   "execution_count": 304,
   "outputs": [
    {
     "data": {
      "text/plain": "[1,\n 0,\n 1,\n 0,\n 0,\n 1,\n 0,\n 1,\n 0,\n 1,\n 0,\n 0,\n 0,\n 1,\n 0,\n 1,\n 0,\n 1,\n 0,\n 0,\n 0,\n 0,\n 0,\n 0,\n 1,\n 1,\n 0,\n 0,\n 0,\n 0,\n 0,\n 0,\n 0,\n 0,\n 0,\n 0,\n 0,\n 0,\n 1,\n 0,\n 0,\n 0,\n 0,\n 0,\n 0,\n 0,\n 0,\n 0,\n 0,\n 0,\n 1,\n 0,\n 0,\n 1,\n 0,\n 1,\n 0,\n 0,\n 0,\n 0,\n 0,\n 1,\n 0,\n 0,\n 1,\n 0,\n 1,\n 0,\n 0,\n 0,\n 0,\n 0,\n 0,\n 0,\n 0,\n 0,\n 0,\n 0,\n 0,\n 0,\n 1,\n 0,\n 1,\n 1,\n 0,\n 1,\n 0,\n 0,\n 0,\n 0,\n 0,\n 0,\n 0,\n 0,\n 0,\n 0,\n 1,\n 0,\n 1,\n 1,\n 1,\n 0,\n 0,\n 0,\n 0,\n 0,\n 0,\n 0,\n 1,\n 1,\n 0,\n 0,\n 0,\n 0,\n 1,\n 0,\n 0,\n 0,\n 1,\n 0,\n 1,\n 0,\n 0,\n 0,\n 0,\n 0,\n 0,\n 0,\n 0,\n 0,\n 0,\n 1,\n 0,\n 0,\n 0,\n 0,\n 0,\n 0,\n 0,\n 1,\n 0,\n 0,\n 0,\n 0,\n 0,\n 0,\n 1,\n 0,\n 1,\n 0,\n 0,\n 0,\n 0,\n 1,\n 0,\n 0,\n 0,\n 0,\n 0,\n 0,\n 1,\n 0,\n 1,\n 1,\n 0,\n 0,\n 0,\n 0,\n 0,\n 0,\n 0,\n 0,\n 0,\n 0,\n 0,\n 0,\n 0,\n 0,\n 0,\n 0,\n 0,\n 0,\n 0,\n 0,\n 0,\n 0,\n 0,\n 0,\n 0,\n 0,\n 0,\n 0,\n 0,\n 0,\n 0,\n 0,\n 0,\n 0,\n 0,\n 1,\n 0,\n 0,\n 0,\n 0,\n 0,\n 0,\n 0,\n 0,\n 0,\n 0,\n 0,\n 0,\n 0,\n 1,\n 0,\n 0,\n 0,\n 0,\n 0,\n 0,\n 0,\n 1,\n 1,\n 0,\n 0,\n 1,\n 0,\n 0,\n 1,\n 0,\n 1,\n 0,\n 0,\n 0,\n 0,\n 0,\n 0,\n 0,\n 0,\n 1,\n 0,\n 0,\n 0,\n 0,\n 0,\n 0,\n 0,\n 1,\n 0,\n 0,\n 0,\n 1,\n 0,\n 0,\n 1,\n 1,\n 0,\n 0,\n 1,\n 0,\n 0,\n 0,\n 0,\n 0,\n 0,\n 1,\n 0,\n 0,\n 0,\n 0,\n 0,\n 0,\n 0,\n 0,\n 0,\n 0,\n 0,\n 0,\n 0,\n 0,\n 0,\n 1,\n 0,\n 0,\n 0,\n 0,\n 0,\n 0,\n 0,\n 0,\n 0,\n 0,\n 1,\n 0,\n 0,\n 0,\n 0,\n 0,\n 1,\n 0,\n 0,\n 1,\n 0,\n 0,\n 0,\n 0,\n 0,\n 0,\n 0,\n 0,\n 0,\n 0,\n 0,\n 0,\n 0,\n 1,\n 0,\n 0,\n 0,\n 0,\n 0,\n 1,\n 1,\n 0,\n 0,\n 1,\n 0,\n 0,\n 0,\n 1,\n 1,\n 0,\n 0,\n 0,\n 0,\n 0,\n 0,\n 0,\n 0,\n 0,\n 0,\n 0,\n 0,\n 1,\n 0,\n 0,\n 0,\n 0,\n 1,\n 0]"
     },
     "execution_count": 304,
     "metadata": {},
     "output_type": "execute_result"
    }
   ],
   "source": [
    "predicted_data\n",
    "# len(predicted_data)\n"
   ],
   "metadata": {
    "collapsed": false,
    "pycharm": {
     "name": "#%%\n"
    }
   }
  },
  {
   "cell_type": "code",
   "execution_count": 89,
   "outputs": [],
   "source": [],
   "metadata": {
    "collapsed": false,
    "pycharm": {
     "name": "#%%\n"
    }
   }
  }
 ],
 "metadata": {
  "kernelspec": {
   "display_name": "Python 3",
   "language": "python",
   "name": "python3"
  },
  "language_info": {
   "codemirror_mode": {
    "name": "ipython",
    "version": 2
   },
   "file_extension": ".py",
   "mimetype": "text/x-python",
   "name": "python",
   "nbconvert_exporter": "python",
   "pygments_lexer": "ipython2",
   "version": "2.7.6"
  }
 },
 "nbformat": 4,
 "nbformat_minor": 0
}