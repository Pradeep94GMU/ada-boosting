{
 "cells": [
  {
   "cell_type": "code",
   "execution_count": 1,
   "metadata": {
    "collapsed": true,
    "pycharm": {
     "name": "#%%\n"
    }
   },
   "outputs": [],
   "source": [
    "import math\n",
    "import random\n",
    "import tensorflow as tf\n",
    "import pandas as pd\n",
    "import numpy as np\n",
    "import matplotlib.pyplot as plt\n",
    "import imblearn"
   ]
  },
  {
   "cell_type": "code",
   "execution_count": 2,
   "outputs": [
    {
     "name": "stdout",
     "output_type": "stream",
     "text": [
      "2.10.0\n"
     ]
    }
   ],
   "source": [
    "print(tf.__version__)"
   ],
   "metadata": {
    "collapsed": false,
    "pycharm": {
     "name": "#%%\n"
    }
   }
  },
  {
   "cell_type": "code",
   "execution_count": 3,
   "outputs": [],
   "source": [
    "table = pd.read_table('./1663769555_8559356_train.txt', names=['binding','sequence'])"
   ],
   "metadata": {
    "collapsed": false,
    "pycharm": {
     "name": "#%%\n"
    }
   }
  },
  {
   "cell_type": "code",
   "execution_count": 4,
   "outputs": [],
   "source": [
    "from sklearn.feature_extraction.text import CountVectorizer\n",
    "def return_binary_vectorized_form(data_frame, feat = None):\n",
    "    if feat is None:\n",
    "        count_vectorizer = CountVectorizer(binary=True)\n",
    "    else:\n",
    "        count_vectorizer = CountVectorizer(binary=True, vocabulary=feat)\n",
    "    fitted_and_transformed = count_vectorizer.fit_transform(data_frame).toarray()\n",
    "    return count_vectorizer,  fitted_and_transformed"
   ],
   "metadata": {
    "collapsed": false,
    "pycharm": {
     "name": "#%%\n"
    }
   }
  },
  {
   "cell_type": "code",
   "execution_count": 5,
   "outputs": [],
   "source": [
    "from sklearn.feature_selection import SelectKBest, chi2\n",
    "def select_k_best_features(feature_set, target_values, fraction, feature_list):\n",
    "    select_bestselect_best = SelectKBest(score_func=chi2, k = int(len(feature_list)*fraction))\n",
    "    select_bestselect_best.fit(feature_set,target_values)\n",
    "    mask = select_bestselect_best.get_support()\n",
    "    k_best_featurs = feature_list[mask]\n",
    "    return k_best_featurs"
   ],
   "metadata": {
    "collapsed": false,
    "pycharm": {
     "name": "#%%\n"
    }
   }
  },
  {
   "cell_type": "code",
   "execution_count": 6,
   "outputs": [],
   "source": [
    "from sklearn.model_selection import train_test_split\n",
    "active_df = table.loc[table.binding == 1]\n",
    "not_active_df = table.loc[table.binding == 0]\n",
    "# Mainly spliting the data here for testing, that is the reason train size is set to .20\n",
    "active_train, active_test, active_binding_train, active_binding_test = train_test_split(active_df.sequence, active_df.binding, shuffle=True, train_size= .80)\n",
    "not_active_train, not_active_test, not_active_binding_train, not_active_binding_test = train_test_split(not_active_df.sequence, not_active_df.binding, shuffle=True, train_size=.90)"
   ],
   "metadata": {
    "collapsed": false,
    "pycharm": {
     "name": "#%%\n"
    }
   }
  },
  {
   "cell_type": "code",
   "execution_count": 7,
   "outputs": [],
   "source": [
    "def createDf(data):\n",
    "    pd_df = pd.DataFrame(data)\n",
    "    return pd_df\n",
    "def addColumn(copy_to, copy_from ,cname):\n",
    "    copy_to[cname] = copy_from[cname]\n",
    "    return copy_to"
   ],
   "metadata": {
    "collapsed": false,
    "pycharm": {
     "name": "#%%\n"
    }
   }
  },
  {
   "cell_type": "code",
   "execution_count": 8,
   "outputs": [
    {
     "name": "stdout",
     "output_type": "stream",
     "text": [
      "0    649\n",
      "1     62\n",
      "Name: binding, dtype: int64\n",
      "0    73\n",
      "1    16\n",
      "Name: binding, dtype: int64\n"
     ]
    }
   ],
   "source": [
    "active_test_df = pd.DataFrame(active_test)\n",
    "active_binding_test_df = pd.DataFrame(active_binding_test)\n",
    "active_test_df['binding'] = active_binding_test_df['binding']\n",
    "not_active_test_df = pd.DataFrame(not_active_test)\n",
    "not_active_binding_test_df = pd.DataFrame(not_active_binding_test)\n",
    "not_active_test_df['binding'] = not_active_binding_test_df['binding']\n",
    "active_train_df = createDf(active_train)\n",
    "active_binding_train_df = createDf(active_binding_train)\n",
    "active_train_df = addColumn(active_train_df, active_binding_train_df, 'binding')\n",
    "not_active_train_df = createDf(not_active_train)\n",
    "not_active_binding_train_df = createDf(not_active_binding_train)\n",
    "not_active_train_df = addColumn(not_active_train_df, not_active_binding_train_df, 'binding')\n",
    "train_df = pd.concat([active_train_df, not_active_train_df]).reset_index()\n",
    "train_df = train_df.drop('index', axis=1)\n",
    "print(train_df.binding.value_counts())\n",
    "test_df = pd.concat([active_test_df, not_active_test_df]).reset_index()\n",
    "test_df = test_df.drop('index', axis=1)\n",
    "print(test_df.binding.value_counts())\n",
    "from imblearn.over_sampling import RandomOverSampler\n",
    "\n",
    "sampler = RandomOverSampler(sampling_strategy=.90)\n",
    "x_sampled, y_sampled = sampler.fit_resample(np.array(train_df.sequence).reshape(-1, 1), train_df.binding)"
   ],
   "metadata": {
    "collapsed": false,
    "pycharm": {
     "name": "#%%\n"
    }
   }
  },
  {
   "cell_type": "code",
   "execution_count": 9,
   "outputs": [
    {
     "name": "stdout",
     "output_type": "stream",
     "text": [
      "0    649\n",
      "1    584\n",
      "Name: binding, dtype: int64\n",
      "0    73\n",
      "1    16\n",
      "Name: binding, dtype: int64\n"
     ]
    }
   ],
   "source": [
    "final_train_set = pd.DataFrame(x_sampled, columns  =[\"sequence\"])\n",
    "final_train_set['binding'] = y_sampled\n",
    "print(final_train_set.binding.value_counts())\n",
    "\n",
    "final_test_set = pd.DataFrame(test_df.sequence, columns  =[\"sequence\"])\n",
    "final_test_set['binding'] = test_df.binding\n",
    "print(final_test_set.binding.value_counts())"
   ],
   "metadata": {
    "collapsed": false,
    "pycharm": {
     "name": "#%%\n"
    }
   }
  },
  {
   "cell_type": "code",
   "execution_count": 10,
   "outputs": [],
   "source": [
    "train_result = np.array(final_train_set.binding)\n",
    "test_result = np.array(final_test_set.binding)"
   ],
   "metadata": {
    "collapsed": false,
    "pycharm": {
     "name": "#%%\n"
    }
   }
  },
  {
   "cell_type": "code",
   "execution_count": 11,
   "outputs": [],
   "source": [
    "vectorizer_best, training_split = return_binary_vectorized_form(final_train_set.sequence)\n",
    "test_split = vectorizer_best.transform(final_test_set.sequence).toarray()"
   ],
   "metadata": {
    "collapsed": false,
    "pycharm": {
     "name": "#%%\n"
    }
   }
  },
  {
   "cell_type": "code",
   "execution_count": 12,
   "outputs": [
    {
     "name": "stdout",
     "output_type": "stream",
     "text": [
      "(1233, 82184)\n",
      "(89, 82184)\n"
     ]
    }
   ],
   "source": [
    "print(training_split.shape)\n",
    "print(test_split.shape)"
   ],
   "metadata": {
    "collapsed": false,
    "pycharm": {
     "name": "#%%\n"
    }
   }
  },
  {
   "cell_type": "code",
   "execution_count": 77,
   "outputs": [
    {
     "data": {
      "text/plain": "array(['10000', '10001', '10008', ..., '99962', '99972', '9998'],\n      dtype=object)"
     },
     "execution_count": 77,
     "metadata": {},
     "output_type": "execute_result"
    }
   ],
   "source": [
    "features = select_k_best_features(training_split,train_result,.30,vectorizer_best.get_feature_names_out())\n",
    "features"
   ],
   "metadata": {
    "collapsed": false,
    "pycharm": {
     "name": "#%%\n"
    }
   }
  },
  {
   "cell_type": "code",
   "execution_count": 78,
   "outputs": [],
   "source": [
    "vectorizer_best, training_split = return_binary_vectorized_form(final_train_set.sequence,features)\n",
    "test_split = vectorizer_best.transform(final_test_set.sequence).toarray()"
   ],
   "metadata": {
    "collapsed": false,
    "pycharm": {
     "name": "#%%\n"
    }
   }
  },
  {
   "cell_type": "code",
   "execution_count": 79,
   "outputs": [],
   "source": [
    "initial_weight = np.ones(training_split.shape[0])*(1/training_split.shape[0])"
   ],
   "metadata": {
    "collapsed": false,
    "pycharm": {
     "name": "#%%\n"
    }
   }
  },
  {
   "cell_type": "code",
   "execution_count": 80,
   "outputs": [],
   "source": [
    "def updateWeight(missmatch, weight, alpha):\n",
    "    mi = 0\n",
    "    missmatch_size = len(missmatch)\n",
    "    wi = 0\n",
    "\n",
    "    new_weight = []\n",
    "    norm_constant = 0\n",
    "    while wi < len(weight):\n",
    "        if mi < missmatch_size and missmatch[mi] == wi:\n",
    "            k = weight[wi] * math.exp(alpha)\n",
    "            mi+=1\n",
    "        else:\n",
    "            k = weight[wi] * math.exp(-1*alpha)\n",
    "        new_weight.append( k )\n",
    "        norm_constant += k\n",
    "        wi += 1\n",
    "\n",
    "    new_weight /= norm_constant\n",
    "    sum =0\n",
    "    for i in new_weight:\n",
    "        sum+=i\n",
    "    print(sum)\n",
    "    # plt.plot(new_weight)\n",
    "    # plt.show()\n",
    "    return new_weight"
   ],
   "metadata": {
    "collapsed": false,
    "pycharm": {
     "name": "#%%\n"
    }
   }
  },
  {
   "cell_type": "code",
   "execution_count": 81,
   "outputs": [],
   "source": [
    "from sklearn.metrics import f1_score, accuracy_score, confusion_matrix\n",
    "def findMissClassificatonIndex(predicted, test_res, weight):\n",
    "    error_rate = 0\n",
    "    missmatch_indexes = []\n",
    "    incorrect= []\n",
    "    tn, fp, fn, tp = confusion_matrix(test_res, predicted).ravel()\n",
    "    precision = tp / (tp+ fp)\n",
    "    recall = tp / (tp+ fn)\n",
    "    score = (2 * precision * recall) / (precision + recall)\n",
    "    print(score)\n",
    "    print(accuracy_score(test_res, predicted))\n",
    "    for i, (pred, real) in enumerate(zip(predicted, test_res)):\n",
    "        if pred != real:\n",
    "            incorrect.append((i, pred, real))\n",
    "            missmatch_indexes.append(i)\n",
    "            error_rate += weight[i]\n",
    "    error_rate /= len(predicted)\n",
    "    # print(incorrect)\n",
    "    return error_rate, missmatch_indexes"
   ],
   "metadata": {
    "collapsed": false,
    "pycharm": {
     "name": "#%%\n"
    }
   }
  },
  {
   "cell_type": "code",
   "execution_count": 82,
   "outputs": [],
   "source": [
    "def rejectionSampling(train_data, train_res, weights):\n",
    "    samplesize  = int(4 * len(train_data))\n",
    "    new_train_data = []\n",
    "    new_train_res = []\n",
    "    new_weights = []\n",
    "    adding_index =[]\n",
    "    max_w = max(weights)\n",
    "\n",
    "    for i in range(samplesize):\n",
    "        while True:\n",
    "            index = random.randrange(len(weights))\n",
    "            u = max_w * random.random()\n",
    "            if u <= weights[index]:\n",
    "                new_train_data.append(train_data[index])\n",
    "                new_train_res.append(train_res[index])\n",
    "                adding_index.append(index)\n",
    "                break\n",
    "    # print(adding_index)\n",
    "    return np.array(new_train_data), np.array(new_train_res)"
   ],
   "metadata": {
    "collapsed": false,
    "pycharm": {
     "name": "#%%\n"
    }
   }
  },
  {
   "cell_type": "code",
   "execution_count": 83,
   "outputs": [],
   "source": [
    "def resample(train_data, train_res, weights):\n",
    "    size = len(train_data)\n",
    "    indexes = np.random.choice(int(size), int( 5 * size), replace=True, p=weights)\n",
    "    new_train_data = []\n",
    "    new_train_res = []\n",
    "    for index in indexes:\n",
    "         new_train_data.append(train_data[index])\n",
    "         new_train_res.append(train_res[index])\n",
    "    return np.array(new_train_data), np.array(new_train_res)"
   ],
   "metadata": {
    "collapsed": false,
    "pycharm": {
     "name": "#%%\n"
    }
   }
  },
  {
   "cell_type": "code",
   "execution_count": 157,
   "outputs": [],
   "source": [
    "class EarlyStoppingMonitor(tf.keras.callbacks.Callback):\n",
    "    def __init__(self):\n",
    "        super(EarlyStoppingMonitor, self).__init__()\n",
    "        self.f1_train = None\n",
    "        self.f1_test = None\n",
    "        self.prevous = None\n",
    "        self.count =0\n",
    "\n",
    "    def on_epoch_end(self, epoch, logs=None):\n",
    "        current_train_precision = logs.get('precision')\n",
    "        current_train_recall= logs.get('recall')\n",
    "\n",
    "        if current_train_precision==0 or current_train_recall==0:\n",
    "            print(\"**** Waring: precision recall zero avoid exception ****\")\n",
    "            return\n",
    "        self.f1_train = (2*current_train_precision*current_train_recall) / (current_train_precision+current_train_recall)\n",
    "        if self.prevous == None:\n",
    "            self.prevous = self.f1_train\n",
    "        if self.prevous == self.f1_train:\n",
    "            self.count += 1\n",
    "        else:\n",
    "            self.prevous = self.f1_train\n",
    "            self.count = 0\n",
    "        if self.count == 5:\n",
    "            self.model.stop_training = True\n",
    "            print('\\n\\n******* No improvements *******')\n",
    "        if current_train_recall > .70 and self.f1_train > .70:\n",
    "            # self.count += 1\n",
    "            # if self.count >4:\n",
    "            self.model.stop_training = True\n",
    "            print('\\n\\n******* Stoping on Defined Thresold *******')\n",
    "            print('F1 TRAINING: ', self.f1_train)\n",
    "            print('Recall TRAINING: ', current_train_recall)\n",
    "\n",
    "    def on_train_end(self, logs=None):\n",
    "        if self.model.stop_training:\n",
    "            print(\"\\n\\n\\n****** Early Stopping *******\")"
   ],
   "metadata": {
    "collapsed": false,
    "pycharm": {
     "name": "#%%\n"
    }
   }
  },
  {
   "cell_type": "code",
   "execution_count": 158,
   "outputs": [],
   "source": [
    "def createBaseModel():\n",
    "    model = tf.keras.Sequential([\n",
    "        tf.keras.Input(shape=(training_split.shape[-1],)),\n",
    "        tf.keras.layers.Dense(2, activation='relu',kernel_regularizer=tf.keras.regularizers.L1(.015)),\n",
    "        tf.keras.layers.Dense(1, activation='sigmoid')\n",
    "    ])\n",
    "\n",
    "    METRICS = [\n",
    "      tf.keras.metrics.TruePositives(name='tp'),\n",
    "      tf.keras.metrics.FalsePositives(name='fp'),\n",
    "      tf.keras.metrics.TrueNegatives(name='tn'),\n",
    "      tf.keras.metrics.FalseNegatives(name='fn'),\n",
    "      tf.keras.metrics.Precision(name='precision'),\n",
    "      tf.keras.metrics.Recall(name='recall')\n",
    "    ]\n",
    "\n",
    "    model.compile(loss=tf.keras.losses.BinaryFocalCrossentropy(), metrics=METRICS, optimizer='adam')\n",
    "\n",
    "    return model"
   ],
   "metadata": {
    "collapsed": false,
    "pycharm": {
     "name": "#%%\n"
    }
   }
  },
  {
   "cell_type": "code",
   "execution_count": 159,
   "outputs": [],
   "source": [
    "ensemble_size = 12\n",
    "ensemble = []\n",
    "alphas = []\n",
    "def boosting(weights):\n",
    "\n",
    "    for i in range(ensemble_size):\n",
    "        print(\" =========== iteration ===========>:\", i )\n",
    "        train_data, train_res = resample(training_split, train_result, weights)\n",
    "        model = createBaseModel()\n",
    "        num_epochs = 60\n",
    "        print( \"bfore traning: \", ((sum(train_res)/len(train_res)))*100)\n",
    "        history = model.fit(train_data, train_res,\n",
    "                    epochs= num_epochs,\n",
    "                    batch_size=70,\n",
    "                    callbacks=[EarlyStoppingMonitor()])\n",
    "        predicted_result = model.predict(training_split)\n",
    "        predicted_result = [1 if i>=.5 else 0 for i in predicted_result ]\n",
    "        error_rate, error_indexes = findMissClassificatonIndex(predicted_result, train_result, weights)\n",
    "        print(\"error_rate:\", error_rate)\n",
    "\n",
    "        if error_rate > .5:\n",
    "            weights = np.ones(training_split.shape[0]) * (1/training_split.shape[0])\n",
    "            print(\"re-balancing and training because error:\", error_rate)\n",
    "            continue\n",
    "\n",
    "        amount_of_say = 0.2 * ( math.log( (1-error_rate) / error_rate ) )\n",
    "        alphas.append(amount_of_say)\n",
    "        ensemble.append(model)\n",
    "        weights = updateWeight(error_indexes, weights, amount_of_say)\n"
   ],
   "metadata": {
    "collapsed": false,
    "pycharm": {
     "name": "#%%\n"
    }
   }
  },
  {
   "cell_type": "code",
   "execution_count": 160,
   "outputs": [
    {
     "name": "stdout",
     "output_type": "stream",
     "text": [
      " =========== iteration ===========>: 0\n",
      "bfore traning:  47.81832927818329\n",
      "Epoch 1/60\n"
     ]
    },
    {
     "name": "stderr",
     "output_type": "stream",
     "text": [
      "2022-11-11 10:51:56.439815: I tensorflow/core/grappler/optimizers/custom_graph_optimizer_registry.cc:114] Plugin optimizer for device_type GPU is enabled.\n"
     ]
    },
    {
     "name": "stdout",
     "output_type": "stream",
     "text": [
      "89/89 [==============================] - ETA: 0s - loss: 0.6693 - tp: 2315.0000 - fp: 371.0000 - tn: 2846.0000 - fn: 633.0000 - precision: 0.8619 - recall: 0.7853\n",
      "\n",
      "******* Stoping on Defined Thresold *******\n",
      "F1 TRAINING:  0.8217962444592618\n",
      "Recall TRAINING:  0.7852781414985657\n",
      "89/89 [==============================] - 3s 24ms/step - loss: 0.6693 - tp: 2315.0000 - fp: 371.0000 - tn: 2846.0000 - fn: 633.0000 - precision: 0.8619 - recall: 0.7853\n",
      "\n",
      "\n",
      "\n",
      "****** Early Stopping *******\n",
      "39/39 [==============================] - 0s 3ms/step\n"
     ]
    },
    {
     "name": "stderr",
     "output_type": "stream",
     "text": [
      "2022-11-11 10:51:59.455332: I tensorflow/core/grappler/optimizers/custom_graph_optimizer_registry.cc:114] Plugin optimizer for device_type GPU is enabled.\n"
     ]
    },
    {
     "name": "stdout",
     "output_type": "stream",
     "text": [
      "0.81640625\n",
      "0.8475263584752636\n",
      "error_rate: 0.0001236606987224139\n",
      "1.0000000000000058\n",
      " =========== iteration ===========>: 1\n",
      "bfore traning:  82.43309002433091\n",
      "Epoch 1/60\n"
     ]
    },
    {
     "name": "stderr",
     "output_type": "stream",
     "text": [
      "2022-11-11 10:52:00.263729: I tensorflow/core/grappler/optimizers/custom_graph_optimizer_registry.cc:114] Plugin optimizer for device_type GPU is enabled.\n"
     ]
    },
    {
     "name": "stdout",
     "output_type": "stream",
     "text": [
      "89/89 [==============================] - ETA: 0s - loss: 0.6705 - tp: 4818.0000 - fp: 919.0000 - tn: 164.0000 - fn: 264.0000 - precision: 0.8398 - recall: 0.9481\n",
      "\n",
      "******* Stoping on Defined Thresold *******\n",
      "F1 TRAINING:  0.8906553433219584\n",
      "Recall TRAINING:  0.9480519890785217\n",
      "89/89 [==============================] - 3s 22ms/step - loss: 0.6705 - tp: 4818.0000 - fp: 919.0000 - tn: 164.0000 - fn: 264.0000 - precision: 0.8398 - recall: 0.9481\n",
      "\n",
      "\n",
      "\n",
      "****** Early Stopping *******\n",
      "39/39 [==============================] - 0s 3ms/step\n"
     ]
    },
    {
     "name": "stderr",
     "output_type": "stream",
     "text": [
      "2022-11-11 10:52:03.157058: I tensorflow/core/grappler/optimizers/custom_graph_optimizer_registry.cc:114] Plugin optimizer for device_type GPU is enabled.\n"
     ]
    },
    {
     "name": "stdout",
     "output_type": "stream",
     "text": [
      "0.6428178315905339\n",
      "0.47364152473641524\n",
      "error_rate: 0.00014659475409723962\n",
      "0.9999999999999551\n",
      " =========== iteration ===========>: 2\n",
      "bfore traning:  12.635847526358477\n",
      "Epoch 1/60\n"
     ]
    },
    {
     "name": "stderr",
     "output_type": "stream",
     "text": [
      "2022-11-11 10:52:03.923059: I tensorflow/core/grappler/optimizers/custom_graph_optimizer_registry.cc:114] Plugin optimizer for device_type GPU is enabled.\n"
     ]
    },
    {
     "name": "stdout",
     "output_type": "stream",
     "text": [
      "89/89 [==============================] - 3s 23ms/step - loss: 0.6642 - tp: 62.0000 - fp: 153.0000 - tn: 5233.0000 - fn: 717.0000 - precision: 0.2884 - recall: 0.0796\n",
      "Epoch 2/60\n",
      "89/89 [==============================] - 1s 12ms/step - loss: 0.1802 - tp: 3.0000 - fp: 0.0000e+00 - tn: 5386.0000 - fn: 776.0000 - precision: 1.0000 - recall: 0.0039\n",
      "Epoch 3/60\n",
      "89/89 [==============================] - 1s 12ms/step - loss: 0.1652 - tp: 2.0000 - fp: 0.0000e+00 - tn: 5386.0000 - fn: 777.0000 - precision: 1.0000 - recall: 0.0026\n",
      "Epoch 4/60\n",
      "89/89 [==============================] - ETA: 0s - loss: 0.1601 - tp: 0.0000e+00 - fp: 0.0000e+00 - tn: 5386.0000 - fn: 779.0000 - precision: 0.0000e+00 - recall: 0.0000e+00**** Waring: precision recall zero avoid exception ****\n",
      "89/89 [==============================] - 1s 12ms/step - loss: 0.1601 - tp: 0.0000e+00 - fp: 0.0000e+00 - tn: 5386.0000 - fn: 779.0000 - precision: 0.0000e+00 - recall: 0.0000e+00\n",
      "Epoch 5/60\n",
      "89/89 [==============================] - 1s 12ms/step - loss: 0.1577 - tp: 6.0000 - fp: 0.0000e+00 - tn: 5386.0000 - fn: 773.0000 - precision: 1.0000 - recall: 0.0077\n",
      "Epoch 6/60\n",
      "89/89 [==============================] - 1s 12ms/step - loss: 0.1512 - tp: 1.0000 - fp: 0.0000e+00 - tn: 5386.0000 - fn: 778.0000 - precision: 1.0000 - recall: 0.0013\n",
      "Epoch 7/60\n",
      "86/89 [===========================>..] - ETA: 0s - loss: 0.1508 - tp: 0.0000e+00 - fp: 0.0000e+00 - tn: 5261.0000 - fn: 759.0000 - precision: 0.0000e+00 - recall: 0.0000e+00**** Waring: precision recall zero avoid exception ****\n",
      "89/89 [==============================] - 1s 11ms/step - loss: 0.1510 - tp: 0.0000e+00 - fp: 0.0000e+00 - tn: 5386.0000 - fn: 779.0000 - precision: 0.0000e+00 - recall: 0.0000e+00\n",
      "Epoch 8/60\n",
      "89/89 [==============================] - 1s 11ms/step - loss: 0.1524 - tp: 11.0000 - fp: 0.0000e+00 - tn: 5386.0000 - fn: 768.0000 - precision: 1.0000 - recall: 0.0141\n",
      "Epoch 9/60\n",
      "89/89 [==============================] - 1s 11ms/step - loss: 0.1522 - tp: 8.0000 - fp: 0.0000e+00 - tn: 5386.0000 - fn: 771.0000 - precision: 1.0000 - recall: 0.0103\n",
      "Epoch 10/60\n",
      "89/89 [==============================] - 1s 11ms/step - loss: 0.1550 - tp: 15.0000 - fp: 0.0000e+00 - tn: 5386.0000 - fn: 764.0000 - precision: 1.0000 - recall: 0.0193\n",
      "Epoch 11/60\n",
      "89/89 [==============================] - 1s 11ms/step - loss: 0.1523 - tp: 27.0000 - fp: 0.0000e+00 - tn: 5386.0000 - fn: 752.0000 - precision: 1.0000 - recall: 0.0347\n",
      "Epoch 12/60\n",
      "89/89 [==============================] - 1s 11ms/step - loss: 0.1848 - tp: 40.0000 - fp: 2.0000 - tn: 5384.0000 - fn: 739.0000 - precision: 0.9524 - recall: 0.0513\n",
      "Epoch 13/60\n",
      "89/89 [==============================] - 1s 11ms/step - loss: 0.1490 - tp: 35.0000 - fp: 0.0000e+00 - tn: 5386.0000 - fn: 744.0000 - precision: 1.0000 - recall: 0.0449\n",
      "Epoch 14/60\n",
      "89/89 [==============================] - 1s 11ms/step - loss: 0.1465 - tp: 51.0000 - fp: 0.0000e+00 - tn: 5386.0000 - fn: 728.0000 - precision: 1.0000 - recall: 0.0655\n",
      "Epoch 15/60\n",
      "89/89 [==============================] - 1s 11ms/step - loss: 0.1482 - tp: 91.0000 - fp: 0.0000e+00 - tn: 5386.0000 - fn: 688.0000 - precision: 1.0000 - recall: 0.1168\n",
      "Epoch 16/60\n",
      "89/89 [==============================] - 1s 11ms/step - loss: 0.1420 - tp: 162.0000 - fp: 0.0000e+00 - tn: 5386.0000 - fn: 617.0000 - precision: 1.0000 - recall: 0.2080\n",
      "Epoch 17/60\n",
      "89/89 [==============================] - 1s 12ms/step - loss: 0.1406 - tp: 184.0000 - fp: 2.0000 - tn: 5384.0000 - fn: 595.0000 - precision: 0.9892 - recall: 0.2362\n",
      "Epoch 18/60\n",
      "89/89 [==============================] - 1s 12ms/step - loss: 0.1435 - tp: 252.0000 - fp: 3.0000 - tn: 5383.0000 - fn: 527.0000 - precision: 0.9882 - recall: 0.3235\n",
      "Epoch 19/60\n",
      "89/89 [==============================] - 1s 11ms/step - loss: 0.1354 - tp: 339.0000 - fp: 5.0000 - tn: 5381.0000 - fn: 440.0000 - precision: 0.9855 - recall: 0.4352\n",
      "Epoch 20/60\n",
      "89/89 [==============================] - 1s 11ms/step - loss: 0.1325 - tp: 421.0000 - fp: 7.0000 - tn: 5379.0000 - fn: 358.0000 - precision: 0.9836 - recall: 0.5404\n",
      "Epoch 21/60\n",
      "89/89 [==============================] - 1s 11ms/step - loss: 0.1306 - tp: 441.0000 - fp: 7.0000 - tn: 5379.0000 - fn: 338.0000 - precision: 0.9844 - recall: 0.5661\n",
      "Epoch 22/60\n",
      "89/89 [==============================] - 1s 12ms/step - loss: 0.1361 - tp: 428.0000 - fp: 7.0000 - tn: 5379.0000 - fn: 351.0000 - precision: 0.9839 - recall: 0.5494\n",
      "Epoch 23/60\n",
      "89/89 [==============================] - 1s 12ms/step - loss: 0.1278 - tp: 495.0000 - fp: 7.0000 - tn: 5379.0000 - fn: 284.0000 - precision: 0.9861 - recall: 0.6354\n",
      "Epoch 24/60\n",
      "89/89 [==============================] - 1s 11ms/step - loss: 0.1319 - tp: 509.0000 - fp: 7.0000 - tn: 5379.0000 - fn: 270.0000 - precision: 0.9864 - recall: 0.6534\n",
      "Epoch 25/60\n",
      "89/89 [==============================] - 1s 11ms/step - loss: 0.1345 - tp: 539.0000 - fp: 7.0000 - tn: 5379.0000 - fn: 240.0000 - precision: 0.9872 - recall: 0.6919\n",
      "Epoch 26/60\n",
      "89/89 [==============================] - 1s 11ms/step - loss: 0.1297 - tp: 530.0000 - fp: 7.0000 - tn: 5379.0000 - fn: 249.0000 - precision: 0.9870 - recall: 0.6804\n",
      "Epoch 27/60\n",
      "86/89 [===========================>..] - ETA: 0s - loss: 0.1266 - tp: 590.0000 - fp: 7.0000 - tn: 5249.0000 - fn: 174.0000 - precision: 0.9883 - recall: 0.7723\n",
      "\n",
      "******* Stoping on Defined Thresold *******\n",
      "F1 TRAINING:  0.8649819649887374\n",
      "Recall TRAINING:  0.7689345479011536\n",
      "89/89 [==============================] - 1s 11ms/step - loss: 0.1264 - tp: 599.0000 - fp: 7.0000 - tn: 5379.0000 - fn: 180.0000 - precision: 0.9884 - recall: 0.7689\n",
      "\n",
      "\n",
      "\n",
      "****** Early Stopping *******\n",
      "39/39 [==============================] - 0s 3ms/step\n"
     ]
    },
    {
     "name": "stderr",
     "output_type": "stream",
     "text": [
      "2022-11-11 10:52:33.396046: I tensorflow/core/grappler/optimizers/custom_graph_optimizer_registry.cc:114] Plugin optimizer for device_type GPU is enabled.\n"
     ]
    },
    {
     "name": "stdout",
     "output_type": "stream",
     "text": [
      "0.4204851752021563\n",
      "0.6512570965125709\n",
      "error_rate: 3.174471499036416e-05\n",
      "0.9999999999999994\n",
      " =========== iteration ===========>: 3\n",
      "bfore traning:  70.73803730738038\n",
      "Epoch 1/60\n"
     ]
    },
    {
     "name": "stderr",
     "output_type": "stream",
     "text": [
      "2022-11-11 10:52:34.147486: I tensorflow/core/grappler/optimizers/custom_graph_optimizer_registry.cc:114] Plugin optimizer for device_type GPU is enabled.\n"
     ]
    },
    {
     "name": "stdout",
     "output_type": "stream",
     "text": [
      "89/89 [==============================] - ETA: 0s - loss: 0.6648 - tp: 4244.0000 - fp: 833.0000 - tn: 971.0000 - fn: 117.0000 - precision: 0.8359 - recall: 0.9732\n",
      "\n",
      "******* Stoping on Defined Thresold *******\n",
      "F1 TRAINING:  0.8993431070935025\n",
      "Recall TRAINING:  0.9731712937355042\n",
      "89/89 [==============================] - 3s 22ms/step - loss: 0.6648 - tp: 4244.0000 - fp: 833.0000 - tn: 971.0000 - fn: 117.0000 - precision: 0.8359 - recall: 0.9732\n",
      "\n",
      "\n",
      "\n",
      "****** Early Stopping *******\n",
      "39/39 [==============================] - 0s 4ms/step\n"
     ]
    },
    {
     "name": "stderr",
     "output_type": "stream",
     "text": [
      "2022-11-11 10:52:36.959837: I tensorflow/core/grappler/optimizers/custom_graph_optimizer_registry.cc:114] Plugin optimizer for device_type GPU is enabled.\n"
     ]
    },
    {
     "name": "stdout",
     "output_type": "stream",
     "text": [
      "0.6428178315905339\n",
      "0.47364152473641524\n",
      "error_rate: 0.00022705708326612315\n",
      "0.9999999999999772\n",
      " =========== iteration ===========>: 4\n",
      "bfore traning:  8.6455798864558\n",
      "Epoch 1/60\n"
     ]
    },
    {
     "name": "stderr",
     "output_type": "stream",
     "text": [
      "2022-11-11 10:52:37.773294: I tensorflow/core/grappler/optimizers/custom_graph_optimizer_registry.cc:114] Plugin optimizer for device_type GPU is enabled.\n"
     ]
    },
    {
     "name": "stdout",
     "output_type": "stream",
     "text": [
      "89/89 [==============================] - 3s 23ms/step - loss: 0.6618 - tp: 178.0000 - fp: 106.0000 - tn: 5526.0000 - fn: 355.0000 - precision: 0.6268 - recall: 0.3340\n",
      "Epoch 2/60\n",
      "89/89 [==============================] - 1s 13ms/step - loss: 0.1672 - tp: 11.0000 - fp: 0.0000e+00 - tn: 5632.0000 - fn: 522.0000 - precision: 1.0000 - recall: 0.0206\n",
      "Epoch 3/60\n",
      "89/89 [==============================] - ETA: 0s - loss: 0.1514 - tp: 0.0000e+00 - fp: 0.0000e+00 - tn: 5632.0000 - fn: 533.0000 - precision: 0.0000e+00 - recall: 0.0000e+00**** Waring: precision recall zero avoid exception ****\n",
      "89/89 [==============================] - 1s 13ms/step - loss: 0.1514 - tp: 0.0000e+00 - fp: 0.0000e+00 - tn: 5632.0000 - fn: 533.0000 - precision: 0.0000e+00 - recall: 0.0000e+00\n",
      "Epoch 4/60\n",
      "89/89 [==============================] - ETA: 0s - loss: 0.1416 - tp: 0.0000e+00 - fp: 0.0000e+00 - tn: 5632.0000 - fn: 533.0000 - precision: 0.0000e+00 - recall: 0.0000e+00**** Waring: precision recall zero avoid exception ****\n",
      "89/89 [==============================] - 1s 13ms/step - loss: 0.1416 - tp: 0.0000e+00 - fp: 0.0000e+00 - tn: 5632.0000 - fn: 533.0000 - precision: 0.0000e+00 - recall: 0.0000e+00\n",
      "Epoch 5/60\n",
      "85/89 [===========================>..] - ETA: 0s - loss: 0.1345 - tp: 0.0000e+00 - fp: 0.0000e+00 - tn: 5439.0000 - fn: 511.0000 - precision: 0.0000e+00 - recall: 0.0000e+00**** Waring: precision recall zero avoid exception ****\n",
      "89/89 [==============================] - 1s 12ms/step - loss: 0.1344 - tp: 0.0000e+00 - fp: 0.0000e+00 - tn: 5632.0000 - fn: 533.0000 - precision: 0.0000e+00 - recall: 0.0000e+00\n",
      "Epoch 6/60\n",
      "89/89 [==============================] - 1s 13ms/step - loss: 0.1286 - tp: 50.0000 - fp: 0.0000e+00 - tn: 5632.0000 - fn: 483.0000 - precision: 1.0000 - recall: 0.0938\n",
      "Epoch 7/60\n",
      "89/89 [==============================] - 1s 12ms/step - loss: 0.1240 - tp: 18.0000 - fp: 0.0000e+00 - tn: 5632.0000 - fn: 515.0000 - precision: 1.0000 - recall: 0.0338\n",
      "Epoch 8/60\n",
      "89/89 [==============================] - 1s 12ms/step - loss: 0.1198 - tp: 186.0000 - fp: 0.0000e+00 - tn: 5632.0000 - fn: 347.0000 - precision: 1.0000 - recall: 0.3490\n",
      "Epoch 9/60\n",
      "89/89 [==============================] - 1s 12ms/step - loss: 0.1172 - tp: 220.0000 - fp: 0.0000e+00 - tn: 5632.0000 - fn: 313.0000 - precision: 1.0000 - recall: 0.4128\n",
      "Epoch 10/60\n",
      "89/89 [==============================] - 1s 12ms/step - loss: 0.1136 - tp: 262.0000 - fp: 0.0000e+00 - tn: 5632.0000 - fn: 271.0000 - precision: 1.0000 - recall: 0.4916\n",
      "Epoch 11/60\n",
      "89/89 [==============================] - 1s 12ms/step - loss: 0.1131 - tp: 280.0000 - fp: 0.0000e+00 - tn: 5632.0000 - fn: 253.0000 - precision: 1.0000 - recall: 0.5253\n",
      "Epoch 12/60\n",
      "89/89 [==============================] - 1s 12ms/step - loss: 0.1115 - tp: 294.0000 - fp: 0.0000e+00 - tn: 5632.0000 - fn: 239.0000 - precision: 1.0000 - recall: 0.5516\n",
      "Epoch 13/60\n",
      "89/89 [==============================] - 1s 12ms/step - loss: 0.1115 - tp: 315.0000 - fp: 0.0000e+00 - tn: 5632.0000 - fn: 218.0000 - precision: 1.0000 - recall: 0.5910\n",
      "Epoch 14/60\n",
      "89/89 [==============================] - 1s 12ms/step - loss: 0.1088 - tp: 310.0000 - fp: 0.0000e+00 - tn: 5632.0000 - fn: 223.0000 - precision: 1.0000 - recall: 0.5816\n",
      "Epoch 15/60\n",
      "89/89 [==============================] - ETA: 0s - loss: 0.1157 - tp: 374.0000 - fp: 0.0000e+00 - tn: 5632.0000 - fn: 159.0000 - precision: 1.0000 - recall: 0.7017\n",
      "\n",
      "******* Stoping on Defined Thresold *******\n",
      "F1 TRAINING:  0.8246967838003733\n",
      "Recall TRAINING:  0.7016885280609131\n",
      "89/89 [==============================] - 1s 12ms/step - loss: 0.1157 - tp: 374.0000 - fp: 0.0000e+00 - tn: 5632.0000 - fn: 159.0000 - precision: 1.0000 - recall: 0.7017\n",
      "\n",
      "\n",
      "\n",
      "****** Early Stopping *******\n",
      "39/39 [==============================] - 0s 4ms/step\n"
     ]
    },
    {
     "name": "stderr",
     "output_type": "stream",
     "text": [
      "2022-11-11 10:52:55.712695: I tensorflow/core/grappler/optimizers/custom_graph_optimizer_registry.cc:114] Plugin optimizer for device_type GPU is enabled.\n"
     ]
    },
    {
     "name": "stdout",
     "output_type": "stream",
     "text": [
      "0.1282051282051282\n",
      "0.5587996755879967\n",
      "error_rate: 2.174483321008233e-05\n",
      "1.0000000000000049\n",
      " =========== iteration ===========>: 5\n",
      "bfore traning:  67.20194647201947\n",
      "Epoch 1/60\n"
     ]
    },
    {
     "name": "stderr",
     "output_type": "stream",
     "text": [
      "2022-11-11 10:52:56.542694: I tensorflow/core/grappler/optimizers/custom_graph_optimizer_registry.cc:114] Plugin optimizer for device_type GPU is enabled.\n"
     ]
    },
    {
     "name": "stdout",
     "output_type": "stream",
     "text": [
      "89/89 [==============================] - ETA: 0s - loss: 0.6582 - tp: 4015.0000 - fp: 1775.0000 - tn: 247.0000 - fn: 128.0000 - precision: 0.6934 - recall: 0.9691\n",
      "\n",
      "******* Stoping on Defined Thresold *******\n",
      "F1 TRAINING:  0.8084164085291426\n",
      "Recall TRAINING:  0.969104528427124\n",
      "89/89 [==============================] - 3s 23ms/step - loss: 0.6582 - tp: 4015.0000 - fp: 1775.0000 - tn: 247.0000 - fn: 128.0000 - precision: 0.6934 - recall: 0.9691\n",
      "\n",
      "\n",
      "\n",
      "****** Early Stopping *******\n",
      "39/39 [==============================] - 0s 4ms/step\n"
     ]
    },
    {
     "name": "stderr",
     "output_type": "stream",
     "text": [
      "2022-11-11 10:52:59.431412: I tensorflow/core/grappler/optimizers/custom_graph_optimizer_registry.cc:114] Plugin optimizer for device_type GPU is enabled.\n"
     ]
    },
    {
     "name": "stdout",
     "output_type": "stream",
     "text": [
      "0.6431718061674009\n",
      "0.4744525547445255\n",
      "error_rate: 0.00025314389298742505\n",
      "0.9999999999999782\n",
      " =========== iteration ===========>: 6\n",
      "bfore traning:  7.948094079480941\n",
      "Epoch 1/60\n"
     ]
    },
    {
     "name": "stderr",
     "output_type": "stream",
     "text": [
      "2022-11-11 10:53:00.281440: I tensorflow/core/grappler/optimizers/custom_graph_optimizer_registry.cc:114] Plugin optimizer for device_type GPU is enabled.\n"
     ]
    },
    {
     "name": "stdout",
     "output_type": "stream",
     "text": [
      "89/89 [==============================] - 3s 23ms/step - loss: 0.6645 - tp: 11.0000 - fp: 121.0000 - tn: 5554.0000 - fn: 479.0000 - precision: 0.0833 - recall: 0.0224\n",
      "Epoch 2/60\n",
      "89/89 [==============================] - ETA: 0s - loss: 0.1789 - tp: 0.0000e+00 - fp: 0.0000e+00 - tn: 5675.0000 - fn: 490.0000 - precision: 0.0000e+00 - recall: 0.0000e+00**** Waring: precision recall zero avoid exception ****\n",
      "89/89 [==============================] - 1s 13ms/step - loss: 0.1789 - tp: 0.0000e+00 - fp: 0.0000e+00 - tn: 5675.0000 - fn: 490.0000 - precision: 0.0000e+00 - recall: 0.0000e+00\n",
      "Epoch 3/60\n",
      "89/89 [==============================] - ETA: 0s - loss: 0.1587 - tp: 0.0000e+00 - fp: 0.0000e+00 - tn: 5675.0000 - fn: 490.0000 - precision: 0.0000e+00 - recall: 0.0000e+00**** Waring: precision recall zero avoid exception ****\n",
      "89/89 [==============================] - 1s 14ms/step - loss: 0.1587 - tp: 0.0000e+00 - fp: 0.0000e+00 - tn: 5675.0000 - fn: 490.0000 - precision: 0.0000e+00 - recall: 0.0000e+00\n",
      "Epoch 4/60\n",
      "89/89 [==============================] - ETA: 0s - loss: 0.1449 - tp: 0.0000e+00 - fp: 0.0000e+00 - tn: 5675.0000 - fn: 490.0000 - precision: 0.0000e+00 - recall: 0.0000e+00**** Waring: precision recall zero avoid exception ****\n",
      "89/89 [==============================] - 1s 12ms/step - loss: 0.1449 - tp: 0.0000e+00 - fp: 0.0000e+00 - tn: 5675.0000 - fn: 490.0000 - precision: 0.0000e+00 - recall: 0.0000e+00\n",
      "Epoch 5/60\n",
      "89/89 [==============================] - ETA: 0s - loss: 0.1363 - tp: 0.0000e+00 - fp: 0.0000e+00 - tn: 5675.0000 - fn: 490.0000 - precision: 0.0000e+00 - recall: 0.0000e+00**** Waring: precision recall zero avoid exception ****\n",
      "89/89 [==============================] - 1s 13ms/step - loss: 0.1363 - tp: 0.0000e+00 - fp: 0.0000e+00 - tn: 5675.0000 - fn: 490.0000 - precision: 0.0000e+00 - recall: 0.0000e+00\n",
      "Epoch 6/60\n",
      "86/89 [===========================>..] - ETA: 0s - loss: 0.1307 - tp: 0.0000e+00 - fp: 0.0000e+00 - tn: 5538.0000 - fn: 482.0000 - precision: 0.0000e+00 - recall: 0.0000e+00**** Waring: precision recall zero avoid exception ****\n",
      "89/89 [==============================] - 1s 11ms/step - loss: 0.1304 - tp: 0.0000e+00 - fp: 0.0000e+00 - tn: 5675.0000 - fn: 490.0000 - precision: 0.0000e+00 - recall: 0.0000e+00\n",
      "Epoch 7/60\n",
      "88/89 [============================>.] - ETA: 0s - loss: 0.1260 - tp: 0.0000e+00 - fp: 0.0000e+00 - tn: 5672.0000 - fn: 488.0000 - precision: 0.0000e+00 - recall: 0.0000e+00**** Waring: precision recall zero avoid exception ****\n",
      "89/89 [==============================] - 1s 12ms/step - loss: 0.1261 - tp: 0.0000e+00 - fp: 0.0000e+00 - tn: 5675.0000 - fn: 490.0000 - precision: 0.0000e+00 - recall: 0.0000e+00\n",
      "Epoch 8/60\n",
      "89/89 [==============================] - ETA: 0s - loss: 0.1252 - tp: 0.0000e+00 - fp: 0.0000e+00 - tn: 5675.0000 - fn: 490.0000 - precision: 0.0000e+00 - recall: 0.0000e+00**** Waring: precision recall zero avoid exception ****\n",
      "89/89 [==============================] - 1s 12ms/step - loss: 0.1252 - tp: 0.0000e+00 - fp: 0.0000e+00 - tn: 5675.0000 - fn: 490.0000 - precision: 0.0000e+00 - recall: 0.0000e+00\n",
      "Epoch 9/60\n",
      "86/89 [===========================>..] - ETA: 0s - loss: 0.1226 - tp: 0.0000e+00 - fp: 0.0000e+00 - tn: 5544.0000 - fn: 476.0000 - precision: 0.0000e+00 - recall: 0.0000e+00**** Waring: precision recall zero avoid exception ****\n",
      "89/89 [==============================] - 1s 11ms/step - loss: 0.1229 - tp: 0.0000e+00 - fp: 0.0000e+00 - tn: 5675.0000 - fn: 490.0000 - precision: 0.0000e+00 - recall: 0.0000e+00\n",
      "Epoch 10/60\n",
      "86/89 [===========================>..] - ETA: 0s - loss: 0.1237 - tp: 0.0000e+00 - fp: 0.0000e+00 - tn: 5536.0000 - fn: 484.0000 - precision: 0.0000e+00 - recall: 0.0000e+00**** Waring: precision recall zero avoid exception ****\n",
      "89/89 [==============================] - 1s 11ms/step - loss: 0.1232 - tp: 0.0000e+00 - fp: 0.0000e+00 - tn: 5675.0000 - fn: 490.0000 - precision: 0.0000e+00 - recall: 0.0000e+00\n",
      "Epoch 11/60\n",
      "86/89 [===========================>..] - ETA: 0s - loss: 0.1224 - tp: 0.0000e+00 - fp: 0.0000e+00 - tn: 5540.0000 - fn: 480.0000 - precision: 0.0000e+00 - recall: 0.0000e+00**** Waring: precision recall zero avoid exception ****\n",
      "89/89 [==============================] - 1s 11ms/step - loss: 0.1222 - tp: 0.0000e+00 - fp: 0.0000e+00 - tn: 5675.0000 - fn: 490.0000 - precision: 0.0000e+00 - recall: 0.0000e+00\n",
      "Epoch 12/60\n",
      "86/89 [===========================>..] - ETA: 0s - loss: 0.1216 - tp: 0.0000e+00 - fp: 0.0000e+00 - tn: 5547.0000 - fn: 473.0000 - precision: 0.0000e+00 - recall: 0.0000e+00**** Waring: precision recall zero avoid exception ****\n",
      "89/89 [==============================] - 1s 11ms/step - loss: 0.1221 - tp: 0.0000e+00 - fp: 0.0000e+00 - tn: 5675.0000 - fn: 490.0000 - precision: 0.0000e+00 - recall: 0.0000e+00\n",
      "Epoch 13/60\n",
      "89/89 [==============================] - ETA: 0s - loss: 0.1216 - tp: 0.0000e+00 - fp: 0.0000e+00 - tn: 5675.0000 - fn: 490.0000 - precision: 0.0000e+00 - recall: 0.0000e+00**** Waring: precision recall zero avoid exception ****\n",
      "89/89 [==============================] - 1s 12ms/step - loss: 0.1216 - tp: 0.0000e+00 - fp: 0.0000e+00 - tn: 5675.0000 - fn: 490.0000 - precision: 0.0000e+00 - recall: 0.0000e+00\n",
      "Epoch 14/60\n",
      "86/89 [===========================>..] - ETA: 0s - loss: 0.1220 - tp: 0.0000e+00 - fp: 0.0000e+00 - tn: 5541.0000 - fn: 479.0000 - precision: 0.0000e+00 - recall: 0.0000e+00**** Waring: precision recall zero avoid exception ****\n",
      "89/89 [==============================] - 1s 11ms/step - loss: 0.1219 - tp: 0.0000e+00 - fp: 0.0000e+00 - tn: 5675.0000 - fn: 490.0000 - precision: 0.0000e+00 - recall: 0.0000e+00\n",
      "Epoch 15/60\n",
      "86/89 [===========================>..] - ETA: 0s - loss: 0.1213 - tp: 0.0000e+00 - fp: 0.0000e+00 - tn: 5547.0000 - fn: 473.0000 - precision: 0.0000e+00 - recall: 0.0000e+00**** Waring: precision recall zero avoid exception ****\n",
      "89/89 [==============================] - 1s 11ms/step - loss: 0.1217 - tp: 0.0000e+00 - fp: 0.0000e+00 - tn: 5675.0000 - fn: 490.0000 - precision: 0.0000e+00 - recall: 0.0000e+00\n",
      "Epoch 16/60\n",
      "89/89 [==============================] - 1s 12ms/step - loss: 0.1237 - tp: 18.0000 - fp: 0.0000e+00 - tn: 5675.0000 - fn: 472.0000 - precision: 1.0000 - recall: 0.0367\n",
      "Epoch 17/60\n",
      "89/89 [==============================] - 1s 12ms/step - loss: 0.1245 - tp: 30.0000 - fp: 0.0000e+00 - tn: 5675.0000 - fn: 460.0000 - precision: 1.0000 - recall: 0.0612\n",
      "Epoch 18/60\n",
      "89/89 [==============================] - 1s 11ms/step - loss: 0.1240 - tp: 79.0000 - fp: 0.0000e+00 - tn: 5675.0000 - fn: 411.0000 - precision: 1.0000 - recall: 0.1612\n",
      "Epoch 19/60\n",
      "89/89 [==============================] - 1s 11ms/step - loss: 0.1248 - tp: 149.0000 - fp: 0.0000e+00 - tn: 5675.0000 - fn: 341.0000 - precision: 1.0000 - recall: 0.3041\n",
      "Epoch 20/60\n",
      "89/89 [==============================] - 1s 11ms/step - loss: 0.1225 - tp: 168.0000 - fp: 0.0000e+00 - tn: 5675.0000 - fn: 322.0000 - precision: 1.0000 - recall: 0.3429\n",
      "Epoch 21/60\n",
      "89/89 [==============================] - 1s 11ms/step - loss: 0.1244 - tp: 172.0000 - fp: 0.0000e+00 - tn: 5675.0000 - fn: 318.0000 - precision: 1.0000 - recall: 0.3510\n",
      "Epoch 22/60\n",
      "89/89 [==============================] - 1s 11ms/step - loss: 0.1207 - tp: 168.0000 - fp: 0.0000e+00 - tn: 5675.0000 - fn: 322.0000 - precision: 1.0000 - recall: 0.3429\n",
      "Epoch 23/60\n",
      "89/89 [==============================] - 1s 11ms/step - loss: 0.1190 - tp: 168.0000 - fp: 0.0000e+00 - tn: 5675.0000 - fn: 322.0000 - precision: 1.0000 - recall: 0.3429\n",
      "Epoch 24/60\n",
      "89/89 [==============================] - 1s 12ms/step - loss: 0.1188 - tp: 169.0000 - fp: 0.0000e+00 - tn: 5675.0000 - fn: 321.0000 - precision: 1.0000 - recall: 0.3449\n",
      "Epoch 25/60\n",
      "89/89 [==============================] - 1s 12ms/step - loss: 0.1198 - tp: 182.0000 - fp: 0.0000e+00 - tn: 5675.0000 - fn: 308.0000 - precision: 1.0000 - recall: 0.3714\n",
      "Epoch 26/60\n",
      "89/89 [==============================] - 1s 12ms/step - loss: 0.1195 - tp: 186.0000 - fp: 0.0000e+00 - tn: 5675.0000 - fn: 304.0000 - precision: 1.0000 - recall: 0.3796\n",
      "Epoch 27/60\n",
      "89/89 [==============================] - 1s 12ms/step - loss: 0.1191 - tp: 200.0000 - fp: 0.0000e+00 - tn: 5675.0000 - fn: 290.0000 - precision: 1.0000 - recall: 0.4082\n",
      "Epoch 28/60\n",
      "89/89 [==============================] - 1s 12ms/step - loss: 0.1173 - tp: 201.0000 - fp: 0.0000e+00 - tn: 5675.0000 - fn: 289.0000 - precision: 1.0000 - recall: 0.4102\n",
      "Epoch 29/60\n",
      "89/89 [==============================] - 1s 13ms/step - loss: 0.1171 - tp: 208.0000 - fp: 0.0000e+00 - tn: 5675.0000 - fn: 282.0000 - precision: 1.0000 - recall: 0.4245\n",
      "Epoch 30/60\n",
      "89/89 [==============================] - 1s 13ms/step - loss: 0.1163 - tp: 213.0000 - fp: 0.0000e+00 - tn: 5675.0000 - fn: 277.0000 - precision: 1.0000 - recall: 0.4347\n",
      "Epoch 31/60\n",
      "89/89 [==============================] - 1s 12ms/step - loss: 0.1151 - tp: 211.0000 - fp: 0.0000e+00 - tn: 5675.0000 - fn: 279.0000 - precision: 1.0000 - recall: 0.4306\n",
      "Epoch 32/60\n",
      "89/89 [==============================] - 1s 12ms/step - loss: 0.1164 - tp: 215.0000 - fp: 0.0000e+00 - tn: 5675.0000 - fn: 275.0000 - precision: 1.0000 - recall: 0.4388\n",
      "Epoch 33/60\n",
      "89/89 [==============================] - 1s 12ms/step - loss: 0.1423 - tp: 239.0000 - fp: 0.0000e+00 - tn: 5675.0000 - fn: 251.0000 - precision: 1.0000 - recall: 0.4878\n",
      "Epoch 34/60\n",
      "89/89 [==============================] - 1s 12ms/step - loss: 0.1167 - tp: 219.0000 - fp: 0.0000e+00 - tn: 5675.0000 - fn: 271.0000 - precision: 1.0000 - recall: 0.4469\n",
      "Epoch 35/60\n",
      "89/89 [==============================] - 1s 12ms/step - loss: 0.1252 - tp: 221.0000 - fp: 0.0000e+00 - tn: 5675.0000 - fn: 269.0000 - precision: 1.0000 - recall: 0.4510\n",
      "Epoch 36/60\n",
      "89/89 [==============================] - 1s 13ms/step - loss: 0.1162 - tp: 221.0000 - fp: 0.0000e+00 - tn: 5675.0000 - fn: 269.0000 - precision: 1.0000 - recall: 0.4510\n",
      "Epoch 37/60\n",
      "89/89 [==============================] - 1s 12ms/step - loss: 0.1316 - tp: 251.0000 - fp: 0.0000e+00 - tn: 5675.0000 - fn: 239.0000 - precision: 1.0000 - recall: 0.5122\n",
      "Epoch 38/60\n",
      "89/89 [==============================] - 1s 12ms/step - loss: 0.1157 - tp: 228.0000 - fp: 0.0000e+00 - tn: 5675.0000 - fn: 262.0000 - precision: 1.0000 - recall: 0.4653\n",
      "Epoch 39/60\n",
      "89/89 [==============================] - 1s 12ms/step - loss: 0.1144 - tp: 223.0000 - fp: 0.0000e+00 - tn: 5675.0000 - fn: 267.0000 - precision: 1.0000 - recall: 0.4551\n",
      "Epoch 40/60\n",
      "89/89 [==============================] - 1s 12ms/step - loss: 0.1156 - tp: 230.0000 - fp: 0.0000e+00 - tn: 5675.0000 - fn: 260.0000 - precision: 1.0000 - recall: 0.4694\n",
      "Epoch 41/60\n",
      "89/89 [==============================] - 1s 12ms/step - loss: 0.1160 - tp: 234.0000 - fp: 0.0000e+00 - tn: 5675.0000 - fn: 256.0000 - precision: 1.0000 - recall: 0.4776\n",
      "Epoch 42/60\n",
      "89/89 [==============================] - 1s 12ms/step - loss: 0.1126 - tp: 233.0000 - fp: 0.0000e+00 - tn: 5675.0000 - fn: 257.0000 - precision: 1.0000 - recall: 0.4755\n",
      "Epoch 43/60\n",
      "89/89 [==============================] - 1s 12ms/step - loss: 0.1141 - tp: 246.0000 - fp: 0.0000e+00 - tn: 5675.0000 - fn: 244.0000 - precision: 1.0000 - recall: 0.5020\n",
      "Epoch 44/60\n",
      "89/89 [==============================] - 1s 12ms/step - loss: 0.1180 - tp: 234.0000 - fp: 0.0000e+00 - tn: 5675.0000 - fn: 256.0000 - precision: 1.0000 - recall: 0.4776\n",
      "Epoch 45/60\n",
      "89/89 [==============================] - 1s 12ms/step - loss: 0.1129 - tp: 245.0000 - fp: 0.0000e+00 - tn: 5675.0000 - fn: 245.0000 - precision: 1.0000 - recall: 0.5000\n",
      "Epoch 46/60\n",
      "89/89 [==============================] - 1s 12ms/step - loss: 0.1270 - tp: 291.0000 - fp: 0.0000e+00 - tn: 5675.0000 - fn: 199.0000 - precision: 1.0000 - recall: 0.5939\n",
      "Epoch 47/60\n",
      "89/89 [==============================] - 1s 12ms/step - loss: 0.1133 - tp: 248.0000 - fp: 0.0000e+00 - tn: 5675.0000 - fn: 242.0000 - precision: 1.0000 - recall: 0.5061\n",
      "Epoch 48/60\n",
      "89/89 [==============================] - 1s 12ms/step - loss: 0.1226 - tp: 268.0000 - fp: 0.0000e+00 - tn: 5675.0000 - fn: 222.0000 - precision: 1.0000 - recall: 0.5469\n",
      "Epoch 49/60\n",
      "89/89 [==============================] - 1s 12ms/step - loss: 0.1154 - tp: 259.0000 - fp: 0.0000e+00 - tn: 5675.0000 - fn: 231.0000 - precision: 1.0000 - recall: 0.5286\n",
      "Epoch 50/60\n",
      "89/89 [==============================] - 1s 12ms/step - loss: 0.1113 - tp: 261.0000 - fp: 0.0000e+00 - tn: 5675.0000 - fn: 229.0000 - precision: 1.0000 - recall: 0.5327\n",
      "Epoch 51/60\n",
      "89/89 [==============================] - 1s 12ms/step - loss: 0.1383 - tp: 280.0000 - fp: 4.0000 - tn: 5671.0000 - fn: 210.0000 - precision: 0.9859 - recall: 0.5714\n",
      "Epoch 52/60\n",
      "89/89 [==============================] - 1s 12ms/step - loss: 0.1159 - tp: 260.0000 - fp: 0.0000e+00 - tn: 5675.0000 - fn: 230.0000 - precision: 1.0000 - recall: 0.5306\n",
      "Epoch 53/60\n",
      "89/89 [==============================] - 1s 12ms/step - loss: 0.1154 - tp: 269.0000 - fp: 0.0000e+00 - tn: 5675.0000 - fn: 221.0000 - precision: 1.0000 - recall: 0.5490\n",
      "Epoch 54/60\n",
      "89/89 [==============================] - 1s 12ms/step - loss: 0.1128 - tp: 274.0000 - fp: 0.0000e+00 - tn: 5675.0000 - fn: 216.0000 - precision: 1.0000 - recall: 0.5592\n",
      "Epoch 55/60\n",
      "89/89 [==============================] - 1s 12ms/step - loss: 0.1125 - tp: 280.0000 - fp: 0.0000e+00 - tn: 5675.0000 - fn: 210.0000 - precision: 1.0000 - recall: 0.5714\n",
      "Epoch 56/60\n",
      "89/89 [==============================] - 1s 12ms/step - loss: 0.1150 - tp: 285.0000 - fp: 0.0000e+00 - tn: 5675.0000 - fn: 205.0000 - precision: 1.0000 - recall: 0.5816\n",
      "Epoch 57/60\n",
      "89/89 [==============================] - 1s 12ms/step - loss: 0.1118 - tp: 280.0000 - fp: 0.0000e+00 - tn: 5675.0000 - fn: 210.0000 - precision: 1.0000 - recall: 0.5714\n",
      "Epoch 58/60\n",
      "89/89 [==============================] - 1s 12ms/step - loss: 0.1146 - tp: 294.0000 - fp: 0.0000e+00 - tn: 5675.0000 - fn: 196.0000 - precision: 1.0000 - recall: 0.6000\n",
      "Epoch 59/60\n",
      "89/89 [==============================] - 1s 12ms/step - loss: 0.1220 - tp: 305.0000 - fp: 0.0000e+00 - tn: 5675.0000 - fn: 185.0000 - precision: 1.0000 - recall: 0.6224\n",
      "Epoch 60/60\n",
      "89/89 [==============================] - 1s 12ms/step - loss: 0.1140 - tp: 287.0000 - fp: 0.0000e+00 - tn: 5675.0000 - fn: 203.0000 - precision: 1.0000 - recall: 0.5857\n",
      "39/39 [==============================] - 0s 3ms/step\n"
     ]
    },
    {
     "name": "stderr",
     "output_type": "stream",
     "text": [
      "2022-11-11 10:54:05.824143: I tensorflow/core/grappler/optimizers/custom_graph_optimizer_registry.cc:114] Plugin optimizer for device_type GPU is enabled.\n"
     ]
    },
    {
     "name": "stdout",
     "output_type": "stream",
     "text": [
      "0.4712041884816754\n",
      "0.6723438767234388\n",
      "error_rate: 2.467843396768311e-05\n",
      "1.0000000000000058\n",
      " =========== iteration ===========>: 7\n",
      "bfore traning:  69.97566909975669\n",
      "Epoch 1/60\n"
     ]
    },
    {
     "name": "stderr",
     "output_type": "stream",
     "text": [
      "2022-11-11 10:54:06.621842: I tensorflow/core/grappler/optimizers/custom_graph_optimizer_registry.cc:114] Plugin optimizer for device_type GPU is enabled.\n"
     ]
    },
    {
     "name": "stdout",
     "output_type": "stream",
     "text": [
      "89/89 [==============================] - ETA: 0s - loss: 0.6617 - tp: 4299.0000 - fp: 1847.0000 - tn: 4.0000 - fn: 15.0000 - precision: 0.6995 - recall: 0.9965\n",
      "\n",
      "******* Stoping on Defined Thresold *******\n",
      "F1 TRAINING:  0.8219885160792348\n",
      "Recall TRAINING:  0.9965229034423828\n",
      "89/89 [==============================] - 3s 24ms/step - loss: 0.6617 - tp: 4299.0000 - fp: 1847.0000 - tn: 4.0000 - fn: 15.0000 - precision: 0.6995 - recall: 0.9965\n",
      "\n",
      "\n",
      "\n",
      "****** Early Stopping *******\n",
      "39/39 [==============================] - 0s 4ms/step\n"
     ]
    },
    {
     "name": "stderr",
     "output_type": "stream",
     "text": [
      "2022-11-11 10:54:09.617606: I tensorflow/core/grappler/optimizers/custom_graph_optimizer_registry.cc:114] Plugin optimizer for device_type GPU is enabled.\n"
     ]
    },
    {
     "name": "stdout",
     "output_type": "stream",
     "text": [
      "0.6428178315905339\n",
      "0.47364152473641524\n",
      "error_rate: 0.0002429999067345097\n",
      "1.0000000000000027\n",
      " =========== iteration ===========>: 8\n",
      "bfore traning:  7.477696674776967\n",
      "Epoch 1/60\n"
     ]
    },
    {
     "name": "stderr",
     "output_type": "stream",
     "text": [
      "2022-11-11 10:54:10.421633: I tensorflow/core/grappler/optimizers/custom_graph_optimizer_registry.cc:114] Plugin optimizer for device_type GPU is enabled.\n"
     ]
    },
    {
     "name": "stdout",
     "output_type": "stream",
     "text": [
      "89/89 [==============================] - ETA: 0s - loss: 0.6436 - tp: 0.0000e+00 - fp: 0.0000e+00 - tn: 5704.0000 - fn: 461.0000 - precision: 0.0000e+00 - recall: 0.0000e+00**** Waring: precision recall zero avoid exception ****\n",
      "89/89 [==============================] - 3s 24ms/step - loss: 0.6436 - tp: 0.0000e+00 - fp: 0.0000e+00 - tn: 5704.0000 - fn: 461.0000 - precision: 0.0000e+00 - recall: 0.0000e+00\n",
      "Epoch 2/60\n",
      "89/89 [==============================] - ETA: 0s - loss: 0.1577 - tp: 0.0000e+00 - fp: 0.0000e+00 - tn: 5704.0000 - fn: 461.0000 - precision: 0.0000e+00 - recall: 0.0000e+00**** Waring: precision recall zero avoid exception ****\n",
      "89/89 [==============================] - 1s 13ms/step - loss: 0.1577 - tp: 0.0000e+00 - fp: 0.0000e+00 - tn: 5704.0000 - fn: 461.0000 - precision: 0.0000e+00 - recall: 0.0000e+00\n",
      "Epoch 3/60\n",
      "89/89 [==============================] - ETA: 0s - loss: 0.1412 - tp: 0.0000e+00 - fp: 0.0000e+00 - tn: 5704.0000 - fn: 461.0000 - precision: 0.0000e+00 - recall: 0.0000e+00**** Waring: precision recall zero avoid exception ****\n",
      "89/89 [==============================] - 1s 13ms/step - loss: 0.1412 - tp: 0.0000e+00 - fp: 0.0000e+00 - tn: 5704.0000 - fn: 461.0000 - precision: 0.0000e+00 - recall: 0.0000e+00\n",
      "Epoch 4/60\n",
      "86/89 [===========================>..] - ETA: 0s - loss: 0.1354 - tp: 0.0000e+00 - fp: 0.0000e+00 - tn: 5571.0000 - fn: 449.0000 - precision: 0.0000e+00 - recall: 0.0000e+00**** Waring: precision recall zero avoid exception ****\n",
      "89/89 [==============================] - 1s 13ms/step - loss: 0.1354 - tp: 0.0000e+00 - fp: 0.0000e+00 - tn: 5704.0000 - fn: 461.0000 - precision: 0.0000e+00 - recall: 0.0000e+00\n",
      "Epoch 5/60\n",
      "89/89 [==============================] - ETA: 0s - loss: 0.1273 - tp: 0.0000e+00 - fp: 0.0000e+00 - tn: 5704.0000 - fn: 461.0000 - precision: 0.0000e+00 - recall: 0.0000e+00**** Waring: precision recall zero avoid exception ****\n",
      "89/89 [==============================] - 1s 13ms/step - loss: 0.1273 - tp: 0.0000e+00 - fp: 0.0000e+00 - tn: 5704.0000 - fn: 461.0000 - precision: 0.0000e+00 - recall: 0.0000e+00\n",
      "Epoch 6/60\n",
      "89/89 [==============================] - ETA: 0s - loss: 0.1267 - tp: 0.0000e+00 - fp: 0.0000e+00 - tn: 5704.0000 - fn: 461.0000 - precision: 0.0000e+00 - recall: 0.0000e+00**** Waring: precision recall zero avoid exception ****\n",
      "89/89 [==============================] - 1s 12ms/step - loss: 0.1267 - tp: 0.0000e+00 - fp: 0.0000e+00 - tn: 5704.0000 - fn: 461.0000 - precision: 0.0000e+00 - recall: 0.0000e+00\n",
      "Epoch 7/60\n",
      "86/89 [===========================>..] - ETA: 0s - loss: 0.1264 - tp: 0.0000e+00 - fp: 0.0000e+00 - tn: 5572.0000 - fn: 448.0000 - precision: 0.0000e+00 - recall: 0.0000e+00**** Waring: precision recall zero avoid exception ****\n",
      "89/89 [==============================] - 1s 12ms/step - loss: 0.1267 - tp: 0.0000e+00 - fp: 0.0000e+00 - tn: 5704.0000 - fn: 461.0000 - precision: 0.0000e+00 - recall: 0.0000e+00\n",
      "Epoch 8/60\n",
      "86/89 [===========================>..] - ETA: 0s - loss: 0.1271 - tp: 0.0000e+00 - fp: 0.0000e+00 - tn: 5569.0000 - fn: 451.0000 - precision: 0.0000e+00 - recall: 0.0000e+00**** Waring: precision recall zero avoid exception ****\n",
      "89/89 [==============================] - 1s 12ms/step - loss: 0.1269 - tp: 0.0000e+00 - fp: 0.0000e+00 - tn: 5704.0000 - fn: 461.0000 - precision: 0.0000e+00 - recall: 0.0000e+00\n",
      "Epoch 9/60\n",
      "89/89 [==============================] - ETA: 0s - loss: 0.1266 - tp: 0.0000e+00 - fp: 0.0000e+00 - tn: 5704.0000 - fn: 461.0000 - precision: 0.0000e+00 - recall: 0.0000e+00**** Waring: precision recall zero avoid exception ****\n",
      "89/89 [==============================] - 1s 12ms/step - loss: 0.1266 - tp: 0.0000e+00 - fp: 0.0000e+00 - tn: 5704.0000 - fn: 461.0000 - precision: 0.0000e+00 - recall: 0.0000e+00\n",
      "Epoch 10/60\n",
      "89/89 [==============================] - ETA: 0s - loss: 0.1272 - tp: 0.0000e+00 - fp: 0.0000e+00 - tn: 5704.0000 - fn: 461.0000 - precision: 0.0000e+00 - recall: 0.0000e+00**** Waring: precision recall zero avoid exception ****\n",
      "89/89 [==============================] - 1s 12ms/step - loss: 0.1272 - tp: 0.0000e+00 - fp: 0.0000e+00 - tn: 5704.0000 - fn: 461.0000 - precision: 0.0000e+00 - recall: 0.0000e+00\n",
      "Epoch 11/60\n",
      "86/89 [===========================>..] - ETA: 0s - loss: 0.1278 - tp: 0.0000e+00 - fp: 0.0000e+00 - tn: 5566.0000 - fn: 454.0000 - precision: 0.0000e+00 - recall: 0.0000e+00**** Waring: precision recall zero avoid exception ****\n",
      "89/89 [==============================] - 1s 12ms/step - loss: 0.1274 - tp: 0.0000e+00 - fp: 0.0000e+00 - tn: 5704.0000 - fn: 461.0000 - precision: 0.0000e+00 - recall: 0.0000e+00\n",
      "Epoch 12/60\n",
      "85/89 [===========================>..] - ETA: 0s - loss: 0.1268 - tp: 0.0000e+00 - fp: 0.0000e+00 - tn: 5508.0000 - fn: 442.0000 - precision: 0.0000e+00 - recall: 0.0000e+00**** Waring: precision recall zero avoid exception ****\n",
      "89/89 [==============================] - 1s 12ms/step - loss: 0.1270 - tp: 0.0000e+00 - fp: 0.0000e+00 - tn: 5704.0000 - fn: 461.0000 - precision: 0.0000e+00 - recall: 0.0000e+00\n",
      "Epoch 13/60\n",
      "89/89 [==============================] - ETA: 0s - loss: 0.1295 - tp: 0.0000e+00 - fp: 0.0000e+00 - tn: 5704.0000 - fn: 461.0000 - precision: 0.0000e+00 - recall: 0.0000e+00**** Waring: precision recall zero avoid exception ****\n",
      "89/89 [==============================] - 1s 12ms/step - loss: 0.1295 - tp: 0.0000e+00 - fp: 0.0000e+00 - tn: 5704.0000 - fn: 461.0000 - precision: 0.0000e+00 - recall: 0.0000e+00\n",
      "Epoch 14/60\n",
      "86/89 [===========================>..] - ETA: 0s - loss: 0.1298 - tp: 0.0000e+00 - fp: 0.0000e+00 - tn: 5567.0000 - fn: 453.0000 - precision: 0.0000e+00 - recall: 0.0000e+00**** Waring: precision recall zero avoid exception ****\n",
      "89/89 [==============================] - 1s 12ms/step - loss: 0.1294 - tp: 0.0000e+00 - fp: 0.0000e+00 - tn: 5704.0000 - fn: 461.0000 - precision: 0.0000e+00 - recall: 0.0000e+00\n",
      "Epoch 15/60\n",
      "86/89 [===========================>..] - ETA: 0s - loss: 0.1280 - tp: 0.0000e+00 - fp: 0.0000e+00 - tn: 5572.0000 - fn: 448.0000 - precision: 0.0000e+00 - recall: 0.0000e+00**** Waring: precision recall zero avoid exception ****\n",
      "89/89 [==============================] - 1s 12ms/step - loss: 0.1282 - tp: 0.0000e+00 - fp: 0.0000e+00 - tn: 5704.0000 - fn: 461.0000 - precision: 0.0000e+00 - recall: 0.0000e+00\n",
      "Epoch 16/60\n",
      "86/89 [===========================>..] - ETA: 0s - loss: 0.1337 - tp: 0.0000e+00 - fp: 0.0000e+00 - tn: 5568.0000 - fn: 452.0000 - precision: 0.0000e+00 - recall: 0.0000e+00**** Waring: precision recall zero avoid exception ****\n",
      "89/89 [==============================] - 1s 12ms/step - loss: 0.1334 - tp: 0.0000e+00 - fp: 0.0000e+00 - tn: 5704.0000 - fn: 461.0000 - precision: 0.0000e+00 - recall: 0.0000e+00\n",
      "Epoch 17/60\n",
      "86/89 [===========================>..] - ETA: 0s - loss: 0.1274 - tp: 0.0000e+00 - fp: 0.0000e+00 - tn: 5572.0000 - fn: 448.0000 - precision: 0.0000e+00 - recall: 0.0000e+00**** Waring: precision recall zero avoid exception ****\n",
      "89/89 [==============================] - 1s 12ms/step - loss: 0.1278 - tp: 0.0000e+00 - fp: 0.0000e+00 - tn: 5704.0000 - fn: 461.0000 - precision: 0.0000e+00 - recall: 0.0000e+00\n",
      "Epoch 18/60\n",
      "85/89 [===========================>..] - ETA: 0s - loss: 0.1310 - tp: 0.0000e+00 - fp: 0.0000e+00 - tn: 5500.0000 - fn: 450.0000 - precision: 0.0000e+00 - recall: 0.0000e+00**** Waring: precision recall zero avoid exception ****\n",
      "89/89 [==============================] - 1s 12ms/step - loss: 0.1303 - tp: 0.0000e+00 - fp: 0.0000e+00 - tn: 5704.0000 - fn: 461.0000 - precision: 0.0000e+00 - recall: 0.0000e+00\n",
      "Epoch 19/60\n",
      "86/89 [===========================>..] - ETA: 0s - loss: 0.1279 - tp: 0.0000e+00 - fp: 0.0000e+00 - tn: 5565.0000 - fn: 455.0000 - precision: 0.0000e+00 - recall: 0.0000e+00**** Waring: precision recall zero avoid exception ****\n",
      "89/89 [==============================] - 1s 12ms/step - loss: 0.1276 - tp: 0.0000e+00 - fp: 0.0000e+00 - tn: 5704.0000 - fn: 461.0000 - precision: 0.0000e+00 - recall: 0.0000e+00\n",
      "Epoch 20/60\n",
      "85/89 [===========================>..] - ETA: 0s - loss: 0.1312 - tp: 0.0000e+00 - fp: 0.0000e+00 - tn: 5503.0000 - fn: 447.0000 - precision: 0.0000e+00 - recall: 0.0000e+00**** Waring: precision recall zero avoid exception ****\n",
      "89/89 [==============================] - 1s 12ms/step - loss: 0.1310 - tp: 0.0000e+00 - fp: 0.0000e+00 - tn: 5704.0000 - fn: 461.0000 - precision: 0.0000e+00 - recall: 0.0000e+00\n",
      "Epoch 21/60\n",
      "85/89 [===========================>..] - ETA: 0s - loss: 0.1308 - tp: 0.0000e+00 - fp: 0.0000e+00 - tn: 5499.0000 - fn: 451.0000 - precision: 0.0000e+00 - recall: 0.0000e+00**** Waring: precision recall zero avoid exception ****\n",
      "89/89 [==============================] - 1s 12ms/step - loss: 0.1302 - tp: 0.0000e+00 - fp: 0.0000e+00 - tn: 5704.0000 - fn: 461.0000 - precision: 0.0000e+00 - recall: 0.0000e+00\n",
      "Epoch 22/60\n",
      "86/89 [===========================>..] - ETA: 0s - loss: 0.1413 - tp: 0.0000e+00 - fp: 0.0000e+00 - tn: 5567.0000 - fn: 453.0000 - precision: 0.0000e+00 - recall: 0.0000e+00**** Waring: precision recall zero avoid exception ****\n",
      "89/89 [==============================] - 1s 12ms/step - loss: 0.1406 - tp: 0.0000e+00 - fp: 0.0000e+00 - tn: 5704.0000 - fn: 461.0000 - precision: 0.0000e+00 - recall: 0.0000e+00\n",
      "Epoch 23/60\n",
      "86/89 [===========================>..] - ETA: 0s - loss: 0.1278 - tp: 0.0000e+00 - fp: 0.0000e+00 - tn: 5569.0000 - fn: 451.0000 - precision: 0.0000e+00 - recall: 0.0000e+00**** Waring: precision recall zero avoid exception ****\n",
      "89/89 [==============================] - 1s 12ms/step - loss: 0.1277 - tp: 0.0000e+00 - fp: 0.0000e+00 - tn: 5704.0000 - fn: 461.0000 - precision: 0.0000e+00 - recall: 0.0000e+00\n",
      "Epoch 24/60\n",
      "86/89 [===========================>..] - ETA: 0s - loss: 0.1291 - tp: 0.0000e+00 - fp: 0.0000e+00 - tn: 5570.0000 - fn: 450.0000 - precision: 0.0000e+00 - recall: 0.0000e+00**** Waring: precision recall zero avoid exception ****\n",
      "89/89 [==============================] - 1s 12ms/step - loss: 0.1292 - tp: 0.0000e+00 - fp: 0.0000e+00 - tn: 5704.0000 - fn: 461.0000 - precision: 0.0000e+00 - recall: 0.0000e+00\n",
      "Epoch 25/60\n",
      "86/89 [===========================>..] - ETA: 0s - loss: 0.1274 - tp: 0.0000e+00 - fp: 0.0000e+00 - tn: 5579.0000 - fn: 441.0000 - precision: 0.0000e+00 - recall: 0.0000e+00**** Waring: precision recall zero avoid exception ****\n",
      "89/89 [==============================] - 1s 12ms/step - loss: 0.1282 - tp: 0.0000e+00 - fp: 0.0000e+00 - tn: 5704.0000 - fn: 461.0000 - precision: 0.0000e+00 - recall: 0.0000e+00\n",
      "Epoch 26/60\n",
      "86/89 [===========================>..] - ETA: 0s - loss: 0.1282 - tp: 0.0000e+00 - fp: 0.0000e+00 - tn: 5571.0000 - fn: 449.0000 - precision: 0.0000e+00 - recall: 0.0000e+00**** Waring: precision recall zero avoid exception ****\n",
      "89/89 [==============================] - 1s 12ms/step - loss: 0.1286 - tp: 0.0000e+00 - fp: 0.0000e+00 - tn: 5704.0000 - fn: 461.0000 - precision: 0.0000e+00 - recall: 0.0000e+00\n",
      "Epoch 27/60\n",
      "86/89 [===========================>..] - ETA: 0s - loss: 0.1319 - tp: 0.0000e+00 - fp: 0.0000e+00 - tn: 5564.0000 - fn: 456.0000 - precision: 0.0000e+00 - recall: 0.0000e+00**** Waring: precision recall zero avoid exception ****\n",
      "89/89 [==============================] - 1s 12ms/step - loss: 0.1313 - tp: 0.0000e+00 - fp: 0.0000e+00 - tn: 5704.0000 - fn: 461.0000 - precision: 0.0000e+00 - recall: 0.0000e+00\n",
      "Epoch 28/60\n",
      "86/89 [===========================>..] - ETA: 0s - loss: 0.1291 - tp: 0.0000e+00 - fp: 0.0000e+00 - tn: 5572.0000 - fn: 448.0000 - precision: 0.0000e+00 - recall: 0.0000e+00**** Waring: precision recall zero avoid exception ****\n",
      "89/89 [==============================] - 1s 12ms/step - loss: 0.1295 - tp: 0.0000e+00 - fp: 0.0000e+00 - tn: 5704.0000 - fn: 461.0000 - precision: 0.0000e+00 - recall: 0.0000e+00\n",
      "Epoch 29/60\n",
      "86/89 [===========================>..] - ETA: 0s - loss: 0.1313 - tp: 0.0000e+00 - fp: 0.0000e+00 - tn: 5570.0000 - fn: 450.0000 - precision: 0.0000e+00 - recall: 0.0000e+00**** Waring: precision recall zero avoid exception ****\n",
      "89/89 [==============================] - 1s 12ms/step - loss: 0.1313 - tp: 0.0000e+00 - fp: 0.0000e+00 - tn: 5704.0000 - fn: 461.0000 - precision: 0.0000e+00 - recall: 0.0000e+00\n",
      "Epoch 30/60\n",
      "85/89 [===========================>..] - ETA: 0s - loss: 0.1302 - tp: 0.0000e+00 - fp: 0.0000e+00 - tn: 5505.0000 - fn: 445.0000 - precision: 0.0000e+00 - recall: 0.0000e+00**** Waring: precision recall zero avoid exception ****\n",
      "89/89 [==============================] - 1s 12ms/step - loss: 0.1303 - tp: 0.0000e+00 - fp: 0.0000e+00 - tn: 5704.0000 - fn: 461.0000 - precision: 0.0000e+00 - recall: 0.0000e+00\n",
      "Epoch 31/60\n",
      "85/89 [===========================>..] - ETA: 0s - loss: 0.1295 - tp: 0.0000e+00 - fp: 0.0000e+00 - tn: 5500.0000 - fn: 450.0000 - precision: 0.0000e+00 - recall: 0.0000e+00**** Waring: precision recall zero avoid exception ****\n",
      "89/89 [==============================] - 1s 12ms/step - loss: 0.1291 - tp: 0.0000e+00 - fp: 0.0000e+00 - tn: 5704.0000 - fn: 461.0000 - precision: 0.0000e+00 - recall: 0.0000e+00\n",
      "Epoch 32/60\n",
      "86/89 [===========================>..] - ETA: 0s - loss: 0.1311 - tp: 0.0000e+00 - fp: 0.0000e+00 - tn: 5571.0000 - fn: 449.0000 - precision: 0.0000e+00 - recall: 0.0000e+00**** Waring: precision recall zero avoid exception ****\n",
      "89/89 [==============================] - 1s 12ms/step - loss: 0.1312 - tp: 0.0000e+00 - fp: 0.0000e+00 - tn: 5704.0000 - fn: 461.0000 - precision: 0.0000e+00 - recall: 0.0000e+00\n",
      "Epoch 33/60\n",
      "86/89 [===========================>..] - ETA: 0s - loss: 0.1307 - tp: 0.0000e+00 - fp: 0.0000e+00 - tn: 5570.0000 - fn: 450.0000 - precision: 0.0000e+00 - recall: 0.0000e+00**** Waring: precision recall zero avoid exception ****\n",
      "89/89 [==============================] - 1s 12ms/step - loss: 0.1306 - tp: 0.0000e+00 - fp: 0.0000e+00 - tn: 5704.0000 - fn: 461.0000 - precision: 0.0000e+00 - recall: 0.0000e+00\n",
      "Epoch 34/60\n",
      "86/89 [===========================>..] - ETA: 0s - loss: 0.1293 - tp: 0.0000e+00 - fp: 0.0000e+00 - tn: 5570.0000 - fn: 450.0000 - precision: 0.0000e+00 - recall: 0.0000e+00**** Waring: precision recall zero avoid exception ****\n",
      "89/89 [==============================] - 1s 12ms/step - loss: 0.1293 - tp: 0.0000e+00 - fp: 0.0000e+00 - tn: 5704.0000 - fn: 461.0000 - precision: 0.0000e+00 - recall: 0.0000e+00\n",
      "Epoch 35/60\n",
      "86/89 [===========================>..] - ETA: 0s - loss: 0.1329 - tp: 0.0000e+00 - fp: 0.0000e+00 - tn: 5576.0000 - fn: 444.0000 - precision: 0.0000e+00 - recall: 0.0000e+00**** Waring: precision recall zero avoid exception ****\n",
      "89/89 [==============================] - 1s 12ms/step - loss: 0.1334 - tp: 0.0000e+00 - fp: 0.0000e+00 - tn: 5704.0000 - fn: 461.0000 - precision: 0.0000e+00 - recall: 0.0000e+00\n",
      "Epoch 36/60\n",
      "87/89 [============================>.] - ETA: 0s - loss: 0.1315 - tp: 0.0000e+00 - fp: 0.0000e+00 - tn: 5631.0000 - fn: 459.0000 - precision: 0.0000e+00 - recall: 0.0000e+00**** Waring: precision recall zero avoid exception ****\n",
      "89/89 [==============================] - 1s 14ms/step - loss: 0.1312 - tp: 0.0000e+00 - fp: 0.0000e+00 - tn: 5704.0000 - fn: 461.0000 - precision: 0.0000e+00 - recall: 0.0000e+00\n",
      "Epoch 37/60\n",
      "85/89 [===========================>..] - ETA: 0s - loss: 0.1308 - tp: 0.0000e+00 - fp: 0.0000e+00 - tn: 5498.0000 - fn: 452.0000 - precision: 0.0000e+00 - recall: 0.0000e+00**** Waring: precision recall zero avoid exception ****\n",
      "89/89 [==============================] - 1s 12ms/step - loss: 0.1303 - tp: 0.0000e+00 - fp: 0.0000e+00 - tn: 5704.0000 - fn: 461.0000 - precision: 0.0000e+00 - recall: 0.0000e+00\n",
      "Epoch 38/60\n",
      "86/89 [===========================>..] - ETA: 0s - loss: 0.1351 - tp: 0.0000e+00 - fp: 0.0000e+00 - tn: 5571.0000 - fn: 449.0000 - precision: 0.0000e+00 - recall: 0.0000e+00**** Waring: precision recall zero avoid exception ****\n",
      "89/89 [==============================] - 1s 12ms/step - loss: 0.1352 - tp: 0.0000e+00 - fp: 0.0000e+00 - tn: 5704.0000 - fn: 461.0000 - precision: 0.0000e+00 - recall: 0.0000e+00\n",
      "Epoch 39/60\n",
      "86/89 [===========================>..] - ETA: 0s - loss: 0.1305 - tp: 0.0000e+00 - fp: 0.0000e+00 - tn: 5576.0000 - fn: 444.0000 - precision: 0.0000e+00 - recall: 0.0000e+00**** Waring: precision recall zero avoid exception ****\n",
      "89/89 [==============================] - 1s 12ms/step - loss: 0.1311 - tp: 0.0000e+00 - fp: 0.0000e+00 - tn: 5704.0000 - fn: 461.0000 - precision: 0.0000e+00 - recall: 0.0000e+00\n",
      "Epoch 40/60\n",
      "89/89 [==============================] - ETA: 0s - loss: 0.1333 - tp: 0.0000e+00 - fp: 0.0000e+00 - tn: 5704.0000 - fn: 461.0000 - precision: 0.0000e+00 - recall: 0.0000e+00**** Waring: precision recall zero avoid exception ****\n",
      "89/89 [==============================] - 1s 12ms/step - loss: 0.1333 - tp: 0.0000e+00 - fp: 0.0000e+00 - tn: 5704.0000 - fn: 461.0000 - precision: 0.0000e+00 - recall: 0.0000e+00\n",
      "Epoch 41/60\n",
      "86/89 [===========================>..] - ETA: 0s - loss: 0.1381 - tp: 0.0000e+00 - fp: 0.0000e+00 - tn: 5567.0000 - fn: 453.0000 - precision: 0.0000e+00 - recall: 0.0000e+00**** Waring: precision recall zero avoid exception ****\n",
      "89/89 [==============================] - 1s 12ms/step - loss: 0.1376 - tp: 0.0000e+00 - fp: 0.0000e+00 - tn: 5704.0000 - fn: 461.0000 - precision: 0.0000e+00 - recall: 0.0000e+00\n",
      "Epoch 42/60\n",
      "86/89 [===========================>..] - ETA: 0s - loss: 0.1311 - tp: 0.0000e+00 - fp: 0.0000e+00 - tn: 5569.0000 - fn: 451.0000 - precision: 0.0000e+00 - recall: 0.0000e+00**** Waring: precision recall zero avoid exception ****\n",
      "89/89 [==============================] - 1s 12ms/step - loss: 0.1310 - tp: 0.0000e+00 - fp: 0.0000e+00 - tn: 5704.0000 - fn: 461.0000 - precision: 0.0000e+00 - recall: 0.0000e+00\n",
      "Epoch 43/60\n",
      "85/89 [===========================>..] - ETA: 0s - loss: 0.1319 - tp: 0.0000e+00 - fp: 0.0000e+00 - tn: 5501.0000 - fn: 449.0000 - precision: 0.0000e+00 - recall: 0.0000e+00**** Waring: precision recall zero avoid exception ****\n",
      "89/89 [==============================] - 1s 13ms/step - loss: 0.1315 - tp: 0.0000e+00 - fp: 0.0000e+00 - tn: 5704.0000 - fn: 461.0000 - precision: 0.0000e+00 - recall: 0.0000e+00\n",
      "Epoch 44/60\n",
      "89/89 [==============================] - ETA: 0s - loss: 0.1288 - tp: 0.0000e+00 - fp: 0.0000e+00 - tn: 5704.0000 - fn: 461.0000 - precision: 0.0000e+00 - recall: 0.0000e+00**** Waring: precision recall zero avoid exception ****\n",
      "89/89 [==============================] - 1s 13ms/step - loss: 0.1288 - tp: 0.0000e+00 - fp: 0.0000e+00 - tn: 5704.0000 - fn: 461.0000 - precision: 0.0000e+00 - recall: 0.0000e+00\n",
      "Epoch 45/60\n",
      "87/89 [============================>.] - ETA: 0s - loss: 0.1402 - tp: 0.0000e+00 - fp: 0.0000e+00 - tn: 5634.0000 - fn: 456.0000 - precision: 0.0000e+00 - recall: 0.0000e+00**** Waring: precision recall zero avoid exception ****\n",
      "89/89 [==============================] - 1s 12ms/step - loss: 0.1400 - tp: 0.0000e+00 - fp: 0.0000e+00 - tn: 5704.0000 - fn: 461.0000 - precision: 0.0000e+00 - recall: 0.0000e+00\n",
      "Epoch 46/60\n",
      "86/89 [===========================>..] - ETA: 0s - loss: 0.1292 - tp: 0.0000e+00 - fp: 0.0000e+00 - tn: 5573.0000 - fn: 447.0000 - precision: 0.0000e+00 - recall: 0.0000e+00**** Waring: precision recall zero avoid exception ****\n",
      "89/89 [==============================] - 1s 12ms/step - loss: 0.1294 - tp: 0.0000e+00 - fp: 0.0000e+00 - tn: 5704.0000 - fn: 461.0000 - precision: 0.0000e+00 - recall: 0.0000e+00\n",
      "Epoch 47/60\n",
      "87/89 [============================>.] - ETA: 0s - loss: 0.1335 - tp: 0.0000e+00 - fp: 0.0000e+00 - tn: 5635.0000 - fn: 455.0000 - precision: 0.0000e+00 - recall: 0.0000e+00**** Waring: precision recall zero avoid exception ****\n",
      "89/89 [==============================] - 1s 12ms/step - loss: 0.1338 - tp: 0.0000e+00 - fp: 0.0000e+00 - tn: 5704.0000 - fn: 461.0000 - precision: 0.0000e+00 - recall: 0.0000e+00\n",
      "Epoch 48/60\n",
      "85/89 [===========================>..] - ETA: 0s - loss: 0.1319 - tp: 0.0000e+00 - fp: 0.0000e+00 - tn: 5510.0000 - fn: 440.0000 - precision: 0.0000e+00 - recall: 0.0000e+00**** Waring: precision recall zero avoid exception ****\n",
      "89/89 [==============================] - 1s 13ms/step - loss: 0.1322 - tp: 0.0000e+00 - fp: 0.0000e+00 - tn: 5704.0000 - fn: 461.0000 - precision: 0.0000e+00 - recall: 0.0000e+00\n",
      "Epoch 49/60\n",
      "89/89 [==============================] - ETA: 0s - loss: 0.1335 - tp: 0.0000e+00 - fp: 0.0000e+00 - tn: 5704.0000 - fn: 461.0000 - precision: 0.0000e+00 - recall: 0.0000e+00**** Waring: precision recall zero avoid exception ****\n",
      "89/89 [==============================] - 1s 13ms/step - loss: 0.1335 - tp: 0.0000e+00 - fp: 0.0000e+00 - tn: 5704.0000 - fn: 461.0000 - precision: 0.0000e+00 - recall: 0.0000e+00\n",
      "Epoch 50/60\n",
      "89/89 [==============================] - ETA: 0s - loss: 0.1322 - tp: 0.0000e+00 - fp: 0.0000e+00 - tn: 5704.0000 - fn: 461.0000 - precision: 0.0000e+00 - recall: 0.0000e+00**** Waring: precision recall zero avoid exception ****\n",
      "89/89 [==============================] - 1s 13ms/step - loss: 0.1322 - tp: 0.0000e+00 - fp: 0.0000e+00 - tn: 5704.0000 - fn: 461.0000 - precision: 0.0000e+00 - recall: 0.0000e+00\n",
      "Epoch 51/60\n",
      "87/89 [============================>.] - ETA: 0s - loss: 0.1281 - tp: 0.0000e+00 - fp: 0.0000e+00 - tn: 5637.0000 - fn: 453.0000 - precision: 0.0000e+00 - recall: 0.0000e+00**** Waring: precision recall zero avoid exception ****\n",
      "89/89 [==============================] - 1s 13ms/step - loss: 0.1282 - tp: 0.0000e+00 - fp: 0.0000e+00 - tn: 5704.0000 - fn: 461.0000 - precision: 0.0000e+00 - recall: 0.0000e+00\n",
      "Epoch 52/60\n",
      "89/89 [==============================] - ETA: 0s - loss: 0.1305 - tp: 0.0000e+00 - fp: 0.0000e+00 - tn: 5704.0000 - fn: 461.0000 - precision: 0.0000e+00 - recall: 0.0000e+00**** Waring: precision recall zero avoid exception ****\n",
      "89/89 [==============================] - 1s 13ms/step - loss: 0.1305 - tp: 0.0000e+00 - fp: 0.0000e+00 - tn: 5704.0000 - fn: 461.0000 - precision: 0.0000e+00 - recall: 0.0000e+00\n",
      "Epoch 53/60\n",
      "85/89 [===========================>..] - ETA: 0s - loss: 0.1359 - tp: 0.0000e+00 - fp: 0.0000e+00 - tn: 5505.0000 - fn: 445.0000 - precision: 0.0000e+00 - recall: 0.0000e+00**** Waring: precision recall zero avoid exception ****\n",
      "89/89 [==============================] - 1s 12ms/step - loss: 0.1359 - tp: 0.0000e+00 - fp: 0.0000e+00 - tn: 5704.0000 - fn: 461.0000 - precision: 0.0000e+00 - recall: 0.0000e+00\n",
      "Epoch 54/60\n",
      "86/89 [===========================>..] - ETA: 0s - loss: 0.1437 - tp: 0.0000e+00 - fp: 0.0000e+00 - tn: 5573.0000 - fn: 447.0000 - precision: 0.0000e+00 - recall: 0.0000e+00**** Waring: precision recall zero avoid exception ****\n",
      "89/89 [==============================] - 1s 12ms/step - loss: 0.1435 - tp: 0.0000e+00 - fp: 0.0000e+00 - tn: 5704.0000 - fn: 461.0000 - precision: 0.0000e+00 - recall: 0.0000e+00\n",
      "Epoch 55/60\n",
      "86/89 [===========================>..] - ETA: 0s - loss: 0.1309 - tp: 0.0000e+00 - fp: 0.0000e+00 - tn: 5569.0000 - fn: 451.0000 - precision: 0.0000e+00 - recall: 0.0000e+00**** Waring: precision recall zero avoid exception ****\n",
      "89/89 [==============================] - 1s 12ms/step - loss: 0.1309 - tp: 0.0000e+00 - fp: 0.0000e+00 - tn: 5704.0000 - fn: 461.0000 - precision: 0.0000e+00 - recall: 0.0000e+00\n",
      "Epoch 56/60\n",
      "89/89 [==============================] - ETA: 0s - loss: 0.1312 - tp: 0.0000e+00 - fp: 0.0000e+00 - tn: 5704.0000 - fn: 461.0000 - precision: 0.0000e+00 - recall: 0.0000e+00**** Waring: precision recall zero avoid exception ****\n",
      "89/89 [==============================] - 1s 12ms/step - loss: 0.1312 - tp: 0.0000e+00 - fp: 0.0000e+00 - tn: 5704.0000 - fn: 461.0000 - precision: 0.0000e+00 - recall: 0.0000e+00\n",
      "Epoch 57/60\n",
      "86/89 [===========================>..] - ETA: 0s - loss: 0.1302 - tp: 0.0000e+00 - fp: 0.0000e+00 - tn: 5569.0000 - fn: 451.0000 - precision: 0.0000e+00 - recall: 0.0000e+00**** Waring: precision recall zero avoid exception ****\n",
      "89/89 [==============================] - 1s 12ms/step - loss: 0.1298 - tp: 0.0000e+00 - fp: 0.0000e+00 - tn: 5704.0000 - fn: 461.0000 - precision: 0.0000e+00 - recall: 0.0000e+00\n",
      "Epoch 58/60\n",
      "85/89 [===========================>..] - ETA: 0s - loss: 0.1325 - tp: 0.0000e+00 - fp: 0.0000e+00 - tn: 5505.0000 - fn: 445.0000 - precision: 0.0000e+00 - recall: 0.0000e+00**** Waring: precision recall zero avoid exception ****\n",
      "89/89 [==============================] - 1s 12ms/step - loss: 0.1325 - tp: 0.0000e+00 - fp: 0.0000e+00 - tn: 5704.0000 - fn: 461.0000 - precision: 0.0000e+00 - recall: 0.0000e+00\n",
      "Epoch 59/60\n",
      "86/89 [===========================>..] - ETA: 0s - loss: 0.1335 - tp: 0.0000e+00 - fp: 0.0000e+00 - tn: 5563.0000 - fn: 457.0000 - precision: 0.0000e+00 - recall: 0.0000e+00**** Waring: precision recall zero avoid exception ****\n",
      "89/89 [==============================] - 1s 12ms/step - loss: 0.1330 - tp: 0.0000e+00 - fp: 0.0000e+00 - tn: 5704.0000 - fn: 461.0000 - precision: 0.0000e+00 - recall: 0.0000e+00\n",
      "Epoch 60/60\n",
      "89/89 [==============================] - 1s 12ms/step - loss: 0.1315 - tp: 1.0000 - fp: 0.0000e+00 - tn: 5704.0000 - fn: 460.0000 - precision: 1.0000 - recall: 0.0022\n",
      "39/39 [==============================] - 0s 3ms/step\n"
     ]
    },
    {
     "name": "stderr",
     "output_type": "stream",
     "text": [
      "2022-11-11 10:55:16.964248: I tensorflow/core/grappler/optimizers/custom_graph_optimizer_registry.cc:114] Plugin optimizer for device_type GPU is enabled.\n",
      "/var/folders/w9/17dx1py559xc12bhjgp9w4_80000gn/T/ipykernel_4137/1992033442.py:7: RuntimeWarning: invalid value encountered in long_scalars\n",
      "  precision = tp / (tp+ fp)\n"
     ]
    },
    {
     "name": "stdout",
     "output_type": "stream",
     "text": [
      "nan\n",
      "0.5263584752635847\n",
      "error_rate: 6.268342060478261e-05\n",
      "0.9999999999999984\n",
      " =========== iteration ===========>: 9\n",
      "bfore traning:  80.32441200324412\n",
      "Epoch 1/60\n"
     ]
    },
    {
     "name": "stderr",
     "output_type": "stream",
     "text": [
      "2022-11-11 10:55:17.790537: I tensorflow/core/grappler/optimizers/custom_graph_optimizer_registry.cc:114] Plugin optimizer for device_type GPU is enabled.\n"
     ]
    },
    {
     "name": "stdout",
     "output_type": "stream",
     "text": [
      "89/89 [==============================] - ETA: 0s - loss: 0.6510 - tp: 4947.0000 - fp: 1211.0000 - tn: 2.0000 - fn: 5.0000 - precision: 0.8033 - recall: 0.9990\n",
      "\n",
      "******* Stoping on Defined Thresold *******\n",
      "F1 TRAINING:  0.8905490876922642\n",
      "Recall TRAINING:  0.9989903569221497\n",
      "89/89 [==============================] - 3s 24ms/step - loss: 0.6510 - tp: 4947.0000 - fp: 1211.0000 - tn: 2.0000 - fn: 5.0000 - precision: 0.8033 - recall: 0.9990\n",
      "\n",
      "\n",
      "\n",
      "****** Early Stopping *******\n",
      "39/39 [==============================] - 0s 4ms/step\n"
     ]
    },
    {
     "name": "stderr",
     "output_type": "stream",
     "text": [
      "2022-11-11 10:55:20.778864: I tensorflow/core/grappler/optimizers/custom_graph_optimizer_registry.cc:114] Plugin optimizer for device_type GPU is enabled.\n"
     ]
    },
    {
     "name": "stdout",
     "output_type": "stream",
     "text": [
      "0.6428178315905339\n",
      "0.47364152473641524\n",
      "error_rate: 0.00016157409582728572\n",
      "1.0000000000000062\n",
      " =========== iteration ===========>: 10\n",
      "bfore traning:  11.338199513381996\n",
      "Epoch 1/60\n"
     ]
    },
    {
     "name": "stderr",
     "output_type": "stream",
     "text": [
      "2022-11-11 10:55:21.554157: I tensorflow/core/grappler/optimizers/custom_graph_optimizer_registry.cc:114] Plugin optimizer for device_type GPU is enabled.\n"
     ]
    },
    {
     "name": "stdout",
     "output_type": "stream",
     "text": [
      "89/89 [==============================] - 3s 23ms/step - loss: 0.6471 - tp: 15.0000 - fp: 86.0000 - tn: 5380.0000 - fn: 684.0000 - precision: 0.1485 - recall: 0.0215\n",
      "Epoch 2/60\n",
      "89/89 [==============================] - ETA: 0s - loss: 0.1699 - tp: 0.0000e+00 - fp: 0.0000e+00 - tn: 5466.0000 - fn: 699.0000 - precision: 0.0000e+00 - recall: 0.0000e+00**** Waring: precision recall zero avoid exception ****\n",
      "89/89 [==============================] - 1s 13ms/step - loss: 0.1699 - tp: 0.0000e+00 - fp: 0.0000e+00 - tn: 5466.0000 - fn: 699.0000 - precision: 0.0000e+00 - recall: 0.0000e+00\n",
      "Epoch 3/60\n",
      "89/89 [==============================] - ETA: 0s - loss: 0.1590 - tp: 0.0000e+00 - fp: 0.0000e+00 - tn: 5466.0000 - fn: 699.0000 - precision: 0.0000e+00 - recall: 0.0000e+00**** Waring: precision recall zero avoid exception ****\n",
      "89/89 [==============================] - 1s 13ms/step - loss: 0.1590 - tp: 0.0000e+00 - fp: 0.0000e+00 - tn: 5466.0000 - fn: 699.0000 - precision: 0.0000e+00 - recall: 0.0000e+00\n",
      "Epoch 4/60\n",
      "89/89 [==============================] - ETA: 0s - loss: 0.1527 - tp: 0.0000e+00 - fp: 0.0000e+00 - tn: 5466.0000 - fn: 699.0000 - precision: 0.0000e+00 - recall: 0.0000e+00**** Waring: precision recall zero avoid exception ****\n",
      "89/89 [==============================] - 1s 13ms/step - loss: 0.1527 - tp: 0.0000e+00 - fp: 0.0000e+00 - tn: 5466.0000 - fn: 699.0000 - precision: 0.0000e+00 - recall: 0.0000e+00\n",
      "Epoch 5/60\n",
      "89/89 [==============================] - ETA: 0s - loss: 0.1491 - tp: 0.0000e+00 - fp: 0.0000e+00 - tn: 5466.0000 - fn: 699.0000 - precision: 0.0000e+00 - recall: 0.0000e+00**** Waring: precision recall zero avoid exception ****\n",
      "89/89 [==============================] - 1s 13ms/step - loss: 0.1491 - tp: 0.0000e+00 - fp: 0.0000e+00 - tn: 5466.0000 - fn: 699.0000 - precision: 0.0000e+00 - recall: 0.0000e+00\n",
      "Epoch 6/60\n",
      "87/89 [============================>.] - ETA: 0s - loss: 0.1475 - tp: 0.0000e+00 - fp: 0.0000e+00 - tn: 5396.0000 - fn: 694.0000 - precision: 0.0000e+00 - recall: 0.0000e+00**** Waring: precision recall zero avoid exception ****\n",
      "89/89 [==============================] - 1s 12ms/step - loss: 0.1472 - tp: 0.0000e+00 - fp: 0.0000e+00 - tn: 5466.0000 - fn: 699.0000 - precision: 0.0000e+00 - recall: 0.0000e+00\n",
      "Epoch 7/60\n",
      "89/89 [==============================] - ETA: 0s - loss: 0.1487 - tp: 0.0000e+00 - fp: 0.0000e+00 - tn: 5466.0000 - fn: 699.0000 - precision: 0.0000e+00 - recall: 0.0000e+00**** Waring: precision recall zero avoid exception ****\n",
      "89/89 [==============================] - 1s 13ms/step - loss: 0.1487 - tp: 0.0000e+00 - fp: 0.0000e+00 - tn: 5466.0000 - fn: 699.0000 - precision: 0.0000e+00 - recall: 0.0000e+00\n",
      "Epoch 8/60\n",
      "89/89 [==============================] - ETA: 0s - loss: 0.1501 - tp: 0.0000e+00 - fp: 0.0000e+00 - tn: 5466.0000 - fn: 699.0000 - precision: 0.0000e+00 - recall: 0.0000e+00**** Waring: precision recall zero avoid exception ****\n",
      "89/89 [==============================] - 1s 13ms/step - loss: 0.1501 - tp: 0.0000e+00 - fp: 0.0000e+00 - tn: 5466.0000 - fn: 699.0000 - precision: 0.0000e+00 - recall: 0.0000e+00\n",
      "Epoch 9/60\n",
      "88/89 [============================>.] - ETA: 0s - loss: 0.1499 - tp: 0.0000e+00 - fp: 0.0000e+00 - tn: 5461.0000 - fn: 699.0000 - precision: 0.0000e+00 - recall: 0.0000e+00**** Waring: precision recall zero avoid exception ****\n",
      "89/89 [==============================] - 1s 12ms/step - loss: 0.1498 - tp: 0.0000e+00 - fp: 0.0000e+00 - tn: 5466.0000 - fn: 699.0000 - precision: 0.0000e+00 - recall: 0.0000e+00\n",
      "Epoch 10/60\n",
      "89/89 [==============================] - ETA: 0s - loss: 0.1489 - tp: 0.0000e+00 - fp: 0.0000e+00 - tn: 5466.0000 - fn: 699.0000 - precision: 0.0000e+00 - recall: 0.0000e+00**** Waring: precision recall zero avoid exception ****\n",
      "89/89 [==============================] - 1s 12ms/step - loss: 0.1489 - tp: 0.0000e+00 - fp: 0.0000e+00 - tn: 5466.0000 - fn: 699.0000 - precision: 0.0000e+00 - recall: 0.0000e+00\n",
      "Epoch 11/60\n",
      "89/89 [==============================] - ETA: 0s - loss: 0.1489 - tp: 0.0000e+00 - fp: 0.0000e+00 - tn: 5466.0000 - fn: 699.0000 - precision: 0.0000e+00 - recall: 0.0000e+00**** Waring: precision recall zero avoid exception ****\n",
      "89/89 [==============================] - 1s 12ms/step - loss: 0.1489 - tp: 0.0000e+00 - fp: 0.0000e+00 - tn: 5466.0000 - fn: 699.0000 - precision: 0.0000e+00 - recall: 0.0000e+00\n",
      "Epoch 12/60\n",
      "89/89 [==============================] - ETA: 0s - loss: 0.1494 - tp: 0.0000e+00 - fp: 0.0000e+00 - tn: 5466.0000 - fn: 699.0000 - precision: 0.0000e+00 - recall: 0.0000e+00**** Waring: precision recall zero avoid exception ****\n",
      "89/89 [==============================] - 1s 12ms/step - loss: 0.1494 - tp: 0.0000e+00 - fp: 0.0000e+00 - tn: 5466.0000 - fn: 699.0000 - precision: 0.0000e+00 - recall: 0.0000e+00\n",
      "Epoch 13/60\n",
      "86/89 [===========================>..] - ETA: 0s - loss: 0.1519 - tp: 0.0000e+00 - fp: 0.0000e+00 - tn: 5338.0000 - fn: 682.0000 - precision: 0.0000e+00 - recall: 0.0000e+00**** Waring: precision recall zero avoid exception ****\n",
      "89/89 [==============================] - 1s 12ms/step - loss: 0.1518 - tp: 0.0000e+00 - fp: 0.0000e+00 - tn: 5466.0000 - fn: 699.0000 - precision: 0.0000e+00 - recall: 0.0000e+00\n",
      "Epoch 14/60\n",
      "89/89 [==============================] - ETA: 0s - loss: 0.1502 - tp: 0.0000e+00 - fp: 0.0000e+00 - tn: 5466.0000 - fn: 699.0000 - precision: 0.0000e+00 - recall: 0.0000e+00**** Waring: precision recall zero avoid exception ****\n",
      "89/89 [==============================] - 1s 12ms/step - loss: 0.1502 - tp: 0.0000e+00 - fp: 0.0000e+00 - tn: 5466.0000 - fn: 699.0000 - precision: 0.0000e+00 - recall: 0.0000e+00\n",
      "Epoch 15/60\n",
      "89/89 [==============================] - 1s 12ms/step - loss: 0.1593 - tp: 7.0000 - fp: 0.0000e+00 - tn: 5466.0000 - fn: 692.0000 - precision: 1.0000 - recall: 0.0100\n",
      "Epoch 16/60\n",
      "85/89 [===========================>..] - ETA: 0s - loss: 0.1514 - tp: 0.0000e+00 - fp: 0.0000e+00 - tn: 5273.0000 - fn: 677.0000 - precision: 0.0000e+00 - recall: 0.0000e+00**** Waring: precision recall zero avoid exception ****\n",
      "89/89 [==============================] - 1s 12ms/step - loss: 0.1512 - tp: 0.0000e+00 - fp: 0.0000e+00 - tn: 5466.0000 - fn: 699.0000 - precision: 0.0000e+00 - recall: 0.0000e+00\n",
      "Epoch 17/60\n",
      "89/89 [==============================] - 1s 12ms/step - loss: 0.1554 - tp: 10.0000 - fp: 0.0000e+00 - tn: 5466.0000 - fn: 689.0000 - precision: 1.0000 - recall: 0.0143\n",
      "Epoch 18/60\n",
      "89/89 [==============================] - 1s 12ms/step - loss: 0.1546 - tp: 15.0000 - fp: 0.0000e+00 - tn: 5466.0000 - fn: 684.0000 - precision: 1.0000 - recall: 0.0215\n",
      "Epoch 19/60\n",
      "89/89 [==============================] - 1s 12ms/step - loss: 0.1603 - tp: 17.0000 - fp: 0.0000e+00 - tn: 5466.0000 - fn: 682.0000 - precision: 1.0000 - recall: 0.0243\n",
      "Epoch 20/60\n",
      "89/89 [==============================] - 1s 12ms/step - loss: 0.1550 - tp: 16.0000 - fp: 0.0000e+00 - tn: 5466.0000 - fn: 683.0000 - precision: 1.0000 - recall: 0.0229\n",
      "Epoch 21/60\n",
      "89/89 [==============================] - 1s 12ms/step - loss: 0.1531 - tp: 14.0000 - fp: 0.0000e+00 - tn: 5466.0000 - fn: 685.0000 - precision: 1.0000 - recall: 0.0200\n",
      "Epoch 22/60\n",
      "89/89 [==============================] - 1s 12ms/step - loss: 0.1533 - tp: 24.0000 - fp: 0.0000e+00 - tn: 5466.0000 - fn: 675.0000 - precision: 1.0000 - recall: 0.0343\n",
      "Epoch 23/60\n",
      "89/89 [==============================] - 1s 12ms/step - loss: 0.1539 - tp: 31.0000 - fp: 0.0000e+00 - tn: 5466.0000 - fn: 668.0000 - precision: 1.0000 - recall: 0.0443\n",
      "Epoch 24/60\n",
      "89/89 [==============================] - 1s 12ms/step - loss: 0.1550 - tp: 69.0000 - fp: 0.0000e+00 - tn: 5466.0000 - fn: 630.0000 - precision: 1.0000 - recall: 0.0987\n",
      "Epoch 25/60\n",
      "89/89 [==============================] - 1s 12ms/step - loss: 0.1563 - tp: 78.0000 - fp: 0.0000e+00 - tn: 5466.0000 - fn: 621.0000 - precision: 1.0000 - recall: 0.1116\n",
      "Epoch 26/60\n",
      "89/89 [==============================] - 1s 12ms/step - loss: 0.1561 - tp: 80.0000 - fp: 0.0000e+00 - tn: 5466.0000 - fn: 619.0000 - precision: 1.0000 - recall: 0.1144\n",
      "Epoch 27/60\n",
      "89/89 [==============================] - 1s 12ms/step - loss: 0.1550 - tp: 116.0000 - fp: 0.0000e+00 - tn: 5466.0000 - fn: 583.0000 - precision: 1.0000 - recall: 0.1660\n",
      "Epoch 28/60\n",
      "89/89 [==============================] - 1s 12ms/step - loss: 0.1529 - tp: 141.0000 - fp: 0.0000e+00 - tn: 5466.0000 - fn: 558.0000 - precision: 1.0000 - recall: 0.2017\n",
      "Epoch 29/60\n",
      "89/89 [==============================] - 1s 12ms/step - loss: 0.1511 - tp: 152.0000 - fp: 0.0000e+00 - tn: 5466.0000 - fn: 547.0000 - precision: 1.0000 - recall: 0.2175\n",
      "Epoch 30/60\n",
      "89/89 [==============================] - 1s 12ms/step - loss: 0.1531 - tp: 205.0000 - fp: 0.0000e+00 - tn: 5466.0000 - fn: 494.0000 - precision: 1.0000 - recall: 0.2933\n",
      "Epoch 31/60\n",
      "89/89 [==============================] - 1s 12ms/step - loss: 0.1512 - tp: 203.0000 - fp: 0.0000e+00 - tn: 5466.0000 - fn: 496.0000 - precision: 1.0000 - recall: 0.2904\n",
      "Epoch 32/60\n",
      "89/89 [==============================] - 1s 12ms/step - loss: 0.1516 - tp: 262.0000 - fp: 0.0000e+00 - tn: 5466.0000 - fn: 437.0000 - precision: 1.0000 - recall: 0.3748\n",
      "Epoch 33/60\n",
      "89/89 [==============================] - 1s 12ms/step - loss: 0.1545 - tp: 268.0000 - fp: 0.0000e+00 - tn: 5466.0000 - fn: 431.0000 - precision: 1.0000 - recall: 0.3834\n",
      "Epoch 34/60\n",
      "89/89 [==============================] - 1s 12ms/step - loss: 0.1600 - tp: 300.0000 - fp: 1.0000 - tn: 5465.0000 - fn: 399.0000 - precision: 0.9967 - recall: 0.4292\n",
      "Epoch 35/60\n",
      "89/89 [==============================] - 1s 12ms/step - loss: 0.1517 - tp: 321.0000 - fp: 0.0000e+00 - tn: 5466.0000 - fn: 378.0000 - precision: 1.0000 - recall: 0.4592\n",
      "Epoch 36/60\n",
      "89/89 [==============================] - 1s 12ms/step - loss: 0.1476 - tp: 335.0000 - fp: 0.0000e+00 - tn: 5466.0000 - fn: 364.0000 - precision: 1.0000 - recall: 0.4793\n",
      "Epoch 37/60\n",
      "89/89 [==============================] - 1s 12ms/step - loss: 0.1506 - tp: 368.0000 - fp: 0.0000e+00 - tn: 5466.0000 - fn: 331.0000 - precision: 1.0000 - recall: 0.5265\n",
      "Epoch 38/60\n",
      "89/89 [==============================] - 1s 12ms/step - loss: 0.1479 - tp: 357.0000 - fp: 0.0000e+00 - tn: 5466.0000 - fn: 342.0000 - precision: 1.0000 - recall: 0.5107\n",
      "Epoch 39/60\n",
      "89/89 [==============================] - 1s 12ms/step - loss: 0.1473 - tp: 372.0000 - fp: 0.0000e+00 - tn: 5466.0000 - fn: 327.0000 - precision: 1.0000 - recall: 0.5322\n",
      "Epoch 40/60\n",
      "89/89 [==============================] - 1s 12ms/step - loss: 0.1549 - tp: 398.0000 - fp: 0.0000e+00 - tn: 5466.0000 - fn: 301.0000 - precision: 1.0000 - recall: 0.5694\n",
      "Epoch 41/60\n",
      "89/89 [==============================] - 1s 12ms/step - loss: 0.1467 - tp: 406.0000 - fp: 0.0000e+00 - tn: 5466.0000 - fn: 293.0000 - precision: 1.0000 - recall: 0.5808\n",
      "Epoch 42/60\n",
      "89/89 [==============================] - 1s 12ms/step - loss: 0.1429 - tp: 425.0000 - fp: 0.0000e+00 - tn: 5466.0000 - fn: 274.0000 - precision: 1.0000 - recall: 0.6080\n",
      "Epoch 43/60\n",
      "89/89 [==============================] - 1s 12ms/step - loss: 0.1415 - tp: 436.0000 - fp: 0.0000e+00 - tn: 5466.0000 - fn: 263.0000 - precision: 1.0000 - recall: 0.6237\n",
      "Epoch 44/60\n",
      "89/89 [==============================] - 1s 12ms/step - loss: 0.1605 - tp: 459.0000 - fp: 0.0000e+00 - tn: 5466.0000 - fn: 240.0000 - precision: 1.0000 - recall: 0.6567\n",
      "Epoch 45/60\n",
      "89/89 [==============================] - 1s 12ms/step - loss: 0.1541 - tp: 459.0000 - fp: 3.0000 - tn: 5463.0000 - fn: 240.0000 - precision: 0.9935 - recall: 0.6567\n",
      "Epoch 46/60\n",
      "89/89 [==============================] - 1s 12ms/step - loss: 0.1467 - tp: 444.0000 - fp: 0.0000e+00 - tn: 5466.0000 - fn: 255.0000 - precision: 1.0000 - recall: 0.6352\n",
      "Epoch 47/60\n",
      "89/89 [==============================] - 1s 12ms/step - loss: 0.1521 - tp: 459.0000 - fp: 0.0000e+00 - tn: 5466.0000 - fn: 240.0000 - precision: 1.0000 - recall: 0.6567\n",
      "Epoch 48/60\n",
      "89/89 [==============================] - 1s 12ms/step - loss: 0.1359 - tp: 467.0000 - fp: 0.0000e+00 - tn: 5466.0000 - fn: 232.0000 - precision: 1.0000 - recall: 0.6681\n",
      "Epoch 49/60\n",
      "89/89 [==============================] - 1s 12ms/step - loss: 0.1382 - tp: 478.0000 - fp: 0.0000e+00 - tn: 5466.0000 - fn: 221.0000 - precision: 1.0000 - recall: 0.6838\n",
      "Epoch 50/60\n",
      "89/89 [==============================] - 1s 12ms/step - loss: 0.1409 - tp: 452.0000 - fp: 0.0000e+00 - tn: 5466.0000 - fn: 247.0000 - precision: 1.0000 - recall: 0.6466\n",
      "Epoch 51/60\n",
      "89/89 [==============================] - 1s 12ms/step - loss: 0.1378 - tp: 465.0000 - fp: 0.0000e+00 - tn: 5466.0000 - fn: 234.0000 - precision: 1.0000 - recall: 0.6652\n",
      "Epoch 52/60\n",
      "89/89 [==============================] - 1s 12ms/step - loss: 0.1476 - tp: 475.0000 - fp: 0.0000e+00 - tn: 5466.0000 - fn: 224.0000 - precision: 1.0000 - recall: 0.6795\n",
      "Epoch 53/60\n",
      "89/89 [==============================] - 1s 12ms/step - loss: 0.1505 - tp: 488.0000 - fp: 2.0000 - tn: 5464.0000 - fn: 211.0000 - precision: 0.9959 - recall: 0.6981\n",
      "Epoch 54/60\n",
      "85/89 [===========================>..] - ETA: 0s - loss: 0.1593 - tp: 498.0000 - fp: 3.0000 - tn: 5268.0000 - fn: 181.0000 - precision: 0.9940 - recall: 0.7334\n",
      "\n",
      "******* Stoping on Defined Thresold *******\n",
      "F1 TRAINING:  0.8453947363194454\n",
      "Recall TRAINING:  0.735336184501648\n",
      "89/89 [==============================] - 1s 12ms/step - loss: 0.1583 - tp: 514.0000 - fp: 3.0000 - tn: 5463.0000 - fn: 185.0000 - precision: 0.9942 - recall: 0.7353\n",
      "\n",
      "\n",
      "\n",
      "****** Early Stopping *******\n",
      "39/39 [==============================] - 0s 3ms/step\n"
     ]
    },
    {
     "name": "stderr",
     "output_type": "stream",
     "text": [
      "2022-11-11 10:56:21.729074: I tensorflow/core/grappler/optimizers/custom_graph_optimizer_registry.cc:114] Plugin optimizer for device_type GPU is enabled.\n"
     ]
    },
    {
     "name": "stdout",
     "output_type": "stream",
     "text": [
      "0.6636155606407322\n",
      "0.7615571776155717\n",
      "error_rate: 3.079801018572875e-05\n",
      "1.0000000000000129\n",
      " =========== iteration ===========>: 11\n",
      "bfore traning:  74.27412814274128\n",
      "Epoch 1/60\n"
     ]
    },
    {
     "name": "stderr",
     "output_type": "stream",
     "text": [
      "2022-11-11 10:56:22.548103: I tensorflow/core/grappler/optimizers/custom_graph_optimizer_registry.cc:114] Plugin optimizer for device_type GPU is enabled.\n"
     ]
    },
    {
     "name": "stdout",
     "output_type": "stream",
     "text": [
      "89/89 [==============================] - ETA: 0s - loss: 0.6952 - tp: 4230.0000 - fp: 525.0000 - tn: 1061.0000 - fn: 349.0000 - precision: 0.8896 - recall: 0.9238\n",
      "\n",
      "******* Stoping on Defined Thresold *******\n",
      "F1 TRAINING:  0.9063638516560926\n",
      "Recall TRAINING:  0.9237825274467468\n",
      "89/89 [==============================] - 3s 25ms/step - loss: 0.6952 - tp: 4230.0000 - fp: 525.0000 - tn: 1061.0000 - fn: 349.0000 - precision: 0.8896 - recall: 0.9238\n",
      "\n",
      "\n",
      "\n",
      "****** Early Stopping *******\n",
      "39/39 [==============================] - 0s 3ms/step\n",
      "0.42876344086021506\n",
      "0.31062449310624496\n",
      "error_rate: 0.00011054060001555545\n",
      "1.0000000000000098\n"
     ]
    },
    {
     "name": "stderr",
     "output_type": "stream",
     "text": [
      "2022-11-11 10:56:25.689336: I tensorflow/core/grappler/optimizers/custom_graph_optimizer_registry.cc:114] Plugin optimizer for device_type GPU is enabled.\n"
     ]
    }
   ],
   "source": [
    "# plt.plot(initial_weight)\n",
    "boosting(initial_weight)"
   ],
   "metadata": {
    "collapsed": false,
    "pycharm": {
     "name": "#%%\n"
    }
   }
  },
  {
   "cell_type": "code",
   "execution_count": 161,
   "outputs": [
    {
     "data": {
      "text/plain": "[1.7995690750306808,\n 1.7655383894871992,\n 2.0715505116517234,\n 1.6780164042196706,\n 2.1472225274279397,\n 1.6562598615973685,\n 2.121911227139861,\n 1.6644412937992812,\n 1.9354701768144975,\n 1.7460770271349089,\n 2.07760593518934,\n 1.8220034273647372]"
     },
     "execution_count": 161,
     "metadata": {},
     "output_type": "execute_result"
    }
   ],
   "source": [
    "alphas"
   ],
   "metadata": {
    "collapsed": false,
    "pycharm": {
     "name": "#%%\n"
    }
   }
  },
  {
   "cell_type": "code",
   "execution_count": 162,
   "outputs": [],
   "source": [
    "from sklearn.metrics import ConfusionMatrixDisplay, confusion_matrix\n",
    "\n",
    "\n",
    "def repeat(test_split, test_result, start, end):\n",
    "    mx = 0\n",
    "    size = 0\n",
    "    data = []\n",
    "    f1=[]\n",
    "    for i in range(start,end):\n",
    "        data = some_pred(test_split, i)\n",
    "        tn, fp, fn, tp = confusion_matrix(test_result, data).ravel()\n",
    "        precision = tp / (tp+ fp)\n",
    "        recall = tp / (tp+ fn)\n",
    "        score = (2 * precision * recall) / (precision + recall)\n",
    "        print(score)\n",
    "        f1.append(score)\n",
    "        if mx < score:\n",
    "            mx = score\n",
    "            size = i\n",
    "        print(i)\n",
    "    print(mx,size)\n",
    "    return data, f1\n",
    "\n",
    "# a = ensemble[0].predict(test_split)\n",
    "\n",
    "def some_pred(test_split, esize):\n",
    "#     data = []\n",
    "    k = []\n",
    "#     for j in range(len(test_split)):\n",
    "#         pa=0\n",
    "#         na =0\n",
    "    for i in range(esize):\n",
    "        print('*********:', i)\n",
    "        k.append(ensemble[i].predict([test_split]))\n",
    "        # if pa >=na:\n",
    "        #     data.append(1)\n",
    "        # else:\n",
    "        #     data.append(0)\n",
    "    # f1.append(f1_score(test_result, data, average=\"macro\"))\n",
    "    # acc.append(accuracy_score(test_result, data))\n",
    "    return k"
   ],
   "metadata": {
    "collapsed": false,
    "pycharm": {
     "name": "#%%\n"
    }
   }
  },
  {
   "cell_type": "code",
   "execution_count": 162,
   "outputs": [],
   "source": [],
   "metadata": {
    "collapsed": false,
    "pycharm": {
     "name": "#%%\n"
    }
   }
  },
  {
   "cell_type": "code",
   "execution_count": 163,
   "outputs": [],
   "source": [
    "\n",
    "def majority(data):\n",
    "    ans =[]\n",
    "    for i in range(len(data[0])):\n",
    "        ap = 0\n",
    "        an = 0\n",
    "        for e in range(len(data)):\n",
    "            if data[e][i] >= .5:\n",
    "                ap += alphas[e]\n",
    "            else:\n",
    "                an += alphas[e]\n",
    "        if ap >= an:\n",
    "            ans.append(1)\n",
    "        else:\n",
    "            ans.append(0)\n",
    "    return ans\n"
   ],
   "metadata": {
    "collapsed": false,
    "pycharm": {
     "name": "#%%\n"
    }
   }
  },
  {
   "cell_type": "code",
   "execution_count": 193,
   "outputs": [],
   "source": [
    "def getf1(true, predicted):\n",
    "    tn, fp, fn, tp = confusion_matrix(true, predicted).ravel()\n",
    "    precision = tp / (tp+ fp)\n",
    "    recall = tp / (tp+ fn)\n",
    "    score = (2 * precision * recall) / (precision + recall)\n",
    "    return score"
   ],
   "metadata": {
    "collapsed": false,
    "pycharm": {
     "name": "#%%\n"
    }
   }
  },
  {
   "cell_type": "code",
   "execution_count": 200,
   "outputs": [
    {
     "name": "stdout",
     "output_type": "stream",
     "text": [
      "*********: 0\n",
      "3/3 [==============================] - 0s 7ms/step\n",
      "*********: 0\n",
      "3/3 [==============================] - 0s 3ms/step\n",
      "*********: 1\n",
      "3/3 [==============================] - 0s 3ms/step\n",
      "*********: 0\n",
      "3/3 [==============================] - 0s 4ms/step\n",
      "*********: 1\n",
      "3/3 [==============================] - 0s 3ms/step\n",
      "*********: 2\n",
      "3/3 [==============================] - 0s 3ms/step\n",
      "*********: 0\n",
      "3/3 [==============================] - 0s 3ms/step\n",
      "*********: 1\n",
      "3/3 [==============================] - 0s 2ms/step\n",
      "*********: 2\n",
      "3/3 [==============================] - 0s 2ms/step\n",
      "*********: 3\n",
      "3/3 [==============================] - 0s 2ms/step\n",
      "*********: 0\n",
      "3/3 [==============================] - 0s 2ms/step\n",
      "*********: 1\n",
      "3/3 [==============================] - 0s 3ms/step\n",
      "*********: 2\n",
      "3/3 [==============================] - 0s 3ms/step\n",
      "*********: 3\n",
      "3/3 [==============================] - 0s 3ms/step\n",
      "*********: 4\n",
      "3/3 [==============================] - 0s 2ms/step\n",
      "*********: 0\n",
      "3/3 [==============================] - 0s 3ms/step\n",
      "*********: 1\n",
      "3/3 [==============================] - 0s 2ms/step\n",
      "*********: 2\n",
      "3/3 [==============================] - 0s 2ms/step\n",
      "*********: 3\n",
      "3/3 [==============================] - 0s 2ms/step\n",
      "*********: 4\n",
      "3/3 [==============================] - 0s 3ms/step\n",
      "*********: 5\n",
      "3/3 [==============================] - 0s 3ms/step\n",
      "*********: 0\n",
      "3/3 [==============================] - 0s 3ms/step\n",
      "*********: 1\n",
      "3/3 [==============================] - 0s 3ms/step\n",
      "*********: 2\n",
      "3/3 [==============================] - 0s 3ms/step\n",
      "*********: 3\n",
      "3/3 [==============================] - 0s 3ms/step\n",
      "*********: 4\n",
      "3/3 [==============================] - 0s 3ms/step\n",
      "*********: 5\n",
      "3/3 [==============================] - 0s 2ms/step\n",
      "*********: 6\n",
      "3/3 [==============================] - 0s 3ms/step\n",
      "*********: 0\n",
      "3/3 [==============================] - 0s 3ms/step\n",
      "*********: 1\n",
      "3/3 [==============================] - 0s 3ms/step\n",
      "*********: 2\n",
      "3/3 [==============================] - 0s 3ms/step\n",
      "*********: 3\n",
      "3/3 [==============================] - 0s 2ms/step\n",
      "*********: 4\n",
      "3/3 [==============================] - 0s 3ms/step\n",
      "*********: 5\n",
      "3/3 [==============================] - 0s 3ms/step\n",
      "*********: 6\n",
      "3/3 [==============================] - 0s 3ms/step\n",
      "*********: 7\n",
      "3/3 [==============================] - 0s 2ms/step\n",
      "*********: 0\n",
      "3/3 [==============================] - 0s 2ms/step\n",
      "*********: 1\n",
      "3/3 [==============================] - 0s 3ms/step\n",
      "*********: 2\n",
      "3/3 [==============================] - 0s 2ms/step\n",
      "*********: 3\n",
      "3/3 [==============================] - 0s 3ms/step\n",
      "*********: 4\n",
      "3/3 [==============================] - 0s 2ms/step\n",
      "*********: 5\n",
      "3/3 [==============================] - 0s 2ms/step\n",
      "*********: 6\n",
      "3/3 [==============================] - 0s 3ms/step\n",
      "*********: 7\n",
      "3/3 [==============================] - 0s 2ms/step\n",
      "*********: 8\n",
      "3/3 [==============================] - 0s 2ms/step\n",
      "*********: 0\n",
      "3/3 [==============================] - 0s 2ms/step\n",
      "*********: 1\n",
      "3/3 [==============================] - 0s 2ms/step\n",
      "*********: 2\n",
      "3/3 [==============================] - 0s 2ms/step\n",
      "*********: 3\n",
      "3/3 [==============================] - 0s 3ms/step\n",
      "*********: 4\n",
      "3/3 [==============================] - 0s 2ms/step\n",
      "*********: 5\n",
      "3/3 [==============================] - 0s 2ms/step\n",
      "*********: 6\n",
      "3/3 [==============================] - 0s 2ms/step\n",
      "*********: 7\n",
      "3/3 [==============================] - 0s 2ms/step\n",
      "*********: 8\n",
      "3/3 [==============================] - 0s 2ms/step\n",
      "*********: 9\n",
      "3/3 [==============================] - 0s 3ms/step\n",
      "*********: 0\n",
      "3/3 [==============================] - 0s 3ms/step\n",
      "*********: 1\n",
      "3/3 [==============================] - 0s 3ms/step\n",
      "*********: 2\n",
      "3/3 [==============================] - 0s 3ms/step\n",
      "*********: 3\n",
      "3/3 [==============================] - 0s 3ms/step\n",
      "*********: 4\n",
      "3/3 [==============================] - 0s 3ms/step\n",
      "*********: 5\n",
      "3/3 [==============================] - 0s 3ms/step\n",
      "*********: 6\n",
      "3/3 [==============================] - 0s 2ms/step\n",
      "*********: 7\n",
      "3/3 [==============================] - 0s 2ms/step\n",
      "*********: 8\n",
      "3/3 [==============================] - 0s 3ms/step\n",
      "*********: 9\n",
      "3/3 [==============================] - 0s 2ms/step\n",
      "*********: 10\n",
      "3/3 [==============================] - 0s 3ms/step\n",
      "*********: 0\n",
      "3/3 [==============================] - 0s 3ms/step\n",
      "*********: 1\n",
      "3/3 [==============================] - 0s 3ms/step\n",
      "*********: 2\n",
      "3/3 [==============================] - 0s 3ms/step\n",
      "*********: 3\n",
      "3/3 [==============================] - 0s 2ms/step\n",
      "*********: 4\n",
      "3/3 [==============================] - 0s 3ms/step\n",
      "*********: 5\n",
      "3/3 [==============================] - 0s 2ms/step\n",
      "*********: 6\n",
      "3/3 [==============================] - 0s 2ms/step\n",
      "*********: 7\n",
      "3/3 [==============================] - 0s 3ms/step\n",
      "*********: 8\n",
      "3/3 [==============================] - 0s 3ms/step\n",
      "*********: 9\n",
      "3/3 [==============================] - 0s 2ms/step\n",
      "*********: 10\n",
      "3/3 [==============================] - 0s 3ms/step\n",
      "*********: 11\n",
      "3/3 [==============================] - 0s 3ms/step\n"
     ]
    }
   ],
   "source": [
    "f1_test = []\n",
    "for i in range(1,13):\n",
    "    data = some_pred(test_split, i)\n",
    "    ans = majority(data)\n",
    "    f1_test.append(getf1(test_result, ans))\n",
    "    # ConfusionMatrixDisplay.from_predictions(test_result,ans,cmap='Greens')"
   ],
   "metadata": {
    "collapsed": false,
    "pycharm": {
     "name": "#%%\n"
    }
   }
  },
  {
   "cell_type": "code",
   "execution_count": 209,
   "outputs": [
    {
     "name": "stdout",
     "output_type": "stream",
     "text": [
      "*********: 0\n",
      "3/3 [==============================] - 0s 8ms/step\n",
      "*********: 1\n",
      "3/3 [==============================] - 0s 3ms/step\n"
     ]
    },
    {
     "data": {
      "text/plain": "<sklearn.metrics._plot.confusion_matrix.ConfusionMatrixDisplay at 0x2ddc3ecd0>"
     },
     "execution_count": 209,
     "metadata": {},
     "output_type": "execute_result"
    },
    {
     "data": {
      "text/plain": "<Figure size 640x480 with 2 Axes>",
      "image/png": "[encoded data removed]"
     },
     "metadata": {},
     "output_type": "display_data"
    }
   ],
   "source": [
    "data = some_pred(test_split, 2)\n",
    "ans = majority(data)\n",
    "ConfusionMatrixDisplay.from_predictions(test_result,ans,cmap='Greens')\n",
    "# plt.plot(f1_test)"
   ],
   "metadata": {
    "collapsed": false,
    "pycharm": {
     "name": "#%%\n"
    }
   }
  },
  {
   "cell_type": "code",
   "execution_count": 206,
   "outputs": [
    {
     "name": "stdout",
     "output_type": "stream",
     "text": [
      "*********: 0\n",
      "39/39 [==============================] - 0s 3ms/step\n",
      "*********: 0\n",
      "39/39 [==============================] - 0s 2ms/step\n",
      "*********: 1\n",
      "39/39 [==============================] - 0s 2ms/step\n",
      "*********: 0\n",
      "39/39 [==============================] - 0s 2ms/step\n",
      "*********: 1\n",
      "39/39 [==============================] - 0s 2ms/step\n",
      "*********: 2\n",
      "39/39 [==============================] - 0s 2ms/step\n",
      "*********: 0\n",
      "39/39 [==============================] - 0s 2ms/step\n",
      "*********: 1\n",
      "39/39 [==============================] - 0s 2ms/step\n",
      "*********: 2\n",
      "39/39 [==============================] - 0s 2ms/step\n",
      "*********: 3\n",
      "39/39 [==============================] - 0s 2ms/step\n",
      "*********: 0\n",
      "39/39 [==============================] - 0s 2ms/step\n",
      "*********: 1\n",
      "39/39 [==============================] - 0s 2ms/step\n",
      "*********: 2\n",
      "39/39 [==============================] - 0s 2ms/step\n",
      "*********: 3\n",
      "39/39 [==============================] - 0s 2ms/step\n",
      "*********: 4\n",
      "39/39 [==============================] - 0s 2ms/step\n",
      "*********: 0\n",
      "39/39 [==============================] - 0s 2ms/step\n",
      "*********: 1\n",
      "39/39 [==============================] - 0s 2ms/step\n",
      "*********: 2\n",
      "39/39 [==============================] - 0s 2ms/step\n",
      "*********: 3\n",
      "39/39 [==============================] - 0s 2ms/step\n",
      "*********: 4\n",
      "39/39 [==============================] - 0s 2ms/step\n",
      "*********: 5\n",
      "39/39 [==============================] - 0s 2ms/step\n",
      "*********: 0\n",
      "39/39 [==============================] - 0s 2ms/step\n",
      "*********: 1\n",
      "39/39 [==============================] - 0s 2ms/step\n",
      "*********: 2\n",
      "39/39 [==============================] - 0s 2ms/step\n",
      "*********: 3\n",
      "39/39 [==============================] - 0s 2ms/step\n",
      "*********: 4\n",
      "39/39 [==============================] - 0s 2ms/step\n",
      "*********: 5\n",
      "39/39 [==============================] - 0s 2ms/step\n",
      "*********: 6\n",
      "39/39 [==============================] - 0s 2ms/step\n",
      "*********: 0\n",
      "39/39 [==============================] - 0s 2ms/step\n",
      "*********: 1\n",
      "39/39 [==============================] - 0s 2ms/step\n",
      "*********: 2\n",
      "39/39 [==============================] - 0s 2ms/step\n",
      "*********: 3\n",
      "39/39 [==============================] - 0s 2ms/step\n",
      "*********: 4\n",
      "39/39 [==============================] - 0s 2ms/step\n",
      "*********: 5\n",
      "39/39 [==============================] - 0s 2ms/step\n",
      "*********: 6\n",
      "39/39 [==============================] - 0s 2ms/step\n",
      "*********: 7\n",
      "39/39 [==============================] - 0s 2ms/step\n",
      "*********: 0\n",
      "39/39 [==============================] - 0s 2ms/step\n",
      "*********: 1\n",
      "39/39 [==============================] - 0s 2ms/step\n",
      "*********: 2\n",
      "39/39 [==============================] - 0s 2ms/step\n",
      "*********: 3\n",
      "39/39 [==============================] - 0s 2ms/step\n",
      "*********: 4\n",
      "39/39 [==============================] - 0s 2ms/step\n",
      "*********: 5\n",
      "39/39 [==============================] - 0s 2ms/step\n",
      "*********: 6\n",
      "39/39 [==============================] - 0s 2ms/step\n",
      "*********: 7\n",
      "39/39 [==============================] - 0s 2ms/step\n",
      "*********: 8\n",
      "39/39 [==============================] - 0s 2ms/step\n",
      "*********: 0\n",
      "39/39 [==============================] - 0s 2ms/step\n",
      "*********: 1\n",
      "39/39 [==============================] - 0s 2ms/step\n",
      "*********: 2\n",
      "39/39 [==============================] - 0s 2ms/step\n",
      "*********: 3\n",
      "39/39 [==============================] - 0s 2ms/step\n",
      "*********: 4\n",
      "39/39 [==============================] - 0s 2ms/step\n",
      "*********: 5\n",
      "39/39 [==============================] - 0s 2ms/step\n",
      "*********: 6\n",
      "39/39 [==============================] - 0s 2ms/step\n",
      "*********: 7\n",
      "39/39 [==============================] - 0s 2ms/step\n",
      "*********: 8\n",
      "39/39 [==============================] - 0s 2ms/step\n",
      "*********: 9\n",
      "39/39 [==============================] - 0s 2ms/step\n",
      "*********: 0\n",
      "39/39 [==============================] - 0s 2ms/step\n",
      "*********: 1\n",
      "39/39 [==============================] - 0s 2ms/step\n",
      "*********: 2\n",
      "39/39 [==============================] - 0s 2ms/step\n",
      "*********: 3\n",
      "39/39 [==============================] - 0s 2ms/step\n",
      "*********: 4\n",
      "39/39 [==============================] - 0s 2ms/step\n",
      "*********: 5\n",
      "39/39 [==============================] - 0s 2ms/step\n",
      "*********: 6\n",
      "39/39 [==============================] - 0s 2ms/step\n",
      "*********: 7\n",
      "39/39 [==============================] - 0s 2ms/step\n",
      "*********: 8\n",
      "39/39 [==============================] - 0s 3ms/step\n",
      "*********: 9\n",
      "39/39 [==============================] - 0s 2ms/step\n",
      "*********: 10\n",
      "39/39 [==============================] - 0s 3ms/step\n",
      "*********: 0\n",
      "39/39 [==============================] - 0s 2ms/step\n",
      "*********: 1\n",
      "39/39 [==============================] - 0s 2ms/step\n",
      "*********: 2\n",
      "39/39 [==============================] - 0s 2ms/step\n",
      "*********: 3\n",
      "39/39 [==============================] - 0s 2ms/step\n",
      "*********: 4\n",
      "39/39 [==============================] - 0s 2ms/step\n",
      "*********: 5\n",
      "39/39 [==============================] - 0s 2ms/step\n",
      "*********: 6\n",
      "39/39 [==============================] - 0s 2ms/step\n",
      "*********: 7\n",
      "39/39 [==============================] - 0s 2ms/step\n",
      "*********: 8\n",
      "39/39 [==============================] - 0s 2ms/step\n",
      "*********: 9\n",
      "39/39 [==============================] - 0s 2ms/step\n",
      "*********: 10\n",
      "39/39 [==============================] - 0s 2ms/step\n",
      "*********: 11\n",
      "39/39 [==============================] - 0s 2ms/step\n"
     ]
    }
   ],
   "source": [
    "f1_train = []\n",
    "for i in range(1,13):\n",
    "    data = some_pred(training_split, i)\n",
    "    ans = majority(data)\n",
    "    f1_train.append(getf1(train_result, ans))\n",
    "    # ConfusionMatrixDisplay.from_predictions(test_result,ans,cmap='Greens')"
   ],
   "metadata": {
    "collapsed": false,
    "pycharm": {
     "name": "#%%\n"
    }
   }
  },
  {
   "cell_type": "code",
   "execution_count": 208,
   "outputs": [
    {
     "data": {
      "text/plain": "[<matplotlib.lines.Line2D at 0x2ddc28610>]"
     },
     "execution_count": 208,
     "metadata": {},
     "output_type": "execute_result"
    },
    {
     "data": {
      "text/plain": "<Figure size 640x480 with 1 Axes>",
      "image/png": "[encoded data removed]"
     },
     "metadata": {},
     "output_type": "display_data"
    }
   ],
   "source": [
    "plt.plot(f1_train)\n",
    "plt.plot(f1_test)"
   ],
   "metadata": {
    "collapsed": false,
    "pycharm": {
     "name": "#%%\n"
    }
   }
  },
  {
   "cell_type": "code",
   "execution_count": 210,
   "outputs": [
    {
     "name": "stdout",
     "output_type": "stream",
     "text": [
      "*********: 0\n",
      "39/39 [==============================] - 0s 3ms/step\n",
      "*********: 1\n",
      "39/39 [==============================] - 0s 2ms/step\n"
     ]
    },
    {
     "data": {
      "text/plain": "<sklearn.metrics._plot.confusion_matrix.ConfusionMatrixDisplay at 0x2bf472fd0>"
     },
     "execution_count": 210,
     "metadata": {},
     "output_type": "execute_result"
    },
    {
     "data": {
      "text/plain": "<Figure size 640x480 with 2 Axes>",
      "image/png": "[encoded data removed]"
     },
     "metadata": {},
     "output_type": "display_data"
    }
   ],
   "source": [
    "data = some_pred(training_split, 2)\n",
    "ans = majority(data)\n",
    "ConfusionMatrixDisplay.from_predictions(train_result,ans,cmap='Greens')"
   ],
   "metadata": {
    "collapsed": false,
    "pycharm": {
     "name": "#%%\n"
    }
   }
  },
  {
   "cell_type": "code",
   "execution_count": 211,
   "outputs": [
    {
     "name": "stdout",
     "output_type": "stream",
     "text": [
      "*********: 0\n",
      "11/11 [==============================] - 0s 5ms/step\n",
      "*********: 1\n",
      "11/11 [==============================] - 0s 2ms/step\n"
     ]
    }
   ],
   "source": [
    "table_test = pd.read_table('./1663769555_8653905_test.txt', names=['sequence'])\n",
    "unlabeled_test = vectorizer_best.transform(table_test.sequence).toarray()\n",
    "predicted_data = majority(some_pred(unlabeled_test, 2))"
   ],
   "metadata": {
    "collapsed": false,
    "pycharm": {
     "name": "#%%\n"
    }
   }
  },
  {
   "cell_type": "code",
   "execution_count": 214,
   "outputs": [
    {
     "data": {
      "text/plain": "350"
     },
     "execution_count": 214,
     "metadata": {},
     "output_type": "execute_result"
    }
   ],
   "source": [
    "len(predicted_data)\n"
   ],
   "metadata": {
    "collapsed": false,
    "pycharm": {
     "name": "#%%\n"
    }
   }
  },
  {
   "cell_type": "code",
   "execution_count": 213,
   "outputs": [],
   "source": [
    "import csv\n",
    "outfile = open('./results.csv','w')\n",
    "out = csv.writer(outfile)\n",
    "out.writerows(map(lambda x: [x], predicted_data))\n",
    "outfile.close()"
   ],
   "metadata": {
    "collapsed": false,
    "pycharm": {
     "name": "#%%\n"
    }
   }
  },
  {
   "cell_type": "code",
   "execution_count": null,
   "outputs": [],
   "source": [],
   "metadata": {
    "collapsed": false,
    "pycharm": {
     "name": "#%%\n"
    }
   }
  }
 ],
 "metadata": {
  "kernelspec": {
   "display_name": "Python 3",
   "language": "python",
   "name": "python3"
  },
  "language_info": {
   "codemirror_mode": {
    "name": "ipython",
    "version": 2
   },
   "file_extension": ".py",
   "mimetype": "text/x-python",
   "name": "python",
   "nbconvert_exporter": "python",
   "pygments_lexer": "ipython2",
   "version": "2.7.6"
  }
 },
 "nbformat": 4,
 "nbformat_minor": 0
}