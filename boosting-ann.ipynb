{
 "cells": [
  {
   "cell_type": "code",
   "execution_count": 1,
   "metadata": {
    "collapsed": true,
    "pycharm": {
     "name": "#%%\n"
    }
   },
   "outputs": [],
   "source": [
    "import math\n",
    "import random\n",
    "import tensorflow as tf\n",
    "import pandas as pd\n",
    "import numpy as np\n",
    "import matplotlib.pyplot as plt\n",
    "import imblearn"
   ]
  },
  {
   "cell_type": "code",
   "execution_count": 2,
   "outputs": [
    {
     "name": "stdout",
     "output_type": "stream",
     "text": [
      "2.10.0\n"
     ]
    }
   ],
   "source": [
    "print(tf.__version__)"
   ],
   "metadata": {
    "collapsed": false,
    "pycharm": {
     "name": "#%%\n"
    }
   }
  },
  {
   "cell_type": "code",
   "execution_count": 3,
   "outputs": [],
   "source": [
    "table = pd.read_table('./1663769555_8559356_train.txt', names=['binding','sequence'])"
   ],
   "metadata": {
    "collapsed": false,
    "pycharm": {
     "name": "#%%\n"
    }
   }
  },
  {
   "cell_type": "code",
   "execution_count": 4,
   "outputs": [],
   "source": [
    "from sklearn.feature_extraction.text import CountVectorizer\n",
    "def return_binary_vectorized_form(data_frame, feat = None):\n",
    "    if feat is None:\n",
    "        count_vectorizer = CountVectorizer(binary=True)\n",
    "    else:\n",
    "        count_vectorizer = CountVectorizer(binary=True, vocabulary=feat)\n",
    "    fitted_and_transformed = count_vectorizer.fit_transform(data_frame).toarray()\n",
    "    return count_vectorizer,  fitted_and_transformed"
   ],
   "metadata": {
    "collapsed": false,
    "pycharm": {
     "name": "#%%\n"
    }
   }
  },
  {
   "cell_type": "code",
   "execution_count": 5,
   "outputs": [],
   "source": [
    "from sklearn.feature_selection import SelectKBest, chi2\n",
    "def select_k_best_features(feature_set, target_values, fraction, feature_list):\n",
    "    select_bestselect_best = SelectKBest(score_func=chi2, k = int(len(feature_list)*fraction))\n",
    "    select_bestselect_best.fit(feature_set,target_values)\n",
    "    mask = select_bestselect_best.get_support()\n",
    "    k_best_featurs = feature_list[mask]\n",
    "    return k_best_featurs"
   ],
   "metadata": {
    "collapsed": false,
    "pycharm": {
     "name": "#%%\n"
    }
   }
  },
  {
   "cell_type": "code",
   "execution_count": 6,
   "outputs": [],
   "source": [
    "from sklearn.model_selection import train_test_split\n",
    "active_df = table.loc[table.binding == 1]\n",
    "not_active_df = table.loc[table.binding == 0]\n",
    "# Mainly spliting the data here for testing, that is the reason train size is set to .20\n",
    "active_train, active_test, active_binding_train, active_binding_test = train_test_split(active_df.sequence, active_df.binding, shuffle=True, train_size= .83)\n",
    "not_active_train, not_active_test, not_active_binding_train, not_active_binding_test = train_test_split(not_active_df.sequence, not_active_df.binding, shuffle=True, train_size=.90)"
   ],
   "metadata": {
    "collapsed": false,
    "pycharm": {
     "name": "#%%\n"
    }
   }
  },
  {
   "cell_type": "code",
   "execution_count": 7,
   "outputs": [],
   "source": [
    "def createDf(data):\n",
    "    pd_df = pd.DataFrame(data)\n",
    "    return pd_df\n",
    "def addColumn(copy_to, copy_from ,cname):\n",
    "    copy_to[cname] = copy_from[cname]\n",
    "    return copy_to"
   ],
   "metadata": {
    "collapsed": false,
    "pycharm": {
     "name": "#%%\n"
    }
   }
  },
  {
   "cell_type": "code",
   "execution_count": 8,
   "outputs": [
    {
     "name": "stdout",
     "output_type": "stream",
     "text": [
      "0    649\n",
      "1     64\n",
      "Name: binding, dtype: int64\n",
      "0    73\n",
      "1    14\n",
      "Name: binding, dtype: int64\n"
     ]
    }
   ],
   "source": [
    "active_test_df = pd.DataFrame(active_test)\n",
    "active_binding_test_df = pd.DataFrame(active_binding_test)\n",
    "active_test_df['binding'] = active_binding_test_df['binding']\n",
    "not_active_test_df = pd.DataFrame(not_active_test)\n",
    "not_active_binding_test_df = pd.DataFrame(not_active_binding_test)\n",
    "not_active_test_df['binding'] = not_active_binding_test_df['binding']\n",
    "active_train_df = createDf(active_train)\n",
    "active_binding_train_df = createDf(active_binding_train)\n",
    "active_train_df = addColumn(active_train_df, active_binding_train_df, 'binding')\n",
    "not_active_train_df = createDf(not_active_train)\n",
    "not_active_binding_train_df = createDf(not_active_binding_train)\n",
    "not_active_train_df = addColumn(not_active_train_df, not_active_binding_train_df, 'binding')\n",
    "train_df = pd.concat([active_train_df, not_active_train_df]).reset_index()\n",
    "train_df = train_df.drop('index', axis=1)\n",
    "print(train_df.binding.value_counts())\n",
    "test_df = pd.concat([active_test_df, not_active_test_df]).reset_index()\n",
    "test_df = test_df.drop('index', axis=1)\n",
    "print(test_df.binding.value_counts())\n",
    "from imblearn.over_sampling import RandomOverSampler, SMOTE\n",
    "\n",
    "\n"
   ],
   "metadata": {
    "collapsed": false,
    "pycharm": {
     "name": "#%%\n"
    }
   }
  },
  {
   "cell_type": "code",
   "execution_count": 9,
   "outputs": [
    {
     "name": "stdout",
     "output_type": "stream",
     "text": [
      "0    649\n",
      "1    551\n",
      "Name: binding, dtype: int64\n",
      "0    73\n",
      "1    14\n",
      "Name: binding, dtype: int64\n"
     ]
    }
   ],
   "source": [
    "sampler = RandomOverSampler(sampling_strategy=.85)\n",
    "x_sampled, y_sampled = sampler.fit_resample(np.array(train_df.sequence).reshape(-1, 1), train_df.binding)\n",
    "\n",
    "final_train_set = pd.DataFrame(x_sampled, columns  =[\"sequence\"])\n",
    "final_train_set['binding'] = y_sampled\n",
    "print(final_train_set.binding.value_counts())\n",
    "\n",
    "final_test_set = pd.DataFrame(test_df.sequence, columns  =[\"sequence\"])\n",
    "final_test_set['binding'] = test_df.binding\n",
    "print(final_test_set.binding.value_counts())"
   ],
   "metadata": {
    "collapsed": false,
    "pycharm": {
     "name": "#%%\n"
    }
   }
  },
  {
   "cell_type": "code",
   "execution_count": 10,
   "outputs": [],
   "source": [
    "train_result = np.array(final_train_set.binding)\n",
    "test_result = np.array(final_test_set.binding)"
   ],
   "metadata": {
    "collapsed": false,
    "pycharm": {
     "name": "#%%\n"
    }
   }
  },
  {
   "cell_type": "code",
   "execution_count": 11,
   "outputs": [],
   "source": [
    "vectorizer_best, training_split = return_binary_vectorized_form(final_train_set.sequence)\n",
    "features = select_k_best_features(training_split,train_result,.30,vectorizer_best.get_feature_names_out())"
   ],
   "metadata": {
    "collapsed": false,
    "pycharm": {
     "name": "#%%\n"
    }
   }
  },
  {
   "cell_type": "code",
   "execution_count": 12,
   "outputs": [],
   "source": [
    "vectorizer_best, training_split = return_binary_vectorized_form(final_train_set.sequence,features)\n",
    "test_split = vectorizer_best.transform(final_test_set.sequence).toarray()"
   ],
   "metadata": {
    "collapsed": false,
    "pycharm": {
     "name": "#%%\n"
    }
   }
  },
  {
   "cell_type": "code",
   "execution_count": 13,
   "outputs": [],
   "source": [
    "# smote = SMOTE(random_state=42)\n",
    "# x, y = smote.fit_resample(training_split, train_result)\n",
    "# training_split = x\n",
    "# train_result = y\n",
    "# print(training_split.shape)\n",
    "# print(test_split.shape)"
   ],
   "metadata": {
    "collapsed": false,
    "pycharm": {
     "name": "#%%\n"
    }
   }
  },
  {
   "cell_type": "code",
   "execution_count": 14,
   "outputs": [],
   "source": [
    "initial_weight = np.ones(training_split.shape[0])*(1/training_split.shape[0])"
   ],
   "metadata": {
    "collapsed": false,
    "pycharm": {
     "name": "#%%\n"
    }
   }
  },
  {
   "cell_type": "code",
   "execution_count": 15,
   "outputs": [],
   "source": [
    "def updateWeight(missmatch, weight, alpha):\n",
    "    mi = 0\n",
    "    missmatch_size = len(missmatch)\n",
    "    wi = 0\n",
    "\n",
    "    new_weight = []\n",
    "    norm_constant = 0\n",
    "    while wi < len(weight):\n",
    "        if mi < missmatch_size and missmatch[mi] == wi:\n",
    "            k = weight[wi] * math.exp(alpha)\n",
    "            mi+=1\n",
    "        else:\n",
    "            k = weight[wi] * math.exp(-1*alpha)\n",
    "        new_weight.append( k )\n",
    "        norm_constant += k\n",
    "        wi += 1\n",
    "\n",
    "    new_weight /= norm_constant\n",
    "    sum =0\n",
    "    for i in new_weight:\n",
    "        sum+=i\n",
    "    print(sum)\n",
    "    # plt.plot(new_weight)\n",
    "    # plt.show()\n",
    "    return new_weight"
   ],
   "metadata": {
    "collapsed": false,
    "pycharm": {
     "name": "#%%\n"
    }
   }
  },
  {
   "cell_type": "code",
   "execution_count": 16,
   "outputs": [],
   "source": [
    "from sklearn.metrics import f1_score, accuracy_score, confusion_matrix\n",
    "def findMissClassificatonIndex(predicted, test_res, weight):\n",
    "    error_rate = 0\n",
    "    missmatch_indexes = []\n",
    "    incorrect= []\n",
    "    tn, fp, fn, tp = confusion_matrix(test_res, predicted).ravel()\n",
    "    precision = tp / (tp+ fp)\n",
    "    recall = tp / (tp+ fn)\n",
    "    score = (2 * precision * recall) / (precision + recall)\n",
    "    print(score)\n",
    "    print(accuracy_score(test_res, predicted))\n",
    "    for i, (pred, real) in enumerate(zip(predicted, test_res)):\n",
    "        if pred != real:\n",
    "            incorrect.append((i, pred, real))\n",
    "            missmatch_indexes.append(i)\n",
    "            error_rate += weight[i]\n",
    "    error_rate /= len(predicted)\n",
    "    # print(incorrect)\n",
    "    return error_rate, missmatch_indexes"
   ],
   "metadata": {
    "collapsed": false,
    "pycharm": {
     "name": "#%%\n"
    }
   }
  },
  {
   "cell_type": "code",
   "execution_count": 17,
   "outputs": [],
   "source": [
    "def rejectionSampling(train_data, train_res, weights):\n",
    "    samplesize  = int(4 * len(train_data))\n",
    "    new_train_data = []\n",
    "    new_train_res = []\n",
    "    new_weights = []\n",
    "    adding_index =[]\n",
    "    max_w = max(weights)\n",
    "\n",
    "    for i in range(samplesize):\n",
    "        while True:\n",
    "            index = random.randrange(len(weights))\n",
    "            u = max_w * random.random()\n",
    "            if u <= weights[index]:\n",
    "                new_train_data.append(train_data[index])\n",
    "                new_train_res.append(train_res[index])\n",
    "                adding_index.append(index)\n",
    "                break\n",
    "    # print(adding_index)\n",
    "    return np.array(new_train_data), np.array(new_train_res)"
   ],
   "metadata": {
    "collapsed": false,
    "pycharm": {
     "name": "#%%\n"
    }
   }
  },
  {
   "cell_type": "code",
   "execution_count": 18,
   "outputs": [],
   "source": [
    "def resample(train_data, train_res, weights):\n",
    "    size = len(train_data)\n",
    "    indexes = np.random.choice(int(size), int( .35 * size), replace=True, p=weights)\n",
    "    new_train_data = []\n",
    "    new_train_res = []\n",
    "    for index in indexes:\n",
    "         new_train_data.append(train_data[index])\n",
    "         new_train_res.append(train_res[index])\n",
    "    return np.array(new_train_data), np.array(new_train_res)"
   ],
   "metadata": {
    "collapsed": false,
    "pycharm": {
     "name": "#%%\n"
    }
   }
  },
  {
   "cell_type": "code",
   "execution_count": 19,
   "outputs": [],
   "source": [
    "class EarlyStoppingMonitor(tf.keras.callbacks.Callback):\n",
    "    def __init__(self):\n",
    "        super(EarlyStoppingMonitor, self).__init__()\n",
    "        self.f1_train = None\n",
    "        self.f1_test = None\n",
    "        self.prevous = None\n",
    "        self.count =0\n",
    "\n",
    "    def on_epoch_end(self, epoch, logs=None):\n",
    "        current_train_precision = logs.get('precision')\n",
    "        current_train_recall= logs.get('recall')\n",
    "\n",
    "        if current_train_precision==0 or current_train_recall==0:\n",
    "            print(\"**** Waring: precision recall zero avoid exception ****\")\n",
    "            return\n",
    "        self.f1_train = (2*current_train_precision*current_train_recall) / (current_train_precision+current_train_recall)\n",
    "        if self.prevous == None:\n",
    "            self.prevous = self.f1_train\n",
    "        if self.prevous == self.f1_train:\n",
    "            self.count += 1\n",
    "        else:\n",
    "            self.prevous = self.f1_train\n",
    "            self.count = 0\n",
    "        if self.count == 5:\n",
    "            self.model.stop_training = True\n",
    "            print('\\n\\n******* No improvements *******')\n",
    "        if current_train_recall > .55:\n",
    "            # self.count += 1\n",
    "            # if self.count >4:\n",
    "            self.model.stop_training = True\n",
    "            print('\\n\\n******* Stoping on Defined Thresold *******')\n",
    "            print('F1 TRAINING: ', self.f1_train)\n",
    "            print('Recall TRAINING: ', current_train_recall)\n",
    "\n",
    "    def on_train_end(self, logs=None):\n",
    "        if self.model.stop_training:\n",
    "            print(\"\\n\\n\\n****** Early Stopping *******\")"
   ],
   "metadata": {
    "collapsed": false,
    "pycharm": {
     "name": "#%%\n"
    }
   }
  },
  {
   "cell_type": "code",
   "execution_count": 20,
   "outputs": [],
   "source": [
    "def createBaseModel():\n",
    "    model = tf.keras.Sequential([\n",
    "        tf.keras.Input(shape=(training_split.shape[-1],)),\n",
    "        tf.keras.layers.Dense(2, activation='relu',kernel_regularizer=tf.keras.regularizers.L1(.015)),\n",
    "        tf.keras.layers.Dense(1, activation='sigmoid')\n",
    "    ])\n",
    "\n",
    "    METRICS = [\n",
    "      tf.keras.metrics.TruePositives(name='tp'),\n",
    "      tf.keras.metrics.FalsePositives(name='fp'),\n",
    "      tf.keras.metrics.TrueNegatives(name='tn'),\n",
    "      tf.keras.metrics.FalseNegatives(name='fn'),\n",
    "      tf.keras.metrics.Precision(name='precision'),\n",
    "      tf.keras.metrics.Recall(name='recall')\n",
    "    ]\n",
    "\n",
    "    model.compile(loss=tf.keras.losses.BinaryFocalCrossentropy(), metrics=METRICS, optimizer='adam')\n",
    "\n",
    "    return model"
   ],
   "metadata": {
    "collapsed": false,
    "pycharm": {
     "name": "#%%\n"
    }
   }
  },
  {
   "cell_type": "code",
   "execution_count": 21,
   "outputs": [],
   "source": [
    "ensemble_size = 12\n",
    "ensemble = []\n",
    "alphas = []\n",
    "def boosting(weights):\n",
    "\n",
    "    for i in range(ensemble_size):\n",
    "        print(\" =========== iteration ===========>:\", i )\n",
    "        train_data, train_res = resample(training_split, train_result, weights)\n",
    "        model = createBaseModel()\n",
    "        num_epochs = 60\n",
    "        print( \"bfore traning: \", ((sum(train_res)/len(train_res)))*100)\n",
    "        history = model.fit(train_data, train_res,\n",
    "                    epochs= num_epochs,\n",
    "                    batch_size=70,\n",
    "                    callbacks=[EarlyStoppingMonitor()])\n",
    "        predicted_result = model.predict(training_split)\n",
    "        predicted_result = [1 if i>=.5 else 0 for i in predicted_result ]\n",
    "        error_rate, error_indexes = findMissClassificatonIndex(predicted_result, train_result, weights)\n",
    "        print(\"error_rate:\", error_rate)\n",
    "\n",
    "        if error_rate > .5:\n",
    "            weights = np.ones(training_split.shape[0]) * (1/training_split.shape[0])\n",
    "            print(\"re-balancing and training because error:\", error_rate)\n",
    "            continue\n",
    "\n",
    "        amount_of_say = .0085 * ( math.log( (1-error_rate) / error_rate ) )\n",
    "        alphas.append(amount_of_say)\n",
    "        ensemble.append(model)\n",
    "        weights = updateWeight(error_indexes, weights, amount_of_say)\n"
   ],
   "metadata": {
    "collapsed": false,
    "pycharm": {
     "name": "#%%\n"
    }
   }
  },
  {
   "cell_type": "code",
   "execution_count": 22,
   "outputs": [
    {
     "name": "stdout",
     "output_type": "stream",
     "text": [
      " =========== iteration ===========>: 0\n",
      "Metal device set to: Apple M1\n",
      "bfore traning:  45.95238095238095\n",
      "Epoch 1/60\n"
     ]
    },
    {
     "name": "stderr",
     "output_type": "stream",
     "text": [
      "2022-11-14 01:40:42.124840: I tensorflow/core/common_runtime/pluggable_device/pluggable_device_factory.cc:306] Could not identify NUMA node of platform GPU ID 0, defaulting to 0. Your kernel may not have been built with NUMA support.\n",
      "2022-11-14 01:40:42.125000: I tensorflow/core/common_runtime/pluggable_device/pluggable_device_factory.cc:272] Created TensorFlow device (/job:localhost/replica:0/task:0/device:GPU:0 with 0 MB memory) -> physical PluggableDevice (device: 0, name: METAL, pci bus id: <undefined>)\n",
      "2022-11-14 01:40:42.304241: W tensorflow/core/platform/profile_utils/cpu_utils.cc:128] Failed to get CPU frequency: 0 Hz\n",
      "2022-11-14 01:40:42.556502: I tensorflow/core/grappler/optimizers/custom_graph_optimizer_registry.cc:114] Plugin optimizer for device_type GPU is enabled.\n"
     ]
    },
    {
     "name": "stdout",
     "output_type": "stream",
     "text": [
      "5/6 [========================>.....] - ETA: 0s - loss: 4.6365 - tp: 144.0000 - fp: 142.0000 - tn: 48.0000 - fn: 16.0000 - precision: 0.5035 - recall: 0.9000\n",
      "\n",
      "******* Stoping on Defined Thresold *******\n",
      "F1 TRAINING:  0.6590476374014154\n",
      "Recall TRAINING:  0.8963730335235596\n",
      "6/6 [==============================] - 1s 14ms/step - loss: 4.3595 - tp: 173.0000 - fp: 159.0000 - tn: 68.0000 - fn: 20.0000 - precision: 0.5211 - recall: 0.8964\n",
      "\n",
      "\n",
      "\n",
      "****** Early Stopping *******\n",
      "38/38 [==============================] - 0s 3ms/step\n"
     ]
    },
    {
     "name": "stderr",
     "output_type": "stream",
     "text": [
      "2022-11-14 01:40:43.058710: I tensorflow/core/grappler/optimizers/custom_graph_optimizer_registry.cc:114] Plugin optimizer for device_type GPU is enabled.\n"
     ]
    },
    {
     "name": "stdout",
     "output_type": "stream",
     "text": [
      "0.6942372881355933\n",
      "0.6241666666666666\n",
      "error_rate: 0.000313194444444446\n",
      "0.9999999999999905\n",
      " =========== iteration ===========>: 1\n",
      "bfore traning:  44.047619047619044\n",
      "Epoch 1/60\n"
     ]
    },
    {
     "name": "stderr",
     "output_type": "stream",
     "text": [
      "2022-11-14 01:40:43.556377: I tensorflow/core/grappler/optimizers/custom_graph_optimizer_registry.cc:114] Plugin optimizer for device_type GPU is enabled.\n"
     ]
    },
    {
     "name": "stdout",
     "output_type": "stream",
     "text": [
      "6/6 [==============================] - 1s 15ms/step - loss: 4.4079 - tp: 79.0000 - fp: 93.0000 - tn: 142.0000 - fn: 106.0000 - precision: 0.4593 - recall: 0.4270\n",
      "Epoch 2/60\n",
      "6/6 [==============================] - 0s 12ms/step - loss: 1.7976 - tp: 81.0000 - fp: 18.0000 - tn: 217.0000 - fn: 104.0000 - precision: 0.8182 - recall: 0.4378\n",
      "Epoch 3/60\n",
      "6/6 [==============================] - 0s 13ms/step - loss: 0.9542 - tp: 76.0000 - fp: 0.0000e+00 - tn: 235.0000 - fn: 109.0000 - precision: 1.0000 - recall: 0.4108\n",
      "Epoch 4/60\n",
      "5/6 [========================>.....] - ETA: 0s - loss: 0.8855 - tp: 105.0000 - fp: 0.0000e+00 - tn: 196.0000 - fn: 49.0000 - precision: 1.0000 - recall: 0.6818\n",
      "\n",
      "******* Stoping on Defined Thresold *******\n",
      "F1 TRAINING:  0.8141025613839105\n",
      "Recall TRAINING:  0.6864864826202393\n",
      "6/6 [==============================] - 0s 13ms/step - loss: 0.8562 - tp: 127.0000 - fp: 0.0000e+00 - tn: 235.0000 - fn: 58.0000 - precision: 1.0000 - recall: 0.6865\n",
      "\n",
      "\n",
      "\n",
      "****** Early Stopping *******\n",
      "38/38 [==============================] - 0s 3ms/step\n"
     ]
    },
    {
     "name": "stderr",
     "output_type": "stream",
     "text": [
      "2022-11-14 01:40:44.271832: I tensorflow/core/grappler/optimizers/custom_graph_optimizer_registry.cc:114] Plugin optimizer for device_type GPU is enabled.\n"
     ]
    },
    {
     "name": "stdout",
     "output_type": "stream",
     "text": [
      "0.8436516264428122\n",
      "0.8758333333333334\n",
      "error_rate: 9.873166538754866e-05\n",
      "0.9999999999999977\n",
      " =========== iteration ===========>: 2\n",
      "bfore traning:  46.42857142857143\n",
      "Epoch 1/60\n"
     ]
    },
    {
     "name": "stderr",
     "output_type": "stream",
     "text": [
      "2022-11-14 01:40:44.714270: I tensorflow/core/grappler/optimizers/custom_graph_optimizer_registry.cc:114] Plugin optimizer for device_type GPU is enabled.\n"
     ]
    },
    {
     "name": "stdout",
     "output_type": "stream",
     "text": [
      "6/6 [==============================] - 1s 15ms/step - loss: 4.3684 - tp: 32.0000 - fp: 33.0000 - tn: 192.0000 - fn: 163.0000 - precision: 0.4923 - recall: 0.1641\n",
      "Epoch 2/60\n",
      "6/6 [==============================] - ETA: 0s - loss: 1.7661 - tp: 0.0000e+00 - fp: 0.0000e+00 - tn: 225.0000 - fn: 195.0000 - precision: 0.0000e+00 - recall: 0.0000e+00**** Waring: precision recall zero avoid exception ****\n",
      "6/6 [==============================] - 0s 11ms/step - loss: 1.7661 - tp: 0.0000e+00 - fp: 0.0000e+00 - tn: 225.0000 - fn: 195.0000 - precision: 0.0000e+00 - recall: 0.0000e+00\n",
      "Epoch 3/60\n",
      "6/6 [==============================] - ETA: 0s - loss: 0.9536 - tp: 0.0000e+00 - fp: 0.0000e+00 - tn: 225.0000 - fn: 195.0000 - precision: 0.0000e+00 - recall: 0.0000e+00**** Waring: precision recall zero avoid exception ****\n",
      "6/6 [==============================] - 0s 11ms/step - loss: 0.9536 - tp: 0.0000e+00 - fp: 0.0000e+00 - tn: 225.0000 - fn: 195.0000 - precision: 0.0000e+00 - recall: 0.0000e+00\n",
      "Epoch 4/60\n",
      "1/6 [====>.........................] - ETA: 0s - loss: 0.9774 - tp: 0.0000e+00 - fp: 0.0000e+00 - tn: 36.0000 - fn: 34.0000 - precision: 0.0000e+00 - recall: 0.0000e+00**** Waring: precision recall zero avoid exception ****\n",
      "6/6 [==============================] - 0s 10ms/step - loss: 0.8515 - tp: 0.0000e+00 - fp: 0.0000e+00 - tn: 225.0000 - fn: 195.0000 - precision: 0.0000e+00 - recall: 0.0000e+00\n",
      "Epoch 5/60\n",
      "5/6 [========================>.....] - ETA: 0s - loss: 0.5588 - tp: 0.0000e+00 - fp: 0.0000e+00 - tn: 187.0000 - fn: 163.0000 - precision: 0.0000e+00 - recall: 0.0000e+00**** Waring: precision recall zero avoid exception ****\n",
      "6/6 [==============================] - 0s 13ms/step - loss: 0.5501 - tp: 0.0000e+00 - fp: 0.0000e+00 - tn: 225.0000 - fn: 195.0000 - precision: 0.0000e+00 - recall: 0.0000e+00\n",
      "Epoch 6/60\n",
      "6/6 [==============================] - ETA: 0s - loss: 0.4650 - tp: 0.0000e+00 - fp: 0.0000e+00 - tn: 225.0000 - fn: 195.0000 - precision: 0.0000e+00 - recall: 0.0000e+00**** Waring: precision recall zero avoid exception ****\n",
      "6/6 [==============================] - 0s 12ms/step - loss: 0.4650 - tp: 0.0000e+00 - fp: 0.0000e+00 - tn: 225.0000 - fn: 195.0000 - precision: 0.0000e+00 - recall: 0.0000e+00\n",
      "Epoch 7/60\n",
      "6/6 [==============================] - ETA: 0s - loss: 0.3781 - tp: 0.0000e+00 - fp: 0.0000e+00 - tn: 225.0000 - fn: 195.0000 - precision: 0.0000e+00 - recall: 0.0000e+00**** Waring: precision recall zero avoid exception ****\n",
      "6/6 [==============================] - 0s 12ms/step - loss: 0.3781 - tp: 0.0000e+00 - fp: 0.0000e+00 - tn: 225.0000 - fn: 195.0000 - precision: 0.0000e+00 - recall: 0.0000e+00\n",
      "Epoch 8/60\n",
      "6/6 [==============================] - ETA: 0s - loss: 0.3318 - tp: 0.0000e+00 - fp: 0.0000e+00 - tn: 225.0000 - fn: 195.0000 - precision: 0.0000e+00 - recall: 0.0000e+00**** Waring: precision recall zero avoid exception ****\n",
      "6/6 [==============================] - 0s 11ms/step - loss: 0.3318 - tp: 0.0000e+00 - fp: 0.0000e+00 - tn: 225.0000 - fn: 195.0000 - precision: 0.0000e+00 - recall: 0.0000e+00\n",
      "Epoch 9/60\n",
      "6/6 [==============================] - ETA: 0s - loss: 0.3033 - tp: 0.0000e+00 - fp: 0.0000e+00 - tn: 225.0000 - fn: 195.0000 - precision: 0.0000e+00 - recall: 0.0000e+00**** Waring: precision recall zero avoid exception ****\n",
      "6/6 [==============================] - 0s 11ms/step - loss: 0.3033 - tp: 0.0000e+00 - fp: 0.0000e+00 - tn: 225.0000 - fn: 195.0000 - precision: 0.0000e+00 - recall: 0.0000e+00\n",
      "Epoch 10/60\n",
      "1/6 [====>.........................] - ETA: 0s - loss: 0.2923 - tp: 0.0000e+00 - fp: 0.0000e+00 - tn: 33.0000 - fn: 37.0000 - precision: 0.0000e+00 - recall: 0.0000e+00**** Waring: precision recall zero avoid exception ****\n",
      "6/6 [==============================] - 0s 10ms/step - loss: 0.2874 - tp: 0.0000e+00 - fp: 0.0000e+00 - tn: 225.0000 - fn: 195.0000 - precision: 0.0000e+00 - recall: 0.0000e+00\n",
      "Epoch 11/60\n",
      "1/6 [====>.........................] - ETA: 0s - loss: 0.2810 - tp: 0.0000e+00 - fp: 0.0000e+00 - tn: 37.0000 - fn: 33.0000 - precision: 0.0000e+00 - recall: 0.0000e+00**** Waring: precision recall zero avoid exception ****\n",
      "6/6 [==============================] - 0s 10ms/step - loss: 0.2781 - tp: 0.0000e+00 - fp: 0.0000e+00 - tn: 225.0000 - fn: 195.0000 - precision: 0.0000e+00 - recall: 0.0000e+00\n",
      "Epoch 12/60\n",
      "6/6 [==============================] - ETA: 0s - loss: 0.2736 - tp: 0.0000e+00 - fp: 0.0000e+00 - tn: 225.0000 - fn: 195.0000 - precision: 0.0000e+00 - recall: 0.0000e+00**** Waring: precision recall zero avoid exception ****\n",
      "6/6 [==============================] - 0s 11ms/step - loss: 0.2736 - tp: 0.0000e+00 - fp: 0.0000e+00 - tn: 225.0000 - fn: 195.0000 - precision: 0.0000e+00 - recall: 0.0000e+00\n",
      "Epoch 13/60\n",
      "1/6 [====>.........................] - ETA: 0s - loss: 0.2709 - tp: 0.0000e+00 - fp: 0.0000e+00 - tn: 43.0000 - fn: 27.0000 - precision: 0.0000e+00 - recall: 0.0000e+00**** Waring: precision recall zero avoid exception ****\n",
      "6/6 [==============================] - 0s 10ms/step - loss: 0.2706 - tp: 0.0000e+00 - fp: 0.0000e+00 - tn: 225.0000 - fn: 195.0000 - precision: 0.0000e+00 - recall: 0.0000e+00\n",
      "Epoch 14/60\n",
      "1/6 [====>.........................] - ETA: 0s - loss: 0.2699 - tp: 0.0000e+00 - fp: 0.0000e+00 - tn: 35.0000 - fn: 35.0000 - precision: 0.0000e+00 - recall: 0.0000e+00**** Waring: precision recall zero avoid exception ****\n",
      "6/6 [==============================] - 0s 9ms/step - loss: 0.2683 - tp: 0.0000e+00 - fp: 0.0000e+00 - tn: 225.0000 - fn: 195.0000 - precision: 0.0000e+00 - recall: 0.0000e+00\n",
      "Epoch 15/60\n",
      "1/6 [====>.........................] - ETA: 0s - loss: 0.2692 - tp: 0.0000e+00 - fp: 0.0000e+00 - tn: 32.0000 - fn: 38.0000 - precision: 0.0000e+00 - recall: 0.0000e+00**** Waring: precision recall zero avoid exception ****\n",
      "6/6 [==============================] - 0s 9ms/step - loss: 0.2678 - tp: 0.0000e+00 - fp: 0.0000e+00 - tn: 225.0000 - fn: 195.0000 - precision: 0.0000e+00 - recall: 0.0000e+00\n",
      "Epoch 16/60\n",
      "6/6 [==============================] - ETA: 0s - loss: 0.2674 - tp: 0.0000e+00 - fp: 0.0000e+00 - tn: 225.0000 - fn: 195.0000 - precision: 0.0000e+00 - recall: 0.0000e+00**** Waring: precision recall zero avoid exception ****\n",
      "6/6 [==============================] - 0s 11ms/step - loss: 0.2674 - tp: 0.0000e+00 - fp: 0.0000e+00 - tn: 225.0000 - fn: 195.0000 - precision: 0.0000e+00 - recall: 0.0000e+00\n",
      "Epoch 17/60\n",
      "5/6 [========================>.....] - ETA: 0s - loss: 0.2659 - tp: 0.0000e+00 - fp: 0.0000e+00 - tn: 194.0000 - fn: 156.0000 - precision: 0.0000e+00 - recall: 0.0000e+00**** Waring: precision recall zero avoid exception ****\n",
      "6/6 [==============================] - 0s 13ms/step - loss: 0.2664 - tp: 0.0000e+00 - fp: 0.0000e+00 - tn: 225.0000 - fn: 195.0000 - precision: 0.0000e+00 - recall: 0.0000e+00\n",
      "Epoch 18/60\n",
      "6/6 [==============================] - ETA: 0s - loss: 0.2668 - tp: 0.0000e+00 - fp: 0.0000e+00 - tn: 225.0000 - fn: 195.0000 - precision: 0.0000e+00 - recall: 0.0000e+00**** Waring: precision recall zero avoid exception ****\n",
      "6/6 [==============================] - 0s 12ms/step - loss: 0.2668 - tp: 0.0000e+00 - fp: 0.0000e+00 - tn: 225.0000 - fn: 195.0000 - precision: 0.0000e+00 - recall: 0.0000e+00\n",
      "Epoch 19/60\n",
      "5/6 [========================>.....] - ETA: 0s - loss: 0.2666 - tp: 0.0000e+00 - fp: 0.0000e+00 - tn: 193.0000 - fn: 157.0000 - precision: 0.0000e+00 - recall: 0.0000e+00**** Waring: precision recall zero avoid exception ****\n",
      "6/6 [==============================] - 0s 13ms/step - loss: 0.2671 - tp: 0.0000e+00 - fp: 0.0000e+00 - tn: 225.0000 - fn: 195.0000 - precision: 0.0000e+00 - recall: 0.0000e+00\n",
      "Epoch 20/60\n",
      "6/6 [==============================] - ETA: 0s - loss: 0.2671 - tp: 0.0000e+00 - fp: 0.0000e+00 - tn: 225.0000 - fn: 195.0000 - precision: 0.0000e+00 - recall: 0.0000e+00**** Waring: precision recall zero avoid exception ****\n",
      "6/6 [==============================] - 0s 11ms/step - loss: 0.2671 - tp: 0.0000e+00 - fp: 0.0000e+00 - tn: 225.0000 - fn: 195.0000 - precision: 0.0000e+00 - recall: 0.0000e+00\n",
      "Epoch 21/60\n",
      "6/6 [==============================] - ETA: 0s - loss: 0.2672 - tp: 0.0000e+00 - fp: 0.0000e+00 - tn: 225.0000 - fn: 195.0000 - precision: 0.0000e+00 - recall: 0.0000e+00**** Waring: precision recall zero avoid exception ****\n",
      "6/6 [==============================] - 0s 10ms/step - loss: 0.2672 - tp: 0.0000e+00 - fp: 0.0000e+00 - tn: 225.0000 - fn: 195.0000 - precision: 0.0000e+00 - recall: 0.0000e+00\n",
      "Epoch 22/60\n",
      "6/6 [==============================] - ETA: 0s - loss: 0.2665 - tp: 0.0000e+00 - fp: 0.0000e+00 - tn: 225.0000 - fn: 195.0000 - precision: 0.0000e+00 - recall: 0.0000e+00**** Waring: precision recall zero avoid exception ****\n",
      "6/6 [==============================] - 0s 11ms/step - loss: 0.2665 - tp: 0.0000e+00 - fp: 0.0000e+00 - tn: 225.0000 - fn: 195.0000 - precision: 0.0000e+00 - recall: 0.0000e+00\n",
      "Epoch 23/60\n",
      "6/6 [==============================] - ETA: 0s - loss: 0.2658 - tp: 0.0000e+00 - fp: 0.0000e+00 - tn: 225.0000 - fn: 195.0000 - precision: 0.0000e+00 - recall: 0.0000e+00**** Waring: precision recall zero avoid exception ****\n",
      "6/6 [==============================] - 0s 11ms/step - loss: 0.2658 - tp: 0.0000e+00 - fp: 0.0000e+00 - tn: 225.0000 - fn: 195.0000 - precision: 0.0000e+00 - recall: 0.0000e+00\n",
      "Epoch 24/60\n",
      "6/6 [==============================] - ETA: 0s - loss: 0.2659 - tp: 0.0000e+00 - fp: 0.0000e+00 - tn: 225.0000 - fn: 195.0000 - precision: 0.0000e+00 - recall: 0.0000e+00**** Waring: precision recall zero avoid exception ****\n",
      "6/6 [==============================] - 0s 11ms/step - loss: 0.2659 - tp: 0.0000e+00 - fp: 0.0000e+00 - tn: 225.0000 - fn: 195.0000 - precision: 0.0000e+00 - recall: 0.0000e+00\n",
      "Epoch 25/60\n",
      "1/6 [====>.........................] - ETA: 0s - loss: 0.2653 - tp: 0.0000e+00 - fp: 0.0000e+00 - tn: 39.0000 - fn: 31.0000 - precision: 0.0000e+00 - recall: 0.0000e+00**** Waring: precision recall zero avoid exception ****\n",
      "6/6 [==============================] - 0s 10ms/step - loss: 0.2667 - tp: 0.0000e+00 - fp: 0.0000e+00 - tn: 225.0000 - fn: 195.0000 - precision: 0.0000e+00 - recall: 0.0000e+00\n",
      "Epoch 26/60\n",
      "1/6 [====>.........................] - ETA: 0s - loss: 0.2696 - tp: 0.0000e+00 - fp: 0.0000e+00 - tn: 31.0000 - fn: 39.0000 - precision: 0.0000e+00 - recall: 0.0000e+00**** Waring: precision recall zero avoid exception ****\n",
      "6/6 [==============================] - 0s 10ms/step - loss: 0.2670 - tp: 0.0000e+00 - fp: 0.0000e+00 - tn: 225.0000 - fn: 195.0000 - precision: 0.0000e+00 - recall: 0.0000e+00\n",
      "Epoch 27/60\n",
      "6/6 [==============================] - ETA: 0s - loss: 0.2669 - tp: 0.0000e+00 - fp: 0.0000e+00 - tn: 225.0000 - fn: 195.0000 - precision: 0.0000e+00 - recall: 0.0000e+00**** Waring: precision recall zero avoid exception ****\n",
      "6/6 [==============================] - 0s 10ms/step - loss: 0.2669 - tp: 0.0000e+00 - fp: 0.0000e+00 - tn: 225.0000 - fn: 195.0000 - precision: 0.0000e+00 - recall: 0.0000e+00\n",
      "Epoch 28/60\n",
      "6/6 [==============================] - ETA: 0s - loss: 0.2663 - tp: 0.0000e+00 - fp: 0.0000e+00 - tn: 225.0000 - fn: 195.0000 - precision: 0.0000e+00 - recall: 0.0000e+00**** Waring: precision recall zero avoid exception ****\n",
      "6/6 [==============================] - 0s 10ms/step - loss: 0.2663 - tp: 0.0000e+00 - fp: 0.0000e+00 - tn: 225.0000 - fn: 195.0000 - precision: 0.0000e+00 - recall: 0.0000e+00\n",
      "Epoch 29/60\n",
      "6/6 [==============================] - ETA: 0s - loss: 0.2667 - tp: 0.0000e+00 - fp: 0.0000e+00 - tn: 225.0000 - fn: 195.0000 - precision: 0.0000e+00 - recall: 0.0000e+00**** Waring: precision recall zero avoid exception ****\n",
      "6/6 [==============================] - 0s 10ms/step - loss: 0.2667 - tp: 0.0000e+00 - fp: 0.0000e+00 - tn: 225.0000 - fn: 195.0000 - precision: 0.0000e+00 - recall: 0.0000e+00\n",
      "Epoch 30/60\n",
      "6/6 [==============================] - ETA: 0s - loss: 0.2671 - tp: 0.0000e+00 - fp: 0.0000e+00 - tn: 225.0000 - fn: 195.0000 - precision: 0.0000e+00 - recall: 0.0000e+00**** Waring: precision recall zero avoid exception ****\n",
      "6/6 [==============================] - 0s 10ms/step - loss: 0.2671 - tp: 0.0000e+00 - fp: 0.0000e+00 - tn: 225.0000 - fn: 195.0000 - precision: 0.0000e+00 - recall: 0.0000e+00\n",
      "Epoch 31/60\n",
      "1/6 [====>.........................] - ETA: 0s - loss: 0.2671 - tp: 0.0000e+00 - fp: 0.0000e+00 - tn: 37.0000 - fn: 33.0000 - precision: 0.0000e+00 - recall: 0.0000e+00**** Waring: precision recall zero avoid exception ****\n",
      "6/6 [==============================] - 0s 10ms/step - loss: 0.2669 - tp: 0.0000e+00 - fp: 0.0000e+00 - tn: 225.0000 - fn: 195.0000 - precision: 0.0000e+00 - recall: 0.0000e+00\n",
      "Epoch 32/60\n",
      "1/6 [====>.........................] - ETA: 0s - loss: 0.2656 - tp: 0.0000e+00 - fp: 0.0000e+00 - tn: 40.0000 - fn: 30.0000 - precision: 0.0000e+00 - recall: 0.0000e+00**** Waring: precision recall zero avoid exception ****\n",
      "6/6 [==============================] - 0s 10ms/step - loss: 0.2666 - tp: 0.0000e+00 - fp: 0.0000e+00 - tn: 225.0000 - fn: 195.0000 - precision: 0.0000e+00 - recall: 0.0000e+00\n",
      "Epoch 33/60\n",
      "6/6 [==============================] - ETA: 0s - loss: 0.2669 - tp: 0.0000e+00 - fp: 0.0000e+00 - tn: 225.0000 - fn: 195.0000 - precision: 0.0000e+00 - recall: 0.0000e+00**** Waring: precision recall zero avoid exception ****\n",
      "6/6 [==============================] - 0s 10ms/step - loss: 0.2669 - tp: 0.0000e+00 - fp: 0.0000e+00 - tn: 225.0000 - fn: 195.0000 - precision: 0.0000e+00 - recall: 0.0000e+00\n",
      "Epoch 34/60\n",
      "6/6 [==============================] - ETA: 0s - loss: 0.2670 - tp: 0.0000e+00 - fp: 0.0000e+00 - tn: 225.0000 - fn: 195.0000 - precision: 0.0000e+00 - recall: 0.0000e+00**** Waring: precision recall zero avoid exception ****\n",
      "6/6 [==============================] - 0s 11ms/step - loss: 0.2670 - tp: 0.0000e+00 - fp: 0.0000e+00 - tn: 225.0000 - fn: 195.0000 - precision: 0.0000e+00 - recall: 0.0000e+00\n",
      "Epoch 35/60\n",
      "6/6 [==============================] - ETA: 0s - loss: 0.2669 - tp: 0.0000e+00 - fp: 0.0000e+00 - tn: 225.0000 - fn: 195.0000 - precision: 0.0000e+00 - recall: 0.0000e+00**** Waring: precision recall zero avoid exception ****\n",
      "6/6 [==============================] - 0s 10ms/step - loss: 0.2669 - tp: 0.0000e+00 - fp: 0.0000e+00 - tn: 225.0000 - fn: 195.0000 - precision: 0.0000e+00 - recall: 0.0000e+00\n",
      "Epoch 36/60\n",
      "6/6 [==============================] - ETA: 0s - loss: 0.2669 - tp: 0.0000e+00 - fp: 0.0000e+00 - tn: 225.0000 - fn: 195.0000 - precision: 0.0000e+00 - recall: 0.0000e+00**** Waring: precision recall zero avoid exception ****\n",
      "6/6 [==============================] - 0s 12ms/step - loss: 0.2669 - tp: 0.0000e+00 - fp: 0.0000e+00 - tn: 225.0000 - fn: 195.0000 - precision: 0.0000e+00 - recall: 0.0000e+00\n",
      "Epoch 37/60\n",
      "6/6 [==============================] - ETA: 0s - loss: 0.2669 - tp: 0.0000e+00 - fp: 0.0000e+00 - tn: 225.0000 - fn: 195.0000 - precision: 0.0000e+00 - recall: 0.0000e+00**** Waring: precision recall zero avoid exception ****\n",
      "6/6 [==============================] - 0s 11ms/step - loss: 0.2669 - tp: 0.0000e+00 - fp: 0.0000e+00 - tn: 225.0000 - fn: 195.0000 - precision: 0.0000e+00 - recall: 0.0000e+00\n",
      "Epoch 38/60\n",
      "6/6 [==============================] - ETA: 0s - loss: 0.2665 - tp: 0.0000e+00 - fp: 0.0000e+00 - tn: 225.0000 - fn: 195.0000 - precision: 0.0000e+00 - recall: 0.0000e+00**** Waring: precision recall zero avoid exception ****\n",
      "6/6 [==============================] - 0s 10ms/step - loss: 0.2665 - tp: 0.0000e+00 - fp: 0.0000e+00 - tn: 225.0000 - fn: 195.0000 - precision: 0.0000e+00 - recall: 0.0000e+00\n",
      "Epoch 39/60\n",
      "1/6 [====>.........................] - ETA: 0s - loss: 0.2686 - tp: 0.0000e+00 - fp: 0.0000e+00 - tn: 34.0000 - fn: 36.0000 - precision: 0.0000e+00 - recall: 0.0000e+00**** Waring: precision recall zero avoid exception ****\n",
      "6/6 [==============================] - 0s 10ms/step - loss: 0.2666 - tp: 0.0000e+00 - fp: 0.0000e+00 - tn: 225.0000 - fn: 195.0000 - precision: 0.0000e+00 - recall: 0.0000e+00\n",
      "Epoch 40/60\n",
      "1/6 [====>.........................] - ETA: 0s - loss: 0.2648 - tp: 0.0000e+00 - fp: 0.0000e+00 - tn: 41.0000 - fn: 29.0000 - precision: 0.0000e+00 - recall: 0.0000e+00**** Waring: precision recall zero avoid exception ****\n",
      "6/6 [==============================] - 0s 10ms/step - loss: 0.2661 - tp: 0.0000e+00 - fp: 0.0000e+00 - tn: 225.0000 - fn: 195.0000 - precision: 0.0000e+00 - recall: 0.0000e+00\n",
      "Epoch 41/60\n",
      "1/6 [====>.........................] - ETA: 0s - loss: 0.2671 - tp: 0.0000e+00 - fp: 0.0000e+00 - tn: 35.0000 - fn: 35.0000 - precision: 0.0000e+00 - recall: 0.0000e+00**** Waring: precision recall zero avoid exception ****\n",
      "6/6 [==============================] - 0s 10ms/step - loss: 0.2663 - tp: 0.0000e+00 - fp: 0.0000e+00 - tn: 225.0000 - fn: 195.0000 - precision: 0.0000e+00 - recall: 0.0000e+00\n",
      "Epoch 42/60\n",
      "6/6 [==============================] - ETA: 0s - loss: 0.2665 - tp: 0.0000e+00 - fp: 0.0000e+00 - tn: 225.0000 - fn: 195.0000 - precision: 0.0000e+00 - recall: 0.0000e+00**** Waring: precision recall zero avoid exception ****\n",
      "6/6 [==============================] - 0s 11ms/step - loss: 0.2665 - tp: 0.0000e+00 - fp: 0.0000e+00 - tn: 225.0000 - fn: 195.0000 - precision: 0.0000e+00 - recall: 0.0000e+00\n",
      "Epoch 43/60\n",
      "1/6 [====>.........................] - ETA: 0s - loss: 0.2640 - tp: 0.0000e+00 - fp: 0.0000e+00 - tn: 42.0000 - fn: 28.0000 - precision: 0.0000e+00 - recall: 0.0000e+00**** Waring: precision recall zero avoid exception ****\n",
      "6/6 [==============================] - 0s 10ms/step - loss: 0.2667 - tp: 0.0000e+00 - fp: 0.0000e+00 - tn: 225.0000 - fn: 195.0000 - precision: 0.0000e+00 - recall: 0.0000e+00\n",
      "Epoch 44/60\n",
      "1/6 [====>.........................] - ETA: 0s - loss: 0.2643 - tp: 0.0000e+00 - fp: 0.0000e+00 - tn: 39.0000 - fn: 31.0000 - precision: 0.0000e+00 - recall: 0.0000e+00**** Waring: precision recall zero avoid exception ****\n",
      "6/6 [==============================] - 0s 10ms/step - loss: 0.2663 - tp: 0.0000e+00 - fp: 0.0000e+00 - tn: 225.0000 - fn: 195.0000 - precision: 0.0000e+00 - recall: 0.0000e+00\n",
      "Epoch 45/60\n",
      "1/6 [====>.........................] - ETA: 0s - loss: 0.2658 - tp: 0.0000e+00 - fp: 0.0000e+00 - tn: 38.0000 - fn: 32.0000 - precision: 0.0000e+00 - recall: 0.0000e+00**** Waring: precision recall zero avoid exception ****\n",
      "6/6 [==============================] - 0s 10ms/step - loss: 0.2667 - tp: 0.0000e+00 - fp: 0.0000e+00 - tn: 225.0000 - fn: 195.0000 - precision: 0.0000e+00 - recall: 0.0000e+00\n",
      "Epoch 46/60\n",
      "1/6 [====>.........................] - ETA: 0s - loss: 0.2656 - tp: 0.0000e+00 - fp: 0.0000e+00 - tn: 39.0000 - fn: 31.0000 - precision: 0.0000e+00 - recall: 0.0000e+00**** Waring: precision recall zero avoid exception ****\n",
      "6/6 [==============================] - 0s 10ms/step - loss: 0.2666 - tp: 0.0000e+00 - fp: 0.0000e+00 - tn: 225.0000 - fn: 195.0000 - precision: 0.0000e+00 - recall: 0.0000e+00\n",
      "Epoch 47/60\n",
      "1/6 [====>.........................] - ETA: 0s - loss: 0.2681 - tp: 0.0000e+00 - fp: 0.0000e+00 - tn: 34.0000 - fn: 36.0000 - precision: 0.0000e+00 - recall: 0.0000e+00**** Waring: precision recall zero avoid exception ****\n",
      "6/6 [==============================] - 0s 9ms/step - loss: 0.2671 - tp: 0.0000e+00 - fp: 0.0000e+00 - tn: 225.0000 - fn: 195.0000 - precision: 0.0000e+00 - recall: 0.0000e+00\n",
      "Epoch 48/60\n",
      "1/6 [====>.........................] - ETA: 0s - loss: 0.2687 - tp: 0.0000e+00 - fp: 0.0000e+00 - tn: 34.0000 - fn: 36.0000 - precision: 0.0000e+00 - recall: 0.0000e+00**** Waring: precision recall zero avoid exception ****\n",
      "6/6 [==============================] - 0s 10ms/step - loss: 0.2676 - tp: 0.0000e+00 - fp: 0.0000e+00 - tn: 225.0000 - fn: 195.0000 - precision: 0.0000e+00 - recall: 0.0000e+00\n",
      "Epoch 49/60\n",
      "6/6 [==============================] - ETA: 0s - loss: 0.2671 - tp: 0.0000e+00 - fp: 0.0000e+00 - tn: 225.0000 - fn: 195.0000 - precision: 0.0000e+00 - recall: 0.0000e+00**** Waring: precision recall zero avoid exception ****\n",
      "6/6 [==============================] - 0s 11ms/step - loss: 0.2671 - tp: 0.0000e+00 - fp: 0.0000e+00 - tn: 225.0000 - fn: 195.0000 - precision: 0.0000e+00 - recall: 0.0000e+00\n",
      "Epoch 50/60\n",
      "6/6 [==============================] - ETA: 0s - loss: 0.2658 - tp: 0.0000e+00 - fp: 0.0000e+00 - tn: 225.0000 - fn: 195.0000 - precision: 0.0000e+00 - recall: 0.0000e+00**** Waring: precision recall zero avoid exception ****\n",
      "6/6 [==============================] - 0s 10ms/step - loss: 0.2658 - tp: 0.0000e+00 - fp: 0.0000e+00 - tn: 225.0000 - fn: 195.0000 - precision: 0.0000e+00 - recall: 0.0000e+00\n",
      "Epoch 51/60\n",
      "1/6 [====>.........................] - ETA: 0s - loss: 0.2620 - tp: 0.0000e+00 - fp: 0.0000e+00 - tn: 41.0000 - fn: 29.0000 - precision: 0.0000e+00 - recall: 0.0000e+00**** Waring: precision recall zero avoid exception ****\n",
      "6/6 [==============================] - 0s 10ms/step - loss: 0.2656 - tp: 0.0000e+00 - fp: 0.0000e+00 - tn: 225.0000 - fn: 195.0000 - precision: 0.0000e+00 - recall: 0.0000e+00\n",
      "Epoch 52/60\n",
      "1/6 [====>.........................] - ETA: 0s - loss: 0.2600 - tp: 0.0000e+00 - fp: 0.0000e+00 - tn: 46.0000 - fn: 24.0000 - precision: 0.0000e+00 - recall: 0.0000e+00**** Waring: precision recall zero avoid exception ****\n",
      "6/6 [==============================] - 0s 10ms/step - loss: 0.2649 - tp: 0.0000e+00 - fp: 0.0000e+00 - tn: 225.0000 - fn: 195.0000 - precision: 0.0000e+00 - recall: 0.0000e+00\n",
      "Epoch 53/60\n",
      "6/6 [==============================] - ETA: 0s - loss: 0.2654 - tp: 0.0000e+00 - fp: 0.0000e+00 - tn: 225.0000 - fn: 195.0000 - precision: 0.0000e+00 - recall: 0.0000e+00**** Waring: precision recall zero avoid exception ****\n",
      "6/6 [==============================] - 0s 10ms/step - loss: 0.2654 - tp: 0.0000e+00 - fp: 0.0000e+00 - tn: 225.0000 - fn: 195.0000 - precision: 0.0000e+00 - recall: 0.0000e+00\n",
      "Epoch 54/60\n",
      "6/6 [==============================] - ETA: 0s - loss: 0.2651 - tp: 0.0000e+00 - fp: 0.0000e+00 - tn: 225.0000 - fn: 195.0000 - precision: 0.0000e+00 - recall: 0.0000e+00**** Waring: precision recall zero avoid exception ****\n",
      "6/6 [==============================] - 0s 10ms/step - loss: 0.2651 - tp: 0.0000e+00 - fp: 0.0000e+00 - tn: 225.0000 - fn: 195.0000 - precision: 0.0000e+00 - recall: 0.0000e+00\n",
      "Epoch 55/60\n",
      "1/6 [====>.........................] - ETA: 0s - loss: 0.2631 - tp: 0.0000e+00 - fp: 0.0000e+00 - tn: 38.0000 - fn: 32.0000 - precision: 0.0000e+00 - recall: 0.0000e+00**** Waring: precision recall zero avoid exception ****\n",
      "6/6 [==============================] - 0s 10ms/step - loss: 0.2647 - tp: 0.0000e+00 - fp: 0.0000e+00 - tn: 225.0000 - fn: 195.0000 - precision: 0.0000e+00 - recall: 0.0000e+00\n",
      "Epoch 56/60\n",
      "1/6 [====>.........................] - ETA: 0s - loss: 0.2612 - tp: 0.0000e+00 - fp: 0.0000e+00 - tn: 41.0000 - fn: 29.0000 - precision: 0.0000e+00 - recall: 0.0000e+00**** Waring: precision recall zero avoid exception ****\n",
      "6/6 [==============================] - 0s 10ms/step - loss: 0.2644 - tp: 0.0000e+00 - fp: 0.0000e+00 - tn: 225.0000 - fn: 195.0000 - precision: 0.0000e+00 - recall: 0.0000e+00\n",
      "Epoch 57/60\n",
      "6/6 [==============================] - ETA: 0s - loss: 0.2642 - tp: 0.0000e+00 - fp: 0.0000e+00 - tn: 225.0000 - fn: 195.0000 - precision: 0.0000e+00 - recall: 0.0000e+00**** Waring: precision recall zero avoid exception ****\n",
      "6/6 [==============================] - 0s 11ms/step - loss: 0.2642 - tp: 0.0000e+00 - fp: 0.0000e+00 - tn: 225.0000 - fn: 195.0000 - precision: 0.0000e+00 - recall: 0.0000e+00\n",
      "Epoch 58/60\n",
      "1/6 [====>.........................] - ETA: 0s - loss: 0.2598 - tp: 0.0000e+00 - fp: 0.0000e+00 - tn: 45.0000 - fn: 25.0000 - precision: 0.0000e+00 - recall: 0.0000e+00**** Waring: precision recall zero avoid exception ****\n",
      "6/6 [==============================] - 0s 10ms/step - loss: 0.2638 - tp: 0.0000e+00 - fp: 0.0000e+00 - tn: 225.0000 - fn: 195.0000 - precision: 0.0000e+00 - recall: 0.0000e+00\n",
      "Epoch 59/60\n",
      "1/6 [====>.........................] - ETA: 0s - loss: 0.2626 - tp: 0.0000e+00 - fp: 0.0000e+00 - tn: 35.0000 - fn: 35.0000 - precision: 0.0000e+00 - recall: 0.0000e+00**** Waring: precision recall zero avoid exception ****\n",
      "6/6 [==============================] - 0s 10ms/step - loss: 0.2642 - tp: 0.0000e+00 - fp: 0.0000e+00 - tn: 225.0000 - fn: 195.0000 - precision: 0.0000e+00 - recall: 0.0000e+00\n",
      "Epoch 60/60\n",
      "1/6 [====>.........................] - ETA: 0s - loss: 0.2616 - tp: 0.0000e+00 - fp: 0.0000e+00 - tn: 41.0000 - fn: 29.0000 - precision: 0.0000e+00 - recall: 0.0000e+00**** Waring: precision recall zero avoid exception ****\n",
      "6/6 [==============================] - 0s 9ms/step - loss: 0.2640 - tp: 0.0000e+00 - fp: 0.0000e+00 - tn: 225.0000 - fn: 195.0000 - precision: 0.0000e+00 - recall: 0.0000e+00\n",
      "38/38 [==============================] - 0s 3ms/step\n",
      "0.39358600583090375\n",
      "0.6533333333333333\n",
      "error_rate: 0.0002858077049349723\n",
      "1.000000000000009\n",
      " =========== iteration ===========>: 3\n",
      "bfore traning:  44.52380952380952\n",
      "Epoch 1/60\n"
     ]
    },
    {
     "name": "stderr",
     "output_type": "stream",
     "text": [
      "2022-11-14 01:40:49.032538: I tensorflow/core/grappler/optimizers/custom_graph_optimizer_registry.cc:114] Plugin optimizer for device_type GPU is enabled.\n"
     ]
    },
    {
     "name": "stdout",
     "output_type": "stream",
     "text": [
      "1/6 [====>.........................] - ETA: 1s - loss: 5.9467 - tp: 12.0000 - fp: 16.0000 - tn: 26.0000 - fn: 16.0000 - precision: 0.4286 - recall: 0.4286"
     ]
    },
    {
     "name": "stderr",
     "output_type": "stream",
     "text": [
      "2022-11-14 01:40:49.433528: I tensorflow/core/grappler/optimizers/custom_graph_optimizer_registry.cc:114] Plugin optimizer for device_type GPU is enabled.\n"
     ]
    },
    {
     "name": "stdout",
     "output_type": "stream",
     "text": [
      "6/6 [==============================] - 0s 14ms/step - loss: 4.4244 - tp: 97.0000 - fp: 67.0000 - tn: 166.0000 - fn: 90.0000 - precision: 0.5915 - recall: 0.5187\n",
      "Epoch 2/60\n",
      "6/6 [==============================] - ETA: 0s - loss: 1.8404 - tp: 163.0000 - fp: 22.0000 - tn: 211.0000 - fn: 24.0000 - precision: 0.8811 - recall: 0.8717\n",
      "\n",
      "******* Stoping on Defined Thresold *******\n",
      "F1 TRAINING:  0.8763441150545632\n",
      "Recall TRAINING:  0.8716577887535095\n",
      "6/6 [==============================] - 0s 12ms/step - loss: 1.8404 - tp: 163.0000 - fp: 22.0000 - tn: 211.0000 - fn: 24.0000 - precision: 0.8811 - recall: 0.8717\n",
      "\n",
      "\n",
      "\n",
      "****** Early Stopping *******\n",
      "38/38 [==============================] - 0s 3ms/step\n",
      "0.9774977497749775\n",
      "0.9791666666666666\n",
      "error_rate: 1.74288114039439e-05\n",
      "1.0000000000000095\n",
      " =========== iteration ===========>: 4\n",
      "bfore traning:  46.19047619047619\n",
      "Epoch 1/60\n"
     ]
    },
    {
     "name": "stderr",
     "output_type": "stream",
     "text": [
      "2022-11-14 01:40:49.801927: I tensorflow/core/grappler/optimizers/custom_graph_optimizer_registry.cc:114] Plugin optimizer for device_type GPU is enabled.\n"
     ]
    },
    {
     "name": "stdout",
     "output_type": "stream",
     "text": [
      "1/6 [====>.........................] - ETA: 1s - loss: 5.9440 - tp: 13.0000 - fp: 16.0000 - tn: 20.0000 - fn: 21.0000 - precision: 0.4483 - recall: 0.3824"
     ]
    },
    {
     "name": "stderr",
     "output_type": "stream",
     "text": [
      "2022-11-14 01:40:50.201304: I tensorflow/core/grappler/optimizers/custom_graph_optimizer_registry.cc:114] Plugin optimizer for device_type GPU is enabled.\n"
     ]
    },
    {
     "name": "stdout",
     "output_type": "stream",
     "text": [
      "4/6 [===================>..........] - ETA: 0s - loss: 4.9550 - tp: 67.0000 - fp: 65.0000 - tn: 78.0000 - fn: 70.0000 - precision: 0.5076 - recall: 0.4891\n",
      "\n",
      "******* Stoping on Defined Thresold *******\n",
      "F1 TRAINING:  0.5496183443083659\n",
      "Recall TRAINING:  0.5567010641098022\n",
      "6/6 [==============================] - 0s 17ms/step - loss: 4.3860 - tp: 108.0000 - fp: 91.0000 - tn: 135.0000 - fn: 86.0000 - precision: 0.5427 - recall: 0.5567\n",
      "\n",
      "\n",
      "\n",
      "****** Early Stopping *******\n",
      "38/38 [==============================] - 0s 4ms/step\n"
     ]
    },
    {
     "name": "stderr",
     "output_type": "stream",
     "text": [
      "2022-11-14 01:40:50.535647: I tensorflow/core/grappler/optimizers/custom_graph_optimizer_registry.cc:114] Plugin optimizer for device_type GPU is enabled.\n"
     ]
    },
    {
     "name": "stdout",
     "output_type": "stream",
     "text": [
      "0.7688564476885645\n",
      "0.7625\n",
      "error_rate: 0.0001980104492929068\n",
      "0.9999999999999936\n",
      " =========== iteration ===========>: 5\n",
      "bfore traning:  48.095238095238095\n",
      "Epoch 1/60\n",
      "1/6 [====>.........................] - ETA: 1s - loss: 5.9422 - tp: 10.0000 - fp: 27.0000 - tn: 15.0000 - fn: 18.0000 - precision: 0.2703 - recall: 0.3571"
     ]
    },
    {
     "name": "stderr",
     "output_type": "stream",
     "text": [
      "2022-11-14 01:40:50.979040: I tensorflow/core/grappler/optimizers/custom_graph_optimizer_registry.cc:114] Plugin optimizer for device_type GPU is enabled.\n"
     ]
    },
    {
     "name": "stdout",
     "output_type": "stream",
     "text": [
      "6/6 [==============================] - 0s 15ms/step - loss: 4.3740 - tp: 67.0000 - fp: 119.0000 - tn: 99.0000 - fn: 135.0000 - precision: 0.3602 - recall: 0.3317\n",
      "Epoch 2/60\n",
      "6/6 [==============================] - 0s 14ms/step - loss: 1.7721 - tp: 105.0000 - fp: 65.0000 - tn: 153.0000 - fn: 97.0000 - precision: 0.6176 - recall: 0.5198\n",
      "Epoch 3/60\n",
      "6/6 [==============================] - ETA: 0s - loss: 0.9488 - tp: 198.0000 - fp: 32.0000 - tn: 186.0000 - fn: 4.0000 - precision: 0.8609 - recall: 0.9802 \n",
      "\n",
      "******* Stoping on Defined Thresold *******\n",
      "F1 TRAINING:  0.9166667150852185\n",
      "Recall TRAINING:  0.9801980257034302\n",
      "6/6 [==============================] - 0s 12ms/step - loss: 0.9488 - tp: 198.0000 - fp: 32.0000 - tn: 186.0000 - fn: 4.0000 - precision: 0.8609 - recall: 0.9802\n",
      "\n",
      "\n",
      "\n",
      "****** Early Stopping *******\n",
      "38/38 [==============================] - 0s 3ms/step\n"
     ]
    },
    {
     "name": "stderr",
     "output_type": "stream",
     "text": [
      "2022-11-14 01:40:51.444540: I tensorflow/core/grappler/optimizers/custom_graph_optimizer_registry.cc:114] Plugin optimizer for device_type GPU is enabled.\n"
     ]
    },
    {
     "name": "stdout",
     "output_type": "stream",
     "text": [
      "0.8787878787878788\n",
      "0.8733333333333333\n",
      "error_rate: 0.00010641458294004979\n",
      "0.999999999999994\n",
      " =========== iteration ===========>: 6\n",
      "bfore traning:  51.42857142857142\n",
      "Epoch 1/60\n",
      "1/6 [====>.........................] - ETA: 1s - loss: 5.9606 - tp: 31.0000 - fp: 31.0000 - tn: 4.0000 - fn: 4.0000 - precision: 0.5000 - recall: 0.8857"
     ]
    },
    {
     "name": "stderr",
     "output_type": "stream",
     "text": [
      "2022-11-14 01:40:51.895385: I tensorflow/core/grappler/optimizers/custom_graph_optimizer_registry.cc:114] Plugin optimizer for device_type GPU is enabled.\n"
     ]
    },
    {
     "name": "stdout",
     "output_type": "stream",
     "text": [
      "5/6 [========================>.....] - ETA: 0s - loss: 4.6873 - tp: 169.0000 - fp: 142.0000 - tn: 30.0000 - fn: 9.0000 - precision: 0.5434 - recall: 0.9494\n",
      "\n",
      "******* Stoping on Defined Thresold *******\n",
      "F1 TRAINING:  0.7032589891795125\n",
      "Recall TRAINING:  0.9490740895271301\n",
      "6/6 [==============================] - 0s 15ms/step - loss: 4.4127 - tp: 205.0000 - fp: 162.0000 - tn: 42.0000 - fn: 11.0000 - precision: 0.5586 - recall: 0.9491\n",
      "\n",
      "\n",
      "\n",
      "****** Early Stopping *******\n",
      "38/38 [==============================] - 0s 3ms/step\n"
     ]
    },
    {
     "name": "stderr",
     "output_type": "stream",
     "text": [
      "2022-11-14 01:40:52.239903: I tensorflow/core/grappler/optimizers/custom_graph_optimizer_registry.cc:114] Plugin optimizer for device_type GPU is enabled.\n"
     ]
    },
    {
     "name": "stdout",
     "output_type": "stream",
     "text": [
      "0.7363387978142075\n",
      "0.6783333333333333\n",
      "error_rate: 0.0002698384470560438\n",
      "1.000000000000021\n",
      " =========== iteration ===========>: 7\n",
      "bfore traning:  42.61904761904762\n",
      "Epoch 1/60\n",
      "1/6 [====>.........................] - ETA: 1s - loss: 5.9540 - tp: 15.0000 - fp: 6.0000 - tn: 33.0000 - fn: 16.0000 - precision: 0.7143 - recall: 0.4839"
     ]
    },
    {
     "name": "stderr",
     "output_type": "stream",
     "text": [
      "2022-11-14 01:40:52.668155: I tensorflow/core/grappler/optimizers/custom_graph_optimizer_registry.cc:114] Plugin optimizer for device_type GPU is enabled.\n"
     ]
    },
    {
     "name": "stdout",
     "output_type": "stream",
     "text": [
      "6/6 [==============================] - 0s 19ms/step - loss: 4.3855 - tp: 73.0000 - fp: 39.0000 - tn: 202.0000 - fn: 106.0000 - precision: 0.6518 - recall: 0.4078\n",
      "Epoch 2/60\n",
      "6/6 [==============================] - 0s 11ms/step - loss: 1.7749 - tp: 40.0000 - fp: 12.0000 - tn: 229.0000 - fn: 139.0000 - precision: 0.7692 - recall: 0.2235\n",
      "Epoch 3/60\n",
      "6/6 [==============================] - 0s 11ms/step - loss: 0.9523 - tp: 19.0000 - fp: 0.0000e+00 - tn: 241.0000 - fn: 160.0000 - precision: 1.0000 - recall: 0.1061\n",
      "Epoch 4/60\n",
      "6/6 [==============================] - 0s 11ms/step - loss: 0.8511 - tp: 19.0000 - fp: 0.0000e+00 - tn: 241.0000 - fn: 160.0000 - precision: 1.0000 - recall: 0.1061\n",
      "Epoch 5/60\n",
      "6/6 [==============================] - 0s 12ms/step - loss: 0.5524 - tp: 11.0000 - fp: 0.0000e+00 - tn: 241.0000 - fn: 168.0000 - precision: 1.0000 - recall: 0.0615\n",
      "Epoch 6/60\n",
      "6/6 [==============================] - ETA: 0s - loss: 0.4642 - tp: 0.0000e+00 - fp: 0.0000e+00 - tn: 241.0000 - fn: 179.0000 - precision: 0.0000e+00 - recall: 0.0000e+00**** Waring: precision recall zero avoid exception ****\n",
      "6/6 [==============================] - 0s 11ms/step - loss: 0.4642 - tp: 0.0000e+00 - fp: 0.0000e+00 - tn: 241.0000 - fn: 179.0000 - precision: 0.0000e+00 - recall: 0.0000e+00\n",
      "Epoch 7/60\n",
      "6/6 [==============================] - ETA: 0s - loss: 0.3750 - tp: 0.0000e+00 - fp: 0.0000e+00 - tn: 241.0000 - fn: 179.0000 - precision: 0.0000e+00 - recall: 0.0000e+00**** Waring: precision recall zero avoid exception ****\n",
      "6/6 [==============================] - 0s 11ms/step - loss: 0.3750 - tp: 0.0000e+00 - fp: 0.0000e+00 - tn: 241.0000 - fn: 179.0000 - precision: 0.0000e+00 - recall: 0.0000e+00\n",
      "Epoch 8/60\n",
      "6/6 [==============================] - ETA: 0s - loss: 0.3311 - tp: 0.0000e+00 - fp: 0.0000e+00 - tn: 241.0000 - fn: 179.0000 - precision: 0.0000e+00 - recall: 0.0000e+00**** Waring: precision recall zero avoid exception ****\n",
      "6/6 [==============================] - 0s 10ms/step - loss: 0.3311 - tp: 0.0000e+00 - fp: 0.0000e+00 - tn: 241.0000 - fn: 179.0000 - precision: 0.0000e+00 - recall: 0.0000e+00\n",
      "Epoch 9/60\n",
      "6/6 [==============================] - ETA: 0s - loss: 0.3027 - tp: 0.0000e+00 - fp: 0.0000e+00 - tn: 241.0000 - fn: 179.0000 - precision: 0.0000e+00 - recall: 0.0000e+00**** Waring: precision recall zero avoid exception ****\n",
      "6/6 [==============================] - 0s 11ms/step - loss: 0.3027 - tp: 0.0000e+00 - fp: 0.0000e+00 - tn: 241.0000 - fn: 179.0000 - precision: 0.0000e+00 - recall: 0.0000e+00\n",
      "Epoch 10/60\n",
      "6/6 [==============================] - ETA: 0s - loss: 0.2864 - tp: 0.0000e+00 - fp: 0.0000e+00 - tn: 241.0000 - fn: 179.0000 - precision: 0.0000e+00 - recall: 0.0000e+00**** Waring: precision recall zero avoid exception ****\n",
      "6/6 [==============================] - 0s 12ms/step - loss: 0.2864 - tp: 0.0000e+00 - fp: 0.0000e+00 - tn: 241.0000 - fn: 179.0000 - precision: 0.0000e+00 - recall: 0.0000e+00\n",
      "Epoch 11/60\n",
      "6/6 [==============================] - ETA: 0s - loss: 0.2776 - tp: 0.0000e+00 - fp: 0.0000e+00 - tn: 241.0000 - fn: 179.0000 - precision: 0.0000e+00 - recall: 0.0000e+00**** Waring: precision recall zero avoid exception ****\n",
      "6/6 [==============================] - 0s 10ms/step - loss: 0.2776 - tp: 0.0000e+00 - fp: 0.0000e+00 - tn: 241.0000 - fn: 179.0000 - precision: 0.0000e+00 - recall: 0.0000e+00\n",
      "Epoch 12/60\n",
      "1/6 [====>.........................] - ETA: 0s - loss: 0.2791 - tp: 0.0000e+00 - fp: 0.0000e+00 - tn: 31.0000 - fn: 39.0000 - precision: 0.0000e+00 - recall: 0.0000e+00**** Waring: precision recall zero avoid exception ****\n",
      "6/6 [==============================] - 0s 10ms/step - loss: 0.2721 - tp: 0.0000e+00 - fp: 0.0000e+00 - tn: 241.0000 - fn: 179.0000 - precision: 0.0000e+00 - recall: 0.0000e+00\n",
      "Epoch 13/60\n",
      "6/6 [==============================] - ETA: 0s - loss: 0.2691 - tp: 0.0000e+00 - fp: 0.0000e+00 - tn: 241.0000 - fn: 179.0000 - precision: 0.0000e+00 - recall: 0.0000e+00**** Waring: precision recall zero avoid exception ****\n",
      "6/6 [==============================] - 0s 11ms/step - loss: 0.2691 - tp: 0.0000e+00 - fp: 0.0000e+00 - tn: 241.0000 - fn: 179.0000 - precision: 0.0000e+00 - recall: 0.0000e+00\n",
      "Epoch 14/60\n",
      "6/6 [==============================] - ETA: 0s - loss: 0.2671 - tp: 0.0000e+00 - fp: 0.0000e+00 - tn: 241.0000 - fn: 179.0000 - precision: 0.0000e+00 - recall: 0.0000e+00**** Waring: precision recall zero avoid exception ****\n",
      "6/6 [==============================] - 0s 12ms/step - loss: 0.2671 - tp: 0.0000e+00 - fp: 0.0000e+00 - tn: 241.0000 - fn: 179.0000 - precision: 0.0000e+00 - recall: 0.0000e+00\n",
      "Epoch 15/60\n",
      "6/6 [==============================] - ETA: 0s - loss: 0.2662 - tp: 0.0000e+00 - fp: 0.0000e+00 - tn: 241.0000 - fn: 179.0000 - precision: 0.0000e+00 - recall: 0.0000e+00**** Waring: precision recall zero avoid exception ****\n",
      "6/6 [==============================] - 0s 11ms/step - loss: 0.2662 - tp: 0.0000e+00 - fp: 0.0000e+00 - tn: 241.0000 - fn: 179.0000 - precision: 0.0000e+00 - recall: 0.0000e+00\n",
      "Epoch 16/60\n",
      "6/6 [==============================] - ETA: 0s - loss: 0.2659 - tp: 0.0000e+00 - fp: 0.0000e+00 - tn: 241.0000 - fn: 179.0000 - precision: 0.0000e+00 - recall: 0.0000e+00**** Waring: precision recall zero avoid exception ****\n",
      "6/6 [==============================] - 0s 10ms/step - loss: 0.2659 - tp: 0.0000e+00 - fp: 0.0000e+00 - tn: 241.0000 - fn: 179.0000 - precision: 0.0000e+00 - recall: 0.0000e+00\n",
      "Epoch 17/60\n",
      "6/6 [==============================] - ETA: 0s - loss: 0.2659 - tp: 0.0000e+00 - fp: 0.0000e+00 - tn: 241.0000 - fn: 179.0000 - precision: 0.0000e+00 - recall: 0.0000e+00**** Waring: precision recall zero avoid exception ****\n",
      "6/6 [==============================] - 0s 10ms/step - loss: 0.2659 - tp: 0.0000e+00 - fp: 0.0000e+00 - tn: 241.0000 - fn: 179.0000 - precision: 0.0000e+00 - recall: 0.0000e+00\n",
      "Epoch 18/60\n",
      "1/6 [====>.........................] - ETA: 0s - loss: 0.2701 - tp: 0.0000e+00 - fp: 0.0000e+00 - tn: 35.0000 - fn: 35.0000 - precision: 0.0000e+00 - recall: 0.0000e+00**** Waring: precision recall zero avoid exception ****\n",
      "6/6 [==============================] - 0s 10ms/step - loss: 0.2655 - tp: 0.0000e+00 - fp: 0.0000e+00 - tn: 241.0000 - fn: 179.0000 - precision: 0.0000e+00 - recall: 0.0000e+00\n",
      "Epoch 19/60\n",
      "1/6 [====>.........................] - ETA: 0s - loss: 0.2683 - tp: 0.0000e+00 - fp: 0.0000e+00 - tn: 36.0000 - fn: 34.0000 - precision: 0.0000e+00 - recall: 0.0000e+00**** Waring: precision recall zero avoid exception ****\n",
      "6/6 [==============================] - 0s 10ms/step - loss: 0.2652 - tp: 0.0000e+00 - fp: 0.0000e+00 - tn: 241.0000 - fn: 179.0000 - precision: 0.0000e+00 - recall: 0.0000e+00\n",
      "Epoch 20/60\n",
      "1/6 [====>.........................] - ETA: 0s - loss: 0.2659 - tp: 0.0000e+00 - fp: 0.0000e+00 - tn: 39.0000 - fn: 31.0000 - precision: 0.0000e+00 - recall: 0.0000e+00**** Waring: precision recall zero avoid exception ****\n",
      "6/6 [==============================] - 0s 10ms/step - loss: 0.2648 - tp: 0.0000e+00 - fp: 0.0000e+00 - tn: 241.0000 - fn: 179.0000 - precision: 0.0000e+00 - recall: 0.0000e+00\n",
      "Epoch 21/60\n",
      "6/6 [==============================] - ETA: 0s - loss: 0.2649 - tp: 0.0000e+00 - fp: 0.0000e+00 - tn: 241.0000 - fn: 179.0000 - precision: 0.0000e+00 - recall: 0.0000e+00**** Waring: precision recall zero avoid exception ****\n",
      "6/6 [==============================] - 0s 11ms/step - loss: 0.2649 - tp: 0.0000e+00 - fp: 0.0000e+00 - tn: 241.0000 - fn: 179.0000 - precision: 0.0000e+00 - recall: 0.0000e+00\n",
      "Epoch 22/60\n",
      "1/6 [====>.........................] - ETA: 0s - loss: 0.2623 - tp: 0.0000e+00 - fp: 0.0000e+00 - tn: 42.0000 - fn: 28.0000 - precision: 0.0000e+00 - recall: 0.0000e+00**** Waring: precision recall zero avoid exception ****\n",
      "6/6 [==============================] - 0s 10ms/step - loss: 0.2641 - tp: 0.0000e+00 - fp: 0.0000e+00 - tn: 241.0000 - fn: 179.0000 - precision: 0.0000e+00 - recall: 0.0000e+00\n",
      "Epoch 23/60\n",
      "1/6 [====>.........................] - ETA: 0s - loss: 0.2636 - tp: 0.0000e+00 - fp: 0.0000e+00 - tn: 40.0000 - fn: 30.0000 - precision: 0.0000e+00 - recall: 0.0000e+00**** Waring: precision recall zero avoid exception ****\n",
      "6/6 [==============================] - 0s 10ms/step - loss: 0.2639 - tp: 0.0000e+00 - fp: 0.0000e+00 - tn: 241.0000 - fn: 179.0000 - precision: 0.0000e+00 - recall: 0.0000e+00\n",
      "Epoch 24/60\n",
      "1/6 [====>.........................] - ETA: 0s - loss: 0.2611 - tp: 0.0000e+00 - fp: 0.0000e+00 - tn: 42.0000 - fn: 28.0000 - precision: 0.0000e+00 - recall: 0.0000e+00**** Waring: precision recall zero avoid exception ****\n",
      "6/6 [==============================] - 0s 10ms/step - loss: 0.2639 - tp: 0.0000e+00 - fp: 0.0000e+00 - tn: 241.0000 - fn: 179.0000 - precision: 0.0000e+00 - recall: 0.0000e+00\n",
      "Epoch 25/60\n",
      "1/6 [====>.........................] - ETA: 0s - loss: 0.2629 - tp: 0.0000e+00 - fp: 0.0000e+00 - tn: 41.0000 - fn: 29.0000 - precision: 0.0000e+00 - recall: 0.0000e+00**** Waring: precision recall zero avoid exception ****\n",
      "6/6 [==============================] - 0s 10ms/step - loss: 0.2637 - tp: 0.0000e+00 - fp: 0.0000e+00 - tn: 241.0000 - fn: 179.0000 - precision: 0.0000e+00 - recall: 0.0000e+00\n",
      "Epoch 26/60\n",
      "1/6 [====>.........................] - ETA: 0s - loss: 0.2747 - tp: 0.0000e+00 - fp: 0.0000e+00 - tn: 29.0000 - fn: 41.0000 - precision: 0.0000e+00 - recall: 0.0000e+00**** Waring: precision recall zero avoid exception ****\n",
      "6/6 [==============================] - 0s 9ms/step - loss: 0.2642 - tp: 0.0000e+00 - fp: 0.0000e+00 - tn: 241.0000 - fn: 179.0000 - precision: 0.0000e+00 - recall: 0.0000e+00\n",
      "Epoch 27/60\n",
      "1/6 [====>.........................] - ETA: 0s - loss: 0.2625 - tp: 0.0000e+00 - fp: 0.0000e+00 - tn: 40.0000 - fn: 30.0000 - precision: 0.0000e+00 - recall: 0.0000e+00**** Waring: precision recall zero avoid exception ****\n",
      "6/6 [==============================] - 0s 9ms/step - loss: 0.2640 - tp: 0.0000e+00 - fp: 0.0000e+00 - tn: 241.0000 - fn: 179.0000 - precision: 0.0000e+00 - recall: 0.0000e+00\n",
      "Epoch 28/60\n",
      "1/6 [====>.........................] - ETA: 0s - loss: 0.2643 - tp: 0.0000e+00 - fp: 0.0000e+00 - tn: 41.0000 - fn: 29.0000 - precision: 0.0000e+00 - recall: 0.0000e+00**** Waring: precision recall zero avoid exception ****\n",
      "6/6 [==============================] - 0s 10ms/step - loss: 0.2648 - tp: 0.0000e+00 - fp: 0.0000e+00 - tn: 241.0000 - fn: 179.0000 - precision: 0.0000e+00 - recall: 0.0000e+00\n",
      "Epoch 29/60\n",
      "6/6 [==============================] - ETA: 0s - loss: 0.2644 - tp: 0.0000e+00 - fp: 0.0000e+00 - tn: 241.0000 - fn: 179.0000 - precision: 0.0000e+00 - recall: 0.0000e+00**** Waring: precision recall zero avoid exception ****\n",
      "6/6 [==============================] - 0s 11ms/step - loss: 0.2644 - tp: 0.0000e+00 - fp: 0.0000e+00 - tn: 241.0000 - fn: 179.0000 - precision: 0.0000e+00 - recall: 0.0000e+00\n",
      "Epoch 30/60\n",
      "6/6 [==============================] - ETA: 0s - loss: 0.2643 - tp: 0.0000e+00 - fp: 0.0000e+00 - tn: 241.0000 - fn: 179.0000 - precision: 0.0000e+00 - recall: 0.0000e+00**** Waring: precision recall zero avoid exception ****\n",
      "6/6 [==============================] - 0s 10ms/step - loss: 0.2643 - tp: 0.0000e+00 - fp: 0.0000e+00 - tn: 241.0000 - fn: 179.0000 - precision: 0.0000e+00 - recall: 0.0000e+00\n",
      "Epoch 31/60\n",
      "6/6 [==============================] - ETA: 0s - loss: 0.2638 - tp: 0.0000e+00 - fp: 0.0000e+00 - tn: 241.0000 - fn: 179.0000 - precision: 0.0000e+00 - recall: 0.0000e+00**** Waring: precision recall zero avoid exception ****\n",
      "6/6 [==============================] - 0s 11ms/step - loss: 0.2638 - tp: 0.0000e+00 - fp: 0.0000e+00 - tn: 241.0000 - fn: 179.0000 - precision: 0.0000e+00 - recall: 0.0000e+00\n",
      "Epoch 32/60\n",
      "6/6 [==============================] - ETA: 0s - loss: 0.2631 - tp: 0.0000e+00 - fp: 0.0000e+00 - tn: 241.0000 - fn: 179.0000 - precision: 0.0000e+00 - recall: 0.0000e+00**** Waring: precision recall zero avoid exception ****\n",
      "6/6 [==============================] - 0s 11ms/step - loss: 0.2631 - tp: 0.0000e+00 - fp: 0.0000e+00 - tn: 241.0000 - fn: 179.0000 - precision: 0.0000e+00 - recall: 0.0000e+00\n",
      "Epoch 33/60\n",
      "1/6 [====>.........................] - ETA: 0s - loss: 0.2641 - tp: 0.0000e+00 - fp: 0.0000e+00 - tn: 39.0000 - fn: 31.0000 - precision: 0.0000e+00 - recall: 0.0000e+00**** Waring: precision recall zero avoid exception ****\n",
      "6/6 [==============================] - 0s 10ms/step - loss: 0.2633 - tp: 0.0000e+00 - fp: 0.0000e+00 - tn: 241.0000 - fn: 179.0000 - precision: 0.0000e+00 - recall: 0.0000e+00\n",
      "Epoch 34/60\n",
      "1/6 [====>.........................] - ETA: 0s - loss: 0.2530 - tp: 0.0000e+00 - fp: 0.0000e+00 - tn: 49.0000 - fn: 21.0000 - precision: 0.0000e+00 - recall: 0.0000e+00**** Waring: precision recall zero avoid exception ****\n",
      "6/6 [==============================] - 0s 9ms/step - loss: 0.2629 - tp: 0.0000e+00 - fp: 0.0000e+00 - tn: 241.0000 - fn: 179.0000 - precision: 0.0000e+00 - recall: 0.0000e+00\n",
      "Epoch 35/60\n",
      "1/6 [====>.........................] - ETA: 0s - loss: 0.2585 - tp: 0.0000e+00 - fp: 0.0000e+00 - tn: 44.0000 - fn: 26.0000 - precision: 0.0000e+00 - recall: 0.0000e+00**** Waring: precision recall zero avoid exception ****\n",
      "6/6 [==============================] - 0s 9ms/step - loss: 0.2630 - tp: 0.0000e+00 - fp: 0.0000e+00 - tn: 241.0000 - fn: 179.0000 - precision: 0.0000e+00 - recall: 0.0000e+00\n",
      "Epoch 36/60\n",
      "1/6 [====>.........................] - ETA: 0s - loss: 0.2643 - tp: 0.0000e+00 - fp: 0.0000e+00 - tn: 38.0000 - fn: 32.0000 - precision: 0.0000e+00 - recall: 0.0000e+00**** Waring: precision recall zero avoid exception ****\n",
      "6/6 [==============================] - 0s 9ms/step - loss: 0.2623 - tp: 0.0000e+00 - fp: 0.0000e+00 - tn: 241.0000 - fn: 179.0000 - precision: 0.0000e+00 - recall: 0.0000e+00\n",
      "Epoch 37/60\n",
      "6/6 [==============================] - ETA: 0s - loss: 0.2632 - tp: 0.0000e+00 - fp: 0.0000e+00 - tn: 241.0000 - fn: 179.0000 - precision: 0.0000e+00 - recall: 0.0000e+00**** Waring: precision recall zero avoid exception ****\n",
      "6/6 [==============================] - 0s 11ms/step - loss: 0.2632 - tp: 0.0000e+00 - fp: 0.0000e+00 - tn: 241.0000 - fn: 179.0000 - precision: 0.0000e+00 - recall: 0.0000e+00\n",
      "Epoch 38/60\n",
      "6/6 [==============================] - ETA: 0s - loss: 0.2628 - tp: 0.0000e+00 - fp: 0.0000e+00 - tn: 241.0000 - fn: 179.0000 - precision: 0.0000e+00 - recall: 0.0000e+00**** Waring: precision recall zero avoid exception ****\n",
      "6/6 [==============================] - 0s 10ms/step - loss: 0.2628 - tp: 0.0000e+00 - fp: 0.0000e+00 - tn: 241.0000 - fn: 179.0000 - precision: 0.0000e+00 - recall: 0.0000e+00\n",
      "Epoch 39/60\n",
      "6/6 [==============================] - ETA: 0s - loss: 0.2619 - tp: 0.0000e+00 - fp: 0.0000e+00 - tn: 241.0000 - fn: 179.0000 - precision: 0.0000e+00 - recall: 0.0000e+00**** Waring: precision recall zero avoid exception ****\n",
      "6/6 [==============================] - 0s 10ms/step - loss: 0.2619 - tp: 0.0000e+00 - fp: 0.0000e+00 - tn: 241.0000 - fn: 179.0000 - precision: 0.0000e+00 - recall: 0.0000e+00\n",
      "Epoch 40/60\n",
      "1/6 [====>.........................] - ETA: 0s - loss: 0.2615 - tp: 0.0000e+00 - fp: 0.0000e+00 - tn: 41.0000 - fn: 29.0000 - precision: 0.0000e+00 - recall: 0.0000e+00**** Waring: precision recall zero avoid exception ****\n",
      "6/6 [==============================] - 0s 10ms/step - loss: 0.2619 - tp: 0.0000e+00 - fp: 0.0000e+00 - tn: 241.0000 - fn: 179.0000 - precision: 0.0000e+00 - recall: 0.0000e+00\n",
      "Epoch 41/60\n",
      "1/6 [====>.........................] - ETA: 0s - loss: 0.2627 - tp: 0.0000e+00 - fp: 0.0000e+00 - tn: 39.0000 - fn: 31.0000 - precision: 0.0000e+00 - recall: 0.0000e+00**** Waring: precision recall zero avoid exception ****\n",
      "6/6 [==============================] - 0s 9ms/step - loss: 0.2625 - tp: 0.0000e+00 - fp: 0.0000e+00 - tn: 241.0000 - fn: 179.0000 - precision: 0.0000e+00 - recall: 0.0000e+00\n",
      "Epoch 42/60\n",
      "1/6 [====>.........................] - ETA: 0s - loss: 0.2558 - tp: 0.0000e+00 - fp: 0.0000e+00 - tn: 49.0000 - fn: 21.0000 - precision: 0.0000e+00 - recall: 0.0000e+00**** Waring: precision recall zero avoid exception ****\n",
      "6/6 [==============================] - 0s 9ms/step - loss: 0.2621 - tp: 0.0000e+00 - fp: 0.0000e+00 - tn: 241.0000 - fn: 179.0000 - precision: 0.0000e+00 - recall: 0.0000e+00\n",
      "Epoch 43/60\n",
      "1/6 [====>.........................] - ETA: 0s - loss: 0.2607 - tp: 0.0000e+00 - fp: 0.0000e+00 - tn: 41.0000 - fn: 29.0000 - precision: 0.0000e+00 - recall: 0.0000e+00**** Waring: precision recall zero avoid exception ****\n",
      "6/6 [==============================] - 0s 9ms/step - loss: 0.2613 - tp: 0.0000e+00 - fp: 0.0000e+00 - tn: 241.0000 - fn: 179.0000 - precision: 0.0000e+00 - recall: 0.0000e+00\n",
      "Epoch 44/60\n",
      "6/6 [==============================] - ETA: 0s - loss: 0.2603 - tp: 0.0000e+00 - fp: 0.0000e+00 - tn: 241.0000 - fn: 179.0000 - precision: 0.0000e+00 - recall: 0.0000e+00**** Waring: precision recall zero avoid exception ****\n",
      "6/6 [==============================] - 0s 10ms/step - loss: 0.2603 - tp: 0.0000e+00 - fp: 0.0000e+00 - tn: 241.0000 - fn: 179.0000 - precision: 0.0000e+00 - recall: 0.0000e+00\n",
      "Epoch 45/60\n",
      "6/6 [==============================] - ETA: 0s - loss: 0.2598 - tp: 0.0000e+00 - fp: 0.0000e+00 - tn: 241.0000 - fn: 179.0000 - precision: 0.0000e+00 - recall: 0.0000e+00**** Waring: precision recall zero avoid exception ****\n",
      "6/6 [==============================] - 0s 10ms/step - loss: 0.2598 - tp: 0.0000e+00 - fp: 0.0000e+00 - tn: 241.0000 - fn: 179.0000 - precision: 0.0000e+00 - recall: 0.0000e+00\n",
      "Epoch 46/60\n",
      "6/6 [==============================] - 0s 9ms/step - loss: 0.2605 - tp: 2.0000 - fp: 0.0000e+00 - tn: 241.0000 - fn: 177.0000 - precision: 1.0000 - recall: 0.0112      \n",
      "Epoch 47/60\n",
      "6/6 [==============================] - 0s 9ms/step - loss: 0.2593 - tp: 3.0000 - fp: 0.0000e+00 - tn: 241.0000 - fn: 176.0000 - precision: 1.0000 - recall: 0.0168      \n",
      "Epoch 48/60\n",
      "6/6 [==============================] - 0s 9ms/step - loss: 0.2585 - tp: 43.0000 - fp: 0.0000e+00 - tn: 241.0000 - fn: 136.0000 - precision: 1.0000 - recall: 0.2402     \n",
      "Epoch 49/60\n",
      "6/6 [==============================] - 0s 10ms/step - loss: 0.2584 - tp: 79.0000 - fp: 3.0000 - tn: 238.0000 - fn: 100.0000 - precision: 0.9634 - recall: 0.4413\n",
      "Epoch 50/60\n",
      "6/6 [==============================] - 0s 10ms/step - loss: 0.2581 - tp: 98.0000 - fp: 5.0000 - tn: 236.0000 - fn: 81.0000 - precision: 0.9515 - recall: 0.5475\n",
      "Epoch 51/60\n",
      "6/6 [==============================] - ETA: 0s - loss: 0.2582 - tp: 103.0000 - fp: 5.0000 - tn: 236.0000 - fn: 76.0000 - precision: 0.9537 - recall: 0.5754\n",
      "\n",
      "******* Stoping on Defined Thresold *******\n",
      "F1 TRAINING:  0.7177700453575432\n",
      "Recall TRAINING:  0.575419008731842\n",
      "6/6 [==============================] - 0s 10ms/step - loss: 0.2582 - tp: 103.0000 - fp: 5.0000 - tn: 236.0000 - fn: 76.0000 - precision: 0.9537 - recall: 0.5754\n",
      "\n",
      "\n",
      "\n",
      "****** Early Stopping *******\n",
      "38/38 [==============================] - 0s 3ms/step\n",
      "0.6721893491124261\n",
      "0.7691666666666667\n",
      "error_rate: 0.00020450314634381966\n",
      "0.9999999999999983\n",
      " =========== iteration ===========>: 8\n"
     ]
    },
    {
     "name": "stderr",
     "output_type": "stream",
     "text": [
      "2022-11-14 01:40:56.291517: I tensorflow/core/grappler/optimizers/custom_graph_optimizer_registry.cc:114] Plugin optimizer for device_type GPU is enabled.\n"
     ]
    },
    {
     "name": "stdout",
     "output_type": "stream",
     "text": [
      "bfore traning:  47.85714285714286\n",
      "Epoch 1/60\n",
      "1/6 [====>.........................] - ETA: 1s - loss: 5.9418 - tp: 8.0000 - fp: 6.0000 - tn: 28.0000 - fn: 28.0000 - precision: 0.5714 - recall: 0.2222"
     ]
    },
    {
     "name": "stderr",
     "output_type": "stream",
     "text": [
      "2022-11-14 01:40:56.701319: I tensorflow/core/grappler/optimizers/custom_graph_optimizer_registry.cc:114] Plugin optimizer for device_type GPU is enabled.\n"
     ]
    },
    {
     "name": "stdout",
     "output_type": "stream",
     "text": [
      "6/6 [==============================] - 0s 16ms/step - loss: 4.3751 - tp: 86.0000 - fp: 71.0000 - tn: 148.0000 - fn: 115.0000 - precision: 0.5478 - recall: 0.4279\n",
      "Epoch 2/60\n",
      "6/6 [==============================] - 0s 14ms/step - loss: 1.7714 - tp: 63.0000 - fp: 24.0000 - tn: 195.0000 - fn: 138.0000 - precision: 0.7241 - recall: 0.3134\n",
      "Epoch 3/60\n",
      "6/6 [==============================] - 0s 12ms/step - loss: 0.9529 - tp: 71.0000 - fp: 0.0000e+00 - tn: 219.0000 - fn: 130.0000 - precision: 1.0000 - recall: 0.3532\n",
      "Epoch 4/60\n",
      "6/6 [==============================] - 0s 11ms/step - loss: 0.8513 - tp: 55.0000 - fp: 0.0000e+00 - tn: 219.0000 - fn: 146.0000 - precision: 1.0000 - recall: 0.2736\n",
      "Epoch 5/60\n",
      "6/6 [==============================] - 0s 10ms/step - loss: 0.5541 - tp: 32.0000 - fp: 0.0000e+00 - tn: 219.0000 - fn: 169.0000 - precision: 1.0000 - recall: 0.1592\n",
      "Epoch 6/60\n",
      "6/6 [==============================] - 0s 11ms/step - loss: 0.4649 - tp: 3.0000 - fp: 0.0000e+00 - tn: 219.0000 - fn: 198.0000 - precision: 1.0000 - recall: 0.0149\n",
      "Epoch 7/60\n",
      "6/6 [==============================] - ETA: 0s - loss: 0.3771 - tp: 0.0000e+00 - fp: 0.0000e+00 - tn: 219.0000 - fn: 201.0000 - precision: 0.0000e+00 - recall: 0.0000e+00**** Waring: precision recall zero avoid exception ****\n",
      "6/6 [==============================] - 0s 10ms/step - loss: 0.3771 - tp: 0.0000e+00 - fp: 0.0000e+00 - tn: 219.0000 - fn: 201.0000 - precision: 0.0000e+00 - recall: 0.0000e+00\n",
      "Epoch 8/60\n",
      "6/6 [==============================] - 0s 10ms/step - loss: 0.3326 - tp: 1.0000 - fp: 0.0000e+00 - tn: 219.0000 - fn: 200.0000 - precision: 1.0000 - recall: 0.0050\n",
      "Epoch 9/60\n",
      "1/6 [====>.........................] - ETA: 0s - loss: 0.3149 - tp: 0.0000e+00 - fp: 0.0000e+00 - tn: 35.0000 - fn: 35.0000 - precision: 0.0000e+00 - recall: 0.0000e+00**** Waring: precision recall zero avoid exception ****\n",
      "6/6 [==============================] - 0s 10ms/step - loss: 0.3044 - tp: 0.0000e+00 - fp: 0.0000e+00 - tn: 219.0000 - fn: 201.0000 - precision: 0.0000e+00 - recall: 0.0000e+00\n",
      "Epoch 10/60\n",
      "6/6 [==============================] - ETA: 0s - loss: 0.2886 - tp: 0.0000e+00 - fp: 0.0000e+00 - tn: 219.0000 - fn: 201.0000 - precision: 0.0000e+00 - recall: 0.0000e+00**** Waring: precision recall zero avoid exception ****\n",
      "6/6 [==============================] - 0s 10ms/step - loss: 0.2886 - tp: 0.0000e+00 - fp: 0.0000e+00 - tn: 219.0000 - fn: 201.0000 - precision: 0.0000e+00 - recall: 0.0000e+00\n",
      "Epoch 11/60\n",
      "6/6 [==============================] - ETA: 0s - loss: 0.2791 - tp: 0.0000e+00 - fp: 0.0000e+00 - tn: 219.0000 - fn: 201.0000 - precision: 0.0000e+00 - recall: 0.0000e+00**** Waring: precision recall zero avoid exception ****\n",
      "6/6 [==============================] - 0s 10ms/step - loss: 0.2791 - tp: 0.0000e+00 - fp: 0.0000e+00 - tn: 219.0000 - fn: 201.0000 - precision: 0.0000e+00 - recall: 0.0000e+00\n",
      "Epoch 12/60\n",
      "6/6 [==============================] - ETA: 0s - loss: 0.2743 - tp: 0.0000e+00 - fp: 0.0000e+00 - tn: 219.0000 - fn: 201.0000 - precision: 0.0000e+00 - recall: 0.0000e+00**** Waring: precision recall zero avoid exception ****\n",
      "6/6 [==============================] - 0s 10ms/step - loss: 0.2743 - tp: 0.0000e+00 - fp: 0.0000e+00 - tn: 219.0000 - fn: 201.0000 - precision: 0.0000e+00 - recall: 0.0000e+00\n",
      "Epoch 13/60\n",
      "6/6 [==============================] - ETA: 0s - loss: 0.2717 - tp: 0.0000e+00 - fp: 0.0000e+00 - tn: 219.0000 - fn: 201.0000 - precision: 0.0000e+00 - recall: 0.0000e+00**** Waring: precision recall zero avoid exception ****\n",
      "6/6 [==============================] - 0s 11ms/step - loss: 0.2717 - tp: 0.0000e+00 - fp: 0.0000e+00 - tn: 219.0000 - fn: 201.0000 - precision: 0.0000e+00 - recall: 0.0000e+00\n",
      "Epoch 14/60\n",
      "6/6 [==============================] - ETA: 0s - loss: 0.2697 - tp: 0.0000e+00 - fp: 0.0000e+00 - tn: 219.0000 - fn: 201.0000 - precision: 0.0000e+00 - recall: 0.0000e+00**** Waring: precision recall zero avoid exception ****\n",
      "6/6 [==============================] - 0s 11ms/step - loss: 0.2697 - tp: 0.0000e+00 - fp: 0.0000e+00 - tn: 219.0000 - fn: 201.0000 - precision: 0.0000e+00 - recall: 0.0000e+00\n",
      "Epoch 15/60\n",
      "6/6 [==============================] - ETA: 0s - loss: 0.2679 - tp: 0.0000e+00 - fp: 0.0000e+00 - tn: 219.0000 - fn: 201.0000 - precision: 0.0000e+00 - recall: 0.0000e+00**** Waring: precision recall zero avoid exception ****\n",
      "6/6 [==============================] - 0s 11ms/step - loss: 0.2679 - tp: 0.0000e+00 - fp: 0.0000e+00 - tn: 219.0000 - fn: 201.0000 - precision: 0.0000e+00 - recall: 0.0000e+00\n",
      "Epoch 16/60\n",
      "6/6 [==============================] - ETA: 0s - loss: 0.2677 - tp: 0.0000e+00 - fp: 0.0000e+00 - tn: 219.0000 - fn: 201.0000 - precision: 0.0000e+00 - recall: 0.0000e+00**** Waring: precision recall zero avoid exception ****\n",
      "6/6 [==============================] - 0s 11ms/step - loss: 0.2677 - tp: 0.0000e+00 - fp: 0.0000e+00 - tn: 219.0000 - fn: 201.0000 - precision: 0.0000e+00 - recall: 0.0000e+00\n",
      "Epoch 17/60\n",
      "6/6 [==============================] - ETA: 0s - loss: 0.2678 - tp: 0.0000e+00 - fp: 0.0000e+00 - tn: 219.0000 - fn: 201.0000 - precision: 0.0000e+00 - recall: 0.0000e+00**** Waring: precision recall zero avoid exception ****\n",
      "6/6 [==============================] - 0s 10ms/step - loss: 0.2678 - tp: 0.0000e+00 - fp: 0.0000e+00 - tn: 219.0000 - fn: 201.0000 - precision: 0.0000e+00 - recall: 0.0000e+00\n",
      "Epoch 18/60\n",
      "1/6 [====>.........................] - ETA: 0s - loss: 0.2654 - tp: 0.0000e+00 - fp: 0.0000e+00 - tn: 44.0000 - fn: 26.0000 - precision: 0.0000e+00 - recall: 0.0000e+00**** Waring: precision recall zero avoid exception ****\n",
      "6/6 [==============================] - 0s 10ms/step - loss: 0.2683 - tp: 0.0000e+00 - fp: 0.0000e+00 - tn: 219.0000 - fn: 201.0000 - precision: 0.0000e+00 - recall: 0.0000e+00\n",
      "Epoch 19/60\n",
      "1/6 [====>.........................] - ETA: 0s - loss: 0.2670 - tp: 0.0000e+00 - fp: 0.0000e+00 - tn: 39.0000 - fn: 31.0000 - precision: 0.0000e+00 - recall: 0.0000e+00**** Waring: precision recall zero avoid exception ****\n",
      "6/6 [==============================] - 0s 10ms/step - loss: 0.2683 - tp: 0.0000e+00 - fp: 0.0000e+00 - tn: 219.0000 - fn: 201.0000 - precision: 0.0000e+00 - recall: 0.0000e+00\n",
      "Epoch 20/60\n",
      "1/6 [====>.........................] - ETA: 0s - loss: 0.2668 - tp: 0.0000e+00 - fp: 0.0000e+00 - tn: 38.0000 - fn: 32.0000 - precision: 0.0000e+00 - recall: 0.0000e+00**** Waring: precision recall zero avoid exception ****\n",
      "6/6 [==============================] - 0s 10ms/step - loss: 0.2678 - tp: 0.0000e+00 - fp: 0.0000e+00 - tn: 219.0000 - fn: 201.0000 - precision: 0.0000e+00 - recall: 0.0000e+00\n",
      "Epoch 21/60\n",
      "6/6 [==============================] - ETA: 0s - loss: 0.2675 - tp: 0.0000e+00 - fp: 0.0000e+00 - tn: 219.0000 - fn: 201.0000 - precision: 0.0000e+00 - recall: 0.0000e+00**** Waring: precision recall zero avoid exception ****\n",
      "6/6 [==============================] - 0s 11ms/step - loss: 0.2675 - tp: 0.0000e+00 - fp: 0.0000e+00 - tn: 219.0000 - fn: 201.0000 - precision: 0.0000e+00 - recall: 0.0000e+00\n",
      "Epoch 22/60\n",
      "1/6 [====>.........................] - ETA: 0s - loss: 0.2693 - tp: 0.0000e+00 - fp: 0.0000e+00 - tn: 30.0000 - fn: 40.0000 - precision: 0.0000e+00 - recall: 0.0000e+00**** Waring: precision recall zero avoid exception ****\n",
      "6/6 [==============================] - 0s 10ms/step - loss: 0.2678 - tp: 0.0000e+00 - fp: 0.0000e+00 - tn: 219.0000 - fn: 201.0000 - precision: 0.0000e+00 - recall: 0.0000e+00\n",
      "Epoch 23/60\n",
      "6/6 [==============================] - 0s 10ms/step - loss: 0.2676 - tp: 1.0000 - fp: 0.0000e+00 - tn: 219.0000 - fn: 200.0000 - precision: 1.0000 - recall: 0.0050\n",
      "Epoch 24/60\n",
      "6/6 [==============================] - 0s 10ms/step - loss: 0.2675 - tp: 2.0000 - fp: 0.0000e+00 - tn: 219.0000 - fn: 199.0000 - precision: 1.0000 - recall: 0.0100\n",
      "Epoch 25/60\n",
      "6/6 [==============================] - 0s 15ms/step - loss: 0.2678 - tp: 1.0000 - fp: 0.0000e+00 - tn: 219.0000 - fn: 200.0000 - precision: 1.0000 - recall: 0.0050\n",
      "Epoch 26/60\n",
      "6/6 [==============================] - 0s 11ms/step - loss: 0.2682 - tp: 3.0000 - fp: 0.0000e+00 - tn: 219.0000 - fn: 198.0000 - precision: 1.0000 - recall: 0.0149\n",
      "Epoch 27/60\n",
      "6/6 [==============================] - 0s 11ms/step - loss: 0.2680 - tp: 7.0000 - fp: 0.0000e+00 - tn: 219.0000 - fn: 194.0000 - precision: 1.0000 - recall: 0.0348\n",
      "Epoch 28/60\n",
      "6/6 [==============================] - 0s 11ms/step - loss: 0.2677 - tp: 25.0000 - fp: 0.0000e+00 - tn: 219.0000 - fn: 176.0000 - precision: 1.0000 - recall: 0.1244\n",
      "Epoch 29/60\n",
      "6/6 [==============================] - 0s 9ms/step - loss: 0.2677 - tp: 43.0000 - fp: 0.0000e+00 - tn: 219.0000 - fn: 158.0000 - precision: 1.0000 - recall: 0.2139\n",
      "Epoch 30/60\n",
      "6/6 [==============================] - 0s 11ms/step - loss: 0.2678 - tp: 50.0000 - fp: 1.0000 - tn: 218.0000 - fn: 151.0000 - precision: 0.9804 - recall: 0.2488\n",
      "Epoch 31/60\n",
      "6/6 [==============================] - 0s 11ms/step - loss: 0.2671 - tp: 65.0000 - fp: 2.0000 - tn: 217.0000 - fn: 136.0000 - precision: 0.9701 - recall: 0.3234\n",
      "Epoch 32/60\n",
      "6/6 [==============================] - 0s 11ms/step - loss: 0.2672 - tp: 63.0000 - fp: 1.0000 - tn: 218.0000 - fn: 138.0000 - precision: 0.9844 - recall: 0.3134\n",
      "Epoch 33/60\n",
      "6/6 [==============================] - 0s 11ms/step - loss: 0.2673 - tp: 75.0000 - fp: 1.0000 - tn: 218.0000 - fn: 126.0000 - precision: 0.9868 - recall: 0.3731\n",
      "Epoch 34/60\n",
      "6/6 [==============================] - 0s 10ms/step - loss: 0.2669 - tp: 78.0000 - fp: 3.0000 - tn: 216.0000 - fn: 123.0000 - precision: 0.9630 - recall: 0.3881\n",
      "Epoch 35/60\n",
      "6/6 [==============================] - 0s 12ms/step - loss: 0.2673 - tp: 91.0000 - fp: 5.0000 - tn: 214.0000 - fn: 110.0000 - precision: 0.9479 - recall: 0.4527\n",
      "Epoch 36/60\n",
      "6/6 [==============================] - 0s 11ms/step - loss: 0.2673 - tp: 87.0000 - fp: 6.0000 - tn: 213.0000 - fn: 114.0000 - precision: 0.9355 - recall: 0.4328\n",
      "Epoch 37/60\n",
      "6/6 [==============================] - 0s 10ms/step - loss: 0.2674 - tp: 90.0000 - fp: 7.0000 - tn: 212.0000 - fn: 111.0000 - precision: 0.9278 - recall: 0.4478\n",
      "Epoch 38/60\n",
      "6/6 [==============================] - 0s 11ms/step - loss: 0.2675 - tp: 90.0000 - fp: 7.0000 - tn: 212.0000 - fn: 111.0000 - precision: 0.9278 - recall: 0.4478\n",
      "Epoch 39/60\n",
      "6/6 [==============================] - 0s 10ms/step - loss: 0.2671 - tp: 93.0000 - fp: 7.0000 - tn: 212.0000 - fn: 108.0000 - precision: 0.9300 - recall: 0.4627\n",
      "Epoch 40/60\n",
      "6/6 [==============================] - 0s 9ms/step - loss: 0.2665 - tp: 95.0000 - fp: 7.0000 - tn: 212.0000 - fn: 106.0000 - precision: 0.9314 - recall: 0.4726\n",
      "Epoch 41/60\n",
      "6/6 [==============================] - 0s 10ms/step - loss: 0.2667 - tp: 93.0000 - fp: 9.0000 - tn: 210.0000 - fn: 108.0000 - precision: 0.9118 - recall: 0.4627\n",
      "Epoch 42/60\n",
      "6/6 [==============================] - 0s 11ms/step - loss: 0.2670 - tp: 100.0000 - fp: 9.0000 - tn: 210.0000 - fn: 101.0000 - precision: 0.9174 - recall: 0.4975\n",
      "Epoch 43/60\n",
      "6/6 [==============================] - 0s 12ms/step - loss: 0.2665 - tp: 93.0000 - fp: 10.0000 - tn: 209.0000 - fn: 108.0000 - precision: 0.9029 - recall: 0.4627\n",
      "Epoch 44/60\n",
      "6/6 [==============================] - 0s 11ms/step - loss: 0.2671 - tp: 101.0000 - fp: 10.0000 - tn: 209.0000 - fn: 100.0000 - precision: 0.9099 - recall: 0.5025\n",
      "Epoch 45/60\n",
      "6/6 [==============================] - 0s 10ms/step - loss: 0.2667 - tp: 105.0000 - fp: 11.0000 - tn: 208.0000 - fn: 96.0000 - precision: 0.9052 - recall: 0.5224\n",
      "Epoch 46/60\n",
      "6/6 [==============================] - 0s 10ms/step - loss: 0.2662 - tp: 99.0000 - fp: 10.0000 - tn: 209.0000 - fn: 102.0000 - precision: 0.9083 - recall: 0.4925\n",
      "Epoch 47/60\n",
      "6/6 [==============================] - 0s 10ms/step - loss: 0.2657 - tp: 106.0000 - fp: 11.0000 - tn: 208.0000 - fn: 95.0000 - precision: 0.9060 - recall: 0.5274\n",
      "Epoch 48/60\n",
      "6/6 [==============================] - 0s 10ms/step - loss: 0.2651 - tp: 104.0000 - fp: 11.0000 - tn: 208.0000 - fn: 97.0000 - precision: 0.9043 - recall: 0.5174\n",
      "Epoch 49/60\n",
      "6/6 [==============================] - 0s 11ms/step - loss: 0.2645 - tp: 109.0000 - fp: 11.0000 - tn: 208.0000 - fn: 92.0000 - precision: 0.9083 - recall: 0.5423\n",
      "Epoch 50/60\n",
      "6/6 [==============================] - 0s 11ms/step - loss: 0.2643 - tp: 109.0000 - fp: 11.0000 - tn: 208.0000 - fn: 92.0000 - precision: 0.9083 - recall: 0.5423\n",
      "Epoch 51/60\n",
      "1/6 [====>.........................] - ETA: 0s - loss: 0.2605 - tp: 17.0000 - fp: 3.0000 - tn: 37.0000 - fn: 13.0000 - precision: 0.8500 - recall: 0.5667\n",
      "\n",
      "******* Stoping on Defined Thresold *******\n",
      "F1 TRAINING:  0.6953845960075333\n",
      "Recall TRAINING:  0.5621890425682068\n",
      "6/6 [==============================] - 0s 10ms/step - loss: 0.2645 - tp: 113.0000 - fp: 11.0000 - tn: 208.0000 - fn: 88.0000 - precision: 0.9113 - recall: 0.5622\n",
      "\n",
      "\n",
      "\n",
      "****** Early Stopping *******\n",
      "38/38 [==============================] - 0s 3ms/step\n",
      "0.7346024636058232\n",
      "0.8025\n",
      "error_rate: 0.0001987048141016981\n",
      "0.9999999999999896\n",
      " =========== iteration ===========>: 9\n"
     ]
    },
    {
     "name": "stderr",
     "output_type": "stream",
     "text": [
      "2022-11-14 01:41:00.476170: I tensorflow/core/grappler/optimizers/custom_graph_optimizer_registry.cc:114] Plugin optimizer for device_type GPU is enabled.\n"
     ]
    },
    {
     "name": "stdout",
     "output_type": "stream",
     "text": [
      "bfore traning:  49.76190476190476\n",
      "Epoch 1/60\n"
     ]
    },
    {
     "name": "stderr",
     "output_type": "stream",
     "text": [
      "2022-11-14 01:41:01.031019: I tensorflow/core/grappler/optimizers/custom_graph_optimizer_registry.cc:114] Plugin optimizer for device_type GPU is enabled.\n"
     ]
    },
    {
     "name": "stdout",
     "output_type": "stream",
     "text": [
      "3/6 [==============>...............] - ETA: 0s - loss: 5.2721 - tp: 85.0000 - fp: 93.0000 - tn: 19.0000 - fn: 13.0000 - precision: 0.4775 - recall: 0.8673\n",
      "\n",
      "******* Stoping on Defined Thresold *******\n",
      "F1 TRAINING:  0.6510791612886297\n",
      "Recall TRAINING:  0.8660287857055664\n",
      "6/6 [==============================] - 1s 20ms/step - loss: 4.3852 - tp: 181.0000 - fp: 166.0000 - tn: 45.0000 - fn: 28.0000 - precision: 0.5216 - recall: 0.8660\n",
      "\n",
      "\n",
      "\n",
      "****** Early Stopping *******\n",
      "38/38 [==============================] - 0s 3ms/step\n",
      "0.6626666666666667\n",
      "0.5783333333333334\n",
      "error_rate: 0.00034666423118379157\n",
      "1.0000000000000033\n",
      " =========== iteration ===========>: 10\n",
      "bfore traning:  45.23809523809524\n",
      "Epoch 1/60\n"
     ]
    },
    {
     "name": "stderr",
     "output_type": "stream",
     "text": [
      "2022-11-14 01:41:01.434863: I tensorflow/core/grappler/optimizers/custom_graph_optimizer_registry.cc:114] Plugin optimizer for device_type GPU is enabled.\n"
     ]
    },
    {
     "name": "stdout",
     "output_type": "stream",
     "text": [
      "1/6 [====>.........................] - ETA: 2s - loss: 5.9500 - tp: 0.0000e+00 - fp: 0.0000e+00 - tn: 44.0000 - fn: 26.0000 - precision: 0.0000e+00 - recall: 0.0000e+00"
     ]
    },
    {
     "name": "stderr",
     "output_type": "stream",
     "text": [
      "2022-11-14 01:41:01.850583: I tensorflow/core/grappler/optimizers/custom_graph_optimizer_registry.cc:114] Plugin optimizer for device_type GPU is enabled.\n"
     ]
    },
    {
     "name": "stdout",
     "output_type": "stream",
     "text": [
      "4/6 [===================>..........] - ETA: 0s - loss: 4.9678 - tp: 0.0000e+00 - fp: 0.0000e+00 - tn: 160.0000 - fn: 120.0000 - precision: 0.0000e+00 - recall: 0.0000e+00**** Waring: precision recall zero avoid exception ****\n",
      "6/6 [==============================] - 0s 15ms/step - loss: 4.4012 - tp: 0.0000e+00 - fp: 0.0000e+00 - tn: 230.0000 - fn: 190.0000 - precision: 0.0000e+00 - recall: 0.0000e+00\n",
      "Epoch 2/60\n",
      "4/6 [===================>..........] - ETA: 0s - loss: 2.0684 - tp: 0.0000e+00 - fp: 0.0000e+00 - tn: 148.0000 - fn: 132.0000 - precision: 0.0000e+00 - recall: 0.0000e+00**** Waring: precision recall zero avoid exception ****\n",
      "6/6 [==============================] - 0s 17ms/step - loss: 1.8031 - tp: 0.0000e+00 - fp: 0.0000e+00 - tn: 230.0000 - fn: 190.0000 - precision: 0.0000e+00 - recall: 0.0000e+00\n",
      "Epoch 3/60\n",
      "6/6 [==============================] - ETA: 0s - loss: 0.9532 - tp: 0.0000e+00 - fp: 0.0000e+00 - tn: 230.0000 - fn: 190.0000 - precision: 0.0000e+00 - recall: 0.0000e+00**** Waring: precision recall zero avoid exception ****\n",
      "6/6 [==============================] - 0s 12ms/step - loss: 0.9532 - tp: 0.0000e+00 - fp: 0.0000e+00 - tn: 230.0000 - fn: 190.0000 - precision: 0.0000e+00 - recall: 0.0000e+00\n",
      "Epoch 4/60\n",
      "6/6 [==============================] - ETA: 0s - loss: 0.8512 - tp: 0.0000e+00 - fp: 0.0000e+00 - tn: 230.0000 - fn: 190.0000 - precision: 0.0000e+00 - recall: 0.0000e+00**** Waring: precision recall zero avoid exception ****\n",
      "6/6 [==============================] - 0s 11ms/step - loss: 0.8512 - tp: 0.0000e+00 - fp: 0.0000e+00 - tn: 230.0000 - fn: 190.0000 - precision: 0.0000e+00 - recall: 0.0000e+00\n",
      "Epoch 5/60\n",
      "6/6 [==============================] - 0s 10ms/step - loss: 0.5624 - tp: 32.0000 - fp: 0.0000e+00 - tn: 230.0000 - fn: 158.0000 - precision: 1.0000 - recall: 0.1684    \n",
      "Epoch 6/60\n",
      "6/6 [==============================] - 0s 9ms/step - loss: 0.4627 - tp: 81.0000 - fp: 0.0000e+00 - tn: 230.0000 - fn: 109.0000 - precision: 1.0000 - recall: 0.4263\n",
      "Epoch 7/60\n",
      "6/6 [==============================] - 0s 10ms/step - loss: 0.3768 - tp: 73.0000 - fp: 0.0000e+00 - tn: 230.0000 - fn: 117.0000 - precision: 1.0000 - recall: 0.3842\n",
      "Epoch 8/60\n",
      "6/6 [==============================] - 0s 11ms/step - loss: 0.3322 - tp: 73.0000 - fp: 0.0000e+00 - tn: 230.0000 - fn: 117.0000 - precision: 1.0000 - recall: 0.3842\n",
      "Epoch 9/60\n",
      "6/6 [==============================] - 0s 11ms/step - loss: 0.3049 - tp: 75.0000 - fp: 0.0000e+00 - tn: 230.0000 - fn: 115.0000 - precision: 1.0000 - recall: 0.3947\n",
      "Epoch 10/60\n",
      "6/6 [==============================] - 0s 12ms/step - loss: 0.2890 - tp: 75.0000 - fp: 0.0000e+00 - tn: 230.0000 - fn: 115.0000 - precision: 1.0000 - recall: 0.3947\n",
      "Epoch 11/60\n",
      "6/6 [==============================] - 0s 11ms/step - loss: 0.2813 - tp: 72.0000 - fp: 0.0000e+00 - tn: 230.0000 - fn: 118.0000 - precision: 1.0000 - recall: 0.3789\n",
      "Epoch 12/60\n",
      "6/6 [==============================] - 0s 11ms/step - loss: 0.2759 - tp: 63.0000 - fp: 0.0000e+00 - tn: 230.0000 - fn: 127.0000 - precision: 1.0000 - recall: 0.3316\n",
      "Epoch 13/60\n",
      "6/6 [==============================] - 0s 11ms/step - loss: 0.2732 - tp: 80.0000 - fp: 0.0000e+00 - tn: 230.0000 - fn: 110.0000 - precision: 1.0000 - recall: 0.4211\n",
      "Epoch 14/60\n",
      "6/6 [==============================] - 0s 11ms/step - loss: 0.2693 - tp: 84.0000 - fp: 0.0000e+00 - tn: 230.0000 - fn: 106.0000 - precision: 1.0000 - recall: 0.4421\n",
      "Epoch 15/60\n",
      "6/6 [==============================] - 0s 11ms/step - loss: 0.2684 - tp: 80.0000 - fp: 0.0000e+00 - tn: 230.0000 - fn: 110.0000 - precision: 1.0000 - recall: 0.4211\n",
      "Epoch 16/60\n",
      "6/6 [==============================] - 0s 11ms/step - loss: 0.2679 - tp: 78.0000 - fp: 0.0000e+00 - tn: 230.0000 - fn: 112.0000 - precision: 1.0000 - recall: 0.4105\n",
      "Epoch 17/60\n",
      "6/6 [==============================] - 0s 10ms/step - loss: 0.2695 - tp: 98.0000 - fp: 1.0000 - tn: 229.0000 - fn: 92.0000 - precision: 0.9899 - recall: 0.5158\n",
      "Epoch 18/60\n",
      "6/6 [==============================] - 0s 12ms/step - loss: 0.2681 - tp: 89.0000 - fp: 0.0000e+00 - tn: 230.0000 - fn: 101.0000 - precision: 1.0000 - recall: 0.4684\n",
      "Epoch 19/60\n",
      "6/6 [==============================] - 0s 11ms/step - loss: 0.2681 - tp: 97.0000 - fp: 1.0000 - tn: 229.0000 - fn: 93.0000 - precision: 0.9898 - recall: 0.5105\n",
      "Epoch 20/60\n",
      "6/6 [==============================] - 0s 11ms/step - loss: 0.2678 - tp: 91.0000 - fp: 0.0000e+00 - tn: 230.0000 - fn: 99.0000 - precision: 1.0000 - recall: 0.4789\n",
      "Epoch 21/60\n",
      "6/6 [==============================] - ETA: 0s - loss: 0.2680 - tp: 117.0000 - fp: 1.0000 - tn: 229.0000 - fn: 73.0000 - precision: 0.9915 - recall: 0.6158  \n",
      "\n",
      "******* Stoping on Defined Thresold *******\n",
      "F1 TRAINING:  0.7597402557039526\n",
      "Recall TRAINING:  0.6157894730567932\n",
      "6/6 [==============================] - 0s 11ms/step - loss: 0.2680 - tp: 117.0000 - fp: 1.0000 - tn: 229.0000 - fn: 73.0000 - precision: 0.9915 - recall: 0.6158\n",
      "\n",
      "\n",
      "\n",
      "****** Early Stopping *******\n",
      "38/38 [==============================] - 0s 3ms/step\n",
      "0.6714801444043321\n",
      "0.7725\n",
      "error_rate: 0.0002262941147267283\n",
      "0.9999999999999989\n",
      " =========== iteration ===========>: 11\n"
     ]
    },
    {
     "name": "stderr",
     "output_type": "stream",
     "text": [
      "2022-11-14 01:41:03.622143: I tensorflow/core/grappler/optimizers/custom_graph_optimizer_registry.cc:114] Plugin optimizer for device_type GPU is enabled.\n"
     ]
    },
    {
     "name": "stdout",
     "output_type": "stream",
     "text": [
      "bfore traning:  48.80952380952381\n",
      "Epoch 1/60\n"
     ]
    },
    {
     "name": "stderr",
     "output_type": "stream",
     "text": [
      "2022-11-14 01:41:04.034099: I tensorflow/core/grappler/optimizers/custom_graph_optimizer_registry.cc:114] Plugin optimizer for device_type GPU is enabled.\n"
     ]
    },
    {
     "name": "stdout",
     "output_type": "stream",
     "text": [
      "4/6 [===================>..........] - ETA: 0s - loss: 4.9667 - tp: 117.0000 - fp: 110.0000 - tn: 37.0000 - fn: 16.0000 - precision: 0.5154 - recall: 0.8797\n",
      "\n",
      "******* Stoping on Defined Thresold *******\n",
      "F1 TRAINING:  0.6641791215941133\n",
      "Recall TRAINING:  0.8682926893234253\n",
      "6/6 [==============================] - 1s 18ms/step - loss: 4.3951 - tp: 178.0000 - fp: 153.0000 - tn: 62.0000 - fn: 27.0000 - precision: 0.5378 - recall: 0.8683\n",
      "\n",
      "\n",
      "\n",
      "****** Early Stopping *******\n",
      "38/38 [==============================] - 0s 3ms/step\n",
      "0.688128772635815\n",
      "0.6125\n",
      "error_rate: 0.00032325010908524645\n",
      "1.000000000000011\n"
     ]
    },
    {
     "name": "stderr",
     "output_type": "stream",
     "text": [
      "2022-11-14 01:41:04.422561: I tensorflow/core/grappler/optimizers/custom_graph_optimizer_registry.cc:114] Plugin optimizer for device_type GPU is enabled.\n"
     ]
    }
   ],
   "source": [
    "# plt.plot(initial_weight)\n",
    "boosting(initial_weight)"
   ],
   "metadata": {
    "collapsed": false,
    "pycharm": {
     "name": "#%%\n"
    }
   }
  },
  {
   "cell_type": "code",
   "execution_count": 23,
   "outputs": [
    {
     "data": {
      "text/plain": "[0.06858117125267017,\n 0.0783955518656667,\n 0.06935919662327784,\n 0.09313763194688227,\n 0.07247943815739744,\n 0.07775852285621321,\n 0.06984804660308806,\n 0.07220514272046141,\n 0.07244967737728393,\n 0.06771786082276912,\n 0.07134431388582597,\n 0.06831246765410273]"
     },
     "execution_count": 23,
     "metadata": {},
     "output_type": "execute_result"
    }
   ],
   "source": [
    "alphas"
   ],
   "metadata": {
    "collapsed": false,
    "pycharm": {
     "name": "#%%\n"
    }
   }
  },
  {
   "cell_type": "code",
   "execution_count": 24,
   "outputs": [],
   "source": [
    "from sklearn.metrics import ConfusionMatrixDisplay, confusion_matrix\n",
    "\n",
    "\n",
    "def repeat(test_split, test_result, start, end):\n",
    "    mx = 0\n",
    "    size = 0\n",
    "    data = []\n",
    "    f1=[]\n",
    "    for i in range(start,end):\n",
    "        data = some_pred(test_split, i)\n",
    "        tn, fp, fn, tp = confusion_matrix(test_result, data).ravel()\n",
    "        precision = tp / (tp+ fp)\n",
    "        recall = tp / (tp+ fn)\n",
    "        score = (2 * precision * recall) / (precision + recall)\n",
    "        print(score)\n",
    "        f1.append(score)\n",
    "        if mx < score:\n",
    "            mx = score\n",
    "            size = i\n",
    "        print(i)\n",
    "    print(mx,size)\n",
    "    return data, f1\n",
    "\n",
    "# a = ensemble[0].predict(test_split)\n",
    "\n",
    "def some_pred(test_split, esize):\n",
    "#     data = []\n",
    "    k = []\n",
    "#     for j in range(len(test_split)):\n",
    "#         pa=0\n",
    "#         na =0\n",
    "    for i in range(esize):\n",
    "        print('*********:', i)\n",
    "        k.append(ensemble[i].predict([test_split]))\n",
    "        # if pa >=na:\n",
    "        #     data.append(1)\n",
    "        # else:\n",
    "        #     data.append(0)\n",
    "    # f1.append(f1_score(test_result, data, average=\"macro\"))\n",
    "    # acc.append(accuracy_score(test_result, data))\n",
    "    return k"
   ],
   "metadata": {
    "collapsed": false,
    "pycharm": {
     "name": "#%%\n"
    }
   }
  },
  {
   "cell_type": "code",
   "execution_count": 24,
   "outputs": [],
   "source": [],
   "metadata": {
    "collapsed": false,
    "pycharm": {
     "name": "#%%\n"
    }
   }
  },
  {
   "cell_type": "code",
   "execution_count": 25,
   "outputs": [],
   "source": [
    "\n",
    "def majority(data):\n",
    "    ans =[]\n",
    "    for i in range(len(data[0])):\n",
    "        ap = 0\n",
    "        an = 0\n",
    "        for e in range(len(data)):\n",
    "            if data[e][i] >= .5:\n",
    "                ap += alphas[e]\n",
    "            else:\n",
    "                an += alphas[e]\n",
    "        if ap >= an:\n",
    "            ans.append(1)\n",
    "        else:\n",
    "            ans.append(0)\n",
    "    return ans\n"
   ],
   "metadata": {
    "collapsed": false,
    "pycharm": {
     "name": "#%%\n"
    }
   }
  },
  {
   "cell_type": "code",
   "execution_count": 26,
   "outputs": [],
   "source": [
    "def getf1(true, predicted):\n",
    "    tn, fp, fn, tp = confusion_matrix(true, predicted).ravel()\n",
    "    precision = tp / (tp+ fp)\n",
    "    recall = tp / (tp+ fn)\n",
    "    score = ( precision , recall, (2*precision*recall)/(precision+recall))\n",
    "    return score"
   ],
   "metadata": {
    "collapsed": false,
    "pycharm": {
     "name": "#%%\n"
    }
   }
  },
  {
   "cell_type": "code",
   "execution_count": 27,
   "outputs": [
    {
     "name": "stdout",
     "output_type": "stream",
     "text": [
      "*********: 0\n",
      "3/3 [==============================] - 0s 12ms/step\n",
      "*********: 0\n",
      "3/3 [==============================] - 0s 4ms/step\n",
      "*********: 1\n",
      "3/3 [==============================] - 0s 9ms/step\n"
     ]
    },
    {
     "name": "stderr",
     "output_type": "stream",
     "text": [
      "2022-11-14 01:41:12.161418: I tensorflow/core/grappler/optimizers/custom_graph_optimizer_registry.cc:114] Plugin optimizer for device_type GPU is enabled.\n",
      "2022-11-14 01:41:12.296159: I tensorflow/core/grappler/optimizers/custom_graph_optimizer_registry.cc:114] Plugin optimizer for device_type GPU is enabled.\n",
      "/var/folders/w9/17dx1py559xc12bhjgp9w4_80000gn/T/ipykernel_1586/354829567.py:3: RuntimeWarning: invalid value encountered in long_scalars\n",
      "  precision = tp / (tp+ fp)\n"
     ]
    },
    {
     "name": "stdout",
     "output_type": "stream",
     "text": [
      "*********: 0\n",
      "3/3 [==============================] - 0s 3ms/step\n",
      "*********: 1\n",
      "3/3 [==============================] - 0s 4ms/step\n",
      "*********: 2\n",
      "3/3 [==============================] - 0s 8ms/step\n",
      "*********: 0\n",
      "3/3 [==============================] - 0s 3ms/step\n",
      "*********: 1\n",
      "3/3 [==============================] - 0s 4ms/step\n",
      "*********: 2\n",
      "3/3 [==============================] - 0s 5ms/step\n"
     ]
    },
    {
     "name": "stderr",
     "output_type": "stream",
     "text": [
      "2022-11-14 01:41:12.478410: I tensorflow/core/grappler/optimizers/custom_graph_optimizer_registry.cc:114] Plugin optimizer for device_type GPU is enabled.\n"
     ]
    },
    {
     "name": "stdout",
     "output_type": "stream",
     "text": [
      "*********: 3\n",
      "3/3 [==============================] - 0s 11ms/step\n",
      "*********: 0\n",
      "3/3 [==============================] - 0s 5ms/step\n",
      "*********: 1\n",
      "3/3 [==============================] - 0s 4ms/step\n",
      "*********: 2\n",
      "3/3 [==============================] - 0s 4ms/step\n"
     ]
    },
    {
     "name": "stderr",
     "output_type": "stream",
     "text": [
      "2022-11-14 01:41:12.686132: I tensorflow/core/grappler/optimizers/custom_graph_optimizer_registry.cc:114] Plugin optimizer for device_type GPU is enabled.\n"
     ]
    },
    {
     "name": "stdout",
     "output_type": "stream",
     "text": [
      "*********: 3\n",
      "3/3 [==============================] - 0s 4ms/step\n",
      "*********: 4\n",
      "3/3 [==============================] - 0s 9ms/step\n",
      "*********: 0\n",
      "3/3 [==============================] - 0s 5ms/step\n",
      "*********: 1\n",
      "3/3 [==============================] - 0s 4ms/step\n",
      "*********: 2\n",
      "3/3 [==============================] - 0s 4ms/step\n"
     ]
    },
    {
     "name": "stderr",
     "output_type": "stream",
     "text": [
      "2022-11-14 01:41:12.972038: I tensorflow/core/grappler/optimizers/custom_graph_optimizer_registry.cc:114] Plugin optimizer for device_type GPU is enabled.\n"
     ]
    },
    {
     "name": "stdout",
     "output_type": "stream",
     "text": [
      "*********: 3\n",
      "3/3 [==============================] - 0s 5ms/step\n",
      "*********: 4\n",
      "3/3 [==============================] - 0s 6ms/step\n",
      "*********: 5\n",
      "3/3 [==============================] - 0s 7ms/step\n",
      "*********: 0\n",
      "3/3 [==============================] - 0s 4ms/step\n",
      "*********: 1\n",
      "3/3 [==============================] - 0s 4ms/step\n",
      "*********: 2\n",
      "3/3 [==============================] - 0s 3ms/step\n"
     ]
    },
    {
     "name": "stderr",
     "output_type": "stream",
     "text": [
      "2022-11-14 01:41:13.280644: I tensorflow/core/grappler/optimizers/custom_graph_optimizer_registry.cc:114] Plugin optimizer for device_type GPU is enabled.\n"
     ]
    },
    {
     "name": "stdout",
     "output_type": "stream",
     "text": [
      "*********: 3\n",
      "3/3 [==============================] - 0s 4ms/step\n",
      "*********: 4\n",
      "3/3 [==============================] - 0s 4ms/step\n",
      "*********: 5\n",
      "3/3 [==============================] - 0s 5ms/step\n",
      "*********: 6\n",
      "3/3 [==============================] - 0s 8ms/step\n",
      "*********: 0\n",
      "3/3 [==============================] - 0s 4ms/step\n",
      "*********: 1\n",
      "3/3 [==============================] - 0s 3ms/step\n",
      "*********: 2\n",
      "3/3 [==============================] - 0s 3ms/step\n",
      "*********: 3\n",
      "1/3 [=========>....................] - ETA: 0s"
     ]
    },
    {
     "name": "stderr",
     "output_type": "stream",
     "text": [
      "2022-11-14 01:41:13.636319: I tensorflow/core/grappler/optimizers/custom_graph_optimizer_registry.cc:114] Plugin optimizer for device_type GPU is enabled.\n"
     ]
    },
    {
     "name": "stdout",
     "output_type": "stream",
     "text": [
      "3/3 [==============================] - 0s 3ms/step\n",
      "*********: 4\n",
      "3/3 [==============================] - 0s 4ms/step\n",
      "*********: 5\n",
      "3/3 [==============================] - 0s 5ms/step\n",
      "*********: 6\n",
      "3/3 [==============================] - 0s 4ms/step\n",
      "*********: 7\n",
      "3/3 [==============================] - 0s 9ms/step\n",
      "*********: 0\n",
      "3/3 [==============================] - 0s 3ms/step\n",
      "*********: 1\n",
      "3/3 [==============================] - 0s 3ms/step\n",
      "*********: 2\n",
      "3/3 [==============================] - 0s 3ms/step\n",
      "*********: 3\n",
      "1/3 [=========>....................] - ETA: 0s"
     ]
    },
    {
     "name": "stderr",
     "output_type": "stream",
     "text": [
      "2022-11-14 01:41:14.011079: I tensorflow/core/grappler/optimizers/custom_graph_optimizer_registry.cc:114] Plugin optimizer for device_type GPU is enabled.\n"
     ]
    },
    {
     "name": "stdout",
     "output_type": "stream",
     "text": [
      "3/3 [==============================] - 0s 3ms/step\n",
      "*********: 4\n",
      "3/3 [==============================] - 0s 3ms/step\n",
      "*********: 5\n",
      "3/3 [==============================] - 0s 3ms/step\n",
      "*********: 6\n",
      "3/3 [==============================] - 0s 5ms/step\n",
      "*********: 7\n",
      "3/3 [==============================] - 0s 3ms/step\n",
      "*********: 8\n",
      "3/3 [==============================] - 0s 9ms/step\n",
      "*********: 0\n",
      "3/3 [==============================] - 0s 3ms/step\n",
      "*********: 1\n",
      "3/3 [==============================] - 0s 3ms/step\n",
      "*********: 2\n",
      "3/3 [==============================] - 0s 4ms/step\n"
     ]
    },
    {
     "name": "stderr",
     "output_type": "stream",
     "text": [
      "2022-11-14 01:41:14.433739: I tensorflow/core/grappler/optimizers/custom_graph_optimizer_registry.cc:114] Plugin optimizer for device_type GPU is enabled.\n"
     ]
    },
    {
     "name": "stdout",
     "output_type": "stream",
     "text": [
      "*********: 3\n",
      "3/3 [==============================] - 0s 3ms/step\n",
      "*********: 4\n",
      "3/3 [==============================] - 0s 6ms/step\n",
      "*********: 5\n",
      "3/3 [==============================] - 0s 4ms/step\n",
      "*********: 6\n",
      "3/3 [==============================] - 0s 4ms/step\n",
      "*********: 7\n",
      "3/3 [==============================] - 0s 5ms/step\n",
      "*********: 8\n",
      "3/3 [==============================] - 0s 4ms/step\n",
      "*********: 9\n",
      "3/3 [==============================] - 0s 8ms/step\n",
      "*********: 0\n",
      "3/3 [==============================] - 0s 3ms/step\n",
      "*********: 1\n",
      "3/3 [==============================] - 0s 3ms/step\n",
      "*********: 2\n",
      "3/3 [==============================] - 0s 3ms/step\n",
      "*********: 3\n",
      "3/3 [==============================] - 0s 3ms/step\n"
     ]
    },
    {
     "name": "stderr",
     "output_type": "stream",
     "text": [
      "2022-11-14 01:41:14.942493: I tensorflow/core/grappler/optimizers/custom_graph_optimizer_registry.cc:114] Plugin optimizer for device_type GPU is enabled.\n"
     ]
    },
    {
     "name": "stdout",
     "output_type": "stream",
     "text": [
      "*********: 4\n",
      "3/3 [==============================] - 0s 5ms/step\n",
      "*********: 5\n",
      "3/3 [==============================] - 0s 4ms/step\n",
      "*********: 6\n",
      "3/3 [==============================] - 0s 4ms/step\n",
      "*********: 7\n",
      "3/3 [==============================] - 0s 4ms/step\n",
      "*********: 8\n",
      "3/3 [==============================] - 0s 3ms/step\n",
      "*********: 9\n",
      "3/3 [==============================] - 0s 4ms/step\n",
      "*********: 10\n",
      "3/3 [==============================] - 0s 8ms/step\n",
      "*********: 0\n",
      "3/3 [==============================] - 0s 4ms/step\n",
      "*********: 1\n",
      "3/3 [==============================] - 0s 3ms/step\n",
      "*********: 2\n",
      "3/3 [==============================] - 0s 3ms/step\n",
      "*********: 3\n",
      "3/3 [==============================] - 0s 3ms/step\n"
     ]
    },
    {
     "name": "stderr",
     "output_type": "stream",
     "text": [
      "2022-11-14 01:41:15.439468: I tensorflow/core/grappler/optimizers/custom_graph_optimizer_registry.cc:114] Plugin optimizer for device_type GPU is enabled.\n"
     ]
    },
    {
     "name": "stdout",
     "output_type": "stream",
     "text": [
      "*********: 4\n",
      "3/3 [==============================] - 0s 4ms/step\n",
      "*********: 5\n",
      "3/3 [==============================] - 0s 3ms/step\n",
      "*********: 6\n",
      "3/3 [==============================] - 0s 4ms/step\n",
      "*********: 7\n",
      "3/3 [==============================] - 0s 4ms/step\n",
      "*********: 8\n",
      "3/3 [==============================] - 0s 4ms/step\n",
      "*********: 9\n",
      "3/3 [==============================] - 0s 4ms/step\n",
      "*********: 10\n",
      "3/3 [==============================] - 0s 3ms/step\n",
      "*********: 11\n",
      "3/3 [==============================] - 0s 9ms/step\n"
     ]
    },
    {
     "name": "stderr",
     "output_type": "stream",
     "text": [
      "2022-11-14 01:41:15.985808: I tensorflow/core/grappler/optimizers/custom_graph_optimizer_registry.cc:114] Plugin optimizer for device_type GPU is enabled.\n"
     ]
    }
   ],
   "source": [
    "f1_test = []\n",
    "acc_test = []\n",
    "for i in range(1,ensemble_size+1):\n",
    "    data = some_pred(test_split, i)\n",
    "    ans = majority(data)\n",
    "    f1_test.append(getf1(test_result, ans))\n",
    "    acc_test.append(accuracy_score(test_result, ans))"
   ],
   "metadata": {
    "collapsed": false,
    "pycharm": {
     "name": "#%%\n"
    }
   }
  },
  {
   "cell_type": "code",
   "execution_count": 28,
   "outputs": [
    {
     "name": "stdout",
     "output_type": "stream",
     "text": [
      "*********: 0\n",
      "38/38 [==============================] - 0s 3ms/step\n",
      "*********: 0\n",
      "38/38 [==============================] - 0s 3ms/step\n",
      "*********: 1\n",
      "38/38 [==============================] - 0s 3ms/step\n",
      "*********: 0\n",
      "38/38 [==============================] - 0s 3ms/step\n",
      "*********: 1\n",
      "38/38 [==============================] - 0s 3ms/step\n",
      "*********: 2\n",
      "38/38 [==============================] - 0s 3ms/step\n",
      "*********: 0\n",
      "38/38 [==============================] - 0s 3ms/step\n",
      "*********: 1\n",
      "38/38 [==============================] - 0s 3ms/step\n",
      "*********: 2\n",
      "38/38 [==============================] - 0s 3ms/step\n",
      "*********: 3\n",
      "38/38 [==============================] - 0s 3ms/step\n",
      "*********: 0\n",
      "38/38 [==============================] - 0s 3ms/step\n",
      "*********: 1\n",
      "38/38 [==============================] - 0s 2ms/step\n",
      "*********: 2\n",
      "38/38 [==============================] - 0s 3ms/step\n",
      "*********: 3\n",
      "38/38 [==============================] - 0s 3ms/step\n",
      "*********: 4\n",
      "38/38 [==============================] - 0s 3ms/step\n",
      "*********: 0\n",
      "38/38 [==============================] - 0s 3ms/step\n",
      "*********: 1\n",
      "38/38 [==============================] - 0s 3ms/step\n",
      "*********: 2\n",
      "38/38 [==============================] - 0s 3ms/step\n",
      "*********: 3\n",
      "38/38 [==============================] - 0s 3ms/step\n",
      "*********: 4\n",
      "38/38 [==============================] - 0s 3ms/step\n",
      "*********: 5\n",
      "38/38 [==============================] - 0s 3ms/step\n",
      "*********: 0\n",
      "38/38 [==============================] - 0s 3ms/step\n",
      "*********: 1\n",
      "38/38 [==============================] - 0s 3ms/step\n",
      "*********: 2\n",
      "38/38 [==============================] - 0s 3ms/step\n",
      "*********: 3\n",
      "38/38 [==============================] - 0s 3ms/step\n",
      "*********: 4\n",
      "38/38 [==============================] - 0s 2ms/step\n",
      "*********: 5\n",
      "38/38 [==============================] - 0s 2ms/step\n",
      "*********: 6\n",
      "38/38 [==============================] - 0s 3ms/step\n",
      "*********: 0\n",
      "38/38 [==============================] - 0s 2ms/step\n",
      "*********: 1\n",
      "38/38 [==============================] - 0s 3ms/step\n",
      "*********: 2\n",
      "38/38 [==============================] - 0s 3ms/step\n",
      "*********: 3\n",
      "38/38 [==============================] - 0s 2ms/step\n",
      "*********: 4\n",
      "38/38 [==============================] - 0s 3ms/step\n",
      "*********: 5\n",
      "38/38 [==============================] - 0s 2ms/step\n",
      "*********: 6\n",
      "38/38 [==============================] - 0s 3ms/step\n",
      "*********: 7\n",
      "38/38 [==============================] - 0s 3ms/step\n",
      "*********: 0\n",
      "38/38 [==============================] - 0s 2ms/step\n",
      "*********: 1\n",
      "38/38 [==============================] - 0s 3ms/step\n",
      "*********: 2\n",
      "38/38 [==============================] - 0s 2ms/step\n",
      "*********: 3\n",
      "38/38 [==============================] - 0s 3ms/step\n",
      "*********: 4\n",
      "38/38 [==============================] - 0s 2ms/step\n",
      "*********: 5\n",
      "38/38 [==============================] - 0s 2ms/step\n",
      "*********: 6\n",
      "38/38 [==============================] - 0s 2ms/step\n",
      "*********: 7\n",
      "38/38 [==============================] - 0s 3ms/step\n",
      "*********: 8\n",
      "38/38 [==============================] - 0s 3ms/step\n",
      "*********: 0\n",
      "38/38 [==============================] - 0s 2ms/step\n",
      "*********: 1\n",
      "38/38 [==============================] - 0s 3ms/step\n",
      "*********: 2\n",
      "38/38 [==============================] - 0s 3ms/step\n",
      "*********: 3\n",
      "38/38 [==============================] - 0s 2ms/step\n",
      "*********: 4\n",
      "38/38 [==============================] - 0s 3ms/step\n",
      "*********: 5\n",
      "38/38 [==============================] - 0s 2ms/step\n",
      "*********: 6\n",
      "38/38 [==============================] - 0s 2ms/step\n",
      "*********: 7\n",
      "38/38 [==============================] - 0s 3ms/step\n",
      "*********: 8\n",
      "38/38 [==============================] - 0s 3ms/step\n",
      "*********: 9\n",
      "38/38 [==============================] - 0s 3ms/step\n",
      "*********: 0\n",
      "38/38 [==============================] - 0s 3ms/step\n",
      "*********: 1\n",
      "38/38 [==============================] - 0s 3ms/step\n",
      "*********: 2\n",
      "38/38 [==============================] - 0s 3ms/step\n",
      "*********: 3\n",
      "38/38 [==============================] - 0s 3ms/step\n",
      "*********: 4\n",
      "38/38 [==============================] - 0s 2ms/step\n",
      "*********: 5\n",
      "38/38 [==============================] - 0s 2ms/step\n",
      "*********: 6\n",
      "38/38 [==============================] - 0s 2ms/step\n",
      "*********: 7\n",
      "38/38 [==============================] - 0s 2ms/step\n",
      "*********: 8\n",
      "38/38 [==============================] - 0s 3ms/step\n",
      "*********: 9\n",
      "38/38 [==============================] - 0s 3ms/step\n",
      "*********: 10\n",
      "38/38 [==============================] - 0s 3ms/step\n",
      "*********: 0\n",
      "38/38 [==============================] - 0s 3ms/step\n",
      "*********: 1\n",
      "38/38 [==============================] - 0s 3ms/step\n",
      "*********: 2\n",
      "38/38 [==============================] - 0s 2ms/step\n",
      "*********: 3\n",
      "38/38 [==============================] - 0s 3ms/step\n",
      "*********: 4\n",
      "38/38 [==============================] - 0s 2ms/step\n",
      "*********: 5\n",
      "38/38 [==============================] - 0s 2ms/step\n",
      "*********: 6\n",
      "38/38 [==============================] - 0s 3ms/step\n",
      "*********: 7\n",
      "38/38 [==============================] - 0s 3ms/step\n",
      "*********: 8\n",
      "38/38 [==============================] - 0s 2ms/step\n",
      "*********: 9\n",
      "38/38 [==============================] - 0s 3ms/step\n",
      "*********: 10\n",
      "38/38 [==============================] - 0s 3ms/step\n",
      "*********: 11\n",
      "38/38 [==============================] - 0s 3ms/step\n"
     ]
    }
   ],
   "source": [
    "f1_train = []\n",
    "acc_train = []\n",
    "for i in range(1,ensemble_size+1):\n",
    "    data = some_pred(training_split, i)\n",
    "    ans = majority(data)\n",
    "    f1_train.append(getf1(train_result, ans))\n",
    "    acc_train.append(accuracy_score(train_result, ans))\n",
    "    # ConfusionMatrixDisplay.from_predictions(test_result,ans,cmap='Greens')"
   ],
   "metadata": {
    "collapsed": false,
    "pycharm": {
     "name": "#%%\n"
    }
   }
  },
  {
   "cell_type": "code",
   "execution_count": 29,
   "outputs": [
    {
     "data": {
      "text/plain": "[<matplotlib.lines.Line2D at 0x296c92160>]"
     },
     "execution_count": 29,
     "metadata": {},
     "output_type": "execute_result"
    },
    {
     "data": {
      "text/plain": "<Figure size 640x480 with 1 Axes>",
      "image/png": "[encoded data removed]"
     },
     "metadata": {},
     "output_type": "display_data"
    }
   ],
   "source": [
    "\n",
    "plt.plot([i[0] for i in f1_train])\n",
    "plt.plot([i[0] for i in f1_test])\n",
    "# plt.plot()"
   ],
   "metadata": {
    "collapsed": false,
    "pycharm": {
     "name": "#%%\n"
    }
   }
  },
  {
   "cell_type": "code",
   "execution_count": 30,
   "outputs": [
    {
     "data": {
      "text/plain": "[<matplotlib.lines.Line2D at 0x29311b160>]"
     },
     "execution_count": 30,
     "metadata": {},
     "output_type": "execute_result"
    },
    {
     "data": {
      "text/plain": "<Figure size 640x480 with 1 Axes>",
      "image/png": "[encoded data removed]"
     },
     "metadata": {},
     "output_type": "display_data"
    }
   ],
   "source": [
    "plt.plot([i[1] for i in f1_train])\n",
    "plt.plot([i[1] for i in f1_test])"
   ],
   "metadata": {
    "collapsed": false,
    "pycharm": {
     "name": "#%%\n"
    }
   }
  },
  {
   "cell_type": "code",
   "execution_count": 31,
   "outputs": [
    {
     "data": {
      "text/plain": "[<matplotlib.lines.Line2D at 0x2931f3ca0>]"
     },
     "execution_count": 31,
     "metadata": {},
     "output_type": "execute_result"
    },
    {
     "data": {
      "text/plain": "<Figure size 640x480 with 1 Axes>",
      "image/png": "[encoded data removed]"
     },
     "metadata": {},
     "output_type": "display_data"
    }
   ],
   "source": [
    "plt.plot([i[2] for i in f1_train])\n",
    "plt.plot([i[2] for i in f1_test])"
   ],
   "metadata": {
    "collapsed": false,
    "pycharm": {
     "name": "#%%\n"
    }
   }
  },
  {
   "cell_type": "code",
   "execution_count": 32,
   "outputs": [
    {
     "data": {
      "text/plain": "[<matplotlib.lines.Line2D at 0x298a6a820>]"
     },
     "execution_count": 32,
     "metadata": {},
     "output_type": "execute_result"
    },
    {
     "data": {
      "text/plain": "<Figure size 640x480 with 1 Axes>",
      "image/png": "[encoded data removed]"
     },
     "metadata": {},
     "output_type": "display_data"
    }
   ],
   "source": [
    "plt.plot(acc_train)\n",
    "plt.plot(acc_test)"
   ],
   "metadata": {
    "collapsed": false,
    "pycharm": {
     "name": "#%%\n"
    }
   }
  },
  {
   "cell_type": "code",
   "execution_count": 1136,
   "outputs": [
    {
     "name": "stdout",
     "output_type": "stream",
     "text": [
      "*********: 0\n",
      "38/38 [==============================] - 0s 4ms/step\n",
      "*********: 1\n",
      "38/38 [==============================] - 0s 3ms/step\n",
      "*********: 2\n",
      "38/38 [==============================] - 0s 3ms/step\n",
      "*********: 3\n",
      "38/38 [==============================] - 0s 4ms/step\n",
      "*********: 4\n",
      "38/38 [==============================] - 0s 3ms/step\n",
      "*********: 5\n",
      "38/38 [==============================] - 0s 4ms/step\n",
      "*********: 0\n",
      "3/3 [==============================] - 0s 4ms/step\n",
      "*********: 1\n",
      "3/3 [==============================] - 0s 3ms/step\n",
      "*********: 2\n",
      "3/3 [==============================] - 0s 4ms/step\n",
      "*********: 3\n",
      "3/3 [==============================] - 0s 3ms/step\n",
      "*********: 4\n",
      "3/3 [==============================] - 0s 3ms/step\n",
      "*********: 5\n",
      "3/3 [==============================] - 0s 4ms/step\n"
     ]
    }
   ],
   "source": [
    "value = 5\n",
    "data = some_pred(training_split, value+1)\n",
    "ans = majority(data)\n",
    "data = some_pred(test_split, value +1)\n",
    "ans1 = majority(data)\n"
   ],
   "metadata": {
    "collapsed": false,
    "pycharm": {
     "name": "#%%\n"
    }
   }
  },
  {
   "cell_type": "code",
   "execution_count": 1137,
   "outputs": [
    {
     "data": {
      "text/plain": "<sklearn.metrics._plot.confusion_matrix.ConfusionMatrixDisplay at 0x88d8ce250>"
     },
     "execution_count": 1137,
     "metadata": {},
     "output_type": "execute_result"
    },
    {
     "data": {
      "text/plain": "<Figure size 640x480 with 2 Axes>",
      "image/png": "[encoded data removed]"
     },
     "metadata": {},
     "output_type": "display_data"
    },
    {
     "data": {
      "text/plain": "<Figure size 640x480 with 2 Axes>",
      "image/png": "[encoded data removed]"
     },
     "metadata": {},
     "output_type": "display_data"
    }
   ],
   "source": [
    "ConfusionMatrixDisplay.from_predictions(test_result,ans1,cmap='Greens')\n",
    "# plt.plot(f1_test)\n",
    "ConfusionMatrixDisplay.from_predictions(train_result,ans,cmap='Greens')"
   ],
   "metadata": {
    "collapsed": false,
    "pycharm": {
     "name": "#%%\n"
    }
   }
  },
  {
   "cell_type": "code",
   "execution_count": 33,
   "outputs": [
    {
     "name": "stdout",
     "output_type": "stream",
     "text": [
      "*********: 0\n",
      "38/38 [==============================] - 0s 3ms/step\n",
      "*********: 1\n",
      "38/38 [==============================] - 0s 3ms/step\n",
      "*********: 2\n",
      "38/38 [==============================] - 0s 3ms/step\n",
      "*********: 3\n",
      "38/38 [==============================] - 0s 3ms/step\n",
      "*********: 4\n",
      "38/38 [==============================] - 0s 3ms/step\n",
      "*********: 5\n",
      "38/38 [==============================] - 0s 3ms/step\n",
      "*********: 6\n",
      "38/38 [==============================] - 0s 3ms/step\n",
      "*********: 7\n",
      "38/38 [==============================] - 0s 2ms/step\n",
      "*********: 8\n",
      "38/38 [==============================] - 0s 3ms/step\n",
      "*********: 0\n",
      "3/3 [==============================] - 0s 3ms/step\n",
      "*********: 1\n",
      "3/3 [==============================] - 0s 3ms/step\n",
      "*********: 2\n",
      "3/3 [==============================] - 0s 3ms/step\n",
      "*********: 3\n",
      "3/3 [==============================] - 0s 4ms/step\n",
      "*********: 4\n",
      "3/3 [==============================] - 0s 3ms/step\n",
      "*********: 5\n",
      "3/3 [==============================] - 0s 3ms/step\n",
      "*********: 6\n",
      "3/3 [==============================] - 0s 3ms/step\n",
      "*********: 7\n",
      "3/3 [==============================] - 0s 3ms/step\n",
      "*********: 8\n",
      "3/3 [==============================] - 0s 3ms/step\n"
     ]
    }
   ],
   "source": [
    "value = 8\n",
    "data = some_pred(training_split, value+1)\n",
    "ans = majority(data)\n",
    "data = some_pred(test_split, value+1 )\n",
    "ans1 = majority(data)"
   ],
   "metadata": {
    "collapsed": false,
    "pycharm": {
     "name": "#%%\n"
    }
   }
  },
  {
   "cell_type": "code",
   "execution_count": 34,
   "outputs": [
    {
     "data": {
      "text/plain": "<sklearn.metrics._plot.confusion_matrix.ConfusionMatrixDisplay at 0x29186bee0>"
     },
     "execution_count": 34,
     "metadata": {},
     "output_type": "execute_result"
    },
    {
     "data": {
      "text/plain": "<Figure size 640x480 with 2 Axes>",
      "image/png": "[encoded data removed]"
     },
     "metadata": {},
     "output_type": "display_data"
    },
    {
     "data": {
      "text/plain": "<Figure size 640x480 with 2 Axes>",
      "image/png": "[encoded data removed]"
     },
     "metadata": {},
     "output_type": "display_data"
    }
   ],
   "source": [
    "ConfusionMatrixDisplay.from_predictions(test_result,ans1,cmap='Greens')\n",
    "# plt.plot(f1_test)\n",
    "ConfusionMatrixDisplay.from_predictions(train_result,ans,cmap='Greens')"
   ],
   "metadata": {
    "collapsed": false,
    "pycharm": {
     "name": "#%%\n"
    }
   }
  },
  {
   "cell_type": "code",
   "execution_count": 38,
   "outputs": [
    {
     "name": "stdout",
     "output_type": "stream",
     "text": [
      "*********: 0\n",
      "11/11 [==============================] - 0s 4ms/step\n",
      "*********: 1\n",
      "11/11 [==============================] - 0s 3ms/step\n",
      "*********: 2\n",
      "11/11 [==============================] - 0s 3ms/step\n",
      "*********: 3\n",
      "11/11 [==============================] - 0s 3ms/step\n",
      "*********: 4\n",
      "11/11 [==============================] - 0s 2ms/step\n",
      "*********: 5\n",
      "11/11 [==============================] - 0s 3ms/step\n",
      "*********: 6\n",
      "11/11 [==============================] - 0s 3ms/step\n",
      "*********: 7\n",
      "11/11 [==============================] - 0s 3ms/step\n",
      "*********: 8\n",
      "11/11 [==============================] - 0s 3ms/step\n"
     ]
    }
   ],
   "source": [
    "table_test = pd.read_table('./1663769555_8653905_test.txt', names=['sequence'])\n",
    "unlabeled_test = vectorizer_best.transform(table_test.sequence).toarray()\n",
    "predicted_data = majority(some_pred(unlabeled_test, 8+1))"
   ],
   "metadata": {
    "collapsed": false,
    "pycharm": {
     "name": "#%%\n"
    }
   }
  },
  {
   "cell_type": "code",
   "execution_count": 39,
   "outputs": [
    {
     "data": {
      "text/plain": "350"
     },
     "execution_count": 39,
     "metadata": {},
     "output_type": "execute_result"
    }
   ],
   "source": [
    "len(predicted_data)"
   ],
   "metadata": {
    "collapsed": false,
    "pycharm": {
     "name": "#%%\n"
    }
   }
  },
  {
   "cell_type": "code",
   "execution_count": 40,
   "outputs": [],
   "source": [
    "import csv\n",
    "outfile = open('./results.csv','w')\n",
    "out = csv.writer(outfile)\n",
    "out.writerows(map(lambda x: [x], predicted_data))\n",
    "outfile.close()"
   ],
   "metadata": {
    "collapsed": false,
    "pycharm": {
     "name": "#%%\n"
    }
   }
  },
  {
   "cell_type": "code",
   "execution_count": null,
   "outputs": [],
   "source": [],
   "metadata": {
    "collapsed": false,
    "pycharm": {
     "name": "#%%\n"
    }
   }
  }
 ],
 "metadata": {
  "kernelspec": {
   "display_name": "Python 3",
   "language": "python",
   "name": "python3"
  },
  "language_info": {
   "codemirror_mode": {
    "name": "ipython",
    "version": 2
   },
   "file_extension": ".py",
   "mimetype": "text/x-python",
   "name": "python",
   "nbconvert_exporter": "python",
   "pygments_lexer": "ipython2",
   "version": "2.7.6"
  }
 },
 "nbformat": 4,
 "nbformat_minor": 0
}