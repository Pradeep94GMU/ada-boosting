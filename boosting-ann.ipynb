{
 "cells": [
  {
   "cell_type": "code",
   "execution_count": 126,
   "metadata": {
    "pycharm": {
     "name": "#%%\n"
    }
   },
   "outputs": [],
   "source": [
    "import math\n",
    "import random\n",
    "import tensorflow as tf\n",
    "import pandas as pd\n",
    "import numpy as np\n",
    "import matplotlib.pyplot as plt\n",
    "import imblearn"
   ]
  },
  {
   "cell_type": "code",
   "execution_count": 127,
   "metadata": {
    "pycharm": {
     "name": "#%%\n"
    }
   },
   "outputs": [
    {
     "name": "stdout",
     "output_type": "stream",
     "text": [
      "2.10.0\n"
     ]
    }
   ],
   "source": [
    "print(tf.__version__)"
   ]
  },
  {
   "cell_type": "code",
   "execution_count": 128,
   "metadata": {
    "pycharm": {
     "name": "#%%\n"
    }
   },
   "outputs": [],
   "source": [
    "table = pd.read_table('./1663769555_8559356_train.txt', names=['binding','sequence'])"
   ]
  },
  {
   "cell_type": "code",
   "execution_count": 129,
   "metadata": {
    "pycharm": {
     "name": "#%%\n"
    }
   },
   "outputs": [],
   "source": [
    "from sklearn.feature_extraction.text import CountVectorizer\n",
    "def return_binary_vectorized_form(data_frame, feat = None):\n",
    "    if feat is None:\n",
    "        count_vectorizer = CountVectorizer(binary=True)\n",
    "    else:\n",
    "        count_vectorizer = CountVectorizer(binary=True, vocabulary=feat)\n",
    "    fitted_and_transformed = count_vectorizer.fit_transform(data_frame).toarray()\n",
    "    return count_vectorizer,  fitted_and_transformed"
   ]
  },
  {
   "cell_type": "code",
   "execution_count": 130,
   "metadata": {
    "pycharm": {
     "name": "#%%\n"
    }
   },
   "outputs": [],
   "source": [
    "from sklearn.feature_selection import SelectKBest, chi2\n",
    "def select_k_best_features(feature_set, target_values, fraction, feature_list):\n",
    "    select_bestselect_best = SelectKBest(score_func=chi2, k = int(len(feature_list)*fraction))\n",
    "    select_bestselect_best.fit(feature_set,target_values)\n",
    "    mask = select_bestselect_best.get_support()\n",
    "    k_best_featurs = feature_list[mask]\n",
    "    return k_best_featurs"
   ]
  },
  {
   "cell_type": "code",
   "execution_count": 131,
   "metadata": {
    "pycharm": {
     "name": "#%%\n"
    }
   },
   "outputs": [],
   "source": [
    "from sklearn.model_selection import train_test_split\n",
    "active_df = table.loc[table.binding == 1]\n",
    "not_active_df = table.loc[table.binding == 0]\n",
    "# Mainly spliting the data here for testing, that is the reason train size is set to .20\n",
    "active_train, active_test, active_binding_train, active_binding_test = train_test_split(active_df.sequence, active_df.binding, shuffle=True, train_size= .75)\n",
    "not_active_train, not_active_test, not_active_binding_train, not_active_binding_test = train_test_split(not_active_df.sequence, not_active_df.binding, shuffle=True, train_size=.90)"
   ]
  },
  {
   "cell_type": "code",
   "execution_count": 132,
   "metadata": {
    "pycharm": {
     "name": "#%%\n"
    }
   },
   "outputs": [],
   "source": [
    "def createDf(data):\n",
    "    pd_df = pd.DataFrame(data)\n",
    "    return pd_df\n",
    "def addColumn(copy_to, copy_from ,cname):\n",
    "    copy_to[cname] = copy_from[cname]\n",
    "    return copy_to"
   ]
  },
  {
   "cell_type": "code",
   "execution_count": 133,
   "outputs": [
    {
     "name": "stdout",
     "output_type": "stream",
     "text": [
      "0    649\n",
      "1     58\n",
      "Name: binding, dtype: int64\n",
      "0    73\n",
      "1    20\n",
      "Name: binding, dtype: int64\n"
     ]
    }
   ],
   "source": [
    "active_test_df = pd.DataFrame(active_test)\n",
    "active_binding_test_df = pd.DataFrame(active_binding_test)\n",
    "active_test_df['binding'] = active_binding_test_df['binding']\n",
    "not_active_test_df = pd.DataFrame(not_active_test)\n",
    "not_active_binding_test_df = pd.DataFrame(not_active_binding_test)\n",
    "not_active_test_df['binding'] = not_active_binding_test_df['binding']\n",
    "active_train_df = createDf(active_train)\n",
    "active_binding_train_df = createDf(active_binding_train)\n",
    "active_train_df = addColumn(active_train_df, active_binding_train_df, 'binding')\n",
    "not_active_train_df = createDf(not_active_train)\n",
    "not_active_binding_train_df = createDf(not_active_binding_train)\n",
    "not_active_train_df = addColumn(not_active_train_df, not_active_binding_train_df, 'binding')\n",
    "train_df = pd.concat([active_train_df, not_active_train_df]).reset_index()\n",
    "train_df = train_df.drop('index', axis=1)\n",
    "print(train_df.binding.value_counts())\n",
    "test_df = pd.concat([active_test_df, not_active_test_df]).reset_index()\n",
    "test_df = test_df.drop('index', axis=1)\n",
    "print(test_df.binding.value_counts())\n",
    "from imblearn.over_sampling import RandomOverSampler, BorderlineSMOTE, SMOTE\n",
    "\n",
    "\n"
   ],
   "metadata": {
    "collapsed": false,
    "pycharm": {
     "name": "#%%\n"
    }
   }
  },
  {
   "cell_type": "code",
   "execution_count": 134,
   "outputs": [
    {
     "name": "stdout",
     "output_type": "stream",
     "text": [
      "1    649\n",
      "0    649\n",
      "Name: binding, dtype: int64\n",
      "0    73\n",
      "1    20\n",
      "Name: binding, dtype: int64\n"
     ]
    }
   ],
   "source": [
    "sampler = RandomOverSampler(sampling_strategy=1)\n",
    "x_sampled, y_sampled = sampler.fit_resample(np.array(train_df.sequence).reshape(-1, 1), train_df.binding)\n",
    "\n",
    "final_train_set = pd.DataFrame(x_sampled, columns  =[\"sequence\"])\n",
    "final_train_set['binding'] = y_sampled\n",
    "print(final_train_set.binding.value_counts())\n",
    "\n",
    "final_test_set = pd.DataFrame(test_df.sequence, columns  =[\"sequence\"])\n",
    "final_test_set['binding'] = test_df.binding\n",
    "print(final_test_set.binding.value_counts())"
   ],
   "metadata": {
    "collapsed": false,
    "pycharm": {
     "name": "#%%\n"
    }
   }
  },
  {
   "cell_type": "code",
   "execution_count": 135,
   "metadata": {
    "pycharm": {
     "name": "#%%\n"
    }
   },
   "outputs": [],
   "source": [
    "train_result = np.array(final_train_set.binding)\n",
    "test_result = np.array(final_test_set.binding)"
   ]
  },
  {
   "cell_type": "code",
   "execution_count": 136,
   "metadata": {
    "pycharm": {
     "name": "#%%\n"
    }
   },
   "outputs": [
    {
     "data": {
      "text/plain": "array(['10000', '10008', '10012', ..., '99976', '9998', '99989'],\n      dtype=object)"
     },
     "execution_count": 136,
     "metadata": {},
     "output_type": "execute_result"
    }
   ],
   "source": [
    "vectorizer_best, training_split = return_binary_vectorized_form(final_train_set.sequence)\n",
    "features = select_k_best_features(training_split,final_train_set.binding,.20,vectorizer_best.get_feature_names_out())\n",
    "features"
   ]
  },
  {
   "cell_type": "code",
   "execution_count": 137,
   "metadata": {
    "pycharm": {
     "name": "#%%\n"
    }
   },
   "outputs": [],
   "source": [
    "vectorizer_best, training_split = return_binary_vectorized_form(final_train_set.sequence,features)\n",
    "test_split = vectorizer_best.transform(final_test_set.sequence).toarray()"
   ]
  },
  {
   "cell_type": "code",
   "execution_count": 138,
   "metadata": {
    "pycharm": {
     "name": "#%%\n"
    }
   },
   "outputs": [],
   "source": [
    "# smote = (random_state=42, sampling_strategy=.65)\n",
    "# x, y = smote.fit_resample(training_split, train_result)\n",
    "# training_split = x\n",
    "# train_result = y\n",
    "# print(training_split.shape)\n",
    "# print(test_split.shape)"
   ]
  },
  {
   "cell_type": "code",
   "execution_count": 139,
   "metadata": {
    "pycharm": {
     "name": "#%%\n"
    }
   },
   "outputs": [],
   "source": [
    "initial_weight = np.ones(training_split.shape[0])*(1/training_split.shape[0])"
   ]
  },
  {
   "cell_type": "code",
   "execution_count": 140,
   "metadata": {
    "pycharm": {
     "name": "#%%\n"
    }
   },
   "outputs": [],
   "source": [
    "def updateWeight(missmatch, weight, alpha):\n",
    "    mi = 0\n",
    "    missmatch_size = len(missmatch)\n",
    "    wi = 0\n",
    "\n",
    "    new_weight = []\n",
    "    norm_constant = 0\n",
    "    while wi < len(weight):\n",
    "        if mi < missmatch_size and missmatch[mi] == wi:\n",
    "            k = weight[wi] * math.exp(alpha)\n",
    "            mi+=1\n",
    "        else:\n",
    "            k = weight[wi] * math.exp(-1*alpha)\n",
    "        new_weight.append( k )\n",
    "        norm_constant += k\n",
    "        wi += 1\n",
    "\n",
    "    new_weight /= norm_constant\n",
    "    sum =0\n",
    "    for i in new_weight:\n",
    "        sum+=i\n",
    "    print(sum)\n",
    "    # plt.plot(new_weight)\n",
    "    # plt.show()\n",
    "    return new_weight"
   ]
  },
  {
   "cell_type": "code",
   "execution_count": 141,
   "metadata": {
    "pycharm": {
     "name": "#%%\n"
    }
   },
   "outputs": [],
   "source": [
    "from sklearn.metrics import f1_score, accuracy_score, confusion_matrix\n",
    "def findMissClassificatonIndex(predicted, test_res, weight):\n",
    "    error_rate = 0\n",
    "    missmatch_indexes = []\n",
    "    incorrect= []\n",
    "    tn, fp, fn, tp = confusion_matrix(test_res, predicted).ravel()\n",
    "    precision = tp / (tp+ fp)\n",
    "    recall = tp / (tp+ fn)\n",
    "    score = (2 * precision * recall) / (precision + recall)\n",
    "    print(score)\n",
    "    print(accuracy_score(test_res, predicted))\n",
    "    for i, (pred, real) in enumerate(zip(predicted, test_res)):\n",
    "        if pred != real:\n",
    "            incorrect.append((i, pred, real))\n",
    "            missmatch_indexes.append(i)\n",
    "            error_rate += weight[i]\n",
    "    error_rate /= len(predicted)\n",
    "    # print(incorrect)\n",
    "    return error_rate, missmatch_indexes"
   ]
  },
  {
   "cell_type": "code",
   "execution_count": 142,
   "metadata": {
    "pycharm": {
     "name": "#%%\n"
    }
   },
   "outputs": [],
   "source": [
    "def resample(train_data, train_res, weights):\n",
    "    size = len(train_data)\n",
    "    indexes = np.random.choice(int(size), int( .10 * size), replace=True, p=weights)\n",
    "    new_train_data = []\n",
    "    new_train_res = []\n",
    "    for index in indexes:\n",
    "         new_train_data.append(train_data[index])\n",
    "         new_train_res.append(train_res[index])\n",
    "    return np.array(new_train_data), np.array(new_train_res)"
   ]
  },
  {
   "cell_type": "code",
   "execution_count": 190,
   "metadata": {
    "pycharm": {
     "name": "#%%\n"
    }
   },
   "outputs": [],
   "source": [
    "class EarlyStoppingMonitor(tf.keras.callbacks.Callback):\n",
    "    def __init__(self):\n",
    "        super(EarlyStoppingMonitor, self).__init__()\n",
    "        self.f1_train = None\n",
    "        self.f1_test = None\n",
    "        self.prevous = None\n",
    "        self.count =0\n",
    "\n",
    "    def on_epoch_end(self, epoch, logs=None):\n",
    "        current_train_precision = logs.get('precision')\n",
    "        current_train_recall= logs.get('recall')\n",
    "\n",
    "        if current_train_precision==0 or current_train_recall==0:\n",
    "            print(\"**** Waring: precision recall zero avoid exception ****\")\n",
    "            return\n",
    "        self.f1_train = (2*current_train_precision*current_train_recall) / (current_train_precision+current_train_recall)\n",
    "        if self.prevous == None:\n",
    "            self.prevous = self.f1_train\n",
    "        if self.prevous == self.f1_train:\n",
    "            self.count += 1\n",
    "        else:\n",
    "            self.prevous = self.f1_train\n",
    "            self.count = 0\n",
    "        if self.count == 5:\n",
    "            self.model.stop_training = True\n",
    "            print('\\n\\n******* No improvements *******')\n",
    "        if current_train_recall > .35 and current_train_precision > .75:\n",
    "            # self.count += 1\n",
    "            # if self.count >4:\n",
    "            self.model.stop_training = True\n",
    "            print('\\n\\n******* Stoping on Defined Thresold *******')\n",
    "            print('F1 TRAINING: ', self.f1_train)\n",
    "            print('Recall TRAINING: ', current_train_recall)\n",
    "\n",
    "    def on_train_end(self, logs=None):\n",
    "        if self.model.stop_training:\n",
    "            print(\"\\n\\n\\n****** Early Stopping *******\")"
   ]
  },
  {
   "cell_type": "code",
   "execution_count": 191,
   "metadata": {
    "pycharm": {
     "name": "#%%\n"
    }
   },
   "outputs": [],
   "source": [
    "def createBaseModel():\n",
    "    model = tf.keras.Sequential([\n",
    "        tf.keras.Input(shape=(training_split.shape[-1],)),\n",
    "        tf.keras.layers.Dense(2, activation='relu',kernel_regularizer=tf.keras.regularizers.L1(.015)),\n",
    "        tf.keras.layers.Dense(1, activation='sigmoid')\n",
    "    ])\n",
    "\n",
    "    METRICS = [\n",
    "      tf.keras.metrics.TruePositives(name='tp'),\n",
    "      tf.keras.metrics.FalsePositives(name='fp'),\n",
    "      tf.keras.metrics.TrueNegatives(name='tn'),\n",
    "      tf.keras.metrics.FalseNegatives(name='fn'),\n",
    "      tf.keras.metrics.Precision(name='precision'),\n",
    "      tf.keras.metrics.Recall(name='recall')\n",
    "    ]\n",
    "\n",
    "    model.compile(loss=tf.keras.losses.BinaryFocalCrossentropy(), metrics=METRICS, optimizer='adam')\n",
    "\n",
    "    return model"
   ]
  },
  {
   "cell_type": "code",
   "execution_count": 192,
   "metadata": {
    "pycharm": {
     "name": "#%%\n"
    }
   },
   "outputs": [],
   "source": [
    "ensemble_size = 30\n",
    "ensemble = []\n",
    "alphas = []\n",
    "sample_percentage = []\n",
    "def boosting(weights):\n",
    "\n",
    "    for i in range(ensemble_size):\n",
    "        print(\" =========== iteration ===========>:\", i )\n",
    "        train_data, train_res = resample(training_split, train_result, weights)\n",
    "        model = createBaseModel()\n",
    "        num_epochs = 60\n",
    "        score = ((sum(train_res)/len(train_res)))*100\n",
    "        sample_percentage.append( score )\n",
    "        print( \"bfore traning: \",score )\n",
    "        history = model.fit(train_data, train_res,\n",
    "                    epochs= num_epochs,\n",
    "                    batch_size=70,\n",
    "                    callbacks=[EarlyStoppingMonitor()])\n",
    "        predicted_result = model.predict(training_split)\n",
    "        predicted_result = [1 if i>=.5 else 0 for i in predicted_result ]\n",
    "        error_rate, error_indexes = findMissClassificatonIndex(predicted_result, train_result, weights)\n",
    "        print(\"error_rate:\", error_rate)\n",
    "\n",
    "        if error_rate > .5:\n",
    "            weights = np.ones(training_split.shape[0]) * (1/training_split.shape[0])\n",
    "            print(\"re-balancing and training because error:\", error_rate)\n",
    "            continue\n",
    "\n",
    "        amount_of_say = .012 * ( math.log( (1-error_rate) / error_rate ) )\n",
    "        alphas.append(amount_of_say)\n",
    "        ensemble.append(model)\n",
    "        weights = updateWeight(error_indexes, weights, amount_of_say)\n"
   ]
  },
  {
   "cell_type": "code",
   "execution_count": 193,
   "metadata": {
    "pycharm": {
     "name": "#%%\n"
    }
   },
   "outputs": [
    {
     "name": "stdout",
     "output_type": "stream",
     "text": [
      " =========== iteration ===========>: 0\n",
      "bfore traning:  49.6124031007752\n",
      "Epoch 1/60\n"
     ]
    },
    {
     "name": "stderr",
     "output_type": "stream",
     "text": [
      "2022-11-15 08:38:31.582218: I tensorflow/core/grappler/optimizers/custom_graph_optimizer_registry.cc:114] Plugin optimizer for device_type GPU is enabled.\n"
     ]
    },
    {
     "name": "stdout",
     "output_type": "stream",
     "text": [
      "2/2 [==============================] - 2s 716ms/step - loss: 4.6983 - tp: 27.0000 - fp: 28.0000 - tn: 37.0000 - fn: 37.0000 - precision: 0.4909 - recall: 0.4219\n",
      "Epoch 2/60\n",
      "2/2 [==============================] - 0s 219ms/step - loss: 3.8660 - tp: 60.0000 - fp: 40.0000 - tn: 25.0000 - fn: 4.0000 - precision: 0.6000 - recall: 0.9375\n",
      "Epoch 3/60\n",
      "2/2 [==============================] - 0s 102ms/step - loss: 3.1345 - tp: 63.0000 - fp: 39.0000 - tn: 26.0000 - fn: 1.0000 - precision: 0.6176 - recall: 0.9844\n",
      "Epoch 4/60\n",
      "2/2 [==============================] - 0s 122ms/step - loss: 2.4944 - tp: 64.0000 - fp: 34.0000 - tn: 31.0000 - fn: 0.0000e+00 - precision: 0.6531 - recall: 1.0000\n",
      "Epoch 5/60\n",
      "2/2 [==============================] - 0s 111ms/step - loss: 1.9536 - tp: 64.0000 - fp: 28.0000 - tn: 37.0000 - fn: 0.0000e+00 - precision: 0.6957 - recall: 1.0000\n",
      "Epoch 6/60\n",
      "2/2 [==============================] - 0s 114ms/step - loss: 1.5099 - tp: 64.0000 - fp: 24.0000 - tn: 41.0000 - fn: 0.0000e+00 - precision: 0.7273 - recall: 1.0000\n",
      "Epoch 7/60\n",
      "1/2 [==============>...............] - ETA: 0s - loss: 1.2254 - tp: 33.0000 - fp: 5.0000 - tn: 32.0000 - fn: 0.0000e+00 - precision: 0.8684 - recall: 1.0000\n",
      "\n",
      "******* Stoping on Defined Thresold *******\n",
      "F1 TRAINING:  0.9142857179836351\n",
      "Recall TRAINING:  1.0\n",
      "2/2 [==============================] - 0s 15ms/step - loss: 1.1602 - tp: 64.0000 - fp: 12.0000 - tn: 53.0000 - fn: 0.0000e+00 - precision: 0.8421 - recall: 1.0000\n",
      "\n",
      "\n",
      "\n",
      "****** Early Stopping *******\n",
      "33/41 [=======================>......] - ETA: 0s"
     ]
    },
    {
     "name": "stderr",
     "output_type": "stream",
     "text": [
      "2022-11-15 08:38:35.073338: I tensorflow/core/grappler/optimizers/custom_graph_optimizer_registry.cc:114] Plugin optimizer for device_type GPU is enabled.\n"
     ]
    },
    {
     "name": "stdout",
     "output_type": "stream",
     "text": [
      "41/41 [==============================] - 0s 5ms/step\n",
      "0.9109639440765269\n",
      "0.9067796610169492\n",
      "error_rate: 7.181844297615635e-05\n",
      "1.000000000000004\n",
      " =========== iteration ===========>: 1\n",
      "bfore traning:  51.162790697674424\n",
      "Epoch 1/60\n"
     ]
    },
    {
     "name": "stderr",
     "output_type": "stream",
     "text": [
      "2022-11-15 08:38:35.626380: I tensorflow/core/grappler/optimizers/custom_graph_optimizer_registry.cc:114] Plugin optimizer for device_type GPU is enabled.\n"
     ]
    },
    {
     "name": "stdout",
     "output_type": "stream",
     "text": [
      "2/2 [==============================] - 2s 603ms/step - loss: 4.6480 - tp: 7.0000 - fp: 9.0000 - tn: 54.0000 - fn: 59.0000 - precision: 0.4375 - recall: 0.1061\n",
      "Epoch 2/60\n",
      "2/2 [==============================] - 0s 191ms/step - loss: 3.7744 - tp: 23.0000 - fp: 21.0000 - tn: 42.0000 - fn: 43.0000 - precision: 0.5227 - recall: 0.3485\n",
      "Epoch 3/60\n",
      "2/2 [==============================] - 0s 151ms/step - loss: 3.0175 - tp: 42.0000 - fp: 20.0000 - tn: 43.0000 - fn: 24.0000 - precision: 0.6774 - recall: 0.6364\n",
      "Epoch 4/60\n",
      "2/2 [==============================] - 0s 135ms/step - loss: 2.3708 - tp: 49.0000 - fp: 19.0000 - tn: 44.0000 - fn: 17.0000 - precision: 0.7206 - recall: 0.7424\n",
      "Epoch 5/60\n",
      "2/2 [==============================] - ETA: 0s - loss: 1.8322 - tp: 51.0000 - fp: 15.0000 - tn: 48.0000 - fn: 15.0000 - precision: 0.7727 - recall: 0.7727\n",
      "\n",
      "******* Stoping on Defined Thresold *******\n",
      "F1 TRAINING:  0.7727273106575012\n",
      "Recall TRAINING:  0.7727273106575012\n",
      "2/2 [==============================] - 0s 66ms/step - loss: 1.8322 - tp: 51.0000 - fp: 15.0000 - tn: 48.0000 - fn: 15.0000 - precision: 0.7727 - recall: 0.7727\n",
      "\n",
      "\n",
      "\n",
      "****** Early Stopping *******\n",
      "36/41 [=========================>....] - ETA: 0s"
     ]
    },
    {
     "name": "stderr",
     "output_type": "stream",
     "text": [
      "2022-11-15 08:38:38.551945: I tensorflow/core/grappler/optimizers/custom_graph_optimizer_registry.cc:114] Plugin optimizer for device_type GPU is enabled.\n"
     ]
    },
    {
     "name": "stdout",
     "output_type": "stream",
     "text": [
      "41/41 [==============================] - 0s 4ms/step\n",
      "0.724191063174114\n",
      "0.724191063174114\n",
      "error_rate: 0.0002151168560613175\n",
      "0.9999999999999758\n",
      " =========== iteration ===========>: 2\n",
      "bfore traning:  46.51162790697674\n",
      "Epoch 1/60\n"
     ]
    },
    {
     "name": "stderr",
     "output_type": "stream",
     "text": [
      "2022-11-15 08:38:39.073672: I tensorflow/core/grappler/optimizers/custom_graph_optimizer_registry.cc:114] Plugin optimizer for device_type GPU is enabled.\n"
     ]
    },
    {
     "name": "stdout",
     "output_type": "stream",
     "text": [
      "2/2 [==============================] - 2s 787ms/step - loss: 4.6299 - tp: 54.0000 - fp: 65.0000 - tn: 4.0000 - fn: 6.0000 - precision: 0.4538 - recall: 0.9000\n",
      "Epoch 2/60\n",
      "2/2 [==============================] - 0s 185ms/step - loss: 3.7571 - tp: 50.0000 - fp: 67.0000 - tn: 2.0000 - fn: 10.0000 - precision: 0.4274 - recall: 0.8333\n",
      "Epoch 3/60\n",
      "2/2 [==============================] - 0s 81ms/step - loss: 2.9987 - tp: 47.0000 - fp: 56.0000 - tn: 13.0000 - fn: 13.0000 - precision: 0.4563 - recall: 0.7833\n",
      "Epoch 4/60\n",
      "2/2 [==============================] - 0s 184ms/step - loss: 2.3499 - tp: 46.0000 - fp: 52.0000 - tn: 17.0000 - fn: 14.0000 - precision: 0.4694 - recall: 0.7667\n",
      "Epoch 5/60\n",
      "2/2 [==============================] - 0s 110ms/step - loss: 1.8125 - tp: 45.0000 - fp: 42.0000 - tn: 27.0000 - fn: 15.0000 - precision: 0.5172 - recall: 0.7500\n",
      "Epoch 6/60\n",
      "2/2 [==============================] - 0s 68ms/step - loss: 1.3858 - tp: 49.0000 - fp: 31.0000 - tn: 38.0000 - fn: 11.0000 - precision: 0.6125 - recall: 0.8167\n",
      "Epoch 7/60\n",
      "1/2 [==============>...............] - ETA: 0s - loss: 1.1219 - tp: 27.0000 - fp: 14.0000 - tn: 23.0000 - fn: 6.0000 - precision: 0.6585 - recall: 0.8182\n",
      "\n",
      "******* Stoping on Defined Thresold *******\n",
      "F1 TRAINING:  0.8062015791207523\n",
      "Recall TRAINING:  0.8666667342185974\n",
      "2/2 [==============================] - 0s 20ms/step - loss: 1.0581 - tp: 52.0000 - fp: 17.0000 - tn: 52.0000 - fn: 8.0000 - precision: 0.7536 - recall: 0.8667\n",
      "\n",
      "\n",
      "\n",
      "****** Early Stopping *******\n",
      "36/41 [=========================>....] - ETA: 0s"
     ]
    },
    {
     "name": "stderr",
     "output_type": "stream",
     "text": [
      "2022-11-15 08:38:42.500897: I tensorflow/core/grappler/optimizers/custom_graph_optimizer_registry.cc:114] Plugin optimizer for device_type GPU is enabled.\n"
     ]
    },
    {
     "name": "stdout",
     "output_type": "stream",
     "text": [
      "41/41 [==============================] - 0s 4ms/step\n",
      "0.8500749625187407\n",
      "0.8459167950693375\n",
      "error_rate: 0.00012491575070115087\n",
      "0.9999999999999736\n",
      " =========== iteration ===========>: 3\n",
      "bfore traning:  49.6124031007752\n",
      "Epoch 1/60\n"
     ]
    },
    {
     "name": "stderr",
     "output_type": "stream",
     "text": [
      "2022-11-15 08:38:43.037006: I tensorflow/core/grappler/optimizers/custom_graph_optimizer_registry.cc:114] Plugin optimizer for device_type GPU is enabled.\n"
     ]
    },
    {
     "name": "stdout",
     "output_type": "stream",
     "text": [
      "2/2 [==============================] - 2s 669ms/step - loss: 4.6341 - tp: 54.0000 - fp: 48.0000 - tn: 17.0000 - fn: 10.0000 - precision: 0.5294 - recall: 0.8438\n",
      "Epoch 2/60\n",
      "2/2 [==============================] - 0s 113ms/step - loss: 3.7672 - tp: 56.0000 - fp: 37.0000 - tn: 28.0000 - fn: 8.0000 - precision: 0.6022 - recall: 0.8750\n",
      "Epoch 3/60\n",
      "2/2 [==============================] - 0s 114ms/step - loss: 3.0159 - tp: 58.0000 - fp: 29.0000 - tn: 36.0000 - fn: 6.0000 - precision: 0.6667 - recall: 0.9062\n",
      "Epoch 4/60\n",
      "2/2 [==============================] - ETA: 0s - loss: 2.3744 - tp: 59.0000 - fp: 19.0000 - tn: 46.0000 - fn: 5.0000 - precision: 0.7564 - recall: 0.9219\n",
      "\n",
      "******* Stoping on Defined Thresold *******\n",
      "F1 TRAINING:  0.8309859062702593\n",
      "Recall TRAINING:  0.921875\n",
      "2/2 [==============================] - 0s 125ms/step - loss: 2.3744 - tp: 59.0000 - fp: 19.0000 - tn: 46.0000 - fn: 5.0000 - precision: 0.7564 - recall: 0.9219\n",
      "\n",
      "\n",
      "\n",
      "****** Early Stopping *******\n",
      "35/41 [========================>.....] - ETA: 0s"
     ]
    },
    {
     "name": "stderr",
     "output_type": "stream",
     "text": [
      "2022-11-15 08:38:45.785448: I tensorflow/core/grappler/optimizers/custom_graph_optimizer_registry.cc:114] Plugin optimizer for device_type GPU is enabled.\n"
     ]
    },
    {
     "name": "stdout",
     "output_type": "stream",
     "text": [
      "41/41 [==============================] - 0s 4ms/step\n",
      "0.7745952677459528\n",
      "0.7211093990755008\n",
      "error_rate: 0.00022008991238288013\n",
      "0.9999999999999929\n",
      " =========== iteration ===========>: 4\n",
      "bfore traning:  44.96124031007752\n",
      "Epoch 1/60\n"
     ]
    },
    {
     "name": "stderr",
     "output_type": "stream",
     "text": [
      "2022-11-15 08:38:49.907737: I tensorflow/core/grappler/optimizers/custom_graph_optimizer_registry.cc:114] Plugin optimizer for device_type GPU is enabled.\n"
     ]
    },
    {
     "name": "stdout",
     "output_type": "stream",
     "text": [
      "2/2 [==============================] - 6s 676ms/step - loss: 4.6377 - tp: 33.0000 - fp: 44.0000 - tn: 27.0000 - fn: 25.0000 - precision: 0.4286 - recall: 0.5690\n",
      "Epoch 2/60\n",
      "2/2 [==============================] - 0s 151ms/step - loss: 3.7652 - tp: 33.0000 - fp: 41.0000 - tn: 30.0000 - fn: 25.0000 - precision: 0.4459 - recall: 0.5690\n",
      "Epoch 3/60\n",
      "2/2 [==============================] - 0s 110ms/step - loss: 3.0072 - tp: 32.0000 - fp: 38.0000 - tn: 33.0000 - fn: 26.0000 - precision: 0.4571 - recall: 0.5517\n",
      "Epoch 4/60\n",
      "2/2 [==============================] - 0s 112ms/step - loss: 2.3612 - tp: 37.0000 - fp: 34.0000 - tn: 37.0000 - fn: 21.0000 - precision: 0.5211 - recall: 0.6379\n",
      "Epoch 5/60\n",
      "2/2 [==============================] - 0s 66ms/step - loss: 1.8233 - tp: 40.0000 - fp: 23.0000 - tn: 48.0000 - fn: 18.0000 - precision: 0.6349 - recall: 0.6897\n",
      "Epoch 6/60\n",
      "2/2 [==============================] - 0s 68ms/step - loss: 1.3916 - tp: 44.0000 - fp: 17.0000 - tn: 54.0000 - fn: 14.0000 - precision: 0.7213 - recall: 0.7586\n",
      "Epoch 7/60\n",
      "2/2 [==============================] - ETA: 0s - loss: 1.0606 - tp: 50.0000 - fp: 8.0000 - tn: 63.0000 - fn: 8.0000 - precision: 0.8621 - recall: 0.8621\n",
      "\n",
      "******* Stoping on Defined Thresold *******\n",
      "F1 TRAINING:  0.8620689511299133\n",
      "Recall TRAINING:  0.8620689511299133\n",
      "2/2 [==============================] - 0s 61ms/step - loss: 1.0606 - tp: 50.0000 - fp: 8.0000 - tn: 63.0000 - fn: 8.0000 - precision: 0.8621 - recall: 0.8621\n",
      "\n",
      "\n",
      "\n",
      "****** Early Stopping *******\n",
      "41/41 [==============================] - 0s 3ms/step\n"
     ]
    },
    {
     "name": "stderr",
     "output_type": "stream",
     "text": [
      "2022-11-15 08:38:52.943226: I tensorflow/core/grappler/optimizers/custom_graph_optimizer_registry.cc:114] Plugin optimizer for device_type GPU is enabled.\n"
     ]
    },
    {
     "name": "stdout",
     "output_type": "stream",
     "text": [
      "0.8949579831932772\n",
      "0.884437596302003\n",
      "error_rate: 0.00010629177331497457\n",
      "1.0\n",
      " =========== iteration ===========>: 5\n",
      "bfore traning:  46.51162790697674\n",
      "Epoch 1/60\n"
     ]
    },
    {
     "name": "stderr",
     "output_type": "stream",
     "text": [
      "2022-11-15 08:38:53.422458: I tensorflow/core/grappler/optimizers/custom_graph_optimizer_registry.cc:114] Plugin optimizer for device_type GPU is enabled.\n"
     ]
    },
    {
     "name": "stdout",
     "output_type": "stream",
     "text": [
      "2/2 [==============================] - 2s 627ms/step - loss: 4.6430 - tp: 43.0000 - fp: 57.0000 - tn: 12.0000 - fn: 17.0000 - precision: 0.4300 - recall: 0.7167\n",
      "Epoch 2/60\n",
      "2/2 [==============================] - 0s 188ms/step - loss: 3.7709 - tp: 46.0000 - fp: 48.0000 - tn: 21.0000 - fn: 14.0000 - precision: 0.4894 - recall: 0.7667\n",
      "Epoch 3/60\n",
      "2/2 [==============================] - 0s 69ms/step - loss: 3.0120 - tp: 47.0000 - fp: 45.0000 - tn: 24.0000 - fn: 13.0000 - precision: 0.5109 - recall: 0.7833\n",
      "Epoch 4/60\n",
      "2/2 [==============================] - 0s 72ms/step - loss: 2.3641 - tp: 51.0000 - fp: 37.0000 - tn: 32.0000 - fn: 9.0000 - precision: 0.5795 - recall: 0.8500\n",
      "Epoch 5/60\n",
      "2/2 [==============================] - 0s 96ms/step - loss: 1.8266 - tp: 55.0000 - fp: 26.0000 - tn: 43.0000 - fn: 5.0000 - precision: 0.6790 - recall: 0.9167\n",
      "Epoch 6/60\n",
      "1/2 [==============>...............] - ETA: 0s - loss: 1.4887 - tp: 30.0000 - fp: 14.0000 - tn: 25.0000 - fn: 1.0000 - precision: 0.6818 - recall: 0.9677\n",
      "\n",
      "******* Stoping on Defined Thresold *******\n",
      "F1 TRAINING:  0.8550724825471451\n",
      "Recall TRAINING:  0.98333340883255\n",
      "2/2 [==============================] - 0s 22ms/step - loss: 1.3982 - tp: 59.0000 - fp: 19.0000 - tn: 50.0000 - fn: 1.0000 - precision: 0.7564 - recall: 0.9833\n",
      "\n",
      "\n",
      "\n",
      "****** Early Stopping *******\n",
      "41/41 [==============================] - 0s 4ms/step\n"
     ]
    },
    {
     "name": "stderr",
     "output_type": "stream",
     "text": [
      "2022-11-15 08:38:56.018102: I tensorflow/core/grappler/optimizers/custom_graph_optimizer_registry.cc:114] Plugin optimizer for device_type GPU is enabled.\n"
     ]
    },
    {
     "name": "stdout",
     "output_type": "stream",
     "text": [
      "0.8348623853211009\n",
      "0.8058551617873652\n",
      "error_rate: 0.00017255035495235607\n",
      "1.0000000000000115\n",
      " =========== iteration ===========>: 6\n",
      "bfore traning:  44.18604651162791\n",
      "Epoch 1/60\n"
     ]
    },
    {
     "name": "stderr",
     "output_type": "stream",
     "text": [
      "2022-11-15 08:38:56.485591: I tensorflow/core/grappler/optimizers/custom_graph_optimizer_registry.cc:114] Plugin optimizer for device_type GPU is enabled.\n"
     ]
    },
    {
     "name": "stdout",
     "output_type": "stream",
     "text": [
      "2/2 [==============================] - 2s 660ms/step - loss: 4.6641 - tp: 16.0000 - fp: 18.0000 - tn: 54.0000 - fn: 41.0000 - precision: 0.4706 - recall: 0.2807\n",
      "Epoch 2/60\n",
      "2/2 [==============================] - 0s 114ms/step - loss: 3.7905 - tp: 21.0000 - fp: 16.0000 - tn: 56.0000 - fn: 36.0000 - precision: 0.5676 - recall: 0.3684\n",
      "Epoch 3/60\n",
      "2/2 [==============================] - 0s 22ms/step - loss: 3.0313 - tp: 24.0000 - fp: 10.0000 - tn: 62.0000 - fn: 33.0000 - precision: 0.7059 - recall: 0.4211\n",
      "Epoch 4/60\n",
      "2/2 [==============================] - ETA: 0s - loss: 2.3792 - tp: 21.0000 - fp: 7.0000 - tn: 65.0000 - fn: 36.0000 - precision: 0.7500 - recall: 0.3684\n",
      "\n",
      "******* Stoping on Defined Thresold *******\n",
      "F1 TRAINING:  0.4941176557623382\n",
      "Recall TRAINING:  0.3684210479259491\n",
      "2/2 [==============================] - 0s 57ms/step - loss: 2.3792 - tp: 21.0000 - fp: 7.0000 - tn: 65.0000 - fn: 36.0000 - precision: 0.7500 - recall: 0.3684\n",
      "\n",
      "\n",
      "\n",
      "****** Early Stopping *******\n",
      "41/41 [==============================] - 0s 3ms/step\n"
     ]
    },
    {
     "name": "stderr",
     "output_type": "stream",
     "text": [
      "2022-11-15 08:38:58.802086: I tensorflow/core/grappler/optimizers/custom_graph_optimizer_registry.cc:114] Plugin optimizer for device_type GPU is enabled.\n"
     ]
    },
    {
     "name": "stdout",
     "output_type": "stream",
     "text": [
      "0.35393939393939394\n",
      "0.5893682588597843\n",
      "error_rate: 0.0002788124951604569\n",
      "1.0000000000000104\n",
      " =========== iteration ===========>: 7\n",
      "bfore traning:  43.41085271317829\n",
      "Epoch 1/60\n"
     ]
    },
    {
     "name": "stderr",
     "output_type": "stream",
     "text": [
      "2022-11-15 08:38:59.265070: I tensorflow/core/grappler/optimizers/custom_graph_optimizer_registry.cc:114] Plugin optimizer for device_type GPU is enabled.\n"
     ]
    },
    {
     "name": "stdout",
     "output_type": "stream",
     "text": [
      "2/2 [==============================] - 2s 595ms/step - loss: 4.6351 - tp: 14.0000 - fp: 29.0000 - tn: 44.0000 - fn: 42.0000 - precision: 0.3256 - recall: 0.2500\n",
      "Epoch 2/60\n",
      "2/2 [==============================] - 0s 106ms/step - loss: 3.7626 - tp: 14.0000 - fp: 22.0000 - tn: 51.0000 - fn: 42.0000 - precision: 0.3889 - recall: 0.2500\n",
      "Epoch 3/60\n",
      "2/2 [==============================] - 0s 126ms/step - loss: 3.0053 - tp: 16.0000 - fp: 20.0000 - tn: 53.0000 - fn: 40.0000 - precision: 0.4444 - recall: 0.2857\n",
      "Epoch 4/60\n",
      "2/2 [==============================] - 0s 146ms/step - loss: 2.3583 - tp: 18.0000 - fp: 13.0000 - tn: 60.0000 - fn: 38.0000 - precision: 0.5806 - recall: 0.3214\n",
      "Epoch 5/60\n",
      "2/2 [==============================] - ETA: 0s - loss: 1.8213 - tp: 27.0000 - fp: 7.0000 - tn: 66.0000 - fn: 29.0000 - precision: 0.7941 - recall: 0.4821\n",
      "\n",
      "******* Stoping on Defined Thresold *******\n",
      "F1 TRAINING:  0.600000001589457\n",
      "Recall TRAINING:  0.4821428656578064\n",
      "2/2 [==============================] - 0s 51ms/step - loss: 1.8213 - tp: 27.0000 - fp: 7.0000 - tn: 66.0000 - fn: 29.0000 - precision: 0.7941 - recall: 0.4821\n",
      "\n",
      "\n",
      "\n",
      "****** Early Stopping *******\n",
      "41/41 [==============================] - 0s 3ms/step\n"
     ]
    },
    {
     "name": "stderr",
     "output_type": "stream",
     "text": [
      "2022-11-15 08:39:01.837896: I tensorflow/core/grappler/optimizers/custom_graph_optimizer_registry.cc:114] Plugin optimizer for device_type GPU is enabled.\n"
     ]
    },
    {
     "name": "stdout",
     "output_type": "stream",
     "text": [
      "0.701180744777475\n",
      "0.7465331278890601\n",
      "error_rate: 0.00019870402726653545\n",
      "0.9999999999999973\n",
      " =========== iteration ===========>: 8\n",
      "bfore traning:  46.51162790697674\n",
      "Epoch 1/60\n"
     ]
    },
    {
     "name": "stderr",
     "output_type": "stream",
     "text": [
      "2022-11-15 08:39:02.288595: I tensorflow/core/grappler/optimizers/custom_graph_optimizer_registry.cc:114] Plugin optimizer for device_type GPU is enabled.\n"
     ]
    },
    {
     "name": "stdout",
     "output_type": "stream",
     "text": [
      "2/2 [==============================] - 2s 579ms/step - loss: 4.6202 - tp: 26.0000 - fp: 37.0000 - tn: 32.0000 - fn: 34.0000 - precision: 0.4127 - recall: 0.4333\n",
      "Epoch 2/60\n",
      "2/2 [==============================] - 0s 196ms/step - loss: 3.7519 - tp: 34.0000 - fp: 41.0000 - tn: 28.0000 - fn: 26.0000 - precision: 0.4533 - recall: 0.5667\n",
      "Epoch 3/60\n",
      "2/2 [==============================] - 0s 190ms/step - loss: 2.9974 - tp: 28.0000 - fp: 18.0000 - tn: 51.0000 - fn: 32.0000 - precision: 0.6087 - recall: 0.4667\n",
      "Epoch 4/60\n",
      "2/2 [==============================] - 0s 62ms/step - loss: 2.3532 - tp: 31.0000 - fp: 18.0000 - tn: 51.0000 - fn: 29.0000 - precision: 0.6327 - recall: 0.5167\n",
      "Epoch 5/60\n",
      "2/2 [==============================] - ETA: 0s - loss: 1.8185 - tp: 38.0000 - fp: 12.0000 - tn: 57.0000 - fn: 22.0000 - precision: 0.7600 - recall: 0.6333\n",
      "\n",
      "******* Stoping on Defined Thresold *******\n",
      "F1 TRAINING:  0.6909091177065495\n",
      "Recall TRAINING:  0.6333333849906921\n",
      "2/2 [==============================] - 0s 110ms/step - loss: 1.8185 - tp: 38.0000 - fp: 12.0000 - tn: 57.0000 - fn: 22.0000 - precision: 0.7600 - recall: 0.6333\n",
      "\n",
      "\n",
      "\n",
      "****** Early Stopping *******\n",
      "41/41 [==============================] - 0s 3ms/step\n"
     ]
    },
    {
     "name": "stderr",
     "output_type": "stream",
     "text": [
      "2022-11-15 08:39:04.977054: I tensorflow/core/grappler/optimizers/custom_graph_optimizer_registry.cc:114] Plugin optimizer for device_type GPU is enabled.\n"
     ]
    },
    {
     "name": "stdout",
     "output_type": "stream",
     "text": [
      "0.6456953642384107\n",
      "0.6702619414483821\n",
      "error_rate: 0.0002654424858302587\n",
      "0.9999999999999984\n",
      " =========== iteration ===========>: 9\n",
      "bfore traning:  45.73643410852713\n",
      "Epoch 1/60\n"
     ]
    },
    {
     "name": "stderr",
     "output_type": "stream",
     "text": [
      "2022-11-15 08:39:05.447368: I tensorflow/core/grappler/optimizers/custom_graph_optimizer_registry.cc:114] Plugin optimizer for device_type GPU is enabled.\n"
     ]
    },
    {
     "name": "stdout",
     "output_type": "stream",
     "text": [
      "2/2 [==============================] - 2s 633ms/step - loss: 4.6239 - tp: 22.0000 - fp: 32.0000 - tn: 38.0000 - fn: 37.0000 - precision: 0.4074 - recall: 0.3729\n",
      "Epoch 2/60\n",
      "2/2 [==============================] - 0s 62ms/step - loss: 3.7510 - tp: 22.0000 - fp: 32.0000 - tn: 38.0000 - fn: 37.0000 - precision: 0.4074 - recall: 0.3729\n",
      "Epoch 3/60\n",
      "2/2 [==============================] - 0s 101ms/step - loss: 2.9950 - tp: 21.0000 - fp: 27.0000 - tn: 43.0000 - fn: 38.0000 - precision: 0.4375 - recall: 0.3559\n",
      "Epoch 4/60\n",
      "2/2 [==============================] - 0s 66ms/step - loss: 2.3503 - tp: 24.0000 - fp: 20.0000 - tn: 50.0000 - fn: 35.0000 - precision: 0.5455 - recall: 0.4068\n",
      "Epoch 5/60\n",
      "2/2 [==============================] - 0s 72ms/step - loss: 1.8179 - tp: 27.0000 - fp: 15.0000 - tn: 55.0000 - fn: 32.0000 - precision: 0.6429 - recall: 0.4576\n",
      "Epoch 6/60\n",
      "2/2 [==============================] - 0s 60ms/step - loss: 1.3899 - tp: 25.0000 - fp: 9.0000 - tn: 61.0000 - fn: 34.0000 - precision: 0.7353 - recall: 0.4237\n",
      "Epoch 7/60\n",
      "2/2 [==============================] - ETA: 0s - loss: 1.0655 - tp: 26.0000 - fp: 4.0000 - tn: 66.0000 - fn: 33.0000 - precision: 0.8667 - recall: 0.4407\n",
      "\n",
      "******* Stoping on Defined Thresold *******\n",
      "F1 TRAINING:  0.584269682267837\n",
      "Recall TRAINING:  0.4406779706478119\n",
      "2/2 [==============================] - 0s 65ms/step - loss: 1.0655 - tp: 26.0000 - fp: 4.0000 - tn: 66.0000 - fn: 33.0000 - precision: 0.8667 - recall: 0.4407\n",
      "\n",
      "\n",
      "\n",
      "****** Early Stopping *******\n",
      "41/41 [==============================] - 0s 4ms/step\n"
     ]
    },
    {
     "name": "stderr",
     "output_type": "stream",
     "text": [
      "2022-11-15 08:39:08.175241: I tensorflow/core/grappler/optimizers/custom_graph_optimizer_registry.cc:114] Plugin optimizer for device_type GPU is enabled.\n"
     ]
    },
    {
     "name": "stdout",
     "output_type": "stream",
     "text": [
      "0.7751798561151079\n",
      "0.8073959938366718\n",
      "error_rate: 0.0001716086875814032\n",
      "1.0000000000000078\n",
      " =========== iteration ===========>: 10\n",
      "bfore traning:  52.71317829457365\n",
      "Epoch 1/60\n"
     ]
    },
    {
     "name": "stderr",
     "output_type": "stream",
     "text": [
      "2022-11-15 08:39:08.654901: I tensorflow/core/grappler/optimizers/custom_graph_optimizer_registry.cc:114] Plugin optimizer for device_type GPU is enabled.\n"
     ]
    },
    {
     "name": "stdout",
     "output_type": "stream",
     "text": [
      "2/2 [==============================] - 2s 640ms/step - loss: 4.6362 - tp: 55.0000 - fp: 39.0000 - tn: 22.0000 - fn: 13.0000 - precision: 0.5851 - recall: 0.8088\n",
      "Epoch 2/60\n",
      "2/2 [==============================] - 0s 203ms/step - loss: 3.7679 - tp: 62.0000 - fp: 36.0000 - tn: 25.0000 - fn: 6.0000 - precision: 0.6327 - recall: 0.9118\n",
      "Epoch 3/60\n",
      "2/2 [==============================] - 0s 183ms/step - loss: 3.0137 - tp: 62.0000 - fp: 31.0000 - tn: 30.0000 - fn: 6.0000 - precision: 0.6667 - recall: 0.9118\n",
      "Epoch 4/60\n",
      "2/2 [==============================] - 0s 101ms/step - loss: 2.3678 - tp: 62.0000 - fp: 28.0000 - tn: 33.0000 - fn: 6.0000 - precision: 0.6889 - recall: 0.9118\n",
      "Epoch 5/60\n",
      "2/2 [==============================] - 0s 13ms/step - loss: 1.8299 - tp: 66.0000 - fp: 24.0000 - tn: 37.0000 - fn: 2.0000 - precision: 0.7333 - recall: 0.9706\n",
      "Epoch 6/60\n",
      "1/2 [==============>...............] - ETA: 0s - loss: 1.4815 - tp: 33.0000 - fp: 10.0000 - tn: 27.0000 - fn: 0.0000e+00 - precision: 0.7674 - recall: 1.0000\n",
      "\n",
      "******* Stoping on Defined Thresold *******\n",
      "F1 TRAINING:  0.888888896247487\n",
      "Recall TRAINING:  1.0\n",
      "2/2 [==============================] - 0s 38ms/step - loss: 1.3969 - tp: 68.0000 - fp: 17.0000 - tn: 44.0000 - fn: 0.0000e+00 - precision: 0.8000 - recall: 1.0000\n",
      "\n",
      "\n",
      "\n",
      "****** Early Stopping *******\n",
      "41/41 [==============================] - 0s 3ms/step\n"
     ]
    },
    {
     "name": "stderr",
     "output_type": "stream",
     "text": [
      "2022-11-15 08:39:11.298036: I tensorflow/core/grappler/optimizers/custom_graph_optimizer_registry.cc:114] Plugin optimizer for device_type GPU is enabled.\n"
     ]
    },
    {
     "name": "stdout",
     "output_type": "stream",
     "text": [
      "0.7662337662337663\n",
      "0.6949152542372882\n",
      "error_rate: 0.0002444391913516177\n",
      "0.9999999999999993\n",
      " =========== iteration ===========>: 11\n",
      "bfore traning:  50.3875968992248\n",
      "Epoch 1/60\n"
     ]
    },
    {
     "name": "stderr",
     "output_type": "stream",
     "text": [
      "2022-11-15 08:39:11.760179: I tensorflow/core/grappler/optimizers/custom_graph_optimizer_registry.cc:114] Plugin optimizer for device_type GPU is enabled.\n"
     ]
    },
    {
     "name": "stdout",
     "output_type": "stream",
     "text": [
      "2/2 [==============================] - 2s 633ms/step - loss: 4.6600 - tp: 30.0000 - fp: 31.0000 - tn: 33.0000 - fn: 35.0000 - precision: 0.4918 - recall: 0.4615\n",
      "Epoch 2/60\n",
      "2/2 [==============================] - 0s 159ms/step - loss: 3.7982 - tp: 53.0000 - fp: 33.0000 - tn: 31.0000 - fn: 12.0000 - precision: 0.6163 - recall: 0.8154\n",
      "Epoch 3/60\n",
      "2/2 [==============================] - 0s 77ms/step - loss: 3.0539 - tp: 58.0000 - fp: 31.0000 - tn: 33.0000 - fn: 7.0000 - precision: 0.6517 - recall: 0.8923\n",
      "Epoch 4/60\n",
      "2/2 [==============================] - 0s 71ms/step - loss: 2.4123 - tp: 62.0000 - fp: 28.0000 - tn: 36.0000 - fn: 3.0000 - precision: 0.6889 - recall: 0.9538\n",
      "Epoch 5/60\n",
      "1/2 [==============>...............] - ETA: 0s - loss: 1.9793 - tp: 37.0000 - fp: 8.0000 - tn: 25.0000 - fn: 0.0000e+00 - precision: 0.8222 - recall: 1.0000\n",
      "\n",
      "******* Stoping on Defined Thresold *******\n",
      "F1 TRAINING:  0.8689655324933644\n",
      "Recall TRAINING:  0.9692307710647583\n",
      "2/2 [==============================] - 0s 12ms/step - loss: 1.8728 - tp: 63.0000 - fp: 17.0000 - tn: 47.0000 - fn: 2.0000 - precision: 0.7875 - recall: 0.9692\n",
      "\n",
      "\n",
      "\n",
      "****** Early Stopping *******\n",
      "41/41 [==============================] - 0s 3ms/step\n"
     ]
    },
    {
     "name": "stderr",
     "output_type": "stream",
     "text": [
      "2022-11-15 08:39:14.169967: I tensorflow/core/grappler/optimizers/custom_graph_optimizer_registry.cc:114] Plugin optimizer for device_type GPU is enabled.\n"
     ]
    },
    {
     "name": "stdout",
     "output_type": "stream",
     "text": [
      "0.8464730290456431\n",
      "0.8289676425269645\n",
      "error_rate: 0.00014837920116818546\n",
      "0.9999999999999954\n",
      " =========== iteration ===========>: 12\n",
      "bfore traning:  39.53488372093023\n",
      "Epoch 1/60\n"
     ]
    },
    {
     "name": "stderr",
     "output_type": "stream",
     "text": [
      "2022-11-15 08:39:14.645551: I tensorflow/core/grappler/optimizers/custom_graph_optimizer_registry.cc:114] Plugin optimizer for device_type GPU is enabled.\n"
     ]
    },
    {
     "name": "stdout",
     "output_type": "stream",
     "text": [
      "2/2 [==============================] - 2s 694ms/step - loss: 4.6475 - tp: 17.0000 - fp: 35.0000 - tn: 43.0000 - fn: 34.0000 - precision: 0.3269 - recall: 0.3333\n",
      "Epoch 2/60\n",
      "2/2 [==============================] - 0s 83ms/step - loss: 3.7739 - tp: 17.0000 - fp: 31.0000 - tn: 47.0000 - fn: 34.0000 - precision: 0.3542 - recall: 0.3333\n",
      "Epoch 3/60\n",
      "2/2 [==============================] - 0s 72ms/step - loss: 3.0145 - tp: 15.0000 - fp: 26.0000 - tn: 52.0000 - fn: 36.0000 - precision: 0.3659 - recall: 0.2941\n",
      "Epoch 4/60\n",
      "2/2 [==============================] - 0s 113ms/step - loss: 2.3646 - tp: 14.0000 - fp: 20.0000 - tn: 58.0000 - fn: 37.0000 - precision: 0.4118 - recall: 0.2745\n",
      "Epoch 5/60\n",
      "2/2 [==============================] - 0s 48ms/step - loss: 1.8268 - tp: 13.0000 - fp: 11.0000 - tn: 67.0000 - fn: 38.0000 - precision: 0.5417 - recall: 0.2549\n",
      "Epoch 6/60\n",
      "2/2 [==============================] - 0s 98ms/step - loss: 1.3944 - tp: 11.0000 - fp: 8.0000 - tn: 70.0000 - fn: 40.0000 - precision: 0.5789 - recall: 0.2157\n",
      "Epoch 7/60\n",
      "2/2 [==============================] - 0s 116ms/step - loss: 1.0635 - tp: 10.0000 - fp: 3.0000 - tn: 75.0000 - fn: 41.0000 - precision: 0.7692 - recall: 0.1961\n",
      "Epoch 8/60\n",
      "2/2 [==============================] - 0s 97ms/step - loss: 0.8369 - tp: 8.0000 - fp: 0.0000e+00 - tn: 78.0000 - fn: 43.0000 - precision: 1.0000 - recall: 0.1569\n",
      "Epoch 9/60\n",
      "2/2 [==============================] - 0s 48ms/step - loss: 0.7112 - tp: 7.0000 - fp: 0.0000e+00 - tn: 78.0000 - fn: 44.0000 - precision: 1.0000 - recall: 0.1373\n",
      "Epoch 10/60\n",
      "2/2 [==============================] - 0s 13ms/step - loss: 0.6867 - tp: 11.0000 - fp: 0.0000e+00 - tn: 78.0000 - fn: 40.0000 - precision: 1.0000 - recall: 0.2157\n",
      "Epoch 11/60\n",
      "2/2 [==============================] - 0s 73ms/step - loss: 0.7189 - tp: 13.0000 - fp: 0.0000e+00 - tn: 78.0000 - fn: 38.0000 - precision: 1.0000 - recall: 0.2549\n",
      "Epoch 12/60\n",
      "1/2 [==============>...............] - ETA: 0s - loss: 0.7050 - tp: 17.0000 - fp: 0.0000e+00 - tn: 39.0000 - fn: 14.0000 - precision: 1.0000 - recall: 0.5484\n",
      "\n",
      "******* Stoping on Defined Thresold *******\n",
      "F1 TRAINING:  0.6753247009600002\n",
      "Recall TRAINING:  0.5098039507865906\n",
      "2/2 [==============================] - 0s 13ms/step - loss: 0.6943 - tp: 26.0000 - fp: 0.0000e+00 - tn: 78.0000 - fn: 25.0000 - precision: 1.0000 - recall: 0.5098\n",
      "\n",
      "\n",
      "\n",
      "****** Early Stopping *******\n",
      "41/41 [==============================] - 0s 3ms/step\n"
     ]
    },
    {
     "name": "stderr",
     "output_type": "stream",
     "text": [
      "2022-11-15 08:39:17.871194: I tensorflow/core/grappler/optimizers/custom_graph_optimizer_registry.cc:114] Plugin optimizer for device_type GPU is enabled.\n"
     ]
    },
    {
     "name": "stdout",
     "output_type": "stream",
     "text": [
      "0.6625514403292181\n",
      "0.7473035439137135\n",
      "error_rate: 0.00017624260245580238\n",
      "1.0000000000000038\n",
      " =========== iteration ===========>: 13\n",
      "bfore traning:  51.93798449612403\n",
      "Epoch 1/60\n"
     ]
    },
    {
     "name": "stderr",
     "output_type": "stream",
     "text": [
      "2022-11-15 08:39:18.352705: I tensorflow/core/grappler/optimizers/custom_graph_optimizer_registry.cc:114] Plugin optimizer for device_type GPU is enabled.\n"
     ]
    },
    {
     "name": "stdout",
     "output_type": "stream",
     "text": [
      "2/2 [==============================] - 2s 586ms/step - loss: 4.6858 - tp: 6.0000 - fp: 8.0000 - tn: 54.0000 - fn: 61.0000 - precision: 0.4286 - recall: 0.0896\n",
      "Epoch 2/60\n",
      "2/2 [==============================] - 0s 204ms/step - loss: 3.8211 - tp: 37.0000 - fp: 21.0000 - tn: 41.0000 - fn: 30.0000 - precision: 0.6379 - recall: 0.5522\n",
      "Epoch 3/60\n",
      "2/2 [==============================] - 0s 110ms/step - loss: 3.0848 - tp: 42.0000 - fp: 20.0000 - tn: 42.0000 - fn: 25.0000 - precision: 0.6774 - recall: 0.6269\n",
      "Epoch 4/60\n",
      "2/2 [==============================] - 0s 64ms/step - loss: 2.4454 - tp: 52.0000 - fp: 19.0000 - tn: 43.0000 - fn: 15.0000 - precision: 0.7324 - recall: 0.7761\n",
      "Epoch 5/60\n",
      "1/2 [==============>...............] - ETA: 0s - loss: 2.0155 - tp: 28.0000 - fp: 9.0000 - tn: 30.0000 - fn: 3.0000 - precision: 0.7568 - recall: 0.9032\n",
      "\n",
      "******* Stoping on Defined Thresold *******\n",
      "F1 TRAINING:  0.828571430195351\n",
      "Recall TRAINING:  0.8656716346740723\n",
      "2/2 [==============================] - 0s 12ms/step - loss: 1.9074 - tp: 58.0000 - fp: 15.0000 - tn: 47.0000 - fn: 9.0000 - precision: 0.7945 - recall: 0.8657\n",
      "\n",
      "\n",
      "\n",
      "****** Early Stopping *******\n",
      "41/41 [==============================] - 0s 3ms/step\n"
     ]
    },
    {
     "name": "stderr",
     "output_type": "stream",
     "text": [
      "2022-11-15 08:39:20.716136: I tensorflow/core/grappler/optimizers/custom_graph_optimizer_registry.cc:114] Plugin optimizer for device_type GPU is enabled.\n"
     ]
    },
    {
     "name": "stdout",
     "output_type": "stream",
     "text": [
      "0.7973273942093542\n",
      "0.7896764252696457\n",
      "error_rate: 0.00018163651527351423\n",
      "1.0000000000000062\n",
      " =========== iteration ===========>: 14\n",
      "bfore traning:  48.837209302325576\n",
      "Epoch 1/60\n"
     ]
    },
    {
     "name": "stderr",
     "output_type": "stream",
     "text": [
      "2022-11-15 08:39:21.195384: I tensorflow/core/grappler/optimizers/custom_graph_optimizer_registry.cc:114] Plugin optimizer for device_type GPU is enabled.\n"
     ]
    },
    {
     "name": "stdout",
     "output_type": "stream",
     "text": [
      "2/2 [==============================] - 2s 680ms/step - loss: 4.7074 - tp: 15.0000 - fp: 6.0000 - tn: 60.0000 - fn: 48.0000 - precision: 0.7143 - recall: 0.2381\n",
      "Epoch 2/60\n",
      "2/2 [==============================] - ETA: 0s - loss: 3.9228 - tp: 46.0000 - fp: 12.0000 - tn: 54.0000 - fn: 17.0000 - precision: 0.7931 - recall: 0.7302\n",
      "\n",
      "******* Stoping on Defined Thresold *******\n",
      "F1 TRAINING:  0.7603305910106044\n",
      "Recall TRAINING:  0.7301587462425232\n",
      "2/2 [==============================] - 0s 74ms/step - loss: 3.9228 - tp: 46.0000 - fp: 12.0000 - tn: 54.0000 - fn: 17.0000 - precision: 0.7931 - recall: 0.7302\n",
      "\n",
      "\n",
      "\n",
      "****** Early Stopping *******\n",
      "41/41 [==============================] - 0s 3ms/step\n"
     ]
    },
    {
     "name": "stderr",
     "output_type": "stream",
     "text": [
      "2022-11-15 08:39:23.101131: I tensorflow/core/grappler/optimizers/custom_graph_optimizer_registry.cc:114] Plugin optimizer for device_type GPU is enabled.\n"
     ]
    },
    {
     "name": "stdout",
     "output_type": "stream",
     "text": [
      "0.7522796352583586\n",
      "0.74884437596302\n",
      "error_rate: 0.00020628243033568976\n",
      "1.0000000000000049\n",
      " =========== iteration ===========>: 15\n",
      "bfore traning:  45.73643410852713\n",
      "Epoch 1/60\n"
     ]
    },
    {
     "name": "stderr",
     "output_type": "stream",
     "text": [
      "2022-11-15 08:39:23.569013: I tensorflow/core/grappler/optimizers/custom_graph_optimizer_registry.cc:114] Plugin optimizer for device_type GPU is enabled.\n"
     ]
    },
    {
     "name": "stdout",
     "output_type": "stream",
     "text": [
      "2/2 [==============================] - 2s 672ms/step - loss: 4.6486 - tp: 44.0000 - fp: 64.0000 - tn: 6.0000 - fn: 15.0000 - precision: 0.4074 - recall: 0.7458\n",
      "Epoch 2/60\n",
      "2/2 [==============================] - 0s 133ms/step - loss: 3.7754 - tp: 46.0000 - fp: 62.0000 - tn: 8.0000 - fn: 13.0000 - precision: 0.4259 - recall: 0.7797\n",
      "Epoch 3/60\n",
      "2/2 [==============================] - 0s 72ms/step - loss: 3.0172 - tp: 44.0000 - fp: 57.0000 - tn: 13.0000 - fn: 15.0000 - precision: 0.4356 - recall: 0.7458\n",
      "Epoch 4/60\n",
      "2/2 [==============================] - 0s 153ms/step - loss: 2.3692 - tp: 46.0000 - fp: 51.0000 - tn: 19.0000 - fn: 13.0000 - precision: 0.4742 - recall: 0.7797\n",
      "Epoch 5/60\n",
      "2/2 [==============================] - 0s 40ms/step - loss: 1.8276 - tp: 49.0000 - fp: 38.0000 - tn: 32.0000 - fn: 10.0000 - precision: 0.5632 - recall: 0.8305\n",
      "Epoch 6/60\n",
      "2/2 [==============================] - 0s 64ms/step - loss: 1.3926 - tp: 49.0000 - fp: 20.0000 - tn: 50.0000 - fn: 10.0000 - precision: 0.7101 - recall: 0.8305\n",
      "Epoch 7/60\n",
      "1/2 [==============>...............] - ETA: 0s - loss: 1.1277 - tp: 25.0000 - fp: 8.0000 - tn: 36.0000 - fn: 1.0000 - precision: 0.7576 - recall: 0.9615\n",
      "\n",
      "******* Stoping on Defined Thresold *******\n",
      "F1 TRAINING:  0.873015866160362\n",
      "Recall TRAINING:  0.9322034120559692\n",
      "2/2 [==============================] - 0s 11ms/step - loss: 1.0613 - tp: 55.0000 - fp: 12.0000 - tn: 58.0000 - fn: 4.0000 - precision: 0.8209 - recall: 0.9322\n",
      "\n",
      "\n",
      "\n",
      "****** Early Stopping *******\n",
      "41/41 [==============================] - 0s 4ms/step\n"
     ]
    },
    {
     "name": "stderr",
     "output_type": "stream",
     "text": [
      "2022-11-15 08:39:26.348053: I tensorflow/core/grappler/optimizers/custom_graph_optimizer_registry.cc:114] Plugin optimizer for device_type GPU is enabled.\n"
     ]
    },
    {
     "name": "stdout",
     "output_type": "stream",
     "text": [
      "0.8780141843971633\n",
      "0.8674884437596302\n",
      "error_rate: 0.00013851070691272795\n",
      "0.9999999999999983\n",
      " =========== iteration ===========>: 16\n",
      "bfore traning:  51.162790697674424\n",
      "Epoch 1/60\n"
     ]
    },
    {
     "name": "stderr",
     "output_type": "stream",
     "text": [
      "2022-11-15 08:39:26.834721: I tensorflow/core/grappler/optimizers/custom_graph_optimizer_registry.cc:114] Plugin optimizer for device_type GPU is enabled.\n"
     ]
    },
    {
     "name": "stdout",
     "output_type": "stream",
     "text": [
      "2/2 [==============================] - 2s 670ms/step - loss: 4.6426 - tp: 6.0000 - fp: 3.0000 - tn: 60.0000 - fn: 60.0000 - precision: 0.6667 - recall: 0.0909\n",
      "Epoch 2/60\n",
      "2/2 [==============================] - 0s 184ms/step - loss: 3.7725 - tp: 37.0000 - fp: 28.0000 - tn: 35.0000 - fn: 29.0000 - precision: 0.5692 - recall: 0.5606\n",
      "Epoch 3/60\n",
      "2/2 [==============================] - 0s 115ms/step - loss: 3.0168 - tp: 54.0000 - fp: 30.0000 - tn: 33.0000 - fn: 12.0000 - precision: 0.6429 - recall: 0.8182\n",
      "Epoch 4/60\n",
      "2/2 [==============================] - 0s 81ms/step - loss: 2.3724 - tp: 55.0000 - fp: 31.0000 - tn: 32.0000 - fn: 11.0000 - precision: 0.6395 - recall: 0.8333\n",
      "Epoch 5/60\n",
      "2/2 [==============================] - 0s 14ms/step - loss: 1.8372 - tp: 61.0000 - fp: 28.0000 - tn: 35.0000 - fn: 5.0000 - precision: 0.6854 - recall: 0.9242\n",
      "Epoch 6/60\n",
      "2/2 [==============================] - 0s 150ms/step - loss: 1.4037 - tp: 59.0000 - fp: 24.0000 - tn: 39.0000 - fn: 7.0000 - precision: 0.7108 - recall: 0.8939\n",
      "Epoch 7/60\n",
      "1/2 [==============>...............] - ETA: 0s - loss: 1.1332 - tp: 35.0000 - fp: 8.0000 - tn: 25.0000 - fn: 2.0000 - precision: 0.8140 - recall: 0.9459\n",
      "\n",
      "******* Stoping on Defined Thresold *******\n",
      "F1 TRAINING:  0.8551724372947676\n",
      "Recall TRAINING:  0.9393939971923828\n",
      "2/2 [==============================] - 0s 14ms/step - loss: 1.0706 - tp: 62.0000 - fp: 17.0000 - tn: 46.0000 - fn: 4.0000 - precision: 0.7848 - recall: 0.9394\n",
      "\n",
      "\n",
      "\n",
      "****** Early Stopping *******\n",
      "41/41 [==============================] - 0s 3ms/step\n"
     ]
    },
    {
     "name": "stderr",
     "output_type": "stream",
     "text": [
      "2022-11-15 08:39:29.845311: I tensorflow/core/grappler/optimizers/custom_graph_optimizer_registry.cc:114] Plugin optimizer for device_type GPU is enabled.\n"
     ]
    },
    {
     "name": "stdout",
     "output_type": "stream",
     "text": [
      "0.8509363295880149\n",
      "0.8466872110939908\n",
      "error_rate: 0.0001353906718897227\n",
      "1.0000000000000089\n",
      " =========== iteration ===========>: 17\n",
      "bfore traning:  51.93798449612403\n",
      "Epoch 1/60\n"
     ]
    },
    {
     "name": "stderr",
     "output_type": "stream",
     "text": [
      "2022-11-15 08:39:30.321545: I tensorflow/core/grappler/optimizers/custom_graph_optimizer_registry.cc:114] Plugin optimizer for device_type GPU is enabled.\n"
     ]
    },
    {
     "name": "stdout",
     "output_type": "stream",
     "text": [
      "2/2 [==============================] - 2s 652ms/step - loss: 4.6754 - tp: 16.0000 - fp: 13.0000 - tn: 49.0000 - fn: 51.0000 - precision: 0.5517 - recall: 0.2388\n",
      "Epoch 2/60\n",
      "2/2 [==============================] - 0s 200ms/step - loss: 3.8181 - tp: 59.0000 - fp: 20.0000 - tn: 42.0000 - fn: 8.0000 - precision: 0.7468 - recall: 0.8806\n",
      "Epoch 3/60\n",
      "2/2 [==============================] - ETA: 0s - loss: 3.0709 - tp: 61.0000 - fp: 19.0000 - tn: 43.0000 - fn: 6.0000 - precision: 0.7625 - recall: 0.9104\n",
      "\n",
      "******* Stoping on Defined Thresold *******\n",
      "F1 TRAINING:  0.829931947247026\n",
      "Recall TRAINING:  0.9104477167129517\n",
      "2/2 [==============================] - 0s 112ms/step - loss: 3.0709 - tp: 61.0000 - fp: 19.0000 - tn: 43.0000 - fn: 6.0000 - precision: 0.7625 - recall: 0.9104\n",
      "\n",
      "\n",
      "\n",
      "****** Early Stopping *******\n",
      "41/41 [==============================] - 0s 3ms/step\n"
     ]
    },
    {
     "name": "stderr",
     "output_type": "stream",
     "text": [
      "2022-11-15 08:39:32.663254: I tensorflow/core/grappler/optimizers/custom_graph_optimizer_registry.cc:114] Plugin optimizer for device_type GPU is enabled.\n"
     ]
    },
    {
     "name": "stdout",
     "output_type": "stream",
     "text": [
      "0.7416728349370836\n",
      "0.7311248073959938\n",
      "error_rate: 0.0002032268990655166\n",
      "1.0000000000000009\n",
      " =========== iteration ===========>: 18\n",
      "bfore traning:  41.08527131782946\n",
      "Epoch 1/60\n"
     ]
    },
    {
     "name": "stderr",
     "output_type": "stream",
     "text": [
      "2022-11-15 08:39:33.144270: I tensorflow/core/grappler/optimizers/custom_graph_optimizer_registry.cc:114] Plugin optimizer for device_type GPU is enabled.\n"
     ]
    },
    {
     "name": "stdout",
     "output_type": "stream",
     "text": [
      "2/2 [==============================] - 2s 655ms/step - loss: 4.6388 - tp: 24.0000 - fp: 18.0000 - tn: 58.0000 - fn: 29.0000 - precision: 0.5714 - recall: 0.4528\n",
      "Epoch 2/60\n",
      "2/2 [==============================] - 0s 126ms/step - loss: 3.7699 - tp: 25.0000 - fp: 16.0000 - tn: 60.0000 - fn: 28.0000 - precision: 0.6098 - recall: 0.4717\n",
      "Epoch 3/60\n",
      "2/2 [==============================] - 0s 139ms/step - loss: 3.0212 - tp: 28.0000 - fp: 14.0000 - tn: 62.0000 - fn: 25.0000 - precision: 0.6667 - recall: 0.5283\n",
      "Epoch 4/60\n",
      "2/2 [==============================] - ETA: 0s - loss: 2.3810 - tp: 36.0000 - fp: 10.0000 - tn: 66.0000 - fn: 17.0000 - precision: 0.7826 - recall: 0.6792\n",
      "\n",
      "******* Stoping on Defined Thresold *******\n",
      "F1 TRAINING:  0.7272727297174846\n",
      "Recall TRAINING:  0.6792452931404114\n",
      "2/2 [==============================] - 0s 68ms/step - loss: 2.3810 - tp: 36.0000 - fp: 10.0000 - tn: 66.0000 - fn: 17.0000 - precision: 0.7826 - recall: 0.6792\n",
      "\n",
      "\n",
      "\n",
      "****** Early Stopping *******\n",
      "41/41 [==============================] - 0s 3ms/step\n"
     ]
    },
    {
     "name": "stderr",
     "output_type": "stream",
     "text": [
      "2022-11-15 08:39:35.616943: I tensorflow/core/grappler/optimizers/custom_graph_optimizer_registry.cc:114] Plugin optimizer for device_type GPU is enabled.\n"
     ]
    },
    {
     "name": "stdout",
     "output_type": "stream",
     "text": [
      "0.734156378600823\n",
      "0.75115562403698\n",
      "error_rate: 0.00022263131889530205\n",
      "1.0000000000000093\n",
      " =========== iteration ===========>: 19\n",
      "bfore traning:  40.310077519379846\n",
      "Epoch 1/60\n"
     ]
    },
    {
     "name": "stderr",
     "output_type": "stream",
     "text": [
      "2022-11-15 08:39:36.097807: I tensorflow/core/grappler/optimizers/custom_graph_optimizer_registry.cc:114] Plugin optimizer for device_type GPU is enabled.\n"
     ]
    },
    {
     "name": "stdout",
     "output_type": "stream",
     "text": [
      "2/2 [==============================] - 2s 653ms/step - loss: 4.6383 - tp: 36.0000 - fp: 63.0000 - tn: 14.0000 - fn: 16.0000 - precision: 0.3636 - recall: 0.6923\n",
      "Epoch 2/60\n",
      "2/2 [==============================] - 0s 178ms/step - loss: 3.7673 - tp: 36.0000 - fp: 53.0000 - tn: 24.0000 - fn: 16.0000 - precision: 0.4045 - recall: 0.6923\n",
      "Epoch 3/60\n",
      "2/2 [==============================] - 0s 203ms/step - loss: 3.0113 - tp: 39.0000 - fp: 39.0000 - tn: 38.0000 - fn: 13.0000 - precision: 0.5000 - recall: 0.7500\n",
      "Epoch 4/60\n",
      "2/2 [==============================] - 0s 129ms/step - loss: 2.3678 - tp: 37.0000 - fp: 19.0000 - tn: 58.0000 - fn: 15.0000 - precision: 0.6607 - recall: 0.7115\n",
      "Epoch 5/60\n",
      "2/2 [==============================] - 0s 153ms/step - loss: 1.8332 - tp: 37.0000 - fp: 13.0000 - tn: 64.0000 - fn: 15.0000 - precision: 0.7400 - recall: 0.7115\n",
      "Epoch 6/60\n",
      "2/2 [==============================] - 0s 11ms/step - loss: 1.4025 - tp: 37.0000 - fp: 15.0000 - tn: 62.0000 - fn: 15.0000 - precision: 0.7115 - recall: 0.7115\n",
      "Epoch 7/60\n",
      "1/2 [==============>...............] - ETA: 0s - loss: 1.1349 - tp: 18.0000 - fp: 5.0000 - tn: 36.0000 - fn: 11.0000 - precision: 0.7826 - recall: 0.6207\n",
      "\n",
      "******* Stoping on Defined Thresold *******\n",
      "F1 TRAINING:  0.7722772174156852\n",
      "Recall TRAINING:  0.75\n",
      "2/2 [==============================] - 0s 14ms/step - loss: 1.0701 - tp: 39.0000 - fp: 10.0000 - tn: 67.0000 - fn: 13.0000 - precision: 0.7959 - recall: 0.7500\n",
      "\n",
      "\n",
      "\n",
      "****** Early Stopping *******\n",
      "16/41 [==========>...................] - ETA: 0s"
     ]
    },
    {
     "name": "stderr",
     "output_type": "stream",
     "text": [
      "2022-11-15 08:39:39.133122: I tensorflow/core/grappler/optimizers/custom_graph_optimizer_registry.cc:114] Plugin optimizer for device_type GPU is enabled.\n"
     ]
    },
    {
     "name": "stdout",
     "output_type": "stream",
     "text": [
      "41/41 [==============================] - 0s 4ms/step\n",
      "0.8533916849015317\n",
      "0.8451463790446841\n",
      "error_rate: 0.00016670457053078678\n",
      "0.9999999999999952\n",
      " =========== iteration ===========>: 20\n",
      "bfore traning:  38.759689922480625\n",
      "Epoch 1/60\n"
     ]
    },
    {
     "name": "stderr",
     "output_type": "stream",
     "text": [
      "2022-11-15 08:39:39.634414: I tensorflow/core/grappler/optimizers/custom_graph_optimizer_registry.cc:114] Plugin optimizer for device_type GPU is enabled.\n"
     ]
    },
    {
     "name": "stdout",
     "output_type": "stream",
     "text": [
      "2/2 [==============================] - 2s 669ms/step - loss: 4.6375 - tp: 28.0000 - fp: 33.0000 - tn: 46.0000 - fn: 22.0000 - precision: 0.4590 - recall: 0.5600\n",
      "Epoch 2/60\n",
      "2/2 [==============================] - 0s 212ms/step - loss: 3.7637 - tp: 28.0000 - fp: 32.0000 - tn: 47.0000 - fn: 22.0000 - precision: 0.4667 - recall: 0.5600\n",
      "Epoch 3/60\n",
      "2/2 [==============================] - 0s 94ms/step - loss: 3.0030 - tp: 29.0000 - fp: 30.0000 - tn: 49.0000 - fn: 21.0000 - precision: 0.4915 - recall: 0.5800\n",
      "Epoch 4/60\n",
      "2/2 [==============================] - 0s 57ms/step - loss: 2.3549 - tp: 29.0000 - fp: 22.0000 - tn: 57.0000 - fn: 21.0000 - precision: 0.5686 - recall: 0.5800\n",
      "Epoch 5/60\n",
      "2/2 [==============================] - 0s 20ms/step - loss: 1.8182 - tp: 34.0000 - fp: 20.0000 - tn: 59.0000 - fn: 16.0000 - precision: 0.6296 - recall: 0.6800\n",
      "Epoch 6/60\n",
      "2/2 [==============================] - ETA: 0s - loss: 1.3890 - tp: 34.0000 - fp: 11.0000 - tn: 68.0000 - fn: 16.0000 - precision: 0.7556 - recall: 0.6800\n",
      "\n",
      "******* Stoping on Defined Thresold *******\n",
      "F1 TRAINING:  0.7157894841851951\n",
      "Recall TRAINING:  0.6800000071525574\n",
      "2/2 [==============================] - 0s 82ms/step - loss: 1.3890 - tp: 34.0000 - fp: 11.0000 - tn: 68.0000 - fn: 16.0000 - precision: 0.7556 - recall: 0.6800\n",
      "\n",
      "\n",
      "\n",
      "****** Early Stopping *******\n",
      "41/41 [==============================] - 0s 3ms/step\n"
     ]
    },
    {
     "name": "stderr",
     "output_type": "stream",
     "text": [
      "2022-11-15 08:39:42.287079: I tensorflow/core/grappler/optimizers/custom_graph_optimizer_registry.cc:114] Plugin optimizer for device_type GPU is enabled.\n"
     ]
    },
    {
     "name": "stdout",
     "output_type": "stream",
     "text": [
      "0.6352497643732328\n",
      "0.7018489984591679\n",
      "error_rate: 0.00022451494415208552\n",
      "0.9999999999999998\n",
      " =========== iteration ===========>: 21\n",
      "bfore traning:  41.08527131782946\n",
      "Epoch 1/60\n"
     ]
    },
    {
     "name": "stderr",
     "output_type": "stream",
     "text": [
      "2022-11-15 08:39:42.765420: I tensorflow/core/grappler/optimizers/custom_graph_optimizer_registry.cc:114] Plugin optimizer for device_type GPU is enabled.\n"
     ]
    },
    {
     "name": "stdout",
     "output_type": "stream",
     "text": [
      "2/2 [==============================] - 2s 654ms/step - loss: 4.6924 - tp: 25.0000 - fp: 42.0000 - tn: 34.0000 - fn: 28.0000 - precision: 0.3731 - recall: 0.4717\n",
      "Epoch 2/60\n",
      "2/2 [==============================] - 0s 149ms/step - loss: 3.8543 - tp: 33.0000 - fp: 47.0000 - tn: 29.0000 - fn: 20.0000 - precision: 0.4125 - recall: 0.6226\n",
      "Epoch 3/60\n",
      "2/2 [==============================] - 0s 179ms/step - loss: 3.1082 - tp: 27.0000 - fp: 34.0000 - tn: 42.0000 - fn: 26.0000 - precision: 0.4426 - recall: 0.5094\n",
      "Epoch 4/60\n",
      "2/2 [==============================] - 0s 68ms/step - loss: 2.4609 - tp: 27.0000 - fp: 32.0000 - tn: 44.0000 - fn: 26.0000 - precision: 0.4576 - recall: 0.5094\n",
      "Epoch 5/60\n",
      "2/2 [==============================] - 0s 27ms/step - loss: 1.9181 - tp: 27.0000 - fp: 24.0000 - tn: 52.0000 - fn: 26.0000 - precision: 0.5294 - recall: 0.5094\n",
      "Epoch 6/60\n",
      "2/2 [==============================] - ETA: 0s - loss: 1.4767 - tp: 25.0000 - fp: 8.0000 - tn: 68.0000 - fn: 28.0000 - precision: 0.7576 - recall: 0.4717\n",
      "\n",
      "******* Stoping on Defined Thresold *******\n",
      "F1 TRAINING:  0.5813953407298171\n",
      "Recall TRAINING:  0.4716981053352356\n",
      "2/2 [==============================] - 0s 129ms/step - loss: 1.4767 - tp: 25.0000 - fp: 8.0000 - tn: 68.0000 - fn: 28.0000 - precision: 0.7576 - recall: 0.4717\n",
      "\n",
      "\n",
      "\n",
      "****** Early Stopping *******\n",
      "41/41 [==============================] - 0s 4ms/step\n"
     ]
    },
    {
     "name": "stderr",
     "output_type": "stream",
     "text": [
      "2022-11-15 08:39:45.684623: I tensorflow/core/grappler/optimizers/custom_graph_optimizer_registry.cc:114] Plugin optimizer for device_type GPU is enabled.\n"
     ]
    },
    {
     "name": "stdout",
     "output_type": "stream",
     "text": [
      "0.4157955865272938\n",
      "0.6124807395993837\n",
      "error_rate: 0.0002809924865579009\n",
      "1.000000000000002\n",
      " =========== iteration ===========>: 22\n",
      "bfore traning:  41.08527131782946\n",
      "Epoch 1/60\n"
     ]
    },
    {
     "name": "stderr",
     "output_type": "stream",
     "text": [
      "2022-11-15 08:39:46.174802: I tensorflow/core/grappler/optimizers/custom_graph_optimizer_registry.cc:114] Plugin optimizer for device_type GPU is enabled.\n"
     ]
    },
    {
     "name": "stdout",
     "output_type": "stream",
     "text": [
      "2/2 [==============================] - 2s 648ms/step - loss: 4.6848 - tp: 38.0000 - fp: 57.0000 - tn: 19.0000 - fn: 15.0000 - precision: 0.4000 - recall: 0.7170\n",
      "Epoch 2/60\n",
      "2/2 [==============================] - 0s 225ms/step - loss: 3.8230 - tp: 37.0000 - fp: 48.0000 - tn: 28.0000 - fn: 16.0000 - precision: 0.4353 - recall: 0.6981\n",
      "Epoch 3/60\n",
      "2/2 [==============================] - 0s 112ms/step - loss: 3.0743 - tp: 37.0000 - fp: 32.0000 - tn: 44.0000 - fn: 16.0000 - precision: 0.5362 - recall: 0.6981\n",
      "Epoch 4/60\n",
      "2/2 [==============================] - 0s 81ms/step - loss: 2.4283 - tp: 40.0000 - fp: 14.0000 - tn: 62.0000 - fn: 13.0000 - precision: 0.7407 - recall: 0.7547\n",
      "Epoch 5/60\n",
      "2/2 [==============================] - ETA: 0s - loss: 1.8840 - tp: 43.0000 - fp: 5.0000 - tn: 71.0000 - fn: 10.0000 - precision: 0.8958 - recall: 0.8113\n",
      "\n",
      "******* Stoping on Defined Thresold *******\n",
      "F1 TRAINING:  0.8514851813292506\n",
      "Recall TRAINING:  0.8113207817077637\n",
      "2/2 [==============================] - 0s 81ms/step - loss: 1.8840 - tp: 43.0000 - fp: 5.0000 - tn: 71.0000 - fn: 10.0000 - precision: 0.8958 - recall: 0.8113\n",
      "\n",
      "\n",
      "\n",
      "****** Early Stopping *******\n",
      "41/41 [==============================] - 0s 4ms/step\n"
     ]
    },
    {
     "name": "stderr",
     "output_type": "stream",
     "text": [
      "2022-11-15 08:39:48.783224: I tensorflow/core/grappler/optimizers/custom_graph_optimizer_registry.cc:114] Plugin optimizer for device_type GPU is enabled.\n"
     ]
    },
    {
     "name": "stdout",
     "output_type": "stream",
     "text": [
      "0.78231748158071\n",
      "0.7496147919876733\n",
      "error_rate: 0.00022552560419482082\n",
      "0.9999999999999977\n",
      " =========== iteration ===========>: 23\n",
      "bfore traning:  50.3875968992248\n",
      "Epoch 1/60\n"
     ]
    },
    {
     "name": "stderr",
     "output_type": "stream",
     "text": [
      "2022-11-15 08:39:49.264448: I tensorflow/core/grappler/optimizers/custom_graph_optimizer_registry.cc:114] Plugin optimizer for device_type GPU is enabled.\n"
     ]
    },
    {
     "name": "stdout",
     "output_type": "stream",
     "text": [
      "2/2 [==============================] - 2s 648ms/step - loss: 4.6455 - tp: 20.0000 - fp: 17.0000 - tn: 47.0000 - fn: 45.0000 - precision: 0.5405 - recall: 0.3077\n",
      "Epoch 2/60\n",
      "2/2 [==============================] - 0s 108ms/step - loss: 3.7797 - tp: 49.0000 - fp: 29.0000 - tn: 35.0000 - fn: 16.0000 - precision: 0.6282 - recall: 0.7538\n",
      "Epoch 3/60\n",
      "2/2 [==============================] - 0s 121ms/step - loss: 3.0309 - tp: 59.0000 - fp: 28.0000 - tn: 36.0000 - fn: 6.0000 - precision: 0.6782 - recall: 0.9077\n",
      "Epoch 4/60\n",
      "2/2 [==============================] - 0s 171ms/step - loss: 2.3883 - tp: 59.0000 - fp: 28.0000 - tn: 36.0000 - fn: 6.0000 - precision: 0.6782 - recall: 0.9077\n",
      "Epoch 5/60\n",
      "2/2 [==============================] - 0s 66ms/step - loss: 1.8544 - tp: 64.0000 - fp: 27.0000 - tn: 37.0000 - fn: 1.0000 - precision: 0.7033 - recall: 0.9846\n",
      "Epoch 6/60\n",
      "2/2 [==============================] - 0s 61ms/step - loss: 1.4244 - tp: 65.0000 - fp: 23.0000 - tn: 41.0000 - fn: 0.0000e+00 - precision: 0.7386 - recall: 1.0000\n",
      "Epoch 7/60\n",
      "2/2 [==============================] - ETA: 0s - loss: 1.0904 - tp: 64.0000 - fp: 16.0000 - tn: 48.0000 - fn: 1.0000 - precision: 0.8000 - recall: 0.9846   \n",
      "\n",
      "******* Stoping on Defined Thresold *******\n",
      "F1 TRAINING:  0.8827586283156478\n",
      "Recall TRAINING:  0.9846153855323792\n",
      "2/2 [==============================] - 0s 72ms/step - loss: 1.0904 - tp: 64.0000 - fp: 16.0000 - tn: 48.0000 - fn: 1.0000 - precision: 0.8000 - recall: 0.9846\n",
      "\n",
      "\n",
      "\n",
      "****** Early Stopping *******\n",
      "41/41 [==============================] - 0s 3ms/step\n"
     ]
    },
    {
     "name": "stderr",
     "output_type": "stream",
     "text": [
      "2022-11-15 08:39:52.292024: I tensorflow/core/grappler/optimizers/custom_graph_optimizer_registry.cc:114] Plugin optimizer for device_type GPU is enabled.\n"
     ]
    },
    {
     "name": "stdout",
     "output_type": "stream",
     "text": [
      "0.9034749034749034\n",
      "0.9036979969183359\n",
      "error_rate: 8.424764746917801e-05\n",
      "1.0000000000000018\n",
      " =========== iteration ===========>: 24\n",
      "bfore traning:  53.48837209302325\n",
      "Epoch 1/60\n"
     ]
    },
    {
     "name": "stderr",
     "output_type": "stream",
     "text": [
      "2022-11-15 08:39:52.765835: I tensorflow/core/grappler/optimizers/custom_graph_optimizer_registry.cc:114] Plugin optimizer for device_type GPU is enabled.\n"
     ]
    },
    {
     "name": "stdout",
     "output_type": "stream",
     "text": [
      "2/2 [==============================] - 2s 660ms/step - loss: 4.6207 - tp: 30.0000 - fp: 24.0000 - tn: 36.0000 - fn: 39.0000 - precision: 0.5556 - recall: 0.4348\n",
      "Epoch 2/60\n",
      "2/2 [==============================] - 0s 193ms/step - loss: 3.7494 - tp: 50.0000 - fp: 39.0000 - tn: 21.0000 - fn: 19.0000 - precision: 0.5618 - recall: 0.7246\n",
      "Epoch 3/60\n",
      "2/2 [==============================] - 0s 295ms/step - loss: 2.9880 - tp: 50.0000 - fp: 39.0000 - tn: 21.0000 - fn: 19.0000 - precision: 0.5618 - recall: 0.7246\n",
      "Epoch 4/60\n",
      "2/2 [==============================] - 0s 109ms/step - loss: 2.3438 - tp: 61.0000 - fp: 40.0000 - tn: 20.0000 - fn: 8.0000 - precision: 0.6040 - recall: 0.8841\n",
      "Epoch 5/60\n",
      "2/2 [==============================] - 0s 68ms/step - loss: 1.8122 - tp: 63.0000 - fp: 38.0000 - tn: 22.0000 - fn: 6.0000 - precision: 0.6238 - recall: 0.9130\n",
      "Epoch 6/60\n",
      "2/2 [==============================] - 0s 98ms/step - loss: 1.3858 - tp: 67.0000 - fp: 37.0000 - tn: 23.0000 - fn: 2.0000 - precision: 0.6442 - recall: 0.9710\n",
      "Epoch 7/60\n",
      "2/2 [==============================] - 0s 60ms/step - loss: 1.0590 - tp: 67.0000 - fp: 36.0000 - tn: 24.0000 - fn: 2.0000 - precision: 0.6505 - recall: 0.9710\n",
      "Epoch 8/60\n",
      "2/2 [==============================] - 0s 15ms/step - loss: 0.8331 - tp: 69.0000 - fp: 29.0000 - tn: 31.0000 - fn: 0.0000e+00 - precision: 0.7041 - recall: 1.0000\n",
      "Epoch 9/60\n",
      "1/2 [==============>...............] - ETA: 0s - loss: 0.7226 - tp: 35.0000 - fp: 13.0000 - tn: 22.0000 - fn: 0.0000e+00 - precision: 0.7292 - recall: 1.0000\n",
      "\n",
      "******* Stoping on Defined Thresold *******\n",
      "F1 TRAINING:  0.8903225960071574\n",
      "Recall TRAINING:  1.0\n",
      "2/2 [==============================] - 0s 12ms/step - loss: 0.7063 - tp: 69.0000 - fp: 17.0000 - tn: 43.0000 - fn: 0.0000e+00 - precision: 0.8023 - recall: 1.0000\n",
      "\n",
      "\n",
      "\n",
      "****** Early Stopping *******\n",
      "34/41 [=======================>......] - ETA: 0s"
     ]
    },
    {
     "name": "stderr",
     "output_type": "stream",
     "text": [
      "2022-11-15 08:39:56.287994: I tensorflow/core/grappler/optimizers/custom_graph_optimizer_registry.cc:114] Plugin optimizer for device_type GPU is enabled.\n"
     ]
    },
    {
     "name": "stdout",
     "output_type": "stream",
     "text": [
      "41/41 [==============================] - 0s 5ms/step\n",
      "0.8341902313624678\n",
      "0.8012326656394453\n",
      "error_rate: 0.00018755859093805833\n",
      "1.0000000000000044\n",
      " =========== iteration ===========>: 25\n",
      "bfore traning:  55.03875968992248\n",
      "Epoch 1/60\n"
     ]
    },
    {
     "name": "stderr",
     "output_type": "stream",
     "text": [
      "2022-11-15 08:39:56.834198: I tensorflow/core/grappler/optimizers/custom_graph_optimizer_registry.cc:114] Plugin optimizer for device_type GPU is enabled.\n"
     ]
    },
    {
     "name": "stdout",
     "output_type": "stream",
     "text": [
      "2/2 [==============================] - 2s 918ms/step - loss: 4.6535 - tp: 39.0000 - fp: 20.0000 - tn: 38.0000 - fn: 32.0000 - precision: 0.6610 - recall: 0.5493\n",
      "Epoch 2/60\n",
      "2/2 [==============================] - 0s 186ms/step - loss: 3.7907 - tp: 64.0000 - fp: 27.0000 - tn: 31.0000 - fn: 7.0000 - precision: 0.7033 - recall: 0.9014\n",
      "Epoch 3/60\n",
      "2/2 [==============================] - 0s 115ms/step - loss: 3.0443 - tp: 71.0000 - fp: 26.0000 - tn: 32.0000 - fn: 0.0000e+00 - precision: 0.7320 - recall: 1.0000\n",
      "Epoch 4/60\n",
      "2/2 [==============================] - 0s 62ms/step - loss: 2.4013 - tp: 71.0000 - fp: 24.0000 - tn: 34.0000 - fn: 0.0000e+00 - precision: 0.7474 - recall: 1.0000\n",
      "Epoch 5/60\n",
      "2/2 [==============================] - ETA: 0s - loss: 1.8662 - tp: 71.0000 - fp: 20.0000 - tn: 38.0000 - fn: 0.0000e+00 - precision: 0.7802 - recall: 1.0000\n",
      "\n",
      "******* Stoping on Defined Thresold *******\n",
      "F1 TRAINING:  0.8765432181436101\n",
      "Recall TRAINING:  1.0\n",
      "2/2 [==============================] - 0s 140ms/step - loss: 1.8662 - tp: 71.0000 - fp: 20.0000 - tn: 38.0000 - fn: 0.0000e+00 - precision: 0.7802 - recall: 1.0000\n",
      "\n",
      "\n",
      "\n",
      "****** Early Stopping *******\n",
      "15/41 [=========>....................] - ETA: 0s"
     ]
    },
    {
     "name": "stderr",
     "output_type": "stream",
     "text": [
      "2022-11-15 08:40:00.239002: I tensorflow/core/grappler/optimizers/custom_graph_optimizer_registry.cc:114] Plugin optimizer for device_type GPU is enabled.\n"
     ]
    },
    {
     "name": "stdout",
     "output_type": "stream",
     "text": [
      "41/41 [==============================] - 0s 4ms/step\n",
      "0.8256997455470738\n",
      "0.7889060092449923\n",
      "error_rate: 0.0002097028549241821\n",
      "1.0000000000000062\n",
      " =========== iteration ===========>: 26\n",
      "bfore traning:  41.86046511627907\n",
      "Epoch 1/60\n"
     ]
    },
    {
     "name": "stderr",
     "output_type": "stream",
     "text": [
      "2022-11-15 08:40:00.740240: I tensorflow/core/grappler/optimizers/custom_graph_optimizer_registry.cc:114] Plugin optimizer for device_type GPU is enabled.\n"
     ]
    },
    {
     "name": "stdout",
     "output_type": "stream",
     "text": [
      "2/2 [==============================] - 2s 817ms/step - loss: 4.6389 - tp: 23.0000 - fp: 34.0000 - tn: 41.0000 - fn: 31.0000 - precision: 0.4035 - recall: 0.4259\n",
      "Epoch 2/60\n",
      "2/2 [==============================] - 0s 96ms/step - loss: 3.7727 - tp: 33.0000 - fp: 34.0000 - tn: 41.0000 - fn: 21.0000 - precision: 0.4925 - recall: 0.6111\n",
      "Epoch 3/60\n",
      "2/2 [==============================] - 0s 71ms/step - loss: 3.0221 - tp: 18.0000 - fp: 24.0000 - tn: 51.0000 - fn: 36.0000 - precision: 0.4286 - recall: 0.3333\n",
      "Epoch 4/60\n",
      "2/2 [==============================] - 0s 180ms/step - loss: 2.3797 - tp: 20.0000 - fp: 17.0000 - tn: 58.0000 - fn: 34.0000 - precision: 0.5405 - recall: 0.3704\n",
      "Epoch 5/60\n",
      "2/2 [==============================] - 0s 86ms/step - loss: 1.8450 - tp: 22.0000 - fp: 11.0000 - tn: 64.0000 - fn: 32.0000 - precision: 0.6667 - recall: 0.4074\n",
      "Epoch 6/60\n",
      "1/2 [==============>...............] - ETA: 0s - loss: 1.4990 - tp: 11.0000 - fp: 2.0000 - tn: 41.0000 - fn: 16.0000 - precision: 0.8462 - recall: 0.4074\n",
      "\n",
      "******* Stoping on Defined Thresold *******\n",
      "F1 TRAINING:  0.5454545556684633\n",
      "Recall TRAINING:  0.3888888955116272\n",
      "2/2 [==============================] - 0s 12ms/step - loss: 1.4100 - tp: 21.0000 - fp: 2.0000 - tn: 73.0000 - fn: 33.0000 - precision: 0.9130 - recall: 0.3889\n",
      "\n",
      "\n",
      "\n",
      "****** Early Stopping *******\n",
      "36/41 [=========================>....] - ETA: 0s"
     ]
    },
    {
     "name": "stderr",
     "output_type": "stream",
     "text": [
      "2022-11-15 08:40:04.055469: I tensorflow/core/grappler/optimizers/custom_graph_optimizer_registry.cc:114] Plugin optimizer for device_type GPU is enabled.\n"
     ]
    },
    {
     "name": "stdout",
     "output_type": "stream",
     "text": [
      "41/41 [==============================] - 0s 4ms/step\n",
      "0.625\n",
      "0.7226502311248074\n",
      "error_rate: 0.0002130444580594796\n",
      "1.0000000000000007\n",
      " =========== iteration ===========>: 27\n",
      "bfore traning:  48.837209302325576\n",
      "Epoch 1/60\n"
     ]
    },
    {
     "name": "stderr",
     "output_type": "stream",
     "text": [
      "2022-11-15 08:40:04.570391: I tensorflow/core/grappler/optimizers/custom_graph_optimizer_registry.cc:114] Plugin optimizer for device_type GPU is enabled.\n"
     ]
    },
    {
     "name": "stdout",
     "output_type": "stream",
     "text": [
      "2/2 [==============================] - 2s 861ms/step - loss: 4.6354 - tp: 26.0000 - fp: 26.0000 - tn: 40.0000 - fn: 37.0000 - precision: 0.5000 - recall: 0.4127\n",
      "Epoch 2/60\n",
      "2/2 [==============================] - 0s 189ms/step - loss: 3.7704 - tp: 37.0000 - fp: 27.0000 - tn: 39.0000 - fn: 26.0000 - precision: 0.5781 - recall: 0.5873\n",
      "Epoch 3/60\n",
      "2/2 [==============================] - 0s 178ms/step - loss: 3.0179 - tp: 42.0000 - fp: 22.0000 - tn: 44.0000 - fn: 21.0000 - precision: 0.6562 - recall: 0.6667\n",
      "Epoch 4/60\n",
      "2/2 [==============================] - 0s 103ms/step - loss: 2.3737 - tp: 45.0000 - fp: 20.0000 - tn: 46.0000 - fn: 18.0000 - precision: 0.6923 - recall: 0.7143\n",
      "Epoch 5/60\n",
      "2/2 [==============================] - 0s 64ms/step - loss: 1.8370 - tp: 46.0000 - fp: 19.0000 - tn: 47.0000 - fn: 17.0000 - precision: 0.7077 - recall: 0.7302\n",
      "Epoch 6/60\n",
      "2/2 [==============================] - ETA: 0s - loss: 1.4065 - tp: 46.0000 - fp: 12.0000 - tn: 54.0000 - fn: 17.0000 - precision: 0.7931 - recall: 0.7302\n",
      "\n",
      "******* Stoping on Defined Thresold *******\n",
      "F1 TRAINING:  0.7603305910106044\n",
      "Recall TRAINING:  0.7301587462425232\n",
      "2/2 [==============================] - 0s 74ms/step - loss: 1.4065 - tp: 46.0000 - fp: 12.0000 - tn: 54.0000 - fn: 17.0000 - precision: 0.7931 - recall: 0.7302\n",
      "\n",
      "\n",
      "\n",
      "****** Early Stopping *******\n",
      "20/41 [=============>................] - ETA: 0s"
     ]
    },
    {
     "name": "stderr",
     "output_type": "stream",
     "text": [
      "2022-11-15 08:40:08.060933: I tensorflow/core/grappler/optimizers/custom_graph_optimizer_registry.cc:114] Plugin optimizer for device_type GPU is enabled.\n"
     ]
    },
    {
     "name": "stdout",
     "output_type": "stream",
     "text": [
      "41/41 [==============================] - 0s 4ms/step\n",
      "0.8026315789473685\n",
      "0.8151001540832049\n",
      "error_rate: 0.00019269003776033186\n",
      "0.9999999999999978\n",
      " =========== iteration ===========>: 28\n",
      "bfore traning:  49.6124031007752\n",
      "Epoch 1/60\n"
     ]
    },
    {
     "name": "stderr",
     "output_type": "stream",
     "text": [
      "2022-11-15 08:40:08.556474: I tensorflow/core/grappler/optimizers/custom_graph_optimizer_registry.cc:114] Plugin optimizer for device_type GPU is enabled.\n"
     ]
    },
    {
     "name": "stdout",
     "output_type": "stream",
     "text": [
      "2/2 [==============================] - 2s 708ms/step - loss: 4.6545 - tp: 41.0000 - fp: 55.0000 - tn: 10.0000 - fn: 23.0000 - precision: 0.4271 - recall: 0.6406\n",
      "Epoch 2/60\n",
      "2/2 [==============================] - 0s 223ms/step - loss: 3.7824 - tp: 41.0000 - fp: 47.0000 - tn: 18.0000 - fn: 23.0000 - precision: 0.4659 - recall: 0.6406\n",
      "Epoch 3/60\n",
      "2/2 [==============================] - 0s 92ms/step - loss: 3.0277 - tp: 42.0000 - fp: 37.0000 - tn: 28.0000 - fn: 22.0000 - precision: 0.5316 - recall: 0.6562\n",
      "Epoch 4/60\n",
      "2/2 [==============================] - 0s 19ms/step - loss: 2.3821 - tp: 45.0000 - fp: 29.0000 - tn: 36.0000 - fn: 19.0000 - precision: 0.6081 - recall: 0.7031\n",
      "Epoch 5/60\n",
      "2/2 [==============================] - 0s 154ms/step - loss: 1.8452 - tp: 49.0000 - fp: 21.0000 - tn: 44.0000 - fn: 15.0000 - precision: 0.7000 - recall: 0.7656\n",
      "Epoch 6/60\n",
      "2/2 [==============================] - ETA: 0s - loss: 1.4136 - tp: 53.0000 - fp: 8.0000 - tn: 57.0000 - fn: 11.0000 - precision: 0.8689 - recall: 0.8281\n",
      "\n",
      "******* Stoping on Defined Thresold *******\n",
      "F1 TRAINING:  0.8480000176849362\n",
      "Recall TRAINING:  0.828125\n",
      "2/2 [==============================] - 0s 52ms/step - loss: 1.4136 - tp: 53.0000 - fp: 8.0000 - tn: 57.0000 - fn: 11.0000 - precision: 0.8689 - recall: 0.8281\n",
      "\n",
      "\n",
      "\n",
      "****** Early Stopping *******\n",
      "38/41 [==========================>...] - ETA: 0s"
     ]
    },
    {
     "name": "stderr",
     "output_type": "stream",
     "text": [
      "2022-11-15 08:40:11.781201: I tensorflow/core/grappler/optimizers/custom_graph_optimizer_registry.cc:114] Plugin optimizer for device_type GPU is enabled.\n"
     ]
    },
    {
     "name": "stdout",
     "output_type": "stream",
     "text": [
      "41/41 [==============================] - 0s 4ms/step\n",
      "0.7712418300653595\n",
      "0.7303543913713405\n",
      "error_rate: 0.0002848081197669954\n",
      "0.999999999999991\n",
      " =========== iteration ===========>: 29\n",
      "bfore traning:  41.86046511627907\n",
      "Epoch 1/60\n"
     ]
    },
    {
     "name": "stderr",
     "output_type": "stream",
     "text": [
      "2022-11-15 08:40:12.834560: I tensorflow/core/grappler/optimizers/custom_graph_optimizer_registry.cc:114] Plugin optimizer for device_type GPU is enabled.\n"
     ]
    },
    {
     "name": "stdout",
     "output_type": "stream",
     "text": [
      "2/2 [==============================] - 3s 836ms/step - loss: 4.6234 - tp: 29.0000 - fp: 30.0000 - tn: 45.0000 - fn: 25.0000 - precision: 0.4915 - recall: 0.5370\n",
      "Epoch 2/60\n",
      "2/2 [==============================] - 0s 240ms/step - loss: 3.7569 - tp: 29.0000 - fp: 25.0000 - tn: 50.0000 - fn: 25.0000 - precision: 0.5370 - recall: 0.5370\n",
      "Epoch 3/60\n",
      "2/2 [==============================] - 0s 183ms/step - loss: 3.0021 - tp: 29.0000 - fp: 22.0000 - tn: 53.0000 - fn: 25.0000 - precision: 0.5686 - recall: 0.5370\n",
      "Epoch 4/60\n",
      "2/2 [==============================] - 0s 89ms/step - loss: 2.3576 - tp: 31.0000 - fp: 13.0000 - tn: 62.0000 - fn: 23.0000 - precision: 0.7045 - recall: 0.5741\n",
      "Epoch 5/60\n",
      "1/2 [==============>...............] - ETA: 0s - loss: 1.9329 - tp: 17.0000 - fp: 2.0000 - tn: 34.0000 - fn: 17.0000 - precision: 0.8947 - recall: 0.5000\n",
      "\n",
      "******* Stoping on Defined Thresold *******\n",
      "F1 TRAINING:  0.6808510710611339\n",
      "Recall TRAINING:  0.5925925970077515\n",
      "2/2 [==============================] - 0s 33ms/step - loss: 1.8243 - tp: 32.0000 - fp: 8.0000 - tn: 67.0000 - fn: 22.0000 - precision: 0.8000 - recall: 0.5926\n",
      "\n",
      "\n",
      "\n",
      "****** Early Stopping *******\n",
      "35/41 [========================>.....] - ETA: 0s"
     ]
    },
    {
     "name": "stderr",
     "output_type": "stream",
     "text": [
      "2022-11-15 08:40:16.144340: I tensorflow/core/grappler/optimizers/custom_graph_optimizer_registry.cc:114] Plugin optimizer for device_type GPU is enabled.\n"
     ]
    },
    {
     "name": "stdout",
     "output_type": "stream",
     "text": [
      "41/41 [==============================] - 0s 4ms/step\n",
      "0.6821576763485478\n",
      "0.7049306625577813\n",
      "error_rate: 0.00020392369288976914\n",
      "1.0000000000000007\n"
     ]
    }
   ],
   "source": [
    "# plt.plot(initial_weight)\n",
    "boosting(initial_weight)"
   ]
  },
  {
   "cell_type": "code",
   "execution_count": 194,
   "metadata": {
    "pycharm": {
     "name": "#%%\n"
    }
   },
   "outputs": [
    {
     "data": {
      "text/plain": "[0.11449556913491142,\n 0.10132936825112356,\n 0.10785295342482926,\n 0.10105505145982596,\n 0.10979059643271503,\n 0.10397578663296411,\n 0.09821630653275479,\n 0.10228194500118246,\n 0.09880616266682236,\n 0.10404146546215945,\n 0.09979559420446463,\n 0.10578709200835452,\n 0.10372167397079644,\n 0.10335985660442572,\n 0.10183269604091251,\n 0.10661309290554438,\n 0.10688652831608515,\n 0.10201181071413204,\n 0.10091724932482458,\n 0.10438944758897906,\n 0.10081612495760403,\n 0.09812281914292521,\n 0.10076221572392478,\n 0.11257998793367599,\n 0.10297478040218222,\n 0.10163531137172806,\n 0.10144555948314393,\n 0.10265081968148956,\n 0.09796092023675693,\n 0.1019707289288357]"
     },
     "execution_count": 194,
     "metadata": {},
     "output_type": "execute_result"
    }
   ],
   "source": [
    "alphas"
   ]
  },
  {
   "cell_type": "code",
   "execution_count": 195,
   "metadata": {
    "pycharm": {
     "name": "#%%\n"
    }
   },
   "outputs": [
    {
     "data": {
      "text/plain": "[<matplotlib.lines.Line2D at 0x2e3ae43a0>]"
     },
     "execution_count": 195,
     "metadata": {},
     "output_type": "execute_result"
    },
    {
     "data": {
      "text/plain": "<Figure size 640x480 with 1 Axes>",
      "image/png": "[encoded data removed]"
     },
     "metadata": {},
     "output_type": "display_data"
    }
   ],
   "source": [
    "plt.plot(sample_percentage)"
   ]
  },
  {
   "cell_type": "code",
   "execution_count": 196,
   "metadata": {
    "pycharm": {
     "name": "#%%\n"
    }
   },
   "outputs": [],
   "source": [
    "from sklearn.metrics import ConfusionMatrixDisplay, confusion_matrix\n",
    "\n",
    "\n",
    "def repeat(test_split, test_result, start, end):\n",
    "    mx = 0\n",
    "    size = 0\n",
    "    data = []\n",
    "    f1=[]\n",
    "    for i in range(start,end):\n",
    "        data = some_pred(test_split, i)\n",
    "        tn, fp, fn, tp = confusion_matrix(test_result, data).ravel()\n",
    "        precision = tp / (tp+ fp)\n",
    "        recall = tp / (tp+ fn)\n",
    "        score = (2 * precision * recall) / (precision + recall)\n",
    "        print(score)\n",
    "        f1.append(score)\n",
    "        if mx < score:\n",
    "            mx = score\n",
    "            size = i\n",
    "        print(i)\n",
    "    print(mx,size)\n",
    "    return data, f1\n",
    "\n",
    "# a = ensemble[0].predict(test_split)\n",
    "\n",
    "def some_pred(test_split, esize):\n",
    "#     data = []\n",
    "    k = []\n",
    "#     for j in range(len(test_split)):\n",
    "#         pa=0\n",
    "#         na =0\n",
    "    for i in range(esize):\n",
    "        print('*********:', i)\n",
    "        k.append(ensemble[i].predict([test_split]))\n",
    "        # if pa >=na:\n",
    "        #     data.append(1)\n",
    "        # else:\n",
    "        #     data.append(0)\n",
    "    # f1.append(f1_score(test_result, data, average=\"macro\"))\n",
    "    # acc.append(accuracy_score(test_result, data))\n",
    "    return k"
   ]
  },
  {
   "cell_type": "code",
   "execution_count": 196,
   "metadata": {
    "pycharm": {
     "name": "#%%\n"
    }
   },
   "outputs": [],
   "source": []
  },
  {
   "cell_type": "code",
   "execution_count": 197,
   "metadata": {
    "pycharm": {
     "name": "#%%\n"
    }
   },
   "outputs": [],
   "source": [
    "\n",
    "def majority(data):\n",
    "    ans =[]\n",
    "    for i in range(len(data[0])):\n",
    "        ap = 0\n",
    "        an = 0\n",
    "        for e in range(len(data)):\n",
    "            if data[e][i] >= .5:\n",
    "                ap += alphas[e]\n",
    "            else:\n",
    "                an += alphas[e]\n",
    "        if ap >= an:\n",
    "            ans.append(1)\n",
    "        else:\n",
    "            ans.append(0)\n",
    "    return ans\n"
   ]
  },
  {
   "cell_type": "code",
   "execution_count": 198,
   "metadata": {
    "pycharm": {
     "name": "#%%\n"
    }
   },
   "outputs": [],
   "source": [
    "def getf1(true, predicted):\n",
    "    tn, fp, fn, tp = confusion_matrix(true, predicted).ravel()\n",
    "    precision = tp / (tp+ fp)\n",
    "    recall = tp / (tp+ fn)\n",
    "    score = ( precision , recall, (2*precision*recall)/(precision+recall))\n",
    "    return score"
   ]
  },
  {
   "cell_type": "code",
   "execution_count": 199,
   "metadata": {
    "pycharm": {
     "name": "#%%\n"
    }
   },
   "outputs": [
    {
     "name": "stderr",
     "output_type": "stream",
     "text": [
      "2022-11-15 08:42:20.931566: I tensorflow/core/grappler/optimizers/custom_graph_optimizer_registry.cc:114] Plugin optimizer for device_type GPU is enabled.\n"
     ]
    },
    {
     "name": "stdout",
     "output_type": "stream",
     "text": [
      "*********: 0\n",
      "3/3 [==============================] - 0s 39ms/step\n",
      "*********: 0\n",
      "3/3 [==============================] - 0s 3ms/step\n",
      "*********: 1\n",
      "3/3 [==============================] - 0s 27ms/step\n",
      "*********: 0\n",
      "3/3 [==============================] - 0s 14ms/step\n"
     ]
    },
    {
     "name": "stderr",
     "output_type": "stream",
     "text": [
      "2022-11-15 08:42:21.171695: I tensorflow/core/grappler/optimizers/custom_graph_optimizer_registry.cc:114] Plugin optimizer for device_type GPU is enabled.\n"
     ]
    },
    {
     "name": "stdout",
     "output_type": "stream",
     "text": [
      "*********: 1\n",
      "3/3 [==============================] - 0s 3ms/step\n",
      "*********: 2\n",
      "3/3 [==============================] - 0s 29ms/step\n",
      "*********: 0\n",
      "3/3 [==============================] - 0s 3ms/step\n"
     ]
    },
    {
     "name": "stderr",
     "output_type": "stream",
     "text": [
      "2022-11-15 08:42:21.483332: I tensorflow/core/grappler/optimizers/custom_graph_optimizer_registry.cc:114] Plugin optimizer for device_type GPU is enabled.\n"
     ]
    },
    {
     "name": "stdout",
     "output_type": "stream",
     "text": [
      "*********: 1\n",
      "3/3 [==============================] - 0s 13ms/step\n",
      "*********: 2\n",
      "3/3 [==============================] - 0s 8ms/step\n",
      "*********: 3\n",
      "3/3 [==============================] - 0s 22ms/step\n",
      "*********: 0\n",
      "3/3 [==============================] - 0s 10ms/step\n",
      "*********: 1\n",
      "1/3 [=========>....................] - ETA: 0s"
     ]
    },
    {
     "name": "stderr",
     "output_type": "stream",
     "text": [
      "2022-11-15 08:42:21.810670: I tensorflow/core/grappler/optimizers/custom_graph_optimizer_registry.cc:114] Plugin optimizer for device_type GPU is enabled.\n"
     ]
    },
    {
     "name": "stdout",
     "output_type": "stream",
     "text": [
      "3/3 [==============================] - 0s 3ms/step\n",
      "*********: 2\n",
      "3/3 [==============================] - 0s 9ms/step\n",
      "*********: 3\n",
      "3/3 [==============================] - 0s 9ms/step\n",
      "*********: 4\n",
      "3/3 [==============================] - 0s 36ms/step\n",
      "*********: 0\n",
      "3/3 [==============================] - 0s 3ms/step\n"
     ]
    },
    {
     "name": "stderr",
     "output_type": "stream",
     "text": [
      "2022-11-15 08:42:22.163254: I tensorflow/core/grappler/optimizers/custom_graph_optimizer_registry.cc:114] Plugin optimizer for device_type GPU is enabled.\n"
     ]
    },
    {
     "name": "stdout",
     "output_type": "stream",
     "text": [
      "*********: 1\n",
      "3/3 [==============================] - 0s 3ms/step\n",
      "*********: 2\n",
      "3/3 [==============================] - 0s 3ms/step\n",
      "*********: 3\n",
      "3/3 [==============================] - 0s 3ms/step\n",
      "*********: 4\n",
      "3/3 [==============================] - 0s 13ms/step\n",
      "*********: 5\n",
      "3/3 [==============================] - 0s 33ms/step\n",
      "*********: 0\n",
      "3/3 [==============================] - 0s 3ms/step\n",
      "*********: 1\n",
      "1/3 [=========>....................] - ETA: 0s"
     ]
    },
    {
     "name": "stderr",
     "output_type": "stream",
     "text": [
      "2022-11-15 08:42:22.577836: I tensorflow/core/grappler/optimizers/custom_graph_optimizer_registry.cc:114] Plugin optimizer for device_type GPU is enabled.\n"
     ]
    },
    {
     "name": "stdout",
     "output_type": "stream",
     "text": [
      "3/3 [==============================] - 0s 3ms/step\n",
      "*********: 2\n",
      "3/3 [==============================] - 0s 10ms/step\n",
      "*********: 3\n",
      "3/3 [==============================] - 0s 3ms/step\n",
      "*********: 4\n",
      "3/3 [==============================] - 0s 3ms/step\n",
      "*********: 5\n",
      "3/3 [==============================] - 0s 9ms/step\n",
      "*********: 6\n",
      "3/3 [==============================] - 0s 37ms/step\n",
      "*********: 0\n",
      "3/3 [==============================] - 0s 2ms/step\n"
     ]
    },
    {
     "name": "stderr",
     "output_type": "stream",
     "text": [
      "2022-11-15 08:42:23.035045: I tensorflow/core/grappler/optimizers/custom_graph_optimizer_registry.cc:114] Plugin optimizer for device_type GPU is enabled.\n"
     ]
    },
    {
     "name": "stdout",
     "output_type": "stream",
     "text": [
      "*********: 1\n",
      "3/3 [==============================] - 0s 3ms/step\n",
      "*********: 2\n",
      "3/3 [==============================] - 0s 3ms/step\n",
      "*********: 3\n",
      "3/3 [==============================] - 0s 3ms/step\n",
      "*********: 4\n",
      "3/3 [==============================] - 0s 9ms/step\n",
      "*********: 5\n",
      "3/3 [==============================] - 0s 2ms/step\n",
      "*********: 6\n",
      "3/3 [==============================] - 0s 2ms/step\n",
      "*********: 7\n",
      "3/3 [==============================] - 0s 32ms/step\n",
      "*********: 0\n",
      "3/3 [==============================] - 0s 3ms/step\n",
      "*********: 1\n"
     ]
    },
    {
     "name": "stderr",
     "output_type": "stream",
     "text": [
      "2022-11-15 08:42:23.503018: I tensorflow/core/grappler/optimizers/custom_graph_optimizer_registry.cc:114] Plugin optimizer for device_type GPU is enabled.\n"
     ]
    },
    {
     "name": "stdout",
     "output_type": "stream",
     "text": [
      "3/3 [==============================] - 0s 12ms/step\n",
      "*********: 2\n",
      "3/3 [==============================] - 0s 3ms/step\n",
      "*********: 3\n",
      "3/3 [==============================] - 0s 12ms/step\n",
      "*********: 4\n",
      "3/3 [==============================] - 0s 11ms/step\n",
      "*********: 5\n",
      "3/3 [==============================] - 0s 10ms/step\n",
      "*********: 6\n",
      "3/3 [==============================] - 0s 11ms/step\n",
      "*********: 7\n",
      "3/3 [==============================] - 0s 9ms/step\n",
      "*********: 8\n",
      "3/3 [==============================] - 0s 34ms/step\n",
      "*********: 0\n",
      "3/3 [==============================] - 0s 3ms/step\n",
      "*********: 1\n",
      "1/3 [=========>....................] - ETA: 0s"
     ]
    },
    {
     "name": "stderr",
     "output_type": "stream",
     "text": [
      "2022-11-15 08:42:24.125636: I tensorflow/core/grappler/optimizers/custom_graph_optimizer_registry.cc:114] Plugin optimizer for device_type GPU is enabled.\n"
     ]
    },
    {
     "name": "stdout",
     "output_type": "stream",
     "text": [
      "3/3 [==============================] - 0s 3ms/step\n",
      "*********: 2\n",
      "3/3 [==============================] - 0s 4ms/step\n",
      "*********: 3\n",
      "3/3 [==============================] - 0s 16ms/step\n",
      "*********: 4\n",
      "3/3 [==============================] - 0s 2ms/step\n",
      "*********: 5\n",
      "3/3 [==============================] - 0s 3ms/step\n",
      "*********: 6\n",
      "3/3 [==============================] - 0s 10ms/step\n",
      "*********: 7\n",
      "3/3 [==============================] - 0s 9ms/step\n",
      "*********: 8\n",
      "3/3 [==============================] - 0s 10ms/step\n",
      "*********: 9\n",
      "3/3 [==============================] - 0s 26ms/step\n",
      "*********: 0\n",
      "3/3 [==============================] - 0s 3ms/step\n",
      "*********: 1\n",
      "3/3 [==============================] - 0s 3ms/step\n"
     ]
    },
    {
     "name": "stderr",
     "output_type": "stream",
     "text": [
      "2022-11-15 08:42:24.736712: I tensorflow/core/grappler/optimizers/custom_graph_optimizer_registry.cc:114] Plugin optimizer for device_type GPU is enabled.\n"
     ]
    },
    {
     "name": "stdout",
     "output_type": "stream",
     "text": [
      "*********: 2\n",
      "3/3 [==============================] - 0s 10ms/step\n",
      "*********: 3\n",
      "3/3 [==============================] - 0s 2ms/step\n",
      "*********: 4\n",
      "3/3 [==============================] - 0s 4ms/step\n",
      "*********: 5\n",
      "3/3 [==============================] - 0s 2ms/step\n",
      "*********: 6\n",
      "3/3 [==============================] - 0s 4ms/step\n",
      "*********: 7\n",
      "3/3 [==============================] - 0s 3ms/step\n",
      "*********: 8\n",
      "3/3 [==============================] - 0s 9ms/step\n",
      "*********: 9\n",
      "3/3 [==============================] - 0s 9ms/step\n",
      "*********: 10\n",
      "3/3 [==============================] - 0s 29ms/step\n",
      "*********: 0\n",
      "3/3 [==============================] - 0s 3ms/step\n"
     ]
    },
    {
     "name": "stderr",
     "output_type": "stream",
     "text": [
      "2022-11-15 08:42:25.323755: I tensorflow/core/grappler/optimizers/custom_graph_optimizer_registry.cc:114] Plugin optimizer for device_type GPU is enabled.\n"
     ]
    },
    {
     "name": "stdout",
     "output_type": "stream",
     "text": [
      "*********: 1\n",
      "3/3 [==============================] - 0s 3ms/step\n",
      "*********: 2\n",
      "3/3 [==============================] - 0s 3ms/step\n",
      "*********: 3\n",
      "3/3 [==============================] - 0s 3ms/step\n",
      "*********: 4\n",
      "3/3 [==============================] - 0s 3ms/step\n",
      "*********: 5\n",
      "3/3 [==============================] - 0s 9ms/step\n",
      "*********: 6\n",
      "3/3 [==============================] - 0s 8ms/step\n",
      "*********: 7\n",
      "3/3 [==============================] - 0s 3ms/step\n",
      "*********: 8\n",
      "3/3 [==============================] - 0s 3ms/step\n",
      "*********: 9\n",
      "3/3 [==============================] - 0s 15ms/step\n",
      "*********: 10\n",
      "3/3 [==============================] - 0s 3ms/step\n",
      "*********: 11\n",
      "3/3 [==============================] - 0s 22ms/step\n",
      "*********: 0\n",
      "3/3 [==============================] - 0s 3ms/step\n",
      "*********: 1\n",
      "3/3 [==============================] - 0s 8ms/step\n"
     ]
    },
    {
     "name": "stderr",
     "output_type": "stream",
     "text": [
      "2022-11-15 08:42:25.939532: I tensorflow/core/grappler/optimizers/custom_graph_optimizer_registry.cc:114] Plugin optimizer for device_type GPU is enabled.\n"
     ]
    },
    {
     "name": "stdout",
     "output_type": "stream",
     "text": [
      "*********: 2\n",
      "3/3 [==============================] - 0s 3ms/step\n",
      "*********: 3\n",
      "3/3 [==============================] - 0s 3ms/step\n",
      "*********: 4\n",
      "3/3 [==============================] - 0s 8ms/step\n",
      "*********: 5\n",
      "3/3 [==============================] - 0s 3ms/step\n",
      "*********: 6\n",
      "3/3 [==============================] - 0s 4ms/step\n",
      "*********: 7\n",
      "3/3 [==============================] - 0s 10ms/step\n",
      "*********: 8\n",
      "3/3 [==============================] - 0s 2ms/step\n",
      "*********: 9\n",
      "3/3 [==============================] - 0s 3ms/step\n",
      "*********: 10\n",
      "3/3 [==============================] - 0s 16ms/step\n",
      "*********: 11\n",
      "3/3 [==============================] - 0s 9ms/step\n",
      "*********: 12\n",
      "3/3 [==============================] - 0s 35ms/step\n",
      "*********: 0\n",
      "3/3 [==============================] - 0s 3ms/step\n",
      "*********: 1\n",
      "3/3 [==============================] - 0s 3ms/step\n"
     ]
    },
    {
     "name": "stderr",
     "output_type": "stream",
     "text": [
      "2022-11-15 08:42:26.610270: I tensorflow/core/grappler/optimizers/custom_graph_optimizer_registry.cc:114] Plugin optimizer for device_type GPU is enabled.\n"
     ]
    },
    {
     "name": "stdout",
     "output_type": "stream",
     "text": [
      "*********: 2\n",
      "3/3 [==============================] - 0s 4ms/step\n",
      "*********: 3\n",
      "3/3 [==============================] - 0s 3ms/step\n",
      "*********: 4\n",
      "3/3 [==============================] - 0s 3ms/step\n",
      "*********: 5\n",
      "3/3 [==============================] - 0s 3ms/step\n",
      "*********: 6\n",
      "3/3 [==============================] - 0s 4ms/step\n",
      "*********: 7\n",
      "3/3 [==============================] - 0s 10ms/step\n",
      "*********: 8\n",
      "3/3 [==============================] - 0s 3ms/step\n",
      "*********: 9\n",
      "3/3 [==============================] - 0s 3ms/step\n",
      "*********: 10\n",
      "3/3 [==============================] - 0s 16ms/step\n",
      "*********: 11\n",
      "3/3 [==============================] - 0s 9ms/step\n",
      "*********: 12\n",
      "3/3 [==============================] - 0s 9ms/step\n",
      "*********: 13\n",
      "3/3 [==============================] - 0s 37ms/step\n",
      "*********: 0\n",
      "3/3 [==============================] - 0s 3ms/step\n",
      "*********: 1\n",
      "1/3 [=========>....................] - ETA: 0s"
     ]
    },
    {
     "name": "stderr",
     "output_type": "stream",
     "text": [
      "2022-11-15 08:42:27.353082: I tensorflow/core/grappler/optimizers/custom_graph_optimizer_registry.cc:114] Plugin optimizer for device_type GPU is enabled.\n"
     ]
    },
    {
     "name": "stdout",
     "output_type": "stream",
     "text": [
      "3/3 [==============================] - 0s 4ms/step\n",
      "*********: 2\n",
      "3/3 [==============================] - 0s 3ms/step\n",
      "*********: 3\n",
      "3/3 [==============================] - 0s 3ms/step\n",
      "*********: 4\n",
      "3/3 [==============================] - 0s 3ms/step\n",
      "*********: 5\n",
      "3/3 [==============================] - 0s 3ms/step\n",
      "*********: 6\n",
      "3/3 [==============================] - 0s 3ms/step\n",
      "*********: 7\n",
      "3/3 [==============================] - 0s 3ms/step\n",
      "*********: 8\n",
      "3/3 [==============================] - 0s 8ms/step\n",
      "*********: 9\n",
      "3/3 [==============================] - 0s 3ms/step\n",
      "*********: 10\n",
      "3/3 [==============================] - 0s 3ms/step\n",
      "*********: 11\n",
      "3/3 [==============================] - 0s 3ms/step\n",
      "*********: 12\n",
      "3/3 [==============================] - 0s 16ms/step\n",
      "*********: 13\n",
      "3/3 [==============================] - 0s 9ms/step\n",
      "*********: 14\n",
      "3/3 [==============================] - 0s 33ms/step\n",
      "*********: 0\n",
      "3/3 [==============================] - 0s 3ms/step\n",
      "*********: 1\n",
      "1/3 [=========>....................] - ETA: 0s"
     ]
    },
    {
     "name": "stderr",
     "output_type": "stream",
     "text": [
      "2022-11-15 08:42:28.102381: I tensorflow/core/grappler/optimizers/custom_graph_optimizer_registry.cc:114] Plugin optimizer for device_type GPU is enabled.\n"
     ]
    },
    {
     "name": "stdout",
     "output_type": "stream",
     "text": [
      "3/3 [==============================] - 0s 3ms/step\n",
      "*********: 2\n",
      "3/3 [==============================] - 0s 3ms/step\n",
      "*********: 3\n",
      "3/3 [==============================] - 0s 3ms/step\n",
      "*********: 4\n",
      "3/3 [==============================] - 0s 3ms/step\n",
      "*********: 5\n",
      "3/3 [==============================] - 0s 3ms/step\n",
      "*********: 6\n",
      "3/3 [==============================] - 0s 3ms/step\n",
      "*********: 7\n",
      "3/3 [==============================] - 0s 3ms/step\n",
      "*********: 8\n",
      "3/3 [==============================] - 0s 3ms/step\n",
      "*********: 9\n",
      "3/3 [==============================] - 0s 9ms/step\n",
      "*********: 10\n",
      "3/3 [==============================] - 0s 2ms/step\n",
      "*********: 11\n",
      "3/3 [==============================] - 0s 9ms/step\n",
      "*********: 12\n",
      "3/3 [==============================] - 0s 9ms/step\n",
      "*********: 13\n",
      "3/3 [==============================] - 0s 9ms/step\n",
      "*********: 14\n",
      "3/3 [==============================] - 0s 3ms/step\n",
      "*********: 15\n",
      "3/3 [==============================] - 0s 30ms/step\n",
      "*********: 0\n",
      "3/3 [==============================] - 0s 3ms/step\n",
      "*********: 1\n",
      "1/3 [=========>....................] - ETA: 0s"
     ]
    },
    {
     "name": "stderr",
     "output_type": "stream",
     "text": [
      "2022-11-15 08:42:28.895236: I tensorflow/core/grappler/optimizers/custom_graph_optimizer_registry.cc:114] Plugin optimizer for device_type GPU is enabled.\n"
     ]
    },
    {
     "name": "stdout",
     "output_type": "stream",
     "text": [
      "3/3 [==============================] - 0s 3ms/step\n",
      "*********: 2\n",
      "3/3 [==============================] - 0s 3ms/step\n",
      "*********: 3\n",
      "3/3 [==============================] - 0s 4ms/step\n",
      "*********: 4\n",
      "3/3 [==============================] - 0s 4ms/step\n",
      "*********: 5\n",
      "3/3 [==============================] - 0s 3ms/step\n",
      "*********: 6\n",
      "3/3 [==============================] - 0s 3ms/step\n",
      "*********: 7\n",
      "3/3 [==============================] - 0s 3ms/step\n",
      "*********: 8\n",
      "3/3 [==============================] - 0s 3ms/step\n",
      "*********: 9\n",
      "3/3 [==============================] - 0s 3ms/step\n",
      "*********: 10\n",
      "3/3 [==============================] - 0s 9ms/step\n",
      "*********: 11\n",
      "3/3 [==============================] - 0s 2ms/step\n",
      "*********: 12\n",
      "3/3 [==============================] - 0s 3ms/step\n",
      "*********: 13\n",
      "3/3 [==============================] - 0s 8ms/step\n",
      "*********: 14\n",
      "3/3 [==============================] - 0s 9ms/step\n",
      "*********: 15\n",
      "3/3 [==============================] - 0s 8ms/step\n",
      "*********: 16\n",
      "3/3 [==============================] - 0s 20ms/step\n",
      "*********: 0\n",
      "3/3 [==============================] - 0s 3ms/step\n",
      "*********: 1\n",
      "3/3 [==============================] - 0s 3ms/step\n",
      "*********: 2\n",
      "3/3 [==============================] - 0s 3ms/step\n"
     ]
    },
    {
     "name": "stderr",
     "output_type": "stream",
     "text": [
      "2022-11-15 08:42:29.709797: I tensorflow/core/grappler/optimizers/custom_graph_optimizer_registry.cc:114] Plugin optimizer for device_type GPU is enabled.\n"
     ]
    },
    {
     "name": "stdout",
     "output_type": "stream",
     "text": [
      "*********: 3\n",
      "3/3 [==============================] - 0s 4ms/step\n",
      "*********: 4\n",
      "3/3 [==============================] - 0s 2ms/step\n",
      "*********: 5\n",
      "3/3 [==============================] - 0s 3ms/step\n",
      "*********: 6\n",
      "3/3 [==============================] - 0s 3ms/step\n",
      "*********: 7\n",
      "3/3 [==============================] - 0s 3ms/step\n",
      "*********: 8\n",
      "3/3 [==============================] - 0s 4ms/step\n",
      "*********: 9\n",
      "3/3 [==============================] - 0s 3ms/step\n",
      "*********: 10\n",
      "3/3 [==============================] - 0s 3ms/step\n",
      "*********: 11\n",
      "3/3 [==============================] - 0s 3ms/step\n",
      "*********: 12\n",
      "3/3 [==============================] - 0s 2ms/step\n",
      "*********: 13\n",
      "3/3 [==============================] - 0s 3ms/step\n",
      "*********: 14\n",
      "3/3 [==============================] - 0s 4ms/step\n",
      "*********: 15\n",
      "3/3 [==============================] - 0s 3ms/step\n",
      "*********: 16\n",
      "3/3 [==============================] - 0s 3ms/step\n",
      "*********: 17\n",
      "3/3 [==============================] - 0s 25ms/step\n",
      "*********: 0\n",
      "3/3 [==============================] - 0s 2ms/step\n",
      "*********: 1\n",
      "3/3 [==============================] - 0s 3ms/step\n"
     ]
    },
    {
     "name": "stderr",
     "output_type": "stream",
     "text": [
      "2022-11-15 08:42:30.486625: I tensorflow/core/grappler/optimizers/custom_graph_optimizer_registry.cc:114] Plugin optimizer for device_type GPU is enabled.\n"
     ]
    },
    {
     "name": "stdout",
     "output_type": "stream",
     "text": [
      "*********: 2\n",
      "3/3 [==============================] - 0s 3ms/step\n",
      "*********: 3\n",
      "3/3 [==============================] - 0s 4ms/step\n",
      "*********: 4\n",
      "3/3 [==============================] - 0s 4ms/step\n",
      "*********: 5\n",
      "3/3 [==============================] - 0s 3ms/step\n",
      "*********: 6\n",
      "3/3 [==============================] - 0s 3ms/step\n",
      "*********: 7\n",
      "3/3 [==============================] - 0s 3ms/step\n",
      "*********: 8\n",
      "3/3 [==============================] - 0s 3ms/step\n",
      "*********: 9\n",
      "3/3 [==============================] - 0s 3ms/step\n",
      "*********: 10\n",
      "3/3 [==============================] - 0s 3ms/step\n",
      "*********: 11\n",
      "3/3 [==============================] - 0s 3ms/step\n",
      "*********: 12\n",
      "3/3 [==============================] - 0s 3ms/step\n",
      "*********: 13\n",
      "3/3 [==============================] - 0s 2ms/step\n",
      "*********: 14\n",
      "3/3 [==============================] - 0s 9ms/step\n",
      "*********: 15\n",
      "3/3 [==============================] - 0s 8ms/step\n",
      "*********: 16\n",
      "3/3 [==============================] - 0s 10ms/step\n",
      "*********: 17\n",
      "3/3 [==============================] - 0s 8ms/step\n",
      "*********: 18\n",
      "3/3 [==============================] - 0s 31ms/step\n",
      "*********: 0\n",
      "3/3 [==============================] - 0s 2ms/step\n",
      "*********: 1\n",
      "3/3 [==============================] - 0s 3ms/step\n"
     ]
    },
    {
     "name": "stderr",
     "output_type": "stream",
     "text": [
      "2022-11-15 08:42:31.381305: I tensorflow/core/grappler/optimizers/custom_graph_optimizer_registry.cc:114] Plugin optimizer for device_type GPU is enabled.\n"
     ]
    },
    {
     "name": "stdout",
     "output_type": "stream",
     "text": [
      "*********: 2\n",
      "3/3 [==============================] - 0s 3ms/step\n",
      "*********: 3\n",
      "3/3 [==============================] - 0s 3ms/step\n",
      "*********: 4\n",
      "3/3 [==============================] - 0s 3ms/step\n",
      "*********: 5\n",
      "3/3 [==============================] - 0s 3ms/step\n",
      "*********: 6\n",
      "3/3 [==============================] - 0s 3ms/step\n",
      "*********: 7\n",
      "3/3 [==============================] - 0s 4ms/step\n",
      "*********: 8\n",
      "3/3 [==============================] - 0s 3ms/step\n",
      "*********: 9\n",
      "3/3 [==============================] - 0s 3ms/step\n",
      "*********: 10\n",
      "3/3 [==============================] - 0s 2ms/step\n",
      "*********: 11\n",
      "3/3 [==============================] - 0s 3ms/step\n",
      "*********: 12\n",
      "3/3 [==============================] - 0s 2ms/step\n",
      "*********: 13\n",
      "3/3 [==============================] - 0s 3ms/step\n",
      "*********: 14\n",
      "3/3 [==============================] - 0s 9ms/step\n",
      "*********: 15\n",
      "3/3 [==============================] - 0s 3ms/step\n",
      "*********: 16\n",
      "3/3 [==============================] - 0s 10ms/step\n",
      "*********: 17\n",
      "3/3 [==============================] - 0s 10ms/step\n",
      "*********: 18\n",
      "3/3 [==============================] - 0s 10ms/step\n",
      "*********: 19\n",
      "3/3 [==============================] - 0s 28ms/step\n",
      "*********: 0\n",
      "3/3 [==============================] - 0s 10ms/step\n",
      "*********: 1\n",
      "1/3 [=========>....................] - ETA: 0s"
     ]
    },
    {
     "name": "stderr",
     "output_type": "stream",
     "text": [
      "2022-11-15 08:42:32.323945: I tensorflow/core/grappler/optimizers/custom_graph_optimizer_registry.cc:114] Plugin optimizer for device_type GPU is enabled.\n"
     ]
    },
    {
     "name": "stdout",
     "output_type": "stream",
     "text": [
      "3/3 [==============================] - 0s 2ms/step\n",
      "*********: 2\n",
      "3/3 [==============================] - 0s 3ms/step\n",
      "*********: 3\n",
      "3/3 [==============================] - 0s 3ms/step\n",
      "*********: 4\n",
      "3/3 [==============================] - 0s 3ms/step\n",
      "*********: 5\n",
      "3/3 [==============================] - 0s 3ms/step\n",
      "*********: 6\n",
      "3/3 [==============================] - 0s 3ms/step\n",
      "*********: 7\n",
      "3/3 [==============================] - 0s 3ms/step\n",
      "*********: 8\n",
      "3/3 [==============================] - 0s 3ms/step\n",
      "*********: 9\n",
      "3/3 [==============================] - 0s 3ms/step\n",
      "*********: 10\n",
      "3/3 [==============================] - 0s 3ms/step\n",
      "*********: 11\n",
      "3/3 [==============================] - 0s 3ms/step\n",
      "*********: 12\n",
      "3/3 [==============================] - 0s 3ms/step\n",
      "*********: 13\n",
      "3/3 [==============================] - 0s 2ms/step\n",
      "*********: 14\n",
      "3/3 [==============================] - 0s 2ms/step\n",
      "*********: 15\n",
      "3/3 [==============================] - 0s 3ms/step\n",
      "*********: 16\n",
      "3/3 [==============================] - 0s 9ms/step\n",
      "*********: 17\n",
      "3/3 [==============================] - 0s 3ms/step\n",
      "*********: 18\n",
      "3/3 [==============================] - 0s 9ms/step\n",
      "*********: 19\n",
      "3/3 [==============================] - 0s 8ms/step\n",
      "*********: 20\n",
      "3/3 [==============================] - 0s 38ms/step\n",
      "*********: 0\n",
      "3/3 [==============================] - 0s 3ms/step\n",
      "*********: 1\n",
      "1/3 [=========>....................] - ETA: 0s"
     ]
    },
    {
     "name": "stderr",
     "output_type": "stream",
     "text": [
      "2022-11-15 08:42:33.292281: I tensorflow/core/grappler/optimizers/custom_graph_optimizer_registry.cc:114] Plugin optimizer for device_type GPU is enabled.\n"
     ]
    },
    {
     "name": "stdout",
     "output_type": "stream",
     "text": [
      "3/3 [==============================] - 0s 3ms/step\n",
      "*********: 2\n",
      "3/3 [==============================] - 0s 3ms/step\n",
      "*********: 3\n",
      "3/3 [==============================] - 0s 5ms/step\n",
      "*********: 4\n",
      "3/3 [==============================] - 0s 3ms/step\n",
      "*********: 5\n",
      "3/3 [==============================] - 0s 3ms/step\n",
      "*********: 6\n",
      "3/3 [==============================] - 0s 3ms/step\n",
      "*********: 7\n",
      "3/3 [==============================] - 0s 3ms/step\n",
      "*********: 8\n",
      "3/3 [==============================] - 0s 3ms/step\n",
      "*********: 9\n",
      "3/3 [==============================] - 0s 3ms/step\n",
      "*********: 10\n",
      "3/3 [==============================] - 0s 3ms/step\n",
      "*********: 11\n",
      "3/3 [==============================] - 0s 3ms/step\n",
      "*********: 12\n",
      "3/3 [==============================] - 0s 3ms/step\n",
      "*********: 13\n",
      "3/3 [==============================] - 0s 3ms/step\n",
      "*********: 14\n",
      "3/3 [==============================] - 0s 3ms/step\n",
      "*********: 15\n",
      "3/3 [==============================] - 0s 9ms/step\n",
      "*********: 16\n",
      "3/3 [==============================] - 0s 2ms/step\n",
      "*********: 17\n",
      "3/3 [==============================] - 0s 4ms/step\n",
      "*********: 18\n",
      "3/3 [==============================] - 0s 3ms/step\n",
      "*********: 19\n",
      "3/3 [==============================] - 0s 3ms/step\n",
      "*********: 20\n",
      "3/3 [==============================] - 0s 8ms/step\n",
      "*********: 21\n",
      "3/3 [==============================] - 0s 22ms/step\n",
      "*********: 0\n",
      "3/3 [==============================] - 0s 3ms/step\n",
      "*********: 1\n",
      "3/3 [==============================] - 0s 3ms/step\n"
     ]
    },
    {
     "name": "stderr",
     "output_type": "stream",
     "text": [
      "2022-11-15 08:42:34.271736: I tensorflow/core/grappler/optimizers/custom_graph_optimizer_registry.cc:114] Plugin optimizer for device_type GPU is enabled.\n"
     ]
    },
    {
     "name": "stdout",
     "output_type": "stream",
     "text": [
      "*********: 2\n",
      "3/3 [==============================] - 0s 3ms/step\n",
      "*********: 3\n",
      "3/3 [==============================] - 0s 2ms/step\n",
      "*********: 4\n",
      "3/3 [==============================] - 0s 4ms/step\n",
      "*********: 5\n",
      "3/3 [==============================] - 0s 4ms/step\n",
      "*********: 6\n",
      "3/3 [==============================] - 0s 3ms/step\n",
      "*********: 7\n",
      "3/3 [==============================] - 0s 3ms/step\n",
      "*********: 8\n",
      "3/3 [==============================] - 0s 2ms/step\n",
      "*********: 9\n",
      "3/3 [==============================] - 0s 3ms/step\n",
      "*********: 10\n",
      "3/3 [==============================] - 0s 3ms/step\n",
      "*********: 11\n",
      "3/3 [==============================] - 0s 3ms/step\n",
      "*********: 12\n",
      "3/3 [==============================] - 0s 3ms/step\n",
      "*********: 13\n",
      "3/3 [==============================] - 0s 3ms/step\n",
      "*********: 14\n",
      "3/3 [==============================] - 0s 3ms/step\n",
      "*********: 15\n",
      "3/3 [==============================] - 0s 8ms/step\n",
      "*********: 16\n",
      "3/3 [==============================] - 0s 9ms/step\n",
      "*********: 17\n",
      "3/3 [==============================] - 0s 9ms/step\n",
      "*********: 18\n",
      "3/3 [==============================] - 0s 3ms/step\n",
      "*********: 19\n",
      "3/3 [==============================] - 0s 10ms/step\n",
      "*********: 20\n",
      "3/3 [==============================] - 0s 3ms/step\n",
      "*********: 21\n",
      "3/3 [==============================] - 0s 8ms/step\n",
      "*********: 22\n",
      "3/3 [==============================] - 0s 26ms/step\n",
      "*********: 0\n",
      "3/3 [==============================] - 0s 3ms/step\n",
      "*********: 1\n",
      "3/3 [==============================] - 0s 3ms/step\n"
     ]
    },
    {
     "name": "stderr",
     "output_type": "stream",
     "text": [
      "2022-11-15 08:42:35.274269: I tensorflow/core/grappler/optimizers/custom_graph_optimizer_registry.cc:114] Plugin optimizer for device_type GPU is enabled.\n"
     ]
    },
    {
     "name": "stdout",
     "output_type": "stream",
     "text": [
      "*********: 2\n",
      "3/3 [==============================] - 0s 3ms/step\n",
      "*********: 3\n",
      "3/3 [==============================] - 0s 3ms/step\n",
      "*********: 4\n",
      "3/3 [==============================] - 0s 3ms/step\n",
      "*********: 5\n",
      "3/3 [==============================] - 0s 3ms/step\n",
      "*********: 6\n",
      "3/3 [==============================] - 0s 3ms/step\n",
      "*********: 7\n",
      "3/3 [==============================] - 0s 3ms/step\n",
      "*********: 8\n",
      "3/3 [==============================] - 0s 3ms/step\n",
      "*********: 9\n",
      "3/3 [==============================] - 0s 3ms/step\n",
      "*********: 10\n",
      "3/3 [==============================] - 0s 2ms/step\n",
      "*********: 11\n",
      "3/3 [==============================] - 0s 2ms/step\n",
      "*********: 12\n",
      "3/3 [==============================] - 0s 2ms/step\n",
      "*********: 13\n",
      "3/3 [==============================] - 0s 3ms/step\n",
      "*********: 14\n",
      "3/3 [==============================] - 0s 2ms/step\n",
      "*********: 15\n",
      "3/3 [==============================] - 0s 3ms/step\n",
      "*********: 16\n",
      "3/3 [==============================] - 0s 2ms/step\n",
      "*********: 17\n",
      "3/3 [==============================] - 0s 3ms/step\n",
      "*********: 18\n",
      "3/3 [==============================] - 0s 3ms/step\n",
      "*********: 19\n",
      "3/3 [==============================] - 0s 3ms/step\n",
      "*********: 20\n",
      "3/3 [==============================] - 0s 16ms/step\n",
      "*********: 21\n",
      "3/3 [==============================] - 0s 10ms/step\n",
      "*********: 22\n",
      "3/3 [==============================] - 0s 16ms/step\n",
      "*********: 23\n",
      "3/3 [==============================] - 0s 25ms/step\n",
      "*********: 0\n",
      "3/3 [==============================] - 0s 2ms/step\n",
      "*********: 1\n",
      "3/3 [==============================] - 0s 3ms/step\n"
     ]
    },
    {
     "name": "stderr",
     "output_type": "stream",
     "text": [
      "2022-11-15 08:42:36.348964: I tensorflow/core/grappler/optimizers/custom_graph_optimizer_registry.cc:114] Plugin optimizer for device_type GPU is enabled.\n"
     ]
    },
    {
     "name": "stdout",
     "output_type": "stream",
     "text": [
      "*********: 2\n",
      "3/3 [==============================] - 0s 3ms/step\n",
      "*********: 3\n",
      "3/3 [==============================] - 0s 3ms/step\n",
      "*********: 4\n",
      "3/3 [==============================] - 0s 3ms/step\n",
      "*********: 5\n",
      "3/3 [==============================] - 0s 3ms/step\n",
      "*********: 6\n",
      "3/3 [==============================] - 0s 3ms/step\n",
      "*********: 7\n",
      "3/3 [==============================] - 0s 3ms/step\n",
      "*********: 8\n",
      "3/3 [==============================] - 0s 9ms/step\n",
      "*********: 9\n",
      "3/3 [==============================] - 0s 3ms/step\n",
      "*********: 10\n",
      "3/3 [==============================] - 0s 3ms/step\n",
      "*********: 11\n",
      "3/3 [==============================] - 0s 3ms/step\n",
      "*********: 12\n",
      "3/3 [==============================] - 0s 2ms/step\n",
      "*********: 13\n",
      "3/3 [==============================] - 0s 2ms/step\n",
      "*********: 14\n",
      "3/3 [==============================] - 0s 2ms/step\n",
      "*********: 15\n",
      "3/3 [==============================] - 0s 2ms/step\n",
      "*********: 16\n",
      "3/3 [==============================] - 0s 3ms/step\n",
      "*********: 17\n",
      "3/3 [==============================] - 0s 2ms/step\n",
      "*********: 18\n",
      "3/3 [==============================] - 0s 2ms/step\n",
      "*********: 19\n",
      "3/3 [==============================] - 0s 3ms/step\n",
      "*********: 20\n",
      "3/3 [==============================] - 0s 3ms/step\n",
      "*********: 21\n",
      "3/3 [==============================] - 0s 3ms/step\n",
      "*********: 22\n",
      "3/3 [==============================] - 0s 3ms/step\n",
      "*********: 23\n",
      "3/3 [==============================] - 0s 8ms/step\n",
      "*********: 24\n",
      "3/3 [==============================] - 0s 23ms/step\n",
      "*********: 0\n",
      "3/3 [==============================] - 0s 3ms/step\n",
      "*********: 1\n",
      "3/3 [==============================] - 0s 3ms/step\n"
     ]
    },
    {
     "name": "stderr",
     "output_type": "stream",
     "text": [
      "2022-11-15 08:42:37.396674: I tensorflow/core/grappler/optimizers/custom_graph_optimizer_registry.cc:114] Plugin optimizer for device_type GPU is enabled.\n"
     ]
    },
    {
     "name": "stdout",
     "output_type": "stream",
     "text": [
      "*********: 2\n",
      "3/3 [==============================] - 0s 4ms/step\n",
      "*********: 3\n",
      "3/3 [==============================] - 0s 3ms/step\n",
      "*********: 4\n",
      "3/3 [==============================] - 0s 3ms/step\n",
      "*********: 5\n",
      "3/3 [==============================] - 0s 3ms/step\n",
      "*********: 6\n",
      "3/3 [==============================] - 0s 3ms/step\n",
      "*********: 7\n",
      "3/3 [==============================] - 0s 3ms/step\n",
      "*********: 8\n",
      "3/3 [==============================] - 0s 3ms/step\n",
      "*********: 9\n",
      "3/3 [==============================] - 0s 3ms/step\n",
      "*********: 10\n",
      "3/3 [==============================] - 0s 3ms/step\n",
      "*********: 11\n",
      "3/3 [==============================] - 0s 3ms/step\n",
      "*********: 12\n",
      "3/3 [==============================] - 0s 3ms/step\n",
      "*********: 13\n",
      "3/3 [==============================] - 0s 3ms/step\n",
      "*********: 14\n",
      "3/3 [==============================] - 0s 3ms/step\n",
      "*********: 15\n",
      "3/3 [==============================] - 0s 2ms/step\n",
      "*********: 16\n",
      "3/3 [==============================] - 0s 2ms/step\n",
      "*********: 17\n",
      "3/3 [==============================] - 0s 3ms/step\n",
      "*********: 18\n",
      "3/3 [==============================] - 0s 3ms/step\n",
      "*********: 19\n",
      "3/3 [==============================] - 0s 3ms/step\n",
      "*********: 20\n",
      "3/3 [==============================] - 0s 2ms/step\n",
      "*********: 21\n",
      "3/3 [==============================] - 0s 3ms/step\n",
      "*********: 22\n",
      "3/3 [==============================] - 0s 3ms/step\n",
      "*********: 23\n",
      "3/3 [==============================] - 0s 3ms/step\n",
      "*********: 24\n",
      "3/3 [==============================] - 0s 15ms/step\n",
      "*********: 25\n",
      "3/3 [==============================] - 0s 23ms/step\n",
      "*********: 0\n",
      "3/3 [==============================] - 0s 3ms/step\n",
      "*********: 1\n",
      "3/3 [==============================] - 0s 3ms/step\n"
     ]
    },
    {
     "name": "stderr",
     "output_type": "stream",
     "text": [
      "2022-11-15 08:42:38.511337: I tensorflow/core/grappler/optimizers/custom_graph_optimizer_registry.cc:114] Plugin optimizer for device_type GPU is enabled.\n"
     ]
    },
    {
     "name": "stdout",
     "output_type": "stream",
     "text": [
      "*********: 2\n",
      "3/3 [==============================] - 0s 3ms/step\n",
      "*********: 3\n",
      "3/3 [==============================] - 0s 3ms/step\n",
      "*********: 4\n",
      "3/3 [==============================] - 0s 3ms/step\n",
      "*********: 5\n",
      "3/3 [==============================] - 0s 3ms/step\n",
      "*********: 6\n",
      "3/3 [==============================] - 0s 3ms/step\n",
      "*********: 7\n",
      "3/3 [==============================] - 0s 4ms/step\n",
      "*********: 8\n",
      "3/3 [==============================] - 0s 3ms/step\n",
      "*********: 9\n",
      "3/3 [==============================] - 0s 3ms/step\n",
      "*********: 10\n",
      "3/3 [==============================] - 0s 3ms/step\n",
      "*********: 11\n",
      "3/3 [==============================] - 0s 3ms/step\n",
      "*********: 12\n",
      "3/3 [==============================] - 0s 3ms/step\n",
      "*********: 13\n",
      "3/3 [==============================] - 0s 9ms/step\n",
      "*********: 14\n",
      "3/3 [==============================] - 0s 3ms/step\n",
      "*********: 15\n",
      "3/3 [==============================] - 0s 3ms/step\n",
      "*********: 16\n",
      "3/3 [==============================] - 0s 3ms/step\n",
      "*********: 17\n",
      "3/3 [==============================] - 0s 10ms/step\n",
      "*********: 18\n",
      "3/3 [==============================] - 0s 8ms/step\n",
      "*********: 19\n",
      "3/3 [==============================] - 0s 10ms/step\n",
      "*********: 20\n",
      "3/3 [==============================] - 0s 3ms/step\n",
      "*********: 21\n",
      "3/3 [==============================] - 0s 9ms/step\n",
      "*********: 22\n",
      "3/3 [==============================] - 0s 10ms/step\n",
      "*********: 23\n",
      "3/3 [==============================] - 0s 3ms/step\n",
      "*********: 24\n",
      "3/3 [==============================] - 0s 3ms/step\n",
      "*********: 25\n",
      "3/3 [==============================] - 0s 16ms/step\n",
      "*********: 26\n",
      "3/3 [==============================] - 0s 32ms/step\n",
      "*********: 0\n",
      "3/3 [==============================] - 0s 3ms/step\n",
      "*********: 1\n",
      "1/3 [=========>....................] - ETA: 0s"
     ]
    },
    {
     "name": "stderr",
     "output_type": "stream",
     "text": [
      "2022-11-15 08:42:39.743663: I tensorflow/core/grappler/optimizers/custom_graph_optimizer_registry.cc:114] Plugin optimizer for device_type GPU is enabled.\n"
     ]
    },
    {
     "name": "stdout",
     "output_type": "stream",
     "text": [
      "3/3 [==============================] - 0s 3ms/step\n",
      "*********: 2\n",
      "3/3 [==============================] - 0s 3ms/step\n",
      "*********: 3\n",
      "3/3 [==============================] - 0s 2ms/step\n",
      "*********: 4\n",
      "3/3 [==============================] - 0s 3ms/step\n",
      "*********: 5\n",
      "3/3 [==============================] - 0s 3ms/step\n",
      "*********: 6\n",
      "3/3 [==============================] - 0s 3ms/step\n",
      "*********: 7\n",
      "3/3 [==============================] - 0s 3ms/step\n",
      "*********: 8\n",
      "3/3 [==============================] - 0s 3ms/step\n",
      "*********: 9\n",
      "3/3 [==============================] - 0s 3ms/step\n",
      "*********: 10\n",
      "3/3 [==============================] - 0s 3ms/step\n",
      "*********: 11\n",
      "3/3 [==============================] - 0s 3ms/step\n",
      "*********: 12\n",
      "3/3 [==============================] - 0s 3ms/step\n",
      "*********: 13\n",
      "3/3 [==============================] - 0s 3ms/step\n",
      "*********: 14\n",
      "3/3 [==============================] - 0s 3ms/step\n",
      "*********: 15\n",
      "3/3 [==============================] - 0s 2ms/step\n",
      "*********: 16\n",
      "3/3 [==============================] - 0s 3ms/step\n",
      "*********: 17\n",
      "3/3 [==============================] - 0s 3ms/step\n",
      "*********: 18\n",
      "3/3 [==============================] - 0s 3ms/step\n",
      "*********: 19\n",
      "3/3 [==============================] - 0s 3ms/step\n",
      "*********: 20\n",
      "3/3 [==============================] - 0s 3ms/step\n",
      "*********: 21\n",
      "3/3 [==============================] - 0s 3ms/step\n",
      "*********: 22\n",
      "3/3 [==============================] - 0s 8ms/step\n",
      "*********: 23\n",
      "3/3 [==============================] - 0s 8ms/step\n",
      "*********: 24\n",
      "3/3 [==============================] - 0s 9ms/step\n",
      "*********: 25\n",
      "3/3 [==============================] - 0s 9ms/step\n",
      "*********: 26\n",
      "3/3 [==============================] - 0s 9ms/step\n",
      "*********: 27\n",
      "3/3 [==============================] - 0s 22ms/step\n",
      "*********: 0\n",
      "3/3 [==============================] - 0s 3ms/step\n",
      "*********: 1\n",
      "3/3 [==============================] - 0s 3ms/step\n"
     ]
    },
    {
     "name": "stderr",
     "output_type": "stream",
     "text": [
      "2022-11-15 08:42:40.968102: I tensorflow/core/grappler/optimizers/custom_graph_optimizer_registry.cc:114] Plugin optimizer for device_type GPU is enabled.\n"
     ]
    },
    {
     "name": "stdout",
     "output_type": "stream",
     "text": [
      "*********: 2\n",
      "3/3 [==============================] - 0s 3ms/step\n",
      "*********: 3\n",
      "3/3 [==============================] - 0s 3ms/step\n",
      "*********: 4\n",
      "3/3 [==============================] - 0s 3ms/step\n",
      "*********: 5\n",
      "3/3 [==============================] - 0s 3ms/step\n",
      "*********: 6\n",
      "3/3 [==============================] - 0s 2ms/step\n",
      "*********: 7\n",
      "3/3 [==============================] - 0s 3ms/step\n",
      "*********: 8\n",
      "3/3 [==============================] - 0s 3ms/step\n",
      "*********: 9\n",
      "3/3 [==============================] - 0s 3ms/step\n",
      "*********: 10\n",
      "3/3 [==============================] - 0s 3ms/step\n",
      "*********: 11\n",
      "3/3 [==============================] - 0s 3ms/step\n",
      "*********: 12\n",
      "3/3 [==============================] - 0s 3ms/step\n",
      "*********: 13\n",
      "3/3 [==============================] - 0s 3ms/step\n",
      "*********: 14\n",
      "3/3 [==============================] - 0s 3ms/step\n",
      "*********: 15\n",
      "3/3 [==============================] - 0s 2ms/step\n",
      "*********: 16\n",
      "3/3 [==============================] - 0s 3ms/step\n",
      "*********: 17\n",
      "3/3 [==============================] - 0s 3ms/step\n",
      "*********: 18\n",
      "3/3 [==============================] - 0s 3ms/step\n",
      "*********: 19\n",
      "3/3 [==============================] - 0s 3ms/step\n",
      "*********: 20\n",
      "3/3 [==============================] - 0s 10ms/step\n",
      "*********: 21\n",
      "3/3 [==============================] - 0s 3ms/step\n",
      "*********: 22\n",
      "3/3 [==============================] - 0s 3ms/step\n",
      "*********: 23\n",
      "3/3 [==============================] - 0s 3ms/step\n",
      "*********: 24\n",
      "3/3 [==============================] - 0s 8ms/step\n",
      "*********: 25\n",
      "3/3 [==============================] - 0s 2ms/step\n",
      "*********: 26\n",
      "3/3 [==============================] - 0s 3ms/step\n",
      "*********: 27\n",
      "3/3 [==============================] - 0s 10ms/step\n",
      "*********: 28\n",
      "3/3 [==============================] - 0s 20ms/step\n",
      "*********: 0\n",
      "3/3 [==============================] - 0s 3ms/step\n",
      "*********: 1\n",
      "3/3 [==============================] - 0s 3ms/step\n",
      "*********: 2\n",
      "1/3 [=========>....................] - ETA: 0s"
     ]
    },
    {
     "name": "stderr",
     "output_type": "stream",
     "text": [
      "2022-11-15 08:42:42.147749: I tensorflow/core/grappler/optimizers/custom_graph_optimizer_registry.cc:114] Plugin optimizer for device_type GPU is enabled.\n"
     ]
    },
    {
     "name": "stdout",
     "output_type": "stream",
     "text": [
      "3/3 [==============================] - 0s 3ms/step\n",
      "*********: 3\n",
      "3/3 [==============================] - 0s 4ms/step\n",
      "*********: 4\n",
      "3/3 [==============================] - 0s 3ms/step\n",
      "*********: 5\n",
      "3/3 [==============================] - 0s 4ms/step\n",
      "*********: 6\n",
      "3/3 [==============================] - 0s 3ms/step\n",
      "*********: 7\n",
      "3/3 [==============================] - 0s 4ms/step\n",
      "*********: 8\n",
      "3/3 [==============================] - 0s 3ms/step\n",
      "*********: 9\n",
      "3/3 [==============================] - 0s 3ms/step\n",
      "*********: 10\n",
      "3/3 [==============================] - 0s 3ms/step\n",
      "*********: 11\n",
      "3/3 [==============================] - 0s 3ms/step\n",
      "*********: 12\n",
      "3/3 [==============================] - 0s 3ms/step\n",
      "*********: 13\n",
      "3/3 [==============================] - 0s 2ms/step\n",
      "*********: 14\n",
      "3/3 [==============================] - 0s 2ms/step\n",
      "*********: 15\n",
      "3/3 [==============================] - 0s 2ms/step\n",
      "*********: 16\n",
      "3/3 [==============================] - 0s 2ms/step\n",
      "*********: 17\n",
      "3/3 [==============================] - 0s 3ms/step\n",
      "*********: 18\n",
      "3/3 [==============================] - 0s 3ms/step\n",
      "*********: 19\n",
      "3/3 [==============================] - 0s 3ms/step\n",
      "*********: 20\n",
      "3/3 [==============================] - 0s 3ms/step\n",
      "*********: 21\n",
      "3/3 [==============================] - 0s 3ms/step\n",
      "*********: 22\n",
      "3/3 [==============================] - 0s 3ms/step\n",
      "*********: 23\n",
      "3/3 [==============================] - 0s 8ms/step\n",
      "*********: 24\n",
      "3/3 [==============================] - 0s 3ms/step\n",
      "*********: 25\n",
      "3/3 [==============================] - 0s 3ms/step\n",
      "*********: 26\n",
      "3/3 [==============================] - 0s 16ms/step\n",
      "*********: 27\n",
      "3/3 [==============================] - 0s 17ms/step\n",
      "*********: 28\n",
      "3/3 [==============================] - 0s 3ms/step\n",
      "*********: 29\n",
      "3/3 [==============================] - 0s 31ms/step\n"
     ]
    },
    {
     "name": "stderr",
     "output_type": "stream",
     "text": [
      "2022-11-15 08:42:43.417441: I tensorflow/core/grappler/optimizers/custom_graph_optimizer_registry.cc:114] Plugin optimizer for device_type GPU is enabled.\n"
     ]
    }
   ],
   "source": [
    "f1_test = []\n",
    "acc_test = []\n",
    "for i in range(1,ensemble_size+1):\n",
    "    data = some_pred(test_split, i)\n",
    "    ans = majority(data)\n",
    "    f1_test.append(getf1(test_result, ans))\n",
    "    acc_test.append(accuracy_score(test_result, ans))"
   ]
  },
  {
   "cell_type": "code",
   "execution_count": 200,
   "metadata": {
    "pycharm": {
     "name": "#%%\n"
    }
   },
   "outputs": [
    {
     "name": "stdout",
     "output_type": "stream",
     "text": [
      "*********: 0\n",
      "41/41 [==============================] - 0s 4ms/step\n",
      "*********: 0\n",
      "41/41 [==============================] - 0s 3ms/step\n",
      "*********: 1\n",
      "41/41 [==============================] - 0s 3ms/step\n",
      "*********: 0\n",
      "41/41 [==============================] - 0s 2ms/step\n",
      "*********: 1\n",
      "41/41 [==============================] - 0s 3ms/step\n",
      "*********: 2\n",
      "41/41 [==============================] - 0s 4ms/step\n",
      "*********: 0\n",
      "41/41 [==============================] - 0s 3ms/step\n",
      "*********: 1\n",
      "41/41 [==============================] - 0s 2ms/step\n",
      "*********: 2\n",
      "41/41 [==============================] - 0s 2ms/step\n",
      "*********: 3\n",
      "41/41 [==============================] - 0s 3ms/step\n",
      "*********: 0\n",
      "41/41 [==============================] - 0s 3ms/step\n",
      "*********: 1\n",
      "41/41 [==============================] - 0s 3ms/step\n",
      "*********: 2\n",
      "41/41 [==============================] - 0s 2ms/step\n",
      "*********: 3\n",
      "41/41 [==============================] - 0s 3ms/step\n",
      "*********: 4\n",
      "41/41 [==============================] - 0s 3ms/step\n",
      "*********: 0\n",
      "41/41 [==============================] - 0s 2ms/step\n",
      "*********: 1\n",
      "41/41 [==============================] - 0s 2ms/step\n",
      "*********: 2\n",
      "41/41 [==============================] - 0s 2ms/step\n",
      "*********: 3\n",
      "41/41 [==============================] - 0s 2ms/step\n",
      "*********: 4\n",
      "41/41 [==============================] - 0s 2ms/step\n",
      "*********: 5\n",
      "41/41 [==============================] - 0s 4ms/step\n",
      "*********: 0\n",
      "41/41 [==============================] - 0s 3ms/step\n",
      "*********: 1\n",
      "41/41 [==============================] - 0s 3ms/step\n",
      "*********: 2\n",
      "41/41 [==============================] - 0s 2ms/step\n",
      "*********: 3\n",
      "41/41 [==============================] - 0s 3ms/step\n",
      "*********: 4\n",
      "41/41 [==============================] - 0s 2ms/step\n",
      "*********: 5\n",
      "41/41 [==============================] - 0s 3ms/step\n",
      "*********: 6\n",
      "41/41 [==============================] - 0s 3ms/step\n",
      "*********: 0\n",
      "41/41 [==============================] - 0s 2ms/step\n",
      "*********: 1\n",
      "41/41 [==============================] - 0s 2ms/step\n",
      "*********: 2\n",
      "41/41 [==============================] - 0s 2ms/step\n",
      "*********: 3\n",
      "41/41 [==============================] - 0s 2ms/step\n",
      "*********: 4\n",
      "41/41 [==============================] - 0s 2ms/step\n",
      "*********: 5\n",
      "41/41 [==============================] - 0s 2ms/step\n",
      "*********: 6\n",
      "41/41 [==============================] - 0s 2ms/step\n",
      "*********: 7\n",
      "41/41 [==============================] - 0s 3ms/step\n",
      "*********: 0\n",
      "41/41 [==============================] - 0s 2ms/step\n",
      "*********: 1\n",
      "41/41 [==============================] - 0s 2ms/step\n",
      "*********: 2\n",
      "41/41 [==============================] - 0s 2ms/step\n",
      "*********: 3\n",
      "41/41 [==============================] - 0s 2ms/step\n",
      "*********: 4\n",
      "41/41 [==============================] - 0s 3ms/step\n",
      "*********: 5\n",
      "41/41 [==============================] - 0s 2ms/step\n",
      "*********: 6\n",
      "41/41 [==============================] - 0s 2ms/step\n",
      "*********: 7\n",
      "41/41 [==============================] - 0s 2ms/step\n",
      "*********: 8\n",
      "41/41 [==============================] - 0s 3ms/step\n",
      "*********: 0\n",
      "41/41 [==============================] - 0s 2ms/step\n",
      "*********: 1\n",
      "41/41 [==============================] - 0s 2ms/step\n",
      "*********: 2\n",
      "41/41 [==============================] - 0s 2ms/step\n",
      "*********: 3\n",
      "41/41 [==============================] - 0s 2ms/step\n",
      "*********: 4\n",
      "41/41 [==============================] - 0s 2ms/step\n",
      "*********: 5\n",
      "41/41 [==============================] - 0s 2ms/step\n",
      "*********: 6\n",
      "41/41 [==============================] - 0s 3ms/step\n",
      "*********: 7\n",
      "41/41 [==============================] - 0s 2ms/step\n",
      "*********: 8\n",
      "41/41 [==============================] - 0s 2ms/step\n",
      "*********: 9\n",
      "41/41 [==============================] - 0s 4ms/step\n",
      "*********: 0\n",
      "41/41 [==============================] - 0s 2ms/step\n",
      "*********: 1\n",
      "41/41 [==============================] - 0s 2ms/step\n",
      "*********: 2\n",
      "41/41 [==============================] - 0s 3ms/step\n",
      "*********: 3\n",
      "41/41 [==============================] - 0s 2ms/step\n",
      "*********: 4\n",
      "41/41 [==============================] - 0s 2ms/step\n",
      "*********: 5\n",
      "41/41 [==============================] - 0s 2ms/step\n",
      "*********: 6\n",
      "41/41 [==============================] - 0s 2ms/step\n",
      "*********: 7\n",
      "41/41 [==============================] - 0s 4ms/step\n",
      "*********: 8\n",
      "41/41 [==============================] - 0s 5ms/step\n",
      "*********: 9\n",
      "41/41 [==============================] - 0s 3ms/step\n",
      "*********: 10\n",
      "41/41 [==============================] - 0s 3ms/step\n",
      "*********: 0\n",
      "41/41 [==============================] - 0s 3ms/step\n",
      "*********: 1\n",
      "41/41 [==============================] - 0s 2ms/step\n",
      "*********: 2\n",
      "41/41 [==============================] - 0s 2ms/step\n",
      "*********: 3\n",
      "41/41 [==============================] - 0s 2ms/step\n",
      "*********: 4\n",
      "41/41 [==============================] - 0s 2ms/step\n",
      "*********: 5\n",
      "41/41 [==============================] - 0s 2ms/step\n",
      "*********: 6\n",
      "41/41 [==============================] - 0s 2ms/step\n",
      "*********: 7\n",
      "41/41 [==============================] - 0s 2ms/step\n",
      "*********: 8\n",
      "41/41 [==============================] - 0s 2ms/step\n",
      "*********: 9\n",
      "41/41 [==============================] - 0s 3ms/step\n",
      "*********: 10\n",
      "41/41 [==============================] - 0s 2ms/step\n",
      "*********: 11\n",
      "41/41 [==============================] - 0s 5ms/step\n",
      "*********: 0\n",
      "41/41 [==============================] - 0s 2ms/step\n",
      "*********: 1\n",
      "41/41 [==============================] - 0s 2ms/step\n",
      "*********: 2\n",
      "41/41 [==============================] - 0s 2ms/step\n",
      "*********: 3\n",
      "41/41 [==============================] - 0s 2ms/step\n",
      "*********: 4\n",
      "41/41 [==============================] - 0s 2ms/step\n",
      "*********: 5\n",
      "41/41 [==============================] - 0s 2ms/step\n",
      "*********: 6\n",
      "41/41 [==============================] - 0s 2ms/step\n",
      "*********: 7\n",
      "41/41 [==============================] - 0s 3ms/step\n",
      "*********: 8\n",
      "41/41 [==============================] - 0s 2ms/step\n",
      "*********: 9\n",
      "41/41 [==============================] - 0s 2ms/step\n",
      "*********: 10\n",
      "41/41 [==============================] - 0s 3ms/step\n",
      "*********: 11\n",
      "41/41 [==============================] - 0s 2ms/step\n",
      "*********: 12\n",
      "41/41 [==============================] - 0s 4ms/step\n",
      "*********: 0\n",
      "41/41 [==============================] - 0s 2ms/step\n",
      "*********: 1\n",
      "41/41 [==============================] - 0s 2ms/step\n",
      "*********: 2\n",
      "41/41 [==============================] - 0s 2ms/step\n",
      "*********: 3\n",
      "41/41 [==============================] - 0s 2ms/step\n",
      "*********: 4\n",
      "41/41 [==============================] - 0s 2ms/step\n",
      "*********: 5\n",
      "41/41 [==============================] - 0s 3ms/step\n",
      "*********: 6\n",
      "41/41 [==============================] - 0s 2ms/step\n",
      "*********: 7\n",
      "41/41 [==============================] - 0s 2ms/step\n",
      "*********: 8\n",
      "41/41 [==============================] - 0s 2ms/step\n",
      "*********: 9\n",
      "41/41 [==============================] - 0s 2ms/step\n",
      "*********: 10\n",
      "41/41 [==============================] - 0s 2ms/step\n",
      "*********: 11\n",
      "41/41 [==============================] - 0s 2ms/step\n",
      "*********: 12\n",
      "41/41 [==============================] - 0s 2ms/step\n",
      "*********: 13\n",
      "41/41 [==============================] - 0s 3ms/step\n",
      "*********: 0\n",
      "41/41 [==============================] - 0s 2ms/step\n",
      "*********: 1\n",
      "41/41 [==============================] - 0s 2ms/step\n",
      "*********: 2\n",
      "41/41 [==============================] - 0s 2ms/step\n",
      "*********: 3\n",
      "41/41 [==============================] - 0s 2ms/step\n",
      "*********: 4\n",
      "41/41 [==============================] - 0s 3ms/step\n",
      "*********: 5\n",
      "41/41 [==============================] - 0s 2ms/step\n",
      "*********: 6\n",
      "41/41 [==============================] - 0s 2ms/step\n",
      "*********: 7\n",
      "41/41 [==============================] - 0s 3ms/step\n",
      "*********: 8\n",
      "41/41 [==============================] - 0s 2ms/step\n",
      "*********: 9\n",
      "41/41 [==============================] - 0s 2ms/step\n",
      "*********: 10\n",
      "41/41 [==============================] - 0s 2ms/step\n",
      "*********: 11\n",
      "41/41 [==============================] - 0s 3ms/step\n",
      "*********: 12\n",
      "41/41 [==============================] - 0s 2ms/step\n",
      "*********: 13\n",
      "41/41 [==============================] - 0s 2ms/step\n",
      "*********: 14\n",
      "41/41 [==============================] - 0s 4ms/step\n",
      "*********: 0\n",
      "41/41 [==============================] - 0s 2ms/step\n",
      "*********: 1\n",
      "41/41 [==============================] - 0s 2ms/step\n",
      "*********: 2\n",
      "41/41 [==============================] - 0s 2ms/step\n",
      "*********: 3\n",
      "41/41 [==============================] - 0s 2ms/step\n",
      "*********: 4\n",
      "41/41 [==============================] - 0s 2ms/step\n",
      "*********: 5\n",
      "41/41 [==============================] - 0s 2ms/step\n",
      "*********: 6\n",
      "41/41 [==============================] - 0s 2ms/step\n",
      "*********: 7\n",
      "41/41 [==============================] - 0s 2ms/step\n",
      "*********: 8\n",
      "41/41 [==============================] - 0s 3ms/step\n",
      "*********: 9\n",
      "41/41 [==============================] - 0s 3ms/step\n",
      "*********: 10\n",
      "41/41 [==============================] - 0s 2ms/step\n",
      "*********: 11\n",
      "41/41 [==============================] - 0s 2ms/step\n",
      "*********: 12\n",
      "41/41 [==============================] - 0s 2ms/step\n",
      "*********: 13\n",
      "41/41 [==============================] - 0s 3ms/step\n",
      "*********: 14\n",
      "41/41 [==============================] - 0s 3ms/step\n",
      "*********: 15\n",
      "41/41 [==============================] - 0s 4ms/step\n",
      "*********: 0\n",
      "41/41 [==============================] - 0s 2ms/step\n",
      "*********: 1\n",
      "41/41 [==============================] - 0s 2ms/step\n",
      "*********: 2\n",
      "41/41 [==============================] - 0s 2ms/step\n",
      "*********: 3\n",
      "41/41 [==============================] - 0s 3ms/step\n",
      "*********: 4\n",
      "41/41 [==============================] - 0s 2ms/step\n",
      "*********: 5\n",
      "41/41 [==============================] - 0s 2ms/step\n",
      "*********: 6\n",
      "41/41 [==============================] - 0s 2ms/step\n",
      "*********: 7\n",
      "41/41 [==============================] - 0s 2ms/step\n",
      "*********: 8\n",
      "41/41 [==============================] - 0s 2ms/step\n",
      "*********: 9\n",
      "41/41 [==============================] - 0s 2ms/step\n",
      "*********: 10\n",
      "41/41 [==============================] - 0s 2ms/step\n",
      "*********: 11\n",
      "41/41 [==============================] - 0s 2ms/step\n",
      "*********: 12\n",
      "41/41 [==============================] - 0s 3ms/step\n",
      "*********: 13\n",
      "41/41 [==============================] - 0s 2ms/step\n",
      "*********: 14\n",
      "41/41 [==============================] - 0s 2ms/step\n",
      "*********: 15\n",
      "41/41 [==============================] - 0s 2ms/step\n",
      "*********: 16\n",
      "41/41 [==============================] - 0s 4ms/step\n",
      "*********: 0\n",
      "41/41 [==============================] - 0s 2ms/step\n",
      "*********: 1\n",
      "41/41 [==============================] - 0s 2ms/step\n",
      "*********: 2\n",
      "41/41 [==============================] - 0s 2ms/step\n",
      "*********: 3\n",
      "41/41 [==============================] - 0s 2ms/step\n",
      "*********: 4\n",
      "41/41 [==============================] - 0s 2ms/step\n",
      "*********: 5\n",
      "41/41 [==============================] - 0s 2ms/step\n",
      "*********: 6\n",
      "41/41 [==============================] - 0s 2ms/step\n",
      "*********: 7\n",
      "41/41 [==============================] - 0s 2ms/step\n",
      "*********: 8\n",
      "41/41 [==============================] - 0s 2ms/step\n",
      "*********: 9\n",
      "41/41 [==============================] - 0s 2ms/step\n",
      "*********: 10\n",
      "41/41 [==============================] - 0s 2ms/step\n",
      "*********: 11\n",
      "41/41 [==============================] - 0s 2ms/step\n",
      "*********: 12\n",
      "41/41 [==============================] - 0s 2ms/step\n",
      "*********: 13\n",
      "41/41 [==============================] - 0s 2ms/step\n",
      "*********: 14\n",
      "41/41 [==============================] - 0s 2ms/step\n",
      "*********: 15\n",
      "41/41 [==============================] - 0s 3ms/step\n",
      "*********: 16\n",
      "41/41 [==============================] - 0s 3ms/step\n",
      "*********: 17\n",
      "41/41 [==============================] - 0s 3ms/step\n",
      "*********: 0\n",
      "41/41 [==============================] - 0s 2ms/step\n",
      "*********: 1\n",
      "41/41 [==============================] - 0s 2ms/step\n",
      "*********: 2\n",
      "41/41 [==============================] - 0s 2ms/step\n",
      "*********: 3\n",
      "41/41 [==============================] - 0s 2ms/step\n",
      "*********: 4\n",
      "41/41 [==============================] - 0s 2ms/step\n",
      "*********: 5\n",
      "41/41 [==============================] - 0s 2ms/step\n",
      "*********: 6\n",
      "41/41 [==============================] - 0s 2ms/step\n",
      "*********: 7\n",
      "41/41 [==============================] - 0s 2ms/step\n",
      "*********: 8\n",
      "41/41 [==============================] - 0s 2ms/step\n",
      "*********: 9\n",
      "41/41 [==============================] - 0s 2ms/step\n",
      "*********: 10\n",
      "41/41 [==============================] - 0s 2ms/step\n",
      "*********: 11\n",
      "41/41 [==============================] - 0s 2ms/step\n",
      "*********: 12\n",
      "41/41 [==============================] - 0s 3ms/step\n",
      "*********: 13\n",
      "41/41 [==============================] - 0s 2ms/step\n",
      "*********: 14\n",
      "41/41 [==============================] - 0s 2ms/step\n",
      "*********: 15\n",
      "41/41 [==============================] - 0s 2ms/step\n",
      "*********: 16\n",
      "41/41 [==============================] - 0s 2ms/step\n",
      "*********: 17\n",
      "41/41 [==============================] - 0s 2ms/step\n",
      "*********: 18\n",
      "41/41 [==============================] - 0s 3ms/step\n",
      "*********: 0\n",
      "41/41 [==============================] - 0s 2ms/step\n",
      "*********: 1\n",
      "41/41 [==============================] - 0s 2ms/step\n",
      "*********: 2\n",
      "41/41 [==============================] - 0s 2ms/step\n",
      "*********: 3\n",
      "41/41 [==============================] - 0s 2ms/step\n",
      "*********: 4\n",
      "41/41 [==============================] - 0s 2ms/step\n",
      "*********: 5\n",
      "41/41 [==============================] - 0s 2ms/step\n",
      "*********: 6\n",
      "41/41 [==============================] - 0s 2ms/step\n",
      "*********: 7\n",
      "41/41 [==============================] - 0s 2ms/step\n",
      "*********: 8\n",
      "41/41 [==============================] - 0s 2ms/step\n",
      "*********: 9\n",
      "41/41 [==============================] - 0s 2ms/step\n",
      "*********: 10\n",
      "41/41 [==============================] - 0s 3ms/step\n",
      "*********: 11\n",
      "41/41 [==============================] - 0s 3ms/step\n",
      "*********: 12\n",
      "41/41 [==============================] - 0s 2ms/step\n",
      "*********: 13\n",
      "41/41 [==============================] - 0s 2ms/step\n",
      "*********: 14\n",
      "41/41 [==============================] - 0s 2ms/step\n",
      "*********: 15\n",
      "41/41 [==============================] - 0s 3ms/step\n",
      "*********: 16\n",
      "41/41 [==============================] - 0s 2ms/step\n",
      "*********: 17\n",
      "41/41 [==============================] - 0s 2ms/step\n",
      "*********: 18\n",
      "41/41 [==============================] - 0s 2ms/step\n",
      "*********: 19\n",
      "41/41 [==============================] - 0s 4ms/step\n",
      "*********: 0\n",
      "41/41 [==============================] - 0s 2ms/step\n",
      "*********: 1\n",
      "41/41 [==============================] - 0s 2ms/step\n",
      "*********: 2\n",
      "41/41 [==============================] - 0s 2ms/step\n",
      "*********: 3\n",
      "41/41 [==============================] - 0s 2ms/step\n",
      "*********: 4\n",
      "41/41 [==============================] - 0s 2ms/step\n",
      "*********: 5\n",
      "41/41 [==============================] - 0s 2ms/step\n",
      "*********: 6\n",
      "41/41 [==============================] - 0s 2ms/step\n",
      "*********: 7\n",
      "41/41 [==============================] - 0s 2ms/step\n",
      "*********: 8\n",
      "41/41 [==============================] - 0s 2ms/step\n",
      "*********: 9\n",
      "41/41 [==============================] - 0s 2ms/step\n",
      "*********: 10\n",
      "41/41 [==============================] - 0s 2ms/step\n",
      "*********: 11\n",
      "41/41 [==============================] - 0s 2ms/step\n",
      "*********: 12\n",
      "41/41 [==============================] - 0s 2ms/step\n",
      "*********: 13\n",
      "41/41 [==============================] - 0s 2ms/step\n",
      "*********: 14\n",
      "41/41 [==============================] - 0s 2ms/step\n",
      "*********: 15\n",
      "41/41 [==============================] - 0s 3ms/step\n",
      "*********: 16\n",
      "41/41 [==============================] - 0s 3ms/step\n",
      "*********: 17\n",
      "41/41 [==============================] - 0s 2ms/step\n",
      "*********: 18\n",
      "41/41 [==============================] - 0s 3ms/step\n",
      "*********: 19\n",
      "41/41 [==============================] - 0s 2ms/step\n",
      "*********: 20\n",
      "41/41 [==============================] - 0s 3ms/step\n",
      "*********: 0\n",
      "41/41 [==============================] - 0s 2ms/step\n",
      "*********: 1\n",
      "41/41 [==============================] - 0s 3ms/step\n",
      "*********: 2\n",
      "41/41 [==============================] - 0s 3ms/step\n",
      "*********: 3\n",
      "41/41 [==============================] - 0s 2ms/step\n",
      "*********: 4\n",
      "41/41 [==============================] - 0s 2ms/step\n",
      "*********: 5\n",
      "41/41 [==============================] - 0s 2ms/step\n",
      "*********: 6\n",
      "41/41 [==============================] - 0s 2ms/step\n",
      "*********: 7\n",
      "41/41 [==============================] - 0s 2ms/step\n",
      "*********: 8\n",
      "41/41 [==============================] - 0s 2ms/step\n",
      "*********: 9\n",
      "41/41 [==============================] - 0s 2ms/step\n",
      "*********: 10\n",
      "41/41 [==============================] - 0s 2ms/step\n",
      "*********: 11\n",
      "41/41 [==============================] - 0s 3ms/step\n",
      "*********: 12\n",
      "41/41 [==============================] - 0s 3ms/step\n",
      "*********: 13\n",
      "41/41 [==============================] - 0s 3ms/step\n",
      "*********: 14\n",
      "41/41 [==============================] - 0s 2ms/step\n",
      "*********: 15\n",
      "41/41 [==============================] - 0s 2ms/step\n",
      "*********: 16\n",
      "41/41 [==============================] - 0s 2ms/step\n",
      "*********: 17\n",
      "41/41 [==============================] - 0s 3ms/step\n",
      "*********: 18\n",
      "41/41 [==============================] - 0s 2ms/step\n",
      "*********: 19\n",
      "41/41 [==============================] - 0s 3ms/step\n",
      "*********: 20\n",
      "41/41 [==============================] - 0s 3ms/step\n",
      "*********: 21\n",
      "41/41 [==============================] - 0s 4ms/step\n",
      "*********: 0\n",
      "41/41 [==============================] - 0s 3ms/step\n",
      "*********: 1\n",
      "41/41 [==============================] - 0s 2ms/step\n",
      "*********: 2\n",
      "41/41 [==============================] - 0s 2ms/step\n",
      "*********: 3\n",
      "41/41 [==============================] - 0s 2ms/step\n",
      "*********: 4\n",
      "41/41 [==============================] - 0s 2ms/step\n",
      "*********: 5\n",
      "41/41 [==============================] - 0s 3ms/step\n",
      "*********: 6\n",
      "41/41 [==============================] - 0s 2ms/step\n",
      "*********: 7\n",
      "41/41 [==============================] - 0s 3ms/step\n",
      "*********: 8\n",
      "41/41 [==============================] - 0s 2ms/step\n",
      "*********: 9\n",
      "41/41 [==============================] - 0s 3ms/step\n",
      "*********: 10\n",
      "41/41 [==============================] - 0s 3ms/step\n",
      "*********: 11\n",
      "41/41 [==============================] - 0s 2ms/step\n",
      "*********: 12\n",
      "41/41 [==============================] - 0s 3ms/step\n",
      "*********: 13\n",
      "41/41 [==============================] - 0s 2ms/step\n",
      "*********: 14\n",
      "41/41 [==============================] - 0s 2ms/step\n",
      "*********: 15\n",
      "41/41 [==============================] - 0s 3ms/step\n",
      "*********: 16\n",
      "41/41 [==============================] - 0s 2ms/step\n",
      "*********: 17\n",
      "41/41 [==============================] - 0s 3ms/step\n",
      "*********: 18\n",
      "41/41 [==============================] - 0s 3ms/step\n",
      "*********: 19\n",
      "41/41 [==============================] - 0s 3ms/step\n",
      "*********: 20\n",
      "41/41 [==============================] - 0s 3ms/step\n",
      "*********: 21\n",
      "41/41 [==============================] - 0s 2ms/step\n",
      "*********: 22\n",
      "41/41 [==============================] - 0s 4ms/step\n",
      "*********: 0\n",
      "41/41 [==============================] - 0s 3ms/step\n",
      "*********: 1\n",
      "41/41 [==============================] - 0s 2ms/step\n",
      "*********: 2\n",
      "41/41 [==============================] - 0s 3ms/step\n",
      "*********: 3\n",
      "41/41 [==============================] - 0s 3ms/step\n",
      "*********: 4\n",
      "41/41 [==============================] - 0s 3ms/step\n",
      "*********: 5\n",
      "41/41 [==============================] - 0s 3ms/step\n",
      "*********: 6\n",
      "41/41 [==============================] - 0s 3ms/step\n",
      "*********: 7\n",
      "41/41 [==============================] - 0s 2ms/step\n",
      "*********: 8\n",
      "41/41 [==============================] - 0s 3ms/step\n",
      "*********: 9\n",
      "41/41 [==============================] - 0s 3ms/step\n",
      "*********: 10\n",
      "41/41 [==============================] - 0s 3ms/step\n",
      "*********: 11\n",
      "41/41 [==============================] - 0s 2ms/step\n",
      "*********: 12\n",
      "41/41 [==============================] - 0s 3ms/step\n",
      "*********: 13\n",
      "41/41 [==============================] - 0s 3ms/step\n",
      "*********: 14\n",
      "41/41 [==============================] - 0s 2ms/step\n",
      "*********: 15\n",
      "41/41 [==============================] - 0s 3ms/step\n",
      "*********: 16\n",
      "41/41 [==============================] - 0s 3ms/step\n",
      "*********: 17\n",
      "41/41 [==============================] - 0s 4ms/step\n",
      "*********: 18\n",
      "41/41 [==============================] - 0s 3ms/step\n",
      "*********: 19\n",
      "41/41 [==============================] - 0s 3ms/step\n",
      "*********: 20\n",
      "41/41 [==============================] - 0s 3ms/step\n",
      "*********: 21\n",
      "41/41 [==============================] - 0s 3ms/step\n",
      "*********: 22\n",
      "41/41 [==============================] - 0s 3ms/step\n",
      "*********: 23\n",
      "41/41 [==============================] - 0s 5ms/step\n",
      "*********: 0\n",
      "41/41 [==============================] - 0s 3ms/step\n",
      "*********: 1\n",
      "41/41 [==============================] - 0s 3ms/step\n",
      "*********: 2\n",
      "41/41 [==============================] - 0s 3ms/step\n",
      "*********: 3\n",
      "41/41 [==============================] - 0s 3ms/step\n",
      "*********: 4\n",
      "41/41 [==============================] - 0s 3ms/step\n",
      "*********: 5\n",
      "41/41 [==============================] - 0s 3ms/step\n",
      "*********: 6\n",
      "41/41 [==============================] - 0s 4ms/step\n",
      "*********: 7\n",
      "41/41 [==============================] - 0s 4ms/step\n",
      "*********: 8\n",
      "41/41 [==============================] - 0s 4ms/step\n",
      "*********: 9\n",
      "41/41 [==============================] - 0s 3ms/step\n",
      "*********: 10\n",
      "41/41 [==============================] - 0s 3ms/step\n",
      "*********: 11\n",
      "41/41 [==============================] - 0s 3ms/step\n",
      "*********: 12\n",
      "41/41 [==============================] - 0s 3ms/step\n",
      "*********: 13\n",
      "41/41 [==============================] - 0s 5ms/step\n",
      "*********: 14\n",
      "41/41 [==============================] - 0s 3ms/step\n",
      "*********: 15\n",
      "41/41 [==============================] - 0s 3ms/step\n",
      "*********: 16\n",
      "41/41 [==============================] - 0s 2ms/step\n",
      "*********: 17\n",
      "41/41 [==============================] - 0s 2ms/step\n",
      "*********: 18\n",
      "41/41 [==============================] - 0s 4ms/step\n",
      "*********: 19\n",
      "41/41 [==============================] - 0s 3ms/step\n",
      "*********: 20\n",
      "41/41 [==============================] - 0s 3ms/step\n",
      "*********: 21\n",
      "41/41 [==============================] - 0s 3ms/step\n",
      "*********: 22\n",
      "41/41 [==============================] - 0s 4ms/step\n",
      "*********: 23\n",
      "41/41 [==============================] - 0s 3ms/step\n",
      "*********: 24\n",
      "41/41 [==============================] - 0s 5ms/step\n",
      "*********: 0\n",
      "41/41 [==============================] - 0s 2ms/step\n",
      "*********: 1\n",
      "41/41 [==============================] - 0s 2ms/step\n",
      "*********: 2\n",
      "41/41 [==============================] - 0s 2ms/step\n",
      "*********: 3\n",
      "41/41 [==============================] - 0s 3ms/step\n",
      "*********: 4\n",
      "41/41 [==============================] - 0s 3ms/step\n",
      "*********: 5\n",
      "41/41 [==============================] - 0s 2ms/step\n",
      "*********: 6\n",
      "41/41 [==============================] - 0s 3ms/step\n",
      "*********: 7\n",
      "41/41 [==============================] - 0s 3ms/step\n",
      "*********: 8\n",
      "41/41 [==============================] - 0s 3ms/step\n",
      "*********: 9\n",
      "41/41 [==============================] - 0s 2ms/step\n",
      "*********: 10\n",
      "41/41 [==============================] - 0s 2ms/step\n",
      "*********: 11\n",
      "41/41 [==============================] - 0s 2ms/step\n",
      "*********: 12\n",
      "41/41 [==============================] - 0s 3ms/step\n",
      "*********: 13\n",
      "41/41 [==============================] - 0s 2ms/step\n",
      "*********: 14\n",
      "41/41 [==============================] - 0s 2ms/step\n",
      "*********: 15\n",
      "41/41 [==============================] - 0s 3ms/step\n",
      "*********: 16\n",
      "41/41 [==============================] - 0s 3ms/step\n",
      "*********: 17\n",
      "41/41 [==============================] - 0s 2ms/step\n",
      "*********: 18\n",
      "41/41 [==============================] - 0s 2ms/step\n",
      "*********: 19\n",
      "41/41 [==============================] - 0s 2ms/step\n",
      "*********: 20\n",
      "41/41 [==============================] - 0s 3ms/step\n",
      "*********: 21\n",
      "41/41 [==============================] - 0s 3ms/step\n",
      "*********: 22\n",
      "41/41 [==============================] - 0s 2ms/step\n",
      "*********: 23\n",
      "41/41 [==============================] - 0s 3ms/step\n",
      "*********: 24\n",
      "41/41 [==============================] - 0s 3ms/step\n",
      "*********: 25\n",
      "41/41 [==============================] - 0s 4ms/step\n",
      "*********: 0\n",
      "41/41 [==============================] - 0s 3ms/step\n",
      "*********: 1\n",
      "41/41 [==============================] - 0s 2ms/step\n",
      "*********: 2\n",
      "41/41 [==============================] - 0s 2ms/step\n",
      "*********: 3\n",
      "41/41 [==============================] - 0s 2ms/step\n",
      "*********: 4\n",
      "41/41 [==============================] - 0s 2ms/step\n",
      "*********: 5\n",
      "41/41 [==============================] - 0s 2ms/step\n",
      "*********: 6\n",
      "41/41 [==============================] - 0s 3ms/step\n",
      "*********: 7\n",
      "41/41 [==============================] - 0s 3ms/step\n",
      "*********: 8\n",
      "41/41 [==============================] - 0s 3ms/step\n",
      "*********: 9\n",
      "41/41 [==============================] - 0s 3ms/step\n",
      "*********: 10\n",
      "41/41 [==============================] - 0s 3ms/step\n",
      "*********: 11\n",
      "41/41 [==============================] - 0s 3ms/step\n",
      "*********: 12\n",
      "41/41 [==============================] - 0s 3ms/step\n",
      "*********: 13\n",
      "41/41 [==============================] - 0s 3ms/step\n",
      "*********: 14\n",
      "41/41 [==============================] - 0s 3ms/step\n",
      "*********: 15\n",
      "41/41 [==============================] - 0s 3ms/step\n",
      "*********: 16\n",
      "41/41 [==============================] - 0s 3ms/step\n",
      "*********: 17\n",
      "41/41 [==============================] - 0s 3ms/step\n",
      "*********: 18\n",
      "41/41 [==============================] - 0s 2ms/step\n",
      "*********: 19\n",
      "41/41 [==============================] - 0s 3ms/step\n",
      "*********: 20\n",
      "41/41 [==============================] - 0s 3ms/step\n",
      "*********: 21\n",
      "41/41 [==============================] - 0s 3ms/step\n",
      "*********: 22\n",
      "41/41 [==============================] - 0s 3ms/step\n",
      "*********: 23\n",
      "41/41 [==============================] - 0s 3ms/step\n",
      "*********: 24\n",
      "41/41 [==============================] - 0s 2ms/step\n",
      "*********: 25\n",
      "41/41 [==============================] - 0s 3ms/step\n",
      "*********: 26\n",
      "41/41 [==============================] - 0s 4ms/step\n",
      "*********: 0\n",
      "41/41 [==============================] - 0s 3ms/step\n",
      "*********: 1\n",
      "41/41 [==============================] - 0s 3ms/step\n",
      "*********: 2\n",
      "41/41 [==============================] - 0s 3ms/step\n",
      "*********: 3\n",
      "41/41 [==============================] - 0s 3ms/step\n",
      "*********: 4\n",
      "41/41 [==============================] - 0s 3ms/step\n",
      "*********: 5\n",
      "41/41 [==============================] - 0s 3ms/step\n",
      "*********: 6\n",
      "41/41 [==============================] - 0s 3ms/step\n",
      "*********: 7\n",
      "41/41 [==============================] - 0s 2ms/step\n",
      "*********: 8\n",
      "41/41 [==============================] - 0s 3ms/step\n",
      "*********: 9\n",
      "41/41 [==============================] - 0s 3ms/step\n",
      "*********: 10\n",
      "41/41 [==============================] - 0s 3ms/step\n",
      "*********: 11\n",
      "41/41 [==============================] - 0s 3ms/step\n",
      "*********: 12\n",
      "41/41 [==============================] - 0s 3ms/step\n",
      "*********: 13\n",
      "41/41 [==============================] - 0s 2ms/step\n",
      "*********: 14\n",
      "41/41 [==============================] - 0s 2ms/step\n",
      "*********: 15\n",
      "41/41 [==============================] - 0s 2ms/step\n",
      "*********: 16\n",
      "41/41 [==============================] - 0s 4ms/step\n",
      "*********: 17\n",
      "41/41 [==============================] - 0s 3ms/step\n",
      "*********: 18\n",
      "41/41 [==============================] - 0s 2ms/step\n",
      "*********: 19\n",
      "41/41 [==============================] - 0s 2ms/step\n",
      "*********: 20\n",
      "41/41 [==============================] - 0s 3ms/step\n",
      "*********: 21\n",
      "41/41 [==============================] - 0s 3ms/step\n",
      "*********: 22\n",
      "41/41 [==============================] - 0s 3ms/step\n",
      "*********: 23\n",
      "41/41 [==============================] - 0s 3ms/step\n",
      "*********: 24\n",
      "41/41 [==============================] - 0s 3ms/step\n",
      "*********: 25\n",
      "41/41 [==============================] - 0s 4ms/step\n",
      "*********: 26\n",
      "41/41 [==============================] - 0s 3ms/step\n",
      "*********: 27\n",
      "41/41 [==============================] - 0s 4ms/step\n",
      "*********: 0\n",
      "41/41 [==============================] - 0s 3ms/step\n",
      "*********: 1\n",
      "41/41 [==============================] - 0s 3ms/step\n",
      "*********: 2\n",
      "41/41 [==============================] - 0s 3ms/step\n",
      "*********: 3\n",
      "41/41 [==============================] - 0s 3ms/step\n",
      "*********: 4\n",
      "41/41 [==============================] - 0s 3ms/step\n",
      "*********: 5\n",
      "41/41 [==============================] - 0s 3ms/step\n",
      "*********: 6\n",
      "41/41 [==============================] - 0s 3ms/step\n",
      "*********: 7\n",
      "41/41 [==============================] - 0s 3ms/step\n",
      "*********: 8\n",
      "41/41 [==============================] - 0s 2ms/step\n",
      "*********: 9\n",
      "41/41 [==============================] - 0s 4ms/step\n",
      "*********: 10\n",
      "41/41 [==============================] - 0s 3ms/step\n",
      "*********: 11\n",
      "41/41 [==============================] - 0s 3ms/step\n",
      "*********: 12\n",
      "41/41 [==============================] - 0s 3ms/step\n",
      "*********: 13\n",
      "41/41 [==============================] - 0s 3ms/step\n",
      "*********: 14\n",
      "41/41 [==============================] - 0s 3ms/step\n",
      "*********: 15\n",
      "41/41 [==============================] - 0s 2ms/step\n",
      "*********: 16\n",
      "41/41 [==============================] - 0s 2ms/step\n",
      "*********: 17\n",
      "41/41 [==============================] - 0s 3ms/step\n",
      "*********: 18\n",
      "41/41 [==============================] - 0s 3ms/step\n",
      "*********: 19\n",
      "41/41 [==============================] - 0s 3ms/step\n",
      "*********: 20\n",
      "41/41 [==============================] - 0s 3ms/step\n",
      "*********: 21\n",
      "41/41 [==============================] - 0s 3ms/step\n",
      "*********: 22\n",
      "41/41 [==============================] - 0s 3ms/step\n",
      "*********: 23\n",
      "41/41 [==============================] - 0s 3ms/step\n",
      "*********: 24\n",
      "41/41 [==============================] - 0s 3ms/step\n",
      "*********: 25\n",
      "41/41 [==============================] - 0s 2ms/step\n",
      "*********: 26\n",
      "41/41 [==============================] - 0s 2ms/step\n",
      "*********: 27\n",
      "41/41 [==============================] - 0s 3ms/step\n",
      "*********: 28\n",
      "41/41 [==============================] - 0s 6ms/step\n",
      "*********: 0\n",
      "41/41 [==============================] - 0s 3ms/step\n",
      "*********: 1\n",
      "41/41 [==============================] - 0s 3ms/step\n",
      "*********: 2\n",
      "41/41 [==============================] - 0s 3ms/step\n",
      "*********: 3\n",
      "41/41 [==============================] - 0s 3ms/step\n",
      "*********: 4\n",
      "41/41 [==============================] - 0s 3ms/step\n",
      "*********: 5\n",
      "41/41 [==============================] - 0s 3ms/step\n",
      "*********: 6\n",
      "41/41 [==============================] - 0s 3ms/step\n",
      "*********: 7\n",
      "41/41 [==============================] - 0s 3ms/step\n",
      "*********: 8\n",
      "41/41 [==============================] - 0s 3ms/step\n",
      "*********: 9\n",
      "41/41 [==============================] - 0s 3ms/step\n",
      "*********: 10\n",
      "41/41 [==============================] - 0s 3ms/step\n",
      "*********: 11\n",
      "41/41 [==============================] - 0s 3ms/step\n",
      "*********: 12\n",
      "41/41 [==============================] - 0s 3ms/step\n",
      "*********: 13\n",
      "41/41 [==============================] - 0s 3ms/step\n",
      "*********: 14\n",
      "41/41 [==============================] - 0s 3ms/step\n",
      "*********: 15\n",
      "41/41 [==============================] - 0s 3ms/step\n",
      "*********: 16\n",
      "41/41 [==============================] - 0s 3ms/step\n",
      "*********: 17\n",
      "41/41 [==============================] - 0s 2ms/step\n",
      "*********: 18\n",
      "41/41 [==============================] - 0s 2ms/step\n",
      "*********: 19\n",
      "41/41 [==============================] - 0s 3ms/step\n",
      "*********: 20\n",
      "41/41 [==============================] - 0s 3ms/step\n",
      "*********: 21\n",
      "41/41 [==============================] - 0s 3ms/step\n",
      "*********: 22\n",
      "41/41 [==============================] - 0s 3ms/step\n",
      "*********: 23\n",
      "41/41 [==============================] - 0s 3ms/step\n",
      "*********: 24\n",
      "41/41 [==============================] - 0s 3ms/step\n",
      "*********: 25\n",
      "41/41 [==============================] - 0s 3ms/step\n",
      "*********: 26\n",
      "41/41 [==============================] - 0s 3ms/step\n",
      "*********: 27\n",
      "41/41 [==============================] - 0s 3ms/step\n",
      "*********: 28\n",
      "41/41 [==============================] - 0s 3ms/step\n",
      "*********: 29\n",
      "41/41 [==============================] - 0s 4ms/step\n"
     ]
    }
   ],
   "source": [
    "f1_train = []\n",
    "acc_train = []\n",
    "for i in range(1,ensemble_size+1):\n",
    "    data = some_pred(training_split, i)\n",
    "    ans = majority(data)\n",
    "    f1_train.append(getf1(train_result, ans))\n",
    "    acc_train.append(accuracy_score(train_result, ans))\n",
    "    # ConfusionMatrixDisplay.from_predictions(test_result,ans,cmap='Greens')"
   ]
  },
  {
   "cell_type": "code",
   "execution_count": 201,
   "metadata": {
    "pycharm": {
     "name": "#%%\n"
    }
   },
   "outputs": [
    {
     "data": {
      "text/plain": "[<matplotlib.lines.Line2D at 0x58b8b09d0>]"
     },
     "execution_count": 201,
     "metadata": {},
     "output_type": "execute_result"
    },
    {
     "data": {
      "text/plain": "<Figure size 640x480 with 1 Axes>",
      "image/png": "[encoded data removed]"
     },
     "metadata": {},
     "output_type": "display_data"
    }
   ],
   "source": [
    "plt.plot(sample_percentage)"
   ]
  },
  {
   "cell_type": "code",
   "execution_count": 202,
   "metadata": {
    "pycharm": {
     "name": "#%%\n"
    }
   },
   "outputs": [
    {
     "data": {
      "text/plain": "[<matplotlib.lines.Line2D at 0x554cc07c0>]"
     },
     "execution_count": 202,
     "metadata": {},
     "output_type": "execute_result"
    },
    {
     "data": {
      "text/plain": "<Figure size 640x480 with 1 Axes>",
      "image/png": "[encoded data removed]"
     },
     "metadata": {},
     "output_type": "display_data"
    }
   ],
   "source": [
    "plt.plot([i[0] for i in f1_train])\n",
    "plt.plot([i[0] for i in f1_test])\n",
    "# plt.plot()"
   ]
  },
  {
   "cell_type": "code",
   "execution_count": 203,
   "metadata": {
    "pycharm": {
     "name": "#%%\n"
    }
   },
   "outputs": [
    {
     "data": {
      "text/plain": "[<matplotlib.lines.Line2D at 0x31c2a8c70>]"
     },
     "execution_count": 203,
     "metadata": {},
     "output_type": "execute_result"
    },
    {
     "data": {
      "text/plain": "<Figure size 640x480 with 1 Axes>",
      "image/png": "[encoded data removed]"
     },
     "metadata": {},
     "output_type": "display_data"
    }
   ],
   "source": [
    "plt.plot([i[1] for i in f1_train])\n",
    "plt.plot([i[1] for i in f1_test])"
   ]
  },
  {
   "cell_type": "code",
   "execution_count": 205,
   "metadata": {
    "pycharm": {
     "name": "#%%\n"
    }
   },
   "outputs": [
    {
     "data": {
      "text/plain": "[<matplotlib.lines.Line2D at 0x2c0e56400>]"
     },
     "execution_count": 205,
     "metadata": {},
     "output_type": "execute_result"
    },
    {
     "data": {
      "text/plain": "<Figure size 640x480 with 1 Axes>",
      "image/png": "[encoded data removed]"
     },
     "metadata": {},
     "output_type": "display_data"
    }
   ],
   "source": [
    "plt.plot([i[2] for i in f1_train])\n",
    "plt.plot([i[2] for i in f1_test])"
   ]
  },
  {
   "cell_type": "code",
   "execution_count": 186,
   "metadata": {
    "pycharm": {
     "name": "#%%\n"
    }
   },
   "outputs": [
    {
     "data": {
      "text/plain": "[<matplotlib.lines.Line2D at 0x2dde66160>]"
     },
     "execution_count": 186,
     "metadata": {},
     "output_type": "execute_result"
    },
    {
     "data": {
      "text/plain": "<Figure size 640x480 with 1 Axes>",
      "image/png": "[encoded data removed]"
     },
     "metadata": {},
     "output_type": "display_data"
    }
   ],
   "source": [
    "plt.plot(acc_train)\n",
    "plt.plot(acc_test)"
   ]
  },
  {
   "cell_type": "code",
   "execution_count": 218,
   "metadata": {
    "pycharm": {
     "name": "#%%\n"
    }
   },
   "outputs": [
    {
     "data": {
      "text/plain": "(0.7142857142857143, 0.75, 0.7317073170731706)"
     },
     "execution_count": 218,
     "metadata": {},
     "output_type": "execute_result"
    }
   ],
   "source": [
    "f1_test[17]"
   ]
  },
  {
   "cell_type": "code",
   "execution_count": 219,
   "metadata": {
    "pycharm": {
     "name": "#%%\n"
    }
   },
   "outputs": [
    {
     "name": "stdout",
     "output_type": "stream",
     "text": [
      "*********: 0\n",
      "41/41 [==============================] - 0s 3ms/step\n",
      "*********: 1\n",
      "41/41 [==============================] - 0s 3ms/step\n",
      "*********: 2\n",
      "41/41 [==============================] - 0s 3ms/step\n",
      "*********: 3\n",
      "41/41 [==============================] - 0s 3ms/step\n",
      "*********: 4\n",
      "41/41 [==============================] - 0s 3ms/step\n",
      "*********: 5\n",
      "41/41 [==============================] - 0s 3ms/step\n",
      "*********: 6\n",
      "41/41 [==============================] - 0s 3ms/step\n",
      "*********: 7\n",
      "41/41 [==============================] - 0s 3ms/step\n",
      "*********: 8\n",
      "41/41 [==============================] - 0s 3ms/step\n",
      "*********: 9\n",
      "41/41 [==============================] - 0s 3ms/step\n",
      "*********: 10\n",
      "41/41 [==============================] - 0s 3ms/step\n",
      "*********: 11\n",
      "41/41 [==============================] - 0s 3ms/step\n",
      "*********: 12\n",
      "41/41 [==============================] - 0s 3ms/step\n",
      "*********: 13\n",
      "41/41 [==============================] - 0s 3ms/step\n",
      "*********: 14\n",
      "41/41 [==============================] - 0s 3ms/step\n",
      "*********: 15\n",
      "41/41 [==============================] - 0s 2ms/step\n",
      "*********: 16\n",
      "41/41 [==============================] - 0s 2ms/step\n",
      "*********: 17\n",
      "41/41 [==============================] - 0s 3ms/step\n",
      "*********: 0\n",
      "3/3 [==============================] - 0s 3ms/step\n",
      "*********: 1\n",
      "3/3 [==============================] - 0s 3ms/step\n",
      "*********: 2\n",
      "3/3 [==============================] - 0s 3ms/step\n",
      "*********: 3\n",
      "3/3 [==============================] - 0s 3ms/step\n",
      "*********: 4\n",
      "3/3 [==============================] - 0s 3ms/step\n",
      "*********: 5\n",
      "3/3 [==============================] - 0s 3ms/step\n",
      "*********: 6\n",
      "3/3 [==============================] - 0s 3ms/step\n",
      "*********: 7\n",
      "3/3 [==============================] - 0s 3ms/step\n",
      "*********: 8\n",
      "3/3 [==============================] - 0s 3ms/step\n",
      "*********: 9\n",
      "3/3 [==============================] - 0s 3ms/step\n",
      "*********: 10\n",
      "3/3 [==============================] - 0s 3ms/step\n",
      "*********: 11\n",
      "3/3 [==============================] - 0s 3ms/step\n",
      "*********: 12\n",
      "3/3 [==============================] - 0s 3ms/step\n",
      "*********: 13\n",
      "3/3 [==============================] - 0s 3ms/step\n",
      "*********: 14\n",
      "3/3 [==============================] - 0s 3ms/step\n",
      "*********: 15\n",
      "3/3 [==============================] - 0s 3ms/step\n",
      "*********: 16\n",
      "3/3 [==============================] - 0s 3ms/step\n",
      "*********: 17\n",
      "3/3 [==============================] - 0s 3ms/step\n"
     ]
    }
   ],
   "source": [
    "value = 17\n",
    "data = some_pred(training_split, value+1)\n",
    "ans = majority(data)\n",
    "data = some_pred(test_split, value +1)\n",
    "ans1 = majority(data)\n"
   ]
  },
  {
   "cell_type": "code",
   "execution_count": 220,
   "metadata": {
    "pycharm": {
     "name": "#%%\n"
    }
   },
   "outputs": [
    {
     "data": {
      "text/plain": "<sklearn.metrics._plot.confusion_matrix.ConfusionMatrixDisplay at 0x539dde9d0>"
     },
     "execution_count": 220,
     "metadata": {},
     "output_type": "execute_result"
    },
    {
     "data": {
      "text/plain": "<Figure size 640x480 with 2 Axes>",
      "image/png": "[encoded data removed]"
     },
     "metadata": {},
     "output_type": "display_data"
    },
    {
     "data": {
      "text/plain": "<Figure size 640x480 with 2 Axes>",
      "image/png": "[encoded data removed]"
     },
     "metadata": {},
     "output_type": "display_data"
    }
   ],
   "source": [
    "ConfusionMatrixDisplay.from_predictions(test_result,ans1,cmap='Greens')\n",
    "# plt.plot(f1_test)\n",
    "ConfusionMatrixDisplay.from_predictions(train_result,ans,cmap='Greens')"
   ]
  },
  {
   "cell_type": "code",
   "execution_count": 221,
   "metadata": {
    "pycharm": {
     "name": "#%%\n"
    }
   },
   "outputs": [
    {
     "name": "stdout",
     "output_type": "stream",
     "text": [
      "*********: 0\n",
      "41/41 [==============================] - 0s 3ms/step\n",
      "*********: 1\n",
      "41/41 [==============================] - 0s 3ms/step\n",
      "*********: 2\n",
      "41/41 [==============================] - 0s 3ms/step\n",
      "*********: 3\n",
      "41/41 [==============================] - 0s 3ms/step\n",
      "*********: 4\n",
      "41/41 [==============================] - 0s 3ms/step\n",
      "*********: 5\n",
      "41/41 [==============================] - 0s 3ms/step\n",
      "*********: 6\n",
      "41/41 [==============================] - 0s 2ms/step\n",
      "*********: 7\n",
      "41/41 [==============================] - 0s 3ms/step\n",
      "*********: 8\n",
      "41/41 [==============================] - 0s 2ms/step\n",
      "*********: 9\n",
      "41/41 [==============================] - 0s 3ms/step\n",
      "*********: 10\n",
      "41/41 [==============================] - 0s 3ms/step\n",
      "*********: 11\n",
      "41/41 [==============================] - 0s 3ms/step\n",
      "*********: 12\n",
      "41/41 [==============================] - 0s 3ms/step\n",
      "*********: 13\n",
      "41/41 [==============================] - 0s 3ms/step\n",
      "*********: 14\n",
      "41/41 [==============================] - 0s 3ms/step\n",
      "*********: 15\n",
      "41/41 [==============================] - 0s 3ms/step\n",
      "*********: 16\n",
      "41/41 [==============================] - 0s 3ms/step\n",
      "*********: 17\n",
      "41/41 [==============================] - 0s 3ms/step\n",
      "*********: 18\n",
      "41/41 [==============================] - 0s 3ms/step\n",
      "*********: 19\n",
      "41/41 [==============================] - 0s 3ms/step\n",
      "*********: 20\n",
      "41/41 [==============================] - 0s 3ms/step\n",
      "*********: 21\n",
      "41/41 [==============================] - 0s 3ms/step\n",
      "*********: 22\n",
      "41/41 [==============================] - 0s 2ms/step\n",
      "*********: 23\n",
      "41/41 [==============================] - 0s 2ms/step\n",
      "*********: 24\n",
      "41/41 [==============================] - 0s 2ms/step\n",
      "*********: 25\n",
      "41/41 [==============================] - 0s 3ms/step\n",
      "*********: 26\n",
      "41/41 [==============================] - 0s 2ms/step\n",
      "*********: 27\n",
      "41/41 [==============================] - 0s 3ms/step\n",
      "*********: 28\n",
      "41/41 [==============================] - 0s 3ms/step\n",
      "*********: 0\n",
      "3/3 [==============================] - 0s 5ms/step\n",
      "*********: 1\n",
      "3/3 [==============================] - 0s 3ms/step\n",
      "*********: 2\n",
      "3/3 [==============================] - 0s 3ms/step\n",
      "*********: 3\n",
      "3/3 [==============================] - 0s 4ms/step\n",
      "*********: 4\n",
      "3/3 [==============================] - 0s 3ms/step\n",
      "*********: 5\n",
      "3/3 [==============================] - 0s 4ms/step\n",
      "*********: 6\n",
      "3/3 [==============================] - 0s 3ms/step\n",
      "*********: 7\n",
      "3/3 [==============================] - 0s 3ms/step\n",
      "*********: 8\n",
      "3/3 [==============================] - 0s 3ms/step\n",
      "*********: 9\n",
      "3/3 [==============================] - 0s 3ms/step\n",
      "*********: 10\n",
      "3/3 [==============================] - 0s 3ms/step\n",
      "*********: 11\n",
      "3/3 [==============================] - 0s 3ms/step\n",
      "*********: 12\n",
      "3/3 [==============================] - 0s 3ms/step\n",
      "*********: 13\n",
      "3/3 [==============================] - 0s 3ms/step\n",
      "*********: 14\n",
      "3/3 [==============================] - 0s 3ms/step\n",
      "*********: 15\n",
      "3/3 [==============================] - 0s 3ms/step\n",
      "*********: 16\n",
      "3/3 [==============================] - 0s 3ms/step\n",
      "*********: 17\n",
      "3/3 [==============================] - 0s 3ms/step\n",
      "*********: 18\n",
      "3/3 [==============================] - 0s 3ms/step\n",
      "*********: 19\n",
      "3/3 [==============================] - 0s 3ms/step\n",
      "*********: 20\n",
      "3/3 [==============================] - 0s 3ms/step\n",
      "*********: 21\n",
      "3/3 [==============================] - 0s 3ms/step\n",
      "*********: 22\n",
      "3/3 [==============================] - 0s 3ms/step\n",
      "*********: 23\n",
      "3/3 [==============================] - 0s 3ms/step\n",
      "*********: 24\n",
      "3/3 [==============================] - 0s 3ms/step\n",
      "*********: 25\n",
      "3/3 [==============================] - 0s 3ms/step\n",
      "*********: 26\n",
      "3/3 [==============================] - 0s 3ms/step\n",
      "*********: 27\n",
      "3/3 [==============================] - 0s 22ms/step\n",
      "*********: 28\n",
      "3/3 [==============================] - 0s 9ms/step\n"
     ]
    }
   ],
   "source": [
    "value = 28\n",
    "data = some_pred(training_split, value+1)\n",
    "ans = majority(data)\n",
    "data = some_pred(test_split, value+1 )\n",
    "ans1 = majority(data)"
   ]
  },
  {
   "cell_type": "code",
   "execution_count": 222,
   "metadata": {
    "pycharm": {
     "name": "#%%\n"
    }
   },
   "outputs": [
    {
     "data": {
      "text/plain": "<sklearn.metrics._plot.confusion_matrix.ConfusionMatrixDisplay at 0x2f40bb700>"
     },
     "execution_count": 222,
     "metadata": {},
     "output_type": "execute_result"
    },
    {
     "data": {
      "text/plain": "<Figure size 640x480 with 2 Axes>",
      "image/png": "[encoded data removed]"
     },
     "metadata": {},
     "output_type": "display_data"
    },
    {
     "data": {
      "text/plain": "<Figure size 640x480 with 2 Axes>",
      "image/png": "[encoded data removed]"
     },
     "metadata": {},
     "output_type": "display_data"
    }
   ],
   "source": [
    "ConfusionMatrixDisplay.from_predictions(test_result,ans1,cmap='Greens')\n",
    "# plt.plot(f1_test)\n",
    "ConfusionMatrixDisplay.from_predictions(train_result,ans,cmap='Greens')"
   ]
  },
  {
   "cell_type": "code",
   "execution_count": 215,
   "metadata": {
    "pycharm": {
     "name": "#%%\n"
    }
   },
   "outputs": [
    {
     "name": "stdout",
     "output_type": "stream",
     "text": [
      "*********: 0\n",
      "11/11 [==============================] - 0s 9ms/step\n",
      "*********: 1\n",
      "11/11 [==============================] - 0s 13ms/step\n",
      "*********: 2\n",
      "11/11 [==============================] - 0s 7ms/step\n",
      "*********: 3\n",
      "11/11 [==============================] - 0s 7ms/step\n",
      "*********: 4\n",
      "11/11 [==============================] - 0s 12ms/step\n",
      "*********: 5\n",
      "11/11 [==============================] - 0s 7ms/step\n",
      "*********: 6\n",
      "11/11 [==============================] - 0s 9ms/step\n",
      "*********: 7\n",
      "11/11 [==============================] - 0s 7ms/step\n",
      "*********: 8\n",
      "11/11 [==============================] - 0s 8ms/step\n",
      "*********: 9\n",
      "11/11 [==============================] - 0s 8ms/step\n",
      "*********: 10\n",
      "11/11 [==============================] - 0s 8ms/step\n",
      "*********: 11\n",
      "11/11 [==============================] - 0s 7ms/step\n",
      "*********: 12\n",
      "11/11 [==============================] - 0s 6ms/step\n",
      "*********: 13\n",
      "11/11 [==============================] - 0s 9ms/step\n",
      "*********: 14\n",
      "11/11 [==============================] - 0s 6ms/step\n",
      "*********: 15\n",
      "11/11 [==============================] - 0s 6ms/step\n",
      "*********: 16\n",
      "11/11 [==============================] - 0s 7ms/step\n",
      "*********: 17\n",
      "11/11 [==============================] - 0s 7ms/step\n",
      "*********: 18\n",
      "11/11 [==============================] - 0s 9ms/step\n",
      "*********: 19\n",
      "11/11 [==============================] - 0s 8ms/step\n",
      "*********: 20\n",
      "11/11 [==============================] - 0s 6ms/step\n",
      "*********: 21\n",
      "11/11 [==============================] - 0s 11ms/step\n",
      "*********: 22\n",
      "11/11 [==============================] - 0s 13ms/step\n",
      "*********: 23\n",
      "11/11 [==============================] - 0s 9ms/step\n",
      "*********: 24\n",
      "11/11 [==============================] - 0s 6ms/step\n",
      "*********: 25\n",
      "11/11 [==============================] - 0s 9ms/step\n",
      "*********: 26\n",
      "11/11 [==============================] - 0s 10ms/step\n",
      "*********: 27\n",
      "11/11 [==============================] - 0s 6ms/step\n",
      "*********: 28\n",
      "11/11 [==============================] - 0s 6ms/step\n"
     ]
    }
   ],
   "source": [
    "table_test = pd.read_table('./1663769555_8653905_test.txt', names=['sequence'])\n",
    "unlabeled_test = vectorizer_best.transform(table_test.sequence).toarray()\n",
    "predicted_data = majority(some_pred(unlabeled_test, 28+1))"
   ]
  },
  {
   "cell_type": "code",
   "execution_count": 216,
   "metadata": {
    "pycharm": {
     "name": "#%%\n"
    }
   },
   "outputs": [
    {
     "data": {
      "text/plain": "350"
     },
     "execution_count": 216,
     "metadata": {},
     "output_type": "execute_result"
    }
   ],
   "source": [
    "len(predicted_data)"
   ]
  },
  {
   "cell_type": "code",
   "execution_count": 217,
   "metadata": {
    "pycharm": {
     "name": "#%%\n"
    }
   },
   "outputs": [],
   "source": [
    "import csv\n",
    "outfile = open('./results.csv','w')\n",
    "out = csv.writer(outfile)\n",
    "out.writerows(map(lambda x: [x], predicted_data))\n",
    "outfile.close()"
   ]
  },
  {
   "cell_type": "code",
   "execution_count": null,
   "outputs": [],
   "source": [],
   "metadata": {
    "collapsed": false,
    "pycharm": {
     "name": "#%%\n"
    }
   }
  }
 ],
 "metadata": {
  "kernelspec": {
   "display_name": "Python 3 (ipykernel)",
   "language": "python",
   "name": "python3"
  },
  "language_info": {
   "codemirror_mode": {
    "name": "ipython",
    "version": 3
   },
   "file_extension": ".py",
   "mimetype": "text/x-python",
   "name": "python",
   "nbconvert_exporter": "python",
   "pygments_lexer": "ipython3",
   "version": "3.8.13"
  }
 },
 "nbformat": 4,
 "nbformat_minor": 1
}